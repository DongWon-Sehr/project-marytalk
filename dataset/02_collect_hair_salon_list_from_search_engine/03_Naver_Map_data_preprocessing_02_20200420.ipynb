{
 "cells": [
  {
   "cell_type": "markdown",
   "metadata": {},
   "source": [
    "# 서울시 미용실 데이터 - NAVER Map(v4) 데이터 전처리(2)\n",
    "## 작성자(최종수정일) : 서동원(2020.04.20)\n",
    "- 검색 데이터 필요한 정보 추려내기\n",
    "- (1) 중복 제거하기\n",
    "- (2) 카테고리가 미용실 관련 데이터만 남기기\n",
    "- (3) 주소가 서울인 데이터만 남기기"
   ]
  },
  {
   "cell_type": "code",
   "execution_count": 21,
   "metadata": {},
   "outputs": [],
   "source": [
    "import numpy as np\n",
    "import pandas as pd\n",
    "from pandas import Series, DataFrame\n",
    "import re\n",
    "import requests\n",
    "import time\n",
    "pd.set_option('display.max_columns',50) # DataFrame truncation 없이 보기\n",
    "pd.set_option('display.max_rows',100)\n",
    "from tqdm import tqdm\n",
    "import math"
   ]
  },
  {
   "cell_type": "markdown",
   "metadata": {},
   "source": [
    "## 네이버 검색 데이터"
   ]
  },
  {
   "cell_type": "code",
   "execution_count": 24,
   "metadata": {},
   "outputs": [],
   "source": [
    "# 파일 읽어오기\n",
    "naver_search_raw = pd.read_csv('./data/naver_map_seoul_salon_output_data_2020-04-20_modified.csv', index_col=0)\n",
    "pre_count = len(naver_search_raw)"
   ]
  },
  {
   "cell_type": "code",
   "execution_count": 25,
   "metadata": {},
   "outputs": [
    {
     "name": "stdout",
     "output_type": "stream",
     "text": [
      "중복 제거 전 개수 : 26902\n",
      "중복 제거 후 개수 : 24215\n"
     ]
    }
   ],
   "source": [
    "# 중복제거\n",
    "naver_search_raw.drop_duplicates(inplace=True)\n",
    "print('중복 제거 전 개수 :', pre_count)\n",
    "print('중복 제거 후 개수 :', len(naver_search_raw))\n",
    "pre_count = len(naver_search_raw)"
   ]
  },
  {
   "cell_type": "code",
   "execution_count": 26,
   "metadata": {},
   "outputs": [
    {
     "name": "stdout",
     "output_type": "stream",
     "text": [
      "<class 'pandas.core.frame.DataFrame'>\n",
      "Int64Index: 24215 entries, 0 to 105\n",
      "Data columns (total 10 columns):\n",
      "업소ID       24215 non-null object\n",
      "업소명        24213 non-null object\n",
      "소재지전화번호    16946 non-null object\n",
      "소재지도로명     24215 non-null object\n",
      "카테고리       24215 non-null object\n",
      "검색인덱스      24215 non-null int64\n",
      "검색어        24215 non-null object\n",
      "검색건수       24215 non-null int64\n",
      "수집일        24215 non-null object\n",
      "검색주소타입     106 non-null float64\n",
      "dtypes: float64(1), int64(2), object(7)\n",
      "memory usage: 2.0+ MB\n"
     ]
    }
   ],
   "source": [
    "naver_search_raw.info()"
   ]
  },
  {
   "cell_type": "code",
   "execution_count": 27,
   "metadata": {
    "scrolled": false
   },
   "outputs": [
    {
     "data": {
      "text/plain": [
       "['생활,편의 > 미용실',\n",
       " '미용 > 미용실',\n",
       " '미용 > 머리염색',\n",
       " '미용 > 네일아트,네일샵',\n",
       " '미용 > 메이크업',\n",
       " '생활,편의 > 미용',\n",
       " '미용 > 피부,체형관리',\n",
       " '미용 > 마사지,지압',\n",
       " '미용 > 속눈썹증모,연장',\n",
       " '생활,편의 > 남성전문미용실',\n",
       " '미용 > 두피,탈모관리',\n",
       " '미용 > 경락마사지',\n",
       " '쇼핑,유통 > 미용기기,재료',\n",
       " '협회,단체 > 화장품,미용',\n",
       " '직업,기술학원 > 미용',\n",
       " '미용실 > 어린이미용실',\n",
       " '반려동물 > 반려동물미용',\n",
       " '미용 > 다이어트,비만',\n",
       " '직업,기술학원 > 애견미용']"
      ]
     },
     "execution_count": 27,
     "metadata": {},
     "output_type": "execute_result"
    }
   ],
   "source": [
    "# '미용' 단어가 들어간 카테고리만 뽑기\n",
    "list(filter(lambda x: '미용' in x, naver_search_raw['카테고리'].unique()))"
   ]
  },
  {
   "cell_type": "markdown",
   "metadata": {},
   "source": [
    "### 미용이 들어간 카테고리 중 실제로 필요한 카테고리는 다음과 같다.\n",
    "    - (1) '생활,편의 > 미용실'\n",
    "    - (2) '미용 > 미용실'\n",
    "    - (3) '미용 > 머리염색'\n",
    "    - (4) '생활,편의 > 미용'\n",
    "    - (5) '생활,편의 > 남성전문미용실'\n",
    "    - (6) '미용실 > 어린이미용실'"
   ]
  },
  {
   "cell_type": "code",
   "execution_count": 28,
   "metadata": {},
   "outputs": [
    {
     "data": {
      "text/plain": [
       "['생활,편의 > 미용실',\n",
       " '미용 > 미용실',\n",
       " '미용 > 머리염색',\n",
       " '생활,편의 > 미용',\n",
       " '생활,편의 > 남성전문미용실',\n",
       " '미용실 > 어린이미용실']"
      ]
     },
     "execution_count": 28,
     "metadata": {},
     "output_type": "execute_result"
    }
   ],
   "source": [
    "# 필요한 카케고리 리스트로 저장\n",
    "category_list = ['생활,편의 > 미용실'\n",
    "                , '미용 > 미용실'\n",
    "                , '미용 > 머리염색'\n",
    "                , '생활,편의 > 미용'\n",
    "                , '생활,편의 > 남성전문미용실'\n",
    "                , '미용실 > 어린이미용실']\n",
    "category_list"
   ]
  },
  {
   "cell_type": "code",
   "execution_count": 29,
   "metadata": {},
   "outputs": [
    {
     "name": "stdout",
     "output_type": "stream",
     "text": [
      "카테고리로 제거 전 개수 : 24215\n",
      "카테고리로 제거 후 개수 : 21783\n"
     ]
    }
   ],
   "source": [
    "# 카테고리로 제거하기\n",
    "naver_search_raw.drop(\n",
    "      index=naver_search_raw[~naver_search_raw['카테고리'].isin(category_list)].index\n",
    "    , inplace=True\n",
    ")\n",
    "print('카테고리로 제거 전 개수 :', pre_count)\n",
    "print('카테고리로 제거 후 개수 :', len(naver_search_raw))\n",
    "pre_count = len(naver_search_raw)"
   ]
  },
  {
   "cell_type": "code",
   "execution_count": 30,
   "metadata": {},
   "outputs": [
    {
     "data": {
      "text/plain": [
       "array(['생활,편의 > 미용실', '미용 > 미용실', '미용 > 머리염색', '생활,편의 > 미용',\n",
       "       '생활,편의 > 남성전문미용실', '미용실 > 어린이미용실'], dtype=object)"
      ]
     },
     "execution_count": 30,
     "metadata": {},
     "output_type": "execute_result"
    }
   ],
   "source": [
    "# 카테고리로 확인\n",
    "# 남긴 카테고리 이외에는 검색되지 않는다.\n",
    "naver_search_raw['카테고리'].unique()"
   ]
  },
  {
   "cell_type": "code",
   "execution_count": 31,
   "metadata": {},
   "outputs": [
    {
     "name": "stdout",
     "output_type": "stream",
     "text": [
      "<class 'pandas.core.frame.DataFrame'>\n",
      "Int64Index: 21783 entries, 0 to 105\n",
      "Data columns (total 10 columns):\n",
      "업소ID       21783 non-null object\n",
      "업소명        21781 non-null object\n",
      "소재지전화번호    15252 non-null object\n",
      "소재지도로명     21783 non-null object\n",
      "카테고리       21783 non-null object\n",
      "검색인덱스      21783 non-null int64\n",
      "검색어        21783 non-null object\n",
      "검색건수       21783 non-null int64\n",
      "수집일        21783 non-null object\n",
      "검색주소타입     44 non-null float64\n",
      "dtypes: float64(1), int64(2), object(7)\n",
      "memory usage: 1.8+ MB\n"
     ]
    }
   ],
   "source": [
    "naver_search_raw.info()"
   ]
  },
  {
   "cell_type": "code",
   "execution_count": 32,
   "metadata": {},
   "outputs": [
    {
     "name": "stdout",
     "output_type": "stream",
     "text": [
      "팬시색인으로 중복 제거 전 개수 : 21783\n",
      "팬시색인으로 중복 제거 후 개수 : 14130\n"
     ]
    }
   ],
   "source": [
    "# 네이버 지도에 검색할떄 사용한 업소명인 공공데이터 자체에 중복데이터가 있을 수 있다.\n",
    "# '업소ID', '업소명', '소재지전화번호', '소재지도로명', '카테고리'\n",
    "# 5가지 컬럼으로 팬시색인하여 중복값을 다시 한번 제거한다.\n",
    "naver_search_raw.drop(\n",
    "      index = naver_search_raw[naver_search_raw[['업소ID', '업소명', '소재지전화번호', '소재지도로명', '카테고리']].duplicated()].index\n",
    "    , inplace=True\n",
    ")\n",
    "print('팬시색인으로 중복 제거 전 개수 :', pre_count)\n",
    "print('팬시색인으로 중복 제거 후 개수 :', len(naver_search_raw))\n",
    "pre_count = len(naver_search_raw)"
   ]
  },
  {
   "cell_type": "code",
   "execution_count": 33,
   "metadata": {},
   "outputs": [
    {
     "name": "stdout",
     "output_type": "stream",
     "text": [
      "<class 'pandas.core.frame.DataFrame'>\n",
      "Int64Index: 14130 entries, 0 to 104\n",
      "Data columns (total 10 columns):\n",
      "업소ID       14130 non-null object\n",
      "업소명        14129 non-null object\n",
      "소재지전화번호    10069 non-null object\n",
      "소재지도로명     14130 non-null object\n",
      "카테고리       14130 non-null object\n",
      "검색인덱스      14130 non-null int64\n",
      "검색어        14130 non-null object\n",
      "검색건수       14130 non-null int64\n",
      "수집일        14130 non-null object\n",
      "검색주소타입     13 non-null float64\n",
      "dtypes: float64(1), int64(2), object(7)\n",
      "memory usage: 1.2+ MB\n"
     ]
    }
   ],
   "source": [
    "naver_search_raw.info()"
   ]
  },
  {
   "cell_type": "code",
   "execution_count": 34,
   "metadata": {},
   "outputs": [
    {
     "data": {
      "text/html": [
       "<div>\n",
       "<style scoped>\n",
       "    .dataframe tbody tr th:only-of-type {\n",
       "        vertical-align: middle;\n",
       "    }\n",
       "\n",
       "    .dataframe tbody tr th {\n",
       "        vertical-align: top;\n",
       "    }\n",
       "\n",
       "    .dataframe thead th {\n",
       "        text-align: right;\n",
       "    }\n",
       "</style>\n",
       "<table border=\"1\" class=\"dataframe\">\n",
       "  <thead>\n",
       "    <tr style=\"text-align: right;\">\n",
       "      <th></th>\n",
       "      <th>업소ID</th>\n",
       "      <th>업소명</th>\n",
       "      <th>소재지전화번호</th>\n",
       "      <th>소재지도로명</th>\n",
       "      <th>카테고리</th>\n",
       "      <th>검색인덱스</th>\n",
       "      <th>검색어</th>\n",
       "      <th>검색건수</th>\n",
       "      <th>수집일</th>\n",
       "      <th>검색주소타입</th>\n",
       "    </tr>\n",
       "  </thead>\n",
       "  <tbody>\n",
       "    <tr>\n",
       "      <td>15848</td>\n",
       "      <td>s472920069</td>\n",
       "      <td>NaN</td>\n",
       "      <td>NaN</td>\n",
       "      <td>서울특별시 서대문구 연희로11길 30</td>\n",
       "      <td>생활,편의 &gt; 미용실</td>\n",
       "      <td>8640</td>\n",
       "      <td>헤어아트</td>\n",
       "      <td>32</td>\n",
       "      <td>2020-04-19</td>\n",
       "      <td>NaN</td>\n",
       "    </tr>\n",
       "  </tbody>\n",
       "</table>\n",
       "</div>"
      ],
      "text/plain": [
       "             업소ID  업소명 소재지전화번호                소재지도로명         카테고리  검색인덱스  \\\n",
       "15848  s472920069  NaN     NaN  서울특별시 서대문구 연희로11길 30  생활,편의 > 미용실   8640   \n",
       "\n",
       "        검색어  검색건수         수집일  검색주소타입  \n",
       "15848  헤어아트    32  2020-04-19     NaN  "
      ]
     },
     "execution_count": 34,
     "metadata": {},
     "output_type": "execute_result"
    }
   ],
   "source": [
    "# 업소명에 NaN이 들어있어 네이버에 업소ID로 검색해본 결과\n",
    "# 네이버 플레이스에도 이름이 nan으로 처리되어있다. 네이버 자체의 실수인듯\n",
    "# 확인 URL : https://store.naver.com/hairshops/detail?id=472920069\n",
    "naver_search_raw[naver_search_raw['업소명'].isnull()]"
   ]
  },
  {
   "cell_type": "code",
   "execution_count": 35,
   "metadata": {},
   "outputs": [
    {
     "name": "stdout",
     "output_type": "stream",
     "text": [
      "주소가 서울이 아닌 정보 제거 전 개수 : 14130\n",
      "주소가 서울이 아닌 정보 제거 후 개수 : 13399\n"
     ]
    }
   ],
   "source": [
    "# 주소에 '서울' 문자열이 포함되지 않은 데이터 제거\n",
    "naver_search_raw = naver_search_raw[naver_search_raw['소재지도로명'].apply(lambda x: '서울' in x.split()[0])]\n",
    "print('주소가 서울이 아닌 정보 제거 전 개수 :', pre_count)\n",
    "print('주소가 서울이 아닌 정보 제거 후 개수 :', len(naver_search_raw))\n",
    "pre_count = len(naver_search_raw)"
   ]
  },
  {
   "cell_type": "code",
   "execution_count": 36,
   "metadata": {},
   "outputs": [
    {
     "name": "stdout",
     "output_type": "stream",
     "text": [
      "<class 'pandas.core.frame.DataFrame'>\n",
      "Int64Index: 13399 entries, 0 to 104\n",
      "Data columns (total 10 columns):\n",
      "업소ID       13399 non-null object\n",
      "업소명        13398 non-null object\n",
      "소재지전화번호    9515 non-null object\n",
      "소재지도로명     13399 non-null object\n",
      "카테고리       13399 non-null object\n",
      "검색인덱스      13399 non-null int64\n",
      "검색어        13399 non-null object\n",
      "검색건수       13399 non-null int64\n",
      "수집일        13399 non-null object\n",
      "검색주소타입     13 non-null float64\n",
      "dtypes: float64(1), int64(2), object(7)\n",
      "memory usage: 1.1+ MB\n"
     ]
    }
   ],
   "source": [
    "naver_search_raw.info()"
   ]
  },
  {
   "cell_type": "code",
   "execution_count": 37,
   "metadata": {},
   "outputs": [
    {
     "data": {
      "text/html": [
       "<div>\n",
       "<style scoped>\n",
       "    .dataframe tbody tr th:only-of-type {\n",
       "        vertical-align: middle;\n",
       "    }\n",
       "\n",
       "    .dataframe tbody tr th {\n",
       "        vertical-align: top;\n",
       "    }\n",
       "\n",
       "    .dataframe thead th {\n",
       "        text-align: right;\n",
       "    }\n",
       "</style>\n",
       "<table border=\"1\" class=\"dataframe\">\n",
       "  <thead>\n",
       "    <tr style=\"text-align: right;\">\n",
       "      <th></th>\n",
       "      <th>store_id</th>\n",
       "      <th>store_name</th>\n",
       "      <th>tel</th>\n",
       "      <th>addrRoad</th>\n",
       "      <th>category</th>\n",
       "    </tr>\n",
       "  </thead>\n",
       "  <tbody>\n",
       "    <tr>\n",
       "      <td>0</td>\n",
       "      <td>s18570093</td>\n",
       "      <td>조희미용실</td>\n",
       "      <td>02-555-0157</td>\n",
       "      <td>서울특별시 강남구 남부순환로 2917 1층 111-가</td>\n",
       "      <td>생활,편의 &gt; 미용실</td>\n",
       "    </tr>\n",
       "    <tr>\n",
       "      <td>1</td>\n",
       "      <td>s10983326</td>\n",
       "      <td>정정원 헤어 룩</td>\n",
       "      <td>02-545-3809</td>\n",
       "      <td>서울특별시 강남구 선릉로116길 24</td>\n",
       "      <td>생활,편의 &gt; 미용실</td>\n",
       "    </tr>\n",
       "    <tr>\n",
       "      <td>15</td>\n",
       "      <td>s18431392</td>\n",
       "      <td>헤어인러브</td>\n",
       "      <td>02-546-0366</td>\n",
       "      <td>서울특별시 강남구 선릉로148길 39 2층</td>\n",
       "      <td>생활,편의 &gt; 미용실</td>\n",
       "    </tr>\n",
       "    <tr>\n",
       "      <td>22</td>\n",
       "      <td>s34786519</td>\n",
       "      <td>앤즈헤어</td>\n",
       "      <td>02-553-9799</td>\n",
       "      <td>서울특별시 강남구 언주로 201 sk리더스뷰 2층 앤즈헤어</td>\n",
       "      <td>생활,편의 &gt; 미용실</td>\n",
       "    </tr>\n",
       "    <tr>\n",
       "      <td>24</td>\n",
       "      <td>s697084146</td>\n",
       "      <td>아나스타일</td>\n",
       "      <td>02-501-0457</td>\n",
       "      <td>서울특별시 강남구 언주로97길 25</td>\n",
       "      <td>생활,편의 &gt; 미용실</td>\n",
       "    </tr>\n",
       "    <tr>\n",
       "      <td>...</td>\n",
       "      <td>...</td>\n",
       "      <td>...</td>\n",
       "      <td>...</td>\n",
       "      <td>...</td>\n",
       "      <td>...</td>\n",
       "    </tr>\n",
       "    <tr>\n",
       "      <td>31</td>\n",
       "      <td>s20925215</td>\n",
       "      <td>전혜정머리나라</td>\n",
       "      <td>02-706-5712</td>\n",
       "      <td>서울특별시 마포구 숭문길 42</td>\n",
       "      <td>생활,편의 &gt; 미용실</td>\n",
       "    </tr>\n",
       "    <tr>\n",
       "      <td>32</td>\n",
       "      <td>s20890996</td>\n",
       "      <td>주연미용실</td>\n",
       "      <td>02-718-0827</td>\n",
       "      <td>서울특별시 마포구 숭문길 58</td>\n",
       "      <td>생활,편의 &gt; 미용실</td>\n",
       "    </tr>\n",
       "    <tr>\n",
       "      <td>36</td>\n",
       "      <td>s1513007561</td>\n",
       "      <td>홍대샵</td>\n",
       "      <td>02-334-0740</td>\n",
       "      <td>서울특별시 마포구 와우산로23길 9 203호 홍대샵</td>\n",
       "      <td>생활,편의 &gt; 미용실</td>\n",
       "    </tr>\n",
       "    <tr>\n",
       "      <td>101</td>\n",
       "      <td>s19408439</td>\n",
       "      <td>한빛미용실</td>\n",
       "      <td>NaN</td>\n",
       "      <td>서울특별시 중구 퇴계로53길 6-11</td>\n",
       "      <td>생활,편의 &gt; 미용실</td>\n",
       "    </tr>\n",
       "    <tr>\n",
       "      <td>104</td>\n",
       "      <td>s20834916</td>\n",
       "      <td>준 미용실</td>\n",
       "      <td>02-753-8045</td>\n",
       "      <td>서울특별시 중구 퇴계로 27 804호</td>\n",
       "      <td>생활,편의 &gt; 미용실</td>\n",
       "    </tr>\n",
       "  </tbody>\n",
       "</table>\n",
       "<p>13399 rows × 5 columns</p>\n",
       "</div>"
      ],
      "text/plain": [
       "        store_id store_name          tel                          addrRoad  \\\n",
       "0      s18570093      조희미용실  02-555-0157     서울특별시 강남구 남부순환로 2917 1층 111-가   \n",
       "1      s10983326   정정원 헤어 룩  02-545-3809              서울특별시 강남구 선릉로116길 24   \n",
       "15     s18431392      헤어인러브  02-546-0366           서울특별시 강남구 선릉로148길 39 2층   \n",
       "22     s34786519       앤즈헤어  02-553-9799  서울특별시 강남구 언주로 201 sk리더스뷰 2층 앤즈헤어   \n",
       "24    s697084146      아나스타일  02-501-0457               서울특별시 강남구 언주로97길 25   \n",
       "..           ...        ...          ...                               ...   \n",
       "31     s20925215    전혜정머리나라  02-706-5712                  서울특별시 마포구 숭문길 42   \n",
       "32     s20890996      주연미용실  02-718-0827                  서울특별시 마포구 숭문길 58   \n",
       "36   s1513007561        홍대샵  02-334-0740      서울특별시 마포구 와우산로23길 9 203호 홍대샵   \n",
       "101    s19408439      한빛미용실          NaN              서울특별시 중구 퇴계로53길 6-11   \n",
       "104    s20834916      준 미용실  02-753-8045              서울특별시 중구 퇴계로 27 804호   \n",
       "\n",
       "        category  \n",
       "0    생활,편의 > 미용실  \n",
       "1    생활,편의 > 미용실  \n",
       "15   생활,편의 > 미용실  \n",
       "22   생활,편의 > 미용실  \n",
       "24   생활,편의 > 미용실  \n",
       "..           ...  \n",
       "31   생활,편의 > 미용실  \n",
       "32   생활,편의 > 미용실  \n",
       "36   생활,편의 > 미용실  \n",
       "101  생활,편의 > 미용실  \n",
       "104  생활,편의 > 미용실  \n",
       "\n",
       "[13399 rows x 5 columns]"
      ]
     },
     "execution_count": 37,
     "metadata": {},
     "output_type": "execute_result"
    }
   ],
   "source": [
    "# 저장을 위해 필요한 컬럼만 컬럼명을 바꿔서 팬시색인한다.\n",
    "naver_search_for_save = naver_search_raw[['업소ID', '업소명', '소재지전화번호', '소재지도로명', '카테고리']].rename(columns={\n",
    "      '업소ID' : 'store_id'\n",
    "    , '업소명' : 'store_name'\n",
    "    , '소재지전화번호' : 'tel'\n",
    "    , '소재지도로명' : 'addrRoad'\n",
    "    , '카테고리' : 'category'\n",
    "})\n",
    "\n",
    "naver_search_for_save"
   ]
  },
  {
   "cell_type": "code",
   "execution_count": 38,
   "metadata": {},
   "outputs": [
    {
     "data": {
      "text/html": [
       "<div>\n",
       "<style scoped>\n",
       "    .dataframe tbody tr th:only-of-type {\n",
       "        vertical-align: middle;\n",
       "    }\n",
       "\n",
       "    .dataframe tbody tr th {\n",
       "        vertical-align: top;\n",
       "    }\n",
       "\n",
       "    .dataframe thead th {\n",
       "        text-align: right;\n",
       "    }\n",
       "</style>\n",
       "<table border=\"1\" class=\"dataframe\">\n",
       "  <thead>\n",
       "    <tr style=\"text-align: right;\">\n",
       "      <th></th>\n",
       "      <th>store_id</th>\n",
       "      <th>store_name</th>\n",
       "      <th>tel</th>\n",
       "      <th>addrRoad</th>\n",
       "      <th>category</th>\n",
       "      <th>collect_day</th>\n",
       "    </tr>\n",
       "  </thead>\n",
       "  <tbody>\n",
       "    <tr>\n",
       "      <td>0</td>\n",
       "      <td>s18570093</td>\n",
       "      <td>조희미용실</td>\n",
       "      <td>02-555-0157</td>\n",
       "      <td>서울특별시 강남구 남부순환로 2917 1층 111-가</td>\n",
       "      <td>생활,편의 &gt; 미용실</td>\n",
       "      <td>2020-04-19</td>\n",
       "    </tr>\n",
       "    <tr>\n",
       "      <td>1</td>\n",
       "      <td>s10983326</td>\n",
       "      <td>정정원 헤어 룩</td>\n",
       "      <td>02-545-3809</td>\n",
       "      <td>서울특별시 강남구 선릉로116길 24</td>\n",
       "      <td>생활,편의 &gt; 미용실</td>\n",
       "      <td>2020-04-19</td>\n",
       "    </tr>\n",
       "    <tr>\n",
       "      <td>15</td>\n",
       "      <td>s18431392</td>\n",
       "      <td>헤어인러브</td>\n",
       "      <td>02-546-0366</td>\n",
       "      <td>서울특별시 강남구 선릉로148길 39 2층</td>\n",
       "      <td>생활,편의 &gt; 미용실</td>\n",
       "      <td>2020-04-19</td>\n",
       "    </tr>\n",
       "    <tr>\n",
       "      <td>22</td>\n",
       "      <td>s34786519</td>\n",
       "      <td>앤즈헤어</td>\n",
       "      <td>02-553-9799</td>\n",
       "      <td>서울특별시 강남구 언주로 201 sk리더스뷰 2층 앤즈헤어</td>\n",
       "      <td>생활,편의 &gt; 미용실</td>\n",
       "      <td>2020-04-19</td>\n",
       "    </tr>\n",
       "    <tr>\n",
       "      <td>24</td>\n",
       "      <td>s697084146</td>\n",
       "      <td>아나스타일</td>\n",
       "      <td>02-501-0457</td>\n",
       "      <td>서울특별시 강남구 언주로97길 25</td>\n",
       "      <td>생활,편의 &gt; 미용실</td>\n",
       "      <td>2020-04-19</td>\n",
       "    </tr>\n",
       "    <tr>\n",
       "      <td>...</td>\n",
       "      <td>...</td>\n",
       "      <td>...</td>\n",
       "      <td>...</td>\n",
       "      <td>...</td>\n",
       "      <td>...</td>\n",
       "      <td>...</td>\n",
       "    </tr>\n",
       "    <tr>\n",
       "      <td>31</td>\n",
       "      <td>s20925215</td>\n",
       "      <td>전혜정머리나라</td>\n",
       "      <td>02-706-5712</td>\n",
       "      <td>서울특별시 마포구 숭문길 42</td>\n",
       "      <td>생활,편의 &gt; 미용실</td>\n",
       "      <td>2020-04-19</td>\n",
       "    </tr>\n",
       "    <tr>\n",
       "      <td>32</td>\n",
       "      <td>s20890996</td>\n",
       "      <td>주연미용실</td>\n",
       "      <td>02-718-0827</td>\n",
       "      <td>서울특별시 마포구 숭문길 58</td>\n",
       "      <td>생활,편의 &gt; 미용실</td>\n",
       "      <td>2020-04-19</td>\n",
       "    </tr>\n",
       "    <tr>\n",
       "      <td>36</td>\n",
       "      <td>s1513007561</td>\n",
       "      <td>홍대샵</td>\n",
       "      <td>02-334-0740</td>\n",
       "      <td>서울특별시 마포구 와우산로23길 9 203호 홍대샵</td>\n",
       "      <td>생활,편의 &gt; 미용실</td>\n",
       "      <td>2020-04-19</td>\n",
       "    </tr>\n",
       "    <tr>\n",
       "      <td>101</td>\n",
       "      <td>s19408439</td>\n",
       "      <td>한빛미용실</td>\n",
       "      <td>NaN</td>\n",
       "      <td>서울특별시 중구 퇴계로53길 6-11</td>\n",
       "      <td>생활,편의 &gt; 미용실</td>\n",
       "      <td>2020-04-19</td>\n",
       "    </tr>\n",
       "    <tr>\n",
       "      <td>104</td>\n",
       "      <td>s20834916</td>\n",
       "      <td>준 미용실</td>\n",
       "      <td>02-753-8045</td>\n",
       "      <td>서울특별시 중구 퇴계로 27 804호</td>\n",
       "      <td>생활,편의 &gt; 미용실</td>\n",
       "      <td>2020-04-19</td>\n",
       "    </tr>\n",
       "  </tbody>\n",
       "</table>\n",
       "<p>13399 rows × 6 columns</p>\n",
       "</div>"
      ],
      "text/plain": [
       "        store_id store_name          tel                          addrRoad  \\\n",
       "0      s18570093      조희미용실  02-555-0157     서울특별시 강남구 남부순환로 2917 1층 111-가   \n",
       "1      s10983326   정정원 헤어 룩  02-545-3809              서울특별시 강남구 선릉로116길 24   \n",
       "15     s18431392      헤어인러브  02-546-0366           서울특별시 강남구 선릉로148길 39 2층   \n",
       "22     s34786519       앤즈헤어  02-553-9799  서울특별시 강남구 언주로 201 sk리더스뷰 2층 앤즈헤어   \n",
       "24    s697084146      아나스타일  02-501-0457               서울특별시 강남구 언주로97길 25   \n",
       "..           ...        ...          ...                               ...   \n",
       "31     s20925215    전혜정머리나라  02-706-5712                  서울특별시 마포구 숭문길 42   \n",
       "32     s20890996      주연미용실  02-718-0827                  서울특별시 마포구 숭문길 58   \n",
       "36   s1513007561        홍대샵  02-334-0740      서울특별시 마포구 와우산로23길 9 203호 홍대샵   \n",
       "101    s19408439      한빛미용실          NaN              서울특별시 중구 퇴계로53길 6-11   \n",
       "104    s20834916      준 미용실  02-753-8045              서울특별시 중구 퇴계로 27 804호   \n",
       "\n",
       "        category collect_day  \n",
       "0    생활,편의 > 미용실  2020-04-19  \n",
       "1    생활,편의 > 미용실  2020-04-19  \n",
       "15   생활,편의 > 미용실  2020-04-19  \n",
       "22   생활,편의 > 미용실  2020-04-19  \n",
       "24   생활,편의 > 미용실  2020-04-19  \n",
       "..           ...         ...  \n",
       "31   생활,편의 > 미용실  2020-04-19  \n",
       "32   생활,편의 > 미용실  2020-04-19  \n",
       "36   생활,편의 > 미용실  2020-04-19  \n",
       "101  생활,편의 > 미용실  2020-04-19  \n",
       "104  생활,편의 > 미용실  2020-04-19  \n",
       "\n",
       "[13399 rows x 6 columns]"
      ]
     },
     "execution_count": 38,
     "metadata": {},
     "output_type": "execute_result"
    }
   ],
   "source": [
    "naver_search_for_save['collect_day'] = '2020-04-19'\n",
    "naver_search_for_save"
   ]
  },
  {
   "cell_type": "code",
   "execution_count": 46,
   "metadata": {},
   "outputs": [
    {
     "data": {
      "text/plain": [
       "Int64Index([15848], dtype='int64')"
      ]
     },
     "execution_count": 46,
     "metadata": {},
     "output_type": "execute_result"
    }
   ],
   "source": [
    "index_ = naver_search_for_save[naver_search_for_save['store_name'].isnull()].index\n",
    "index_"
   ]
  },
  {
   "cell_type": "code",
   "execution_count": 47,
   "metadata": {},
   "outputs": [],
   "source": [
    "naver_search_for_save.drop(index=index_, inplace=True)"
   ]
  },
  {
   "cell_type": "code",
   "execution_count": 52,
   "metadata": {},
   "outputs": [
    {
     "name": "stdout",
     "output_type": "stream",
     "text": [
      "<class 'pandas.core.frame.DataFrame'>\n",
      "RangeIndex: 13398 entries, 0 to 13397\n",
      "Data columns (total 6 columns):\n",
      "store_id       13398 non-null object\n",
      "store_name     13398 non-null object\n",
      "tel            9515 non-null object\n",
      "addrRoad       13398 non-null object\n",
      "category       13398 non-null object\n",
      "collect_day    13398 non-null object\n",
      "dtypes: object(6)\n",
      "memory usage: 628.2+ KB\n"
     ]
    }
   ],
   "source": [
    "naver_search_for_save.index = range(len(naver_search_for_save))\n",
    "naver_search_for_save.info()"
   ]
  },
  {
   "cell_type": "code",
   "execution_count": 53,
   "metadata": {},
   "outputs": [
    {
     "data": {
      "text/html": [
       "<div>\n",
       "<style scoped>\n",
       "    .dataframe tbody tr th:only-of-type {\n",
       "        vertical-align: middle;\n",
       "    }\n",
       "\n",
       "    .dataframe tbody tr th {\n",
       "        vertical-align: top;\n",
       "    }\n",
       "\n",
       "    .dataframe thead th {\n",
       "        text-align: right;\n",
       "    }\n",
       "</style>\n",
       "<table border=\"1\" class=\"dataframe\">\n",
       "  <thead>\n",
       "    <tr style=\"text-align: right;\">\n",
       "      <th></th>\n",
       "      <th>store_id</th>\n",
       "      <th>store_name</th>\n",
       "      <th>tel</th>\n",
       "      <th>addrRoad</th>\n",
       "      <th>category</th>\n",
       "      <th>collect_day</th>\n",
       "    </tr>\n",
       "  </thead>\n",
       "  <tbody>\n",
       "    <tr>\n",
       "      <td>13396</td>\n",
       "      <td>s19408439</td>\n",
       "      <td>한빛미용실</td>\n",
       "      <td>NaN</td>\n",
       "      <td>서울특별시 중구 퇴계로53길 6-11</td>\n",
       "      <td>생활,편의 &gt; 미용실</td>\n",
       "      <td>2020-04-19</td>\n",
       "    </tr>\n",
       "    <tr>\n",
       "      <td>13397</td>\n",
       "      <td>s20834916</td>\n",
       "      <td>준 미용실</td>\n",
       "      <td>02-753-8045</td>\n",
       "      <td>서울특별시 중구 퇴계로 27 804호</td>\n",
       "      <td>생활,편의 &gt; 미용실</td>\n",
       "      <td>2020-04-19</td>\n",
       "    </tr>\n",
       "  </tbody>\n",
       "</table>\n",
       "</div>"
      ],
      "text/plain": [
       "        store_id store_name          tel              addrRoad     category  \\\n",
       "13396  s19408439      한빛미용실          NaN  서울특별시 중구 퇴계로53길 6-11  생활,편의 > 미용실   \n",
       "13397  s20834916      준 미용실  02-753-8045  서울특별시 중구 퇴계로 27 804호  생활,편의 > 미용실   \n",
       "\n",
       "      collect_day  \n",
       "13396  2020-04-19  \n",
       "13397  2020-04-19  "
      ]
     },
     "execution_count": 53,
     "metadata": {},
     "output_type": "execute_result"
    }
   ],
   "source": [
    "naver_search_for_save.tail(2)"
   ]
  },
  {
   "cell_type": "code",
   "execution_count": 54,
   "metadata": {},
   "outputs": [],
   "source": [
    "# DF를 csv파일로 저장\n",
    "naver_search_for_save.to_csv(\n",
    "      './data/naver_map_seoul_salon_output_data_2020-04-19_final.csv'\n",
    "    , sep=','\n",
    "    , encoding='utf-8'\n",
    ")"
   ]
  },
  {
   "cell_type": "code",
   "execution_count": 55,
   "metadata": {},
   "outputs": [
    {
     "data": {
      "text/html": [
       "<div>\n",
       "<style scoped>\n",
       "    .dataframe tbody tr th:only-of-type {\n",
       "        vertical-align: middle;\n",
       "    }\n",
       "\n",
       "    .dataframe tbody tr th {\n",
       "        vertical-align: top;\n",
       "    }\n",
       "\n",
       "    .dataframe thead th {\n",
       "        text-align: right;\n",
       "    }\n",
       "</style>\n",
       "<table border=\"1\" class=\"dataframe\">\n",
       "  <thead>\n",
       "    <tr style=\"text-align: right;\">\n",
       "      <th></th>\n",
       "      <th>store_id</th>\n",
       "      <th>store_name</th>\n",
       "      <th>tel</th>\n",
       "      <th>addrRoad</th>\n",
       "      <th>category</th>\n",
       "      <th>collect_day</th>\n",
       "    </tr>\n",
       "  </thead>\n",
       "  <tbody>\n",
       "    <tr>\n",
       "      <td>0</td>\n",
       "      <td>s18570093</td>\n",
       "      <td>조희미용실</td>\n",
       "      <td>02-555-0157</td>\n",
       "      <td>서울특별시 강남구 남부순환로 2917 1층 111-가</td>\n",
       "      <td>생활,편의 &gt; 미용실</td>\n",
       "      <td>2020-04-19</td>\n",
       "    </tr>\n",
       "    <tr>\n",
       "      <td>1</td>\n",
       "      <td>s10983326</td>\n",
       "      <td>정정원 헤어 룩</td>\n",
       "      <td>02-545-3809</td>\n",
       "      <td>서울특별시 강남구 선릉로116길 24</td>\n",
       "      <td>생활,편의 &gt; 미용실</td>\n",
       "      <td>2020-04-19</td>\n",
       "    </tr>\n",
       "    <tr>\n",
       "      <td>2</td>\n",
       "      <td>s18431392</td>\n",
       "      <td>헤어인러브</td>\n",
       "      <td>02-546-0366</td>\n",
       "      <td>서울특별시 강남구 선릉로148길 39 2층</td>\n",
       "      <td>생활,편의 &gt; 미용실</td>\n",
       "      <td>2020-04-19</td>\n",
       "    </tr>\n",
       "    <tr>\n",
       "      <td>3</td>\n",
       "      <td>s34786519</td>\n",
       "      <td>앤즈헤어</td>\n",
       "      <td>02-553-9799</td>\n",
       "      <td>서울특별시 강남구 언주로 201 sk리더스뷰 2층 앤즈헤어</td>\n",
       "      <td>생활,편의 &gt; 미용실</td>\n",
       "      <td>2020-04-19</td>\n",
       "    </tr>\n",
       "    <tr>\n",
       "      <td>4</td>\n",
       "      <td>s697084146</td>\n",
       "      <td>아나스타일</td>\n",
       "      <td>02-501-0457</td>\n",
       "      <td>서울특별시 강남구 언주로97길 25</td>\n",
       "      <td>생활,편의 &gt; 미용실</td>\n",
       "      <td>2020-04-19</td>\n",
       "    </tr>\n",
       "    <tr>\n",
       "      <td>...</td>\n",
       "      <td>...</td>\n",
       "      <td>...</td>\n",
       "      <td>...</td>\n",
       "      <td>...</td>\n",
       "      <td>...</td>\n",
       "      <td>...</td>\n",
       "    </tr>\n",
       "    <tr>\n",
       "      <td>13393</td>\n",
       "      <td>s20925215</td>\n",
       "      <td>전혜정머리나라</td>\n",
       "      <td>02-706-5712</td>\n",
       "      <td>서울특별시 마포구 숭문길 42</td>\n",
       "      <td>생활,편의 &gt; 미용실</td>\n",
       "      <td>2020-04-19</td>\n",
       "    </tr>\n",
       "    <tr>\n",
       "      <td>13394</td>\n",
       "      <td>s20890996</td>\n",
       "      <td>주연미용실</td>\n",
       "      <td>02-718-0827</td>\n",
       "      <td>서울특별시 마포구 숭문길 58</td>\n",
       "      <td>생활,편의 &gt; 미용실</td>\n",
       "      <td>2020-04-19</td>\n",
       "    </tr>\n",
       "    <tr>\n",
       "      <td>13395</td>\n",
       "      <td>s1513007561</td>\n",
       "      <td>홍대샵</td>\n",
       "      <td>02-334-0740</td>\n",
       "      <td>서울특별시 마포구 와우산로23길 9 203호 홍대샵</td>\n",
       "      <td>생활,편의 &gt; 미용실</td>\n",
       "      <td>2020-04-19</td>\n",
       "    </tr>\n",
       "    <tr>\n",
       "      <td>13396</td>\n",
       "      <td>s19408439</td>\n",
       "      <td>한빛미용실</td>\n",
       "      <td>NaN</td>\n",
       "      <td>서울특별시 중구 퇴계로53길 6-11</td>\n",
       "      <td>생활,편의 &gt; 미용실</td>\n",
       "      <td>2020-04-19</td>\n",
       "    </tr>\n",
       "    <tr>\n",
       "      <td>13397</td>\n",
       "      <td>s20834916</td>\n",
       "      <td>준 미용실</td>\n",
       "      <td>02-753-8045</td>\n",
       "      <td>서울특별시 중구 퇴계로 27 804호</td>\n",
       "      <td>생활,편의 &gt; 미용실</td>\n",
       "      <td>2020-04-19</td>\n",
       "    </tr>\n",
       "  </tbody>\n",
       "</table>\n",
       "<p>13398 rows × 6 columns</p>\n",
       "</div>"
      ],
      "text/plain": [
       "          store_id store_name          tel                          addrRoad  \\\n",
       "0        s18570093      조희미용실  02-555-0157     서울특별시 강남구 남부순환로 2917 1층 111-가   \n",
       "1        s10983326   정정원 헤어 룩  02-545-3809              서울특별시 강남구 선릉로116길 24   \n",
       "2        s18431392      헤어인러브  02-546-0366           서울특별시 강남구 선릉로148길 39 2층   \n",
       "3        s34786519       앤즈헤어  02-553-9799  서울특별시 강남구 언주로 201 sk리더스뷰 2층 앤즈헤어   \n",
       "4       s697084146      아나스타일  02-501-0457               서울특별시 강남구 언주로97길 25   \n",
       "...            ...        ...          ...                               ...   \n",
       "13393    s20925215    전혜정머리나라  02-706-5712                  서울특별시 마포구 숭문길 42   \n",
       "13394    s20890996      주연미용실  02-718-0827                  서울특별시 마포구 숭문길 58   \n",
       "13395  s1513007561        홍대샵  02-334-0740      서울특별시 마포구 와우산로23길 9 203호 홍대샵   \n",
       "13396    s19408439      한빛미용실          NaN              서울특별시 중구 퇴계로53길 6-11   \n",
       "13397    s20834916      준 미용실  02-753-8045              서울특별시 중구 퇴계로 27 804호   \n",
       "\n",
       "          category collect_day  \n",
       "0      생활,편의 > 미용실  2020-04-19  \n",
       "1      생활,편의 > 미용실  2020-04-19  \n",
       "2      생활,편의 > 미용실  2020-04-19  \n",
       "3      생활,편의 > 미용실  2020-04-19  \n",
       "4      생활,편의 > 미용실  2020-04-19  \n",
       "...            ...         ...  \n",
       "13393  생활,편의 > 미용실  2020-04-19  \n",
       "13394  생활,편의 > 미용실  2020-04-19  \n",
       "13395  생활,편의 > 미용실  2020-04-19  \n",
       "13396  생활,편의 > 미용실  2020-04-19  \n",
       "13397  생활,편의 > 미용실  2020-04-19  \n",
       "\n",
       "[13398 rows x 6 columns]"
      ]
     },
     "execution_count": 55,
     "metadata": {},
     "output_type": "execute_result"
    }
   ],
   "source": [
    "# 데이터 확인\n",
    "pd.read_csv('./data/naver_map_seoul_salon_output_data_2020-04-19_final.csv', index_col=0)\n"
   ]
  },
  {
   "cell_type": "code",
   "execution_count": null,
   "metadata": {},
   "outputs": [],
   "source": []
  },
  {
   "cell_type": "code",
   "execution_count": null,
   "metadata": {},
   "outputs": [],
   "source": []
  }
 ],
 "metadata": {
  "kernelspec": {
   "display_name": "Python 3",
   "language": "python",
   "name": "python3"
  },
  "language_info": {
   "codemirror_mode": {
    "name": "ipython",
    "version": 3
   },
   "file_extension": ".py",
   "mimetype": "text/x-python",
   "name": "python",
   "nbconvert_exporter": "python",
   "pygments_lexer": "ipython3",
   "version": "3.7.4"
  }
 },
 "nbformat": 4,
 "nbformat_minor": 2
}
