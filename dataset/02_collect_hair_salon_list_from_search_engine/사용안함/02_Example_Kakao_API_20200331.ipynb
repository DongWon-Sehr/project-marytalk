{
 "cells": [
  {
   "cell_type": "code",
   "execution_count": 97,
   "metadata": {},
   "outputs": [],
   "source": [
    "import requests\n",
    "import urllib"
   ]
  },
  {
   "cell_type": "code",
   "execution_count": 98,
   "metadata": {},
   "outputs": [],
   "source": [
    "# URL을 구하는 함수\n",
    "# get_kakao_api_url(검색어, 페이지번호, 조회개수)\n",
    "\n",
    "def get_kakao_api_url(key_word, page_num, size_num):\n",
    "    base_url = 'https://dapi.kakao.com/v2/local/search/keyword.json'\n",
    "    param_query = '?query=' + urllib.parse.quote(key_word) # 검색어\n",
    "    param_page = '&page=' + str(page_num) # default=1, max=45\n",
    "    param_size = '&size=' + str(size_num) # default=15, max=15\n",
    "    \n",
    "    return base_url + param_query + param_page + param_size"
   ]
  },
  {
   "cell_type": "code",
   "execution_count": 99,
   "metadata": {},
   "outputs": [],
   "source": [
    "# KAKAO API 인증키\n",
    "key = '73658e9352c01285f3400b4c522caab2'"
   ]
  },
  {
   "cell_type": "code",
   "execution_count": 100,
   "metadata": {},
   "outputs": [],
   "source": [
    "# 기본 URL\n",
    "url = 'https://dapi.kakao.com/v2/local/search/keyword.json'\n",
    "\n",
    "# 질의문자열\n",
    "queryString = {\n",
    "      'query' : '서울 준오헤어'\n",
    "    , 'page' : '1'\n",
    "    , 'size' : '15'\n",
    "}\n",
    "\n",
    "# 헤더에 담을 인증키 정보\n",
    "header = {'authorization' : 'KakaoAK ' + key}"
   ]
  },
  {
   "cell_type": "code",
   "execution_count": 101,
   "metadata": {},
   "outputs": [],
   "source": [
    "# 위에서 정의한 변수들로 request 보내기. response를 r 변수에 저장\n",
    "response_kakao = requests.get(url, headers=header, params = queryString)"
   ]
  },
  {
   "cell_type": "code",
   "execution_count": 102,
   "metadata": {},
   "outputs": [
    {
     "data": {
      "text/plain": [
       "{'documents': [{'address_name': '서울 강남구 신사동 664-7',\n",
       "   'category_group_code': '',\n",
       "   'category_group_name': '',\n",
       "   'category_name': '가정,생활 > 미용 > 미용실 > 준오헤어',\n",
       "   'distance': '',\n",
       "   'id': '11371054',\n",
       "   'phone': '02-518-6050',\n",
       "   'place_name': '준오헤어 압구정로데오1호점',\n",
       "   'place_url': 'http://place.map.kakao.com/11371054',\n",
       "   'road_address_name': '서울 강남구 선릉로 843',\n",
       "   'x': '127.04026548415216',\n",
       "   'y': '37.52723117767616'},\n",
       "  {'address_name': '서울 송파구 문정동 343-1',\n",
       "   'category_group_code': '',\n",
       "   'category_group_name': '',\n",
       "   'category_name': '가정,생활 > 미용 > 미용실 > 준오헤어',\n",
       "   'distance': '',\n",
       "   'id': '1749377009',\n",
       "   'phone': '02-406-0605',\n",
       "   'place_name': '준오헤어 문정역점',\n",
       "   'place_url': 'http://place.map.kakao.com/1749377009',\n",
       "   'road_address_name': '',\n",
       "   'x': '127.120674988196',\n",
       "   'y': '37.4855319560885'},\n",
       "  {'address_name': '서울 강남구 삼성동 141-29',\n",
       "   'category_group_code': '',\n",
       "   'category_group_name': '',\n",
       "   'category_name': '가정,생활 > 미용 > 미용실 > 준오헤어',\n",
       "   'distance': '',\n",
       "   'id': '79048795',\n",
       "   'phone': '02-3452-0605',\n",
       "   'place_name': '준오헤어 선릉테헤란로점',\n",
       "   'place_url': 'http://place.map.kakao.com/79048795',\n",
       "   'road_address_name': '서울 강남구 테헤란로 409',\n",
       "   'x': '127.0504800574905',\n",
       "   'y': '37.505403145711'},\n",
       "  {'address_name': '서울 서초구 서초동 1305-1',\n",
       "   'category_group_code': '',\n",
       "   'category_group_name': '',\n",
       "   'category_name': '가정,생활 > 미용 > 미용실 > 준오헤어',\n",
       "   'distance': '',\n",
       "   'id': '9416765',\n",
       "   'phone': '02-536-6605',\n",
       "   'place_name': '준오헤어 강남2호점',\n",
       "   'place_url': 'http://place.map.kakao.com/9416765',\n",
       "   'road_address_name': '서울 서초구 강남대로 441',\n",
       "   'x': '127.025278377503',\n",
       "   'y': '37.50173692636147'},\n",
       "  {'address_name': '서울 관악구 봉천동 863-2',\n",
       "   'category_group_code': '',\n",
       "   'category_group_name': '',\n",
       "   'category_name': '가정,생활 > 미용 > 미용실 > 준오헤어',\n",
       "   'distance': '',\n",
       "   'id': '9421551',\n",
       "   'phone': '02-882-0605',\n",
       "   'place_name': '준오헤어 서울대입구역점',\n",
       "   'place_url': 'http://place.map.kakao.com/9421551',\n",
       "   'road_address_name': '서울 관악구 관악로 163',\n",
       "   'x': '126.952112617476',\n",
       "   'y': '37.4798642759744'},\n",
       "  {'address_name': '서울 관악구 봉천동 1687-5',\n",
       "   'category_group_code': '',\n",
       "   'category_group_name': '',\n",
       "   'category_name': '가정,생활 > 미용 > 미용실 > 준오헤어',\n",
       "   'distance': '',\n",
       "   'id': '208716003',\n",
       "   'phone': '02-875-0605',\n",
       "   'place_name': '준오헤어 낙성대역점',\n",
       "   'place_url': 'http://place.map.kakao.com/208716003',\n",
       "   'road_address_name': '서울 관악구 남부순환로 1931',\n",
       "   'x': '126.963790636721',\n",
       "   'y': '37.4772555047596'},\n",
       "  {'address_name': '서울 송파구 삼전동 1',\n",
       "   'category_group_code': '',\n",
       "   'category_group_name': '',\n",
       "   'category_name': '가정,생활 > 미용 > 미용실 > 준오헤어',\n",
       "   'distance': '',\n",
       "   'id': '12714753',\n",
       "   'phone': '02-422-8605',\n",
       "   'place_name': '준오헤어 잠실점',\n",
       "   'place_url': 'http://place.map.kakao.com/12714753',\n",
       "   'road_address_name': '서울 송파구 삼전로 102',\n",
       "   'x': '127.091073158598',\n",
       "   'y': '37.5073123804699'},\n",
       "  {'address_name': '서울 마포구 아현동 618-19',\n",
       "   'category_group_code': '',\n",
       "   'category_group_name': '',\n",
       "   'category_name': '가정,생활 > 미용 > 미용실 > 준오헤어',\n",
       "   'distance': '',\n",
       "   'id': '1437475820',\n",
       "   'phone': '02-363-1605',\n",
       "   'place_name': '준오헤어 마포공덕점',\n",
       "   'place_url': 'http://place.map.kakao.com/1437475820',\n",
       "   'road_address_name': '서울 마포구 마포대로 173-14',\n",
       "   'x': '126.95359272804458',\n",
       "   'y': '37.550838730105525'},\n",
       "  {'address_name': '서울 강남구 역삼동 809-17',\n",
       "   'category_group_code': '',\n",
       "   'category_group_name': '',\n",
       "   'category_name': '가정,생활 > 미용 > 미용실 > 준오헤어',\n",
       "   'distance': '',\n",
       "   'id': '18946482',\n",
       "   'phone': '02-2052-0605',\n",
       "   'place_name': '준오헤어 신논현역점',\n",
       "   'place_url': 'http://place.map.kakao.com/18946482',\n",
       "   'road_address_name': '서울 강남구 강남대로 464',\n",
       "   'x': '127.025328757775',\n",
       "   'y': '37.5035713631691'},\n",
       "  {'address_name': '서울 마포구 서교동 362-4',\n",
       "   'category_group_code': '',\n",
       "   'category_group_name': '',\n",
       "   'category_name': '가정,생활 > 미용 > 미용실 > 준오헤어',\n",
       "   'distance': '',\n",
       "   'id': '26811010',\n",
       "   'phone': '02-332-1605',\n",
       "   'place_name': '준오헤어 홍대2호점',\n",
       "   'place_url': 'http://place.map.kakao.com/26811010',\n",
       "   'road_address_name': '서울 마포구 와우산로 79',\n",
       "   'x': '126.923163867074',\n",
       "   'y': '37.5515076085879'},\n",
       "  {'address_name': '서울 중구 명동2가 51-3',\n",
       "   'category_group_code': '',\n",
       "   'category_group_name': '',\n",
       "   'category_name': '가정,생활 > 미용 > 미용실 > 준오헤어',\n",
       "   'distance': '',\n",
       "   'id': '19699660',\n",
       "   'phone': '02-3789-0650',\n",
       "   'place_name': '준오헤어 명동4호점',\n",
       "   'place_url': 'http://place.map.kakao.com/19699660',\n",
       "   'road_address_name': '서울 중구 명동8길 14',\n",
       "   'x': '126.984480093751',\n",
       "   'y': '37.5630427306424'},\n",
       "  {'address_name': '서울 양천구 목동 917-9',\n",
       "   'category_group_code': '',\n",
       "   'category_group_name': '',\n",
       "   'category_name': '가정,생활 > 미용 > 미용실 > 준오헤어',\n",
       "   'distance': '',\n",
       "   'id': '27466121',\n",
       "   'phone': '02-2649-0605',\n",
       "   'place_name': '준오헤어 목동41타워점',\n",
       "   'place_url': 'http://place.map.kakao.com/27466121',\n",
       "   'road_address_name': '서울 양천구 목동동로 293',\n",
       "   'x': '126.875487023712',\n",
       "   'y': '37.5280337635388'},\n",
       "  {'address_name': '서울 서초구 방배동 908-10',\n",
       "   'category_group_code': '',\n",
       "   'category_group_name': '',\n",
       "   'category_name': '가정,생활 > 미용 > 미용실 > 준오헤어',\n",
       "   'distance': '',\n",
       "   'id': '1387831501',\n",
       "   'phone': '02-533-0605',\n",
       "   'place_name': '준오헤어 방배역점',\n",
       "   'place_url': 'http://place.map.kakao.com/1387831501',\n",
       "   'road_address_name': '서울 서초구 방배로 84',\n",
       "   'x': '126.997603073194',\n",
       "   'y': '37.4820652098606'},\n",
       "  {'address_name': '서울 송파구 잠실동 175-6',\n",
       "   'category_group_code': '',\n",
       "   'category_group_name': '',\n",
       "   'category_name': '가정,생활 > 미용 > 미용실 > 준오헤어',\n",
       "   'distance': '',\n",
       "   'id': '8560341',\n",
       "   'phone': '02-425-6605',\n",
       "   'place_name': '준오헤어 잠실종합운동장사거리점',\n",
       "   'place_url': 'http://place.map.kakao.com/8560341',\n",
       "   'road_address_name': '서울 송파구 올림픽로 76',\n",
       "   'x': '127.07901658528922',\n",
       "   'y': '37.51155938567184'},\n",
       "  {'address_name': '서울 노원구 상계동 712',\n",
       "   'category_group_code': '',\n",
       "   'category_group_name': '',\n",
       "   'category_name': '가정,생활 > 미용 > 미용실 > 준오헤어',\n",
       "   'distance': '',\n",
       "   'id': '798706541',\n",
       "   'phone': '02-938-0605',\n",
       "   'place_name': '준오헤어 노원사거리점',\n",
       "   'place_url': 'http://place.map.kakao.com/798706541',\n",
       "   'road_address_name': '서울 노원구 동일로 1413',\n",
       "   'x': '127.06001174528762',\n",
       "   'y': '37.65467713499782'}],\n",
       " 'meta': {'is_end': False,\n",
       "  'pageable_count': 45,\n",
       "  'same_name': {'keyword': '준오헤어', 'region': [], 'selected_region': '서울특별시'},\n",
       "  'total_count': 104}}"
      ]
     },
     "execution_count": 102,
     "metadata": {},
     "output_type": "execute_result"
    }
   ],
   "source": [
    "# json 객체를 dict 객체로 변환\n",
    "json.loads(response_kakao.text)"
   ]
  },
  {
   "cell_type": "code",
   "execution_count": 103,
   "metadata": {},
   "outputs": [],
   "source": [
    "################################################\n",
    "# 네이버\n",
    "################################################"
   ]
  },
  {
   "cell_type": "code",
   "execution_count": 104,
   "metadata": {},
   "outputs": [],
   "source": [
    "# 네이버 API 인증 ID\n",
    "client_id = 'sDYPCi0TlT6FFoKVbOTz'\n",
    "\n",
    "# 네이버 API 인증 PW\n",
    "client_secret = 'lyX1n9_ht3'"
   ]
  },
  {
   "cell_type": "code",
   "execution_count": 105,
   "metadata": {},
   "outputs": [],
   "source": [
    "def get_api_requirements(keyword, start, display):\n",
    "    # 기본 URL\n",
    "    url = 'https://openapi.naver.com/v1/search/local.json'\n",
    "    \n",
    "    # 헤더에 담을 인증키 정보\n",
    "    header = {'X-Naver-Client-Id' : client_id, 'X-Naver-Client-Secret' : client_secret }\n",
    "\n",
    "    # 쿼리스트링\n",
    "    queryString = {\n",
    "          'query' : '서울 ' + keyword\n",
    "        , 'start' : str(start)\n",
    "        , 'display' : str(display)\n",
    "    }\n",
    "\n",
    "    return [url, header, queryString]"
   ]
  },
  {
   "cell_type": "code",
   "execution_count": 106,
   "metadata": {},
   "outputs": [],
   "source": [
    "# 위에서 정의한 변수들로 request 보내기. response를 r 변수에 저장\n",
    "requirments = get_api_requirements('준오헤어 강남 2호점', 1, 30)\n",
    "response_naver = requests.get(requirments[0], headers=requirments[1], params = requirments[2])"
   ]
  },
  {
   "cell_type": "code",
   "execution_count": 107,
   "metadata": {},
   "outputs": [
    {
     "data": {
      "text/plain": [
       "int"
      ]
     },
     "execution_count": 107,
     "metadata": {},
     "output_type": "execute_result"
    }
   ],
   "source": [
    "type(response_naver.status_code)"
   ]
  },
  {
   "cell_type": "code",
   "execution_count": 118,
   "metadata": {},
   "outputs": [
    {
     "data": {
      "text/plain": [
       "[{'title': '<b>준오헤어 강남2호점</b>',\n",
       "  'link': 'https://junohairgangnam.modoo.at/',\n",
       "  'category': '생활,편의>미용실',\n",
       "  'description': '',\n",
       "  'telephone': '02-536-6605',\n",
       "  'address': '서울특별시 서초구 서초동 1305',\n",
       "  'roadAddress': '서울특별시 서초구 강남대로 441 서산빌딩 3층',\n",
       "  'mapx': '314018',\n",
       "  'mapy': '544856'}]"
      ]
     },
     "execution_count": 118,
     "metadata": {},
     "output_type": "execute_result"
    }
   ],
   "source": [
    "# json 객체를 dict 객체로 변환\n",
    "dict_ = response_naver.json()\n",
    "dict_['items']"
   ]
  },
  {
   "cell_type": "code",
   "execution_count": null,
   "metadata": {},
   "outputs": [],
   "source": []
  },
  {
   "cell_type": "code",
   "execution_count": 117,
   "metadata": {},
   "outputs": [
    {
     "ename": "NameError",
     "evalue": "name 'DataFrame' is not defined",
     "output_type": "error",
     "traceback": [
      "\u001b[1;31m---------------------------------------------------------------------------\u001b[0m",
      "\u001b[1;31mNameError\u001b[0m                                 Traceback (most recent call last)",
      "\u001b[1;32m<ipython-input-117-7366a176ef95>\u001b[0m in \u001b[0;36m<module>\u001b[1;34m\u001b[0m\n\u001b[1;32m----> 1\u001b[1;33m \u001b[0mDataFrame\u001b[0m\u001b[1;33m(\u001b[0m\u001b[0mdict_\u001b[0m\u001b[1;33m[\u001b[0m\u001b[1;34m'items'\u001b[0m\u001b[1;33m]\u001b[0m\u001b[1;33m[\u001b[0m\u001b[1;36m0\u001b[0m\u001b[1;33m]\u001b[0m\u001b[1;33m)\u001b[0m\u001b[1;33m\u001b[0m\u001b[1;33m\u001b[0m\u001b[0m\n\u001b[0m",
      "\u001b[1;31mNameError\u001b[0m: name 'DataFrame' is not defined"
     ]
    }
   ],
   "source": [
    "DataFrame(dict_['items'][0])"
   ]
  },
  {
   "cell_type": "code",
   "execution_count": null,
   "metadata": {},
   "outputs": [],
   "source": []
  }
 ],
 "metadata": {
  "kernelspec": {
   "display_name": "Python 3",
   "language": "python",
   "name": "python3"
  },
  "language_info": {
   "codemirror_mode": {
    "name": "ipython",
    "version": 3
   },
   "file_extension": ".py",
   "mimetype": "text/x-python",
   "name": "python",
   "nbconvert_exporter": "python",
   "pygments_lexer": "ipython3",
   "version": "3.7.4"
  }
 },
 "nbformat": 4,
 "nbformat_minor": 2
}
