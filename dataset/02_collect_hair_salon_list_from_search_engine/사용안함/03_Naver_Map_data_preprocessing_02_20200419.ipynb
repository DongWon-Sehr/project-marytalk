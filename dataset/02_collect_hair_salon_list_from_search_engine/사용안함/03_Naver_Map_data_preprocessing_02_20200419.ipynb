{
 "cells": [
  {
   "cell_type": "markdown",
   "metadata": {},
   "source": [
    "# 서울시 미용실 데이터 - NAVER Map(v4) 데이터 전처리(2)\n",
    "## 작성자(최종수정일) : 서동원(2020.04.19)\n",
    "- 검색 데이터 필요한 정보 추려내기\n",
    "- (1) 중복 제거하기\n",
    "- (2) 카테고리가 미용실 관련 데이터만 남기기\n",
    "- (3) 주소가 서울인 데이터만 남기기"
   ]
  },
  {
   "cell_type": "code",
   "execution_count": 44,
   "metadata": {},
   "outputs": [],
   "source": [
    "import numpy as np\n",
    "import pandas as pd\n",
    "from pandas import Series, DataFrame\n",
    "import re\n",
    "import requests\n",
    "import time\n",
    "pd.set_option('display.max_columns',50) # DataFrame truncation 없이 보기\n",
    "pd.set_option('display.max_rows',100)\n",
    "from tqdm import tqdm\n",
    "import math"
   ]
  },
  {
   "cell_type": "markdown",
   "metadata": {},
   "source": [
    "## 네이버 검색 데이터"
   ]
  },
  {
   "cell_type": "code",
   "execution_count": 45,
   "metadata": {},
   "outputs": [],
   "source": [
    "# 파일 읽어오기\n",
    "naver_search_raw = pd.read_csv('./data/naver_map_seoul_salon_output_data_2020-04-09_2020-04-19_modified.csv', index_col=0)\n",
    "pre_count = len(naver_search_raw)"
   ]
  },
  {
   "cell_type": "code",
   "execution_count": 46,
   "metadata": {},
   "outputs": [
    {
     "name": "stdout",
     "output_type": "stream",
     "text": [
      "중복 제거 전 개수 : 26808\n",
      "중복 제거 후 개수 : 24121\n"
     ]
    }
   ],
   "source": [
    "# 중복제거\n",
    "naver_search_raw.drop_duplicates(inplace=True)\n",
    "print('중복 제거 전 개수 :', pre_count)\n",
    "print('중복 제거 후 개수 :', len(naver_search_raw))\n",
    "pre_count = len(naver_search_raw)"
   ]
  },
  {
   "cell_type": "code",
   "execution_count": 47,
   "metadata": {},
   "outputs": [
    {
     "name": "stdout",
     "output_type": "stream",
     "text": [
      "<class 'pandas.core.frame.DataFrame'>\n",
      "Int64Index: 24121 entries, 0 to 11\n",
      "Data columns (total 9 columns):\n",
      "업소ID       24121 non-null object\n",
      "업소명        24119 non-null object\n",
      "소재지전화번호    16865 non-null object\n",
      "소재지도로명     24121 non-null object\n",
      "카테고리       24121 non-null object\n",
      "검색인덱스      24121 non-null int64\n",
      "검색어        24121 non-null object\n",
      "검색건수       24121 non-null int64\n",
      "검색주소타입     12 non-null float64\n",
      "dtypes: float64(1), int64(2), object(6)\n",
      "memory usage: 1.8+ MB\n"
     ]
    }
   ],
   "source": [
    "naver_search_raw.info()"
   ]
  },
  {
   "cell_type": "code",
   "execution_count": 48,
   "metadata": {
    "scrolled": false
   },
   "outputs": [
    {
     "data": {
      "text/plain": [
       "['생활,편의 > 미용실',\n",
       " '미용 > 미용실',\n",
       " '미용 > 머리염색',\n",
       " '미용 > 네일아트,네일샵',\n",
       " '미용 > 메이크업',\n",
       " '생활,편의 > 미용',\n",
       " '미용 > 피부,체형관리',\n",
       " '미용 > 마사지,지압',\n",
       " '미용 > 속눈썹증모,연장',\n",
       " '생활,편의 > 남성전문미용실',\n",
       " '미용 > 두피,탈모관리',\n",
       " '미용 > 경락마사지',\n",
       " '쇼핑,유통 > 미용기기,재료',\n",
       " '협회,단체 > 화장품,미용',\n",
       " '직업,기술학원 > 미용',\n",
       " '미용실 > 어린이미용실',\n",
       " '반려동물 > 반려동물미용',\n",
       " '미용 > 다이어트,비만',\n",
       " '직업,기술학원 > 애견미용']"
      ]
     },
     "execution_count": 48,
     "metadata": {},
     "output_type": "execute_result"
    }
   ],
   "source": [
    "# '미용' 단어가 들어간 카테고리만 뽑기\n",
    "list(filter(lambda x: '미용' in x, naver_search_raw['카테고리'].unique()))"
   ]
  },
  {
   "cell_type": "markdown",
   "metadata": {},
   "source": [
    "### 미용이 들어간 카테고리 중 실제로 필요한 카테고리는 다음과 같다.\n",
    "    - (1) '생활,편의 > 미용실'\n",
    "    - (2) '미용 > 미용실'\n",
    "    - (3) '미용 > 머리염색'\n",
    "    - (4) '생활,편의 > 미용'\n",
    "    - (5) '생활,편의 > 남성전문미용실'\n",
    "    - (6) '미용실 > 어린이미용실'"
   ]
  },
  {
   "cell_type": "code",
   "execution_count": 49,
   "metadata": {},
   "outputs": [
    {
     "data": {
      "text/plain": [
       "['생활,편의 > 미용실',\n",
       " '미용 > 미용실',\n",
       " '미용 > 머리염색',\n",
       " '생활,편의 > 미용',\n",
       " '생활,편의 > 남성전문미용실',\n",
       " '미용실 > 어린이미용실']"
      ]
     },
     "execution_count": 49,
     "metadata": {},
     "output_type": "execute_result"
    }
   ],
   "source": [
    "# 필요한 카케고리 리스트로 저장\n",
    "category_list = ['생활,편의 > 미용실'\n",
    "                , '미용 > 미용실'\n",
    "                , '미용 > 머리염색'\n",
    "                , '생활,편의 > 미용'\n",
    "                , '생활,편의 > 남성전문미용실'\n",
    "                , '미용실 > 어린이미용실']\n",
    "category_list"
   ]
  },
  {
   "cell_type": "code",
   "execution_count": 50,
   "metadata": {},
   "outputs": [
    {
     "name": "stdout",
     "output_type": "stream",
     "text": [
      "카테고리로 제거 전 개수 : 24121\n",
      "카테고리로 제거 후 개수 : 21751\n"
     ]
    }
   ],
   "source": [
    "# 카테고리로 제거하기\n",
    "naver_search_raw.drop(\n",
    "      index=naver_search_raw[~naver_search_raw['카테고리'].isin(category_list)].index\n",
    "    , inplace=True\n",
    ")\n",
    "print('카테고리로 제거 전 개수 :', pre_count)\n",
    "print('카테고리로 제거 후 개수 :', len(naver_search_raw))\n",
    "pre_count = len(naver_search_raw)"
   ]
  },
  {
   "cell_type": "code",
   "execution_count": 51,
   "metadata": {},
   "outputs": [
    {
     "data": {
      "text/plain": [
       "array(['생활,편의 > 미용실', '미용 > 미용실', '미용 > 머리염색', '생활,편의 > 미용',\n",
       "       '생활,편의 > 남성전문미용실', '미용실 > 어린이미용실'], dtype=object)"
      ]
     },
     "execution_count": 51,
     "metadata": {},
     "output_type": "execute_result"
    }
   ],
   "source": [
    "# 카테고리로 확인\n",
    "# 남긴 카테고리 이외에는 검색되지 않는다.\n",
    "naver_search_raw['카테고리'].unique()"
   ]
  },
  {
   "cell_type": "code",
   "execution_count": 52,
   "metadata": {},
   "outputs": [
    {
     "name": "stdout",
     "output_type": "stream",
     "text": [
      "<class 'pandas.core.frame.DataFrame'>\n",
      "Int64Index: 21751 entries, 0 to 11\n",
      "Data columns (total 9 columns):\n",
      "업소ID       21751 non-null object\n",
      "업소명        21749 non-null object\n",
      "소재지전화번호    15227 non-null object\n",
      "소재지도로명     21751 non-null object\n",
      "카테고리       21751 non-null object\n",
      "검색인덱스      21751 non-null int64\n",
      "검색어        21751 non-null object\n",
      "검색건수       21751 non-null int64\n",
      "검색주소타입     12 non-null float64\n",
      "dtypes: float64(1), int64(2), object(6)\n",
      "memory usage: 1.7+ MB\n"
     ]
    }
   ],
   "source": [
    "naver_search_raw.info()"
   ]
  },
  {
   "cell_type": "code",
   "execution_count": 53,
   "metadata": {},
   "outputs": [
    {
     "name": "stdout",
     "output_type": "stream",
     "text": [
      "팬시색인으로 중복 제거 전 개수 : 21751\n",
      "팬시색인으로 중복 제거 후 개수 : 14129\n"
     ]
    }
   ],
   "source": [
    "# 네이버 지도에 검색할떄 사용한 업소명인 공공데이터 자체에 중복데이터가 있을 수 있다.\n",
    "# '업소ID', '업소명', '소재지전화번호', '소재지도로명', '카테고리'\n",
    "# 5가지 컬럼으로 팬시색인하여 중복값을 다시 한번 제거한다.\n",
    "naver_search_raw.drop(\n",
    "      index = naver_search_raw[naver_search_raw[['업소ID', '업소명', '소재지전화번호', '소재지도로명', '카테고리']].duplicated()].index\n",
    "    , inplace=True\n",
    ")\n",
    "print('팬시색인으로 중복 제거 전 개수 :', pre_count)\n",
    "print('팬시색인으로 중복 제거 후 개수 :', len(naver_search_raw))\n",
    "pre_count = len(naver_search_raw)"
   ]
  },
  {
   "cell_type": "code",
   "execution_count": 54,
   "metadata": {},
   "outputs": [
    {
     "name": "stdout",
     "output_type": "stream",
     "text": [
      "<class 'pandas.core.frame.DataFrame'>\n",
      "Int64Index: 14129 entries, 12 to 26795\n",
      "Data columns (total 9 columns):\n",
      "업소ID       14129 non-null object\n",
      "업소명        14128 non-null object\n",
      "소재지전화번호    10070 non-null object\n",
      "소재지도로명     14129 non-null object\n",
      "카테고리       14129 non-null object\n",
      "검색인덱스      14129 non-null int64\n",
      "검색어        14129 non-null object\n",
      "검색건수       14129 non-null int64\n",
      "검색주소타입     0 non-null float64\n",
      "dtypes: float64(1), int64(2), object(6)\n",
      "memory usage: 1.1+ MB\n"
     ]
    }
   ],
   "source": [
    "naver_search_raw.info()"
   ]
  },
  {
   "cell_type": "code",
   "execution_count": 55,
   "metadata": {},
   "outputs": [
    {
     "data": {
      "text/html": [
       "<div>\n",
       "<style scoped>\n",
       "    .dataframe tbody tr th:only-of-type {\n",
       "        vertical-align: middle;\n",
       "    }\n",
       "\n",
       "    .dataframe tbody tr th {\n",
       "        vertical-align: top;\n",
       "    }\n",
       "\n",
       "    .dataframe thead th {\n",
       "        text-align: right;\n",
       "    }\n",
       "</style>\n",
       "<table border=\"1\" class=\"dataframe\">\n",
       "  <thead>\n",
       "    <tr style=\"text-align: right;\">\n",
       "      <th></th>\n",
       "      <th>업소ID</th>\n",
       "      <th>업소명</th>\n",
       "      <th>소재지전화번호</th>\n",
       "      <th>소재지도로명</th>\n",
       "      <th>카테고리</th>\n",
       "      <th>검색인덱스</th>\n",
       "      <th>검색어</th>\n",
       "      <th>검색건수</th>\n",
       "      <th>검색주소타입</th>\n",
       "    </tr>\n",
       "  </thead>\n",
       "  <tbody>\n",
       "    <tr>\n",
       "      <td>15848</td>\n",
       "      <td>s472920069</td>\n",
       "      <td>NaN</td>\n",
       "      <td>NaN</td>\n",
       "      <td>서울특별시 서대문구 연희로11길 30</td>\n",
       "      <td>생활,편의 &gt; 미용실</td>\n",
       "      <td>8640</td>\n",
       "      <td>헤어아트</td>\n",
       "      <td>32</td>\n",
       "      <td>NaN</td>\n",
       "    </tr>\n",
       "  </tbody>\n",
       "</table>\n",
       "</div>"
      ],
      "text/plain": [
       "             업소ID  업소명 소재지전화번호                소재지도로명         카테고리  검색인덱스  \\\n",
       "15848  s472920069  NaN     NaN  서울특별시 서대문구 연희로11길 30  생활,편의 > 미용실   8640   \n",
       "\n",
       "        검색어  검색건수  검색주소타입  \n",
       "15848  헤어아트    32     NaN  "
      ]
     },
     "execution_count": 55,
     "metadata": {},
     "output_type": "execute_result"
    }
   ],
   "source": [
    "# 업소명에 NaN이 들어있어 네이버에 업소ID로 검색해본 결과\n",
    "# 네이버 플레이스에도 이름이 nan으로 처리되어있다. 네이버 자체의 실수인듯\n",
    "# 확인 URL : https://store.naver.com/hairshops/detail?id=472920069\n",
    "naver_search_raw[naver_search_raw['업소명'].isnull()]"
   ]
  },
  {
   "cell_type": "code",
   "execution_count": 56,
   "metadata": {},
   "outputs": [
    {
     "name": "stdout",
     "output_type": "stream",
     "text": [
      "주소가 서울이 아닌 정보 제거 전 개수 : 14129\n",
      "주소가 서울이 아닌 정보 제거 후 개수 : 13398\n"
     ]
    }
   ],
   "source": [
    "# 주소에 '서울' 문자열이 포함되지 않은 데이터 제거\n",
    "naver_search_raw = naver_search_raw[naver_search_raw['소재지도로명'].apply(lambda x: '서울' in x.split()[0])]\n",
    "print('주소가 서울이 아닌 정보 제거 전 개수 :', pre_count)\n",
    "print('주소가 서울이 아닌 정보 제거 후 개수 :', len(naver_search_raw))\n",
    "pre_count = len(naver_search_raw)"
   ]
  },
  {
   "cell_type": "code",
   "execution_count": 57,
   "metadata": {},
   "outputs": [
    {
     "name": "stdout",
     "output_type": "stream",
     "text": [
      "<class 'pandas.core.frame.DataFrame'>\n",
      "Int64Index: 13398 entries, 12 to 26795\n",
      "Data columns (total 9 columns):\n",
      "업소ID       13398 non-null object\n",
      "업소명        13397 non-null object\n",
      "소재지전화번호    9516 non-null object\n",
      "소재지도로명     13398 non-null object\n",
      "카테고리       13398 non-null object\n",
      "검색인덱스      13398 non-null int64\n",
      "검색어        13398 non-null object\n",
      "검색건수       13398 non-null int64\n",
      "검색주소타입     0 non-null float64\n",
      "dtypes: float64(1), int64(2), object(6)\n",
      "memory usage: 1.0+ MB\n"
     ]
    }
   ],
   "source": [
    "naver_search_raw.info()"
   ]
  },
  {
   "cell_type": "code",
   "execution_count": 58,
   "metadata": {},
   "outputs": [
    {
     "data": {
      "text/html": [
       "<div>\n",
       "<style scoped>\n",
       "    .dataframe tbody tr th:only-of-type {\n",
       "        vertical-align: middle;\n",
       "    }\n",
       "\n",
       "    .dataframe tbody tr th {\n",
       "        vertical-align: top;\n",
       "    }\n",
       "\n",
       "    .dataframe thead th {\n",
       "        text-align: right;\n",
       "    }\n",
       "</style>\n",
       "<table border=\"1\" class=\"dataframe\">\n",
       "  <thead>\n",
       "    <tr style=\"text-align: right;\">\n",
       "      <th></th>\n",
       "      <th>store_id</th>\n",
       "      <th>store_name</th>\n",
       "      <th>tel</th>\n",
       "      <th>addrRoad</th>\n",
       "      <th>category</th>\n",
       "    </tr>\n",
       "  </thead>\n",
       "  <tbody>\n",
       "    <tr>\n",
       "      <td>12</td>\n",
       "      <td>s38544397</td>\n",
       "      <td>헤어벤쳐</td>\n",
       "      <td>02-548-2683</td>\n",
       "      <td>서울특별시 강남구 압구정로 113-22</td>\n",
       "      <td>생활,편의 &gt; 미용실</td>\n",
       "    </tr>\n",
       "    <tr>\n",
       "      <td>13</td>\n",
       "      <td>s36435875</td>\n",
       "      <td>이철헤어커커 강남점</td>\n",
       "      <td>02-3473-2326</td>\n",
       "      <td>서울특별시 강남구 강남대로98길 9 의성빌딩 2층</td>\n",
       "      <td>생활,편의 &gt; 미용실</td>\n",
       "    </tr>\n",
       "    <tr>\n",
       "      <td>14</td>\n",
       "      <td>s31525797</td>\n",
       "      <td>헤어컷코</td>\n",
       "      <td>02-529-8971</td>\n",
       "      <td>서울특별시 강남구 남부순환로359길 4</td>\n",
       "      <td>미용 &gt; 머리염색</td>\n",
       "    </tr>\n",
       "    <tr>\n",
       "      <td>15</td>\n",
       "      <td>s18431392</td>\n",
       "      <td>헤어인러브</td>\n",
       "      <td>02-546-0366</td>\n",
       "      <td>서울특별시 강남구 선릉로148길 39 2층</td>\n",
       "      <td>생활,편의 &gt; 미용실</td>\n",
       "    </tr>\n",
       "    <tr>\n",
       "      <td>17</td>\n",
       "      <td>s12005487</td>\n",
       "      <td>사자헤어</td>\n",
       "      <td>02-547-3684</td>\n",
       "      <td>서울특별시 강남구 압구정로46길 27 명원빌딩</td>\n",
       "      <td>생활,편의 &gt; 미용실</td>\n",
       "    </tr>\n",
       "    <tr>\n",
       "      <td>...</td>\n",
       "      <td>...</td>\n",
       "      <td>...</td>\n",
       "      <td>...</td>\n",
       "      <td>...</td>\n",
       "      <td>...</td>\n",
       "    </tr>\n",
       "    <tr>\n",
       "      <td>26788</td>\n",
       "      <td>s1855668222</td>\n",
       "      <td>연우헤어</td>\n",
       "      <td>02-2208-0825</td>\n",
       "      <td>서울특별시 중랑구 봉우재로 155 1층 108호</td>\n",
       "      <td>생활,편의 &gt; 미용실</td>\n",
       "    </tr>\n",
       "    <tr>\n",
       "      <td>26789</td>\n",
       "      <td>k1921641224</td>\n",
       "      <td>포미헤어</td>\n",
       "      <td>02-433-3379</td>\n",
       "      <td>서울특별시 중랑구 동일로144길 26</td>\n",
       "      <td>생활,편의 &gt; 미용실</td>\n",
       "    </tr>\n",
       "    <tr>\n",
       "      <td>26791</td>\n",
       "      <td>s36317225</td>\n",
       "      <td>SALON DE 로이</td>\n",
       "      <td>02-977-5677</td>\n",
       "      <td>서울특별시 중랑구 동일로 942 1층</td>\n",
       "      <td>생활,편의 &gt; 미용실</td>\n",
       "    </tr>\n",
       "    <tr>\n",
       "      <td>26792</td>\n",
       "      <td>s1197075765</td>\n",
       "      <td>에이데이즈 헤어살롱</td>\n",
       "      <td>02-6925-2378</td>\n",
       "      <td>서울특별시 중랑구 봉화산로 232 2층</td>\n",
       "      <td>생활,편의 &gt; 미용실</td>\n",
       "    </tr>\n",
       "    <tr>\n",
       "      <td>26795</td>\n",
       "      <td>s13320299</td>\n",
       "      <td>헤어셰프 미용실</td>\n",
       "      <td>02-995-0045</td>\n",
       "      <td>서울특별시 도봉구 마들로11가길 16 KING 프라자</td>\n",
       "      <td>생활,편의 &gt; 미용실</td>\n",
       "    </tr>\n",
       "  </tbody>\n",
       "</table>\n",
       "<p>13398 rows × 5 columns</p>\n",
       "</div>"
      ],
      "text/plain": [
       "          store_id   store_name           tel                       addrRoad  \\\n",
       "12       s38544397         헤어벤쳐   02-548-2683          서울특별시 강남구 압구정로 113-22   \n",
       "13       s36435875   이철헤어커커 강남점  02-3473-2326    서울특별시 강남구 강남대로98길 9 의성빌딩 2층   \n",
       "14       s31525797         헤어컷코   02-529-8971          서울특별시 강남구 남부순환로359길 4   \n",
       "15       s18431392        헤어인러브   02-546-0366        서울특별시 강남구 선릉로148길 39 2층   \n",
       "17       s12005487         사자헤어   02-547-3684      서울특별시 강남구 압구정로46길 27 명원빌딩   \n",
       "...            ...          ...           ...                            ...   \n",
       "26788  s1855668222         연우헤어  02-2208-0825     서울특별시 중랑구 봉우재로 155 1층 108호   \n",
       "26789  k1921641224         포미헤어   02-433-3379           서울특별시 중랑구 동일로144길 26   \n",
       "26791    s36317225  SALON DE 로이   02-977-5677           서울특별시 중랑구 동일로 942 1층   \n",
       "26792  s1197075765   에이데이즈 헤어살롱  02-6925-2378          서울특별시 중랑구 봉화산로 232 2층   \n",
       "26795    s13320299     헤어셰프 미용실   02-995-0045  서울특별시 도봉구 마들로11가길 16 KING 프라자   \n",
       "\n",
       "          category  \n",
       "12     생활,편의 > 미용실  \n",
       "13     생활,편의 > 미용실  \n",
       "14       미용 > 머리염색  \n",
       "15     생활,편의 > 미용실  \n",
       "17     생활,편의 > 미용실  \n",
       "...            ...  \n",
       "26788  생활,편의 > 미용실  \n",
       "26789  생활,편의 > 미용실  \n",
       "26791  생활,편의 > 미용실  \n",
       "26792  생활,편의 > 미용실  \n",
       "26795  생활,편의 > 미용실  \n",
       "\n",
       "[13398 rows x 5 columns]"
      ]
     },
     "execution_count": 58,
     "metadata": {},
     "output_type": "execute_result"
    }
   ],
   "source": [
    "# 저장을 위해 필요한 컬럼만 컬럼명을 바꿔서 팬시색인한다.\n",
    "naver_search_for_save = naver_search_raw[['업소ID', '업소명', '소재지전화번호', '소재지도로명', '카테고리']].rename(columns={\n",
    "      '업소ID' : 'store_id'\n",
    "    , '업소명' : 'store_name'\n",
    "    , '소재지전화번호' : 'tel'\n",
    "    , '소재지도로명' : 'addrRoad'\n",
    "    , '카테고리' : 'category'\n",
    "})\n",
    "\n",
    "naver_search_for_save"
   ]
  },
  {
   "cell_type": "code",
   "execution_count": 59,
   "metadata": {},
   "outputs": [],
   "source": [
    "# DF를 csv파일로 저장\n",
    "naver_search_for_save.to_csv(\n",
    "      './data/naver_map_seoul_salon_output_data_2020-04-09_2020-04-19_final.csv'\n",
    "    , sep=','\n",
    "    , encoding='utf-8'\n",
    ")"
   ]
  },
  {
   "cell_type": "code",
   "execution_count": 43,
   "metadata": {},
   "outputs": [
    {
     "data": {
      "text/html": [
       "<div>\n",
       "<style scoped>\n",
       "    .dataframe tbody tr th:only-of-type {\n",
       "        vertical-align: middle;\n",
       "    }\n",
       "\n",
       "    .dataframe tbody tr th {\n",
       "        vertical-align: top;\n",
       "    }\n",
       "\n",
       "    .dataframe thead th {\n",
       "        text-align: right;\n",
       "    }\n",
       "</style>\n",
       "<table border=\"1\" class=\"dataframe\">\n",
       "  <thead>\n",
       "    <tr style=\"text-align: right;\">\n",
       "      <th></th>\n",
       "      <th>store_id</th>\n",
       "      <th>store_name</th>\n",
       "      <th>tel</th>\n",
       "      <th>addrRoad</th>\n",
       "      <th>category</th>\n",
       "    </tr>\n",
       "  </thead>\n",
       "  <tbody>\n",
       "    <tr>\n",
       "      <td>12</td>\n",
       "      <td>s38544397</td>\n",
       "      <td>헤어벤쳐</td>\n",
       "      <td>02-548-2683</td>\n",
       "      <td>서울특별시 강남구 압구정로 113-22</td>\n",
       "      <td>생활,편의 &gt; 미용실</td>\n",
       "    </tr>\n",
       "    <tr>\n",
       "      <td>13</td>\n",
       "      <td>s36435875</td>\n",
       "      <td>이철헤어커커 강남점</td>\n",
       "      <td>02-3473-2326</td>\n",
       "      <td>서울특별시 강남구 강남대로98길 9 의성빌딩 2층</td>\n",
       "      <td>생활,편의 &gt; 미용실</td>\n",
       "    </tr>\n",
       "    <tr>\n",
       "      <td>14</td>\n",
       "      <td>s31525797</td>\n",
       "      <td>헤어컷코</td>\n",
       "      <td>02-529-8971</td>\n",
       "      <td>서울특별시 강남구 남부순환로359길 4</td>\n",
       "      <td>미용 &gt; 머리염색</td>\n",
       "    </tr>\n",
       "    <tr>\n",
       "      <td>15</td>\n",
       "      <td>s18431392</td>\n",
       "      <td>헤어인러브</td>\n",
       "      <td>02-546-0366</td>\n",
       "      <td>서울특별시 강남구 선릉로148길 39 2층</td>\n",
       "      <td>생활,편의 &gt; 미용실</td>\n",
       "    </tr>\n",
       "    <tr>\n",
       "      <td>17</td>\n",
       "      <td>s12005487</td>\n",
       "      <td>사자헤어</td>\n",
       "      <td>02-547-3684</td>\n",
       "      <td>서울특별시 강남구 압구정로46길 27 명원빌딩</td>\n",
       "      <td>생활,편의 &gt; 미용실</td>\n",
       "    </tr>\n",
       "    <tr>\n",
       "      <td>...</td>\n",
       "      <td>...</td>\n",
       "      <td>...</td>\n",
       "      <td>...</td>\n",
       "      <td>...</td>\n",
       "      <td>...</td>\n",
       "    </tr>\n",
       "    <tr>\n",
       "      <td>26788</td>\n",
       "      <td>s1855668222</td>\n",
       "      <td>연우헤어</td>\n",
       "      <td>02-2208-0825</td>\n",
       "      <td>서울특별시 중랑구 봉우재로 155 1층 108호</td>\n",
       "      <td>생활,편의 &gt; 미용실</td>\n",
       "    </tr>\n",
       "    <tr>\n",
       "      <td>26789</td>\n",
       "      <td>k1921641224</td>\n",
       "      <td>포미헤어</td>\n",
       "      <td>02-433-3379</td>\n",
       "      <td>서울특별시 중랑구 동일로144길 26</td>\n",
       "      <td>생활,편의 &gt; 미용실</td>\n",
       "    </tr>\n",
       "    <tr>\n",
       "      <td>26791</td>\n",
       "      <td>s36317225</td>\n",
       "      <td>SALON DE 로이</td>\n",
       "      <td>02-977-5677</td>\n",
       "      <td>서울특별시 중랑구 동일로 942 1층</td>\n",
       "      <td>생활,편의 &gt; 미용실</td>\n",
       "    </tr>\n",
       "    <tr>\n",
       "      <td>26792</td>\n",
       "      <td>s1197075765</td>\n",
       "      <td>에이데이즈 헤어살롱</td>\n",
       "      <td>02-6925-2378</td>\n",
       "      <td>서울특별시 중랑구 봉화산로 232 2층</td>\n",
       "      <td>생활,편의 &gt; 미용실</td>\n",
       "    </tr>\n",
       "    <tr>\n",
       "      <td>26795</td>\n",
       "      <td>s13320299</td>\n",
       "      <td>헤어셰프 미용실</td>\n",
       "      <td>02-995-0045</td>\n",
       "      <td>서울특별시 도봉구 마들로11가길 16 KING 프라자</td>\n",
       "      <td>생활,편의 &gt; 미용실</td>\n",
       "    </tr>\n",
       "  </tbody>\n",
       "</table>\n",
       "<p>13398 rows × 5 columns</p>\n",
       "</div>"
      ],
      "text/plain": [
       "          store_id   store_name           tel                       addrRoad  \\\n",
       "12       s38544397         헤어벤쳐   02-548-2683          서울특별시 강남구 압구정로 113-22   \n",
       "13       s36435875   이철헤어커커 강남점  02-3473-2326    서울특별시 강남구 강남대로98길 9 의성빌딩 2층   \n",
       "14       s31525797         헤어컷코   02-529-8971          서울특별시 강남구 남부순환로359길 4   \n",
       "15       s18431392        헤어인러브   02-546-0366        서울특별시 강남구 선릉로148길 39 2층   \n",
       "17       s12005487         사자헤어   02-547-3684      서울특별시 강남구 압구정로46길 27 명원빌딩   \n",
       "...            ...          ...           ...                            ...   \n",
       "26788  s1855668222         연우헤어  02-2208-0825     서울특별시 중랑구 봉우재로 155 1층 108호   \n",
       "26789  k1921641224         포미헤어   02-433-3379           서울특별시 중랑구 동일로144길 26   \n",
       "26791    s36317225  SALON DE 로이   02-977-5677           서울특별시 중랑구 동일로 942 1층   \n",
       "26792  s1197075765   에이데이즈 헤어살롱  02-6925-2378          서울특별시 중랑구 봉화산로 232 2층   \n",
       "26795    s13320299     헤어셰프 미용실   02-995-0045  서울특별시 도봉구 마들로11가길 16 KING 프라자   \n",
       "\n",
       "          category  \n",
       "12     생활,편의 > 미용실  \n",
       "13     생활,편의 > 미용실  \n",
       "14       미용 > 머리염색  \n",
       "15     생활,편의 > 미용실  \n",
       "17     생활,편의 > 미용실  \n",
       "...            ...  \n",
       "26788  생활,편의 > 미용실  \n",
       "26789  생활,편의 > 미용실  \n",
       "26791  생활,편의 > 미용실  \n",
       "26792  생활,편의 > 미용실  \n",
       "26795  생활,편의 > 미용실  \n",
       "\n",
       "[13398 rows x 5 columns]"
      ]
     },
     "execution_count": 43,
     "metadata": {},
     "output_type": "execute_result"
    }
   ],
   "source": [
    "# 데이터 확인\n",
    "pd.read_csv('./data/naver_map_seoul_salon_output_data_2020-04-09_2020-04-19_final.csv', index_col=0)\n"
   ]
  }
 ],
 "metadata": {
  "kernelspec": {
   "display_name": "Python 3",
   "language": "python",
   "name": "python3"
  },
  "language_info": {
   "codemirror_mode": {
    "name": "ipython",
    "version": 3
   },
   "file_extension": ".py",
   "mimetype": "text/x-python",
   "name": "python",
   "nbconvert_exporter": "python",
   "pygments_lexer": "ipython3",
   "version": "3.7.4"
  }
 },
 "nbformat": 4,
 "nbformat_minor": 2
}
