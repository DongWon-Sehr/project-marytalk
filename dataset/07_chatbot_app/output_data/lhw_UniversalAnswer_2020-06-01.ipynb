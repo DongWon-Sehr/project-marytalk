{
 "cells": [
  {
   "cell_type": "markdown",
   "metadata": {},
   "source": [
    "#### 답변의 어두/어미 만들기\n",
    "---\n",
    "- 모든 질문에 대해 공통적으로 쓰이는 문장의 어두/어미 생성하기\n",
    "- **컨셉은 20대 초반 여자(마리)**"
   ]
  },
  {
   "cell_type": "markdown",
   "metadata": {},
   "source": [
    "#### 예상 질문 리스트\n",
    "---\n",
    "- ~~이 헤어스타일 뭐야?~~\n",
    "- 강남역 근처 XX컷 잘하는 미용실 추천해줘\n",
    "- 압구정에 OO펌 잘하는 미용실 알려주라\n",
    "- 노원역에서 걸어갈만한 후기 좋은 미용실 추천점\n",
    "\n",
    "기타 등등"
   ]
  },
  {
   "cell_type": "markdown",
   "metadata": {},
   "source": [
    "#### 챗봇 추천 예상 흐름도\n",
    "---\n",
    "Q) 강남역 근처 다운펌 잘하는 곳 어디야? <br><br>\n",
    "A) 강남역 근처 다운펌 잘하는 곳이 궁금하시군요. 준오헤어 강남레드점, 준오헤어 강남2호점, 차홍헤어 강남점이 있네요 <br><br>\n",
    "Q) 준오헤어 강남2호점 가격정보 알려줘 <br><br>\n",
    "A) https://store.naver.com/준오헤어+강남2호점. 링크를 통해 디자이너별 가격정보를 확인해주세요. <br><br>\n",
    "Q) 준오헤어 강남 2호점 후기 알려줘 <br><br>\n",
    "A) 준오헤어 강남 2호점 리뷰 기준으로 점수를 주자면, 82.90점이에요. <br><br>\n",
    "Q) 고오맙다. <br><br>\n",
    "A) 천만에요! 다음에도 또 불러주실거죠?"
   ]
  },
  {
   "cell_type": "markdown",
   "metadata": {},
   "source": [
    "#### 챗봇 문의 예상 흐름도\n",
    "---\n",
    "Q) 준오헤어 강남2호점 리뷰 어때? <br><br>\n",
    "A1) 준오헤어 강남2호점**의 리뷰가 궁금하시군요. 리뷰를 점수로 환산하면** 99.99점**이네요! 여기로 가보는 건 어때요?** <br><br>\n",
    "A2) 준오헤어 강남2호점**의 리뷰를 점수로 환산하면,** 99.99점**이에요! 가볼만 하지 않나요?**"
   ]
  },
  {
   "cell_type": "code",
   "execution_count": null,
   "metadata": {},
   "outputs": [],
   "source": [
    "# 추천 요청에 대한 답변 어두/어미 생성\n",
    "# XXX컷 잘하는 곳 추천해줘\n",
    "# 노원역에서 걸어갈만한 후기 좋은 미용실 추천점\n",
    "# =========================================================================\n",
    "recommendation_front_sentence = ['그것이 알고 싶단 마리양?'\n",
    "                                 , '이게 궁금하다는 마리야~? ㅇ_ㅇ'\n",
    "                                 , '이 마리님의 PICK을 받은 미용실이 궁금하단 마리지!? -v-']\n",
    "recommendation_back_sentence = ['옜다! 인심 썼다 이 마리얌~'\n",
    "                                , '요기가 잘한다고 소문난 곳이란 마리야~ >_<'\n",
    "                                , '거리도 가깝구, 후기도 좋구! 마리의 PICK!']"
   ]
  },
  {
   "cell_type": "code",
   "execution_count": null,
   "metadata": {},
   "outputs": [],
   "source": [
    "# 가격 질문에 대한 어두/어미 생성 (price_pos_keywords)\n",
    "# XX헤어 가격 정보 알려줘\n",
    "# 강남역 준오헤어 2호점 볼륨매직펌 가격 정보 알려줘\n",
    "questionPRI_front_sentence = ['가격 정보를 알고 싶다는 마리야?.?'\n",
    "                              , '가성비 좋은 샵이 궁금하단 마리지!']\n",
    "questionPRI_back_sentence = ['쨘! 가격 정보는 이 마리님이 해결했으니 안심하라구~! ^*^'\n",
    "                             , '디자이너 쌤들마다 다를 수 있으니 먼저 문의하라 이 마리야~']"
   ]
  },
  {
   "cell_type": "code",
   "execution_count": null,
   "metadata": {},
   "outputs": [],
   "source": [
    "# 위치 문의에 대한 답변 어두/어미 생성 (loc_pos_keywords)\n",
    "# 준오헤어 강남2호점 위치가 어디야?\n",
    "questionLOC_front_sentence = ['\"검색하기 귀찬타~\" 이 마리지?? -3-'\n",
    "                              , '이 마리님께서 알려주겠단 마리얌! ^-^b'\n",
    "                              , '오늘은 마리가 일일 네이비게이션!']\n",
    "questionLOC_back_sentence = ['에 있단 마리야~ :D'\n",
    "                             , '요기로 가면 된다는 마리야~'\n",
    "                             , '에서 기다리구 있대~ 빨리 가란 마리양~']"
   ]
  },
  {
   "cell_type": "code",
   "execution_count": null,
   "metadata": {},
   "outputs": [],
   "source": [
    "# 후기 문의 어두/어미 생성\n",
    "# XX헤어 후기 정보 알려줘\n",
    "questionREV_front_sentence = ['요기 리뷰가 궁금하단 마리쥐~?!'\n",
    "                             , '방문한 언니, 오빠들이 어뜨케 평가했는지 알랴줌!'\n",
    "                             , '리뷰 정보 분석중... 마리 두뇌 풀가동!'\n",
    "                             , '의 리뷰 기준의 제 점수는요... ']\n",
    "\n",
    "questionREV_back_sentence = ['이야! 여기 한번 가보는건 어때?'\n",
    "                                  , '인데? 믿고 한번 맡겨보란 마리야 ~_~'\n",
    "                                  , '이래! 요기요기~ 후기가 아주 좋단 마리야!'\n",
    "                                  , '얼른 안가구 모해 -_-! 마리랑 헤어지기 아쉽단 마리양~?']"
   ]
  },
  {
   "cell_type": "markdown",
   "metadata": {},
   "source": [
    "사용자가 고맙다고 했을때 끝맺을 말\n",
    "- **사용자가 더 이상 원하는 것이 없는 답장을 보냈을 때**"
   ]
  },
  {
   "cell_type": "code",
   "execution_count": null,
   "metadata": {},
   "outputs": [],
   "source": [
    "# 질문자가 더 이상 요구하는 것이 없는 답장을 보냈을 때\n",
    "# ex) 알려줘서 고마워\n",
    "no_request_answer = ['도움이 됐으면 좋겠단 마리지~ 언제든지 마리를 불러줘!'\n",
    "                    , '천만의 말씀! 도움이 되어서 다행이란 마리야~ *_*'\n",
    "                    , '미용실이 궁금하면 전문가 김마리를 찾아달란 마리야~!']"
   ]
  },
  {
   "cell_type": "code",
   "execution_count": null,
   "metadata": {},
   "outputs": [],
   "source": [
    "# 마리가 질문을 파악하지 못했을 때\n",
    "question_not_verified = ['마리는 무슨 말인지 하나도 모르겠단 마리야 ㅠ_ㅠ'\n",
    "                        , '이해를 못했단 마리야 @_@ 다시 말해주란 마리야~'\n",
    "                        , '마리가 이해할 수 있게 다시 말해주어~ :]']"
   ]
  },
  {
   "cell_type": "code",
   "execution_count": null,
   "metadata": {},
   "outputs": [],
   "source": []
  },
  {
   "cell_type": "code",
   "execution_count": null,
   "metadata": {},
   "outputs": [],
   "source": []
  },
  {
   "cell_type": "code",
   "execution_count": null,
   "metadata": {},
   "outputs": [],
   "source": []
  },
  {
   "cell_type": "code",
   "execution_count": null,
   "metadata": {},
   "outputs": [],
   "source": []
  },
  {
   "cell_type": "code",
   "execution_count": null,
   "metadata": {},
   "outputs": [],
   "source": []
  },
  {
   "cell_type": "code",
   "execution_count": null,
   "metadata": {},
   "outputs": [],
   "source": []
  },
  {
   "cell_type": "code",
   "execution_count": null,
   "metadata": {},
   "outputs": [],
   "source": []
  },
  {
   "cell_type": "code",
   "execution_count": null,
   "metadata": {},
   "outputs": [],
   "source": []
  },
  {
   "cell_type": "code",
   "execution_count": null,
   "metadata": {},
   "outputs": [],
   "source": []
  },
  {
   "cell_type": "code",
   "execution_count": null,
   "metadata": {},
   "outputs": [],
   "source": []
  },
  {
   "cell_type": "code",
   "execution_count": null,
   "metadata": {},
   "outputs": [],
   "source": []
  },
  {
   "cell_type": "code",
   "execution_count": null,
   "metadata": {},
   "outputs": [],
   "source": []
  },
  {
   "cell_type": "code",
   "execution_count": null,
   "metadata": {},
   "outputs": [],
   "source": []
  },
  {
   "cell_type": "code",
   "execution_count": null,
   "metadata": {},
   "outputs": [],
   "source": []
  },
  {
   "cell_type": "code",
   "execution_count": null,
   "metadata": {},
   "outputs": [],
   "source": []
  },
  {
   "cell_type": "code",
   "execution_count": null,
   "metadata": {},
   "outputs": [],
   "source": []
  },
  {
   "cell_type": "code",
   "execution_count": null,
   "metadata": {},
   "outputs": [],
   "source": []
  },
  {
   "cell_type": "code",
   "execution_count": null,
   "metadata": {},
   "outputs": [],
   "source": []
  },
  {
   "cell_type": "code",
   "execution_count": null,
   "metadata": {},
   "outputs": [],
   "source": []
  },
  {
   "cell_type": "code",
   "execution_count": null,
   "metadata": {},
   "outputs": [],
   "source": []
  },
  {
   "cell_type": "code",
   "execution_count": null,
   "metadata": {},
   "outputs": [],
   "source": []
  },
  {
   "cell_type": "code",
   "execution_count": null,
   "metadata": {},
   "outputs": [],
   "source": []
  },
  {
   "cell_type": "code",
   "execution_count": null,
   "metadata": {},
   "outputs": [],
   "source": []
  },
  {
   "cell_type": "code",
   "execution_count": null,
   "metadata": {},
   "outputs": [],
   "source": []
  },
  {
   "cell_type": "code",
   "execution_count": null,
   "metadata": {},
   "outputs": [],
   "source": []
  },
  {
   "cell_type": "code",
   "execution_count": null,
   "metadata": {},
   "outputs": [],
   "source": []
  },
  {
   "cell_type": "code",
   "execution_count": null,
   "metadata": {},
   "outputs": [],
   "source": []
  },
  {
   "cell_type": "code",
   "execution_count": null,
   "metadata": {},
   "outputs": [],
   "source": []
  }
 ],
 "metadata": {
  "kernelspec": {
   "display_name": "data-ml",
   "language": "python",
   "name": "data-ml"
  },
  "language_info": {
   "codemirror_mode": {
    "name": "ipython",
    "version": 3
   },
   "file_extension": ".py",
   "mimetype": "text/x-python",
   "name": "python",
   "nbconvert_exporter": "python",
   "pygments_lexer": "ipython3",
   "version": "3.7.4"
  }
 },
 "nbformat": 4,
 "nbformat_minor": 4
}
