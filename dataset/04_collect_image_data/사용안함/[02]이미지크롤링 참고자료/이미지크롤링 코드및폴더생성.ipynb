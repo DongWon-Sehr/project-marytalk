{
 "cells": [
  {
   "cell_type": "code",
   "execution_count": 13,
   "metadata": {},
   "outputs": [],
   "source": [
    "from selenium import webdriver\n",
    "from selenium.webdriver.common.keys import Keys\n",
    "import time\n",
    "from tqdm import tqdm"
   ]
  },
  {
   "cell_type": "code",
   "execution_count": 14,
   "metadata": {},
   "outputs": [],
   "source": [
    "def get_images(keyword):\n",
    "    # 웹 접속 - 네이버 이미지 접속\n",
    "    print(\"접속중\")\n",
    "    driver = webdriver.Chrome('../chromedriver.exe')\n",
    "    driver.implicitly_wait(30)\n",
    "\n",
    "    url = 'https://search.naver.com/search.naver?where=image&sm=tab_jum&query={}'.format(keyword)\n",
    "    driver.get(url)\n",
    "\n",
    "    #페이지 스크롤 다운\n",
    "    body = driver.find_element_by_css_selector('body')\n",
    "    for i in range(30):\n",
    "        body.send_keys(Keys.PAGE_DOWN)\n",
    "        time.sleep(1)\n",
    "\n",
    "    #이미지 링크 수집\n",
    "    imgs = driver.find_elements_by_css_selector('img._img')\n",
    "    result = []\n",
    "    for img in tqdm(imgs):\n",
    "        if 'http' in img.get_attribute('src'):\n",
    "            result.append(img.get_attribute('src'))\n",
    "    # print(result)\n",
    "\n",
    "    driver.close()\n",
    "    print(\"수집완료\")\n",
    "\n",
    "    #폴더생성\n",
    "    print(\"폴더생성\")\n",
    "    import os\n",
    "    if not os.path.isdir('./{}'.format(keyword)):\n",
    "        os.mkdir('./{}'.format(keyword))\n",
    "\n",
    "    #다운로드\n",
    "    print(\"다운로드\")\n",
    "    from urllib.request import urlretrieve\n",
    "    for index , link in tqdm(enumerate(result)):\n",
    "        start = link.rfind('.')\n",
    "        end = link.rfind('&')\n",
    "        # print(link[start:end])\n",
    "        filetype = link[start:end] #.png\n",
    "\n",
    "        urlretrieve(link , './{}/{}{}{}'.format(keyword,keyword,index,filetype))\n",
    "\n",
    "\n",
    "    print(\"다운로드 완료\")\n",
    "\n",
    "#     #압축 - 메일\n",
    "#     import zipfile\n",
    "#     zip_file = zipfile.ZipFile('./{}.zip'.format(keyword),'w')\n",
    "\n",
    "#     # print(os.listdir('./{}'.format(keyword)))\n",
    "#     for image in os.listdir('./{}'.format(keyword)):\n",
    "#         print(image,\"압축파일에 추가중\")\n",
    "#         zip_file.write('./{}/{}'.format(keyword,image), compress_type=zipfile.ZIP_DEFLATED)\n",
    "#     zip_file.close()\n",
    "#     print(\"압축완료\")"
   ]
  },
  {
   "cell_type": "code",
   "execution_count": 15,
   "metadata": {},
   "outputs": [
    {
     "name": "stdout",
     "output_type": "stream",
     "text": [
      "수집할 이미지 키워드 입력 : 이승우\n",
      "접속중\n"
     ]
    },
    {
     "name": "stderr",
     "output_type": "stream",
     "text": [
      "100%|███████████████████████████████████████████████████████████████████████████████| 550/550 [00:03<00:00, 139.92it/s]\n",
      "4it [00:00, 34.47it/s]"
     ]
    },
    {
     "name": "stdout",
     "output_type": "stream",
     "text": [
      "수집완료\n",
      "폴더생성\n",
      "다운로드\n"
     ]
    },
    {
     "name": "stderr",
     "output_type": "stream",
     "text": [
      "550it [00:16, 33.34it/s]"
     ]
    },
    {
     "name": "stdout",
     "output_type": "stream",
     "text": [
      "다운로드 완료\n"
     ]
    },
    {
     "name": "stderr",
     "output_type": "stream",
     "text": [
      "\n"
     ]
    }
   ],
   "source": [
    "if __name__ == '__main__':\n",
    "    keyword = input(\"수집할 이미지 키워드 입력 : \")\n",
    "    get_images(keyword)"
   ]
  }
 ],
 "metadata": {
  "kernelspec": {
   "display_name": "Python 3",
   "language": "python",
   "name": "python3"
  },
  "language_info": {
   "codemirror_mode": {
    "name": "ipython",
    "version": 3
   },
   "file_extension": ".py",
   "mimetype": "text/x-python",
   "name": "python",
   "nbconvert_exporter": "python",
   "pygments_lexer": "ipython3",
   "version": "3.7.6"
  }
 },
 "nbformat": 4,
 "nbformat_minor": 4
}
