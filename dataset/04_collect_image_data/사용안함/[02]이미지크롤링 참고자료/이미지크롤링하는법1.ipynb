{
 "cells": [
  {
   "cell_type": "code",
   "execution_count": 13,
   "metadata": {},
   "outputs": [],
   "source": [
    "import re\n",
    "import requests\n",
    "from bs4 import BeautifulSoup\n",
    "from selenium import webdriver"
   ]
  },
  {
   "cell_type": "code",
   "execution_count": 14,
   "metadata": {},
   "outputs": [],
   "source": [
    "def getImage(keyword,no): \n",
    "    url=\"https://search.naver.com/search.naver?where=image&sm=tab_jum&query=\"+keyword\n",
    "    html = requests.get(url)\n",
    "    bs_html = BeautifulSoup(html.content,\"html.parser\")\n",
    "    photowall = bs_html.find('div',{\"class\":\"photowall\"})\n",
    "    img_list = photowall.find_all(\"img\",{\"class\":\"_img\"})\n",
    "\n",
    "    # for i in range(len(img_list)):\n",
    "    for i in range(no):\n",
    "        img_link = re.findall('data-source=\"(.+?)\"',str(img_list[i]))[0]\n",
    "        img_con = requests.get(img_link).content\n",
    "        file = open('d:/hairstyle/가르마펌/search_img'+keyword+str(i+1)+\".png\",\"wb\")  # png파일로 저장.\n",
    "        file.write(img_con)\n",
    "        file.close()\n",
    "        print(img_link)"
   ]
  },
  {
   "cell_type": "code",
   "execution_count": 15,
   "metadata": {},
   "outputs": [
    {
     "name": "stdout",
     "output_type": "stream",
     "text": [
      "어떤 헤어스타일이미지를 크롤링할것인가요?:볼륨펌\n"
     ]
    }
   ],
   "source": [
    "hair=input('어떤 헤어스타일이미지를 크롤링할것인가요?:')   # 크롤링할 헤어스타일 검색."
   ]
  },
  {
   "cell_type": "code",
   "execution_count": 16,
   "metadata": {},
   "outputs": [
    {
     "name": "stdout",
     "output_type": "stream",
     "text": [
      "https://search.pstatic.net/common/?src=http%3A%2F%2Fldb.phinf.naver.net%2F20190904_127%2F1567609092810kpSer_PNG%2Ffe8L0D4Gh9IkwzVZjYAwN_Gj.PNG.png&amp;type=b400\n",
      "https://search.pstatic.net/common/?src=http%3A%2F%2Fldb.phinf.naver.net%2F20200329_42%2F1585414247359KHtbf_JPEG%2F8vtzlK4XOQeZmA7h_rNFN6iK.jpg&amp;type=b400\n",
      "https://search.pstatic.net/common/?src=http%3A%2F%2Fldb.phinf.naver.net%2F20200311_152%2F1583938411191ktm2K_JPEG%2FCUCjm64iOvRdHgLcegcThduD.jpg&amp;type=b400\n",
      "https://search.pstatic.net/common/?src=http%3A%2F%2Fldb.phinf.naver.net%2F20200311_104%2F1583938615243CQ2cq_JPEG%2FmlZbXssISe6zq_tzQWVXXm_X.jpg&amp;type=b400\n",
      "https://search.pstatic.net/common/?src=http%3A%2F%2Fldb.phinf.naver.net%2F20200304_200%2F1583319020691mGJt8_JPEG%2Fws2C0z3EjwOBKjiDF5uE25w3.jpg&amp;type=b400\n",
      "https://search.pstatic.net/common/?src=http%3A%2F%2Fldb.phinf.naver.net%2F20200330_173%2F1585560701760lU9UL_JPEG%2FLiOql6m3mYEDFWwci67Fr6d8.jpg&amp;type=b400\n",
      "https://search.pstatic.net/common/?src=http%3A%2F%2Fldb.phinf.naver.net%2F20190904_215%2F1567609176307PyJRc_PNG%2Fmj1qXhJmOEbLAjlP4xwVjOjE.PNG.png&amp;type=b400\n",
      "https://search.pstatic.net/common/?src=http%3A%2F%2Fldb.phinf.naver.net%2F20200304_47%2F1583318812185CNnff_JPEG%2FRs566YE1t3OZMmSLIqFqS-Kj.jpg&amp;type=b400\n",
      "https://search.pstatic.net/common/?src=http%3A%2F%2Fldb.phinf.naver.net%2F20200320_13%2F1584708032118KdON5_JPEG%2F0D91neT0i1Kqz__T3ACktxSI.jpg&amp;type=b400\n",
      "https://search.pstatic.net/common/?src=http%3A%2F%2Fldb.phinf.naver.net%2F20200314_109%2F1584115447668kcTFn_JPEG%2FK6I4t2ByzKTvjHnTixbQfJAo.jpg&amp;type=b400\n",
      "https://search.pstatic.net/common/?src=http%3A%2F%2Fldb.phinf.naver.net%2F20200319_89%2F1584626401607uxhzL_JPEG%2FSXUkhzSmLAq0hH7WfZd1XCaw.jpg&amp;type=b400\n",
      "https://search.pstatic.net/common/?src=http%3A%2F%2Fldb.phinf.naver.net%2F20200221_137%2F1582211127987J3hec_JPEG%2FaJRZfmEUBMOdNLiyeBG6Iaoo.jpg&amp;type=b400\n",
      "https://search.pstatic.net/common/?src=http%3A%2F%2Fldb.phinf.naver.net%2F20200314_255%2F1584116876018MRtwE_JPEG%2F3vtZLdLSBBHZVsSO9HPU5UFW.jpg&amp;type=b400\n",
      "https://search.pstatic.net/common/?src=http%3A%2F%2Fldb.phinf.naver.net%2F20200207_50%2F1581084250102cwnhO_JPEG%2FWCQlZ6uPm9NDhnRFJxtmpiJj.jpg&amp;type=b400\n",
      "https://search.pstatic.net/common/?src=http%3A%2F%2Fldb.phinf.naver.net%2F20200211_149%2F15813984800943shBm_JPEG%2FUi5E_UmQsqLh2SbBaCTJ9EqV.jpg&amp;type=b400\n",
      "https://search.pstatic.net/common/?src=http%3A%2F%2Fldb.phinf.naver.net%2F20190523_17%2F15585753254295duuv_JPEG%2F5I4WG4T6T54TbK8IR2JEZ5JW.jpg&amp;type=b400\n",
      "https://search.pstatic.net/common/?src=http%3A%2F%2Fldb.phinf.naver.net%2F20200328_164%2F1585395744648LlPWi_JPEG%2FsZyOW3NfJS6YHMT9YhPtgian.jpg&amp;type=b400\n",
      "https://search.pstatic.net/common/?src=http%3A%2F%2Fldb.phinf.naver.net%2F20200220_125%2F1582206076256tn1cu_JPEG%2FE8V-RoFWvFNtfHmq9JzBTHdp.jpg&amp;type=b400\n",
      "https://search.pstatic.net/common/?src=http%3A%2F%2Fldb.phinf.naver.net%2F20200331_268%2F1585634366342hPjKe_JPEG%2FxbyzlU0mgJJ1P2XM39gVYI4i.jpg&amp;type=b400\n",
      "https://search.pstatic.net/common/?src=http%3A%2F%2Fldb.phinf.naver.net%2F20200325_193%2F1585120545118BTpAe_JPEG%2FrJZj8UsvAS-O6oVEkpZlB6nH.jpg&amp;type=b400\n",
      "https://search.pstatic.net/common/?src=http%3A%2F%2Fldb.phinf.naver.net%2F20200316_174%2F15843455527235j4x9_JPEG%2Fj5zgWvEqkGU0jMivCUA7_8dh.jpg&amp;type=b400\n",
      "https://search.pstatic.net/common/?src=http%3A%2F%2Fldb.phinf.naver.net%2F20200307_48%2F1583549102885YyLhi_JPEG%2Fc2fPCil_Py82yFNrDgNH6ggY.jpg&amp;type=b400\n",
      "https://search.pstatic.net/common/?src=http%3A%2F%2Fldb.phinf.naver.net%2F20200327_254%2F1585288236446j5f7b_JPEG%2F7zlJMngkHgMtTOaiSUALGJKi.jpg&amp;type=b400\n",
      "https://search.pstatic.net/common/?src=http%3A%2F%2Fldb.phinf.naver.net%2F20200220_103%2F1582182873842Xc1Dz_JPEG%2F36Z7ftJoJa82oPwiRO2sFDfq.jpg&amp;type=b400\n",
      "https://search.pstatic.net/common/?src=http%3A%2F%2Fldb.phinf.naver.net%2F20200311_121%2F1583905841853BDYRX_JPEG%2FAWQjp6IF7dzj70lFSzwSoCcm.jpg&amp;type=b400\n",
      "https://search.pstatic.net/common/?src=http%3A%2F%2Fldb.phinf.naver.net%2F20200221_140%2F15822108187479rcOw_JPEG%2FsL1IAgcq8JZ-RrsxXHW08T4K.jpg&amp;type=b400\n",
      "https://search.pstatic.net/common/?src=http%3A%2F%2Fldb.phinf.naver.net%2F20200321_169%2F1584762964166013Cl_JPEG%2FYgNH7hEz5CNaJhzOiLBNZk7l.jpg&amp;type=b400\n",
      "https://search.pstatic.net/common/?src=http%3A%2F%2Fldb.phinf.naver.net%2F20200203_114%2F1580720631662CfSqX_JPEG%2FmFyI4CmhjKVod-bGn0lGk6MG.jpg&amp;type=b400\n",
      "https://search.pstatic.net/common/?src=http%3A%2F%2Fldb.phinf.naver.net%2F20200210_108%2F1581262987744a5cYG_JPEG%2Fv2F-YDep-7njxR0cpF7qzoQI.jpg&amp;type=b400\n",
      "https://search.pstatic.net/common/?src=http%3A%2F%2Fblogfiles.naver.net%2FMjAxOTExMTRfMjgx%2FMDAxNTczNzA1NTQyMTQz.mUfNBwcsbQrj6NIweHYla7Iw59Ypx9NmdQ8B3SewnuUg.anI5547YM556hzPQGJ67cuP8G30Gcg3lT5eCIBpsdngg.JPEG.boomyoy%2F1573705541584.jpg&amp;type=b400\n",
      "https://search.pstatic.net/common/?src=http%3A%2F%2Fldb.phinf.naver.net%2F20200227_89%2F1582768378126ppRce_JPEG%2FnERtuo_m159PpbctEI8v6EE9.jpg&amp;type=b400\n",
      "https://search.pstatic.net/common/?src=http%3A%2F%2Fldb.phinf.naver.net%2F20200229_222%2F1582976430020Q9QmS_JPEG%2FHXvtmiANTThTNrBYVM3W03d3.jpg&amp;type=b400\n",
      "https://search.pstatic.net/common/?src=http%3A%2F%2Fldb.phinf.naver.net%2F20200316_145%2F15843275979080kKG4_JPEG%2FihB4aMLk57WTeiOX1l2FxcC6.jpg&amp;type=b400\n",
      "https://search.pstatic.net/common/?src=http%3A%2F%2Fldb.phinf.naver.net%2F20200314_223%2F1584162037162wrTE5_JPEG%2F98YoJ0Dyi_hZABxEXfiHEpt5.jpg&amp;type=b400\n",
      "https://search.pstatic.net/common/?src=http%3A%2F%2Fldb.phinf.naver.net%2F20200318_15%2F1584500664077im7lc_JPEG%2FtSysOVI5KRJ7qcn4p4fjkOGE.jpg&amp;type=b400\n",
      "https://search.pstatic.net/common/?src=http%3A%2F%2Fldb.phinf.naver.net%2F20180909_211%2F15364874036152oSeb_JPEG%2FfTIKsfz8waMQ7nLRpPSOAlGx.jpg&amp;type=b400\n",
      "https://search.pstatic.net/common/?src=http%3A%2F%2Fldb.phinf.naver.net%2F20170729_143%2F1501295038370Q5DqF_JPEG%2Ff7930da7-d5da-42f7-9048-7ce7885a570f.jpeg&amp;type=b400\n",
      "https://search.pstatic.net/common/?src=http%3A%2F%2Fldb.phinf.naver.net%2F20200120_193%2F1579497427194Lhlb2_JPEG%2FID5ecbhnVhv2rce_uResRrDi.jpg&amp;type=b400\n",
      "https://search.pstatic.net/common/?src=http%3A%2F%2Fldb.phinf.naver.net%2F20200312_134%2F1584019135683a2F2c_JPEG%2Fkg9iygqey8m-c_dmr5F4KQnF.jpg&amp;type=b400\n",
      "https://search.pstatic.net/common/?src=http%3A%2F%2Fldb.phinf.naver.net%2F20190117_103%2F1547701509459M4wo1_PNG%2F_WCTMpPR2UsoSySI5-uDA6fP.png&amp;type=b400\n",
      "https://search.pstatic.net/common/?src=http%3A%2F%2Fldb.phinf.naver.net%2F20200312_231%2F1584019950225auNkn_JPEG%2FCxVVuVDDb1rc-7d0M5PD9w3v.jpg&amp;type=b400\n",
      "https://search.pstatic.net/common/?src=http%3A%2F%2Fldb.phinf.naver.net%2F20200318_15%2F15845144327717P1tT_JPEG%2F_KUJtXEfx47AGfqHJT1Iv2i6.jpg&amp;type=b400\n",
      "https://search.pstatic.net/common/?src=http%3A%2F%2Fldb.phinf.naver.net%2F20200321_1%2F1584763533032xERfE_JPEG%2FLTS25qL3bQeCZP6lAhXnQ5Af.jpg&amp;type=b400\n",
      "https://search.pstatic.net/common/?src=http%3A%2F%2Fldb.phinf.naver.net%2F20190612_162%2F1560322700944cve3Q_JPEG%2FYz3Rpdf6adWOmKkU-Wwh3bLp.jpg&amp;type=b400\n",
      "https://search.pstatic.net/common/?src=http%3A%2F%2Fldb.phinf.naver.net%2F20180913_277%2F1536812852278NJuNH_JPEG%2FJW2ltsyojxHFuhyZSY3Rd3Zl.jpg&amp;type=b400\n",
      "https://search.pstatic.net/common/?src=http%3A%2F%2Fldb.phinf.naver.net%2F20191122_235%2F1574401093040gfbkW_JPEG%2F4oeIcaEbQeOF19RMbGOksqq_.jpeg.jpg&amp;type=b400\n",
      "https://search.pstatic.net/common/?src=http%3A%2F%2Fldb.phinf.naver.net%2F20200228_146%2F1582854359484MOHsa_JPEG%2FhDekooxoTwmkvqZsnCojlC1k.jpg&amp;type=b400\n",
      "https://search.pstatic.net/common/?src=http%3A%2F%2Fldb.phinf.naver.net%2F20200117_101%2F1579235088211O07af_JPEG%2FRRXnKbkvhdh93ILk_A1fZZ4x.jpg&amp;type=b400\n",
      "https://search.pstatic.net/common/?src=http%3A%2F%2Fldb.phinf.naver.net%2F20200329_245%2F1585414247101TUNJA_JPEG%2FdZSqug8YAiorV61KTVbRi02k.jpg&amp;type=b400\n",
      "https://search.pstatic.net/common/?src=http%3A%2F%2Fldb.phinf.naver.net%2F20200311_219%2F1583938411158H00lB_JPEG%2F-GGd0inGixz4-hK5yFu_gN2g.jpg&amp;type=b400\n"
     ]
    }
   ],
   "source": [
    "getImage(hair,50) # 50 개 제한 걸려있다. 셀레니움을 통한 마우스 스크롤이나 다음창넘기기로 해결해야할듯싶다."
   ]
  }
 ],
 "metadata": {
  "kernelspec": {
   "display_name": "Python 3",
   "language": "python",
   "name": "python3"
  },
  "language_info": {
   "codemirror_mode": {
    "name": "ipython",
    "version": 3
   },
   "file_extension": ".py",
   "mimetype": "text/x-python",
   "name": "python",
   "nbconvert_exporter": "python",
   "pygments_lexer": "ipython3",
   "version": "3.7.6"
  }
 },
 "nbformat": 4,
 "nbformat_minor": 4
}
