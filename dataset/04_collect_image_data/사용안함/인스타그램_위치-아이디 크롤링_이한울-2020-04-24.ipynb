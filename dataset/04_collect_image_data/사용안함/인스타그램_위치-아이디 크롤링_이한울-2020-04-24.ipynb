{
 "cells": [
  {
   "cell_type": "code",
   "execution_count": 75,
   "metadata": {},
   "outputs": [],
   "source": [
    "import  urllib.request\n",
    "import selenium\n",
    "from selenium.webdriver import Chrome\n",
    "from selenium.webdriver.common.keys import Keys\n",
    "from selenium.webdriver.common.action_chains import ActionChains\n",
    "from selenium.webdriver.support.ui import WebDriverWait\n",
    "from bs4 import BeautifulSoup\n",
    "import requests\n",
    "from pandas import Series, DataFrame\n",
    "import pandas as pd\n",
    "import numpy as np\n",
    "from datetime import datetime\n",
    "import time\n",
    "import sys\n",
    "import tqdm\n",
    "import selenium.common.exceptions as sce"
   ]
  },
  {
   "cell_type": "code",
   "execution_count": 76,
   "metadata": {},
   "outputs": [],
   "source": [
    "loc_list = []"
   ]
  },
  {
   "cell_type": "code",
   "execution_count": 77,
   "metadata": {},
   "outputs": [
    {
     "data": {
      "text/html": [
       "<div>\n",
       "<style scoped>\n",
       "    .dataframe tbody tr th:only-of-type {\n",
       "        vertical-align: middle;\n",
       "    }\n",
       "\n",
       "    .dataframe tbody tr th {\n",
       "        vertical-align: top;\n",
       "    }\n",
       "\n",
       "    .dataframe thead th {\n",
       "        text-align: right;\n",
       "    }\n",
       "</style>\n",
       "<table border=\"1\" class=\"dataframe\">\n",
       "  <thead>\n",
       "    <tr style=\"text-align: right;\">\n",
       "      <th></th>\n",
       "      <th>keyword</th>\n",
       "      <th>location</th>\n",
       "      <th>store_name</th>\n",
       "      <th>writer</th>\n",
       "      <th>main_text</th>\n",
       "    </tr>\n",
       "  </thead>\n",
       "  <tbody>\n",
       "  </tbody>\n",
       "</table>\n",
       "</div>"
      ],
      "text/plain": [
       "Empty DataFrame\n",
       "Columns: [keyword, location, store_name, writer, main_text]\n",
       "Index: []"
      ]
     },
     "execution_count": 77,
     "metadata": {},
     "output_type": "execute_result"
    }
   ],
   "source": [
    "df_insta = \\\n",
    "DataFrame(columns= \\\n",
    "          ['keyword', 'location', 'store_name', 'writer', 'main_text'])\n",
    "df_insta"
   ]
  },
  {
   "cell_type": "code",
   "execution_count": null,
   "metadata": {},
   "outputs": [],
   "source": []
  },
  {
   "cell_type": "code",
   "execution_count": 78,
   "metadata": {},
   "outputs": [],
   "source": [
    "def insta_img_search(key_word):\n",
    "    \n",
    "    global loc_list\n",
    "    global df_insta\n",
    "    # 웹 크롤링에 사용할 웹-드라이버 설정\n",
    "    driver = Chrome('../chromedriver.exe')\n",
    "    \n",
    "    # 세션 클래스 생성\n",
    "    session = requests.Session()\n",
    "    \n",
    "\n",
    "    \n",
    "    # 요청 보낼 때 header와 함께 전송\n",
    "    header = {\"User-Agent\" : \"Mozilla/5.0 (Windows NT 10.0; Win64; x64) \\\n",
    "               AppleWebKit/537.36 (KHTML, like Gecko) Chrome/81.0.4044.122 Safari/537.36\", \n",
    "              \"Accept\":\"text/html,application/xhtml+xml,application/xml;\\\n",
    "              q=0.9,imgwebp,*/*;q=0.8\"}\n",
    "    \n",
    "    insta_image = 'https://www.instagram.com/'\n",
    "    req = session.get(insta_image, headers=header)\n",
    "    driver.get(insta_image)\n",
    "    time.sleep(5.7 + abs(np.random.randn()))\n",
    "\n",
    "# ==========================================================================\n",
    "# 페이스북 계정으로 로그인하기\n",
    "# ==========================================================================\n",
    "    try:# 페이스북으로 로그인 클릭\n",
    "        driver.find_element_by_xpath('//*[@id=\"react-root\"]/section/main/div/article/div/div[1]/div/form/div[6]/button/span[2]').click()\n",
    "    \n",
    "    except sce.NoSuchElementException:\n",
    "        time.sleep(2.25 + np.random.rand() + np.random.rand())\n",
    "        login_two = driver.find_element_by_class_name('KPnG0')\n",
    "        login_two.click()\n",
    "    \n",
    "    time.sleep(2.255 + abs(np.random.randn()))\n",
    "    \n",
    "    # 아이디 입력 창을 찾아 변수에 저장\n",
    "    input_id = driver.find_element_by_id('email')\n",
    "    # 아이디 입력 창에 아이디를 입력\n",
    "    input_id.send_keys('본인의 페이스북 ID')\n",
    "    time.sleep(2.4182 + abs(np.random.randn()))\n",
    "    \n",
    "    # 비밀번호 입력 창을 찾아 변수에 저장\n",
    "    input_pw = driver.find_element_by_id('pass')\n",
    "    # 비밀번호 입력 창에 비밀번호를 입력\n",
    "    input_pw.send_keys('본인의 페이스북 PW')\n",
    "    # 로그인 버튼의 위치를 찾아 변수에 저장\n",
    "    submit_b = driver.find_element_by_id('loginbutton')\n",
    "    \n",
    "    # 로그인 버튼 클릭\n",
    "    submit_b.submit()\n",
    "    time.sleep(2.1982 + abs(np.random.randn()) + abs(np.random.randn()))\n",
    "# ==========================================================================\n",
    "# 페이스북 로그인 코드의 끝\n",
    "# ==========================================================================\n",
    "############################################################################\n",
    "# ==========================================================================\n",
    "# instagram 계정으로 로그인하기\n",
    "# ==========================================================================\n",
    "    # 아이디 입력 창을 찾아 변수에 저장\n",
    "#     xpath_id = \"\"\"//*[@id=\"react-root\"]/section/main/article/div[2]/div[1]/div/form/div[2]/div/label/input\"\"\"\n",
    "#     input_id = driver.find_element_by_xpath(xpath_id)  # instagram login\n",
    "    # 아이디 입력 창에 아이디를 입력\n",
    "#     input_id.send_keys('smarttuna')\n",
    "#     time.sleep(2.4182 + abs(np.random.randn()))\n",
    "    \n",
    "    # 비밀번호 입력 창을 찾아 변수에 저장\n",
    "#    input_pw = driver.find_element_by_id('pass')  # facebook login\n",
    "#     xpath_pw = \"\"\"//*[@id=\"react-root\"]/section/main/article/div[2]/div[1]/div/form/div[3]/div/label/input\"\"\"\n",
    "#     input_pw = driver.find_element_by_xpath(xpath_pw)  # instagram login\n",
    "    # 비밀번호 입력 창에 비밀번호를 입력\n",
    "    # getpass 모듈 getpass 함수로 입력값 마스킹 하여 받기\n",
    "#     password = getpass('password :')\n",
    "#     input_pw.send_keys(password)\n",
    "\n",
    "    # 로그인 버튼의 위치를 찾아 변수에 저장\n",
    "#    submit_b = driver.find_element_by_id('loginbutton')  # facebook login\n",
    "#     xpath_login = \"\"\"//*[@id=\"react-root\"]/section/main/article/div[2]/div[1]/div/form/div[4]/button/div\"\"\"\n",
    "#     submit_b = driver.find_element_by_xpath(xpath_login)  # instagram login\n",
    "    \n",
    "    # 로그인 버튼 클릭\n",
    "#     submit_b.submit()\n",
    "#     time.sleep(1 + abs(np.random.randn()) + abs(np.random.randn()))\n",
    "# ==========================================================================\n",
    "    # instagram으로 로그인 하기 끝\n",
    "# ==========================================================================       \n",
    "    \n",
    "    # 알림설정을 하라는 귀찮은 창이 뜨면 '나중에 하기' 클릭하기\n",
    "    try:\n",
    "        time.sleep(3.0)\n",
    "        notify = driver.find_element_by_xpath('/html/body/div[4]/div/div/div[3]/button[2]')\n",
    "        notify.click()\n",
    "    \n",
    "    except sce.ElementNotInteractableException:\n",
    "        driver.find_element_by_css_selector('body > div.RnEpo.Yx5HN > div > div > div.mt3GC > button.aOOlW.HoLwm').click()\n",
    "    \n",
    "    driver.implicitly_wait(50)\n",
    "    time.sleep(np.random.rand() + 2.12)\n",
    "    \n",
    "    try:\n",
    "        # 인스타그램의 해시태그 검색창의 xpath를 찾는다\n",
    "        search = driver.find_element_by_xpath('//*[@id=\"react-root\"]/section/nav/div[2]/div/div/div[2]/input').send_keys(key_word, Keys.RETURN)\n",
    "        driver.implicitly_wait(10)\n",
    "\n",
    "    except sce.ElementNotInteractableException:\n",
    "        search = driver.find_element_by_css_selector('#react-root > section > nav > div._8MQSO.Cx7Bp > div > div > div.LWmhU._0aCwM > input').send_keys(key_word, Keys.RETURN)\n",
    "        driver.implicitly_wait(10)\n",
    "    \n",
    "    # 검색창에 key_word를 입력한 후 엔터키 입력하기\n",
    "    ActionChains(driver).key_down(Keys.ENTER).key_up(Keys.ENTER).perform()\n",
    "    time.sleep(np.random.rand() + np.random.rand() + 1.2)\n",
    "    \n",
    "    # key_word에 해당하는 검색 결과 중 가장 첫 번째 결과 선택(↓방향키)\n",
    "    ActionChains(driver).key_down(Keys.DOWN).key_up(Keys.DOWN).perform()\n",
    "    time.sleep(np.random.rand() + np.random.rand() + 1.2)\n",
    "    \n",
    "    # 선택된 결과로 검색하기\n",
    "    ActionChains(driver).key_down(Keys.ENTER).key_up(Keys.ENTER).perform()\n",
    "    driver.implicitly_wait(10)\n",
    "\n",
    "    # 검색 결과 페이지 소스 따오기 - 총 게시글 수 확인\n",
    "    time.sleep(3.0 + np.random.rand() + np.random.rand())\n",
    "    main_src = driver.page_source\n",
    "    time.sleep(2)\n",
    "    main_soup = BeautifulSoup(main_src, 'html.parser')\n",
    "    time.sleep(1.5 + np.random.rand())\n",
    "    board = main_soup.find('span', class_='g47SY ')\n",
    "    total_count = int((board.get_text()).replace(',', ''))\n",
    "    print(\"총 게시글 수: \",total_count)\n",
    "\n",
    "    # 첫번째 게시글 클릭\n",
    "    first_post = driver.find_element_by_class_name(\"eLAPa\")\n",
    "    time.sleep(np.random.rand() + np.random.rand() + 1)\n",
    "    first_post.click()\n",
    "    time.sleep(3.0 + np.random.rand())\n",
    "\n",
    "    # total count 만큼 게시글 넘겨가며 크롤링\n",
    "    for i in tqdm.tnrange(total_count):\n",
    "        driver.implicitly_wait(10)\n",
    "        pg_src = driver.page_source\n",
    "        time.sleep(2 + np.random.rand())\n",
    "        soup = BeautifulSoup(pg_src, 'html.parser')\n",
    "\n",
    "        # 게시글에서 id와 위치태그가 있는 div 선택\n",
    "        soup.find('div', 'o-MQd  ')\n",
    "        time.sleep(1.5)\n",
    "\n",
    "        # 위치태그 가져오기\n",
    "        loc_html = soup.find('a','O4GlU')\n",
    "        # 있으면 location 변수에 저장\n",
    "        if loc_html:\n",
    "            location = loc_html.get_text()\n",
    "        # 없으면 np.nan으로 저장\n",
    "        else:\n",
    "            location = np.nan\n",
    "        print('location :', location)\n",
    "\n",
    "\n",
    "        # 작성자 id 가져오기\n",
    "        id_div = soup.find('div','e1e1d')\n",
    "        id_html = id_div.find('a')\n",
    "        \n",
    "        # 있으면 id_man에 저장\n",
    "        if id_html:\n",
    "            id_man = id_html.get_text()\n",
    "        \n",
    "        # 없으면 np.nan 저장\n",
    "        else:\n",
    "            id_man = np.nan\n",
    "        print('id :', id_man)\n",
    "        print()\n",
    "\n",
    "        # 게시물의 본문 가져오기\n",
    "        txt_html = soup.find('div', 'C4VMK')\n",
    "        \n",
    "        # 있으면 main_txt에 저장\n",
    "        if txt_html:\n",
    "            main_txt = txt_html.get_text()\n",
    "        \n",
    "        # 없으면 np.nan 저장\n",
    "        else:\n",
    "            main_txt = np.nan\n",
    "        print(main_txt)\n",
    "        print()\n",
    "\n",
    "        time.sleep(np.random.rand() + np.random.rand() + 0.75)\n",
    "\n",
    "        # 다음으로 넘어가는 Xpath 지정\n",
    "        # i가 0이면 첫 게시물에서 다음 게시물로 넘어가는 xpath 설정\n",
    "        if i == 0:\n",
    "            next_x_path = '/html/body/div[4]/div[1]/div/div/a'        \n",
    "\n",
    "        # 그렇지 않다면 n번 게시물에서 다음 게시물로 넘어가는 xpath 설정\n",
    "        else:\n",
    "            next_x_path = '/html/body/div[4]/div[1]/div/div/a[2]'\n",
    "        \n",
    "        # OOO미용실 키워드에 미용실을 제외하여 OOO지역 저장\n",
    "        area = key_word.replace('미용실', '')\n",
    "        \n",
    "        # df_insta DataFrame에 데이터 저장\n",
    "        # 'keyword' : key_word(검색한 키워드) 저장\n",
    "        # 'location' : location(key_word의 지역만 추출하여 저장 ex.송리단길)\n",
    "        # 'store_name' : 게시물의 위치 태그 저장, 없으면 NaN\n",
    "        # 'writer' : 작성자 id 저장\n",
    "        # 'main_text' : 게시물의 본문 텍스트 저장(해쉬태그 포함)\n",
    "        df_insta = df_insta.append({'keyword' : key_word\n",
    "                                    , 'location' : area\n",
    "                                    , 'store_name' : location\n",
    "                                    , 'writer' : id_man\n",
    "                                    , 'main_text' : main_txt}\n",
    "                                  , ignore_index=True)\n",
    "        \n",
    "        # 파일에 날짜를 입력하기 위해 날짜 변수 선언\n",
    "        date = time.strftime('%x', time.localtime(time.time()))\n",
    "        date = date.replace('/','-')\n",
    "        time.sleep(1.5 + np.random.rand())\n",
    "        \n",
    "        # DataFrame에 추가된 row마다 csv파일로 갱신\n",
    "        file_name = './insta_' + key_word + date + str(20) + 'b.csv'\n",
    "        df_insta.to_csv(file_name, encoding='utf-8',sep=',')\n",
    "        \n",
    "        # 위에서 선언한 next_x_path를 찾아서 저장\n",
    "        next_btn = driver.find_element_by_xpath(next_x_path)\n",
    "        \n",
    "        # 다음 페이지 클릭\n",
    "        next_btn.click()\n",
    "        time.sleep(2.0)\n",
    "        \n",
    "#         if i == (total_count - 1):\n",
    "#             print('더 이상 불러올 게시물이 없습니다.')\n",
    "#             break\n",
    "\n",
    "    session.close()\n",
    "    driver.close()\n",
    "\n",
    "    return df_insta\n"
   ]
  },
  {
   "cell_type": "code",
   "execution_count": 79,
   "metadata": {
    "scrolled": true
   },
   "outputs": [
    {
     "name": "stdout",
     "output_type": "stream",
     "text": [
      "총 게시글 수:  248405\n"
     ]
    },
    {
     "name": "stderr",
     "output_type": "stream",
     "text": [
      "C:\\Users\\82106\\Anaconda3\\envs\\data-ml\\lib\\site-packages\\ipykernel_launcher.py:138: TqdmDeprecationWarning: Please use `tqdm.notebook.trange` instead of `tqdm.tnrange`\n"
     ]
    },
    {
     "data": {
      "application/vnd.jupyter.widget-view+json": {
       "model_id": "14b84f10ef26474d9def349ee4313282",
       "version_major": 2,
       "version_minor": 0
      },
      "text/plain": [
       "HBox(children=(FloatProgress(value=0.0, max=248405.0), HTML(value='')))"
      ]
     },
     "metadata": {},
     "output_type": "display_data"
    },
    {
     "name": "stdout",
     "output_type": "stream",
     "text": [
      "location : 쌤시크\n",
      "id : samchic.jihwan\n",
      "\n",
      "samchic.jihwan요즘 굉장히 핫한 쌤시크 #릴리펌 -무거운 #레이어드컷 위에 굵은 히피 #웨이브펌 을 얹은 아름다운 스타일 💕-✔️웨이브펌이 자칫잘못하면 굉장히 부시시한 머리가 될수 있어서 시술시 트리트먼트는 물론 , 평소에도 머릿결관리를 굉장히 신경써주셔야해요 😊 컬크림을 듬뿍발라서 각도를 높이들어 강하게 돌려서 말려주면서 느낌을 살려줘야하기때문에 손이 많이 가는 스타일이긴 하지만 그래도 한번쯤 꼭 해보고싶은 매력적인 디자인이에요 💕.....아름다움을 잡는 디테일 , 지환스타일.......#히피펌 #굵은웨이브 #히피웨이브2일\n",
      "\n",
      "location : nan\n",
      "id : add._.b\n",
      "\n",
      "add._.b이번 채영이 픽은 #옴브레붙임머리 💙 정말 뭔들 잘 어울리는😍 - 시술은 @dara_add._.b -#트와이스 #채영 #붙임머리 는 에드비 --#트와이스채영 #연예인붙임머리 #옴브레 #붙임머리후기 #청담붙임머리 #강남붙임머리 #부산붙임머리 #부천붙임머리 #헤어디자이너 #청담동미용실 #투톤붙임머리 #아이돌붙임머리 #헤어컬러 #데일리 #twice #twicechaeyoung1일\n",
      "\n",
      "location : nan\n",
      "id : yoonm0\n",
      "\n",
      "yoonm0👉🏻차홍아르더본점 실장구윤모▫️유핀하나로 깔끔하게 고무줄 숨기는법✨✨▫️유핀을 꼽고 뺀머리를 두번 감아주고난후 빠지는 머리를 유핀 사이로 넣어줍니다▫️그리고 유핀을 빼주면 완성👍👍👍▫️더많은 팁 or 스타일링 영상은 youtube: 구윤모,차홍아르더 를 검색해주세요..-예약 및 상담📩📩-빠른예약📞 02 3445 8520-네이버예약은 프로필링크참고...............#머리묶기 #포니테일 #꿀팁 #뷰티팁 #셀프헤어 #묶음머리 #똥머리 #탈색머리 #탈색 #염색 #헤어핀 #헤어스타일링 #셀프스타일링 #차홍 #차홍아르더 #hairtip #hairstyle #hairstyles #blonde #청담동미용실 #미용인 #헤어디자이너1주\n",
      "\n",
      "location : nan\n",
      "id : kani_o3o\n",
      "\n",
      "kani_o3o흑발하러 갔었는데 도유쌤이 지금 흑발하면 후회할거라고 흑발같아보이는 딥블루로 염색해주셨다 ㅠㅠ 머리 색 너무 잘 뽑아내주셔서 갈때마다 행복해 ••💙..#도유쌤#머리했도유 #라뷰티코아 #세이엇데이 #라뷰티코아청담6일\n",
      "\n",
      "location : 차홍아르더 이은혜\n",
      "id : 1010_le\n",
      "\n",
      "1010_le#홈헤어안녕하세요 차홍아르더 이은혜입니다머리에 꽂을 때 살짝 넘어가는 라인을 만들고 싶다면핀컬핀과 #차홍코스메틱픽스볼륨스프레이 를 사용해보세요유지력을 위한다면#앞머리펌 #잔머리펌 추천드릴게요집에서 꼭 따라해보세요♥️.....———————————————————예약 | 02.545.8520문의,가격 | 프로필 하단 참고———————————————————...한 가닥의 디테일 조차 완벽하게...✔️ 시술은 꼼꼼한 1:1 상담 후 진행됩니다​고객님 모질 과 상태에 따라서 꼭 맞는 디자인과, 디테일한 시술로 진행해드릴게요....@chahong_official @chahong.official...#차홍아르더 #청담동미용실#차홍아르더도산점#차홍아르더이은혜#홈헤어 #셀프스타일링 #셀프영상#혼자서머리하기 #앞머리펌 #잔머리펌#핀컬핀 #잔머리컷 #사이드뱅#차홍코스메틱 #픽스볼륨스프레이6일\n",
      "\n",
      "location : nan\n",
      "id : mon.sta.gram2\n",
      "\n",
      "mon.sta.gram2.인스타마케팅 광고는 왜 대세입니까?.명실상부 SNS글로벌 상승률 1위 인스타그램!!이제 매출상승의 기회는 몬스타그램에서 찾으셔야 합니다.인스타 마케팅 전환 후 매출개선율은 52%로 압도적 개선을 보이고 있습니다..몬스타그램은 매출상승의 가장 효과적인 동반자입니다.몬스타그램은 광고주분들과 밀착하여 광고주분의 사업관련 문의증가, 유입증가, 매출증가를 핵심타겟으로 설정하여 광고주분과 실시간으로 대응하고 있습니다.단순한 인스타그램 광고실행이 아닌 광고주의 입장에서 고민하고, 분석하고, 실행하는 몬스타그램의 결과물은 다를 수밖에 없습니다.이제 몬스타그램의 파트너가 되어주세요..몬스타그램 서비스 01인기게시물 월보장서비스 (비용대비 최고효율서비스!)희망하시는 해시태그 상위10개(메인1+서브9개)의 영역에 1개월간 고객님의 게시물이 지속하여 노출될 수 있도록 몬스타그램이 보장해 드립니다!.몬스타그램 서비스 02인스타그램 계정육성 서비스 (파워풀한 활동 가능!)계정육성이 완료 된 후 나의 게시글이 확실히 노출되어 실질 팔로워수 증가로 인해 보다 넓은 범위로 게시글을 전달할 수 있습니다..몬스타그램 서비스 03팔로워 / 좋아요 구매서비스실질 팔로워 장기간 유지!.홈페이지는 네이버 >> 몬스타그램 검색!!.전화문의 1811-9102..#청담동미용실4일\n",
      "\n",
      "location : 차홍아르더 이은혜\n",
      "id : 1010_le\n",
      "\n",
      "1010_le#홈헤어안녕하세요 차홍아르더 이은혜입니다머리를 묶어도 예쁘게 뽐낼 수 있는가닥가닥 잔머리 부스스한 부분은 #차홍코스메틱프로틴미스트 사용해서 가닥가닥 잡아주면포인트로 살리기 좋아요유지력을 위한다면#앞머리펌 #잔머리펌 추천드릴게요집에서 꼭 따라해보세요♥️.....———————————————————예약 | 02.545.8520문의,가격 | 프로필 하단 참고———————————————————...한 가닥의 디테일 조차 완벽하게...✔️ 시술은 꼼꼼한 1:1 상담 후 진행됩니다​고객님 모질 과 상태에 따라서 꼭 맞는 디자인과, 디테일한 시술로 진행해드릴게요....@chahong_official @chahong.official...#차홍아르더 #청담동미용실#차홍아르더도산점#차홍아르더이은혜#홈헤어 #셀프스타일링 #셀프영상#혼자서머리하기 #앞머리펌 #잔머리펌#그루프말기 #잔머리컷 #사이드뱅#차홍코스메틱 #프로틴미스트2주\n",
      "\n"
     ]
    },
    {
     "ename": "KeyboardInterrupt",
     "evalue": "",
     "output_type": "error",
     "traceback": [
      "\u001b[1;31m---------------------------------------------------------------------------\u001b[0m",
      "\u001b[1;31mKeyboardInterrupt\u001b[0m                         Traceback (most recent call last)",
      "\u001b[1;32m<ipython-input-79-e68c4ac70e8e>\u001b[0m in \u001b[0;36m<module>\u001b[1;34m\u001b[0m\n\u001b[1;32m----> 1\u001b[1;33m \u001b[0minsta_img_search\u001b[0m\u001b[1;33m(\u001b[0m\u001b[1;34m'청담동미용실'\u001b[0m\u001b[1;33m)\u001b[0m\u001b[1;33m\u001b[0m\u001b[1;33m\u001b[0m\u001b[0m\n\u001b[0m\u001b[0;32m      2\u001b[0m \u001b[1;31m# 총 게시글 수:  674\u001b[0m\u001b[1;33m\u001b[0m\u001b[1;33m\u001b[0m\u001b[1;33m\u001b[0m\u001b[0m\n\u001b[0;32m      3\u001b[0m \u001b[1;31m# 400/674\u001b[0m\u001b[1;33m\u001b[0m\u001b[1;33m\u001b[0m\u001b[1;33m\u001b[0m\u001b[0m\n\u001b[0;32m      4\u001b[0m \u001b[1;31m# 401/674 [1:09:50<49:10, 10.81s/it]\u001b[0m\u001b[1;33m\u001b[0m\u001b[1;33m\u001b[0m\u001b[1;33m\u001b[0m\u001b[0m\n",
      "\u001b[1;32m<ipython-input-78-4204697959be>\u001b[0m in \u001b[0;36minsta_img_search\u001b[1;34m(key_word)\u001b[0m\n\u001b[0;32m    139\u001b[0m         \u001b[0mdriver\u001b[0m\u001b[1;33m.\u001b[0m\u001b[0mimplicitly_wait\u001b[0m\u001b[1;33m(\u001b[0m\u001b[1;36m10\u001b[0m\u001b[1;33m)\u001b[0m\u001b[1;33m\u001b[0m\u001b[1;33m\u001b[0m\u001b[0m\n\u001b[0;32m    140\u001b[0m         \u001b[0mpg_src\u001b[0m \u001b[1;33m=\u001b[0m \u001b[0mdriver\u001b[0m\u001b[1;33m.\u001b[0m\u001b[0mpage_source\u001b[0m\u001b[1;33m\u001b[0m\u001b[1;33m\u001b[0m\u001b[0m\n\u001b[1;32m--> 141\u001b[1;33m         \u001b[0mtime\u001b[0m\u001b[1;33m.\u001b[0m\u001b[0msleep\u001b[0m\u001b[1;33m(\u001b[0m\u001b[1;36m2\u001b[0m \u001b[1;33m+\u001b[0m \u001b[0mnp\u001b[0m\u001b[1;33m.\u001b[0m\u001b[0mrandom\u001b[0m\u001b[1;33m.\u001b[0m\u001b[0mrand\u001b[0m\u001b[1;33m(\u001b[0m\u001b[1;33m)\u001b[0m\u001b[1;33m)\u001b[0m\u001b[1;33m\u001b[0m\u001b[1;33m\u001b[0m\u001b[0m\n\u001b[0m\u001b[0;32m    142\u001b[0m         \u001b[0msoup\u001b[0m \u001b[1;33m=\u001b[0m \u001b[0mBeautifulSoup\u001b[0m\u001b[1;33m(\u001b[0m\u001b[0mpg_src\u001b[0m\u001b[1;33m,\u001b[0m \u001b[1;34m'html.parser'\u001b[0m\u001b[1;33m)\u001b[0m\u001b[1;33m\u001b[0m\u001b[1;33m\u001b[0m\u001b[0m\n\u001b[0;32m    143\u001b[0m \u001b[1;33m\u001b[0m\u001b[0m\n",
      "\u001b[1;31mKeyboardInterrupt\u001b[0m: "
     ]
    }
   ],
   "source": [
    "insta_img_search('청담동미용실')\n",
    "# 총 게시글 수:  674\n",
    "# 400/674\n",
    "# 401/674 [1:09:50<49:10, 10.81s/it]"
   ]
  },
  {
   "cell_type": "code",
   "execution_count": 59,
   "metadata": {},
   "outputs": [
    {
     "data": {
      "text/plain": [
       "913.2352941176471"
      ]
     },
     "execution_count": 59,
     "metadata": {},
     "output_type": "execute_result"
    }
   ],
   "source": [
    "(248400 * 2.5) / 680"
   ]
  },
  {
   "cell_type": "code",
   "execution_count": 80,
   "metadata": {
    "scrolled": true
   },
   "outputs": [
    {
     "data": {
      "text/plain": [
       "'samchic.jihwan요즘 굉장히 핫한 쌤시크 #릴리펌 -무거운 #레이어드컷 위에 굵은 히피 #웨이브펌 을 얹은 아름다운 스타일 💕-✔️웨이브펌이 자칫잘못하면 굉장히 부시시한 머리가 될수 있어서 시술시 트리트먼트는 물론 , 평소에도 머릿결관리를 굉장히 신경써주셔야해요 😊 컬크림을 듬뿍발라서 각도를 높이들어 강하게 돌려서 말려주면서 느낌을 살려줘야하기때문에 손이 많이 가는 스타일이긴 하지만 그래도 한번쯤 꼭 해보고싶은 매력적인 디자인이에요 💕.....아름다움을 잡는 디테일 , 지환스타일.......#히피펌 #굵은웨이브 #히피웨이브2일'"
      ]
     },
     "execution_count": 80,
     "metadata": {},
     "output_type": "execute_result"
    }
   ],
   "source": [
    "df_insta['main_text'][0]"
   ]
  },
  {
   "cell_type": "code",
   "execution_count": 53,
   "metadata": {
    "scrolled": true
   },
   "outputs": [
    {
     "data": {
      "text/plain": [
       "around.b__                 44\n",
       "hi_lyxryu                  27\n",
       "friserhair_blu_official    27\n",
       "choi_seonyu                27\n",
       "creschair_                 26\n",
       "ab.suae                    19\n",
       "grandwig                   17\n",
       "cresc_gnr                  15\n",
       "eum__0415                  14\n",
       "yuwol_june                 11\n",
       "lyxryu_basic_songpanaru     7\n",
       "12__bsh                     7\n",
       "songpadong144_3             6\n",
       "yoon___st                   5\n",
       "eum_joosumin                5\n",
       "_5sujin_                    4\n",
       "hair_eum                    4\n",
       "covalue_jinny               3\n",
       "lyxryu_jamsil               2\n",
       "hairarte_noah               2\n",
       "_high__noon                 2\n",
       "bellatti_jamsil             2\n",
       "shinyoungkeum               2\n",
       "12__hangyeol                2\n",
       "suuuuuuuzi                  2\n",
       "waterparang                 1\n",
       "lyxryu_munjeong             1\n",
       "khjljh_love                 1\n",
       "lyxryu_munjeongstation      1\n",
       "atelier_laon                1\n",
       "raon_beauty_c1              1\n",
       "ksukyoung                   1\n",
       "cresc_ji                    1\n",
       "real2sseul                  1\n",
       "2risoo                      1\n",
       "yong___t                    1\n",
       "mardhair_                   1\n",
       "Name: writer, dtype: int64"
      ]
     },
     "execution_count": 53,
     "metadata": {},
     "output_type": "execute_result"
    }
   ],
   "source": [
    "df_insta['writer'].value_counts()"
   ]
  },
  {
   "cell_type": "code",
   "execution_count": 36,
   "metadata": {},
   "outputs": [
    {
     "data": {
      "text/plain": [
       "'04-24-20'"
      ]
     },
     "execution_count": 36,
     "metadata": {},
     "output_type": "execute_result"
    }
   ],
   "source": [
    "date = time.strftime('%x', time.localtime(time.time()))\n",
    "date = date.replace('/','-')\n",
    "#월-일-년\n",
    "date"
   ]
  },
  {
   "cell_type": "code",
   "execution_count": 37,
   "metadata": {},
   "outputs": [
    {
     "data": {
      "text/plain": [
       "'04-24-2020'"
      ]
     },
     "execution_count": 37,
     "metadata": {},
     "output_type": "execute_result"
    }
   ],
   "source": [
    " date + str(20)"
   ]
  },
  {
   "cell_type": "code",
   "execution_count": 38,
   "metadata": {},
   "outputs": [],
   "source": [
    "key_word = '송리단길미용실'"
   ]
  },
  {
   "cell_type": "code",
   "execution_count": 47,
   "metadata": {},
   "outputs": [],
   "source": [
    "file_name = './insta_' + key_word + date + str(20) + 'b.csv'\n",
    "df_insta.to_csv(file_name, encoding='utf-8',sep=',')"
   ]
  },
  {
   "cell_type": "code",
   "execution_count": null,
   "metadata": {},
   "outputs": [],
   "source": [
    "['송리단길미용실','홍대미용실','강남미용실','건대미용실','샤로수길미용실'\n",
    ",'이대미용실','목동미용실']"
   ]
  },
  {
   "cell_type": "code",
   "execution_count": 35,
   "metadata": {
    "collapsed": true
   },
   "outputs": [
    {
     "data": {
      "text/html": [
       "<div>\n",
       "<style scoped>\n",
       "    .dataframe tbody tr th:only-of-type {\n",
       "        vertical-align: middle;\n",
       "    }\n",
       "\n",
       "    .dataframe tbody tr th {\n",
       "        vertical-align: top;\n",
       "    }\n",
       "\n",
       "    .dataframe thead th {\n",
       "        text-align: right;\n",
       "    }\n",
       "</style>\n",
       "<table border=\"1\" class=\"dataframe\">\n",
       "  <thead>\n",
       "    <tr style=\"text-align: right;\">\n",
       "      <th></th>\n",
       "      <th>keyword</th>\n",
       "      <th>location</th>\n",
       "      <th>store_name</th>\n",
       "      <th>writer</th>\n",
       "      <th>main_text</th>\n",
       "    </tr>\n",
       "  </thead>\n",
       "  <tbody>\n",
       "    <tr>\n",
       "      <th>0</th>\n",
       "      <td>송리단길미용실</td>\n",
       "      <td>송리단길</td>\n",
       "      <td>NaN</td>\n",
       "      <td>suuuuuuuzi</td>\n",
       "      <td>suuuuuuuzi골드 육각액자.특별한 #달이뜨면꽃이피고kakao. suji1818...</td>\n",
       "    </tr>\n",
       "    <tr>\n",
       "      <th>1</th>\n",
       "      <td>송리단길미용실</td>\n",
       "      <td>송리단길</td>\n",
       "      <td>이음</td>\n",
       "      <td>eum__0415</td>\n",
       "      <td>eum__0415안녕하세요 이음헤어에 겨레입니다🌱놓치기 쉬운 부분까지 최선을 다해 ...</td>\n",
       "    </tr>\n",
       "    <tr>\n",
       "      <th>2</th>\n",
       "      <td>송리단길미용실</td>\n",
       "      <td>송리단길</td>\n",
       "      <td>어라운드비</td>\n",
       "      <td>ab.suae</td>\n",
       "      <td>ab.suae안녕하세요 어라운드비입니다♥️.✔️은수실장님 디자인이에요무게감 있는 긴...</td>\n",
       "    </tr>\n",
       "    <tr>\n",
       "      <th>3</th>\n",
       "      <td>송리단길미용실</td>\n",
       "      <td>송리단길</td>\n",
       "      <td>이음</td>\n",
       "      <td>eum__0415</td>\n",
       "      <td>eum__0415관계를 이어주는 공간 이음입니다.놓치기 쉬운 부분까지 최선을 다해 ...</td>\n",
       "    </tr>\n",
       "    <tr>\n",
       "      <th>4</th>\n",
       "      <td>송리단길미용실</td>\n",
       "      <td>송리단길</td>\n",
       "      <td>NaN</td>\n",
       "      <td>ksukyoung</td>\n",
       "      <td>ksukyoung#헤어스타그램머리 참 잘해~ 맘에 드는 헤어샵 발견!#송파미용실 #...</td>\n",
       "    </tr>\n",
       "    <tr>\n",
       "      <th>...</th>\n",
       "      <td>...</td>\n",
       "      <td>...</td>\n",
       "      <td>...</td>\n",
       "      <td>...</td>\n",
       "      <td>...</td>\n",
       "    </tr>\n",
       "    <tr>\n",
       "      <th>289</th>\n",
       "      <td>송리단길미용실</td>\n",
       "      <td>송리단길</td>\n",
       "      <td>NaN</td>\n",
       "      <td>hi_lyxryu</td>\n",
       "      <td>hi_lyxryu#프릴웨이브펌.단조로운 롱헤어웨이브로 우아한 여성의 이미지 표현이 ...</td>\n",
       "    </tr>\n",
       "    <tr>\n",
       "      <th>290</th>\n",
       "      <td>송리단길미용실</td>\n",
       "      <td>송리단길</td>\n",
       "      <td>NaN</td>\n",
       "      <td>hi_lyxryu</td>\n",
       "      <td>hi_lyxryu#엘리자벳펌.자연스러운 굵은웨이브로 어느 스타일이라 잘 어울리는헤어...</td>\n",
       "    </tr>\n",
       "    <tr>\n",
       "      <th>291</th>\n",
       "      <td>송리단길미용실</td>\n",
       "      <td>송리단길</td>\n",
       "      <td>어라운드비</td>\n",
       "      <td>ab.suae</td>\n",
       "      <td>ab.suae안녕하세요 어라운드비입니다♥️.차분하고 분위기 있어보이는 #흑갈색 🌿이...</td>\n",
       "    </tr>\n",
       "    <tr>\n",
       "      <th>292</th>\n",
       "      <td>송리단길미용실</td>\n",
       "      <td>송리단길</td>\n",
       "      <td>NaN</td>\n",
       "      <td>hi_lyxryu</td>\n",
       "      <td>hi_lyxryu#헤어스타일링 #포니테일.자연스러운 웨이브를 넣어 완성한#자연스러운...</td>\n",
       "    </tr>\n",
       "    <tr>\n",
       "      <th>293</th>\n",
       "      <td>송리단길미용실</td>\n",
       "      <td>송리단길</td>\n",
       "      <td>NaN</td>\n",
       "      <td>hi_lyxryu</td>\n",
       "      <td>hi_lyxryu#프릴펌 #믹스웨이브..#CS컬 믹스웨이브로 시술한 프릴펌은 자연스...</td>\n",
       "    </tr>\n",
       "  </tbody>\n",
       "</table>\n",
       "<p>294 rows × 5 columns</p>\n",
       "</div>"
      ],
      "text/plain": [
       "     keyword location store_name      writer  \\\n",
       "0    송리단길미용실     송리단길        NaN  suuuuuuuzi   \n",
       "1    송리단길미용실     송리단길         이음   eum__0415   \n",
       "2    송리단길미용실     송리단길      어라운드비     ab.suae   \n",
       "3    송리단길미용실     송리단길         이음   eum__0415   \n",
       "4    송리단길미용실     송리단길        NaN   ksukyoung   \n",
       "..       ...      ...        ...         ...   \n",
       "289  송리단길미용실     송리단길        NaN   hi_lyxryu   \n",
       "290  송리단길미용실     송리단길        NaN   hi_lyxryu   \n",
       "291  송리단길미용실     송리단길      어라운드비     ab.suae   \n",
       "292  송리단길미용실     송리단길        NaN   hi_lyxryu   \n",
       "293  송리단길미용실     송리단길        NaN   hi_lyxryu   \n",
       "\n",
       "                                             main_text  \n",
       "0    suuuuuuuzi골드 육각액자.특별한 #달이뜨면꽃이피고kakao. suji1818...  \n",
       "1    eum__0415안녕하세요 이음헤어에 겨레입니다🌱놓치기 쉬운 부분까지 최선을 다해 ...  \n",
       "2    ab.suae안녕하세요 어라운드비입니다♥️.✔️은수실장님 디자인이에요무게감 있는 긴...  \n",
       "3    eum__0415관계를 이어주는 공간 이음입니다.놓치기 쉬운 부분까지 최선을 다해 ...  \n",
       "4    ksukyoung#헤어스타그램머리 참 잘해~ 맘에 드는 헤어샵 발견!#송파미용실 #...  \n",
       "..                                                 ...  \n",
       "289  hi_lyxryu#프릴웨이브펌.단조로운 롱헤어웨이브로 우아한 여성의 이미지 표현이 ...  \n",
       "290  hi_lyxryu#엘리자벳펌.자연스러운 굵은웨이브로 어느 스타일이라 잘 어울리는헤어...  \n",
       "291  ab.suae안녕하세요 어라운드비입니다♥️.차분하고 분위기 있어보이는 #흑갈색 🌿이...  \n",
       "292  hi_lyxryu#헤어스타일링 #포니테일.자연스러운 웨이브를 넣어 완성한#자연스러운...  \n",
       "293  hi_lyxryu#프릴펌 #믹스웨이브..#CS컬 믹스웨이브로 시술한 프릴펌은 자연스...  \n",
       "\n",
       "[294 rows x 5 columns]"
      ]
     },
     "execution_count": 35,
     "metadata": {},
     "output_type": "execute_result"
    }
   ],
   "source": [
    "df_insta"
   ]
  },
  {
   "cell_type": "markdown",
   "metadata": {},
   "source": [
    "#### 크롤링한 정보를 DataFrame으로 변환하기\n",
    "---\n",
    "- 예시) <br>\n",
    "\n",
    "|키워드|지역|업소명|작성자ID|본문|\n",
    "|:-:|:-:|:-:|:-:|:-:|\n",
    "|송리단길미용실|송리단길|준오헤어|hanwool|송리단길 준오헤어 머리 잘하네요|"
   ]
  },
  {
   "cell_type": "code",
   "execution_count": 3,
   "metadata": {
    "scrolled": true
   },
   "outputs": [
    {
     "data": {
      "text/html": [
       "<div>\n",
       "<style scoped>\n",
       "    .dataframe tbody tr th:only-of-type {\n",
       "        vertical-align: middle;\n",
       "    }\n",
       "\n",
       "    .dataframe tbody tr th {\n",
       "        vertical-align: top;\n",
       "    }\n",
       "\n",
       "    .dataframe thead th {\n",
       "        text-align: right;\n",
       "    }\n",
       "</style>\n",
       "<table border=\"1\" class=\"dataframe\">\n",
       "  <thead>\n",
       "    <tr style=\"text-align: right;\">\n",
       "      <th></th>\n",
       "      <th>a</th>\n",
       "      <th>b</th>\n",
       "      <th>c</th>\n",
       "      <th>d</th>\n",
       "      <th>e</th>\n",
       "    </tr>\n",
       "  </thead>\n",
       "  <tbody>\n",
       "  </tbody>\n",
       "</table>\n",
       "</div>"
      ],
      "text/plain": [
       "Empty DataFrame\n",
       "Columns: [a, b, c, d, e]\n",
       "Index: []"
      ]
     },
     "execution_count": 3,
     "metadata": {},
     "output_type": "execute_result"
    }
   ],
   "source": [
    "df1 = DataFrame(columns=['a','b','c','d','e'])\n",
    "df1"
   ]
  },
  {
   "cell_type": "code",
   "execution_count": 9,
   "metadata": {},
   "outputs": [],
   "source": [
    "dica = {'a' : 'AAA', 'b' : 'BBB', 'c' : 'CCC', 'd' : 'DDD', 'e' : 'EEE'}\n",
    "df1 = df1.append(dica, ignore_index=True)"
   ]
  },
  {
   "cell_type": "code",
   "execution_count": 10,
   "metadata": {},
   "outputs": [
    {
     "data": {
      "text/html": [
       "<div>\n",
       "<style scoped>\n",
       "    .dataframe tbody tr th:only-of-type {\n",
       "        vertical-align: middle;\n",
       "    }\n",
       "\n",
       "    .dataframe tbody tr th {\n",
       "        vertical-align: top;\n",
       "    }\n",
       "\n",
       "    .dataframe thead th {\n",
       "        text-align: right;\n",
       "    }\n",
       "</style>\n",
       "<table border=\"1\" class=\"dataframe\">\n",
       "  <thead>\n",
       "    <tr style=\"text-align: right;\">\n",
       "      <th></th>\n",
       "      <th>a</th>\n",
       "      <th>b</th>\n",
       "      <th>c</th>\n",
       "      <th>d</th>\n",
       "      <th>e</th>\n",
       "    </tr>\n",
       "  </thead>\n",
       "  <tbody>\n",
       "    <tr>\n",
       "      <th>0</th>\n",
       "      <td>AAA</td>\n",
       "      <td>BBB</td>\n",
       "      <td>CCC</td>\n",
       "      <td>DDD</td>\n",
       "      <td>EEE</td>\n",
       "    </tr>\n",
       "  </tbody>\n",
       "</table>\n",
       "</div>"
      ],
      "text/plain": [
       "     a    b    c    d    e\n",
       "0  AAA  BBB  CCC  DDD  EEE"
      ]
     },
     "execution_count": 10,
     "metadata": {},
     "output_type": "execute_result"
    }
   ],
   "source": [
    "df1"
   ]
  },
  {
   "cell_type": "code",
   "execution_count": 28,
   "metadata": {},
   "outputs": [
    {
     "name": "stdout",
     "output_type": "stream",
     "text": [
      "총 게시글 수:  674\n"
     ]
    },
    {
     "name": "stderr",
     "output_type": "stream",
     "text": [
      "C:\\Users\\82106\\Anaconda3\\envs\\data-ml\\lib\\site-packages\\ipykernel_launcher.py:84: TqdmDeprecationWarning: Please use `tqdm.notebook.trange` instead of `tqdm.tnrange`\n"
     ]
    },
    {
     "data": {
      "application/vnd.jupyter.widget-view+json": {
       "model_id": "f47fbfc56c7942598f6eb31e80059346",
       "version_major": 2,
       "version_minor": 0
      },
      "text/plain": [
       "HBox(children=(FloatProgress(value=0.0, max=674.0), HTML(value='')))"
      ]
     },
     "metadata": {},
     "output_type": "display_data"
    },
    {
     "name": "stdout",
     "output_type": "stream",
     "text": [
      "location : nan\n",
      "id : suuuuuuuzi\n",
      "\n",
      "suuuuuuuzi골드 육각액자.특별한 #달이뜨면꽃이피고kakao. suji1818h.p. 01055828342..#의왕미용실#천안미용실#아산카페#광주미용실#과천미용실#서초미용실#송리단길미용실#도안미용실#안산미용실#부산애견미용 #창원미용실#용인네일#죽전미용실#판교미용실#판교속눈썹#평택네일#동탄미용실#의정부미용실#남양주미용실#우드입간판#부천미용실#메뉴판#부천카페#리모델링 #리뉴얼#의왕네일#논현미용실#논현네일#입간판29주\n",
      "\n",
      "location : 이음\n",
      "id : eum__0415\n",
      "\n",
      "eum__0415안녕하세요 이음헤어에 겨레입니다🌱놓치기 쉬운 부분까지 최선을 다해 노력하겠습니다...볼륨감을 원하시는분들 ❣️ 뿌리 팡팡🌱100% 핸드드라이...예약문의 02 3432 1235  DM💌송파동 14-18 2층..#송파동#석촌동#잠실동#석촌역#석촌역미용실#석촌미용실#석촌동미용실#송파동미용실#송파역미용실#송파미용실#송리단길#송리단길미용실#이음#이음헤어살롱#남자#남자머리추천#여자#여자머리추천#뿌리펌 #뿌리볼륨펌 #볼륨펌1일\n",
      "\n",
      "location : 어라운드비\n",
      "id : ab.suae\n",
      "\n",
      "ab.suae안녕하세요 어라운드비입니다♥️.✔️은수실장님 디자인이에요무게감 있는 긴단발이 지겹다면 #웬디컷 🌿가볍고 산뜻하게 무게감을 걷어낸 #단발레이어드컷 추천☺️.📞예약 02.416.0320💌문의 @ab.eunsoo.#샤밍컷#단발커트#시스루뱅#앞머리펌#라인펌#단발레이어드커트32주\n",
      "\n"
     ]
    },
    {
     "ename": "KeyboardInterrupt",
     "evalue": "",
     "output_type": "error",
     "traceback": [
      "\u001b[1;31m---------------------------------------------------------------------------\u001b[0m",
      "\u001b[1;31mKeyboardInterrupt\u001b[0m                         Traceback (most recent call last)",
      "\u001b[1;32m<ipython-input-28-07ff7a5f1781>\u001b[0m in \u001b[0;36m<module>\u001b[1;34m\u001b[0m\n\u001b[0;32m    148\u001b[0m     \u001b[0mnext_btn\u001b[0m \u001b[1;33m=\u001b[0m \u001b[0mdriver\u001b[0m\u001b[1;33m.\u001b[0m\u001b[0mfind_element_by_xpath\u001b[0m\u001b[1;33m(\u001b[0m\u001b[0mnext_x_path\u001b[0m\u001b[1;33m)\u001b[0m\u001b[1;33m\u001b[0m\u001b[1;33m\u001b[0m\u001b[0m\n\u001b[0;32m    149\u001b[0m     \u001b[0mnext_btn\u001b[0m\u001b[1;33m.\u001b[0m\u001b[0mclick\u001b[0m\u001b[1;33m(\u001b[0m\u001b[1;33m)\u001b[0m\u001b[1;33m\u001b[0m\u001b[1;33m\u001b[0m\u001b[0m\n\u001b[1;32m--> 150\u001b[1;33m     \u001b[0mtime\u001b[0m\u001b[1;33m.\u001b[0m\u001b[0msleep\u001b[0m\u001b[1;33m(\u001b[0m\u001b[1;36m4.5\u001b[0m\u001b[1;33m)\u001b[0m\u001b[1;33m\u001b[0m\u001b[1;33m\u001b[0m\u001b[0m\n\u001b[0m",
      "\u001b[1;31mKeyboardInterrupt\u001b[0m: "
     ]
    }
   ],
   "source": [
    "# insta_image = 'https://www.instagram.com/'\n",
    "# req = session.get(insta_image, headers=header)\n",
    "# driver.get(insta_image)\n",
    "# time.sleep(5.7 + abs(np.random.randn()))\n",
    "\n",
    "# # 인스타그램 로그인 페이지로 이동\n",
    "# #     insta_login = driver.find_element_by_xpath('//*[@id=\"react-root\"]/section/nav/div[2]/div/div/div[3]/div/span/a[1]')\n",
    "# #     insta_login.click()\n",
    "# #     time.sleep(4.1295 + abs(np.random.randn()) + abs(np.random.randn()))\n",
    "\n",
    "# try:# 페이스북으로 로그인 클릭\n",
    "#     driver.find_element_by_xpath('//*[@id=\"react-root\"]/section/main/div/article/div/div[1]/div/form/div[6]/button/span[2]').click()\n",
    "\n",
    "# except sce.NoSuchElementException:\n",
    "#     time.sleep(2.25 + np.random.rand() + np.random.rand())\n",
    "#     login_two = driver.find_element_by_class_name('KPnG0')\n",
    "#     login_two.click()\n",
    "\n",
    "# time.sleep(2.255 + abs(np.random.randn()))\n",
    "\n",
    "# # 아이디 입력 창을 찾아 변수에 저장\n",
    "# input_id = driver.find_element_by_id('email')\n",
    "# # 아이디 입력 창에 아이디를 입력\n",
    "# input_id.send_keys('hohae@paran.com')\n",
    "# time.sleep(2.4182 + abs(np.random.randn()))\n",
    "\n",
    "# # 비밀번호 입력 창을 찾아 변수에 저장\n",
    "# input_pw = driver.find_element_by_id('pass')\n",
    "# # 비밀번호 입력 창에 비밀번호를 입력\n",
    "# input_pw.send_keys('dlqeo1019.')\n",
    "# # 로그인 버튼의 위치를 찾아 변수에 저장\n",
    "# submit_b = driver.find_element_by_id('loginbutton')\n",
    "\n",
    "# # 로그인 버튼 클릭\n",
    "# submit_b.submit()\n",
    "# time.sleep(2.1982 + abs(np.random.randn()) + abs(np.random.randn()))\n",
    "\n",
    "# # 알림설정을 하라는 귀찮은 창이 뜨면 '나중에 하기' 클릭하기\n",
    "# try:\n",
    "#     time.sleep(3.5)\n",
    "#     notify = driver.find_element_by_xpath('/html/body/div[4]/div/div/div[3]/button[2]')\n",
    "#     notify.click()\n",
    "\n",
    "# except sce.ElementNotInteractableException:\n",
    "#     driver.find_element_by_css_selector('body > div.RnEpo.Yx5HN > div > div > div.mt3GC > button.aOOlW.HoLwm').click()\n",
    "\n",
    "# driver.implicitly_wait(50)\n",
    "# time.sleep(np.random.rand() + 2.12)\n",
    "key_word = '송리단길미용실'\n",
    "\n",
    "try:\n",
    "    # 인스타그램의 해시태그 검색창의 xpath를 찾는다\n",
    "    search = driver.find_element_by_xpath('//*[@id=\"react-root\"]/section/nav/div[2]/div/div/div[2]/input').send_keys(key_word, Keys.RETURN)\n",
    "    driver.implicitly_wait(10)\n",
    "\n",
    "except sce.ElementNotInteractableException:\n",
    "    search = driver.find_element_by_css_selector('#react-root > section > nav > div._8MQSO.Cx7Bp > div > div > div.LWmhU._0aCwM > input').send_keys(key_word, Keys.RETURN)\n",
    "    driver.implicitly_wait(10)\n",
    "\n",
    "ActionChains(driver).key_down(Keys.ENTER).key_up(Keys.ENTER).perform()\n",
    "time.sleep(np.random.rand() + np.random.rand() + 1.2)\n",
    "ActionChains(driver).key_down(Keys.DOWN).key_up(Keys.DOWN).perform()\n",
    "time.sleep(np.random.rand() + np.random.rand() + 1.2)\n",
    "ActionChains(driver).key_down(Keys.ENTER).key_up(Keys.ENTER).perform()\n",
    "driver.implicitly_wait(10)\n",
    "\n",
    "# 검색 결과 페이지 소스 따오기 - 총 게시글 수 확인\n",
    "time.sleep(3.3 + np.random.rand() + np.random.rand())\n",
    "main_src = driver.page_source\n",
    "time.sleep(2)\n",
    "main_soup = BeautifulSoup(main_src, 'html.parser')\n",
    "time.sleep(1.5 + np.random.rand())\n",
    "board = main_soup.find('span', class_='g47SY')\n",
    "total_count = int(board.get_text())\n",
    "print(\"총 게시글 수: \",total_count)\n",
    "\n",
    "# 첫번째 게시글 클릭\n",
    "first_post = driver.find_element_by_class_name(\"eLAPa\")\n",
    "time.sleep(np.random.rand() + np.random.rand() + 1)\n",
    "first_post.click()\n",
    "time.sleep(3.5 + np.random.rand())\n",
    "\n",
    "# total count 만큼 게시글 넘겨가며 크롤링\n",
    "for i in tqdm.tnrange(total_count):\n",
    "    driver.implicitly_wait(10)\n",
    "    pg_src = driver.page_source\n",
    "    time.sleep(2 + np.random.rand())\n",
    "    soup = BeautifulSoup(pg_src, 'html.parser')\n",
    "\n",
    "    # 게시글에서 id와 위치태그가 있는 div 선택\n",
    "    soup.find('div', 'o-MQd  ')\n",
    "    time.sleep(1.5)\n",
    "\n",
    "    # 위치태그 가져오기\n",
    "    loc_html = soup.find('a','O4GlU')\n",
    "    # 있으면 location 변수에 저장\n",
    "    if loc_html:\n",
    "        location = loc_html.get_text()\n",
    "    # 없으면 np.nan으로 저장\n",
    "    else:\n",
    "        location = np.nan\n",
    "    print('location :', location)\n",
    "\n",
    "\n",
    "    # 작성자 id 가져오기\n",
    "    id_div = soup.find('div','e1e1d')\n",
    "    id_html = id_div.find('a')\n",
    "    # 있으면 id_man에 저장\n",
    "    if id_html:\n",
    "        id_man = id_html.get_text()\n",
    "    # 없으면 np.nan 저장\n",
    "    else:\n",
    "        id_man = np.nan\n",
    "    print('id :', id_man)\n",
    "    print()\n",
    "    \n",
    "    # 인스타그램 게시물의 본문인 div 태그의 class가 C4VMK를 찾는다.\n",
    "    txt_html = soup.find('div', 'C4VMK')\n",
    "\n",
    "    if txt_html:\n",
    "        main_txt = txt_html.get_text()\n",
    "\n",
    "    else:\n",
    "        main_txt = np.nan\n",
    "    print(main_txt)\n",
    "    print()\n",
    "    \n",
    "    # 가져온 id, location 정보를 loc_list 리스트에 append\n",
    "    loc_list.append((location, id_man, main_txt))\n",
    "    time.sleep(np.random.rand() + np.random.rand() + 0.75)\n",
    "\n",
    "    # 다음으로 넘어가는 Xpath 지정\n",
    "    if i == 0:\n",
    "        next_x_path = '/html/body/div[4]/div[1]/div/div/a'        \n",
    "\n",
    "    else:\n",
    "        next_x_path = '/html/body/div[4]/div[1]/div/div/a[2]'\n",
    "    area = key_word.replace('미용실', '')\n",
    "    df_insta = df_insta.append({'keyword' : key_word\n",
    "                                , 'location' : area\n",
    "                                , 'store_name' : location\n",
    "                                , 'writer' : id_man\n",
    "                                , 'main_text' : main_txt}\n",
    "                              , ignore_index=True)\n",
    "\n",
    "    time.sleep(2.5 + np.random.rand())\n",
    "    \n",
    "    next_btn = driver.find_element_by_xpath(next_x_path)\n",
    "    next_btn.click()\n",
    "    time.sleep(4.5)"
   ]
  },
  {
   "cell_type": "code",
   "execution_count": 21,
   "metadata": {},
   "outputs": [
    {
     "data": {
      "text/plain": [
       "'압구정'"
      ]
     },
     "execution_count": 21,
     "metadata": {},
     "output_type": "execute_result"
    }
   ],
   "source": [
    "keyk = '압구정미용실'\n",
    "keyk.replace('미용실', '')"
   ]
  },
  {
   "cell_type": "code",
   "execution_count": 29,
   "metadata": {},
   "outputs": [
    {
     "data": {
      "text/html": [
       "<div>\n",
       "<style scoped>\n",
       "    .dataframe tbody tr th:only-of-type {\n",
       "        vertical-align: middle;\n",
       "    }\n",
       "\n",
       "    .dataframe tbody tr th {\n",
       "        vertical-align: top;\n",
       "    }\n",
       "\n",
       "    .dataframe thead th {\n",
       "        text-align: right;\n",
       "    }\n",
       "</style>\n",
       "<table border=\"1\" class=\"dataframe\">\n",
       "  <thead>\n",
       "    <tr style=\"text-align: right;\">\n",
       "      <th></th>\n",
       "      <th>keyword</th>\n",
       "      <th>location</th>\n",
       "      <th>store_name</th>\n",
       "      <th>writer</th>\n",
       "      <th>main_text</th>\n",
       "    </tr>\n",
       "  </thead>\n",
       "  <tbody>\n",
       "    <tr>\n",
       "      <th>0</th>\n",
       "      <td>송리단길미용실</td>\n",
       "      <td>송리단길</td>\n",
       "      <td>NaN</td>\n",
       "      <td>suuuuuuuzi</td>\n",
       "      <td>suuuuuuuzi골드 육각액자.특별한 #달이뜨면꽃이피고kakao. suji1818...</td>\n",
       "    </tr>\n",
       "    <tr>\n",
       "      <th>1</th>\n",
       "      <td>송리단길미용실</td>\n",
       "      <td>송리단길</td>\n",
       "      <td>이음</td>\n",
       "      <td>eum__0415</td>\n",
       "      <td>eum__0415안녕하세요 이음헤어에 겨레입니다🌱놓치기 쉬운 부분까지 최선을 다해 ...</td>\n",
       "    </tr>\n",
       "    <tr>\n",
       "      <th>2</th>\n",
       "      <td>송리단길미용실</td>\n",
       "      <td>송리단길</td>\n",
       "      <td>어라운드비</td>\n",
       "      <td>ab.suae</td>\n",
       "      <td>ab.suae안녕하세요 어라운드비입니다♥️.✔️은수실장님 디자인이에요무게감 있는 긴...</td>\n",
       "    </tr>\n",
       "  </tbody>\n",
       "</table>\n",
       "</div>"
      ],
      "text/plain": [
       "   keyword location store_name      writer  \\\n",
       "0  송리단길미용실     송리단길        NaN  suuuuuuuzi   \n",
       "1  송리단길미용실     송리단길         이음   eum__0415   \n",
       "2  송리단길미용실     송리단길      어라운드비     ab.suae   \n",
       "\n",
       "                                           main_text  \n",
       "0  suuuuuuuzi골드 육각액자.특별한 #달이뜨면꽃이피고kakao. suji1818...  \n",
       "1  eum__0415안녕하세요 이음헤어에 겨레입니다🌱놓치기 쉬운 부분까지 최선을 다해 ...  \n",
       "2  ab.suae안녕하세요 어라운드비입니다♥️.✔️은수실장님 디자인이에요무게감 있는 긴...  "
      ]
     },
     "execution_count": 29,
     "metadata": {},
     "output_type": "execute_result"
    }
   ],
   "source": [
    "df_insta"
   ]
  },
  {
   "cell_type": "code",
   "execution_count": 26,
   "metadata": {},
   "outputs": [],
   "source": [
    "DataFrame.append?"
   ]
  },
  {
   "cell_type": "code",
   "execution_count": null,
   "metadata": {},
   "outputs": [],
   "source": []
  },
  {
   "cell_type": "code",
   "execution_count": null,
   "metadata": {},
   "outputs": [],
   "source": [
    "# 함수 저장용\n",
    "def insta_img_search(key_word):\n",
    "    \n",
    "    global loc_list\n",
    "    global df_insta\n",
    "    # 웹 크롤링에 사용할 웹-드라이버 설정\n",
    "    driver = Chrome('../chromedriver.exe')\n",
    "    \n",
    "    # 세션 클래스 생성\n",
    "    session = requests.Session()\n",
    "    \n",
    "\n",
    "    \n",
    "    # 요청 보낼 때 header와 함께 전송\n",
    "    header = {\"User-Agent\" : \"Mozilla/5.0 (Windows NT 10.0; Win64; x64) \\\n",
    "               AppleWebKit/537.36 (KHTML, like Gecko) Chrome/81.0.4044.122 Safari/537.36\", \n",
    "              \"Accept\":\"text/html,application/xhtml+xml,application/xml;\\\n",
    "              q=0.9,imgwebp,*/*;q=0.8\"}\n",
    "    \n",
    "    insta_image = 'https://www.instagram.com/'\n",
    "    req = session.get(insta_image, headers=header)\n",
    "    driver.get(insta_image)\n",
    "    time.sleep(5.7 + abs(np.random.randn()))\n",
    "    \n",
    "    # 인스타그램 로그인 페이지로 이동\n",
    "#     insta_login = driver.find_element_by_xpath('//*[@id=\"react-root\"]/section/nav/div[2]/div/div/div[3]/div/span/a[1]')\n",
    "#     insta_login.click()\n",
    "#     time.sleep(4.1295 + abs(np.random.randn()) + abs(np.random.randn()))\n",
    "    \n",
    "    try:# 페이스북으로 로그인 클릭\n",
    "        driver.find_element_by_xpath('//*[@id=\"react-root\"]/section/main/div/article/div/div[1]/div/form/div[6]/button/span[2]').click()\n",
    "    \n",
    "    except sce.NoSuchElementException:\n",
    "        time.sleep(2.25 + np.random.rand() + np.random.rand())\n",
    "        login_two = driver.find_element_by_class_name('KPnG0')\n",
    "        login_two.click()\n",
    "    \n",
    "    time.sleep(2.255 + abs(np.random.randn()))\n",
    "    \n",
    "    # 아이디 입력 창을 찾아 변수에 저장\n",
    "    input_id = driver.find_element_by_id('email')\n",
    "    # 아이디 입력 창에 아이디를 입력\n",
    "    input_id.send_keys('hohae@paran.com')\n",
    "    time.sleep(2.4182 + abs(np.random.randn()))\n",
    "    \n",
    "    # 비밀번호 입력 창을 찾아 변수에 저장\n",
    "    input_pw = driver.find_element_by_id('pass')\n",
    "    # 비밀번호 입력 창에 비밀번호를 입력\n",
    "    input_pw.send_keys('dlqeo1019.')\n",
    "    # 로그인 버튼의 위치를 찾아 변수에 저장\n",
    "    submit_b = driver.find_element_by_id('loginbutton')\n",
    "    \n",
    "    # 로그인 버튼 클릭\n",
    "    submit_b.submit()\n",
    "    time.sleep(2.1982 + abs(np.random.randn()) + abs(np.random.randn()))\n",
    "    \n",
    "    # 알림설정을 하라는 귀찮은 창이 뜨면 '나중에 하기' 클릭하기\n",
    "    try:\n",
    "        time.sleep(3.5)\n",
    "        notify = driver.find_element_by_xpath('/html/body/div[4]/div/div/div[3]/button[2]')\n",
    "        notify.click()\n",
    "    \n",
    "    except sce.ElementNotInteractableException:\n",
    "        driver.find_element_by_css_selector('body > div.RnEpo.Yx5HN > div > div > div.mt3GC > button.aOOlW.HoLwm').click()\n",
    "    \n",
    "    driver.implicitly_wait(50)\n",
    "    time.sleep(np.random.rand() + 2.12)\n",
    "    try:\n",
    "        # 인스타그램의 해시태그 검색창의 xpath를 찾는다\n",
    "        search = driver.find_element_by_xpath('//*[@id=\"react-root\"]/section/nav/div[2]/div/div/div[2]/input').send_keys(key_word, Keys.RETURN)\n",
    "        driver.implicitly_wait(10)\n",
    "        \n",
    "    except sce.ElementNotInteractableException:\n",
    "        search = driver.find_element_by_css_selector('#react-root > section > nav > div._8MQSO.Cx7Bp > div > div > div.LWmhU._0aCwM > input').send_keys(key_word, Keys.RETURN)\n",
    "        driver.implicitly_wait(10)\n",
    "    \n",
    "    ActionChains(driver).key_down(Keys.ENTER).key_up(Keys.ENTER).perform()\n",
    "    time.sleep(np.random.rand() + np.random.rand() + 1.2)\n",
    "    ActionChains(driver).key_down(Keys.DOWN).key_up(Keys.DOWN).perform()\n",
    "    time.sleep(np.random.rand() + np.random.rand() + 1.2)\n",
    "    ActionChains(driver).key_down(Keys.ENTER).key_up(Keys.ENTER).perform()\n",
    "    driver.implicitly_wait(10)\n",
    "\n",
    "    \n",
    "    time.sleep(3.3 + np.random.rand() + np.random.rand())\n",
    "    main_src = driver.page_source\n",
    "    time.sleep(1.25 + np.random.rand())\n",
    "    main_soup = BeautifulSoup(main_src, 'html.parser')\n",
    "    driver.implicitly_wait(15)\n",
    "    time.sleep(3.5 + np.random.rand())\n",
    "    board = main_soup.find('span', class_='g47SY')\n",
    "    total_count = int(board.get_text())\n",
    "    print(\"총 게시글 수: \",total_count)\n",
    "    \n",
    "    # 검색 결과 페이지 소스 따오기 - 총 게시글 수 확인\n",
    "    main_src = driver.page_source\n",
    "    time.sleep(2)\n",
    "    main_soup = BeautifulSoup(main_src, 'html.parser')\n",
    "    time.sleep(1.5 + np.random.rand())\n",
    "    board = main_soup.find('span', class_='g47SY')\n",
    "    total_count = int(board.get_text())\n",
    "    print(\"총 게시글 수: \",total_count)\n",
    "\n",
    "    # 첫번째 게시글 클릭\n",
    "    first_post = driver.find_element_by_class_name(\"eLAPa\")\n",
    "    time.sleep(np.random.rand() + np.random.rand() + 1)\n",
    "    first_post.click()\n",
    "    time.sleep(3.5 + np.random.rand())\n",
    "    \n",
    "    # total count 만큼 게시글 넘겨가며 크롤링\n",
    "    for i in tqdm.tnrange(total_count):\n",
    "        driver.implicitly_wait(10)\n",
    "        pg_src = driver.page_source\n",
    "        time.sleep(2 + np.random.rand())\n",
    "        soup = BeautifulSoup(pg_src, 'html.parser')\n",
    "        \n",
    "        # 게시글에서 id와 위치태그가 있는 div 선택\n",
    "        soup.find('div', 'o-MQd  ')\n",
    "        time.sleep(1.5)\n",
    "        \n",
    "        # 위치태그 가져오기\n",
    "        loc_html = soup.find('a','O4GlU')\n",
    "        # 있으면 location 변수에 저장\n",
    "        if loc_html:\n",
    "            location = loc_html.get_text()\n",
    "        # 없으면 np.nan으로 저장\n",
    "        else:\n",
    "            location = np.nan\n",
    "        print('location :', location)\n",
    "\n",
    "        \n",
    "        # 작성자 id 가져오기\n",
    "        id_div = soup.find('div','e1e1d')\n",
    "        id_html = id_div.find('a')\n",
    "        # 있으면 id_man에 저장\n",
    "        if id_html:\n",
    "            id_man = id_html.get_text()\n",
    "        # 없으면 np.nan 저장\n",
    "        else:\n",
    "            id_man = np.nan\n",
    "        print('id :', id_man)\n",
    "        print()\n",
    "        \n",
    "        soup.find('div', 'C4VMK')\n",
    "        txt_html = soup.find('span')\n",
    "        \n",
    "        if txt_html:\n",
    "            main_txt = txt_htmltml.get_text()\n",
    "        \n",
    "        else:\n",
    "            main_txt = np.nan\n",
    "        \n",
    "        # 가져온 id, location 정보를 loc_list 리스트에 append\n",
    "        loc_list.append((location, id_man))\n",
    "        time.sleep(np.random.rand() + np.random.rand() + 0.75)\n",
    "        \n",
    "        # 다음으로 넘어가는 Xpath 지정\n",
    "        if i == 0:\n",
    "            next_x_path = '/html/body/div[4]/div[1]/div/div/a'        \n",
    "        \n",
    "        else:\n",
    "            next_x_path = '/html/body/div[4]/div[1]/div/div/a[2]'\n",
    "        \n",
    "        time.sleep(2.5 + np.random.rand())\n",
    "        df_insta = df_insta.append()\n",
    "        \n",
    "        next_btn = driver.find_element_by_xpath(next_x_path)\n",
    "        next_btn.click()\n",
    "        time.sleep(4.5)\n",
    "        \n",
    "#         if i == (total_count - 1):\n",
    "#             print('더 이상 불러올 게시물이 없습니다.')\n",
    "#             break\n",
    "\n",
    "    session.close()\n",
    "    driver.close()\n",
    "    return loc_list\n"
   ]
  },
  {
   "cell_type": "code",
   "execution_count": null,
   "metadata": {},
   "outputs": [],
   "source": []
  },
  {
   "cell_type": "code",
   "execution_count": null,
   "metadata": {},
   "outputs": [],
   "source": []
  },
  {
   "cell_type": "code",
   "execution_count": null,
   "metadata": {},
   "outputs": [],
   "source": []
  },
  {
   "cell_type": "code",
   "execution_count": null,
   "metadata": {},
   "outputs": [],
   "source": []
  },
  {
   "cell_type": "code",
   "execution_count": null,
   "metadata": {},
   "outputs": [],
   "source": []
  },
  {
   "cell_type": "code",
   "execution_count": null,
   "metadata": {},
   "outputs": [],
   "source": []
  },
  {
   "cell_type": "code",
   "execution_count": null,
   "metadata": {},
   "outputs": [],
   "source": []
  },
  {
   "cell_type": "code",
   "execution_count": null,
   "metadata": {},
   "outputs": [],
   "source": []
  },
  {
   "cell_type": "code",
   "execution_count": null,
   "metadata": {},
   "outputs": [],
   "source": []
  },
  {
   "cell_type": "code",
   "execution_count": null,
   "metadata": {},
   "outputs": [],
   "source": []
  },
  {
   "cell_type": "code",
   "execution_count": null,
   "metadata": {},
   "outputs": [],
   "source": []
  },
  {
   "cell_type": "code",
   "execution_count": null,
   "metadata": {},
   "outputs": [],
   "source": []
  },
  {
   "cell_type": "code",
   "execution_count": null,
   "metadata": {},
   "outputs": [],
   "source": []
  },
  {
   "cell_type": "code",
   "execution_count": null,
   "metadata": {},
   "outputs": [],
   "source": []
  },
  {
   "cell_type": "code",
   "execution_count": null,
   "metadata": {},
   "outputs": [],
   "source": []
  },
  {
   "cell_type": "code",
   "execution_count": null,
   "metadata": {},
   "outputs": [],
   "source": []
  },
  {
   "cell_type": "code",
   "execution_count": null,
   "metadata": {},
   "outputs": [],
   "source": []
  },
  {
   "cell_type": "code",
   "execution_count": null,
   "metadata": {},
   "outputs": [],
   "source": []
  },
  {
   "cell_type": "code",
   "execution_count": null,
   "metadata": {},
   "outputs": [],
   "source": []
  },
  {
   "cell_type": "code",
   "execution_count": null,
   "metadata": {},
   "outputs": [],
   "source": []
  },
  {
   "cell_type": "code",
   "execution_count": null,
   "metadata": {},
   "outputs": [],
   "source": []
  },
  {
   "cell_type": "code",
   "execution_count": null,
   "metadata": {},
   "outputs": [],
   "source": []
  },
  {
   "cell_type": "code",
   "execution_count": null,
   "metadata": {},
   "outputs": [],
   "source": []
  },
  {
   "cell_type": "code",
   "execution_count": null,
   "metadata": {},
   "outputs": [],
   "source": []
  },
  {
   "cell_type": "code",
   "execution_count": null,
   "metadata": {},
   "outputs": [],
   "source": []
  },
  {
   "cell_type": "code",
   "execution_count": null,
   "metadata": {},
   "outputs": [],
   "source": []
  },
  {
   "cell_type": "code",
   "execution_count": null,
   "metadata": {},
   "outputs": [],
   "source": []
  },
  {
   "cell_type": "code",
   "execution_count": null,
   "metadata": {},
   "outputs": [],
   "source": []
  },
  {
   "cell_type": "code",
   "execution_count": null,
   "metadata": {},
   "outputs": [],
   "source": []
  },
  {
   "cell_type": "code",
   "execution_count": null,
   "metadata": {},
   "outputs": [],
   "source": []
  },
  {
   "cell_type": "code",
   "execution_count": null,
   "metadata": {},
   "outputs": [],
   "source": []
  },
  {
   "cell_type": "code",
   "execution_count": null,
   "metadata": {},
   "outputs": [],
   "source": []
  },
  {
   "cell_type": "code",
   "execution_count": null,
   "metadata": {},
   "outputs": [],
   "source": []
  },
  {
   "cell_type": "code",
   "execution_count": null,
   "metadata": {},
   "outputs": [],
   "source": []
  },
  {
   "cell_type": "code",
   "execution_count": null,
   "metadata": {},
   "outputs": [],
   "source": []
  },
  {
   "cell_type": "code",
   "execution_count": null,
   "metadata": {},
   "outputs": [],
   "source": []
  },
  {
   "cell_type": "code",
   "execution_count": null,
   "metadata": {},
   "outputs": [],
   "source": []
  },
  {
   "cell_type": "code",
   "execution_count": null,
   "metadata": {},
   "outputs": [],
   "source": []
  },
  {
   "cell_type": "code",
   "execution_count": null,
   "metadata": {},
   "outputs": [],
   "source": []
  },
  {
   "cell_type": "code",
   "execution_count": null,
   "metadata": {},
   "outputs": [],
   "source": []
  },
  {
   "cell_type": "code",
   "execution_count": null,
   "metadata": {},
   "outputs": [],
   "source": []
  }
 ],
 "metadata": {
  "kernelspec": {
   "display_name": "Python 3",
   "language": "python",
   "name": "python3"
  },
  "language_info": {
   "codemirror_mode": {
    "name": "ipython",
    "version": 3
   },
   "file_extension": ".py",
   "mimetype": "text/x-python",
   "name": "python",
   "nbconvert_exporter": "python",
   "pygments_lexer": "ipython3",
   "version": "3.7.7"
  }
 },
 "nbformat": 4,
 "nbformat_minor": 4
}
