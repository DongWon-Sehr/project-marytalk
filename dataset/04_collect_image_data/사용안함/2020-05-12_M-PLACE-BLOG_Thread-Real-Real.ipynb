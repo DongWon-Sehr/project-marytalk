{
 "cells": [
  {
   "cell_type": "markdown",
   "metadata": {},
   "source": [
    "# 네이버 플레이스 블로그 리뷰 크롤링\n",
    "#### 2020-05-10 (일) 이한울\n",
    "---\n",
    "- 2020-05-10 (일): 플레이스 블로그 리뷰 긁어오기 및 스레딩 적용 완료\n",
    "- 2020-05-11 (월): 스레딩 실행 창에서 driver 경로를 본인의 크롬 드라이버가 있는 경로로 설정 후 실행\n",
    "- 2020-05-11 (월): time.sleep을 넉넉하게 주어야 HTTP 에러를 최대한 회피할 수 있습니다."
   ]
  },
  {
   "cell_type": "code",
   "execution_count": 14,
   "metadata": {},
   "outputs": [],
   "source": [
    "import  urllib.request\n",
    "import selenium\n",
    "from bs4 import BeautifulSoup\n",
    "import requests\n",
    "from urllib.request import urlopen\n",
    "\n",
    "from pandas import Series, DataFrame\n",
    "import pandas as pd\n",
    "import numpy as np\n",
    "\n",
    "from datetime import datetime\n",
    "import time\n",
    "import sys\n",
    "import math\n",
    "import re\n",
    "from tqdm import tqdm, tqdm_notebook\n",
    "\n",
    "import selenium.common.exceptions as sce\n",
    "from selenium.webdriver.common.by import By\n",
    "from selenium.webdriver import Chrome\n",
    "from selenium.webdriver.common.keys import Keys\n",
    "from selenium import webdriver\n",
    "\n",
    "from queue import Queue\n",
    "from multiprocessing.pool import ThreadPool\n",
    "from threading import Thread\n",
    "from multiprocessing import Pool\n",
    "from concurrent.futures import ThreadPoolExecutor\n",
    "import concurrent.futures\n",
    "\n",
    "import glob\n",
    "import fnmatch"
   ]
  },
  {
   "cell_type": "code",
   "execution_count": 15,
   "metadata": {},
   "outputs": [],
   "source": [
    "# 블로그 검색 결과를 저장할 빈 DataFrame 생성\n",
    "df_blog_review = DataFrame(columns=['store_id', 'store_name', 'title', 'writer', 'link', 'summary', 'blog_name', 'total_number'])"
   ]
  },
  {
   "cell_type": "code",
   "execution_count": 16,
   "metadata": {},
   "outputs": [],
   "source": [
    "df_blog_error = DataFrame(columns=['store_id','store_name','error_code', 'original_index'])"
   ]
  },
  {
   "cell_type": "code",
   "execution_count": 17,
   "metadata": {},
   "outputs": [],
   "source": [
    "df_blog_empty = DataFrame(columns=['store_id','store_name','original_index','blog_tab'])"
   ]
  },
  {
   "cell_type": "code",
   "execution_count": 18,
   "metadata": {},
   "outputs": [],
   "source": [
    "# 블로그 본문을 저장할 빈 DataFrame 생성\n",
    "df_text = DataFrame(columns=['store_id', 'store_name', 'link', 'main text'])"
   ]
  },
  {
   "cell_type": "code",
   "execution_count": 19,
   "metadata": {},
   "outputs": [],
   "source": [
    "# 플레이스의 업소별 ID를 담은 csv파일 DataFrame으로 변환\n",
    "df_place = DataFrame(pd.read_csv('./naver-place_csv/naver_place_count_total_2020-05-01_final.csv', sep=',', header=0))"
   ]
  },
  {
   "cell_type": "code",
   "execution_count": 20,
   "metadata": {
    "scrolled": true
   },
   "outputs": [
    {
     "data": {
      "text/html": [
       "<div>\n",
       "<style scoped>\n",
       "    .dataframe tbody tr th:only-of-type {\n",
       "        vertical-align: middle;\n",
       "    }\n",
       "\n",
       "    .dataframe tbody tr th {\n",
       "        vertical-align: top;\n",
       "    }\n",
       "\n",
       "    .dataframe thead th {\n",
       "        text-align: right;\n",
       "    }\n",
       "</style>\n",
       "<table border=\"1\" class=\"dataframe\">\n",
       "  <thead>\n",
       "    <tr style=\"text-align: right;\">\n",
       "      <th></th>\n",
       "      <th>store_id</th>\n",
       "      <th>store_id_only_num</th>\n",
       "      <th>store_name</th>\n",
       "      <th>booking</th>\n",
       "      <th>receipt</th>\n",
       "      <th>blog</th>\n",
       "      <th>total</th>\n",
       "    </tr>\n",
       "  </thead>\n",
       "  <tbody>\n",
       "    <tr>\n",
       "      <td>0</td>\n",
       "      <td>s1518997092</td>\n",
       "      <td>1518997092</td>\n",
       "      <td>준오헤어 노원사거리점</td>\n",
       "      <td>2015.0</td>\n",
       "      <td>3.0</td>\n",
       "      <td>15.0</td>\n",
       "      <td>2033.0</td>\n",
       "    </tr>\n",
       "    <tr>\n",
       "      <td>1</td>\n",
       "      <td>s1571970153</td>\n",
       "      <td>1571970153</td>\n",
       "      <td>차홍룸 홍대점</td>\n",
       "      <td>2009.0</td>\n",
       "      <td>1.0</td>\n",
       "      <td>10.0</td>\n",
       "      <td>2020.0</td>\n",
       "    </tr>\n",
       "    <tr>\n",
       "      <td>2</td>\n",
       "      <td>s1142939643</td>\n",
       "      <td>1142939643</td>\n",
       "      <td>차홍룸 용산센트럴점</td>\n",
       "      <td>1871.0</td>\n",
       "      <td>3.0</td>\n",
       "      <td>11.0</td>\n",
       "      <td>1885.0</td>\n",
       "    </tr>\n",
       "    <tr>\n",
       "      <td>3</td>\n",
       "      <td>s1481443590</td>\n",
       "      <td>1481443590</td>\n",
       "      <td>차홍룸 용산점</td>\n",
       "      <td>1541.0</td>\n",
       "      <td>2.0</td>\n",
       "      <td>11.0</td>\n",
       "      <td>1554.0</td>\n",
       "    </tr>\n",
       "    <tr>\n",
       "      <td>4</td>\n",
       "      <td>s1177346002</td>\n",
       "      <td>1177346002</td>\n",
       "      <td>차홍룸 양재점</td>\n",
       "      <td>1373.0</td>\n",
       "      <td>1.0</td>\n",
       "      <td>10.0</td>\n",
       "      <td>1384.0</td>\n",
       "    </tr>\n",
       "    <tr>\n",
       "      <td>...</td>\n",
       "      <td>...</td>\n",
       "      <td>...</td>\n",
       "      <td>...</td>\n",
       "      <td>...</td>\n",
       "      <td>...</td>\n",
       "      <td>...</td>\n",
       "      <td>...</td>\n",
       "    </tr>\n",
       "    <tr>\n",
       "      <td>2722</td>\n",
       "      <td>s38257322</td>\n",
       "      <td>38257322</td>\n",
       "      <td>바바헤어 대치점</td>\n",
       "      <td>1.0</td>\n",
       "      <td>1.0</td>\n",
       "      <td>2.0</td>\n",
       "      <td>4.0</td>\n",
       "    </tr>\n",
       "    <tr>\n",
       "      <td>2723</td>\n",
       "      <td>s1069634711</td>\n",
       "      <td>1069634711</td>\n",
       "      <td>정환헤어샵</td>\n",
       "      <td>1.0</td>\n",
       "      <td>1.0</td>\n",
       "      <td>2.0</td>\n",
       "      <td>4.0</td>\n",
       "    </tr>\n",
       "    <tr>\n",
       "      <td>2724</td>\n",
       "      <td>s20852762</td>\n",
       "      <td>20852762</td>\n",
       "      <td>머리짱헤어샵</td>\n",
       "      <td>1.0</td>\n",
       "      <td>2.0</td>\n",
       "      <td>1.0</td>\n",
       "      <td>4.0</td>\n",
       "    </tr>\n",
       "    <tr>\n",
       "      <td>2725</td>\n",
       "      <td>s36091089</td>\n",
       "      <td>36091089</td>\n",
       "      <td>살롱160</td>\n",
       "      <td>1.0</td>\n",
       "      <td>1.0</td>\n",
       "      <td>2.0</td>\n",
       "      <td>4.0</td>\n",
       "    </tr>\n",
       "    <tr>\n",
       "      <td>2726</td>\n",
       "      <td>s18206329</td>\n",
       "      <td>18206329</td>\n",
       "      <td>주주헤어 공릉본점</td>\n",
       "      <td>1.0</td>\n",
       "      <td>1.0</td>\n",
       "      <td>2.0</td>\n",
       "      <td>4.0</td>\n",
       "    </tr>\n",
       "  </tbody>\n",
       "</table>\n",
       "<p>2727 rows × 7 columns</p>\n",
       "</div>"
      ],
      "text/plain": [
       "         store_id  store_id_only_num   store_name  booking  receipt  blog  \\\n",
       "0     s1518997092         1518997092  준오헤어 노원사거리점   2015.0      3.0  15.0   \n",
       "1     s1571970153         1571970153      차홍룸 홍대점   2009.0      1.0  10.0   \n",
       "2     s1142939643         1142939643   차홍룸 용산센트럴점   1871.0      3.0  11.0   \n",
       "3     s1481443590         1481443590      차홍룸 용산점   1541.0      2.0  11.0   \n",
       "4     s1177346002         1177346002      차홍룸 양재점   1373.0      1.0  10.0   \n",
       "...           ...                ...          ...      ...      ...   ...   \n",
       "2722    s38257322           38257322     바바헤어 대치점      1.0      1.0   2.0   \n",
       "2723  s1069634711         1069634711        정환헤어샵      1.0      1.0   2.0   \n",
       "2724    s20852762           20852762       머리짱헤어샵      1.0      2.0   1.0   \n",
       "2725    s36091089           36091089        살롱160      1.0      1.0   2.0   \n",
       "2726    s18206329           18206329    주주헤어 공릉본점      1.0      1.0   2.0   \n",
       "\n",
       "       total  \n",
       "0     2033.0  \n",
       "1     2020.0  \n",
       "2     1885.0  \n",
       "3     1554.0  \n",
       "4     1384.0  \n",
       "...      ...  \n",
       "2722     4.0  \n",
       "2723     4.0  \n",
       "2724     4.0  \n",
       "2725     4.0  \n",
       "2726     4.0  \n",
       "\n",
       "[2727 rows x 7 columns]"
      ]
     },
     "execution_count": 20,
     "metadata": {},
     "output_type": "execute_result"
    }
   ],
   "source": [
    "# Unnamed column drop\n",
    "df_place.drop('Unnamed: 0', axis=1, inplace=True)\n",
    "df_place"
   ]
  },
  {
   "cell_type": "markdown",
   "metadata": {},
   "source": [
    "# 네이버 플레이스 모바일 페이지 크롤링 함수\n",
    "#### 2020-05-12 (화) 이한울\n",
    "---\n",
    "- 스레딩 테스트 중"
   ]
  },
  {
   "cell_type": "code",
   "execution_count": 21,
   "metadata": {},
   "outputs": [],
   "source": [
    "# status가 400, 500인 경우 크롤링하지 못한 업소의 정보를 따로 저장하는 함수\n",
    "def df_error_save(store_id, store_name, error_code):\n",
    "    \n",
    "    global df_blog_error\n",
    "    global df_place\n",
    "    \n",
    "    original_index = \\\n",
    "    df_place[df_place['store_id_only_num'] == store_id]['store_name'].index\n",
    "    \n",
    "    df_blog_error = df_blog_error.append({\n",
    "        'store_id' : store_id\n",
    "        , 'store_name' : store_name\n",
    "        , 'error_code' : error_code\n",
    "        , 'original_index' : original_index\n",
    "    }, ignore_index=True)\n",
    "    \n",
    "    return df_blog_error"
   ]
  },
  {
   "cell_type": "code",
   "execution_count": 22,
   "metadata": {},
   "outputs": [],
   "source": [
    "# 크롤링이 완료된 업소의 정보들을 DataFrame에 저장하는 함수\n",
    "def df_info_save(store_id, store_name, title, blog_writer, link, summary, blog_name, total_number):\n",
    "    \n",
    "    global df_blog_review\n",
    "    \n",
    "    df_blog_review = df_blog_review.append({\n",
    "        'store_id' : store_id\n",
    "        , 'store_name' : store_name\n",
    "        , 'title' : title\n",
    "        , 'writer' : blog_writer\n",
    "        , 'link' : link\n",
    "        , 'summary' : summary\n",
    "        , 'blog_name' : blog_name\n",
    "        , 'total_number' : 101 # total_number는 바꿔야함\n",
    "    }, ignore_index=True)\n",
    "    \n",
    "    return df_blog_review"
   ]
  },
  {
   "cell_type": "code",
   "execution_count": 23,
   "metadata": {},
   "outputs": [],
   "source": [
    "# 플레이스 검색 결과 블로그 리뷰가 하나도 존재하지 않는 업소 정보 저장 함수\n",
    "def df_no_result(store_id, store_name, blog_tab):\n",
    "    \n",
    "    global df_blog_empty\n",
    "    global df_place\n",
    "    \n",
    "    original_index = \\\n",
    "    df_place[df_place['store_id_only_num'] == store_id]['store_name'].index\n",
    "    \n",
    "    df_blog_empty = df_blog_empty.append({\n",
    "        'store_id' : store_id\n",
    "        , 'store_name' : store_name\n",
    "        , 'blog_tab' : ('https://m.place.naver.com' + blog_tab)\n",
    "        , 'original_index' : original_index\n",
    "    }, ignore_index=True)\n",
    "    \n",
    "    return df_empty"
   ]
  },
  {
   "cell_type": "code",
   "execution_count": 24,
   "metadata": {},
   "outputs": [],
   "source": [
    "def m_place_save(driver, store):\n",
    "    \n",
    "    try:\n",
    "        count_list = []\n",
    "        store_id = store\n",
    "        total_number = 1\n",
    "    #     driver = Chrome('./chromedriver.exe')\n",
    "        store_name = str(df_place[df_place['store_id_only_num'] == store_id]['store_name'].iloc[0])\n",
    "\n",
    "        driver.get('https://m.store.naver.com/hairshops/detail?entry=plt&id=' + str(store_id)) # df_blog['links'][i]\n",
    "        status_req = requests.get('https://m.store.naver.com/hairshops/detail?entry=plt&id=' + str(store_id))\n",
    "        time.sleep(2)\n",
    "\n",
    "        if status_req.status_code in (500, 501, 400, 403, 404, 401, 503):\n",
    "\n",
    "            print(store, store_name, '크롤링 중 에러가 발생했습니다.')\n",
    "            print('내부 서버 에러가 발생했습니다.')\n",
    "            print('30초 후에 다시 진행합니다.')\n",
    "            df_error_save(store, store_name, status_req.status_code)\n",
    "\n",
    "        elif status_req.status_code == 200:\n",
    "\n",
    "            time.sleep(1.5 + (np.random.rand()))\n",
    "            place_soup = BeautifulSoup(driver.page_source, 'html.parser')\n",
    "            span = place_soup.find_all('span', '_1Y6hi')[-1]\n",
    "            link = (span.a).attrs['href']\n",
    "\n",
    "            if '/review/ugc' in link:\n",
    "\n",
    "                print(store, store_name, '크롤링을 진행합니다.\\n')\n",
    "                blog_tab = link\n",
    "                total_count = (((span.a).get_text()).strip()).replace('블로그리뷰 ', '')\n",
    "                print('명시적 총 블로그 리뷰 수:', int(total_count), '\\n')\n",
    "                print('블로그 탭:', blog_tab, '\\n')\n",
    "                time.sleep(2)\n",
    "                driver.get('https://m.place.naver.com' + blog_tab)\n",
    "                req = requests.get('https://m.store.naver.com' + blog_tab)\n",
    "\n",
    "                time.sleep(1.5 + (np.random.rand() + np.random.rand()))\n",
    "\n",
    "                if int(total_count) > 10:\n",
    "                    # 블로그 리뷰 페이지의 다음 버튼 클릭\n",
    "                    blog_x_path = '//a[@class=\"_3iTUo\"]'        \n",
    "\n",
    "                    if driver.find_element(By.XPATH, blog_x_path).is_displayed():\n",
    "\n",
    "                        try:\n",
    "                            while driver.find_element(By.XPATH, blog_x_path).is_displayed():\n",
    "\n",
    "                                next_btn = driver.find_element(By.XPATH, blog_x_path)\n",
    "                                next_btn.click()\n",
    "                                time.sleep(2)\n",
    "\n",
    "                        except sce.NoSuchElementException:\n",
    "                            print('해당 엘리먼트를 찾지 못했습니다.')\n",
    "\n",
    "                        except sce.ElementNotInteractableException:\n",
    "                            print('해당 엘리먼트를 찾던 중 에러가 발생했습니다.')\n",
    "\n",
    "                        time.sleep(2.5)\n",
    "                        review_soup = BeautifulSoup(driver.page_source, 'html.parser')\n",
    "\n",
    "                        # 첫 번째 페이지의 블로그 이름, 포스트 제목, 링크, 본문 요약 가져오기  \n",
    "                        blog_src = ((review_soup.find('div', class_='place_section undefined')).find('ul', class_='_1fYfG undefined')).find_all('li', class_=\"_3xK_0\")\n",
    "                        \n",
    "                        # 파싱 후 접근하고자 하는 요소가 존재할 때\n",
    "                        if blog_src != None:\n",
    "                            for blog in tqdm_notebook(blog_src):\n",
    "\n",
    "                                link = (blog.a).attrs['href']\n",
    "                                summary = (blog.find_all('div', class_=\"_3kKqj\"))[1].get_text()\n",
    "                                title = blog.find('div', '_2dj8M').get_text()\n",
    "                                blog_name = blog.find('span', class_='_1vuEi').get_text()\n",
    "\n",
    "                                # 블로그 작성자의 ID를 가져오기 위해 블로그 링크 분할\n",
    "                                split_link = re.split('[/+]|[.+]|[?]+', str(link))\n",
    "\n",
    "                                # 도메인이 blog.naver.com인 경우 블로그 작성자 가져오기\n",
    "                                if split_link[3] == 'blog':\n",
    "                                    blog_writer = split_link[6]    \n",
    "\n",
    "                                else:\n",
    "                                    pass\n",
    "\n",
    "                                if ('cafeRedirect' or 'post.naver.com') not in link:\n",
    "                                    count_list.append(link)\n",
    "                                    df_info_save(store_id\n",
    "                                                 , store_name\n",
    "                                                 , title\n",
    "                                                 , blog_writer\n",
    "                                                 , link\n",
    "                                                 , summary\n",
    "                                                 , blog_name\n",
    "                                                 , total_number)\n",
    "\n",
    "                        # 파싱 후 접근하고자 하는 요소가 존재하지 않을 때\n",
    "                        else:\n",
    "                            print('파싱한 HTML 소스가 존재하지 않습니다!')\n",
    "                            df_no_result(store, store_name, blog_tab)\n",
    "                        \n",
    "                else:\n",
    "                    time.sleep(2.5)\n",
    "                    review_soup = BeautifulSoup(driver.page_source, 'html.parser')\n",
    "\n",
    "                    # 첫 번째 페이지의 블로그 이름, 포스트 제목, 링크, 본문 요약 가져오기  \n",
    "                    blog_src = ((review_soup.find('div', class_='place_section undefined')).find('ul', class_='_1fYfG undefined')).find_all('li', class_=\"_3xK_0\")\n",
    "                    blog_x_path = None\n",
    "\n",
    "                    for blog in tqdm_notebook(blog_src):\n",
    "\n",
    "                        link = (blog.a).attrs['href']\n",
    "                        summary = (blog.find_all('div', class_=\"_3kKqj\"))[1].get_text()\n",
    "                        title = blog.find('div', '_2dj8M').get_text()\n",
    "                        blog_name = blog.find('span', class_='_1vuEi').get_text()\n",
    "\n",
    "                        # 블로그 작성자의 ID를 가져오기 위해 블로그 링크 분할\n",
    "                        split_link = re.split('[/+]|[.+]|[?]+', str(link))\n",
    "\n",
    "                        # 도메인이 blog.naver.com인 경우 블로그 작성자 가져오기\n",
    "                        if split_link[3] == 'blog':\n",
    "                            blog_writer = split_link[6]\n",
    "\n",
    "                        else:\n",
    "                            pass\n",
    "\n",
    "                        if ('cafeRedirect' or 'post.naver.com') not in link:\n",
    "                            count_list.append(link)\n",
    "                            df_info_save(store_id\n",
    "                                         , store_name\n",
    "                                         , title\n",
    "                                         , blog_writer\n",
    "                                         , link\n",
    "                                         , summary\n",
    "                                         , blog_name\n",
    "                                         , total_number)\n",
    "\n",
    "                    print('다음 페이지가 없습니다.')\n",
    "                    pass\n",
    "\n",
    "            else:\n",
    "                print('블로그 리뷰가 없습니다.')\n",
    "                pass\n",
    "            \n",
    "            if len(count_list) == 0:\n",
    "                print('저장된 블로그 정보가 없습니다.')\n",
    "                df_no_result(store, store_name, blog_tab)\n",
    "            \n",
    "    except sce.NoSuchElementException:\n",
    "        print('블로그 리뷰가 없습니다!')\n",
    "        print('다음 업소의 크롤링을 진행합니다.')\n",
    "        df_no_result(store, store_name, blog_tab)\n",
    "        \n",
    "    except sce.ElementNotInteractableException:\n",
    "        print('해당 엘리먼트를 찾던 중 에러가 발생했습니다.')\n",
    "    \n",
    "    print(store_name + '의 블로그 리뷰 총 개수:', len(count_list))\n",
    "    driver.close()\n",
    "    driver.quit()\n",
    "    return df_blog_review"
   ]
  },
  {
   "cell_type": "code",
   "execution_count": 25,
   "metadata": {},
   "outputs": [],
   "source": [
    "# 크롬 웹 드라이버 헤드리스 설정 및 웹 보안 무시\n",
    "options = webdriver.ChromeOptions()\n",
    "\n",
    "prefs = {\n",
    "    'profile.default_content_setting_values': {\n",
    "          'cookies': 2, 'images': 2, 'plugins': 2\n",
    "        , 'popups': 2, 'geolocation': 2, 'notifications': 2\n",
    "        , 'auto_select_certificate': 2, 'fullscreen': 2, 'mouselock': 2\n",
    "        , 'mixed_script': 2, 'media_stream': 2, 'media_stream_mic': 2\n",
    "        , 'media_stream_camera': 2, 'protocol_handlers': 2, 'ppapi_broker': 2\n",
    "        , 'automatic_downloads': 2, 'midi_sysex': 2, 'push_messaging': 2\n",
    "        , 'ssl_cert_decisions': 2, 'metro_switch_to_desktop': 2, 'protected_media_identifier': 2\n",
    "        , 'app_banner': 2, 'site_engagement': 2, 'durable_storage': 2\n",
    "    }\n",
    "}\n",
    "\n",
    "options.add_experimental_option('prefs', prefs)\n",
    "options.add_argument(\"start-maximized\")\n",
    "options.add_argument(\"disable-infobars\")\n",
    "options.add_argument(\"--disable-extensions\")\n",
    "options.add_argument('headless')\n",
    "options.add_argument(\"disable-gpu\")\n",
    "options.add_argument(\"--disable-web-security\")"
   ]
  },
  {
   "cell_type": "code",
   "execution_count": 27,
   "metadata": {},
   "outputs": [
    {
     "name": "stdout",
     "output_type": "stream",
     "text": [
      "0 ~ 4의 블로그 리뷰 크롤링을 시작합니다.\n"
     ]
    },
    {
     "name": "stderr",
     "output_type": "stream",
     "text": [
      "100%|████████████████████████████████████████████████████████████████████████████████████████████| 5/5 [00:00<?, ?it/s]\n"
     ]
    },
    {
     "name": "stdout",
     "output_type": "stream",
     "text": [
      "1142939643 차홍룸 용산센트럴점 크롤링을 진행합니다.\n",
      "명시적 총 블로그 리뷰 수: 1286\n",
      "블로그 탭: /hairshop/1142939643/review/ugc\n",
      "15189970921481443590  준오헤어 노원사거리점차홍룸 용산점 크롤링을 진행합니다. \n",
      "크롤링을 진행합니다.\n",
      "명시적 총 블로그 리뷰 수:명시적 총 블로그 리뷰 수:  3780973\n",
      "블로그 탭:\n",
      " 블로그 탭: /hairshop/1518997092/review/ugc\n",
      "/hairshop/1481443590/review/ugc\n",
      "1571970153 차홍룸 홍대점 크롤링을 진행합니다.\n",
      "명시적 총 블로그 리뷰 수: 543\n",
      "블로그 탭: /hairshop/1571970153/review/ugc\n",
      "1177346002 차홍룸 양재점 크롤링을 진행합니다.\n",
      "명시적 총 블로그 리뷰 수: 539\n",
      "블로그 탭: /hairshop/1177346002/review/ugc\n",
      "해당 엘리먼트를 찾지 못했습니다.\n",
      "해당 엘리먼트를 찾지 못했습니다.\n"
     ]
    },
    {
     "data": {
      "application/vnd.jupyter.widget-view+json": {
       "model_id": "118ed2769d494b3fa1cd2fe2bd4b550f",
       "version_major": 2,
       "version_minor": 0
      },
      "text/plain": [
       "HBox(children=(IntProgress(value=0, max=101), HTML(value='')))"
      ]
     },
     "metadata": {},
     "output_type": "display_data"
    },
    {
     "name": "stdout",
     "output_type": "stream",
     "text": [
      "\n"
     ]
    },
    {
     "data": {
      "application/vnd.jupyter.widget-view+json": {
       "model_id": "b04878f4bcad47228e1cd13e796f8b0b",
       "version_major": 2,
       "version_minor": 0
      },
      "text/plain": [
       "HBox(children=(IntProgress(value=0, max=102), HTML(value='')))"
      ]
     },
     "metadata": {},
     "output_type": "display_data"
    },
    {
     "name": "stdout",
     "output_type": "stream",
     "text": [
      "차홍룸 용산센트럴점의 블로그 리뷰 총 개수: 100\n",
      "\n",
      "차홍룸 용산점의 블로그 리뷰 총 개수: 102\n",
      "해당 엘리먼트를 찾지 못했습니다.\n"
     ]
    },
    {
     "data": {
      "application/vnd.jupyter.widget-view+json": {
       "model_id": "763eacfa4a6944bf9d0c1f8173f464e6",
       "version_major": 2,
       "version_minor": 0
      },
      "text/plain": [
       "HBox(children=(IntProgress(value=0), HTML(value='')))"
      ]
     },
     "metadata": {},
     "output_type": "display_data"
    },
    {
     "name": "stdout",
     "output_type": "stream",
     "text": [
      "\n",
      "차홍룸 홍대점의 블로그 리뷰 총 개수: 100\n",
      "해당 엘리먼트를 찾지 못했습니다.\n"
     ]
    },
    {
     "data": {
      "application/vnd.jupyter.widget-view+json": {
       "model_id": "37af99de87b84cc8aff35a76a70b1895",
       "version_major": 2,
       "version_minor": 0
      },
      "text/plain": [
       "HBox(children=(IntProgress(value=0, max=150), HTML(value='')))"
      ]
     },
     "metadata": {},
     "output_type": "display_data"
    },
    {
     "name": "stdout",
     "output_type": "stream",
     "text": [
      "해당 엘리먼트를 찾지 못했습니다.\n",
      "\n",
      "준오헤어 노원사거리점의 블로그 리뷰 총 개수: 100\n"
     ]
    },
    {
     "data": {
      "application/vnd.jupyter.widget-view+json": {
       "model_id": "35f24f8d31674b5897a84a23834873dc",
       "version_major": 2,
       "version_minor": 0
      },
      "text/plain": [
       "HBox(children=(IntProgress(value=0), HTML(value='')))"
      ]
     },
     "metadata": {},
     "output_type": "display_data"
    },
    {
     "name": "stdout",
     "output_type": "stream",
     "text": [
      "\n",
      "차홍룸 양재점의 블로그 리뷰 총 개수: 100\n",
      "5 ~ 9의 블로그 리뷰 크롤링을 시작합니다.\n"
     ]
    },
    {
     "name": "stderr",
     "output_type": "stream",
     "text": [
      "100%|████████████████████████████████████████████████████████████████████████████████████████████| 5/5 [00:00<?, ?it/s]\n"
     ]
    },
    {
     "name": "stdout",
     "output_type": "stream",
     "text": [
      "1524045876 차홍룸 신논현점 크롤링을 진행합니다.\n",
      "명시적 총 블로그 리뷰 수: 600\n",
      "블로그 탭: /hairshop/1524045876/review/ugc\n",
      "1746174193 차홍룸 신촌점 크롤링을 진행합니다.\n",
      "명시적 총 블로그 리뷰 수: 520\n",
      "블로그 탭: /hairshop/1746174193/review/ugc\n",
      "1906769677 차홍룸 삼성점 크롤링을 진행합니다.\n",
      "명시적 총 블로그 리뷰 수: 595\n",
      "블로그 탭: /hairshop/1906769677/review/ugc\n",
      "32692564 CHOP헤어 신천점 크롤링을 진행합니다.\n",
      "명시적 총 블로그 리뷰 수: 880\n",
      "블로그 탭: /hairshop/32692564/review/ugc\n",
      "1088094452 차홍룸 목동점 크롤링을 진행합니다.\n",
      "명시적 총 블로그 리뷰 수: 405\n",
      "블로그 탭: /hairshop/1088094452/review/ugc\n",
      "해당 엘리먼트를 찾지 못했습니다.\n"
     ]
    },
    {
     "data": {
      "application/vnd.jupyter.widget-view+json": {
       "model_id": "06a7aee33a0d4c8c882055ec0a7260e4",
       "version_major": 2,
       "version_minor": 0
      },
      "text/plain": [
       "HBox(children=(IntProgress(value=0), HTML(value='')))"
      ]
     },
     "metadata": {},
     "output_type": "display_data"
    },
    {
     "name": "stdout",
     "output_type": "stream",
     "text": [
      "\n",
      "차홍룸 신논현점의 블로그 리뷰 총 개수: 100\n",
      "해당 엘리먼트를 찾지 못했습니다.\n",
      "해당 엘리먼트를 찾지 못했습니다.\n"
     ]
    },
    {
     "data": {
      "application/vnd.jupyter.widget-view+json": {
       "model_id": "fe1c3d93da844efb944d1db971d389d4",
       "version_major": 2,
       "version_minor": 0
      },
      "text/plain": [
       "HBox(children=(IntProgress(value=0), HTML(value='')))"
      ]
     },
     "metadata": {},
     "output_type": "display_data"
    },
    {
     "name": "stdout",
     "output_type": "stream",
     "text": [
      "\n",
      "차홍룸 신촌점의 블로그 리뷰 총 개수: 100\n"
     ]
    },
    {
     "data": {
      "application/vnd.jupyter.widget-view+json": {
       "model_id": "dde3c198d2394e029c8a1fdd75d162f8",
       "version_major": 2,
       "version_minor": 0
      },
      "text/plain": [
       "HBox(children=(IntProgress(value=0), HTML(value='')))"
      ]
     },
     "metadata": {},
     "output_type": "display_data"
    },
    {
     "name": "stdout",
     "output_type": "stream",
     "text": [
      "\n",
      "차홍룸 삼성점의 블로그 리뷰 총 개수: 100\n",
      "해당 엘리먼트를 찾지 못했습니다.\n",
      "해당 엘리먼트를 찾지 못했습니다.\n"
     ]
    },
    {
     "data": {
      "application/vnd.jupyter.widget-view+json": {
       "model_id": "36d72afd4d024577968f7f3d99d04af5",
       "version_major": 2,
       "version_minor": 0
      },
      "text/plain": [
       "HBox(children=(IntProgress(value=0), HTML(value='')))"
      ]
     },
     "metadata": {},
     "output_type": "display_data"
    },
    {
     "name": "stdout",
     "output_type": "stream",
     "text": [
      "\n",
      "차홍룸 목동점의 블로그 리뷰 총 개수: 100\n"
     ]
    },
    {
     "data": {
      "application/vnd.jupyter.widget-view+json": {
       "model_id": "c5e16ced9a364c1fb240638951586c21",
       "version_major": 2,
       "version_minor": 0
      },
      "text/plain": [
       "HBox(children=(IntProgress(value=0, max=104), HTML(value='')))"
      ]
     },
     "metadata": {},
     "output_type": "display_data"
    },
    {
     "name": "stdout",
     "output_type": "stream",
     "text": [
      "\n",
      "CHOP헤어 신천점의 블로그 리뷰 총 개수: 100\n",
      "10 ~ 14의 블로그 리뷰 크롤링을 시작합니다.\n"
     ]
    },
    {
     "name": "stderr",
     "output_type": "stream",
     "text": [
      "100%|████████████████████████████████████████████████████████████████████████████████████████████| 5/5 [00:00<?, ?it/s]\n"
     ]
    },
    {
     "name": "stdout",
     "output_type": "stream",
     "text": [
      "1349483891 차홍룸 잠실점 크롤링을 진행합니다.\n",
      "명시적 총 블로그 리뷰 수: 226\n",
      "블로그 탭: /hairshop/1349483891/review/ugc\n",
      "1967312452 차홍룸 한남점 크롤링을 진행합니다.\n",
      "명시적 총 블로그 리뷰 수: 418\n",
      "블로그 탭: /hairshop/1967312452/review/ugc\n",
      "1026108143 에이엠톤 본점 크롤링을 진행합니다.\n",
      "명시적 총 블로그 리뷰 수: 412\n",
      "블로그 탭: /hairshop/1026108143/review/ugc\n",
      "38642772 제오헤어 신촌점 크롤링을 진행합니다.\n",
      "명시적 총 블로그 리뷰 수: 953\n",
      "블로그 탭: /hairshop/38642772/review/ugc\n",
      "21331306 CHOP헤어 잠실점 크롤링을 진행합니다.\n",
      "명시적 총 블로그 리뷰 수: 1145\n",
      "블로그 탭: /hairshop/21331306/review/ugc\n",
      "해당 엘리먼트를 찾지 못했습니다.\n"
     ]
    },
    {
     "data": {
      "application/vnd.jupyter.widget-view+json": {
       "model_id": "e6017490332e416494922721f30135ec",
       "version_major": 2,
       "version_minor": 0
      },
      "text/plain": [
       "HBox(children=(IntProgress(value=0, max=101), HTML(value='')))"
      ]
     },
     "metadata": {},
     "output_type": "display_data"
    },
    {
     "name": "stdout",
     "output_type": "stream",
     "text": [
      "\n",
      "차홍룸 잠실점의 블로그 리뷰 총 개수: 101\n",
      "해당 엘리먼트를 찾지 못했습니다.해당 엘리먼트를 찾지 못했습니다.\n",
      "\n",
      "해당 엘리먼트를 찾지 못했습니다.\n"
     ]
    },
    {
     "data": {
      "application/vnd.jupyter.widget-view+json": {
       "model_id": "aa1518f775254c2fba8b8caa7b9ea68e",
       "version_major": 2,
       "version_minor": 0
      },
      "text/plain": [
       "HBox(children=(IntProgress(value=0), HTML(value='')))"
      ]
     },
     "metadata": {},
     "output_type": "display_data"
    },
    {
     "data": {
      "application/vnd.jupyter.widget-view+json": {
       "model_id": "3058deb3893b4f11876a9953f81dfc16",
       "version_major": 2,
       "version_minor": 0
      },
      "text/plain": [
       "HBox(children=(IntProgress(value=0), HTML(value='')))"
      ]
     },
     "metadata": {},
     "output_type": "display_data"
    },
    {
     "name": "stdout",
     "output_type": "stream",
     "text": [
      "\n",
      "차홍룸 한남점의 블로그 리뷰 총 개수: 100\n",
      "\n",
      "에이엠톤 본점의 블로그 리뷰 총 개수: 100\n"
     ]
    },
    {
     "data": {
      "application/vnd.jupyter.widget-view+json": {
       "model_id": "c7c000ede3bc49628784f31d21d264f9",
       "version_major": 2,
       "version_minor": 0
      },
      "text/plain": [
       "HBox(children=(IntProgress(value=0), HTML(value='')))"
      ]
     },
     "metadata": {},
     "output_type": "display_data"
    },
    {
     "name": "stdout",
     "output_type": "stream",
     "text": [
      "\n",
      "제오헤어 신촌점의 블로그 리뷰 총 개수: 100\n",
      "해당 엘리먼트를 찾지 못했습니다.\n"
     ]
    },
    {
     "data": {
      "application/vnd.jupyter.widget-view+json": {
       "model_id": "1046b5f30663405090b81879bf28d451",
       "version_major": 2,
       "version_minor": 0
      },
      "text/plain": [
       "HBox(children=(IntProgress(value=0, max=103), HTML(value='')))"
      ]
     },
     "metadata": {},
     "output_type": "display_data"
    },
    {
     "name": "stdout",
     "output_type": "stream",
     "text": [
      "\n",
      "CHOP헤어 잠실점의 블로그 리뷰 총 개수: 100\n",
      "15 ~ 19의 블로그 리뷰 크롤링을 시작합니다.\n"
     ]
    },
    {
     "name": "stderr",
     "output_type": "stream",
     "text": [
      "100%|████████████████████████████████████████████████████████████████████████████████████████████| 5/5 [00:00<?, ?it/s]\n"
     ]
    },
    {
     "name": "stdout",
     "output_type": "stream",
     "text": [
      "1567835311 박승철헤어스투디오 신림점 크롤링을 진행합니다.\n",
      "명시적 총 블로그 리뷰 수: 662\n",
      "블로그 탭: /hairshop/1567835311/review/ugc\n",
      "37653586 박승철헤어스투디오 신촌점 크롤링을 진행합니다.\n",
      "명시적 총 블로그 리뷰 수: 856\n",
      "블로그 탭: /hairshop/37653586/review/ugc\n",
      "34983865 준오헤어 서울대입구역점 크롤링을 진행합니다.\n",
      "명시적 총 블로그 리뷰 수: 507\n",
      "블로그 탭: /hairshop/34983865/review/ugc\n",
      "950329204 메종드아이디헤어 CBS목동점 크롤링을 진행합니다.\n",
      "명시적 총 블로그 리뷰 수: 797\n",
      "블로그 탭: /hairshop/950329204/review/ugc\n",
      "944203444 유니크바이 크롤링을 진행합니다.\n",
      "명시적 총 블로그 리뷰 수: 727\n",
      "블로그 탭: /hairshop/944203444/review/ugc\n",
      "해당 엘리먼트를 찾지 못했습니다.\n"
     ]
    },
    {
     "data": {
      "application/vnd.jupyter.widget-view+json": {
       "model_id": "acc81b28c4984e9e8dab7f05f892c12b",
       "version_major": 2,
       "version_minor": 0
      },
      "text/plain": [
       "HBox(children=(IntProgress(value=0), HTML(value='')))"
      ]
     },
     "metadata": {},
     "output_type": "display_data"
    },
    {
     "name": "stdout",
     "output_type": "stream",
     "text": [
      "\n",
      "박승철헤어스투디오 신림점의 블로그 리뷰 총 개수: 100\n",
      "해당 엘리먼트를 찾지 못했습니다.\n",
      "해당 엘리먼트를 찾지 못했습니다.\n",
      "해당 엘리먼트를 찾지 못했습니다.\n"
     ]
    },
    {
     "data": {
      "application/vnd.jupyter.widget-view+json": {
       "model_id": "b15efb3eec0542fabd52eb3308de0b15",
       "version_major": 2,
       "version_minor": 0
      },
      "text/plain": [
       "HBox(children=(IntProgress(value=0), HTML(value='')))"
      ]
     },
     "metadata": {},
     "output_type": "display_data"
    },
    {
     "data": {
      "application/vnd.jupyter.widget-view+json": {
       "model_id": "d20b00c193ea4b6d87be7733a3c6e0b0",
       "version_major": 2,
       "version_minor": 0
      },
      "text/plain": [
       "HBox(children=(IntProgress(value=0), HTML(value='')))"
      ]
     },
     "metadata": {},
     "output_type": "display_data"
    },
    {
     "data": {
      "application/vnd.jupyter.widget-view+json": {
       "model_id": "5b8002348c3b4a15816f2ac6caa15016",
       "version_major": 2,
       "version_minor": 0
      },
      "text/plain": [
       "HBox(children=(IntProgress(value=0), HTML(value='')))"
      ]
     },
     "metadata": {},
     "output_type": "display_data"
    },
    {
     "name": "stdout",
     "output_type": "stream",
     "text": [
      "\n",
      "준오헤어 서울대입구역점의 블로그 리뷰 총 개수: 100\n",
      "\n",
      "박승철헤어스투디오 신촌점의 블로그 리뷰 총 개수: 100\n",
      "\n",
      "메종드아이디헤어 CBS목동점의 블로그 리뷰 총 개수: 100\n",
      "해당 엘리먼트를 찾지 못했습니다.\n"
     ]
    },
    {
     "data": {
      "application/vnd.jupyter.widget-view+json": {
       "model_id": "36a22ee6c2074bb48fd8acbf2fadb7c3",
       "version_major": 2,
       "version_minor": 0
      },
      "text/plain": [
       "HBox(children=(IntProgress(value=0, max=102), HTML(value='')))"
      ]
     },
     "metadata": {},
     "output_type": "display_data"
    },
    {
     "name": "stdout",
     "output_type": "stream",
     "text": [
      "\n",
      "유니크바이의 블로그 리뷰 총 개수: 101\n",
      "20 ~ 24의 블로그 리뷰 크롤링을 시작합니다.\n"
     ]
    },
    {
     "name": "stderr",
     "output_type": "stream",
     "text": [
      "100%|████████████████████████████████████████████████████████████████████████████████████████████| 5/5 [00:00<?, ?it/s]\n"
     ]
    },
    {
     "name": "stdout",
     "output_type": "stream",
     "text": [
      "32264673 이진헤어 노량진점 크롤링을 진행합니다.\n",
      "명시적 총 블로그 리뷰 수: 122\n",
      "블로그 탭: /hairshop/32264673/review/ugc\n",
      "37101503 CHOPHAIR 대치점 크롤링을 진행합니다.\n",
      "명시적 총 블로그 리뷰 수: 654\n",
      "블로그 탭: /hairshop/37101503/review/ugc\n",
      "37911640 박준뷰티랩 종각역점 크롤링을 진행합니다.\n",
      "명시적 총 블로그 리뷰 수: 326\n",
      "블로그 탭: /hairshop/37911640/review/ugc\n",
      "34585445 리안헤어 중랑역점 크롤링을 진행합니다.\n",
      "명시적 총 블로그 리뷰 수: 171\n",
      "블로그 탭: /hairshop/34585445/review/ugc\n",
      "11726491 준오헤어 강남2호점 크롤링을 진행합니다.\n",
      "명시적 총 블로그 리뷰 수: 854\n",
      "블로그 탭: /hairshop/11726491/review/ugc\n",
      "해당 엘리먼트를 찾지 못했습니다.\n"
     ]
    },
    {
     "data": {
      "application/vnd.jupyter.widget-view+json": {
       "model_id": "69bcfa7a87634885bb243c51ba338c59",
       "version_major": 2,
       "version_minor": 0
      },
      "text/plain": [
       "HBox(children=(IntProgress(value=0, max=79), HTML(value='')))"
      ]
     },
     "metadata": {},
     "output_type": "display_data"
    },
    {
     "name": "stdout",
     "output_type": "stream",
     "text": [
      "\n",
      "이진헤어 노량진점의 블로그 리뷰 총 개수: 76\n",
      "해당 엘리먼트를 찾지 못했습니다.\n"
     ]
    },
    {
     "data": {
      "application/vnd.jupyter.widget-view+json": {
       "model_id": "a26f9637cc1144439abdeb909a076213",
       "version_major": 2,
       "version_minor": 0
      },
      "text/plain": [
       "HBox(children=(IntProgress(value=0, max=106), HTML(value='')))"
      ]
     },
     "metadata": {},
     "output_type": "display_data"
    },
    {
     "name": "stdout",
     "output_type": "stream",
     "text": [
      "\n",
      "CHOPHAIR 대치점의 블로그 리뷰 총 개수: 100\n",
      "해당 엘리먼트를 찾지 못했습니다.\n",
      "해당 엘리먼트를 찾지 못했습니다.\n"
     ]
    },
    {
     "data": {
      "application/vnd.jupyter.widget-view+json": {
       "model_id": "da5658f0be8f41faaa0e9c816151184b",
       "version_major": 2,
       "version_minor": 0
      },
      "text/plain": [
       "HBox(children=(IntProgress(value=0), HTML(value='')))"
      ]
     },
     "metadata": {},
     "output_type": "display_data"
    },
    {
     "name": "stdout",
     "output_type": "stream",
     "text": [
      "\n",
      "박준뷰티랩 종각역점의 블로그 리뷰 총 개수: 100\n"
     ]
    },
    {
     "data": {
      "application/vnd.jupyter.widget-view+json": {
       "model_id": "d305e70594b144e98db0cc2113364476",
       "version_major": 2,
       "version_minor": 0
      },
      "text/plain": [
       "HBox(children=(IntProgress(value=0, max=101), HTML(value='')))"
      ]
     },
     "metadata": {},
     "output_type": "display_data"
    },
    {
     "name": "stdout",
     "output_type": "stream",
     "text": [
      "\n",
      "리안헤어 중랑역점의 블로그 리뷰 총 개수: 100\n",
      "해당 엘리먼트를 찾지 못했습니다.\n"
     ]
    },
    {
     "data": {
      "application/vnd.jupyter.widget-view+json": {
       "model_id": "3895a327d1f8488abab8a611f97f291d",
       "version_major": 2,
       "version_minor": 0
      },
      "text/plain": [
       "HBox(children=(IntProgress(value=0, max=101), HTML(value='')))"
      ]
     },
     "metadata": {},
     "output_type": "display_data"
    },
    {
     "name": "stdout",
     "output_type": "stream",
     "text": [
      "\n",
      "준오헤어 강남2호점의 블로그 리뷰 총 개수: 101\n",
      "25 ~ 29의 블로그 리뷰 크롤링을 시작합니다.\n"
     ]
    },
    {
     "name": "stderr",
     "output_type": "stream",
     "text": [
      "100%|████████████████████████████████████████████████████████████████████████████████████████████| 5/5 [00:00<?, ?it/s]\n"
     ]
    },
    {
     "name": "stdout",
     "output_type": "stream",
     "text": [
      "11780868 이철헤어커커 명동1호점 크롤링을 진행합니다.\n",
      "명시적 총 블로그 리뷰 수: 242\n",
      "블로그 탭: /hairshop/11780868/review/ugc\n",
      "33874401 더 부띠끄 건대점 크롤링을 진행합니다.\n",
      "명시적 총 블로그 리뷰 수: 637\n",
      "블로그 탭: /hairshop/33874401/review/ugc\n",
      "63165318 준오헤어 방배역점 크롤링을 진행합니다.\n",
      "명시적 총 블로그 리뷰 수: 762\n",
      "블로그 탭: /hairshop/63165318/review/ugc\n",
      "37207278 준오헤어 노원역점 크롤링을 진행합니다.\n",
      "명시적 총 블로그 리뷰 수: 478\n",
      "블로그 탭: /hairshop/37207278/review/ugc\n",
      "1646635576 차홍룸 대치점 크롤링을 진행합니다.\n",
      "명시적 총 블로그 리뷰 수: 361\n",
      "블로그 탭: /hairshop/1646635576/review/ugc\n",
      "해당 엘리먼트를 찾지 못했습니다.\n",
      "해당 엘리먼트를 찾지 못했습니다.\n"
     ]
    },
    {
     "data": {
      "application/vnd.jupyter.widget-view+json": {
       "model_id": "cefc3b86c91d404d9ea98dc3b124a680",
       "version_major": 2,
       "version_minor": 0
      },
      "text/plain": [
       "HBox(children=(IntProgress(value=0, max=125), HTML(value='')))"
      ]
     },
     "metadata": {},
     "output_type": "display_data"
    },
    {
     "name": "stdout",
     "output_type": "stream",
     "text": [
      "\n",
      "이철헤어커커 명동1호점의 블로그 리뷰 총 개수: 100\n",
      "해당 엘리먼트를 찾지 못했습니다.\n",
      "해당 엘리먼트를 찾지 못했습니다.\n"
     ]
    },
    {
     "data": {
      "application/vnd.jupyter.widget-view+json": {
       "model_id": "08bf756943b040e59d80ac25f4792069",
       "version_major": 2,
       "version_minor": 0
      },
      "text/plain": [
       "HBox(children=(IntProgress(value=0), HTML(value='')))"
      ]
     },
     "metadata": {},
     "output_type": "display_data"
    },
    {
     "name": "stdout",
     "output_type": "stream",
     "text": [
      "\n",
      "준오헤어 노원역점의 블로그 리뷰 총 개수: 100\n"
     ]
    },
    {
     "data": {
      "application/vnd.jupyter.widget-view+json": {
       "model_id": "ddc3ecf319184d7eb5deb1ae10f299a5",
       "version_major": 2,
       "version_minor": 0
      },
      "text/plain": [
       "HBox(children=(IntProgress(value=0, max=103), HTML(value='')))"
      ]
     },
     "metadata": {},
     "output_type": "display_data"
    },
    {
     "name": "stdout",
     "output_type": "stream",
     "text": [
      "해당 엘리먼트를 찾지 못했습니다.\n",
      "\n",
      "준오헤어 방배역점의 블로그 리뷰 총 개수: 100\n"
     ]
    },
    {
     "data": {
      "application/vnd.jupyter.widget-view+json": {
       "model_id": "595849a4c1874057908ed557a59f534d",
       "version_major": 2,
       "version_minor": 0
      },
      "text/plain": [
       "HBox(children=(IntProgress(value=0, max=150), HTML(value='')))"
      ]
     },
     "metadata": {},
     "output_type": "display_data"
    },
    {
     "name": "stdout",
     "output_type": "stream",
     "text": [
      "\n",
      "더 부띠끄 건대점의 블로그 리뷰 총 개수: 100\n"
     ]
    },
    {
     "data": {
      "application/vnd.jupyter.widget-view+json": {
       "model_id": "294e85a5e1304640adb2c290b29943dd",
       "version_major": 2,
       "version_minor": 0
      },
      "text/plain": [
       "HBox(children=(IntProgress(value=0), HTML(value='')))"
      ]
     },
     "metadata": {},
     "output_type": "display_data"
    },
    {
     "name": "stdout",
     "output_type": "stream",
     "text": [
      "\n",
      "차홍룸 대치점의 블로그 리뷰 총 개수: 100\n",
      "30 ~ 34의 블로그 리뷰 크롤링을 시작합니다.\n"
     ]
    },
    {
     "name": "stderr",
     "output_type": "stream",
     "text": [
      "100%|████████████████████████████████████████████████████████████████████████████████████████████| 5/5 [00:00<?, ?it/s]\n"
     ]
    },
    {
     "name": "stdout",
     "output_type": "stream",
     "text": [
      "13522443 박승철헤어스투디오 홍대점 크롤링을 진행합니다.\n",
      "명시적 총 블로그 리뷰 수: 497\n",
      "블로그 탭: /hairshop/13522443/review/ugc\n",
      "33050015 제오헤어 이수점 크롤링을 진행합니다.\n",
      "명시적 총 블로그 리뷰 수: 483\n",
      "블로그 탭: /hairshop/33050015/review/ugc\n",
      "1147929912 더 부띠끄 강남점 크롤링을 진행합니다.\n",
      "명시적 총 블로그 리뷰 수: 781\n",
      "블로그 탭: /hairshop/1147929912/review/ugc\n",
      "35608702 그라티아 크롤링을 진행합니다.\n",
      "명시적 총 블로그 리뷰 수: 432\n",
      "블로그 탭: /hairshop/35608702/review/ugc\n",
      "13154187 이철헤어커커 신림점 크롤링을 진행합니다.\n",
      "명시적 총 블로그 리뷰 수: 998\n",
      "블로그 탭: /hairshop/13154187/review/ugc\n",
      "해당 엘리먼트를 찾지 못했습니다.해당 엘리먼트를 찾지 못했습니다.\n",
      "\n"
     ]
    },
    {
     "data": {
      "application/vnd.jupyter.widget-view+json": {
       "model_id": "890d431cbf574a84bdc72af1ab6904be",
       "version_major": 2,
       "version_minor": 0
      },
      "text/plain": [
       "HBox(children=(IntProgress(value=0, max=110), HTML(value='')))"
      ]
     },
     "metadata": {},
     "output_type": "display_data"
    },
    {
     "data": {
      "application/vnd.jupyter.widget-view+json": {
       "model_id": "23b289ba6c1f462880a001b00156b313",
       "version_major": 2,
       "version_minor": 0
      },
      "text/plain": [
       "HBox(children=(IntProgress(value=0, max=101), HTML(value='')))"
      ]
     },
     "metadata": {},
     "output_type": "display_data"
    },
    {
     "name": "stdout",
     "output_type": "stream",
     "text": [
      "\n",
      "박승철헤어스투디오 홍대점의 블로그 리뷰 총 개수: 100\n",
      "\n",
      "제오헤어 이수점의 블로그 리뷰 총 개수: 100\n",
      "해당 엘리먼트를 찾지 못했습니다.\n"
     ]
    },
    {
     "data": {
      "application/vnd.jupyter.widget-view+json": {
       "model_id": "829ba51b912e4882ab0f4732ada8390e",
       "version_major": 2,
       "version_minor": 0
      },
      "text/plain": [
       "HBox(children=(IntProgress(value=0), HTML(value='')))"
      ]
     },
     "metadata": {},
     "output_type": "display_data"
    },
    {
     "name": "stdout",
     "output_type": "stream",
     "text": [
      "\n",
      "그라티아의 블로그 리뷰 총 개수: 100\n",
      "해당 엘리먼트를 찾지 못했습니다.\n",
      "해당 엘리먼트를 찾지 못했습니다.\n"
     ]
    },
    {
     "data": {
      "application/vnd.jupyter.widget-view+json": {
       "model_id": "b8ae2e3171614102ab0893b37eb54cf3",
       "version_major": 2,
       "version_minor": 0
      },
      "text/plain": [
       "HBox(children=(IntProgress(value=0, max=101), HTML(value='')))"
      ]
     },
     "metadata": {},
     "output_type": "display_data"
    },
    {
     "name": "stdout",
     "output_type": "stream",
     "text": [
      "\n",
      "이철헤어커커 신림점의 블로그 리뷰 총 개수: 100\n"
     ]
    },
    {
     "data": {
      "application/vnd.jupyter.widget-view+json": {
       "model_id": "161b23c2404b4b61b7efa40fae7bd85c",
       "version_major": 2,
       "version_minor": 0
      },
      "text/plain": [
       "HBox(children=(IntProgress(value=0, max=143), HTML(value='')))"
      ]
     },
     "metadata": {},
     "output_type": "display_data"
    },
    {
     "name": "stdout",
     "output_type": "stream",
     "text": [
      "\n",
      "더 부띠끄 강남점의 블로그 리뷰 총 개수: 100\n"
     ]
    },
    {
     "ename": "KeyboardInterrupt",
     "evalue": "",
     "output_type": "error",
     "traceback": [
      "\u001b[1;31m---------------------------------------------------------------------------\u001b[0m",
      "\u001b[1;31mKeyboardInterrupt\u001b[0m                         Traceback (most recent call last)",
      "\u001b[1;32m<ipython-input-27-48fde38e18e5>\u001b[0m in \u001b[0;36m<module>\u001b[1;34m\u001b[0m\n\u001b[0;32m     33\u001b[0m         tp.starmap(\n\u001b[0;32m     34\u001b[0m             \u001b[0mm_place_save\u001b[0m\u001b[1;33m\u001b[0m\u001b[1;33m\u001b[0m\u001b[0m\n\u001b[1;32m---> 35\u001b[1;33m             \u001b[1;33m,\u001b[0m \u001b[1;33m[\u001b[0m\u001b[1;33m(\u001b[0m\u001b[0mq\u001b[0m\u001b[1;33m.\u001b[0m\u001b[0mget\u001b[0m\u001b[1;33m(\u001b[0m\u001b[1;33m)\u001b[0m\u001b[1;33m,\u001b[0m \u001b[0mdf_place\u001b[0m\u001b[1;33m[\u001b[0m\u001b[1;34m'store_id_only_num'\u001b[0m\u001b[1;33m]\u001b[0m\u001b[1;33m[\u001b[0m\u001b[0mii\u001b[0m\u001b[1;33m]\u001b[0m\u001b[1;33m)\u001b[0m \u001b[1;32mfor\u001b[0m \u001b[0mii\u001b[0m \u001b[1;32min\u001b[0m \u001b[0mtqdm\u001b[0m\u001b[1;33m(\u001b[0m\u001b[0mrange\u001b[0m\u001b[1;33m(\u001b[0m\u001b[0mstart_no\u001b[0m\u001b[1;33m,\u001b[0m \u001b[0mend_no\u001b[0m\u001b[1;33m)\u001b[0m\u001b[1;33m)\u001b[0m\u001b[1;33m]\u001b[0m\u001b[1;33m\u001b[0m\u001b[1;33m\u001b[0m\u001b[0m\n\u001b[0m\u001b[0;32m     36\u001b[0m         )\n\u001b[0;32m     37\u001b[0m     \u001b[0ma\u001b[0m \u001b[1;33m+=\u001b[0m \u001b[1;36m5\u001b[0m\u001b[1;33m\u001b[0m\u001b[1;33m\u001b[0m\u001b[0m\n",
      "\u001b[1;32m~\\Anaconda3\\lib\\multiprocessing\\pool.py\u001b[0m in \u001b[0;36mstarmap\u001b[1;34m(self, func, iterable, chunksize)\u001b[0m\n\u001b[0;32m    274\u001b[0m         \u001b[0;31m`\u001b[0m\u001b[0mfunc\u001b[0m\u001b[0;31m`\u001b[0m \u001b[1;32mand\u001b[0m \u001b[1;33m(\u001b[0m\u001b[0ma\u001b[0m\u001b[1;33m,\u001b[0m \u001b[0mb\u001b[0m\u001b[1;33m)\u001b[0m \u001b[0mbecomes\u001b[0m \u001b[0mfunc\u001b[0m\u001b[1;33m(\u001b[0m\u001b[0ma\u001b[0m\u001b[1;33m,\u001b[0m \u001b[0mb\u001b[0m\u001b[1;33m)\u001b[0m\u001b[1;33m.\u001b[0m\u001b[1;33m\u001b[0m\u001b[1;33m\u001b[0m\u001b[0m\n\u001b[0;32m    275\u001b[0m         '''\n\u001b[1;32m--> 276\u001b[1;33m         \u001b[1;32mreturn\u001b[0m \u001b[0mself\u001b[0m\u001b[1;33m.\u001b[0m\u001b[0m_map_async\u001b[0m\u001b[1;33m(\u001b[0m\u001b[0mfunc\u001b[0m\u001b[1;33m,\u001b[0m \u001b[0miterable\u001b[0m\u001b[1;33m,\u001b[0m \u001b[0mstarmapstar\u001b[0m\u001b[1;33m,\u001b[0m \u001b[0mchunksize\u001b[0m\u001b[1;33m)\u001b[0m\u001b[1;33m.\u001b[0m\u001b[0mget\u001b[0m\u001b[1;33m(\u001b[0m\u001b[1;33m)\u001b[0m\u001b[1;33m\u001b[0m\u001b[1;33m\u001b[0m\u001b[0m\n\u001b[0m\u001b[0;32m    277\u001b[0m \u001b[1;33m\u001b[0m\u001b[0m\n\u001b[0;32m    278\u001b[0m     def starmap_async(self, func, iterable, chunksize=None, callback=None,\n",
      "\u001b[1;32m~\\Anaconda3\\lib\\multiprocessing\\pool.py\u001b[0m in \u001b[0;36mget\u001b[1;34m(self, timeout)\u001b[0m\n\u001b[0;32m    649\u001b[0m \u001b[1;33m\u001b[0m\u001b[0m\n\u001b[0;32m    650\u001b[0m     \u001b[1;32mdef\u001b[0m \u001b[0mget\u001b[0m\u001b[1;33m(\u001b[0m\u001b[0mself\u001b[0m\u001b[1;33m,\u001b[0m \u001b[0mtimeout\u001b[0m\u001b[1;33m=\u001b[0m\u001b[1;32mNone\u001b[0m\u001b[1;33m)\u001b[0m\u001b[1;33m:\u001b[0m\u001b[1;33m\u001b[0m\u001b[1;33m\u001b[0m\u001b[0m\n\u001b[1;32m--> 651\u001b[1;33m         \u001b[0mself\u001b[0m\u001b[1;33m.\u001b[0m\u001b[0mwait\u001b[0m\u001b[1;33m(\u001b[0m\u001b[0mtimeout\u001b[0m\u001b[1;33m)\u001b[0m\u001b[1;33m\u001b[0m\u001b[1;33m\u001b[0m\u001b[0m\n\u001b[0m\u001b[0;32m    652\u001b[0m         \u001b[1;32mif\u001b[0m \u001b[1;32mnot\u001b[0m \u001b[0mself\u001b[0m\u001b[1;33m.\u001b[0m\u001b[0mready\u001b[0m\u001b[1;33m(\u001b[0m\u001b[1;33m)\u001b[0m\u001b[1;33m:\u001b[0m\u001b[1;33m\u001b[0m\u001b[1;33m\u001b[0m\u001b[0m\n\u001b[0;32m    653\u001b[0m             \u001b[1;32mraise\u001b[0m \u001b[0mTimeoutError\u001b[0m\u001b[1;33m\u001b[0m\u001b[1;33m\u001b[0m\u001b[0m\n",
      "\u001b[1;32m~\\Anaconda3\\lib\\multiprocessing\\pool.py\u001b[0m in \u001b[0;36mwait\u001b[1;34m(self, timeout)\u001b[0m\n\u001b[0;32m    646\u001b[0m \u001b[1;33m\u001b[0m\u001b[0m\n\u001b[0;32m    647\u001b[0m     \u001b[1;32mdef\u001b[0m \u001b[0mwait\u001b[0m\u001b[1;33m(\u001b[0m\u001b[0mself\u001b[0m\u001b[1;33m,\u001b[0m \u001b[0mtimeout\u001b[0m\u001b[1;33m=\u001b[0m\u001b[1;32mNone\u001b[0m\u001b[1;33m)\u001b[0m\u001b[1;33m:\u001b[0m\u001b[1;33m\u001b[0m\u001b[1;33m\u001b[0m\u001b[0m\n\u001b[1;32m--> 648\u001b[1;33m         \u001b[0mself\u001b[0m\u001b[1;33m.\u001b[0m\u001b[0m_event\u001b[0m\u001b[1;33m.\u001b[0m\u001b[0mwait\u001b[0m\u001b[1;33m(\u001b[0m\u001b[0mtimeout\u001b[0m\u001b[1;33m)\u001b[0m\u001b[1;33m\u001b[0m\u001b[1;33m\u001b[0m\u001b[0m\n\u001b[0m\u001b[0;32m    649\u001b[0m \u001b[1;33m\u001b[0m\u001b[0m\n\u001b[0;32m    650\u001b[0m     \u001b[1;32mdef\u001b[0m \u001b[0mget\u001b[0m\u001b[1;33m(\u001b[0m\u001b[0mself\u001b[0m\u001b[1;33m,\u001b[0m \u001b[0mtimeout\u001b[0m\u001b[1;33m=\u001b[0m\u001b[1;32mNone\u001b[0m\u001b[1;33m)\u001b[0m\u001b[1;33m:\u001b[0m\u001b[1;33m\u001b[0m\u001b[1;33m\u001b[0m\u001b[0m\n",
      "\u001b[1;32m~\\Anaconda3\\lib\\threading.py\u001b[0m in \u001b[0;36mwait\u001b[1;34m(self, timeout)\u001b[0m\n\u001b[0;32m    550\u001b[0m             \u001b[0msignaled\u001b[0m \u001b[1;33m=\u001b[0m \u001b[0mself\u001b[0m\u001b[1;33m.\u001b[0m\u001b[0m_flag\u001b[0m\u001b[1;33m\u001b[0m\u001b[1;33m\u001b[0m\u001b[0m\n\u001b[0;32m    551\u001b[0m             \u001b[1;32mif\u001b[0m \u001b[1;32mnot\u001b[0m \u001b[0msignaled\u001b[0m\u001b[1;33m:\u001b[0m\u001b[1;33m\u001b[0m\u001b[1;33m\u001b[0m\u001b[0m\n\u001b[1;32m--> 552\u001b[1;33m                 \u001b[0msignaled\u001b[0m \u001b[1;33m=\u001b[0m \u001b[0mself\u001b[0m\u001b[1;33m.\u001b[0m\u001b[0m_cond\u001b[0m\u001b[1;33m.\u001b[0m\u001b[0mwait\u001b[0m\u001b[1;33m(\u001b[0m\u001b[0mtimeout\u001b[0m\u001b[1;33m)\u001b[0m\u001b[1;33m\u001b[0m\u001b[1;33m\u001b[0m\u001b[0m\n\u001b[0m\u001b[0;32m    553\u001b[0m             \u001b[1;32mreturn\u001b[0m \u001b[0msignaled\u001b[0m\u001b[1;33m\u001b[0m\u001b[1;33m\u001b[0m\u001b[0m\n\u001b[0;32m    554\u001b[0m \u001b[1;33m\u001b[0m\u001b[0m\n",
      "\u001b[1;32m~\\Anaconda3\\lib\\threading.py\u001b[0m in \u001b[0;36mwait\u001b[1;34m(self, timeout)\u001b[0m\n\u001b[0;32m    294\u001b[0m         \u001b[1;32mtry\u001b[0m\u001b[1;33m:\u001b[0m    \u001b[1;31m# restore state no matter what (e.g., KeyboardInterrupt)\u001b[0m\u001b[1;33m\u001b[0m\u001b[1;33m\u001b[0m\u001b[0m\n\u001b[0;32m    295\u001b[0m             \u001b[1;32mif\u001b[0m \u001b[0mtimeout\u001b[0m \u001b[1;32mis\u001b[0m \u001b[1;32mNone\u001b[0m\u001b[1;33m:\u001b[0m\u001b[1;33m\u001b[0m\u001b[1;33m\u001b[0m\u001b[0m\n\u001b[1;32m--> 296\u001b[1;33m                 \u001b[0mwaiter\u001b[0m\u001b[1;33m.\u001b[0m\u001b[0macquire\u001b[0m\u001b[1;33m(\u001b[0m\u001b[1;33m)\u001b[0m\u001b[1;33m\u001b[0m\u001b[1;33m\u001b[0m\u001b[0m\n\u001b[0m\u001b[0;32m    297\u001b[0m                 \u001b[0mgotit\u001b[0m \u001b[1;33m=\u001b[0m \u001b[1;32mTrue\u001b[0m\u001b[1;33m\u001b[0m\u001b[1;33m\u001b[0m\u001b[0m\n\u001b[0;32m    298\u001b[0m             \u001b[1;32melse\u001b[0m\u001b[1;33m:\u001b[0m\u001b[1;33m\u001b[0m\u001b[1;33m\u001b[0m\u001b[0m\n",
      "\u001b[1;31mKeyboardInterrupt\u001b[0m: "
     ]
    }
   ],
   "source": [
    "# 함수의 스레딩 적용\n",
    "\n",
    "# =========================================================================\n",
    "# 1인당 대략 545개 링크\n",
    "# A: start = 0, end = 544 → a: 0 \n",
    "# df_place['blog'][:545].sum() = 5117\n",
    "\n",
    "# B: start = 545, end = 1089 → a: 545 \n",
    "# df_place['blog'][545:1090].sum() = 3773\n",
    "\n",
    "# C: start = 1090, end = 1634 → a: 1090\n",
    "# D: start = 1635, end = 2179 → a: 1635\n",
    "# E: start = 2180, end = 2728 → a: 2180\n",
    "end = 1089\n",
    "# =========================================================================\n",
    "\n",
    "# 2020-05-11 (월) 14:46 크롤링 시작\n",
    "# 테스트로 2번만 돌려본 것이라서 range(0, 109)로 바꿔주어야 한다.\n",
    "dlist = list(range(0, 109))\n",
    "a = 545\n",
    "for i in dlist:\n",
    "    \n",
    "    q = Queue(maxsize=5)\n",
    "    for _ in range(q.maxsize):\n",
    "        driver = Chrome('./chromedriver.exe', options=options)\n",
    "        q.put(driver)\n",
    "    \n",
    "    start_no = a\n",
    "    end_no = a+5\n",
    "    print(str(start_no) + ' ~ ' + str((end_no) - 1) + '의 블로그 리뷰 크롤링을 시작합니다.')\n",
    "    with ThreadPool(5) as tp:\n",
    "        # 스레드에 입력할 매개변수가 2개 이상일 경우 starmap을 사용한다.\n",
    "        tp.starmap(\n",
    "            m_place_save\n",
    "            , [(q.get(), df_place['store_id_only_num'][ii]) for ii in tqdm(range(start_no, end_no))]\n",
    "        )\n",
    "    a += 5\n",
    "    time.sleep(3.5)\n",
    "    if a >= (end - 1):\n",
    "        break"
   ]
  },
  {
   "cell_type": "code",
   "execution_count": null,
   "metadata": {},
   "outputs": [],
   "source": []
  }
 ],
 "metadata": {
  "kernelspec": {
   "display_name": "Python 3",
   "language": "python",
   "name": "python3"
  },
  "language_info": {
   "codemirror_mode": {
    "name": "ipython",
    "version": 3
   },
   "file_extension": ".py",
   "mimetype": "text/x-python",
   "name": "python",
   "nbconvert_exporter": "python",
   "pygments_lexer": "ipython3",
   "version": "3.7.4"
  }
 },
 "nbformat": 4,
 "nbformat_minor": 2
}
