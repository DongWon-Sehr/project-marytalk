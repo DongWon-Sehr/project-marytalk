{
 "cells": [
  {
   "cell_type": "code",
   "execution_count": 7,
   "metadata": {},
   "outputs": [],
   "source": [
    "import cv2\n",
    "import numpy as np\n",
    "import os\n",
    "from sklearn.model_selection import train_test_split"
   ]
  },
  {
   "cell_type": "code",
   "execution_count": 42,
   "metadata": {},
   "outputs": [],
   "source": [
    "from keras.utils import np_utils"
   ]
  },
  {
   "cell_type": "code",
   "execution_count": 8,
   "metadata": {},
   "outputs": [],
   "source": [
    "categories = os.listdir('images')"
   ]
  },
  {
   "cell_type": "code",
   "execution_count": 12,
   "metadata": {},
   "outputs": [],
   "source": [
    "img_height, img_width = 225, 225\n",
    "num_class = len(categories)"
   ]
  },
  {
   "cell_type": "code",
   "execution_count": 58,
   "metadata": {},
   "outputs": [],
   "source": [
    "def make_dataset(root_dir:str, categories:list):\n",
    "    images = []\n",
    "    labels = []\n",
    "    for idx, cate in enumerate(categories):\n",
    "        #라벨 one-hot encoding\n",
    "        label = [0 for i in range(len(categories))]\n",
    "        label[idx] = 1\n",
    "        \n",
    "        image_path = root_dir\n",
    "        file_path = image_path+'/'+cate\n",
    "        file = next(os.walk(file_path))[2]\n",
    "        \n",
    "        for f in file :\n",
    "            path = file_path+'/'+f\n",
    "            img = cv2.imread(path, cv2.IMREAD_GRAYSCALE) #흑백으로 읽어오기\n",
    "            images.append(img.astype('float')/255) #0~1사이 값으로 정규화\n",
    "            labels.append(label)\n",
    "    return np.asarray(images), np.asarray(labels)"
   ]
  },
  {
   "cell_type": "code",
   "execution_count": 59,
   "metadata": {},
   "outputs": [],
   "source": [
    "images, labels = make_dataset('images', categories)"
   ]
  },
  {
   "cell_type": "code",
   "execution_count": 60,
   "metadata": {},
   "outputs": [],
   "source": [
    "np.savez('dataset.npz', x=images, y=labels)"
   ]
  },
  {
   "cell_type": "code",
   "execution_count": 36,
   "metadata": {},
   "outputs": [],
   "source": [
    "x =np.load('dataset.npz')"
   ]
  }
 ],
 "metadata": {
  "kernelspec": {
   "display_name": "Python 3",
   "language": "python",
   "name": "python3"
  },
  "language_info": {
   "codemirror_mode": {
    "name": "ipython",
    "version": 3
   },
   "file_extension": ".py",
   "mimetype": "text/x-python",
   "name": "python",
   "nbconvert_exporter": "python",
   "pygments_lexer": "ipython3",
   "version": "3.7.6"
  }
 },
 "nbformat": 4,
 "nbformat_minor": 4
}
