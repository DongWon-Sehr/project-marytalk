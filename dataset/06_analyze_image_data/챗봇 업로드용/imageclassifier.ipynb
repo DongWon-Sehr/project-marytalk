{
 "cells": [
  {
   "cell_type": "code",
   "execution_count": 126,
   "metadata": {},
   "outputs": [],
   "source": [
    "from pspnet import PSPNet\n",
    "from tensorflow.keras.models import load_model\n",
    "import torchvision.transforms as std_trnsf\n",
    "import cv2\n",
    "import numpy as np\n",
    "import torch\n",
    "import tensorflow as tf"
   ]
  },
  {
   "cell_type": "code",
   "execution_count": 130,
   "metadata": {},
   "outputs": [],
   "source": [
    "#segmentation+model 환경 가져오기\n",
    "net = PSPNet(num_class=1, base_network='resnet101').to('cpu')\n",
    "state = torch.load('D:/data-anal/marytalk/model/pspnet_resnet101_sgd_lr_0.002_epoch_100_test_iou_0.918.pth',map_location={'cuda:0': 'cpu'})\n",
    "image_transforms = std_trnsf.Compose([\n",
    "std_trnsf.ToTensor(),\n",
    "std_trnsf.Normalize([0.485, 0.456, 0.406], [0.229, 0.224, 0.225])\n",
    "])\n",
    "model = load_model('model/segmentation1.hd5')"
   ]
  },
  {
   "cell_type": "code",
   "execution_count": 129,
   "metadata": {},
   "outputs": [],
   "source": [
    "def imageClassifier(imgpath :str):\n",
    "    img = cv2.imread(imgpath)\n",
    "    if img is None :\n",
    "        #print('사진이 이미지 아님')\n",
    "        return\n",
    "    \n",
    "    data = image_transforms(img)\n",
    "    data = torch.unsqueeze(data, dim=0)\n",
    "    net.load_state_dict(state['weight'])\n",
    "    net.eval()\n",
    "    logit = net(data)\n",
    "    pred = torch.sigmoid(logit.cpu())[0][0].data.numpy()\n",
    "    mask = pred >=0.5\n",
    "    img[mask!=True]=255\n",
    "    \n",
    "    #img classfication\n",
    "    categories = ['baby_perm', 'bob_cut', 'buzz_cut', 'c_curl_perm', 'dandy_cut', 'dreadlocks', 'hippie_perm', 'hush_cut', 'layered_cut', 'mohican', 'part_perm', 'pomade', 'wave_perm', 'wolf_cut']\n",
    "    img = cv2.resize(img, dsize=(224,224))\n",
    "    data= np.expand_dims(img,axis=0)\n",
    "    data =data.astype('float32')\n",
    "    with tf.device('/CPU:0'):\n",
    "        preds = model.predict(data)\n",
    "        if len(preds>=0.7)==0 :\n",
    "            return ''\n",
    "        else :\n",
    "            a = categories[np.argmax(preds)]\n",
    "            b = categories[np.argsort(preds[0])[-2]]\n",
    "            c = categories[np.argsort(preds[0])[-3]]\n",
    "            return a, b, c"
   ]
  },
  {
   "cell_type": "code",
   "execution_count": 105,
   "metadata": {},
   "outputs": [
    {
     "name": "stdout",
     "output_type": "stream",
     "text": [
      "pomade dandy_cut dreadlocks\n"
     ]
    }
   ],
   "source": []
  },
  {
   "cell_type": "code",
   "execution_count": null,
   "metadata": {},
   "outputs": [],
   "source": []
  }
 ],
 "metadata": {
  "kernelspec": {
   "display_name": "gpu",
   "language": "python",
   "name": "gpu"
  },
  "language_info": {
   "codemirror_mode": {
    "name": "ipython",
    "version": 3
   },
   "file_extension": ".py",
   "mimetype": "text/x-python",
   "name": "python",
   "nbconvert_exporter": "python",
   "pygments_lexer": "ipython3",
   "version": "3.7.7"
  }
 },
 "nbformat": 4,
 "nbformat_minor": 4
}
