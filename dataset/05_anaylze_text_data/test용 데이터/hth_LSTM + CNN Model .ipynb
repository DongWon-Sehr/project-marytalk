{
 "cells": [
  {
   "cell_type": "code",
   "execution_count": 1,
   "metadata": {},
   "outputs": [],
   "source": [
    "from pandas import Series, DataFrame\n",
    "import pandas as pd\n",
    "import numpy as np\n",
    "import re\n",
    "import time\n",
    "import tensorflow as tf\n",
    "\n",
    "import platform\n",
    "path = \"c:/Windows/Fonts/malgun.ttf\" \n",
    "from matplotlib import font_manager, rc \n",
    "if platform.system() == 'Darwin':\n",
    "    rc('font', family='AppleGothic') \n",
    "elif platform.system() == 'Windows':\n",
    "    font_name = font_manager.FontProperties(fname=path).get_name()\n",
    "    rc('font', family=font_name)\n",
    "else:\n",
    "    print('Unknown system... sorry~~~~')"
   ]
  },
  {
   "cell_type": "code",
   "execution_count": 2,
   "metadata": {
    "scrolled": true
   },
   "outputs": [
    {
     "data": {
      "text/html": [
       "<div>\n",
       "<style scoped>\n",
       "    .dataframe tbody tr th:only-of-type {\n",
       "        vertical-align: middle;\n",
       "    }\n",
       "\n",
       "    .dataframe tbody tr th {\n",
       "        vertical-align: top;\n",
       "    }\n",
       "\n",
       "    .dataframe thead th {\n",
       "        text-align: right;\n",
       "    }\n",
       "</style>\n",
       "<table border=\"1\" class=\"dataframe\">\n",
       "  <thead>\n",
       "    <tr style=\"text-align: right;\">\n",
       "      <th></th>\n",
       "      <th>question</th>\n",
       "      <th>mecab</th>\n",
       "      <th>tag_intent</th>\n",
       "      <th>tag_adjs</th>\n",
       "      <th>all_tags</th>\n",
       "    </tr>\n",
       "  </thead>\n",
       "  <tbody>\n",
       "    <tr>\n",
       "      <th>0</th>\n",
       "      <td>남가좌2동 엘본헤어하우스 비용 알려주실래요</td>\n",
       "      <td>남가좌동 엘 본 헤어 하우스 비용 알려 주</td>\n",
       "      <td>price</td>\n",
       "      <td>[]</td>\n",
       "      <td>[price]</td>\n",
       "    </tr>\n",
       "    <tr>\n",
       "      <th>1</th>\n",
       "      <td>맷블랙헤어성신여대점 장소 아냐 모르냐</td>\n",
       "      <td>맷 블랙 헤어 성 신여 대점 장소 아냐 모르 냐</td>\n",
       "      <td>location</td>\n",
       "      <td>[]</td>\n",
       "      <td>[location]</td>\n",
       "    </tr>\n",
       "    <tr>\n",
       "      <th>2</th>\n",
       "      <td>진짜 최고의 남심 저격할만한 위생적인 투블럭괜찮은 곳 어디있죠</td>\n",
       "      <td>진짜 최고 남심 저격 할 만 위생 적 투 블럭 괜찮 곳 있 죠</td>\n",
       "      <td>recommend</td>\n",
       "      <td>[satisfaction, satisfaction, sanitation]</td>\n",
       "      <td>[recommend, satisfaction, satisfaction, sanita...</td>\n",
       "    </tr>\n",
       "    <tr>\n",
       "      <th>3</th>\n",
       "      <td>명일역 9hair 하는 가격 궁금하네요</td>\n",
       "      <td>명일역 가격 궁금</td>\n",
       "      <td>price</td>\n",
       "      <td>[]</td>\n",
       "      <td>[price]</td>\n",
       "    </tr>\n",
       "    <tr>\n",
       "      <th>4</th>\n",
       "      <td>균형잡힌 럭셔리한 부해보이지 않는 알려주고 싶은 데 여쭤볼려고</td>\n",
       "      <td>균형 잡힌 럭셔리 부 보이 않 알려 주 싶 데 여쭤 볼려고</td>\n",
       "      <td>recommend</td>\n",
       "      <td>[satisfaction, mood, satisfaction]</td>\n",
       "      <td>[recommend, satisfaction, mood, satisfaction]</td>\n",
       "    </tr>\n",
       "  </tbody>\n",
       "</table>\n",
       "</div>"
      ],
      "text/plain": [
       "                             question                               mecab  \\\n",
       "0             남가좌2동 엘본헤어하우스 비용 알려주실래요             남가좌동 엘 본 헤어 하우스 비용 알려 주   \n",
       "1                맷블랙헤어성신여대점 장소 아냐 모르냐          맷 블랙 헤어 성 신여 대점 장소 아냐 모르 냐   \n",
       "2  진짜 최고의 남심 저격할만한 위생적인 투블럭괜찮은 곳 어디있죠  진짜 최고 남심 저격 할 만 위생 적 투 블럭 괜찮 곳 있 죠   \n",
       "3               명일역 9hair 하는 가격 궁금하네요                           명일역 가격 궁금   \n",
       "4  균형잡힌 럭셔리한 부해보이지 않는 알려주고 싶은 데 여쭤볼려고    균형 잡힌 럭셔리 부 보이 않 알려 주 싶 데 여쭤 볼려고   \n",
       "\n",
       "  tag_intent                                  tag_adjs  \\\n",
       "0      price                                        []   \n",
       "1   location                                        []   \n",
       "2  recommend  [satisfaction, satisfaction, sanitation]   \n",
       "3      price                                        []   \n",
       "4  recommend        [satisfaction, mood, satisfaction]   \n",
       "\n",
       "                                            all_tags  \n",
       "0                                            [price]  \n",
       "1                                         [location]  \n",
       "2  [recommend, satisfaction, satisfaction, sanita...  \n",
       "3                                            [price]  \n",
       "4      [recommend, satisfaction, mood, satisfaction]  "
      ]
     },
     "execution_count": 2,
     "metadata": {},
     "output_type": "execute_result"
    }
   ],
   "source": [
    "import pickle\n",
    "with open('./output_data/QuestionsForLabelClassifier.pickle', 'rb') as f:\n",
    "    df_all_question = pickle.load(f)\n",
    "df_all_question.head()"
   ]
  },
  {
   "cell_type": "code",
   "execution_count": 3,
   "metadata": {},
   "outputs": [
    {
     "data": {
      "text/plain": [
       "0"
      ]
     },
     "execution_count": 3,
     "metadata": {},
     "output_type": "execute_result"
    }
   ],
   "source": [
    "df_all_question['mecab'].isnull().sum()"
   ]
  },
  {
   "cell_type": "code",
   "execution_count": 4,
   "metadata": {},
   "outputs": [
    {
     "data": {
      "text/plain": [
       "0                     남가좌동,엘,본,헤어,하우스,비용,알려,주\n",
       "1                  맷,블랙,헤어,성,신여,대점,장소,아냐,모르,냐\n",
       "2          진짜,최고,남심,저격,할,만,위생,적,투,블럭,괜찮,곳,있,죠\n",
       "3                                   명일역,가격,궁금\n",
       "4            균형,잡힌,럭셔리,부,보이,않,알려,주,싶,데,여쭤,볼려고\n",
       "                          ...                \n",
       "2125199                클레오파트라,미용실,요금,가르쳐,주,세요\n",
       "2125200           뤠잇한,멀,않,스핀,스,왈,로펌,괜찮,미용실,어데\n",
       "2125201           자연광,빛나,스핀,스,왈,로펌,추천,할,미용실,있\n",
       "2125202        헤어,라인,잘,잡,주,포근,추천,가능,미용실,어데,인지\n",
       "2125203         체인점,많,언밸런스,컷,추천,할,만,미용실,있,겠,죠\n",
       "Name: mecab, Length: 2125204, dtype: object"
      ]
     },
     "execution_count": 4,
     "metadata": {},
     "output_type": "execute_result"
    }
   ],
   "source": [
    "mecab_sep = df_all_question.mecab.str.replace(' ',',')\n",
    "mecab_sep"
   ]
  },
  {
   "cell_type": "code",
   "execution_count": 5,
   "metadata": {},
   "outputs": [
    {
     "data": {
      "text/plain": [
       "0                           [남가좌동, 엘, 본, 헤어, 하우스, 비용, 알려, 주]\n",
       "1                      [맷, 블랙, 헤어, 성, 신여, 대점, 장소, 아냐, 모르, 냐]\n",
       "2          [진짜, 최고, 남심, 저격, 할, 만, 위생, 적, 투, 블럭, 괜찮, 곳, 있, 죠]\n",
       "3                                              [명일역, 가격, 궁금]\n",
       "4              [균형, 잡힌, 럭셔리, 부, 보이, 않, 알려, 주, 싶, 데, 여쭤, 볼려고]\n",
       "                                 ...                        \n",
       "2125199                        [클레오파트라, 미용실, 요금, 가르쳐, 주, 세요]\n",
       "2125200               [뤠잇한, 멀, 않, 스핀, 스, 왈, 로펌, 괜찮, 미용실, 어데]\n",
       "2125201               [자연광, 빛나, 스핀, 스, 왈, 로펌, 추천, 할, 미용실, 있]\n",
       "2125202           [헤어, 라인, 잘, 잡, 주, 포근, 추천, 가능, 미용실, 어데, 인지]\n",
       "2125203            [체인점, 많, 언밸런스, 컷, 추천, 할, 만, 미용실, 있, 겠, 죠]\n",
       "Name: mecab, Length: 2125204, dtype: object"
      ]
     },
     "execution_count": 5,
     "metadata": {},
     "output_type": "execute_result"
    }
   ],
   "source": [
    "mecab_sep=mecab_sep.str.split(',')\n",
    "mecab_sep"
   ]
  },
  {
   "cell_type": "code",
   "execution_count": 6,
   "metadata": {
    "scrolled": true
   },
   "outputs": [],
   "source": [
    "df_all_question['mecab_sep'] = mecab_sep"
   ]
  },
  {
   "cell_type": "code",
   "execution_count": 7,
   "metadata": {
    "scrolled": true
   },
   "outputs": [
    {
     "data": {
      "text/html": [
       "<div>\n",
       "<style scoped>\n",
       "    .dataframe tbody tr th:only-of-type {\n",
       "        vertical-align: middle;\n",
       "    }\n",
       "\n",
       "    .dataframe tbody tr th {\n",
       "        vertical-align: top;\n",
       "    }\n",
       "\n",
       "    .dataframe thead th {\n",
       "        text-align: right;\n",
       "    }\n",
       "</style>\n",
       "<table border=\"1\" class=\"dataframe\">\n",
       "  <thead>\n",
       "    <tr style=\"text-align: right;\">\n",
       "      <th></th>\n",
       "      <th>question</th>\n",
       "      <th>mecab</th>\n",
       "      <th>tag_intent</th>\n",
       "      <th>tag_adjs</th>\n",
       "      <th>all_tags</th>\n",
       "      <th>mecab_sep</th>\n",
       "    </tr>\n",
       "  </thead>\n",
       "  <tbody>\n",
       "    <tr>\n",
       "      <th>0</th>\n",
       "      <td>남가좌2동 엘본헤어하우스 비용 알려주실래요</td>\n",
       "      <td>남가좌동 엘 본 헤어 하우스 비용 알려 주</td>\n",
       "      <td>price</td>\n",
       "      <td>[]</td>\n",
       "      <td>[price]</td>\n",
       "      <td>[남가좌동, 엘, 본, 헤어, 하우스, 비용, 알려, 주]</td>\n",
       "    </tr>\n",
       "    <tr>\n",
       "      <th>1</th>\n",
       "      <td>맷블랙헤어성신여대점 장소 아냐 모르냐</td>\n",
       "      <td>맷 블랙 헤어 성 신여 대점 장소 아냐 모르 냐</td>\n",
       "      <td>location</td>\n",
       "      <td>[]</td>\n",
       "      <td>[location]</td>\n",
       "      <td>[맷, 블랙, 헤어, 성, 신여, 대점, 장소, 아냐, 모르, 냐]</td>\n",
       "    </tr>\n",
       "    <tr>\n",
       "      <th>2</th>\n",
       "      <td>진짜 최고의 남심 저격할만한 위생적인 투블럭괜찮은 곳 어디있죠</td>\n",
       "      <td>진짜 최고 남심 저격 할 만 위생 적 투 블럭 괜찮 곳 있 죠</td>\n",
       "      <td>recommend</td>\n",
       "      <td>[satisfaction, satisfaction, sanitation]</td>\n",
       "      <td>[recommend, satisfaction, satisfaction, sanita...</td>\n",
       "      <td>[진짜, 최고, 남심, 저격, 할, 만, 위생, 적, 투, 블럭, 괜찮, 곳, 있, 죠]</td>\n",
       "    </tr>\n",
       "    <tr>\n",
       "      <th>3</th>\n",
       "      <td>명일역 9hair 하는 가격 궁금하네요</td>\n",
       "      <td>명일역 가격 궁금</td>\n",
       "      <td>price</td>\n",
       "      <td>[]</td>\n",
       "      <td>[price]</td>\n",
       "      <td>[명일역, 가격, 궁금]</td>\n",
       "    </tr>\n",
       "    <tr>\n",
       "      <th>4</th>\n",
       "      <td>균형잡힌 럭셔리한 부해보이지 않는 알려주고 싶은 데 여쭤볼려고</td>\n",
       "      <td>균형 잡힌 럭셔리 부 보이 않 알려 주 싶 데 여쭤 볼려고</td>\n",
       "      <td>recommend</td>\n",
       "      <td>[satisfaction, mood, satisfaction]</td>\n",
       "      <td>[recommend, satisfaction, mood, satisfaction]</td>\n",
       "      <td>[균형, 잡힌, 럭셔리, 부, 보이, 않, 알려, 주, 싶, 데, 여쭤, 볼려고]</td>\n",
       "    </tr>\n",
       "    <tr>\n",
       "      <th>...</th>\n",
       "      <td>...</td>\n",
       "      <td>...</td>\n",
       "      <td>...</td>\n",
       "      <td>...</td>\n",
       "      <td>...</td>\n",
       "      <td>...</td>\n",
       "    </tr>\n",
       "    <tr>\n",
       "      <th>2125199</th>\n",
       "      <td>클레오파트라미용실 요금 가르쳐주세요</td>\n",
       "      <td>클레오파트라 미용실 요금 가르쳐 주 세요</td>\n",
       "      <td>price</td>\n",
       "      <td>[]</td>\n",
       "      <td>[price]</td>\n",
       "      <td>[클레오파트라, 미용실, 요금, 가르쳐, 주, 세요]</td>\n",
       "    </tr>\n",
       "    <tr>\n",
       "      <th>2125200</th>\n",
       "      <td>그뤠잇한 멀지 않은 스핀스왈로펌괜찮은 미용실 어데고</td>\n",
       "      <td>뤠잇한 멀 않 스핀 스 왈 로펌 괜찮 미용실 어데</td>\n",
       "      <td>recommend</td>\n",
       "      <td>[satisfaction, location]</td>\n",
       "      <td>[recommend, satisfaction, location]</td>\n",
       "      <td>[뤠잇한, 멀, 않, 스핀, 스, 왈, 로펌, 괜찮, 미용실, 어데]</td>\n",
       "    </tr>\n",
       "    <tr>\n",
       "      <th>2125201</th>\n",
       "      <td>자연광의 빛나는 스핀스왈로펌추천할 미용실 있는지</td>\n",
       "      <td>자연광 빛나 스핀 스 왈 로펌 추천 할 미용실 있</td>\n",
       "      <td>recommend</td>\n",
       "      <td>[mood, sanitation]</td>\n",
       "      <td>[recommend, mood, sanitation]</td>\n",
       "      <td>[자연광, 빛나, 스핀, 스, 왈, 로펌, 추천, 할, 미용실, 있]</td>\n",
       "    </tr>\n",
       "    <tr>\n",
       "      <th>2125202</th>\n",
       "      <td>헤어라인 잘 잡아주는 포근한 추천가능한 미용실 어데인지아나</td>\n",
       "      <td>헤어 라인 잘 잡 주 포근 추천 가능 미용실 어데 인지</td>\n",
       "      <td>recommend</td>\n",
       "      <td>[satisfaction, mood]</td>\n",
       "      <td>[recommend, satisfaction, mood]</td>\n",
       "      <td>[헤어, 라인, 잘, 잡, 주, 포근, 추천, 가능, 미용실, 어데, 인지]</td>\n",
       "    </tr>\n",
       "    <tr>\n",
       "      <th>2125203</th>\n",
       "      <td>체인점이 많은 언밸런스컷추천할만한 미용실 있겠죠</td>\n",
       "      <td>체인점 많 언밸런스 컷 추천 할 만 미용실 있 겠 죠</td>\n",
       "      <td>recommend</td>\n",
       "      <td>[satisfaction]</td>\n",
       "      <td>[recommend, satisfaction]</td>\n",
       "      <td>[체인점, 많, 언밸런스, 컷, 추천, 할, 만, 미용실, 있, 겠, 죠]</td>\n",
       "    </tr>\n",
       "  </tbody>\n",
       "</table>\n",
       "<p>2125204 rows × 6 columns</p>\n",
       "</div>"
      ],
      "text/plain": [
       "                                   question  \\\n",
       "0                   남가좌2동 엘본헤어하우스 비용 알려주실래요   \n",
       "1                      맷블랙헤어성신여대점 장소 아냐 모르냐   \n",
       "2        진짜 최고의 남심 저격할만한 위생적인 투블럭괜찮은 곳 어디있죠   \n",
       "3                     명일역 9hair 하는 가격 궁금하네요   \n",
       "4        균형잡힌 럭셔리한 부해보이지 않는 알려주고 싶은 데 여쭤볼려고   \n",
       "...                                     ...   \n",
       "2125199                 클레오파트라미용실 요금 가르쳐주세요   \n",
       "2125200        그뤠잇한 멀지 않은 스핀스왈로펌괜찮은 미용실 어데고   \n",
       "2125201          자연광의 빛나는 스핀스왈로펌추천할 미용실 있는지   \n",
       "2125202    헤어라인 잘 잡아주는 포근한 추천가능한 미용실 어데인지아나   \n",
       "2125203          체인점이 많은 언밸런스컷추천할만한 미용실 있겠죠   \n",
       "\n",
       "                                      mecab tag_intent  \\\n",
       "0                   남가좌동 엘 본 헤어 하우스 비용 알려 주      price   \n",
       "1                맷 블랙 헤어 성 신여 대점 장소 아냐 모르 냐   location   \n",
       "2        진짜 최고 남심 저격 할 만 위생 적 투 블럭 괜찮 곳 있 죠  recommend   \n",
       "3                                 명일역 가격 궁금      price   \n",
       "4          균형 잡힌 럭셔리 부 보이 않 알려 주 싶 데 여쭤 볼려고  recommend   \n",
       "...                                     ...        ...   \n",
       "2125199              클레오파트라 미용실 요금 가르쳐 주 세요      price   \n",
       "2125200         뤠잇한 멀 않 스핀 스 왈 로펌 괜찮 미용실 어데  recommend   \n",
       "2125201         자연광 빛나 스핀 스 왈 로펌 추천 할 미용실 있  recommend   \n",
       "2125202      헤어 라인 잘 잡 주 포근 추천 가능 미용실 어데 인지  recommend   \n",
       "2125203       체인점 많 언밸런스 컷 추천 할 만 미용실 있 겠 죠  recommend   \n",
       "\n",
       "                                         tag_adjs  \\\n",
       "0                                              []   \n",
       "1                                              []   \n",
       "2        [satisfaction, satisfaction, sanitation]   \n",
       "3                                              []   \n",
       "4              [satisfaction, mood, satisfaction]   \n",
       "...                                           ...   \n",
       "2125199                                        []   \n",
       "2125200                  [satisfaction, location]   \n",
       "2125201                        [mood, sanitation]   \n",
       "2125202                      [satisfaction, mood]   \n",
       "2125203                            [satisfaction]   \n",
       "\n",
       "                                                  all_tags  \\\n",
       "0                                                  [price]   \n",
       "1                                               [location]   \n",
       "2        [recommend, satisfaction, satisfaction, sanita...   \n",
       "3                                                  [price]   \n",
       "4            [recommend, satisfaction, mood, satisfaction]   \n",
       "...                                                    ...   \n",
       "2125199                                            [price]   \n",
       "2125200                [recommend, satisfaction, location]   \n",
       "2125201                      [recommend, mood, sanitation]   \n",
       "2125202                    [recommend, satisfaction, mood]   \n",
       "2125203                          [recommend, satisfaction]   \n",
       "\n",
       "                                                 mecab_sep  \n",
       "0                         [남가좌동, 엘, 본, 헤어, 하우스, 비용, 알려, 주]  \n",
       "1                    [맷, 블랙, 헤어, 성, 신여, 대점, 장소, 아냐, 모르, 냐]  \n",
       "2        [진짜, 최고, 남심, 저격, 할, 만, 위생, 적, 투, 블럭, 괜찮, 곳, 있, 죠]  \n",
       "3                                            [명일역, 가격, 궁금]  \n",
       "4            [균형, 잡힌, 럭셔리, 부, 보이, 않, 알려, 주, 싶, 데, 여쭤, 볼려고]  \n",
       "...                                                    ...  \n",
       "2125199                      [클레오파트라, 미용실, 요금, 가르쳐, 주, 세요]  \n",
       "2125200             [뤠잇한, 멀, 않, 스핀, 스, 왈, 로펌, 괜찮, 미용실, 어데]  \n",
       "2125201             [자연광, 빛나, 스핀, 스, 왈, 로펌, 추천, 할, 미용실, 있]  \n",
       "2125202         [헤어, 라인, 잘, 잡, 주, 포근, 추천, 가능, 미용실, 어데, 인지]  \n",
       "2125203          [체인점, 많, 언밸런스, 컷, 추천, 할, 만, 미용실, 있, 겠, 죠]  \n",
       "\n",
       "[2125204 rows x 6 columns]"
      ]
     },
     "execution_count": 7,
     "metadata": {},
     "output_type": "execute_result"
    }
   ],
   "source": [
    "df_all_question"
   ]
  },
  {
   "cell_type": "code",
   "execution_count": 8,
   "metadata": {},
   "outputs": [],
   "source": [
    "from tensorflow.keras.preprocessing.text import Tokenizer\n",
    "from tensorflow.keras.preprocessing.sequence import pad_sequences\n",
    "from tensorflow.keras.utils import to_categorical"
   ]
  },
  {
   "cell_type": "code",
   "execution_count": 9,
   "metadata": {},
   "outputs": [],
   "source": [
    "def tokenize_text(x_train, x_test):\n",
    "    t = Tokenizer(num_words=40000) #빈도가 1~40000개 에 해당하는 단어만 선택\n",
    "    t.fit_on_texts(x_train)\n",
    "    x_train = t.texts_to_sequences(x_train)\n",
    "    x_test = t.texts_to_sequences(x_test)\n",
    "    \n",
    "    max_features = len(t.word_counts)\n",
    "    X_train = pad_sequences(x_train, maxlen=100) #단어 수를 100개로 맞춤\n",
    "    X_test = pad_sequences(x_test, maxlen=100) #만일  \n",
    "    X_train = X_train.astype('float32')\n",
    "    X_test = X_test.astype('float32')\n",
    "    \n",
    "    return X_train, X_test"
   ]
  },
  {
   "cell_type": "code",
   "execution_count": 10,
   "metadata": {},
   "outputs": [],
   "source": [
    "from sklearn.model_selection import train_test_split"
   ]
  },
  {
   "cell_type": "code",
   "execution_count": 11,
   "metadata": {},
   "outputs": [],
   "source": [
    "X1_train, X1_test, y1_train, y1_test = \\\n",
    "    train_test_split(df_all_question['mecab_sep'].values\n",
    "                    ,df_all_question['tag_intent'].values\n",
    "                    ,test_size=0.1)"
   ]
  },
  {
   "cell_type": "code",
   "execution_count": 12,
   "metadata": {},
   "outputs": [],
   "source": [
    "X2_train, X2_test, y2_train, y2_test = \\\n",
    "    train_test_split(df_all_question['mecab_sep'].values\n",
    "                    ,df_all_question['all_tags'].values\n",
    "                    ,test_size=0.1)"
   ]
  },
  {
   "cell_type": "code",
   "execution_count": 13,
   "metadata": {},
   "outputs": [
    {
     "name": "stdout",
     "output_type": "stream",
     "text": [
      "Wall time: 25.2 s\n"
     ]
    }
   ],
   "source": [
    "%%time\n",
    "X1_train, X1_test = tokenize_text(X1_train, X1_test)"
   ]
  },
  {
   "cell_type": "code",
   "execution_count": 14,
   "metadata": {},
   "outputs": [
    {
     "name": "stdout",
     "output_type": "stream",
     "text": [
      "Wall time: 24.6 s\n"
     ]
    }
   ],
   "source": [
    "%%time\n",
    "X2_train, X2_test = tokenize_text(X2_train, X2_test)"
   ]
  },
  {
   "cell_type": "code",
   "execution_count": 15,
   "metadata": {},
   "outputs": [
    {
     "data": {
      "text/plain": [
       "((1912683, 100), (212521, 100))"
      ]
     },
     "execution_count": 15,
     "metadata": {},
     "output_type": "execute_result"
    }
   ],
   "source": [
    "X1_train.shape, X1_test.shape"
   ]
  },
  {
   "cell_type": "code",
   "execution_count": 16,
   "metadata": {},
   "outputs": [
    {
     "data": {
      "text/plain": [
       "(array([[  0.,   0.,   0., ...,  28.,   2.,  23.],\n",
       "        [  0.,   0.,   0., ...,  28., 133., 234.],\n",
       "        [  0.,   0.,   0., ...,   8.,   2.,  20.],\n",
       "        ...,\n",
       "        [  0.,   0.,   0., ...,  12.,   2.,  20.],\n",
       "        [  0.,   0.,   0., ...,  13.,   6.,  20.],\n",
       "        [  0.,   0.,   0., ...,  34.,  19.,  20.]], dtype=float32),\n",
       " array([[  0.,   0.,   0., ...,  65.,  43., 113.],\n",
       "        [  0.,   0.,   0., ...,  72.,   7.,   2.],\n",
       "        [  0.,   0.,   0., ...,  40.,  11.,  77.],\n",
       "        ...,\n",
       "        [  0.,   0.,   0., ...,   1.,   8.,  19.],\n",
       "        [  0.,   0.,   0., ...,   4.,   1.,   8.],\n",
       "        [  0.,   0.,   0., ...,  43., 215.,  36.]], dtype=float32))"
      ]
     },
     "execution_count": 16,
     "metadata": {},
     "output_type": "execute_result"
    }
   ],
   "source": [
    "X1_train, X1_test"
   ]
  },
  {
   "cell_type": "code",
   "execution_count": 17,
   "metadata": {},
   "outputs": [
    {
     "data": {
      "text/plain": [
       "((1912683, 100), (212521, 100))"
      ]
     },
     "execution_count": 17,
     "metadata": {},
     "output_type": "execute_result"
    }
   ],
   "source": [
    "X2_train.shape, X2_test.shape"
   ]
  },
  {
   "cell_type": "code",
   "execution_count": 18,
   "metadata": {},
   "outputs": [
    {
     "data": {
      "text/plain": [
       "(array([[  0.,   0.,   0., ...,  15.,   7.,   2.],\n",
       "        [  0.,   0.,   0., ...,  52.,   4.,  59.],\n",
       "        [  0.,   0.,   0., ...,  44.,  52.,  77.],\n",
       "        ...,\n",
       "        [  0.,   0.,   0., ...,   5.,  52., 101.],\n",
       "        [  0.,   0.,   0., ...,  53.,  64.,   2.],\n",
       "        [  0.,   0.,   0., ...,  40.,   2.,  23.]], dtype=float32),\n",
       " array([[  0.,   0.,   0., ...,  39.,  11.,  77.],\n",
       "        [  0.,   0.,   0., ...,   2., 236.,  20.],\n",
       "        [  0.,   0.,   0., ...,  39.,  52.,  77.],\n",
       "        ...,\n",
       "        [  0.,   0.,   0., ...,  44.,  11.,  77.],\n",
       "        [  0.,   0.,   0., ...,  27.,   5., 224.],\n",
       "        [  0.,   0.,   0., ...,   8.,   2.,  20.]], dtype=float32))"
      ]
     },
     "execution_count": 18,
     "metadata": {},
     "output_type": "execute_result"
    }
   ],
   "source": [
    "X2_train, X2_test"
   ]
  },
  {
   "cell_type": "code",
   "execution_count": 19,
   "metadata": {},
   "outputs": [
    {
     "data": {
      "text/plain": [
       "(array(['location', 'location', 'recommend', ..., 'location', 'recommend',\n",
       "        'review'], dtype=object),\n",
       " array(['review', 'recommend', 'location', ..., 'recommend', 'recommend',\n",
       "        'review'], dtype=object))"
      ]
     },
     "execution_count": 19,
     "metadata": {},
     "output_type": "execute_result"
    }
   ],
   "source": [
    "y1_train, y1_test # 벡터화 필요함."
   ]
  },
  {
   "cell_type": "code",
   "execution_count": 20,
   "metadata": {},
   "outputs": [],
   "source": [
    "# keras.utils.np_utils.to_categorical"
   ]
  },
  {
   "cell_type": "code",
   "execution_count": 21,
   "metadata": {},
   "outputs": [],
   "source": [
    "def one_hot_encoding(y_train, y_test):\n",
    "    t = Tokenizer(num_words=40000)\n",
    "    t.fit_on_texts(y_train)\n",
    "    y_train = t.texts_to_sequences(y_train)\n",
    "    y_test = t.texts_to_sequences(y_test)\n",
    "    \n",
    "    y_train = to_categorical(y_train)\n",
    "    y_test = to_categorical(y_test)\n",
    "    \n",
    "    y_train = y_train.astype('float32')\n",
    "    y_test = y_test.astype('float32')\n",
    "    \n",
    "    return y_train, y_test"
   ]
  },
  {
   "cell_type": "code",
   "execution_count": 22,
   "metadata": {},
   "outputs": [
    {
     "name": "stderr",
     "output_type": "stream",
     "text": [
      "Using TensorFlow backend.\n"
     ]
    }
   ],
   "source": [
    "from keras.models import Sequential\n",
    "from keras.layers import Dense, Activation, Embedding, LSTM, Dropout\n",
    "from keras.layers import Conv1D, MaxPool1D"
   ]
  },
  {
   "cell_type": "code",
   "execution_count": 28,
   "metadata": {},
   "outputs": [],
   "source": [
    "model = Sequential()\n",
    "model.add(Embedding(40000, 128))\n",
    "model.add(Dropout(0.5))\n",
    "# model.add(Dense(6, input_shape=(2,)))\n",
    "model.add(Conv1D(64,5, padding='valid', activation='relu', strides=1))\n",
    "model.add(MaxPool1D(pool_size=2))\n",
    "model.add(LSTM(128))\n",
    "model.add(Dropout(0.5))\n",
    "model.add(Dense(5, activation='softmax'))\n",
    "# model.add(Dense(1, activation='linear'))"
   ]
  },
  {
   "cell_type": "code",
   "execution_count": 29,
   "metadata": {},
   "outputs": [],
   "source": [
    "model.compile(loss='categorical_crossentropy'\n",
    "             , optimizer='adam'\n",
    "             , metrics=['accuracy'])"
   ]
  },
  {
   "cell_type": "code",
   "execution_count": 30,
   "metadata": {},
   "outputs": [
    {
     "data": {
      "text/plain": [
       "array(['location', 'location', 'recommend', ..., 'location', 'recommend',\n",
       "       'review'], dtype=object)"
      ]
     },
     "execution_count": 30,
     "metadata": {},
     "output_type": "execute_result"
    }
   ],
   "source": [
    "y1_train"
   ]
  },
  {
   "cell_type": "code",
   "execution_count": 31,
   "metadata": {},
   "outputs": [
    {
     "data": {
      "text/plain": [
       "array(['review', 'recommend', 'location', ..., 'recommend', 'recommend',\n",
       "       'review'], dtype=object)"
      ]
     },
     "execution_count": 31,
     "metadata": {},
     "output_type": "execute_result"
    }
   ],
   "source": [
    "y1_test"
   ]
  },
  {
   "cell_type": "code",
   "execution_count": 33,
   "metadata": {},
   "outputs": [
    {
     "data": {
      "text/plain": [
       "(array([[0., 0., 0., 0., 1.],\n",
       "        [0., 0., 0., 0., 1.],\n",
       "        [0., 1., 0., 0., 0.],\n",
       "        ...,\n",
       "        [0., 0., 0., 0., 1.],\n",
       "        [0., 1., 0., 0., 0.],\n",
       "        [0., 0., 1., 0., 0.]], dtype=float32),\n",
       " array([[0., 0., 1., 0., 0.],\n",
       "        [0., 1., 0., 0., 0.],\n",
       "        [0., 0., 0., 0., 1.],\n",
       "        ...,\n",
       "        [0., 1., 0., 0., 0.],\n",
       "        [0., 1., 0., 0., 0.],\n",
       "        [0., 0., 1., 0., 0.]], dtype=float32))"
      ]
     },
     "execution_count": 33,
     "metadata": {},
     "output_type": "execute_result"
    }
   ],
   "source": [
    "y1_train, y1_test = one_hot_encoding(y1_train, y1_test)\n",
    "y1_train, y1_test"
   ]
  },
  {
   "cell_type": "code",
   "execution_count": 34,
   "metadata": {
    "scrolled": true
   },
   "outputs": [
    {
     "data": {
      "text/plain": [
       "(array([[0., 0., 0., 0., 1.],\n",
       "        [0., 0., 0., 0., 1.],\n",
       "        [0., 1., 0., 0., 0.],\n",
       "        ...,\n",
       "        [0., 0., 0., 0., 1.],\n",
       "        [0., 1., 0., 0., 0.],\n",
       "        [0., 0., 1., 0., 0.]], dtype=float32),\n",
       " array([[0., 0., 1., 0., 0.],\n",
       "        [0., 1., 0., 0., 0.],\n",
       "        [0., 0., 0., 0., 1.],\n",
       "        ...,\n",
       "        [0., 1., 0., 0., 0.],\n",
       "        [0., 1., 0., 0., 0.],\n",
       "        [0., 0., 1., 0., 0.]], dtype=float32))"
      ]
     },
     "execution_count": 34,
     "metadata": {},
     "output_type": "execute_result"
    }
   ],
   "source": [
    "y1_train, y1_test"
   ]
  },
  {
   "cell_type": "code",
   "execution_count": 35,
   "metadata": {},
   "outputs": [
    {
     "name": "stdout",
     "output_type": "stream",
     "text": [
      "WARNING:tensorflow:From C:\\Users\\rainb\\anaconda3\\envs\\data-dl\\lib\\site-packages\\keras\\backend\\tensorflow_backend.py:422: The name tf.global_variables is deprecated. Please use tf.compat.v1.global_variables instead.\n",
      "\n",
      "Train on 1912683 samples, validate on 212521 samples\n",
      "Epoch 1/10\n",
      "1912683/1912683 [==============================] - 15150s 8ms/step - loss: 0.0087 - accuracy: 0.9962 - val_loss: 0.0055 - val_accuracy: 0.9969\n",
      "Epoch 2/10\n",
      "   1810/1912683 [..............................] - ETA: 4:11:08 - loss: 0.0059 - accuracy: 0.9972"
     ]
    },
    {
     "ename": "KeyboardInterrupt",
     "evalue": "",
     "output_type": "error",
     "traceback": [
      "\u001b[1;31m---------------------------------------------------------------------------\u001b[0m",
      "\u001b[1;31mKeyboardInterrupt\u001b[0m                         Traceback (most recent call last)",
      "\u001b[1;32m<ipython-input-35-b7dc36594327>\u001b[0m in \u001b[0;36m<module>\u001b[1;34m\u001b[0m\n\u001b[0;32m      5\u001b[0m                 \u001b[1;33m,\u001b[0m \u001b[0mepochs\u001b[0m\u001b[1;33m=\u001b[0m\u001b[1;36m10\u001b[0m\u001b[1;33m\u001b[0m\u001b[1;33m\u001b[0m\u001b[0m\n\u001b[0;32m      6\u001b[0m                 \u001b[1;33m,\u001b[0m \u001b[0mvalidation_data\u001b[0m\u001b[1;33m=\u001b[0m\u001b[1;33m(\u001b[0m\u001b[0mX1_test\u001b[0m\u001b[1;33m,\u001b[0m \u001b[0my1_test\u001b[0m\u001b[1;33m)\u001b[0m\u001b[1;33m\u001b[0m\u001b[1;33m\u001b[0m\u001b[0m\n\u001b[1;32m----> 7\u001b[1;33m                 , callbacks=[early_stopping])\n\u001b[0m",
      "\u001b[1;32m~\\anaconda3\\envs\\data-dl\\lib\\site-packages\\keras\\engine\\training.py\u001b[0m in \u001b[0;36mfit\u001b[1;34m(self, x, y, batch_size, epochs, verbose, callbacks, validation_split, validation_data, shuffle, class_weight, sample_weight, initial_epoch, steps_per_epoch, validation_steps, validation_freq, max_queue_size, workers, use_multiprocessing, **kwargs)\u001b[0m\n\u001b[0;32m   1237\u001b[0m                                         \u001b[0msteps_per_epoch\u001b[0m\u001b[1;33m=\u001b[0m\u001b[0msteps_per_epoch\u001b[0m\u001b[1;33m,\u001b[0m\u001b[1;33m\u001b[0m\u001b[1;33m\u001b[0m\u001b[0m\n\u001b[0;32m   1238\u001b[0m                                         \u001b[0mvalidation_steps\u001b[0m\u001b[1;33m=\u001b[0m\u001b[0mvalidation_steps\u001b[0m\u001b[1;33m,\u001b[0m\u001b[1;33m\u001b[0m\u001b[1;33m\u001b[0m\u001b[0m\n\u001b[1;32m-> 1239\u001b[1;33m                                         validation_freq=validation_freq)\n\u001b[0m\u001b[0;32m   1240\u001b[0m \u001b[1;33m\u001b[0m\u001b[0m\n\u001b[0;32m   1241\u001b[0m     def evaluate(self,\n",
      "\u001b[1;32m~\\anaconda3\\envs\\data-dl\\lib\\site-packages\\keras\\engine\\training_arrays.py\u001b[0m in \u001b[0;36mfit_loop\u001b[1;34m(model, fit_function, fit_inputs, out_labels, batch_size, epochs, verbose, callbacks, val_function, val_inputs, shuffle, initial_epoch, steps_per_epoch, validation_steps, validation_freq)\u001b[0m\n\u001b[0;32m    194\u001b[0m                     \u001b[0mins_batch\u001b[0m\u001b[1;33m[\u001b[0m\u001b[0mi\u001b[0m\u001b[1;33m]\u001b[0m \u001b[1;33m=\u001b[0m \u001b[0mins_batch\u001b[0m\u001b[1;33m[\u001b[0m\u001b[0mi\u001b[0m\u001b[1;33m]\u001b[0m\u001b[1;33m.\u001b[0m\u001b[0mtoarray\u001b[0m\u001b[1;33m(\u001b[0m\u001b[1;33m)\u001b[0m\u001b[1;33m\u001b[0m\u001b[1;33m\u001b[0m\u001b[0m\n\u001b[0;32m    195\u001b[0m \u001b[1;33m\u001b[0m\u001b[0m\n\u001b[1;32m--> 196\u001b[1;33m                 \u001b[0mouts\u001b[0m \u001b[1;33m=\u001b[0m \u001b[0mfit_function\u001b[0m\u001b[1;33m(\u001b[0m\u001b[0mins_batch\u001b[0m\u001b[1;33m)\u001b[0m\u001b[1;33m\u001b[0m\u001b[1;33m\u001b[0m\u001b[0m\n\u001b[0m\u001b[0;32m    197\u001b[0m                 \u001b[0mouts\u001b[0m \u001b[1;33m=\u001b[0m \u001b[0mto_list\u001b[0m\u001b[1;33m(\u001b[0m\u001b[0mouts\u001b[0m\u001b[1;33m)\u001b[0m\u001b[1;33m\u001b[0m\u001b[1;33m\u001b[0m\u001b[0m\n\u001b[0;32m    198\u001b[0m                 \u001b[1;32mfor\u001b[0m \u001b[0ml\u001b[0m\u001b[1;33m,\u001b[0m \u001b[0mo\u001b[0m \u001b[1;32min\u001b[0m \u001b[0mzip\u001b[0m\u001b[1;33m(\u001b[0m\u001b[0mout_labels\u001b[0m\u001b[1;33m,\u001b[0m \u001b[0mouts\u001b[0m\u001b[1;33m)\u001b[0m\u001b[1;33m:\u001b[0m\u001b[1;33m\u001b[0m\u001b[1;33m\u001b[0m\u001b[0m\n",
      "\u001b[1;32m~\\anaconda3\\envs\\data-dl\\lib\\site-packages\\tensorflow_core\\python\\keras\\backend.py\u001b[0m in \u001b[0;36m__call__\u001b[1;34m(self, inputs)\u001b[0m\n\u001b[0;32m   3474\u001b[0m \u001b[1;33m\u001b[0m\u001b[0m\n\u001b[0;32m   3475\u001b[0m     fetched = self._callable_fn(*array_vals,\n\u001b[1;32m-> 3476\u001b[1;33m                                 run_metadata=self.run_metadata)\n\u001b[0m\u001b[0;32m   3477\u001b[0m     \u001b[0mself\u001b[0m\u001b[1;33m.\u001b[0m\u001b[0m_call_fetch_callbacks\u001b[0m\u001b[1;33m(\u001b[0m\u001b[0mfetched\u001b[0m\u001b[1;33m[\u001b[0m\u001b[1;33m-\u001b[0m\u001b[0mlen\u001b[0m\u001b[1;33m(\u001b[0m\u001b[0mself\u001b[0m\u001b[1;33m.\u001b[0m\u001b[0m_fetches\u001b[0m\u001b[1;33m)\u001b[0m\u001b[1;33m:\u001b[0m\u001b[1;33m]\u001b[0m\u001b[1;33m)\u001b[0m\u001b[1;33m\u001b[0m\u001b[1;33m\u001b[0m\u001b[0m\n\u001b[0;32m   3478\u001b[0m     output_structure = nest.pack_sequence_as(\n",
      "\u001b[1;32m~\\anaconda3\\envs\\data-dl\\lib\\site-packages\\tensorflow_core\\python\\client\\session.py\u001b[0m in \u001b[0;36m__call__\u001b[1;34m(self, *args, **kwargs)\u001b[0m\n\u001b[0;32m   1470\u001b[0m         ret = tf_session.TF_SessionRunCallable(self._session._session,\n\u001b[0;32m   1471\u001b[0m                                                \u001b[0mself\u001b[0m\u001b[1;33m.\u001b[0m\u001b[0m_handle\u001b[0m\u001b[1;33m,\u001b[0m \u001b[0margs\u001b[0m\u001b[1;33m,\u001b[0m\u001b[1;33m\u001b[0m\u001b[1;33m\u001b[0m\u001b[0m\n\u001b[1;32m-> 1472\u001b[1;33m                                                run_metadata_ptr)\n\u001b[0m\u001b[0;32m   1473\u001b[0m         \u001b[1;32mif\u001b[0m \u001b[0mrun_metadata\u001b[0m\u001b[1;33m:\u001b[0m\u001b[1;33m\u001b[0m\u001b[1;33m\u001b[0m\u001b[0m\n\u001b[0;32m   1474\u001b[0m           \u001b[0mproto_data\u001b[0m \u001b[1;33m=\u001b[0m \u001b[0mtf_session\u001b[0m\u001b[1;33m.\u001b[0m\u001b[0mTF_GetBuffer\u001b[0m\u001b[1;33m(\u001b[0m\u001b[0mrun_metadata_ptr\u001b[0m\u001b[1;33m)\u001b[0m\u001b[1;33m\u001b[0m\u001b[1;33m\u001b[0m\u001b[0m\n",
      "\u001b[1;31mKeyboardInterrupt\u001b[0m: "
     ]
    }
   ],
   "source": [
    "from keras.callbacks import EarlyStopping\n",
    "early_stopping = EarlyStopping(monitor='val_loss', patience=10)\n",
    "hist = model.fit(X1_train, y1_train\n",
    "                , batch_size=10\n",
    "                , epochs=1\n",
    "                , validation_data=(X1_test, y1_test)\n",
    "                , callbacks=[early_stopping])"
   ]
  },
  {
   "cell_type": "code",
   "execution_count": null,
   "metadata": {},
   "outputs": [],
   "source": []
  },
  {
   "cell_type": "code",
   "execution_count": null,
   "metadata": {},
   "outputs": [],
   "source": []
  }
 ],
 "metadata": {
  "kernelspec": {
   "display_name": "data-dl",
   "language": "python",
   "name": "data-dl"
  },
  "language_info": {
   "codemirror_mode": {
    "name": "ipython",
    "version": 3
   },
   "file_extension": ".py",
   "mimetype": "text/x-python",
   "name": "python",
   "nbconvert_exporter": "python",
   "pygments_lexer": "ipython3",
   "version": "3.7.7"
  }
 },
 "nbformat": 4,
 "nbformat_minor": 4
}
