{
 "cells": [
  {
   "cell_type": "code",
   "execution_count": 2,
   "metadata": {},
   "outputs": [],
   "source": [
    "from selenium import webdriver\n",
    "from bs4 import BeautifulSoup as bs\n",
    "import time\n",
    " \n",
    "# chromedriver의 위치 지정\n",
    "driver = webdriver.Chrome('./driver/chromedriver_win32/chromedriver.exe')\n",
    " \n",
    "login_url = \"https://nid.naver.com/nidlogin.login\"\n",
    "driver.get(login_url)\n",
    "\n",
    "## 네이버 로그인 우회 \n",
    "\n",
    "id = \"개인 네이버 아이디 입력해 주세요\"\n",
    "pw = \"개인 네이버 비밀번호 입력해 주세요\"\n",
    " \n",
    "# execute_script 함수 사용 (자바 스크립트로 아이디, 패스워드를 넘겨주는 형태)\n",
    "driver.execute_script(\"document.getElementsByName('id')[0].value=\\'\"+id+\"\\'\")\n",
    "driver.execute_script(\"document.getElementsByName('pw')[0].value=\\'\"+pw+\"\\'\")\n",
    "\n",
    "#사용된 document.getElementsByName('id')[0].value=\\' 는 자바스크립트에서 사용되는 함수\n",
    "#파이썬에서 키를 직접적으로 넘겨주는 게 아니라 브라우져 내에서 자바스크립트로 아이디 값을 넘겨주기 때문에\n",
    "#네이버의 자동화된 소프트와 알고리즘을 우회하는 원리\n",
    "driver.find_element_by_xpath('//*[@id=\"frmNIDLogin\"]/fieldset/input').click()\n",
    " \n",
    "#time.sleep(5) 원하시는 값 입력해 주시면 됩니다.\n",
    "#driver.close()"
   ]
  },
  {
   "cell_type": "code",
   "execution_count": null,
   "metadata": {},
   "outputs": [],
   "source": []
  }
 ],
 "metadata": {
  "kernelspec": {
   "display_name": "Python 3",
   "language": "python",
   "name": "python3"
  },
  "language_info": {
   "codemirror_mode": {
    "name": "ipython",
    "version": 3
   },
   "file_extension": ".py",
   "mimetype": "text/x-python",
   "name": "python",
   "nbconvert_exporter": "python",
   "pygments_lexer": "ipython3",
   "version": "3.7.4"
  }
 },
 "nbformat": 4,
 "nbformat_minor": 2
}
