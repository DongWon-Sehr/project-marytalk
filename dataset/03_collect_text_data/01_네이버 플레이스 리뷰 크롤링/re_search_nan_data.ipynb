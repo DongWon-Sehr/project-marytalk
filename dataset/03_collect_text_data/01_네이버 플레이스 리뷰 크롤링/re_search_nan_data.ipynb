{
 "cells": [
  {
   "cell_type": "code",
   "execution_count": 1,
   "metadata": {},
   "outputs": [],
   "source": [
    "import selenium\n",
    "from selenium import webdriver\n",
    "from selenium.webdriver.common.by import By\n",
    "from selenium.webdriver.common.keys import Keys\n",
    "from selenium.webdriver.common.action_chains import ActionChains\n",
    "from selenium.webdriver.support.ui import WebDriverWait\n",
    "from selenium.webdriver.support import expected_conditions as EC\n",
    "\n",
    "from bs4 import BeautifulSoup\n",
    "import requests\n",
    "from pandas import Series, DataFrame\n",
    "import pandas as pd\n",
    "import numpy as np\n",
    "from datetime import datetime\n",
    "import re\n",
    "import time\n",
    "import sys\n",
    "import tqdm\n",
    "import selenium.common.exceptions as sce\n",
    "\n",
    "from getpass import getpass"
   ]
  },
  {
   "cell_type": "code",
   "execution_count": 2,
   "metadata": {},
   "outputs": [],
   "source": [
    "input_data = pd.read_csv('./naver_map_seoul_salon_output_data_2020-04-29_final.csv', index_col=0)"
   ]
  },
  {
   "cell_type": "code",
   "execution_count": 3,
   "metadata": {},
   "outputs": [
    {
     "name": "stdout",
     "output_type": "stream",
     "text": [
      "<class 'pandas.core.frame.DataFrame'>\n",
      "Int64Index: 13398 entries, 0 to 13397\n",
      "Data columns (total 8 columns):\n",
      "store_id             13398 non-null object\n",
      "store_id_only_num    13398 non-null int64\n",
      "store_name           13398 non-null object\n",
      "tel                  9515 non-null object\n",
      "addrRoad             13398 non-null object\n",
      "category             13398 non-null object\n",
      "collect_day          13398 non-null object\n",
      "disctrict            13398 non-null object\n",
      "dtypes: int64(1), object(7)\n",
      "memory usage: 942.0+ KB\n"
     ]
    }
   ],
   "source": [
    "input_data.info()"
   ]
  },
  {
   "cell_type": "code",
   "execution_count": 4,
   "metadata": {},
   "outputs": [
    {
     "data": {
      "text/html": [
       "<div>\n",
       "<style scoped>\n",
       "    .dataframe tbody tr th:only-of-type {\n",
       "        vertical-align: middle;\n",
       "    }\n",
       "\n",
       "    .dataframe tbody tr th {\n",
       "        vertical-align: top;\n",
       "    }\n",
       "\n",
       "    .dataframe thead th {\n",
       "        text-align: right;\n",
       "    }\n",
       "</style>\n",
       "<table border=\"1\" class=\"dataframe\">\n",
       "  <thead>\n",
       "    <tr style=\"text-align: right;\">\n",
       "      <th></th>\n",
       "      <th>store_id</th>\n",
       "      <th>store_id_only_num</th>\n",
       "      <th>store_name</th>\n",
       "      <th>tel</th>\n",
       "      <th>addrRoad</th>\n",
       "      <th>category</th>\n",
       "      <th>collect_day</th>\n",
       "      <th>disctrict</th>\n",
       "    </tr>\n",
       "  </thead>\n",
       "  <tbody>\n",
       "    <tr>\n",
       "      <td>0</td>\n",
       "      <td>s18570093</td>\n",
       "      <td>18570093</td>\n",
       "      <td>조희미용실</td>\n",
       "      <td>02-555-0157</td>\n",
       "      <td>서울특별시 강남구 남부순환로 2917 1층 111-가</td>\n",
       "      <td>생활,편의 &gt; 미용실</td>\n",
       "      <td>2020-04-19</td>\n",
       "      <td>강남구</td>\n",
       "    </tr>\n",
       "    <tr>\n",
       "      <td>1</td>\n",
       "      <td>s10983326</td>\n",
       "      <td>10983326</td>\n",
       "      <td>정정원 헤어 룩</td>\n",
       "      <td>02-545-3809</td>\n",
       "      <td>서울특별시 강남구 선릉로116길 24</td>\n",
       "      <td>생활,편의 &gt; 미용실</td>\n",
       "      <td>2020-04-19</td>\n",
       "      <td>강남구</td>\n",
       "    </tr>\n",
       "    <tr>\n",
       "      <td>2</td>\n",
       "      <td>s18431392</td>\n",
       "      <td>18431392</td>\n",
       "      <td>헤어인러브</td>\n",
       "      <td>02-546-0366</td>\n",
       "      <td>서울특별시 강남구 선릉로148길 39 2층</td>\n",
       "      <td>생활,편의 &gt; 미용실</td>\n",
       "      <td>2020-04-19</td>\n",
       "      <td>강남구</td>\n",
       "    </tr>\n",
       "    <tr>\n",
       "      <td>3</td>\n",
       "      <td>s34786519</td>\n",
       "      <td>34786519</td>\n",
       "      <td>앤즈헤어</td>\n",
       "      <td>02-553-9799</td>\n",
       "      <td>서울특별시 강남구 언주로 201 sk리더스뷰 2층 앤즈헤어</td>\n",
       "      <td>생활,편의 &gt; 미용실</td>\n",
       "      <td>2020-04-19</td>\n",
       "      <td>강남구</td>\n",
       "    </tr>\n",
       "    <tr>\n",
       "      <td>4</td>\n",
       "      <td>s697084146</td>\n",
       "      <td>697084146</td>\n",
       "      <td>아나스타일</td>\n",
       "      <td>02-501-0457</td>\n",
       "      <td>서울특별시 강남구 언주로97길 25</td>\n",
       "      <td>생활,편의 &gt; 미용실</td>\n",
       "      <td>2020-04-19</td>\n",
       "      <td>강남구</td>\n",
       "    </tr>\n",
       "  </tbody>\n",
       "</table>\n",
       "</div>"
      ],
      "text/plain": [
       "     store_id  store_id_only_num store_name          tel  \\\n",
       "0   s18570093           18570093      조희미용실  02-555-0157   \n",
       "1   s10983326           10983326   정정원 헤어 룩  02-545-3809   \n",
       "2   s18431392           18431392      헤어인러브  02-546-0366   \n",
       "3   s34786519           34786519       앤즈헤어  02-553-9799   \n",
       "4  s697084146          697084146      아나스타일  02-501-0457   \n",
       "\n",
       "                           addrRoad     category collect_day disctrict  \n",
       "0     서울특별시 강남구 남부순환로 2917 1층 111-가  생활,편의 > 미용실  2020-04-19       강남구  \n",
       "1              서울특별시 강남구 선릉로116길 24  생활,편의 > 미용실  2020-04-19       강남구  \n",
       "2           서울특별시 강남구 선릉로148길 39 2층  생활,편의 > 미용실  2020-04-19       강남구  \n",
       "3  서울특별시 강남구 언주로 201 sk리더스뷰 2층 앤즈헤어  생활,편의 > 미용실  2020-04-19       강남구  \n",
       "4               서울특별시 강남구 언주로97길 25  생활,편의 > 미용실  2020-04-19       강남구  "
      ]
     },
     "execution_count": 4,
     "metadata": {},
     "output_type": "execute_result"
    }
   ],
   "source": [
    "input_data.head()"
   ]
  },
  {
   "cell_type": "code",
   "execution_count": 5,
   "metadata": {},
   "outputs": [],
   "source": [
    "nan_data = pd.read_csv('./naver_blog_count_nan_data_2020-04-30.csv', index_col=0)"
   ]
  },
  {
   "cell_type": "code",
   "execution_count": 6,
   "metadata": {},
   "outputs": [
    {
     "name": "stdout",
     "output_type": "stream",
     "text": [
      "<class 'pandas.core.frame.DataFrame'>\n",
      "Int64Index: 67 entries, 13327 to 13393\n",
      "Data columns (total 7 columns):\n",
      "store_id             67 non-null object\n",
      "store_id_only_num    67 non-null int64\n",
      "store_name           67 non-null object\n",
      "booking              0 non-null float64\n",
      "receipt              0 non-null float64\n",
      "blog                 0 non-null float64\n",
      "total                67 non-null float64\n",
      "dtypes: float64(4), int64(1), object(2)\n",
      "memory usage: 4.2+ KB\n"
     ]
    }
   ],
   "source": [
    "nan_data.info()"
   ]
  },
  {
   "cell_type": "code",
   "execution_count": 7,
   "metadata": {},
   "outputs": [
    {
     "data": {
      "text/html": [
       "<div>\n",
       "<style scoped>\n",
       "    .dataframe tbody tr th:only-of-type {\n",
       "        vertical-align: middle;\n",
       "    }\n",
       "\n",
       "    .dataframe tbody tr th {\n",
       "        vertical-align: top;\n",
       "    }\n",
       "\n",
       "    .dataframe thead th {\n",
       "        text-align: right;\n",
       "    }\n",
       "</style>\n",
       "<table border=\"1\" class=\"dataframe\">\n",
       "  <thead>\n",
       "    <tr style=\"text-align: right;\">\n",
       "      <th></th>\n",
       "      <th>store_id</th>\n",
       "      <th>store_id_only_num</th>\n",
       "      <th>store_name</th>\n",
       "      <th>booking</th>\n",
       "      <th>receipt</th>\n",
       "      <th>blog</th>\n",
       "      <th>total</th>\n",
       "    </tr>\n",
       "  </thead>\n",
       "  <tbody>\n",
       "    <tr>\n",
       "      <td>13327</td>\n",
       "      <td>s325908825</td>\n",
       "      <td>325908825</td>\n",
       "      <td>데꼬헤살롱</td>\n",
       "      <td>NaN</td>\n",
       "      <td>NaN</td>\n",
       "      <td>NaN</td>\n",
       "      <td>0.0</td>\n",
       "    </tr>\n",
       "    <tr>\n",
       "      <td>13328</td>\n",
       "      <td>s11868905</td>\n",
       "      <td>11868905</td>\n",
       "      <td>렉시온헤어</td>\n",
       "      <td>NaN</td>\n",
       "      <td>NaN</td>\n",
       "      <td>NaN</td>\n",
       "      <td>0.0</td>\n",
       "    </tr>\n",
       "    <tr>\n",
       "      <td>13329</td>\n",
       "      <td>s1824822666</td>\n",
       "      <td>1824822666</td>\n",
       "      <td>멋지다 당신샵</td>\n",
       "      <td>NaN</td>\n",
       "      <td>NaN</td>\n",
       "      <td>NaN</td>\n",
       "      <td>0.0</td>\n",
       "    </tr>\n",
       "    <tr>\n",
       "      <td>13330</td>\n",
       "      <td>s18605329</td>\n",
       "      <td>18605329</td>\n",
       "      <td>헤어마을</td>\n",
       "      <td>NaN</td>\n",
       "      <td>NaN</td>\n",
       "      <td>NaN</td>\n",
       "      <td>0.0</td>\n",
       "    </tr>\n",
       "    <tr>\n",
       "      <td>13331</td>\n",
       "      <td>s32613863</td>\n",
       "      <td>32613863</td>\n",
       "      <td>리안헤어 신대방역점</td>\n",
       "      <td>NaN</td>\n",
       "      <td>NaN</td>\n",
       "      <td>NaN</td>\n",
       "      <td>0.0</td>\n",
       "    </tr>\n",
       "  </tbody>\n",
       "</table>\n",
       "</div>"
      ],
      "text/plain": [
       "          store_id  store_id_only_num  store_name  booking  receipt  blog  \\\n",
       "13327   s325908825          325908825       데꼬헤살롱      NaN      NaN   NaN   \n",
       "13328    s11868905           11868905       렉시온헤어      NaN      NaN   NaN   \n",
       "13329  s1824822666         1824822666     멋지다 당신샵      NaN      NaN   NaN   \n",
       "13330    s18605329           18605329        헤어마을      NaN      NaN   NaN   \n",
       "13331    s32613863           32613863  리안헤어 신대방역점      NaN      NaN   NaN   \n",
       "\n",
       "       total  \n",
       "13327    0.0  \n",
       "13328    0.0  \n",
       "13329    0.0  \n",
       "13330    0.0  \n",
       "13331    0.0  "
      ]
     },
     "execution_count": 7,
     "metadata": {},
     "output_type": "execute_result"
    }
   ],
   "source": [
    "nan_data.head()"
   ]
  },
  {
   "cell_type": "code",
   "execution_count": 8,
   "metadata": {},
   "outputs": [
    {
     "data": {
      "text/html": [
       "<div>\n",
       "<style scoped>\n",
       "    .dataframe tbody tr th:only-of-type {\n",
       "        vertical-align: middle;\n",
       "    }\n",
       "\n",
       "    .dataframe tbody tr th {\n",
       "        vertical-align: top;\n",
       "    }\n",
       "\n",
       "    .dataframe thead th {\n",
       "        text-align: right;\n",
       "    }\n",
       "</style>\n",
       "<table border=\"1\" class=\"dataframe\">\n",
       "  <thead>\n",
       "    <tr style=\"text-align: right;\">\n",
       "      <th></th>\n",
       "      <th>store_id</th>\n",
       "      <th>store_id_only_num_x</th>\n",
       "      <th>store_name_x</th>\n",
       "      <th>booking</th>\n",
       "      <th>receipt</th>\n",
       "      <th>blog</th>\n",
       "      <th>total</th>\n",
       "      <th>store_id_only_num_y</th>\n",
       "      <th>store_name_y</th>\n",
       "      <th>tel</th>\n",
       "      <th>addrRoad</th>\n",
       "      <th>category</th>\n",
       "      <th>collect_day</th>\n",
       "      <th>disctrict</th>\n",
       "    </tr>\n",
       "  </thead>\n",
       "  <tbody>\n",
       "    <tr>\n",
       "      <td>0</td>\n",
       "      <td>s325908825</td>\n",
       "      <td>325908825</td>\n",
       "      <td>데꼬헤살롱</td>\n",
       "      <td>NaN</td>\n",
       "      <td>NaN</td>\n",
       "      <td>NaN</td>\n",
       "      <td>0.0</td>\n",
       "      <td>325908825</td>\n",
       "      <td>데꼬헤살롱</td>\n",
       "      <td>02-6489-1010</td>\n",
       "      <td>서울특별시 서초구 효령로77길 34 강남아크로텔 지하1층 113호114호 데꼬헤살롱</td>\n",
       "      <td>생활,편의 &gt; 미용실</td>\n",
       "      <td>2020-04-19</td>\n",
       "      <td>서초구</td>\n",
       "    </tr>\n",
       "    <tr>\n",
       "      <td>1</td>\n",
       "      <td>s11868905</td>\n",
       "      <td>11868905</td>\n",
       "      <td>렉시온헤어</td>\n",
       "      <td>NaN</td>\n",
       "      <td>NaN</td>\n",
       "      <td>NaN</td>\n",
       "      <td>0.0</td>\n",
       "      <td>11868905</td>\n",
       "      <td>렉시온헤어</td>\n",
       "      <td>02-956-1105</td>\n",
       "      <td>서울특별시 도봉구 도봉로152길 16</td>\n",
       "      <td>생활,편의 &gt; 미용실</td>\n",
       "      <td>2020-04-19</td>\n",
       "      <td>도봉구</td>\n",
       "    </tr>\n",
       "    <tr>\n",
       "      <td>2</td>\n",
       "      <td>s1824822666</td>\n",
       "      <td>1824822666</td>\n",
       "      <td>멋지다 당신샵</td>\n",
       "      <td>NaN</td>\n",
       "      <td>NaN</td>\n",
       "      <td>NaN</td>\n",
       "      <td>0.0</td>\n",
       "      <td>1824822666</td>\n",
       "      <td>멋지다 당신샵</td>\n",
       "      <td>NaN</td>\n",
       "      <td>서울특별시 광진구 능동로40길 19</td>\n",
       "      <td>생활,편의 &gt; 미용실</td>\n",
       "      <td>2020-04-19</td>\n",
       "      <td>광진구</td>\n",
       "    </tr>\n",
       "    <tr>\n",
       "      <td>3</td>\n",
       "      <td>s18605329</td>\n",
       "      <td>18605329</td>\n",
       "      <td>헤어마을</td>\n",
       "      <td>NaN</td>\n",
       "      <td>NaN</td>\n",
       "      <td>NaN</td>\n",
       "      <td>0.0</td>\n",
       "      <td>18605329</td>\n",
       "      <td>헤어마을</td>\n",
       "      <td>02-982-6675</td>\n",
       "      <td>서울특별시 강북구 인수봉로12길 63</td>\n",
       "      <td>생활,편의 &gt; 미용실</td>\n",
       "      <td>2020-04-19</td>\n",
       "      <td>강북구</td>\n",
       "    </tr>\n",
       "    <tr>\n",
       "      <td>4</td>\n",
       "      <td>s32613863</td>\n",
       "      <td>32613863</td>\n",
       "      <td>리안헤어 신대방역점</td>\n",
       "      <td>NaN</td>\n",
       "      <td>NaN</td>\n",
       "      <td>NaN</td>\n",
       "      <td>0.0</td>\n",
       "      <td>32613863</td>\n",
       "      <td>리안헤어 신대방역점</td>\n",
       "      <td>02-861-3336</td>\n",
       "      <td>서울특별시 관악구 난곡로 367 경신빌딩</td>\n",
       "      <td>생활,편의 &gt; 미용실</td>\n",
       "      <td>2020-04-19</td>\n",
       "      <td>관악구</td>\n",
       "    </tr>\n",
       "  </tbody>\n",
       "</table>\n",
       "</div>"
      ],
      "text/plain": [
       "      store_id  store_id_only_num_x store_name_x  booking  receipt  blog  \\\n",
       "0   s325908825            325908825        데꼬헤살롱      NaN      NaN   NaN   \n",
       "1    s11868905             11868905        렉시온헤어      NaN      NaN   NaN   \n",
       "2  s1824822666           1824822666      멋지다 당신샵      NaN      NaN   NaN   \n",
       "3    s18605329             18605329         헤어마을      NaN      NaN   NaN   \n",
       "4    s32613863             32613863   리안헤어 신대방역점      NaN      NaN   NaN   \n",
       "\n",
       "   total  store_id_only_num_y store_name_y           tel  \\\n",
       "0    0.0            325908825        데꼬헤살롱  02-6489-1010   \n",
       "1    0.0             11868905        렉시온헤어   02-956-1105   \n",
       "2    0.0           1824822666      멋지다 당신샵           NaN   \n",
       "3    0.0             18605329         헤어마을   02-982-6675   \n",
       "4    0.0             32613863   리안헤어 신대방역점   02-861-3336   \n",
       "\n",
       "                                         addrRoad     category collect_day  \\\n",
       "0  서울특별시 서초구 효령로77길 34 강남아크로텔 지하1층 113호114호 데꼬헤살롱  생활,편의 > 미용실  2020-04-19   \n",
       "1                            서울특별시 도봉구 도봉로152길 16  생활,편의 > 미용실  2020-04-19   \n",
       "2                             서울특별시 광진구 능동로40길 19  생활,편의 > 미용실  2020-04-19   \n",
       "3                            서울특별시 강북구 인수봉로12길 63  생활,편의 > 미용실  2020-04-19   \n",
       "4                          서울특별시 관악구 난곡로 367 경신빌딩  생활,편의 > 미용실  2020-04-19   \n",
       "\n",
       "  disctrict  \n",
       "0       서초구  \n",
       "1       도봉구  \n",
       "2       광진구  \n",
       "3       강북구  \n",
       "4       관악구  "
      ]
     },
     "execution_count": 8,
     "metadata": {},
     "output_type": "execute_result"
    }
   ],
   "source": [
    "search_data = pd.merge(nan_data, input_data, left_on='store_id', right_on='store_id')\n",
    "search_data.head()"
   ]
  },
  {
   "cell_type": "code",
   "execution_count": 9,
   "metadata": {},
   "outputs": [],
   "source": [
    "def start(start_store_name: str):\n",
    "    options = webdriver.ChromeOptions()\n",
    "\n",
    "    options.add_argument('--no-sandbox')\n",
    "    options.add_argument('--disable-dev-shm-usage')\n",
    "    options.add_argument('User-Agent=Mozilla/5.0 (Windows NT 10.0; Win64; x64) AppleWebKit/537.36 (KHTML, like Gecko) Chrome/80.0.3987.149 Safari/537.36')\n",
    "    options.add_argument(\"Accept=text/html,application/xhtml+xml,application/xml;q=0.9,imgwebp,*/*;q=0.8\")\n",
    "    \n",
    "    driver = webdriver.Chrome('c:/chromedriver', options=options)\n",
    "    driver.get('https://m.naver.com/')\n",
    "    \n",
    "    time.sleep(1)\n",
    "    input_box = driver.find_element_by_id('MM_SEARCH_FAKE')\n",
    "    \n",
    "    time.sleep(0.5)\n",
    "    input_box.click()\n",
    "    driver.find_element(By.ID, 'query').send_keys(start_store_name)\n",
    "    \n",
    "    driver.find_element_by_class_name('ico_sch_submit').submit()\n",
    "    \n",
    "    return driver"
   ]
  },
  {
   "cell_type": "code",
   "execution_count": 10,
   "metadata": {},
   "outputs": [],
   "source": [
    "def get_addrs(driver):\n",
    "    elems = driver.find_elements(By.CLASS_NAME, '_2TY1G ')\n",
    "    addrs = []\n",
    "    try:\n",
    "        for elem in elems:\n",
    "            arrow = elem.find_element(By.CLASS_NAME, '_1Ck7n')\n",
    "            arrow.click()\n",
    "            addrs.append(driver.find_element(By.CLASS_NAME, 'afoHe').text[6:-2])\n",
    "            arrow.click()\n",
    "    except sce.NoSuchElementException:\n",
    "        addrs = []\n",
    "    finally:\n",
    "        return addrs"
   ]
  },
  {
   "cell_type": "code",
   "execution_count": 11,
   "metadata": {},
   "outputs": [],
   "source": [
    "def get_index_addr_match(addrs: list, addrRoad: str):\n",
    "    for i, addr in enumerate(addrs):\n",
    "        if re.sub(' ', '', addr) in re.sub(' ', '', addrRoad):\n",
    "            return i\n",
    "        else:\n",
    "            continue\n",
    "    return None"
   ]
  },
  {
   "cell_type": "code",
   "execution_count": 12,
   "metadata": {},
   "outputs": [],
   "source": [
    "def click_more_btn(driver):\n",
    "    try:\n",
    "        driver.find_element(By.CLASS_NAME, '_3iTUo').click()\n",
    "        time.sleep(0.2)\n",
    "        click_more_btn(driver)\n",
    "    except sce.NoSuchElementException:\n",
    "        return"
   ]
  },
  {
   "cell_type": "code",
   "execution_count": 13,
   "metadata": {},
   "outputs": [],
   "source": [
    "# id 값 가져오기\n",
    "def get_store_id(driver):\n",
    "    url = driver.current_url\n",
    "    id = list(filter(lambda x: x.isdigit(), url.split('/')))[0]\n",
    "    return id"
   ]
  },
  {
   "cell_type": "code",
   "execution_count": 14,
   "metadata": {},
   "outputs": [],
   "source": [
    "def search_keyword(driver, keyword):\n",
    "    input_box = driver.find_element(By.ID, 'nx_query')\n",
    "    input_box.click()\n",
    "    input_box.clear()\n",
    "    input_box.send_keys(keyword)\n",
    "    \n",
    "    driver.find_element(By.CLASS_NAME, 'btn_search').submit()"
   ]
  },
  {
   "cell_type": "code",
   "execution_count": 15,
   "metadata": {},
   "outputs": [],
   "source": [
    "def get_place_info(driver, row_index):\n",
    "\n",
    "    # 네이버 플레이스 id 가져오기\n",
    "    place_store_id = get_store_id(driver)\n",
    "    # 네이버 플레이스 업소명 가져오기\n",
    "    place_store_name = driver.find_element(By.CLASS_NAME, '_3XamX').text\n",
    "    print('Get place id and name')    \n",
    "\n",
    "    try:\n",
    "        # 리뷰탭 들어가기 (기본 예약자 리뷰)\n",
    "        tabs = driver.find_elements(By.CLASS_NAME, 'H04yZ')\n",
    "        review_tab = list(filter(lambda x: x.text == '리뷰' , tabs))\n",
    "        if review_tab:\n",
    "            review_tab[0].click()\n",
    "        else:\n",
    "            count_booking = np.nan\n",
    "            count_receipt = np.nan\n",
    "            count_blog = np.nan\n",
    "            place_info = [place_store_id, place_store_name, count_booking, count_receipt, count_blog]\n",
    "            print('No review tab (tabs exist)')\n",
    "            return place_info\n",
    "    except sce.NoSuchElementException:\n",
    "        count_booking = np.nan\n",
    "        count_receipt = np.nan\n",
    "        count_blog = np.nan\n",
    "        place_info = [place_store_id, place_store_name, count_booking, count_receipt, count_blog]\n",
    "        print('No review tab (tabs NOT exist)')\n",
    "        return place_info\n",
    "    \n",
    "    try:\n",
    "        # 예약자 리뷰탭 들어가기\n",
    "        xpath_review = \"\"\"//*[@id=\"app-root\"]/div/div[2]/div[4]/div[1]/div/a[1]\"\"\"\n",
    "        driver.find_element(By.XPATH, xpath_review).click()\n",
    "        time.sleep(1.5)\n",
    "        click_more_btn(driver)\n",
    "        count_booking = len(driver.find_elements(By.CLASS_NAME, 'JIiPr'))\n",
    "        print('Get booking review count')\n",
    "    except sce.NoSuchElementException:\n",
    "        count_booking = np.nan\n",
    "        print('No booking review')\n",
    "    \n",
    "    \n",
    "    try:\n",
    "        # 영수증 리뷰 탭 들어가기\n",
    "        xpath_receipt = \"\"\"//*[@id=\"app-root\"]/div/div[2]/div[4]/div[1]/div/a[2]\"\"\"\n",
    "        driver.find_element(By.XPATH, xpath_receipt).click()\n",
    "        time.sleep(1.5)\n",
    "        click_more_btn(driver)\n",
    "        count_receipt = len(driver.find_elements(By.CLASS_NAME, '_1-41P'))\n",
    "        print('Get receipt review count')\n",
    "    except sce.NoSuchElementException:\n",
    "        count_receipt = np.nan\n",
    "        print('No receipt review')    \n",
    "    \n",
    "    try:\n",
    "        # 블로그 리뷰 탭 들어가기\n",
    "        xpath_blog = \"\"\"//*[@id=\"app-root\"]/div/div[2]/div[4]/div[1]/div/a[3]\"\"\"\n",
    "        driver.find_element(By.XPATH, xpath_blog).click()\n",
    "        time.sleep(1.5)\n",
    "        click_more_btn(driver)\n",
    "        count_blog = len(driver.find_elements(By.CLASS_NAME, '_3xK_0'))\n",
    "        print('Get blog review count')\n",
    "    except sce.NoSuchElementException:\n",
    "        count_blog = np.nan\n",
    "        print('No blog review')\n",
    "        \n",
    "    # list 생성\n",
    "    place_info = [place_store_id, place_store_name, count_booking, count_receipt, count_blog]\n",
    "    \n",
    "    print(f'[row {row_index}] Get Naver Place Info SUCCESS')\n",
    "    \n",
    "    return place_info"
   ]
  },
  {
   "cell_type": "code",
   "execution_count": 16,
   "metadata": {},
   "outputs": [],
   "source": [
    "def check_place_match(driver, addrs: list, addrRoad: str):\n",
    "\n",
    "    place_elems_one = driver.find_elements(By.ID, 'place-main-section-root')\n",
    "    place_elems_two = driver.find_elements(By.CLASS_NAME, 'place_section_header no_line type_nx')\n",
    "\n",
    "    if place_elems_one:\n",
    "        driver.find_element(By.CLASS_NAME, '_3XamX').click()\n",
    "        status = 1\n",
    "    elif place_elems_two:\n",
    "        driver.find_element(By.CLASS_NAME, '_1hEhO').click()\n",
    "        status = 1\n",
    "    elif addrs: \n",
    "        index = get_index_addr_match(addrs, addrRoad)\n",
    "        if index:\n",
    "            driver.find_elements(By.CLASS_NAME, '_1hEhO')[index].click()\n",
    "            status = 1\n",
    "        else:\n",
    "            print('지도 정보에서 매치된 미용실 없음')\n",
    "            status = 0\n",
    "    else:\n",
    "        print('해당 플레이스 정보 없음')\n",
    "        status = 0\n",
    "    \n",
    "    return status"
   ]
  },
  {
   "cell_type": "code",
   "execution_count": 17,
   "metadata": {},
   "outputs": [],
   "source": [
    "###############################################################"
   ]
  },
  {
   "cell_type": "code",
   "execution_count": 20,
   "metadata": {},
   "outputs": [],
   "source": [
    "tmp = input_data[input_data.store_name == '준오헤어 노원사거리점']"
   ]
  },
  {
   "cell_type": "code",
   "execution_count": null,
   "metadata": {},
   "outputs": [],
   "source": []
  },
  {
   "cell_type": "code",
   "execution_count": 407,
   "metadata": {},
   "outputs": [],
   "source": [
    "driver.quit()"
   ]
  },
  {
   "cell_type": "code",
   "execution_count": 23,
   "metadata": {},
   "outputs": [
    {
     "data": {
      "application/vnd.jupyter.widget-view+json": {
       "model_id": "19f322c9150a496b82ef592bea92ddd6",
       "version_major": 2,
       "version_minor": 0
      },
      "text/plain": [
       "HBox(children=(IntProgress(value=0, max=1), HTML(value='')))"
      ]
     },
     "metadata": {},
     "output_type": "display_data"
    },
    {
     "name": "stdout",
     "output_type": "stream",
     "text": [
      "[row 0] s1518997092 준오헤어 노원사거리점\n",
      "Get place id and name\n",
      "Get booking review count\n",
      "No receipt review\n",
      "No blog review\n",
      "[row 0] Get Naver Place Info SUCCESS\n",
      "place_exist : 1\n",
      "['s1518997092', '준오헤어 노원사거리점', '1518997092', '준오헤어 노원사거리점', 0, nan, nan] \n",
      "\n",
      "\n"
     ]
    },
    {
     "data": {
      "text/html": [
       "<div>\n",
       "<style scoped>\n",
       "    .dataframe tbody tr th:only-of-type {\n",
       "        vertical-align: middle;\n",
       "    }\n",
       "\n",
       "    .dataframe tbody tr th {\n",
       "        vertical-align: top;\n",
       "    }\n",
       "\n",
       "    .dataframe thead th {\n",
       "        text-align: right;\n",
       "    }\n",
       "</style>\n",
       "<table border=\"1\" class=\"dataframe\">\n",
       "  <thead>\n",
       "    <tr style=\"text-align: right;\">\n",
       "      <th></th>\n",
       "      <th>store_id</th>\n",
       "      <th>store_name</th>\n",
       "      <th>place_store_id</th>\n",
       "      <th>place_store_name</th>\n",
       "      <th>booking</th>\n",
       "      <th>receipt</th>\n",
       "      <th>blog</th>\n",
       "    </tr>\n",
       "  </thead>\n",
       "  <tbody>\n",
       "    <tr>\n",
       "      <td>0</td>\n",
       "      <td>s1518997092</td>\n",
       "      <td>준오헤어 노원사거리점</td>\n",
       "      <td>1518997092</td>\n",
       "      <td>준오헤어 노원사거리점</td>\n",
       "      <td>0</td>\n",
       "      <td>NaN</td>\n",
       "      <td>NaN</td>\n",
       "    </tr>\n",
       "  </tbody>\n",
       "</table>\n",
       "</div>"
      ],
      "text/plain": [
       "      store_id   store_name place_store_id place_store_name  booking  receipt  \\\n",
       "0  s1518997092  준오헤어 노원사거리점     1518997092      준오헤어 노원사거리점        0      NaN   \n",
       "\n",
       "   blog  \n",
       "0   NaN  "
      ]
     },
     "execution_count": 23,
     "metadata": {},
     "output_type": "execute_result"
    }
   ],
   "source": [
    "# def main(search_data: DataFrame):\n",
    "place_infos = []\n",
    "place_exist = 0\n",
    "for row_index in tqdm.tnrange(len(tmp)):\n",
    "    store_id = tmp.iloc[row_index].store_id\n",
    "    store_name = tmp.iloc[row_index].store_name\n",
    "    addrRoad = tmp.iloc[row_index].addrRoad\n",
    "    \n",
    "    print(f'[row {row_index}] {store_id} {store_name}')\n",
    "    \n",
    "    # 첫번째 검색\n",
    "    if row_index == 0:\n",
    "        driver = start(store_name)\n",
    "    # 두번째 이후 검색\n",
    "    else:\n",
    "        if place_exist:\n",
    "            # 검색창으로 돌아가기\n",
    "#             xpath_goback_search = \"\"\"//*[@id=\"app-root\"]/div/div[2]/footer/a\"\"\"\n",
    "#             driver.find_element(By.CLASS_NAME, '_1NKY0').click()\n",
    "            w = WebDriverWait(driver, 15)\n",
    "            elem = w.until(EC.element_to_be_clickable((By.CLASS_NAME, '_1NKY0')))\n",
    "            try:\n",
    "                #elem.click()\n",
    "                #time.sleep(0.5)\n",
    "                #elem.click()\n",
    "                elem.send_keys(Keys.ENTER)\n",
    "\n",
    "            except sce.StaleElementReferenceException:            \n",
    "                pass\n",
    "            print('통합검색 결과보기 클릭!')\n",
    "            time.sleep(1)\n",
    "        else:\n",
    "            pass\n",
    "\n",
    "        # 검색\n",
    "        search_keyword(driver, store_name)\n",
    "\n",
    "    addrs = get_addrs(driver)\n",
    "    status = check_place_match(driver, addrs, addrRoad)\n",
    "\n",
    "    if status:\n",
    "        place_exist = 1\n",
    "        place_info = get_place_info(driver, row_index)\n",
    "    else:\n",
    "        place_exist = 0\n",
    "        place_info = [np.nan] * 5\n",
    "    \n",
    "    print('place_exist :', place_exist)\n",
    "    place_info = [store_id, store_name] + place_info\n",
    "    print(place_info, '\\n')\n",
    "    place_infos.append(place_info)\n",
    "\n",
    "naver_search_result = DataFrame(place_infos, columns=['store_id', 'store_name', 'place_store_id', 'place_store_name', 'booking', 'receipt', 'blog'])\n",
    "naver_search_result"
   ]
  },
  {
   "cell_type": "code",
   "execution_count": null,
   "metadata": {},
   "outputs": [],
   "source": [
    "place_infos"
   ]
  },
  {
   "cell_type": "code",
   "execution_count": null,
   "metadata": {},
   "outputs": [],
   "source": [
    "naver_search_result"
   ]
  },
  {
   "cell_type": "code",
   "execution_count": 409,
   "metadata": {},
   "outputs": [
    {
     "data": {
      "text/plain": [
       "0"
      ]
     },
     "execution_count": 409,
     "metadata": {},
     "output_type": "execute_result"
    }
   ],
   "source": [
    "driver.execute_script(\"return window.pageYOffset;\")"
   ]
  },
  {
   "cell_type": "code",
   "execution_count": null,
   "metadata": {},
   "outputs": [],
   "source": []
  },
  {
   "cell_type": "code",
   "execution_count": null,
   "metadata": {},
   "outputs": [],
   "source": []
  },
  {
   "cell_type": "code",
   "execution_count": 336,
   "metadata": {},
   "outputs": [],
   "source": [
    "driver.quit()"
   ]
  },
  {
   "cell_type": "code",
   "execution_count": 337,
   "metadata": {},
   "outputs": [
    {
     "name": "stdout",
     "output_type": "stream",
     "text": [
      "[row 0] s11868905 렉시온헤어\n",
      "해당 플레이스 정보 없음\n",
      "place_exist : 0\n",
      "['s11868905', '렉시온헤어', nan, nan, nan, nan, nan] \n",
      "\n"
     ]
    }
   ],
   "source": [
    "# def main(search_data: DataFrame):\n",
    "place_infos = []\n",
    "place_exist = 0\n",
    "\n",
    "row_index = 0\n",
    "\n",
    "store_id = search_data[1:].iloc[row_index].store_id\n",
    "store_name = search_data[1:].iloc[row_index].store_name_x\n",
    "addrRoad = search_data[1:].iloc[row_index].addrRoad\n",
    "\n",
    "print(f'[row {row_index}] {store_id} {store_name}')\n",
    "\n",
    "# 첫번째 검색\n",
    "if row_index == 0:\n",
    "    driver = start(store_name)\n",
    "# 두번째 이후 검색\n",
    "else:\n",
    "    if place_exist:\n",
    "        # 검색창으로 돌아가기\n",
    "#             xpath_goback_search = \"\"\"//*[@id=\"app-root\"]/div/div[2]/footer/a\"\"\"\n",
    "#             driver.find_element(By.CLASS_NAME, '_1NKY0').click()\n",
    "        w = WebDriverWait(driver, 15)\n",
    "        elem = w.until(EC.element_to_be_clickable((By.CLASS_NAME, '_1NKY0')))\n",
    "        elem.click()\n",
    "        print('통합검색 결과보기 클릭!')\n",
    "        time.sleep(1)\n",
    "    else:\n",
    "        pass\n",
    "\n",
    "    # 검색\n",
    "    search_keyword(driver, store_name)\n",
    "\n",
    "addrs = get_addrs(driver)\n",
    "status = check_place_match(driver, addrs, addrRoad)\n",
    "\n",
    "if status:\n",
    "    place_exist = 1\n",
    "    place_info = get_place_info(driver, row_index)\n",
    "else:\n",
    "    place_exist = 0\n",
    "    place_info = [np.nan] * 5\n",
    "\n",
    "print('place_exist :', place_exist)\n",
    "place_info = [store_id, store_name] + place_info\n",
    "print(place_info, '\\n')\n",
    "place_infos.append(place_info)\n"
   ]
  },
  {
   "cell_type": "code",
   "execution_count": 338,
   "metadata": {},
   "outputs": [
    {
     "name": "stdout",
     "output_type": "stream",
     "text": [
      "[row 1] s1824822666 멋지다 당신샵\n",
      "Get place id and name\n",
      "No review tab (tabs exist)\n",
      "place_exist : 1\n",
      "['s1824822666', '멋지다 당신샵', '1200071573', '멋지다당신', nan, nan, nan] \n",
      "\n"
     ]
    }
   ],
   "source": [
    "row_index = 1\n",
    "\n",
    "store_id = search_data[1:].iloc[row_index].store_id\n",
    "store_name = search_data[1:].iloc[row_index].store_name_x\n",
    "addrRoad = search_data[1:].iloc[row_index].addrRoad\n",
    "\n",
    "print(f'[row {row_index}] {store_id} {store_name}')\n",
    "\n",
    "# 첫번째 검색\n",
    "if row_index == 0:\n",
    "    driver = start(store_name)\n",
    "# 두번째 이후 검색\n",
    "else:\n",
    "    if place_exist:\n",
    "        # 검색창으로 돌아가기\n",
    "#             xpath_goback_search = \"\"\"//*[@id=\"app-root\"]/div/div[2]/footer/a\"\"\"\n",
    "#             driver.find_element(By.CLASS_NAME, '_1NKY0').click()\n",
    "        w = WebDriverWait(driver, 15)\n",
    "        elem = w.until(EC.element_to_be_clickable((By.CLASS_NAME, '_1NKY0')))\n",
    "        elem.click()\n",
    "        print('통합검색 결과보기 클릭!')\n",
    "        time.sleep(1)\n",
    "    else:\n",
    "        pass\n",
    "\n",
    "    # 검색\n",
    "    search_keyword(driver, store_name)\n",
    "\n",
    "addrs = get_addrs(driver)\n",
    "status = check_place_match(driver, addrs, addrRoad)\n",
    "\n",
    "if status:\n",
    "    place_exist = 1\n",
    "    place_info = get_place_info(driver, row_index)\n",
    "else:\n",
    "    place_exist = 0\n",
    "    place_info = [np.nan] * 5\n",
    "\n",
    "print('place_exist :', place_exist)\n",
    "place_info = [store_id, store_name] + place_info\n",
    "print(place_info, '\\n')\n",
    "place_infos.append(place_info)\n"
   ]
  },
  {
   "cell_type": "code",
   "execution_count": 334,
   "metadata": {},
   "outputs": [
    {
     "name": "stdout",
     "output_type": "stream",
     "text": [
      "[row 2] s18605329 헤어마을\n"
     ]
    }
   ],
   "source": [
    "row_index = 2\n",
    "\n",
    "store_id = search_data[1:].iloc[row_index].store_id\n",
    "store_name = search_data[1:].iloc[row_index].store_name_x\n",
    "addrRoad = search_data[1:].iloc[row_index].addrRoad\n",
    "\n",
    "print(f'[row {row_index}] {store_id} {store_name}')"
   ]
  },
  {
   "cell_type": "code",
   "execution_count": 357,
   "metadata": {},
   "outputs": [],
   "source": [
    "w = WebDriverWait(driver, 15)\n",
    "elem = w.until(EC.element_to_be_clickable((By.CLASS_NAME, '_1NKY0')))\n",
    "elem.click()\n",
    "# print('통합검색 결과보기 클릭!')\n",
    "# time.sleep(1)"
   ]
  },
  {
   "cell_type": "code",
   "execution_count": 358,
   "metadata": {},
   "outputs": [],
   "source": [
    "elem.click()"
   ]
  },
  {
   "cell_type": "code",
   "execution_count": null,
   "metadata": {},
   "outputs": [],
   "source": [
    "# 검색\n",
    "search_keyword(driver, store_name)\n",
    "\n",
    "addrs = get_addrs(driver)\n",
    "status = check_place_match(driver, addrs, addrRoad)\n",
    "\n",
    "if status:\n",
    "    place_exist = 1\n",
    "    place_info = get_place_info(driver, row_index)\n",
    "else:\n",
    "    place_exist = 0\n",
    "    place_info = [np.nan] * 5\n",
    "\n",
    "print('place_exist :', place_exist)\n",
    "place_info = [store_id, store_name] + place_info\n",
    "print(place_info, '\\n')\n",
    "place_infos.append(place_info)"
   ]
  },
  {
   "cell_type": "code",
   "execution_count": null,
   "metadata": {},
   "outputs": [],
   "source": []
  },
  {
   "cell_type": "code",
   "execution_count": null,
   "metadata": {},
   "outputs": [],
   "source": []
  },
  {
   "cell_type": "code",
   "execution_count": null,
   "metadata": {},
   "outputs": [],
   "source": []
  },
  {
   "cell_type": "code",
   "execution_count": null,
   "metadata": {},
   "outputs": [],
   "source": []
  },
  {
   "cell_type": "code",
   "execution_count": null,
   "metadata": {},
   "outputs": [],
   "source": []
  },
  {
   "cell_type": "code",
   "execution_count": null,
   "metadata": {},
   "outputs": [],
   "source": []
  },
  {
   "cell_type": "code",
   "execution_count": null,
   "metadata": {},
   "outputs": [],
   "source": []
  },
  {
   "cell_type": "code",
   "execution_count": 36,
   "metadata": {},
   "outputs": [],
   "source": [
    "driver.find_element(By.ID, 'query').send_keys(start_store_name)"
   ]
  },
  {
   "cell_type": "code",
   "execution_count": null,
   "metadata": {},
   "outputs": [],
   "source": [
    "driver.find_element_by_class_name('ico_sch_submit').submit()"
   ]
  },
  {
   "cell_type": "code",
   "execution_count": null,
   "metadata": {},
   "outputs": [],
   "source": [
    "main(search_data)"
   ]
  },
  {
   "cell_type": "code",
   "execution_count": null,
   "metadata": {},
   "outputs": [],
   "source": [
    "xpath_booking = \"\"\"//*[@id=\"app-root\"]/div/div[2]/div[4]/div/div[9]/div[2]/a\"\"\""
   ]
  },
  {
   "cell_type": "code",
   "execution_count": 263,
   "metadata": {},
   "outputs": [],
   "source": [
    "xpath_review = \"\"\"//*[@id=\"app-root\"]/div/div[2]/div[3]/div/div/a[6]\"\"\""
   ]
  },
  {
   "cell_type": "code",
   "execution_count": 264,
   "metadata": {},
   "outputs": [],
   "source": [
    "driver.find_element(By.XPATH, xpath_review).click()"
   ]
  },
  {
   "cell_type": "code",
   "execution_count": 265,
   "metadata": {},
   "outputs": [],
   "source": [
    "xpath_more_btn = \"\"\"//*[@id=\"app-root\"]/div/div[2]/div[4]/div[2]/div[4]/div[2]/a\"\"\""
   ]
  },
  {
   "cell_type": "code",
   "execution_count": 297,
   "metadata": {},
   "outputs": [],
   "source": [
    "xpath_reciept = \"\"\"//*[@id=\"app-root\"]/div/div[2]/div[4]/div[1]/div/a[2]\"\"\"\n",
    "driver.find_element(By.XPATH, xpath_reciept).click()"
   ]
  },
  {
   "cell_type": "code",
   "execution_count": 298,
   "metadata": {},
   "outputs": [],
   "source": [
    "xpath_blog = \"\"\"//*[@id=\"app-root\"]/div/div[2]/div[4]/div[1]/div/a[3]\"\"\"\n",
    "driver.find_element(By.XPATH, xpath_blog).click()"
   ]
  },
  {
   "cell_type": "code",
   "execution_count": 304,
   "metadata": {},
   "outputs": [],
   "source": [
    "click_more_btn(driver)"
   ]
  },
  {
   "cell_type": "code",
   "execution_count": null,
   "metadata": {},
   "outputs": [],
   "source": []
  },
  {
   "cell_type": "code",
   "execution_count": null,
   "metadata": {},
   "outputs": [],
   "source": []
  },
  {
   "cell_type": "code",
   "execution_count": null,
   "metadata": {},
   "outputs": [],
   "source": []
  },
  {
   "cell_type": "code",
   "execution_count": 48,
   "metadata": {},
   "outputs": [
    {
     "data": {
      "text/plain": [
       "'325908825'"
      ]
     },
     "execution_count": 48,
     "metadata": {},
     "output_type": "execute_result"
    }
   ],
   "source": []
  },
  {
   "cell_type": "code",
   "execution_count": null,
   "metadata": {},
   "outputs": [],
   "source": []
  },
  {
   "cell_type": "code",
   "execution_count": null,
   "metadata": {},
   "outputs": [],
   "source": [
    "# 지도정보\n",
    "'_2g5fr '"
   ]
  },
  {
   "cell_type": "code",
   "execution_count": 251,
   "metadata": {},
   "outputs": [
    {
     "data": {
      "text/plain": [
       "5"
      ]
     },
     "execution_count": 251,
     "metadata": {},
     "output_type": "execute_result"
    }
   ],
   "source": [
    "name = driver.find_elements(By.CLASS_NAME, '_1hEhO')\n",
    "len(name)"
   ]
  },
  {
   "cell_type": "code",
   "execution_count": null,
   "metadata": {},
   "outputs": [],
   "source": []
  },
  {
   "cell_type": "code",
   "execution_count": 88,
   "metadata": {},
   "outputs": [],
   "source": [
    "next_input_box = driver.find_element_by_id('nx_query')"
   ]
  },
  {
   "cell_type": "code",
   "execution_count": 199,
   "metadata": {},
   "outputs": [
    {
     "data": {
      "text/plain": [
       "'헤어마을'"
      ]
     },
     "execution_count": 199,
     "metadata": {},
     "output_type": "execute_result"
    }
   ],
   "source": [
    "start_store_name = search_data.iloc[0].store_name_x\n",
    "start_store_name"
   ]
  },
  {
   "cell_type": "code",
   "execution_count": 95,
   "metadata": {},
   "outputs": [],
   "source": [
    "#input_box.clear()\n",
    "#input_box.send_keys(tmp_store_name)\n",
    "\n",
    "next_input_box.clear()\n",
    "next_input_box.send_keys(tmp_store_name)"
   ]
  },
  {
   "cell_type": "code",
   "execution_count": 97,
   "metadata": {},
   "outputs": [],
   "source": [
    "# 검색버튼 \n",
    "#driver.find_element_by_class_name('ico_sch_submit').submit()\n",
    "\n",
    "# 다음 검색 버튼\n",
    "driver.find_element_by_class_name('btn_search').submit()"
   ]
  },
  {
   "cell_type": "code",
   "execution_count": 185,
   "metadata": {},
   "outputs": [
    {
     "data": {
      "text/plain": [
       "5"
      ]
     },
     "execution_count": 185,
     "metadata": {},
     "output_type": "execute_result"
    }
   ],
   "source": [
    "# # 업소이름\n",
    "# title = driver.find_elements(By.CLASS_NAME, 'es3Ot')\n",
    "# len(title)"
   ]
  },
  {
   "cell_type": "code",
   "execution_count": null,
   "metadata": {},
   "outputs": [],
   "source": []
  },
  {
   "cell_type": "code",
   "execution_count": null,
   "metadata": {},
   "outputs": [],
   "source": []
  },
  {
   "cell_type": "code",
   "execution_count": null,
   "metadata": {},
   "outputs": [],
   "source": []
  },
  {
   "cell_type": "code",
   "execution_count": null,
   "metadata": {},
   "outputs": [],
   "source": []
  },
  {
   "cell_type": "code",
   "execution_count": null,
   "metadata": {},
   "outputs": [],
   "source": []
  },
  {
   "cell_type": "code",
   "execution_count": null,
   "metadata": {},
   "outputs": [],
   "source": []
  },
  {
   "cell_type": "code",
   "execution_count": 84,
   "metadata": {},
   "outputs": [
    {
     "name": "stdout",
     "output_type": "stream",
     "text": [
      "no result\n"
     ]
    }
   ],
   "source": [
    "# 검색결과화면 +더보기\n",
    "def click_more_btn_until_end(driver):\n",
    "    try:\n",
    "        driver.find_element_by_class_name('_1kcg0').click()\n",
    "        time.sleep(1)\n",
    "        click_more_btn_until_end(driver)\n",
    "    except sce.NoSuchElementException:\n",
    "        return"
   ]
  },
  {
   "cell_type": "code",
   "execution_count": 68,
   "metadata": {},
   "outputs": [
    {
     "data": {
      "text/plain": [
       "'325908825'"
      ]
     },
     "execution_count": 68,
     "metadata": {},
     "output_type": "execute_result"
    }
   ],
   "source": [
    "# id 값 가져오기\n",
    "id = list(filter(lambda x: x.isdigit(), url.split('/')))[0]\n",
    "id"
   ]
  },
  {
   "cell_type": "code",
   "execution_count": 41,
   "metadata": {},
   "outputs": [],
   "source": [
    "# 블로그 리뷰 더보기\n",
    "driver.find_element_by_class_name('H04yZ').click()"
   ]
  },
  {
   "cell_type": "code",
   "execution_count": null,
   "metadata": {},
   "outputs": [],
   "source": [
    "# 예약자 리뷰 탭 : _3ZOC7\n",
    "# 영수증 리뷰 탭 : _3ZOC7\n",
    "# 블로그 리뷰 탭 : _3ZOC7"
   ]
  },
  {
   "cell_type": "code",
   "execution_count": 42,
   "metadata": {},
   "outputs": [],
   "source": [
    "reivew_tabs = driver.find_elements_by_class_name('_3ZOC7')"
   ]
  },
  {
   "cell_type": "code",
   "execution_count": 43,
   "metadata": {},
   "outputs": [],
   "source": [
    "# 블로그 리뷰로 들어가기\n",
    "reivew_tabs[2].click()"
   ]
  },
  {
   "cell_type": "code",
   "execution_count": 63,
   "metadata": {},
   "outputs": [],
   "source": [
    "# 더보기 버튼\n",
    "try:\n",
    "    driver.find_element_by_class_name('_3iTUo').click()\n",
    "except sce.NoSuchElementException:\n",
    "    pass"
   ]
  },
  {
   "cell_type": "code",
   "execution_count": 61,
   "metadata": {},
   "outputs": [],
   "source": [
    "reviews = driver.find_elements_by_class_name('_3xK_0')"
   ]
  },
  {
   "cell_type": "code",
   "execution_count": 62,
   "metadata": {},
   "outputs": [
    {
     "data": {
      "text/plain": [
       "100"
      ]
     },
     "execution_count": 62,
     "metadata": {},
     "output_type": "execute_result"
    }
   ],
   "source": [
    "len(reviews)"
   ]
  },
  {
   "cell_type": "code",
   "execution_count": 66,
   "metadata": {},
   "outputs": [
    {
     "data": {
      "text/plain": [
       "'https://m.place.naver.com/hairshop/325908825/review/ugc'"
      ]
     },
     "execution_count": 66,
     "metadata": {},
     "output_type": "execute_result"
    }
   ],
   "source": [
    "url = driver.current_url\n",
    "url"
   ]
  },
  {
   "cell_type": "code",
   "execution_count": 67,
   "metadata": {},
   "outputs": [
    {
     "data": {
      "text/plain": [
       "'325908825'"
      ]
     },
     "execution_count": 67,
     "metadata": {},
     "output_type": "execute_result"
    }
   ],
   "source": [
    "list(filter(lambda x: x.isdigit(), url.split('/')))[0]"
   ]
  },
  {
   "cell_type": "code",
   "execution_count": 13,
   "metadata": {},
   "outputs": [],
   "source": [
    "# driver.quit()"
   ]
  }
 ],
 "metadata": {
  "kernelspec": {
   "display_name": "Python 3",
   "language": "python",
   "name": "python3"
  },
  "language_info": {
   "codemirror_mode": {
    "name": "ipython",
    "version": 3
   },
   "file_extension": ".py",
   "mimetype": "text/x-python",
   "name": "python",
   "nbconvert_exporter": "python",
   "pygments_lexer": "ipython3",
   "version": "3.7.4"
  }
 },
 "nbformat": 4,
 "nbformat_minor": 2
}
