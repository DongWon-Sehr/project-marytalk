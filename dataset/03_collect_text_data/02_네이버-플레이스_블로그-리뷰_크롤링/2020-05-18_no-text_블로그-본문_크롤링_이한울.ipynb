{
 "cells": [
  {
   "cell_type": "markdown",
   "metadata": {},
   "source": [
    "# 네이버 플레이스 블로그 리뷰 크롤링\n",
    "#### 2020-05-10 (일) 이한울\n",
    "---\n",
    "- 2020-05-10 (일): 플레이스 블로그 리뷰 긁어오기 및 스레딩 적용 완료\n",
    "---\n",
    "#### 2020-05-11 (월) 이한울\n",
    "---\n",
    "- 스레딩 실행 창에서 driver 경로를 본인의 크롬 드라이버가 있는 경로로 설정 후 실행\n",
    "- time.sleep을 넉넉하게 주어야 HTTP 에러를 최대한 회피할 수 있습니다.\n",
    "---\n",
    "#### 2020-05-14 (목) 이한울\n",
    "---\n",
    "- 구글 드라이브 > 팀프로젝트 폴더 > [00]...마리톡 > [03] 데이터 > [03] 네이버 플레이스 리뷰 크롤링 > **naver_place_count_total_2020-05-01_final.csv** 파일을 다운로드, 원하는 경로로 이동시킨 뒤 진행해야 합니다."
   ]
  },
  {
   "cell_type": "code",
   "execution_count": 115,
   "metadata": {},
   "outputs": [],
   "source": [
    "import  urllib.request\n",
    "import selenium\n",
    "from bs4 import BeautifulSoup\n",
    "import requests\n",
    "from urllib.request import urlopen\n",
    "from requests import ConnectionError, HTTPError, Timeout, TooManyRedirects\n",
    "import urllib3\n",
    "\n",
    "from pandas import Series, DataFrame\n",
    "import pandas as pd\n",
    "import numpy as np\n",
    "\n",
    "from datetime import datetime\n",
    "import time\n",
    "import sys\n",
    "import math\n",
    "import re\n",
    "from tqdm import tqdm, tqdm_notebook\n",
    "\n",
    "import selenium.common.exceptions as sce\n",
    "from selenium.webdriver.common.by import By\n",
    "from selenium.webdriver import Chrome\n",
    "from selenium.webdriver.common.keys import Keys\n",
    "from selenium import webdriver\n",
    "\n",
    "from queue import Queue\n",
    "from multiprocessing.pool import ThreadPool\n",
    "from threading import Thread\n",
    "from multiprocessing import Pool\n",
    "from concurrent.futures import ThreadPoolExecutor\n",
    "import concurrent.futures\n",
    "\n",
    "import glob\n",
    "import fnmatch"
   ]
  },
  {
   "cell_type": "code",
   "execution_count": 116,
   "metadata": {},
   "outputs": [],
   "source": [
    "# 블로그 검색 결과를 저장할 DataFrame 생성\n",
    "df_blog_review = \\\n",
    "DataFrame(columns=['store_id', 'store_name', 'title', 'writer', 'link', 'summary', 'blog_name', 'original_index'])"
   ]
  },
  {
   "cell_type": "code",
   "execution_count": 117,
   "metadata": {},
   "outputs": [],
   "source": [
    "df_blog_error = DataFrame(columns=['store_id','store_name','error_code', 'original_index'])"
   ]
  },
  {
   "cell_type": "code",
   "execution_count": 118,
   "metadata": {},
   "outputs": [],
   "source": [
    "df_blog_empty = DataFrame(columns=['store_id','store_name','original_index','blog_tab'])"
   ]
  },
  {
   "cell_type": "code",
   "execution_count": 119,
   "metadata": {},
   "outputs": [],
   "source": [
    "# 블로그 본문을 저장할 빈 DataFrame 생성\n",
    "df_text = DataFrame(columns=['store_id', 'store_name', 'link', 'main text', 'original_index'])"
   ]
  },
  {
   "cell_type": "code",
   "execution_count": 120,
   "metadata": {},
   "outputs": [
    {
     "data": {
      "text/html": [
       "<div>\n",
       "<style scoped>\n",
       "    .dataframe tbody tr th:only-of-type {\n",
       "        vertical-align: middle;\n",
       "    }\n",
       "\n",
       "    .dataframe tbody tr th {\n",
       "        vertical-align: top;\n",
       "    }\n",
       "\n",
       "    .dataframe thead th {\n",
       "        text-align: right;\n",
       "    }\n",
       "</style>\n",
       "<table border=\"1\" class=\"dataframe\">\n",
       "  <thead>\n",
       "    <tr style=\"text-align: right;\">\n",
       "      <th></th>\n",
       "      <th>store_id</th>\n",
       "      <th>store_id_only_num</th>\n",
       "      <th>store_name</th>\n",
       "      <th>booking</th>\n",
       "      <th>receipt</th>\n",
       "      <th>blog</th>\n",
       "      <th>total</th>\n",
       "    </tr>\n",
       "  </thead>\n",
       "  <tbody>\n",
       "    <tr>\n",
       "      <td>0</td>\n",
       "      <td>s1518997092</td>\n",
       "      <td>1518997092</td>\n",
       "      <td>준오헤어 노원사거리점</td>\n",
       "      <td>2015.0</td>\n",
       "      <td>3.0</td>\n",
       "      <td>15.0</td>\n",
       "      <td>2033.0</td>\n",
       "    </tr>\n",
       "    <tr>\n",
       "      <td>1</td>\n",
       "      <td>s1571970153</td>\n",
       "      <td>1571970153</td>\n",
       "      <td>차홍룸 홍대점</td>\n",
       "      <td>2009.0</td>\n",
       "      <td>1.0</td>\n",
       "      <td>10.0</td>\n",
       "      <td>2020.0</td>\n",
       "    </tr>\n",
       "    <tr>\n",
       "      <td>2</td>\n",
       "      <td>s1142939643</td>\n",
       "      <td>1142939643</td>\n",
       "      <td>차홍룸 용산센트럴점</td>\n",
       "      <td>1871.0</td>\n",
       "      <td>3.0</td>\n",
       "      <td>11.0</td>\n",
       "      <td>1885.0</td>\n",
       "    </tr>\n",
       "    <tr>\n",
       "      <td>3</td>\n",
       "      <td>s1481443590</td>\n",
       "      <td>1481443590</td>\n",
       "      <td>차홍룸 용산점</td>\n",
       "      <td>1541.0</td>\n",
       "      <td>2.0</td>\n",
       "      <td>11.0</td>\n",
       "      <td>1554.0</td>\n",
       "    </tr>\n",
       "    <tr>\n",
       "      <td>4</td>\n",
       "      <td>s1177346002</td>\n",
       "      <td>1177346002</td>\n",
       "      <td>차홍룸 양재점</td>\n",
       "      <td>1373.0</td>\n",
       "      <td>1.0</td>\n",
       "      <td>10.0</td>\n",
       "      <td>1384.0</td>\n",
       "    </tr>\n",
       "    <tr>\n",
       "      <td>...</td>\n",
       "      <td>...</td>\n",
       "      <td>...</td>\n",
       "      <td>...</td>\n",
       "      <td>...</td>\n",
       "      <td>...</td>\n",
       "      <td>...</td>\n",
       "      <td>...</td>\n",
       "    </tr>\n",
       "    <tr>\n",
       "      <td>2722</td>\n",
       "      <td>s38257322</td>\n",
       "      <td>38257322</td>\n",
       "      <td>바바헤어 대치점</td>\n",
       "      <td>1.0</td>\n",
       "      <td>1.0</td>\n",
       "      <td>2.0</td>\n",
       "      <td>4.0</td>\n",
       "    </tr>\n",
       "    <tr>\n",
       "      <td>2723</td>\n",
       "      <td>s1069634711</td>\n",
       "      <td>1069634711</td>\n",
       "      <td>정환헤어샵</td>\n",
       "      <td>1.0</td>\n",
       "      <td>1.0</td>\n",
       "      <td>2.0</td>\n",
       "      <td>4.0</td>\n",
       "    </tr>\n",
       "    <tr>\n",
       "      <td>2724</td>\n",
       "      <td>s20852762</td>\n",
       "      <td>20852762</td>\n",
       "      <td>머리짱헤어샵</td>\n",
       "      <td>1.0</td>\n",
       "      <td>2.0</td>\n",
       "      <td>1.0</td>\n",
       "      <td>4.0</td>\n",
       "    </tr>\n",
       "    <tr>\n",
       "      <td>2725</td>\n",
       "      <td>s36091089</td>\n",
       "      <td>36091089</td>\n",
       "      <td>살롱160</td>\n",
       "      <td>1.0</td>\n",
       "      <td>1.0</td>\n",
       "      <td>2.0</td>\n",
       "      <td>4.0</td>\n",
       "    </tr>\n",
       "    <tr>\n",
       "      <td>2726</td>\n",
       "      <td>s18206329</td>\n",
       "      <td>18206329</td>\n",
       "      <td>주주헤어 공릉본점</td>\n",
       "      <td>1.0</td>\n",
       "      <td>1.0</td>\n",
       "      <td>2.0</td>\n",
       "      <td>4.0</td>\n",
       "    </tr>\n",
       "  </tbody>\n",
       "</table>\n",
       "<p>2727 rows × 7 columns</p>\n",
       "</div>"
      ],
      "text/plain": [
       "         store_id  store_id_only_num   store_name  booking  receipt  blog  \\\n",
       "0     s1518997092         1518997092  준오헤어 노원사거리점   2015.0      3.0  15.0   \n",
       "1     s1571970153         1571970153      차홍룸 홍대점   2009.0      1.0  10.0   \n",
       "2     s1142939643         1142939643   차홍룸 용산센트럴점   1871.0      3.0  11.0   \n",
       "3     s1481443590         1481443590      차홍룸 용산점   1541.0      2.0  11.0   \n",
       "4     s1177346002         1177346002      차홍룸 양재점   1373.0      1.0  10.0   \n",
       "...           ...                ...          ...      ...      ...   ...   \n",
       "2722    s38257322           38257322     바바헤어 대치점      1.0      1.0   2.0   \n",
       "2723  s1069634711         1069634711        정환헤어샵      1.0      1.0   2.0   \n",
       "2724    s20852762           20852762       머리짱헤어샵      1.0      2.0   1.0   \n",
       "2725    s36091089           36091089        살롱160      1.0      1.0   2.0   \n",
       "2726    s18206329           18206329    주주헤어 공릉본점      1.0      1.0   2.0   \n",
       "\n",
       "       total  \n",
       "0     2033.0  \n",
       "1     2020.0  \n",
       "2     1885.0  \n",
       "3     1554.0  \n",
       "4     1384.0  \n",
       "...      ...  \n",
       "2722     4.0  \n",
       "2723     4.0  \n",
       "2724     4.0  \n",
       "2725     4.0  \n",
       "2726     4.0  \n",
       "\n",
       "[2727 rows x 7 columns]"
      ]
     },
     "execution_count": 120,
     "metadata": {},
     "output_type": "execute_result"
    }
   ],
   "source": [
    "# 플레이스의 업소별 ID를 담은 csv파일 DataFrame으로 변환\n",
    "# 본인이 naver_place_count_total_2020-05-01_final.csv를 저장한 경로로 설정\n",
    "df_place = \\\n",
    "DataFrame(pd.read_csv('./naver-place_csv/naver_place_count_total_2020-05-01_final.csv', sep=',', header=0, index_col=0))\n",
    "df_place"
   ]
  },
  {
   "cell_type": "markdown",
   "metadata": {},
   "source": [
    "# 블로그 본문 크롤링 함수\n",
    "## 위 블로그 리뷰 섬네일 크롤링 함수 모두 완료 후 진행해야 합니다!\n",
    "#### 2020-05-13 (수) 이한울\n",
    "---\n",
    "- 헤드리스 적용\n",
    "- 스레드 미구현\n",
    "- **위 블로그 리뷰 섬네일 크롤링 함수 모두 완료 후 진행해야 합니다!**\n",
    "---\n",
    "#### 2020-05-14 (목) 이한울\n",
    "---\n",
    "- 스레드 구현 완료\n",
    "- 본인이 저장한 CSV 파일의 경로와 이름명을 read_csv를 통해 DataFrame으로 변환한 뒤 실행하셔야 합니다.\n",
    "- **반드시 위 리뷰 썸네일 크롤링 함수에서 본인의 범위까지 크롤링을 완료한 뒤 진행해야 합니다.**\n",
    "- **함수가 다 실행된 후 CSV파일로 별도로 저장해야 합니다. (함수화 하지 않음)**"
   ]
  },
  {
   "cell_type": "code",
   "execution_count": 121,
   "metadata": {
    "scrolled": true
   },
   "outputs": [
    {
     "data": {
      "text/html": [
       "<div>\n",
       "<style scoped>\n",
       "    .dataframe tbody tr th:only-of-type {\n",
       "        vertical-align: middle;\n",
       "    }\n",
       "\n",
       "    .dataframe tbody tr th {\n",
       "        vertical-align: top;\n",
       "    }\n",
       "\n",
       "    .dataframe thead th {\n",
       "        text-align: right;\n",
       "    }\n",
       "</style>\n",
       "<table border=\"1\" class=\"dataframe\">\n",
       "  <thead>\n",
       "    <tr style=\"text-align: right;\">\n",
       "      <th></th>\n",
       "      <th>store_id</th>\n",
       "      <th>store_name</th>\n",
       "      <th>link</th>\n",
       "      <th>original_index</th>\n",
       "    </tr>\n",
       "  </thead>\n",
       "  <tbody>\n",
       "    <tr>\n",
       "      <td>0</td>\n",
       "      <td>82379273</td>\n",
       "      <td>라트리헤어 스파힐 강남베르점</td>\n",
       "      <td>https://blog.naver.com/wldnjs2465/221745173453</td>\n",
       "      <td>174</td>\n",
       "    </tr>\n",
       "    <tr>\n",
       "      <td>1</td>\n",
       "      <td>82379273</td>\n",
       "      <td>라트리헤어 스파힐 강남베르점</td>\n",
       "      <td>https://blog.naver.com/wldnjs2465/221748402369</td>\n",
       "      <td>174</td>\n",
       "    </tr>\n",
       "    <tr>\n",
       "      <td>2</td>\n",
       "      <td>82379273</td>\n",
       "      <td>라트리헤어 스파힐 강남베르점</td>\n",
       "      <td>https://blog.naver.com/wldnjs2465/221740135665</td>\n",
       "      <td>174</td>\n",
       "    </tr>\n",
       "    <tr>\n",
       "      <td>3</td>\n",
       "      <td>82379273</td>\n",
       "      <td>라트리헤어 스파힐 강남베르점</td>\n",
       "      <td>https://blog.naver.com/wldnjs2465/221738311058</td>\n",
       "      <td>174</td>\n",
       "    </tr>\n",
       "    <tr>\n",
       "      <td>4</td>\n",
       "      <td>82379273</td>\n",
       "      <td>라트리헤어 스파힐 강남베르점</td>\n",
       "      <td>https://blog.naver.com/wldnjs2465/221806059676</td>\n",
       "      <td>174</td>\n",
       "    </tr>\n",
       "    <tr>\n",
       "      <td>...</td>\n",
       "      <td>...</td>\n",
       "      <td>...</td>\n",
       "      <td>...</td>\n",
       "      <td>...</td>\n",
       "    </tr>\n",
       "    <tr>\n",
       "      <td>4237</td>\n",
       "      <td>38310407</td>\n",
       "      <td>넌데일리</td>\n",
       "      <td>https://blog.naver.com/nondaily-jung/221033374741</td>\n",
       "      <td>299</td>\n",
       "    </tr>\n",
       "    <tr>\n",
       "      <td>4238</td>\n",
       "      <td>38310407</td>\n",
       "      <td>넌데일리</td>\n",
       "      <td>https://blog.naver.com/nondailyofficial/220811...</td>\n",
       "      <td>299</td>\n",
       "    </tr>\n",
       "    <tr>\n",
       "      <td>4239</td>\n",
       "      <td>38310407</td>\n",
       "      <td>넌데일리</td>\n",
       "      <td>https://blog.naver.com/nondaily-jung/221091345289</td>\n",
       "      <td>299</td>\n",
       "    </tr>\n",
       "    <tr>\n",
       "      <td>4240</td>\n",
       "      <td>38310407</td>\n",
       "      <td>넌데일리</td>\n",
       "      <td>https://blog.naver.com/nondailyofficial/220823...</td>\n",
       "      <td>299</td>\n",
       "    </tr>\n",
       "    <tr>\n",
       "      <td>4241</td>\n",
       "      <td>38310407</td>\n",
       "      <td>넌데일리</td>\n",
       "      <td>https://blog.naver.com/nondailyofficial/220818...</td>\n",
       "      <td>299</td>\n",
       "    </tr>\n",
       "  </tbody>\n",
       "</table>\n",
       "<p>4242 rows × 4 columns</p>\n",
       "</div>"
      ],
      "text/plain": [
       "      store_id       store_name  \\\n",
       "0     82379273  라트리헤어 스파힐 강남베르점   \n",
       "1     82379273  라트리헤어 스파힐 강남베르점   \n",
       "2     82379273  라트리헤어 스파힐 강남베르점   \n",
       "3     82379273  라트리헤어 스파힐 강남베르점   \n",
       "4     82379273  라트리헤어 스파힐 강남베르점   \n",
       "...        ...              ...   \n",
       "4237  38310407             넌데일리   \n",
       "4238  38310407             넌데일리   \n",
       "4239  38310407             넌데일리   \n",
       "4240  38310407             넌데일리   \n",
       "4241  38310407             넌데일리   \n",
       "\n",
       "                                                   link  original_index  \n",
       "0        https://blog.naver.com/wldnjs2465/221745173453             174  \n",
       "1        https://blog.naver.com/wldnjs2465/221748402369             174  \n",
       "2        https://blog.naver.com/wldnjs2465/221740135665             174  \n",
       "3        https://blog.naver.com/wldnjs2465/221738311058             174  \n",
       "4        https://blog.naver.com/wldnjs2465/221806059676             174  \n",
       "...                                                 ...             ...  \n",
       "4237  https://blog.naver.com/nondaily-jung/221033374741             299  \n",
       "4238  https://blog.naver.com/nondailyofficial/220811...             299  \n",
       "4239  https://blog.naver.com/nondaily-jung/221091345289             299  \n",
       "4240  https://blog.naver.com/nondailyofficial/220823...             299  \n",
       "4241  https://blog.naver.com/nondailyofficial/220818...             299  \n",
       "\n",
       "[4242 rows x 4 columns]"
      ]
     },
     "execution_count": 121,
     "metadata": {},
     "output_type": "execute_result"
    }
   ],
   "source": [
    "# 블로그리뷰 섬네일 저장 CSV 파일 읽어오기\n",
    "# 경로 직접 설정하셔야 합니다.\n",
    "csv_path = './place_review/2020-05-16_blog_no_text (0-362) (20004-25004).csv'\n",
    "df_blog_review = pd.read_csv(csv_path, sep=',', header=0, index_col=0)\n",
    "df_blog_review"
   ]
  },
  {
   "cell_type": "code",
   "execution_count": 122,
   "metadata": {},
   "outputs": [],
   "source": [
    "# 에러가 발생한 블로그를 저장할 DataFrame 생성하기\n",
    "df_text_error = DataFrame(columns=['store_id','store_name','link','original_index'])"
   ]
  },
  {
   "cell_type": "code",
   "execution_count": 123,
   "metadata": {},
   "outputs": [],
   "source": [
    "# requests status code가 200이 아닌 것들을 저장할 DataFrame 생성하기\n",
    "df_requests_error = DataFrame(columns=['store_id', 'store_name', 'error_code', 'link', 'original_index'])"
   ]
  },
  {
   "cell_type": "code",
   "execution_count": 124,
   "metadata": {},
   "outputs": [],
   "source": [
    "df_no_text = DataFrame(columns=['store_id','store_name','link','original_index'])"
   ]
  },
  {
   "cell_type": "code",
   "execution_count": 125,
   "metadata": {},
   "outputs": [],
   "source": [
    "def sub_emoji(content):\n",
    "    \n",
    "    find_txt = (content.text).strip().replace('\\n', '')\n",
    "    p = re.compile(r'[\\\\u\\w]{1,}')\n",
    "    filtered_txt = p.findall(find_txt)\n",
    "    main_txt = ' '.join(filtered_txt)\n",
    "    \n",
    "    return main_txt"
   ]
  },
  {
   "cell_type": "code",
   "execution_count": 126,
   "metadata": {},
   "outputs": [],
   "source": [
    "def main_text_save(main_txt, store_id, store_name, url):\n",
    "    \n",
    "    global df_text\n",
    "    global df_place\n",
    "    \n",
    "    original_index = \\\n",
    "    (df_place[df_place['store_id_only_num'] == store_id]['store_name'].index).item()\n",
    "    \n",
    "    df_text= df_text.append({\n",
    "          'main text' : main_txt\n",
    "        , 'store_id' : store_id\n",
    "        , 'store_name' : store_name\n",
    "        , 'link' : url\n",
    "        , 'original_index' : original_index\n",
    "    }, ignore_index=True)\n",
    "    \n",
    "    return df_text"
   ]
  },
  {
   "cell_type": "code",
   "execution_count": 127,
   "metadata": {},
   "outputs": [],
   "source": [
    "# 에러 발생 시 따로 저장할 함수 선언\n",
    "def text_error_save(store_id, store_name, url):\n",
    "    \n",
    "    global df_text_error\n",
    "    global df_place\n",
    "    \n",
    "    original_index = \\\n",
    "    (df_place[df_place['store_id_only_num'] == store_id]['store_name'].index).item()\n",
    "    \n",
    "    df_text_error = df_text_error.append({\n",
    "          'store_id' : store_id\n",
    "        , 'store_name' : store_name\n",
    "        , 'link' : url\n",
    "        , 'original_index' : original_index\n",
    "    }, ignore_index=True)\n",
    "    \n",
    "    return df_text_error"
   ]
  },
  {
   "cell_type": "code",
   "execution_count": 128,
   "metadata": {},
   "outputs": [],
   "source": [
    "def requests_error_save(store_id, store_name, error_code, url):\n",
    "    \n",
    "    global df_requests_error\n",
    "    global df_place\n",
    "    \n",
    "    original_index = \\\n",
    "    (df_place[df_place['store_id_only_num'] == store_id]['store_name'].index).item()\n",
    "    \n",
    "    df_requests_error = df_requests_error.append({\n",
    "          'store_id' : store_id\n",
    "        , 'store_name' : store_name\n",
    "        , 'error_code' : error_code\n",
    "        , 'link' : url\n",
    "        , 'original_index' : original_index\n",
    "    }, ignore_index=True)\n",
    "    \n",
    "    return df_requests_error"
   ]
  },
  {
   "cell_type": "code",
   "execution_count": 129,
   "metadata": {},
   "outputs": [],
   "source": [
    "def blog_no_text(store_id, store_name, url):\n",
    "    \n",
    "    global df_no_text\n",
    "    global df_place\n",
    "    \n",
    "    original_index = \\\n",
    "    (df_place[df_place['store_id_only_num'] == store_id]['store_name'].index).item()\n",
    "    \n",
    "    df_no_text = df_no_text.append({\n",
    "          'store_id' : store_id\n",
    "        , 'store_name' : store_name\n",
    "        , 'link' : url\n",
    "        , 'original_index' : original_index\n",
    "    }, ignore_index=True)\n",
    "    \n",
    "    return df_no_text   "
   ]
  },
  {
   "cell_type": "code",
   "execution_count": 130,
   "metadata": {},
   "outputs": [],
   "source": [
    "# requests만 사용한 블로그 본문 크롤링 코드\n",
    "# ==========================================================================\n",
    "# 2020-05-12 (화) 이한울\n",
    "# 본문을 긁어올 때에는 특별히 Action할 것이 없기 때문에\n",
    "# requests를 통해서 크롤링하는 것이 효율적일 수도 있다고 생각하여 requests만 사용\n",
    "# ==========================================================================\n",
    "\n",
    "def text_save(url):\n",
    "    \n",
    "    global df_blog_review\n",
    "    global df_text\n",
    "    global df_place\n",
    "    text_list = []\n",
    "    headers = {\"User-Agent\" : \"Mozilla/5.0 (Windows NT 10.0; Win64; x64) AppleWebKit/537.36 (KHTML, like Gecko) Chrome/81.0.4044.138 Safari/537.36\"} \n",
    "    store_id = df_blog_review[df_blog_review['link'] == url]['store_id'].iloc[0]\n",
    "    store_name = df_blog_review[df_blog_review['link'] == url]['store_name'].iloc[0]\n",
    "    \n",
    "    original_index = \\\n",
    "    (df_place[df_place['store_id_only_num'] == store_id]['store_name'].index).item()\n",
    "    url = url.replace('m.', '')\n",
    "    time.sleep(1 + np.random.rand() + np.random.rand())\n",
    "    \n",
    "    print('\\n', store_name, '의', url, '블로그의 본문 크롤링 중...\\n')\n",
    "    req = requests.get(url, headers)\n",
    "    req_status = req.status_code\n",
    "    time.sleep(1 + np.random.rand() + np.random.rand())\n",
    "    \n",
    "    if 'https://post.naver.com' in url:\n",
    "        print('네이버 포스트 리뷰입니다. 크롤링에서 제외하고 다음 블로그를 크롤링합니다.')\n",
    "        pass\n",
    "    \n",
    "    else:\n",
    "        if req_status == 200:\n",
    "\n",
    "            try:\n",
    "                soup = BeautifulSoup(req.text, 'html.parser')\n",
    "                bsb_main = soup.select('#mainFrame')\n",
    "\n",
    "                if bsb_main:\n",
    "                    for ii, blog in tqdm_notebook(enumerate(bsb_main)):\n",
    "                        b_post = blog.attrs['src']\n",
    "                        open_post = urlopen('http://blog.naver.com/' + b_post)\n",
    "                        time.sleep(2.5)\n",
    "\n",
    "                        b_html = BeautifulSoup(open_post, 'html.parser')\n",
    "                        content = b_html.find(\"div\", {\"class\": \"se_component_wrap sect_dsc __se_component_area\"})\n",
    "                        main_txt = sub_emoji(content)\n",
    "                        main_text_save(main_txt, store_id, store_name, url)\n",
    "                        print(url, '블로그의 본문 크롤링 성공!\\n')\n",
    "                        time.sleep(1.2)\n",
    "                        \n",
    "                        # 스마트에디터3 타이틀 제거 임시 적용 (클래스가 다름)\n",
    "                        if (content == None):\n",
    "                            content = b_html.find(\"div\", {\"id\": \"postViewArea\"})\n",
    "                            main_txt = sub_emoji(content)\n",
    "                            main_text_save(main_txt, store_id, store_name, url)\n",
    "                            print(url, '블로그의 본문 크롤링 성공!\\n')\n",
    "                            time.sleep(1.2)\n",
    "                            \n",
    "                        elif (content == None):\n",
    "                            content = b_html.find(\"div\", {\"class\": \"se-main-container\"})\n",
    "                            main_txt = sub_emoji(content)\n",
    "                            main_text_save(main_txt, store_id, store_name, url)\n",
    "                            print(url, '블로그의 본문 크롤링 성공!\\n')\n",
    "                            time.sleep(1.2)\n",
    "                                \n",
    "                        elif (content == None):\n",
    "                            content = b_html.find(\"div\", {\"class\" : \"se_component_wrap\"})\n",
    "                            main_txt = sub_emoji(content)\n",
    "                            main_text_save(main_txt, store_id, store_name, url)\n",
    "                            print(url, '블로그의 본문 크롤링 성공!\\n')\n",
    "                            time.sleep(1.2)\n",
    "                        \n",
    "                        else:\n",
    "                            blog_no_text(store_id, store_name, url)\n",
    "                            print('잘못된 접근이거나 삭제된 게시물입니다.')\n",
    "                            print('다음 블로그 크롤링을 진행합니다.')\n",
    "                            pass\n",
    "                                \n",
    "                else:\n",
    "                    print('HTTP 에러 코드:',req.status_code)\n",
    "                    text_error_save(store_id, store_name, url)\n",
    "\n",
    "            except sce.NoSuchElementException:\n",
    "                print('본문 크롤링 도중 에러가 발생했습니다.')\n",
    "                text_error_save(store_id, store_name, url)\n",
    "\n",
    "            except sce.NoSuchAttributeException:\n",
    "                print('본문 크롤링 도중 에러가 발생했습니다.')\n",
    "                text_error_save(store_id, store_name, url)\n",
    "\n",
    "            except sce.ElementNotSelectableException:\n",
    "                print('본문 크롤링 도중 에러가 발생했습니다.')\n",
    "                text_error_save(store_id, store_name, url)\n",
    "\n",
    "            except sce.WebDriverException:\n",
    "                print('웹 드라이버 에러 발생')\n",
    "                print('유니코드 변환 에러')\n",
    "                text_error_save(store, store_name, url)\n",
    "                \n",
    "            except AttributeError:\n",
    "                print('Attribute Error!')\n",
    "                print('Error Code:', req_status)\n",
    "                print('삭제된 게시물입니다.')\n",
    "                \n",
    "                blog_no_text(store_id, store_name, url)\n",
    "                \n",
    "        elif req_status in list(range(400, 506)):\n",
    "            print('Requests Error가 발생했습니다. df_requests_error에', store_name + '의 정보를 저장합니다.')\n",
    "            requests_error_save(store_id, store_name, req.status_code, url)\n",
    "            pass\n",
    "        \n",
    "    print('현재까지 저장된 본문의 개수: ',len(df_text), '\\n')\n",
    "    time.sleep(1.25 + np.random.rand() + np.random.rand())   \n",
    "    \n",
    "    req.close()\n",
    "    return df_text"
   ]
  },
  {
   "cell_type": "markdown",
   "metadata": {},
   "source": [
    "# 업소별 블로그 리뷰 본문 텍스트 크롤링 스레딩\n",
    "#### 2020-05-14 (목) 이한울\n",
    "---\n",
    "- 앞선 플레이스 블로그 리뷰 썸네일 크롤링 함수에서 저장된 **df_blog_review** DataFrame이나 **CSV파일**로 따로 저장해두었다면 해당 CSV파일을 DataFrame으로 읽은 후 해당 DataFrame의 길이만큼 범위를 지정해주시면 됩니다.\n",
    "- a와 end 값을 본인의 범위에 맞게 지정해주신 뒤 실행하시면 됩니다.\n",
    "- 간혹 지정된 범위까지 크롤링을 하였음에도 계속해서 실행되어 뒷 부분까지 크롤링하는 상황이 발생하니 유의해주시기 바랍니다.\n",
    "- **함수가 다 실행된 후 CSV파일로 별도로 저장해야 합니다. (함수화 하지 않음)**"
   ]
  },
  {
   "cell_type": "code",
   "execution_count": 131,
   "metadata": {},
   "outputs": [],
   "source": [
    "# 크롬 웹 드라이버 헤드리스 설정 및 웹 보안 무시\n",
    "options = webdriver.ChromeOptions()\n",
    "\n",
    "prefs = {\n",
    "    'profile.default_content_setting_values': {\n",
    "          'cookies': 2, 'images': 2, 'plugins': 2\n",
    "        , 'popups': 2, 'geolocation': 2, 'notifications': 2\n",
    "        , 'auto_select_certificate': 2, 'fullscreen': 2, 'mouselock': 2\n",
    "        , 'mixed_script': 2, 'media_stream': 2, 'media_stream_mic': 2\n",
    "        , 'media_stream_camera': 2, 'protocol_handlers': 2, 'ppapi_broker': 2\n",
    "        , 'automatic_downloads': 2, 'midi_sysex': 2, 'push_messaging': 2\n",
    "        , 'ssl_cert_decisions': 2, 'metro_switch_to_desktop': 2, 'protected_media_identifier': 2\n",
    "        , 'app_banner': 2, 'site_engagement': 2, 'durable_storage': 2\n",
    "    }\n",
    "}\n",
    "\n",
    "options.add_experimental_option('prefs', prefs)\n",
    "options.add_argument('--disable-dev-shm-usage')\n",
    "options.add_argument('User-Agent=Mozilla/5.0 (Windows NT 10.0; Win64; x64) AppleWebKit/537.36 (KHTML, like Gecko) Chrome/81.0.4044.138 Safari/537.36')\n",
    "options.add_argument(\"Accept=text/html,application/xhtml+xml,application/xml;q=0.9,imgwebp,*/*;q=0.8\")\n",
    "options.add_argument(\"start-maximized\")\n",
    "options.add_argument('--no-sandbox')\n",
    "options.add_argument(\"disable-infobars\")\n",
    "options.add_argument(\"--disable-extensions\")\n",
    "options.add_argument('headless')\n",
    "options.add_argument(\"disable-gpu\")\n",
    "options.add_argument(\"--disable-web-security\")"
   ]
  },
  {
   "cell_type": "code",
   "execution_count": null,
   "metadata": {
    "scrolled": true
   },
   "outputs": [
    {
     "data": {
      "application/vnd.jupyter.widget-view+json": {
       "model_id": "07ecd2018e844adab78099201babc2a2",
       "version_major": 2,
       "version_minor": 0
      },
      "text/plain": [
       "HBox(children=(IntProgress(value=0, max=848), HTML(value='')))"
      ]
     },
     "metadata": {},
     "output_type": "display_data"
    },
    {
     "name": "stdout",
     "output_type": "stream",
     "text": [
      "0 ~ 4의 블로그 본문 크롤링을 시작합니다.\n"
     ]
    },
    {
     "name": "stderr",
     "output_type": "stream",
     "text": [
      "C:\\Users\\82106\\Anaconda3\\lib\\site-packages\\ipykernel_launcher.py:19: FutureWarning: `item` has been deprecated and will be removed in a future version\n"
     ]
    },
    {
     "name": "stdout",
     "output_type": "stream",
     "text": [
      "\n",
      " 라트리헤어 스파힐 강남베르점 의 https://blog.naver.com/wldnjs2465/221740135665 블로그의 본문 크롤링 중...\n",
      "\n",
      "\n",
      " 라트리헤어 스파힐 강남베르점 의 https://blog.naver.com/wldnjs2465/221738311058 블로그의 본문 크롤링 중...\n",
      "\n",
      "\n",
      " 라트리헤어 스파힐 강남베르점 의 https://blog.naver.com/wldnjs2465/221748402369 블로그의 본문 크롤링 중...\n",
      "\n",
      "\n",
      " 라트리헤어 스파힐 강남베르점 의 https://blog.naver.com/wldnjs2465/221806059676 블로그의 본문 크롤링 중...\n",
      "\n",
      "\n",
      " 라트리헤어 스파힐 강남베르점 의 https://blog.naver.com/wldnjs2465/221745173453 블로그의 본문 크롤링 중...\n",
      "\n"
     ]
    },
    {
     "data": {
      "application/vnd.jupyter.widget-view+json": {
       "model_id": "2f8b93f417a14479b9af3b61f484c03d",
       "version_major": 2,
       "version_minor": 0
      },
      "text/plain": [
       "HBox(children=(IntProgress(value=1, bar_style='info', max=1), HTML(value='')))"
      ]
     },
     "metadata": {},
     "output_type": "display_data"
    },
    {
     "data": {
      "application/vnd.jupyter.widget-view+json": {
       "model_id": "52fc1abc7ba44f28a52a7eac981a713b",
       "version_major": 2,
       "version_minor": 0
      },
      "text/plain": [
       "HBox(children=(IntProgress(value=1, bar_style='info', max=1), HTML(value='')))"
      ]
     },
     "metadata": {},
     "output_type": "display_data"
    },
    {
     "data": {
      "application/vnd.jupyter.widget-view+json": {
       "model_id": "2158e1bc59744575b00b2476b904bae7",
       "version_major": 2,
       "version_minor": 0
      },
      "text/plain": [
       "HBox(children=(IntProgress(value=1, bar_style='info', max=1), HTML(value='')))"
      ]
     },
     "metadata": {},
     "output_type": "display_data"
    },
    {
     "data": {
      "application/vnd.jupyter.widget-view+json": {
       "model_id": "14773b9bbb63465f8306a62aaa89adec",
       "version_major": 2,
       "version_minor": 0
      },
      "text/plain": [
       "HBox(children=(IntProgress(value=1, bar_style='info', max=1), HTML(value='')))"
      ]
     },
     "metadata": {},
     "output_type": "display_data"
    },
    {
     "data": {
      "application/vnd.jupyter.widget-view+json": {
       "model_id": "e3f97e593a7e4ab8a6643d95ec336414",
       "version_major": 2,
       "version_minor": 0
      },
      "text/plain": [
       "HBox(children=(IntProgress(value=1, bar_style='info', max=1), HTML(value='')))"
      ]
     },
     "metadata": {},
     "output_type": "display_data"
    },
    {
     "name": "stdout",
     "output_type": "stream",
     "text": [
      "Attribute Error!\n",
      "Error Code: Attribute Error!200\n",
      "\n",
      "Error Code:삭제된 게시물입니다. 200\n",
      "\n",
      "삭제된 게시물입니다.\n"
     ]
    },
    {
     "name": "stderr",
     "output_type": "stream",
     "text": [
      "C:\\Users\\82106\\Anaconda3\\lib\\site-packages\\ipykernel_launcher.py:7: FutureWarning: `item` has been deprecated and will be removed in a future version\n",
      "  import sys\n"
     ]
    },
    {
     "name": "stdout",
     "output_type": "stream",
     "text": [
      "현재까지 저장된 본문의 개수: 현재까지 저장된 본문의 개수:   00  \n",
      "\n",
      "\n",
      "\n",
      "Attribute Error!\n",
      "Error Code: 200Attribute Error!Attribute Error!\n",
      "\n",
      "Error Code:\n",
      "삭제된 게시물입니다. Error Code:\n",
      "200 \n",
      "200현재까지 저장된 본문의 개수: 삭제된 게시물입니다.\n",
      " \n",
      "삭제된 게시물입니다.0 \n",
      "현재까지 저장된 본문의 개수: \n",
      " 현재까지 저장된 본문의 개수: 0 \n",
      " 0\n",
      " \n",
      "\n",
      "\n",
      "5 ~ 9의 블로그 본문 크롤링을 시작합니다.\n",
      "\n",
      " 라트리헤어 스파힐 강남베르점 의 https://blog.naver.com/wldnjs2465/221717132415 블로그의 본문 크롤링 중...\n",
      "\n",
      "\n",
      " 라트리헤어 스파힐 강남베르점 의 https://blog.naver.com/wldnjs2465/221702101408 블로그의 본문 크롤링 중...\n",
      "\n",
      "\n",
      " 준오헤어 남부터미널역점 의 https://blog.naver.com/alldaybunny/221749223459 블로그의 본문 크롤링 중...\n",
      "\n",
      "\n",
      " 12월애헤어 의 https://blog.naver.com/suna2572/221859573536 블로그의 본문 크롤링 중...\n",
      "\n",
      "\n",
      " 준오헤어 남부터미널역점 의 https://blog.naver.com/princess0303/221852360086 블로그의 본문 크롤링 중...\n",
      "\n"
     ]
    },
    {
     "data": {
      "application/vnd.jupyter.widget-view+json": {
       "model_id": "cd0e3ec1ea404143940598f2af93f9e1",
       "version_major": 2,
       "version_minor": 0
      },
      "text/plain": [
       "HBox(children=(IntProgress(value=1, bar_style='info', max=1), HTML(value='')))"
      ]
     },
     "metadata": {},
     "output_type": "display_data"
    },
    {
     "data": {
      "application/vnd.jupyter.widget-view+json": {
       "model_id": "6bc9501e7075490398703190b7ceb5e8",
       "version_major": 2,
       "version_minor": 0
      },
      "text/plain": [
       "HBox(children=(IntProgress(value=1, bar_style='info', max=1), HTML(value='')))"
      ]
     },
     "metadata": {},
     "output_type": "display_data"
    },
    {
     "data": {
      "application/vnd.jupyter.widget-view+json": {
       "model_id": "e1637fd7914b418c85f7ab0ef51df3a7",
       "version_major": 2,
       "version_minor": 0
      },
      "text/plain": [
       "HBox(children=(IntProgress(value=1, bar_style='info', max=1), HTML(value='')))"
      ]
     },
     "metadata": {},
     "output_type": "display_data"
    },
    {
     "data": {
      "application/vnd.jupyter.widget-view+json": {
       "model_id": "0371392f7fc4479b8218ef79097dc126",
       "version_major": 2,
       "version_minor": 0
      },
      "text/plain": [
       "HBox(children=(IntProgress(value=1, bar_style='info', max=1), HTML(value='')))"
      ]
     },
     "metadata": {},
     "output_type": "display_data"
    },
    {
     "data": {
      "application/vnd.jupyter.widget-view+json": {
       "model_id": "38e63a88a9154b5db33b33b0b06f48e2",
       "version_major": 2,
       "version_minor": 0
      },
      "text/plain": [
       "HBox(children=(IntProgress(value=1, bar_style='info', max=1), HTML(value='')))"
      ]
     },
     "metadata": {},
     "output_type": "display_data"
    },
    {
     "name": "stdout",
     "output_type": "stream",
     "text": [
      "Attribute Error!\n",
      "Error Code: 200\n",
      "삭제된 게시물입니다.\n",
      "현재까지 저장된 본문의 개수:  0 \n",
      "\n",
      "Attribute Error!\n",
      "Error Code:Attribute Error!\n",
      " 200Error Code:\n",
      "삭제된 게시물입니다. \n",
      "200현재까지 저장된 본문의 개수: \n",
      "삭제된 게시물입니다. \n",
      "Attribute Error!0현재까지 저장된 본문의 개수: \n",
      "  Error Code:0\n",
      " \n",
      " 200\n",
      "\n",
      "\n",
      "삭제된 게시물입니다.\n",
      "현재까지 저장된 본문의 개수:  0Attribute Error! \n",
      "\n",
      "Error Code: \n",
      "200\n",
      "삭제된 게시물입니다.\n",
      "현재까지 저장된 본문의 개수:  0 \n",
      "\n",
      "10 ~ 14의 블로그 본문 크롤링을 시작합니다.\n",
      "\n",
      " 12월애헤어 의 https://blog.naver.com/daseulpp/221489187036 블로그의 본문 크롤링 중...\n",
      "\n",
      "\n",
      " 12월애헤어 의 https://blog.naver.com/hjsoju/221381156833 블로그의 본문 크롤링 중...\n",
      "\n",
      "\n",
      " 12월애헤어 의 https://blog.naver.com/choibi_89/221333265559 블로그의 본문 크롤링 중...\n",
      "\n",
      "\n",
      " 12월애헤어 의 https://blog.naver.com/a10000du/221377060349 블로그의 본문 크롤링 중...\n",
      "\n",
      "\n",
      " 12월애헤어 의 https://blog.naver.com/jhryks/221377478869 블로그의 본문 크롤링 중...\n",
      "\n"
     ]
    },
    {
     "data": {
      "application/vnd.jupyter.widget-view+json": {
       "model_id": "22982df7186049aeb0930cdeeb6d7b2c",
       "version_major": 2,
       "version_minor": 0
      },
      "text/plain": [
       "HBox(children=(IntProgress(value=1, bar_style='info', max=1), HTML(value='')))"
      ]
     },
     "metadata": {},
     "output_type": "display_data"
    },
    {
     "data": {
      "application/vnd.jupyter.widget-view+json": {
       "model_id": "58fc0612b6b84214a7de44a4f4f5a9ef",
       "version_major": 2,
       "version_minor": 0
      },
      "text/plain": [
       "HBox(children=(IntProgress(value=1, bar_style='info', max=1), HTML(value='')))"
      ]
     },
     "metadata": {},
     "output_type": "display_data"
    },
    {
     "data": {
      "application/vnd.jupyter.widget-view+json": {
       "model_id": "182f9d36ee9540a9842472fee5b0761b",
       "version_major": 2,
       "version_minor": 0
      },
      "text/plain": [
       "HBox(children=(IntProgress(value=1, bar_style='info', max=1), HTML(value='')))"
      ]
     },
     "metadata": {},
     "output_type": "display_data"
    },
    {
     "data": {
      "application/vnd.jupyter.widget-view+json": {
       "model_id": "880614a641d64f80bb98deacb45466e1",
       "version_major": 2,
       "version_minor": 0
      },
      "text/plain": [
       "HBox(children=(IntProgress(value=1, bar_style='info', max=1), HTML(value='')))"
      ]
     },
     "metadata": {},
     "output_type": "display_data"
    },
    {
     "data": {
      "application/vnd.jupyter.widget-view+json": {
       "model_id": "cd12a3c0fc644afa9a7b23c131d24f8a",
       "version_major": 2,
       "version_minor": 0
      },
      "text/plain": [
       "HBox(children=(IntProgress(value=1, bar_style='info', max=1), HTML(value='')))"
      ]
     },
     "metadata": {},
     "output_type": "display_data"
    },
    {
     "name": "stdout",
     "output_type": "stream",
     "text": [
      "https://blog.naver.com/choibi_89/221333265559 블로그의 본문 크롤링 성공!\n",
      "\n",
      "https://blog.naver.com/a10000du/221377060349 블로그의 본문 크롤링 성공!\n",
      "\n",
      "Attribute Error!\n",
      "Error Code: 200\n",
      "삭제된 게시물입니다.\n",
      "현재까지 저장된 본문의 개수:  2 \n",
      "\n",
      "잘못된 접근이거나 삭제된 게시물입니다.\n",
      "다음 블로그 크롤링을 진행합니다.Attribute Error!\n",
      "\n",
      "Error Code:\n",
      " 현재까지 저장된 본문의 개수: 200 \n",
      "잘못된 접근이거나 삭제된 게시물입니다.2삭제된 게시물입니다. \n",
      "\n",
      "\n",
      "https://blog.naver.com/hjsoju/221381156833현재까지 저장된 본문의 개수:  다음 블로그 크롤링을 진행합니다.\n",
      "블로그의 본문 크롤링 성공!\n",
      "\n",
      " \n",
      "\n",
      "3현재까지 저장된 본문의 개수:   \n",
      "\n",
      "3 \n",
      "\n",
      "잘못된 접근이거나 삭제된 게시물입니다.\n",
      "다음 블로그 크롤링을 진행합니다.\n",
      "\n",
      "현재까지 저장된 본문의 개수:  3 \n",
      "\n",
      "15 ~ 19의 블로그 본문 크롤링을 시작합니다.\n",
      "\n",
      " 리안헤어 미아사거리역점 의 https://blog.naver.com/fldksgpdj901/221265836901 블로그의 본문 크롤링 중...\n",
      "\n",
      "\n",
      " 리안헤어 미아사거리역점 의 https://blog.naver.com/fldksgpdj901/221315792182 블로그의 본문 크롤링 중...\n",
      "\n",
      "\n",
      " 12월애헤어\n",
      "  의리안헤어 미아사거리역점  https://blog.naver.com/autumnchoi53/221338091898의  블로그의 본문 크롤링 중...\n",
      "https://blog.naver.com/fldksgpdj901/221276657784\n",
      " 블로그의 본문 크롤링 중...\n",
      "\n",
      "\n",
      " 리안헤어 미아사거리역점 의 https://blog.naver.com/fldksgpdj901/221279694360 블로그의 본문 크롤링 중...\n",
      "\n"
     ]
    },
    {
     "data": {
      "application/vnd.jupyter.widget-view+json": {
       "model_id": "84298fcd8dfd48bcbfd080ccff982a1e",
       "version_major": 2,
       "version_minor": 0
      },
      "text/plain": [
       "HBox(children=(IntProgress(value=1, bar_style='info', max=1), HTML(value='')))"
      ]
     },
     "metadata": {},
     "output_type": "display_data"
    },
    {
     "data": {
      "application/vnd.jupyter.widget-view+json": {
       "model_id": "6295de5b346544b58761f91a0e4cbb93",
       "version_major": 2,
       "version_minor": 0
      },
      "text/plain": [
       "HBox(children=(IntProgress(value=1, bar_style='info', max=1), HTML(value='')))"
      ]
     },
     "metadata": {},
     "output_type": "display_data"
    },
    {
     "data": {
      "application/vnd.jupyter.widget-view+json": {
       "model_id": "450a1fb9e1b345819d2427d55092f674",
       "version_major": 2,
       "version_minor": 0
      },
      "text/plain": [
       "HBox(children=(IntProgress(value=1, bar_style='info', max=1), HTML(value='')))"
      ]
     },
     "metadata": {},
     "output_type": "display_data"
    },
    {
     "data": {
      "application/vnd.jupyter.widget-view+json": {
       "model_id": "43980035b9484522a1d8ea57f0c65d96",
       "version_major": 2,
       "version_minor": 0
      },
      "text/plain": [
       "HBox(children=(IntProgress(value=1, bar_style='info', max=1), HTML(value='')))"
      ]
     },
     "metadata": {},
     "output_type": "display_data"
    },
    {
     "data": {
      "application/vnd.jupyter.widget-view+json": {
       "model_id": "5e207d3a7c9547bf8892fd1361a7b304",
       "version_major": 2,
       "version_minor": 0
      },
      "text/plain": [
       "HBox(children=(IntProgress(value=1, bar_style='info', max=1), HTML(value='')))"
      ]
     },
     "metadata": {},
     "output_type": "display_data"
    },
    {
     "name": "stdout",
     "output_type": "stream",
     "text": [
      "https://blog.naver.com/fldksgpdj901/221265836901 블로그의 본문 크롤링 성공!\n",
      "\n",
      "잘못된 접근이거나 삭제된 게시물입니다.\n",
      "다음 블로그 크롤링을 진행합니다.\n",
      "\n",
      "https://blog.naver.com/fldksgpdj901/221315792182현재까지 저장된 본문의 개수:   5블로그의 본문 크롤링 성공!\n",
      " \n",
      "\n",
      "\n",
      "https://blog.naver.com/autumnchoi53/221338091898 블로그의 본문 크롤링 성공!\n",
      "\n",
      "https://blog.naver.com/fldksgpdj901/221279694360https://blog.naver.com/fldksgpdj901/221276657784  블로그의 본문 크롤링 성공!\n",
      "블로그의 본문 크롤링 성공!\n",
      "\n",
      "\n",
      "잘못된 접근이거나 삭제된 게시물입니다.\n",
      "다음 블로그 크롤링을 진행합니다.\n",
      "\n",
      "현재까지 저장된 본문의 개수:  8 \n",
      "\n",
      "잘못된 접근이거나 삭제된 게시물입니다.\n",
      "다음 블로그 크롤링을 진행합니다.\n",
      "\n",
      "현재까지 저장된 본문의 개수:  8 \n",
      "\n",
      "잘못된 접근이거나 삭제된 게시물입니다.잘못된 접근이거나 삭제된 게시물입니다.\n",
      "다음 블로그 크롤링을 진행합니다.\n",
      "\n",
      "다음 블로그 크롤링을 진행합니다.\n",
      "\n",
      "현재까지 저장된 본문의 개수:  \n",
      "8현재까지 저장된 본문의 개수:   \n",
      "8\n",
      " \n",
      "\n",
      "20 ~ 24의 블로그 본문 크롤링을 시작합니다.\n",
      "\n",
      " 리안헤어 미아사거리역점 의 https://blog.naver.com/fldksgpdj901/221308875125 블로그의 본문 크롤링 중...\n",
      "\n",
      "\n",
      " 리안헤어 미아사거리역점 의 https://blog.naver.com/fldksgpdj901/221263106369 블로그의 본문 크롤링 중...\n",
      "\n",
      "\n",
      " 리안헤어 미아사거리역점 의 https://blog.naver.com/fldksgpdj901/221365968967 블로그의 본문 크롤링 중...\n",
      "\n",
      "\n",
      " \n",
      "리안헤어 미아사거리역점  리안헤어 미아사거리역점 의의  https://blog.naver.com/fldksgpdj901/221352613994https://blog.naver.com/fldksgpdj901/221296487128  블로그의 본문 크롤링 중...\n",
      "블로그의 본문 크롤링 중...\n",
      "\n",
      "\n"
     ]
    },
    {
     "data": {
      "application/vnd.jupyter.widget-view+json": {
       "model_id": "76719930d8dd440b988449292cf5daf9",
       "version_major": 2,
       "version_minor": 0
      },
      "text/plain": [
       "HBox(children=(IntProgress(value=1, bar_style='info', max=1), HTML(value='')))"
      ]
     },
     "metadata": {},
     "output_type": "display_data"
    },
    {
     "data": {
      "application/vnd.jupyter.widget-view+json": {
       "model_id": "5b9d1f8f2bde4e0ba7c843a9c7f03b0d",
       "version_major": 2,
       "version_minor": 0
      },
      "text/plain": [
       "HBox(children=(IntProgress(value=1, bar_style='info', max=1), HTML(value='')))"
      ]
     },
     "metadata": {},
     "output_type": "display_data"
    },
    {
     "data": {
      "application/vnd.jupyter.widget-view+json": {
       "model_id": "7152daf6ddc44280acf322335cf6b38a",
       "version_major": 2,
       "version_minor": 0
      },
      "text/plain": [
       "HBox(children=(IntProgress(value=1, bar_style='info', max=1), HTML(value='')))"
      ]
     },
     "metadata": {},
     "output_type": "display_data"
    },
    {
     "data": {
      "application/vnd.jupyter.widget-view+json": {
       "model_id": "62d3cb095fe14ba5845de65cb0778771",
       "version_major": 2,
       "version_minor": 0
      },
      "text/plain": [
       "HBox(children=(IntProgress(value=1, bar_style='info', max=1), HTML(value='')))"
      ]
     },
     "metadata": {},
     "output_type": "display_data"
    },
    {
     "data": {
      "application/vnd.jupyter.widget-view+json": {
       "model_id": "f782beb92dd6413da72de61330fd2e54",
       "version_major": 2,
       "version_minor": 0
      },
      "text/plain": [
       "HBox(children=(IntProgress(value=1, bar_style='info', max=1), HTML(value='')))"
      ]
     },
     "metadata": {},
     "output_type": "display_data"
    },
    {
     "name": "stdout",
     "output_type": "stream",
     "text": [
      "https://blog.naver.com/fldksgpdj901/221308875125 블로그의 본문 크롤링 성공!\n",
      "\n",
      "https://blog.naver.com/fldksgpdj901/221365968967 블로그의 본문 크롤링 성공!\n",
      "\n",
      "https://blog.naver.com/fldksgpdj901/221296487128 잘못된 접근이거나 삭제된 게시물입니다.블로그의 본문 크롤링 성공!\n",
      "\n",
      "\n",
      "다음 블로그 크롤링을 진행합니다.\n",
      "\n",
      "https://blog.naver.com/fldksgpdj901/221263106369 현재까지 저장된 본문의 개수: 블로그의 본문 크롤링 성공!\n",
      " \n",
      "12 \n",
      "\n",
      "잘못된 접근이거나 삭제된 게시물입니다.\n",
      "다음 블로그 크롤링을 진행합니다.\n",
      "\n",
      "https://blog.naver.com/fldksgpdj901/221352613994현재까지 저장된 본문의 개수:   블로그의 본문 크롤링 성공!\n",
      "13\n",
      " \n",
      "\n",
      "잘못된 접근이거나 삭제된 게시물입니다.\n",
      "다음 블로그 크롤링을 진행합니다.\n",
      "\n",
      "현재까지 저장된 본문의 개수:  13 \n",
      "\n",
      "잘못된 접근이거나 삭제된 게시물입니다.\n",
      "다음 블로그 크롤링을 진행합니다.\n",
      "\n",
      "현재까지 저장된 본문의 개수:  13 \n",
      "\n",
      "잘못된 접근이거나 삭제된 게시물입니다.\n",
      "다음 블로그 크롤링을 진행합니다.\n",
      "\n",
      "현재까지 저장된 본문의 개수:  13 \n",
      "\n",
      "25 ~ 29의 블로그 본문 크롤링을 시작합니다.\n",
      "\n",
      " 리안헤어 미아사거리역점 의 https://blog.naver.com/fldksgpdj901/221252505262 블로그의 본문 크롤링 중...\n",
      "\n",
      "\n",
      " 리안헤어 미아사거리역점 의 https://blog.naver.com/fldksgpdj901/221201860941 블로그의 본문 크롤링 중...\n",
      "\n",
      "\n",
      " 리안헤어 미아사거리역점 의 https://blog.naver.com/fldksgpdj901/221229062906 블로그의 본문 크롤링 중...\n",
      "\n",
      "\n",
      " 리안헤어 미아사거리역점 의 https://blog.naver.com/fldksgpdj901/221243370408 블로그의 본문 크롤링 중...\n",
      "\n",
      "\n",
      " 리안헤어 미아사거리역점 의 https://blog.naver.com/fldksgpdj901/221220506458 블로그의 본문 크롤링 중...\n",
      "\n"
     ]
    },
    {
     "data": {
      "application/vnd.jupyter.widget-view+json": {
       "model_id": "4497b6530749422a9cea065ef78ad7aa",
       "version_major": 2,
       "version_minor": 0
      },
      "text/plain": [
       "HBox(children=(IntProgress(value=1, bar_style='info', max=1), HTML(value='')))"
      ]
     },
     "metadata": {},
     "output_type": "display_data"
    },
    {
     "data": {
      "application/vnd.jupyter.widget-view+json": {
       "model_id": "942f3fb378f24a1fbb1171cfd1465785",
       "version_major": 2,
       "version_minor": 0
      },
      "text/plain": [
       "HBox(children=(IntProgress(value=1, bar_style='info', max=1), HTML(value='')))"
      ]
     },
     "metadata": {},
     "output_type": "display_data"
    },
    {
     "data": {
      "application/vnd.jupyter.widget-view+json": {
       "model_id": "eb70ae79e28c4a339b137ce1bd4af873",
       "version_major": 2,
       "version_minor": 0
      },
      "text/plain": [
       "HBox(children=(IntProgress(value=1, bar_style='info', max=1), HTML(value='')))"
      ]
     },
     "metadata": {},
     "output_type": "display_data"
    },
    {
     "data": {
      "application/vnd.jupyter.widget-view+json": {
       "model_id": "ecb255acdd56440599c6fa58a39e7cbd",
       "version_major": 2,
       "version_minor": 0
      },
      "text/plain": [
       "HBox(children=(IntProgress(value=1, bar_style='info', max=1), HTML(value='')))"
      ]
     },
     "metadata": {},
     "output_type": "display_data"
    },
    {
     "data": {
      "application/vnd.jupyter.widget-view+json": {
       "model_id": "b792e3e5021b49298e4931776bf858b5",
       "version_major": 2,
       "version_minor": 0
      },
      "text/plain": [
       "HBox(children=(IntProgress(value=1, bar_style='info', max=1), HTML(value='')))"
      ]
     },
     "metadata": {},
     "output_type": "display_data"
    },
    {
     "name": "stdout",
     "output_type": "stream",
     "text": [
      "https://blog.naver.com/fldksgpdj901/221201860941 블로그의 본문 크롤링 성공!\n",
      "\n",
      "https://blog.naver.com/fldksgpdj901/221252505262 블로그의 본문 크롤링 성공!\n",
      "\n",
      "https://blog.naver.com/fldksgpdj901/221220506458 블로그의 본문 크롤링 성공!\n",
      "\n",
      "잘못된 접근이거나 삭제된 게시물입니다.\n",
      "다음 블로그 크롤링을 진행합니다.\n",
      "\n",
      "현재까지 저장된 본문의 개수:  16 \n",
      "\n",
      "https://blog.naver.com/fldksgpdj901/221229062906잘못된 접근이거나 삭제된 게시물입니다.https://blog.naver.com/fldksgpdj901/221243370408 \n",
      " 다음 블로그 크롤링을 진행합니다.블로그의 본문 크롤링 성공!\n",
      "블로그의 본문 크롤링 성공!\n",
      "\n",
      "\n",
      "\n",
      "\n",
      "현재까지 저장된 본문의 개수:  18 \n",
      "\n",
      "잘못된 접근이거나 삭제된 게시물입니다.\n",
      "다음 블로그 크롤링을 진행합니다.\n",
      "\n",
      "현재까지 저장된 본문의 개수:  18 \n",
      "\n",
      "잘못된 접근이거나 삭제된 게시물입니다.잘못된 접근이거나 삭제된 게시물입니다.\n",
      "\n",
      "다음 블로그 크롤링을 진행합니다.다음 블로그 크롤링을 진행합니다.\n",
      "\n",
      "\n",
      "현재까지 저장된 본문의 개수: \n",
      " 현재까지 저장된 본문의 개수: 18  \n",
      "18\n",
      " \n",
      "\n",
      "30 ~ 34의 블로그 본문 크롤링을 시작합니다.\n",
      "\n",
      " 리안헤어 미아사거리역점 의 https://blog.naver.com/fldksgpdj901/221170912682 블로그의 본문 크롤링 중...\n",
      "\n",
      "\n",
      " 리안헤어 미아사거리역점 의 https://blog.naver.com/fldksgpdj901/221248870926 블로그의 본문 크롤링 중...\n",
      "\n",
      "\n",
      " 리안헤어 미아사거리역점 의 https://blog.naver.com/fldksgpdj901/221232307477 블로그의 본문 크롤링 중...\n",
      "\n",
      "\n",
      " 리안헤어 미아사거리역점 의 https://blog.naver.com/fldksgpdj901/221187383856 블로그의 본문 크롤링 중...\n",
      "\n",
      "\n",
      " 리안헤어 미아사거리역점 의 https://blog.naver.com/fldksgpdj901/221207240868 블로그의 본문 크롤링 중...\n",
      "\n"
     ]
    },
    {
     "data": {
      "application/vnd.jupyter.widget-view+json": {
       "model_id": "6f2b8b47ae6646de8bcb77a0a3a25f97",
       "version_major": 2,
       "version_minor": 0
      },
      "text/plain": [
       "HBox(children=(IntProgress(value=1, bar_style='info', max=1), HTML(value='')))"
      ]
     },
     "metadata": {},
     "output_type": "display_data"
    },
    {
     "data": {
      "application/vnd.jupyter.widget-view+json": {
       "model_id": "3dfc6c19d87e422ca816fedc46461b53",
       "version_major": 2,
       "version_minor": 0
      },
      "text/plain": [
       "HBox(children=(IntProgress(value=1, bar_style='info', max=1), HTML(value='')))"
      ]
     },
     "metadata": {},
     "output_type": "display_data"
    },
    {
     "data": {
      "application/vnd.jupyter.widget-view+json": {
       "model_id": "9d1484f02cae4ea5ae3f23e51a80228c",
       "version_major": 2,
       "version_minor": 0
      },
      "text/plain": [
       "HBox(children=(IntProgress(value=1, bar_style='info', max=1), HTML(value='')))"
      ]
     },
     "metadata": {},
     "output_type": "display_data"
    },
    {
     "data": {
      "application/vnd.jupyter.widget-view+json": {
       "model_id": "3565287f9ebb462b9c502af2e5aa2647",
       "version_major": 2,
       "version_minor": 0
      },
      "text/plain": [
       "HBox(children=(IntProgress(value=1, bar_style='info', max=1), HTML(value='')))"
      ]
     },
     "metadata": {},
     "output_type": "display_data"
    },
    {
     "data": {
      "application/vnd.jupyter.widget-view+json": {
       "model_id": "a44fe6be9eff4549a4a6d525a33b11b1",
       "version_major": 2,
       "version_minor": 0
      },
      "text/plain": [
       "HBox(children=(IntProgress(value=1, bar_style='info', max=1), HTML(value='')))"
      ]
     },
     "metadata": {},
     "output_type": "display_data"
    },
    {
     "name": "stdout",
     "output_type": "stream",
     "text": [
      "https://blog.naver.com/fldksgpdj901/221248870926 https://blog.naver.com/fldksgpdj901/221232307477블로그의 본문 크롤링 성공!\n",
      " \n",
      "블로그의 본문 크롤링 성공!\n",
      "\n",
      "https://blog.naver.com/fldksgpdj901/221187383856https://blog.naver.com/fldksgpdj901/221170912682 블로그의 본문 크롤링 성공!\n",
      " \n",
      "블로그의 본문 크롤링 성공!\n",
      "\n",
      "https://blog.naver.com/fldksgpdj901/221207240868 블로그의 본문 크롤링 성공!\n",
      "\n",
      "잘못된 접근이거나 삭제된 게시물입니다.\n",
      "다음 블로그 크롤링을 진행합니다.\n",
      "\n",
      "현재까지 저장된 본문의 개수:  23 \n",
      "\n",
      "잘못된 접근이거나 삭제된 게시물입니다.\n",
      "다음 블로그 크롤링을 진행합니다.\n",
      "\n",
      "현재까지 저장된 본문의 개수:  23 \n",
      "\n",
      "잘못된 접근이거나 삭제된 게시물입니다.\n",
      "다음 블로그 크롤링을 진행합니다.\n",
      "\n",
      "잘못된 접근이거나 삭제된 게시물입니다.현재까지 저장된 본문의 개수:  잘못된 접근이거나 삭제된 게시물입니다.23\n",
      "\n",
      " 다음 블로그 크롤링을 진행합니다.\n",
      "\n",
      "다음 블로그 크롤링을 진행합니다.\n",
      "\n",
      "\n",
      "현재까지 저장된 본문의 개수: \n",
      " 현재까지 저장된 본문의 개수: 23  23\n",
      " \n",
      "\n",
      "\n",
      "35 ~ 39의 블로그 본문 크롤링을 시작합니다.\n",
      "\n",
      " 리안헤어 미아사거리역점 의 https://blog.naver.com/fldksgpdj901/221113306698 블로그의 본문 크롤링 중...\n",
      "\n",
      "\n",
      " 리안헤어 미아사거리역점 의 https://blog.naver.com/fldksgpdj901/221224840429 블로그의 본문 크롤링 중...\n",
      "\n",
      "\n",
      " 리안헤어 미아사거리역점 의 https://blog.naver.com/fldksgpdj901/221176464794 블로그의 본문 크롤링 중...\n",
      "\n",
      "\n",
      " 리안헤어 미아사거리역점 의 https://blog.naver.com/fldksgpdj901/221168490610 블로그의 본문 크롤링 중...\n",
      "\n",
      "\n",
      " 리안헤어 미아사거리역점 의 https://blog.naver.com/fldksgpdj901/221118123412 블로그의 본문 크롤링 중...\n",
      "\n"
     ]
    },
    {
     "data": {
      "application/vnd.jupyter.widget-view+json": {
       "model_id": "2507bce726374abfa3b1b8fd72a2f32b",
       "version_major": 2,
       "version_minor": 0
      },
      "text/plain": [
       "HBox(children=(IntProgress(value=1, bar_style='info', max=1), HTML(value='')))"
      ]
     },
     "metadata": {},
     "output_type": "display_data"
    },
    {
     "data": {
      "application/vnd.jupyter.widget-view+json": {
       "model_id": "ee577786ccb14df8b9a8429290673850",
       "version_major": 2,
       "version_minor": 0
      },
      "text/plain": [
       "HBox(children=(IntProgress(value=1, bar_style='info', max=1), HTML(value='')))"
      ]
     },
     "metadata": {},
     "output_type": "display_data"
    },
    {
     "data": {
      "application/vnd.jupyter.widget-view+json": {
       "model_id": "1637d916bfd046e6ae4bb2f0863faa61",
       "version_major": 2,
       "version_minor": 0
      },
      "text/plain": [
       "HBox(children=(IntProgress(value=1, bar_style='info', max=1), HTML(value='')))"
      ]
     },
     "metadata": {},
     "output_type": "display_data"
    },
    {
     "data": {
      "application/vnd.jupyter.widget-view+json": {
       "model_id": "34de7fa4d156401ab7b0c11732b74a94",
       "version_major": 2,
       "version_minor": 0
      },
      "text/plain": [
       "HBox(children=(IntProgress(value=1, bar_style='info', max=1), HTML(value='')))"
      ]
     },
     "metadata": {},
     "output_type": "display_data"
    },
    {
     "data": {
      "application/vnd.jupyter.widget-view+json": {
       "model_id": "7ad0d04061fd47f5bc2b20ae33882cc8",
       "version_major": 2,
       "version_minor": 0
      },
      "text/plain": [
       "HBox(children=(IntProgress(value=1, bar_style='info', max=1), HTML(value='')))"
      ]
     },
     "metadata": {},
     "output_type": "display_data"
    },
    {
     "name": "stdout",
     "output_type": "stream",
     "text": [
      "https://blog.naver.com/fldksgpdj901/221224840429 블로그의 본문 크롤링 성공!\n",
      "\n",
      "https://blog.naver.com/fldksgpdj901/221113306698 https://blog.naver.com/fldksgpdj901/221168490610블로그의 본문 크롤링 성공!\n",
      " https://blog.naver.com/fldksgpdj901/221176464794 블로그의 본문 크롤링 성공!\n",
      "블로그의 본문 크롤링 성공!\n",
      "\n",
      "\n",
      "\n",
      "잘못된 접근이거나 삭제된 게시물입니다.\n",
      "https://blog.naver.com/fldksgpdj901/221118123412 다음 블로그 크롤링을 진행합니다.블로그의 본문 크롤링 성공!\n",
      "\n",
      "\n",
      "\n",
      "현재까지 저장된 본문의 개수:  28 \n",
      "\n",
      "잘못된 접근이거나 삭제된 게시물입니다.\n",
      "다음 블로그 크롤링을 진행합니다.\n",
      "\n",
      "현재까지 저장된 본문의 개수:  28 \n",
      "\n",
      "잘못된 접근이거나 삭제된 게시물입니다.\n",
      "다음 블로그 크롤링을 진행합니다.\n",
      "\n",
      "현재까지 저장된 본문의 개수:  28 \n",
      "\n",
      "잘못된 접근이거나 삭제된 게시물입니다.\n",
      "다음 블로그 크롤링을 진행합니다.\n",
      "\n",
      "현재까지 저장된 본문의 개수:  28 \n",
      "\n",
      "잘못된 접근이거나 삭제된 게시물입니다.\n",
      "다음 블로그 크롤링을 진행합니다.\n",
      "\n",
      "현재까지 저장된 본문의 개수:  28 \n",
      "\n",
      "40 ~ 44의 블로그 본문 크롤링을 시작합니다.\n",
      "\n",
      " 리안헤어 미아사거리역점 의 https://blog.naver.com/fldksgpdj901/221135769616 블로그의 본문 크롤링 중...\n",
      "\n",
      "\n",
      " 리안헤어 미아사거리역점 의 https://blog.naver.com/fldksgpdj901/221158818316 블로그의 본문 크롤링 중...\n",
      "\n",
      "\n",
      " 리안헤어 미아사거리역점 의 https://blog.naver.com/fldksgpdj901/221105051887 블로그의 본문 크롤링 중...\n",
      "\n",
      "\n",
      "\n",
      "  리안헤어 미아사거리역점리안헤어 미아사거리역점  의의  https://blog.naver.com/fldksgpdj901/221256981270 https://blog.naver.com/fldksgpdj901/221144575553 블로그의 본문 크롤링 중...\n",
      "\n",
      "블로그의 본문 크롤링 중...\n",
      "\n"
     ]
    },
    {
     "data": {
      "application/vnd.jupyter.widget-view+json": {
       "model_id": "7be99bd470944424b9bfab72b7349ad6",
       "version_major": 2,
       "version_minor": 0
      },
      "text/plain": [
       "HBox(children=(IntProgress(value=1, bar_style='info', max=1), HTML(value='')))"
      ]
     },
     "metadata": {},
     "output_type": "display_data"
    },
    {
     "data": {
      "application/vnd.jupyter.widget-view+json": {
       "model_id": "09bddcacea8445cea5d2523778205677",
       "version_major": 2,
       "version_minor": 0
      },
      "text/plain": [
       "HBox(children=(IntProgress(value=1, bar_style='info', max=1), HTML(value='')))"
      ]
     },
     "metadata": {},
     "output_type": "display_data"
    },
    {
     "data": {
      "application/vnd.jupyter.widget-view+json": {
       "model_id": "c2efbdb0e5c1418cb3d79b4796e3d5ab",
       "version_major": 2,
       "version_minor": 0
      },
      "text/plain": [
       "HBox(children=(IntProgress(value=1, bar_style='info', max=1), HTML(value='')))"
      ]
     },
     "metadata": {},
     "output_type": "display_data"
    },
    {
     "data": {
      "application/vnd.jupyter.widget-view+json": {
       "model_id": "35dd47ee7d454734a0674b36b8c76046",
       "version_major": 2,
       "version_minor": 0
      },
      "text/plain": [
       "HBox(children=(IntProgress(value=1, bar_style='info', max=1), HTML(value='')))"
      ]
     },
     "metadata": {},
     "output_type": "display_data"
    },
    {
     "data": {
      "application/vnd.jupyter.widget-view+json": {
       "model_id": "b12a504e26f1409d831ca0048f855be2",
       "version_major": 2,
       "version_minor": 0
      },
      "text/plain": [
       "HBox(children=(IntProgress(value=1, bar_style='info', max=1), HTML(value='')))"
      ]
     },
     "metadata": {},
     "output_type": "display_data"
    },
    {
     "name": "stdout",
     "output_type": "stream",
     "text": [
      "https://blog.naver.com/fldksgpdj901/221135769616 블로그의 본문 크롤링 성공!\n",
      "\n",
      "https://blog.naver.com/fldksgpdj901/221105051887 블로그의 본문 크롤링 성공!\n",
      "\n",
      "https://blog.naver.com/fldksgpdj901/221158818316 https://blog.naver.com/fldksgpdj901/221256981270블로그의 본문 크롤링 성공!\n",
      " 블로그의 본문 크롤링 성공!\n",
      "\n",
      "\n",
      "잘못된 접근이거나 삭제된 게시물입니다.\n",
      "https://blog.naver.com/fldksgpdj901/221144575553다음 블로그 크롤링을 진행합니다.\n",
      " 블로그의 본문 크롤링 성공!\n",
      "\n",
      "현재까지 저장된 본문의 개수: \n",
      " 33 \n",
      "\n",
      "잘못된 접근이거나 삭제된 게시물입니다.\n",
      "다음 블로그 크롤링을 진행합니다.\n",
      "\n",
      "현재까지 저장된 본문의 개수:  33 \n",
      "\n",
      "잘못된 접근이거나 삭제된 게시물입니다.\n",
      "다음 블로그 크롤링을 진행합니다.\n",
      "\n",
      "현재까지 저장된 본문의 개수:  33 \n",
      "\n",
      "잘못된 접근이거나 삭제된 게시물입니다.\n",
      "다음 블로그 크롤링을 진행합니다.\n",
      "\n",
      "현재까지 저장된 본문의 개수:  33 \n",
      "\n",
      "잘못된 접근이거나 삭제된 게시물입니다.\n",
      "다음 블로그 크롤링을 진행합니다.\n",
      "\n",
      "현재까지 저장된 본문의 개수:  33 \n",
      "\n",
      "45 ~ 49의 블로그 본문 크롤링을 시작합니다.\n",
      "\n",
      " 리안헤어 미아사거리역점 의 https://blog.naver.com/fldksgpdj901/221237133217 블로그의 본문 크롤링 중...\n",
      "\n",
      "\n",
      "\n",
      "  리안헤어 미아사거리역점리안헤어 미아사거리역점 의 의  https://blog.naver.com/fldksgpdj901/221089439076https://blog.naver.com/fldksgpdj901/221211816883  블로그의 본문 크롤링 중...\n",
      "블로그의 본문 크롤링 중...\n",
      "\n",
      "\n",
      "\n",
      " 리안헤어 미아사거리역점 의 https://blog.naver.com/fldksgpdj901/221103169273 블로그의 본문 크롤링 중...\n",
      "\n",
      "\n",
      " 리안헤어 미아사거리역점 의 https://blog.naver.com/fldksgpdj901/221082306771 블로그의 본문 크롤링 중...\n",
      "\n"
     ]
    },
    {
     "data": {
      "application/vnd.jupyter.widget-view+json": {
       "model_id": "967ef81f09ec47c298d1bf2fb2832248",
       "version_major": 2,
       "version_minor": 0
      },
      "text/plain": [
       "HBox(children=(IntProgress(value=1, bar_style='info', max=1), HTML(value='')))"
      ]
     },
     "metadata": {},
     "output_type": "display_data"
    },
    {
     "data": {
      "application/vnd.jupyter.widget-view+json": {
       "model_id": "b5b774151ba540d59042c36b69a3f61a",
       "version_major": 2,
       "version_minor": 0
      },
      "text/plain": [
       "HBox(children=(IntProgress(value=1, bar_style='info', max=1), HTML(value='')))"
      ]
     },
     "metadata": {},
     "output_type": "display_data"
    },
    {
     "data": {
      "application/vnd.jupyter.widget-view+json": {
       "model_id": "35856d1b97104cb8beddad715fa6d381",
       "version_major": 2,
       "version_minor": 0
      },
      "text/plain": [
       "HBox(children=(IntProgress(value=1, bar_style='info', max=1), HTML(value='')))"
      ]
     },
     "metadata": {},
     "output_type": "display_data"
    },
    {
     "data": {
      "application/vnd.jupyter.widget-view+json": {
       "model_id": "ae2b34e76c524939b24d8a0e053ce878",
       "version_major": 2,
       "version_minor": 0
      },
      "text/plain": [
       "HBox(children=(IntProgress(value=1, bar_style='info', max=1), HTML(value='')))"
      ]
     },
     "metadata": {},
     "output_type": "display_data"
    },
    {
     "data": {
      "application/vnd.jupyter.widget-view+json": {
       "model_id": "30b1a9150f8d4b72abf04717394fab13",
       "version_major": 2,
       "version_minor": 0
      },
      "text/plain": [
       "HBox(children=(IntProgress(value=1, bar_style='info', max=1), HTML(value='')))"
      ]
     },
     "metadata": {},
     "output_type": "display_data"
    },
    {
     "name": "stdout",
     "output_type": "stream",
     "text": [
      "https://blog.naver.com/fldksgpdj901/221089439076 블로그의 본문 크롤링 성공!\n",
      "\n",
      "https://blog.naver.com/fldksgpdj901/221237133217 블로그의 본문 크롤링 성공!\n",
      "\n",
      "잘못된 접근이거나 삭제된 게시물입니다.https://blog.naver.com/fldksgpdj901/221211816883 \n",
      "다음 블로그 크롤링을 진행합니다.블로그의 본문 크롤링 성공!\n",
      "\n",
      "\n",
      "현재까지 저장된 본문의 개수: https://blog.naver.com/fldksgpdj901/221103169273\n",
      "  36블로그의 본문 크롤링 성공!\n",
      "\n",
      " \n",
      "\n",
      "https://blog.naver.com/fldksgpdj901/221082306771 블로그의 본문 크롤링 성공!\n",
      "\n",
      "잘못된 접근이거나 삭제된 게시물입니다.\n",
      "다음 블로그 크롤링을 진행합니다.\n",
      "\n",
      "현재까지 저장된 본문의 개수:  38 \n",
      "\n",
      "잘못된 접근이거나 삭제된 게시물입니다.\n",
      "다음 블로그 크롤링을 진행합니다.\n",
      "\n",
      "현재까지 저장된 본문의 개수:  38 \n",
      "\n",
      "잘못된 접근이거나 삭제된 게시물입니다.\n",
      "다음 블로그 크롤링을 진행합니다.\n",
      "\n",
      "현재까지 저장된 본문의 개수:  38 \n",
      "\n",
      "잘못된 접근이거나 삭제된 게시물입니다.\n",
      "다음 블로그 크롤링을 진행합니다.\n",
      "\n",
      "현재까지 저장된 본문의 개수:  38 \n",
      "\n",
      "50 ~ 54의 블로그 본문 크롤링을 시작합니다.\n",
      "\n",
      "\n",
      "  리안헤어 미아사거리역점리안헤어 미아사거리역점  의의  https://blog.naver.com/fldksgpdj901/221222430318https://blog.naver.com/fldksgpdj901/221053606593  블로그의 본문 크롤링 중...\n",
      "블로그의 본문 크롤링 중...\n",
      "\n",
      "\n",
      "\n",
      " 리안헤어 미아사거리역점 의 https://blog.naver.com/fldksgpdj901/221087467278 블로그의 본문 크롤링 중...\n",
      "\n",
      "\n",
      " 리안헤어 미아사거리역점 의 https://blog.naver.com/fldksgpdj901/221123550028 블로그의 본문 크롤링 중...\n",
      "\n",
      "\n",
      " 리안헤어 미아사거리역점 의 https://blog.naver.com/fldksgpdj901/221099712299 블로그의 본문 크롤링 중...\n",
      "\n"
     ]
    },
    {
     "data": {
      "application/vnd.jupyter.widget-view+json": {
       "model_id": "51fba71ce7154b94956af4555bf86987",
       "version_major": 2,
       "version_minor": 0
      },
      "text/plain": [
       "HBox(children=(IntProgress(value=1, bar_style='info', max=1), HTML(value='')))"
      ]
     },
     "metadata": {},
     "output_type": "display_data"
    },
    {
     "data": {
      "application/vnd.jupyter.widget-view+json": {
       "model_id": "df2779e53a054aa7b775c212796f3b79",
       "version_major": 2,
       "version_minor": 0
      },
      "text/plain": [
       "HBox(children=(IntProgress(value=1, bar_style='info', max=1), HTML(value='')))"
      ]
     },
     "metadata": {},
     "output_type": "display_data"
    },
    {
     "data": {
      "application/vnd.jupyter.widget-view+json": {
       "model_id": "035c3cdff0e5491bbbc4793fa24aaaf9",
       "version_major": 2,
       "version_minor": 0
      },
      "text/plain": [
       "HBox(children=(IntProgress(value=1, bar_style='info', max=1), HTML(value='')))"
      ]
     },
     "metadata": {},
     "output_type": "display_data"
    },
    {
     "data": {
      "application/vnd.jupyter.widget-view+json": {
       "model_id": "77cc4cac85934c46afffdf51d56cac5d",
       "version_major": 2,
       "version_minor": 0
      },
      "text/plain": [
       "HBox(children=(IntProgress(value=1, bar_style='info', max=1), HTML(value='')))"
      ]
     },
     "metadata": {},
     "output_type": "display_data"
    },
    {
     "data": {
      "application/vnd.jupyter.widget-view+json": {
       "model_id": "0d97d806cb6f4d41ae9276de6e69c0b0",
       "version_major": 2,
       "version_minor": 0
      },
      "text/plain": [
       "HBox(children=(IntProgress(value=1, bar_style='info', max=1), HTML(value='')))"
      ]
     },
     "metadata": {},
     "output_type": "display_data"
    },
    {
     "name": "stdout",
     "output_type": "stream",
     "text": [
      "https://blog.naver.com/fldksgpdj901/221123550028https://blog.naver.com/fldksgpdj901/221222430318https://blog.naver.com/fldksgpdj901/221053606593  블로그의 본문 크롤링 성공!\n",
      " 블로그의 본문 크롤링 성공!\n",
      "블로그의 본문 크롤링 성공!\n",
      "\n",
      "\n",
      "\n",
      "https://blog.naver.com/fldksgpdj901/221087467278 https://blog.naver.com/fldksgpdj901/221099712299 블로그의 본문 크롤링 성공!\n",
      "블로그의 본문 크롤링 성공!\n",
      "\n",
      "\n",
      "잘못된 접근이거나 삭제된 게시물입니다.\n",
      "다음 블로그 크롤링을 진행합니다.\n",
      "\n",
      "현재까지 저장된 본문의 개수:  43 \n",
      "\n",
      "잘못된 접근이거나 삭제된 게시물입니다.\n",
      "다음 블로그 크롤링을 진행합니다.\n",
      "\n",
      "잘못된 접근이거나 삭제된 게시물입니다.현재까지 저장된 본문의 개수: \n",
      " 다음 블로그 크롤링을 진행합니다.\n",
      "43 \n",
      "잘못된 접근이거나 삭제된 게시물입니다.\n",
      "잘못된 접근이거나 삭제된 게시물입니다.현재까지 저장된 본문의 개수: \n",
      "\n",
      "\n",
      " 다음 블로그 크롤링을 진행합니다.다음 블로그 크롤링을 진행합니다.\n",
      "\n",
      "43\n",
      " \n",
      "현재까지 저장된 본문의 개수: \n",
      "\n",
      " 현재까지 저장된 본문의 개수: 43 \n",
      " \n",
      "43 \n",
      "\n",
      "55 ~ 59의 블로그 본문 크롤링을 시작합니다.\n",
      "\n",
      " 트리플헤어디자인 의 https://blog.naver.com/sunnara2/220131980853 블로그의 본문 크롤링 중...\n",
      "\n",
      "\n",
      " 리안헤어 미아사거리역점 의 https://blog.naver.com/fldksgpdj901/221058794146 블로그의 본문 크롤링 중...\n",
      "\n",
      "\n",
      " 리안헤어 미아사거리역점 의 https://blog.naver.com/fldksgpdj901/221084002097 블로그의 본문 크롤링 중...\n",
      "\n",
      "\n",
      " 트리플헤어디자인 의 https://blog.naver.com/pearlylove/220423420408 블로그의 본문 크롤링 중...\n",
      "\n",
      "\n",
      " 트리플헤어디자인 의 https://blog.naver.com/kattun74/221419884780 블로그의 본문 크롤링 중...\n",
      "\n"
     ]
    },
    {
     "data": {
      "application/vnd.jupyter.widget-view+json": {
       "model_id": "a9b7a43289924c6e97b806ae4097dc42",
       "version_major": 2,
       "version_minor": 0
      },
      "text/plain": [
       "HBox(children=(IntProgress(value=1, bar_style='info', max=1), HTML(value='')))"
      ]
     },
     "metadata": {},
     "output_type": "display_data"
    },
    {
     "data": {
      "application/vnd.jupyter.widget-view+json": {
       "model_id": "fe9cd3bd566048869148dc38d86a9380",
       "version_major": 2,
       "version_minor": 0
      },
      "text/plain": [
       "HBox(children=(IntProgress(value=1, bar_style='info', max=1), HTML(value='')))"
      ]
     },
     "metadata": {},
     "output_type": "display_data"
    },
    {
     "data": {
      "application/vnd.jupyter.widget-view+json": {
       "model_id": "ba5d00ee922d41238325f7b72c1fdb2d",
       "version_major": 2,
       "version_minor": 0
      },
      "text/plain": [
       "HBox(children=(IntProgress(value=1, bar_style='info', max=1), HTML(value='')))"
      ]
     },
     "metadata": {},
     "output_type": "display_data"
    },
    {
     "data": {
      "application/vnd.jupyter.widget-view+json": {
       "model_id": "6a14c359e90641729e8aa94d9cc494a5",
       "version_major": 2,
       "version_minor": 0
      },
      "text/plain": [
       "HBox(children=(IntProgress(value=1, bar_style='info', max=1), HTML(value='')))"
      ]
     },
     "metadata": {},
     "output_type": "display_data"
    },
    {
     "data": {
      "application/vnd.jupyter.widget-view+json": {
       "model_id": "f2dec9a2d6694cee9ee057cb9cac1cbf",
       "version_major": 2,
       "version_minor": 0
      },
      "text/plain": [
       "HBox(children=(IntProgress(value=1, bar_style='info', max=1), HTML(value='')))"
      ]
     },
     "metadata": {},
     "output_type": "display_data"
    },
    {
     "name": "stdout",
     "output_type": "stream",
     "text": [
      "https://blog.naver.com/fldksgpdj901/221058794146Attribute Error! 블로그의 본문 크롤링 성공!\n",
      "\n",
      "\n",
      "Error Code: 200\n",
      "삭제된 게시물입니다.\n",
      "현재까지 저장된 본문의 개수:  44 \n",
      "\n",
      "https://blog.naver.com/fldksgpdj901/221084002097 블로그의 본문 크롤링 성공!\n",
      "\n",
      "잘못된 접근이거나 삭제된 게시물입니다.https://blog.naver.com/kattun74/221419884780 블로그의 본문 크롤링 성공!\n",
      "Attribute Error!\n",
      "\n",
      "다음 블로그 크롤링을 진행합니다.\n",
      "Error Code:\n",
      " 200\n",
      "현재까지 저장된 본문의 개수: \n",
      " 삭제된 게시물입니다.46\n",
      " 현재까지 저장된 본문의 개수: \n",
      " 46\n",
      " \n",
      "\n",
      "잘못된 접근이거나 삭제된 게시물입니다.\n",
      "다음 블로그 크롤링을 진행합니다.\n",
      "\n",
      "현재까지 저장된 본문의 개수:  46 \n",
      "\n",
      "잘못된 접근이거나 삭제된 게시물입니다.\n",
      "다음 블로그 크롤링을 진행합니다.\n",
      "\n",
      "현재까지 저장된 본문의 개수:  46 \n",
      "\n",
      "60 ~ 64의 블로그 본문 크롤링을 시작합니다.\n",
      "\n",
      " 트리플헤어디자인 의 https://blog.naver.com/sugar_92/221225584584 블로그의 본문 크롤링 중...\n",
      "\n",
      "\n",
      " 트리플헤어디자인 의 https://blog.naver.com/kattun74/221188053993 블로그의 본문 크롤링 중...\n",
      "\n",
      "\n",
      " 트리플헤어디자인 의 https://blog.naver.com/silvermi507/220113737963 블로그의 본문 크롤링 중...\n",
      "\n",
      "\n",
      " 트리플헤어디자인 의 https://blog.naver.com/pjmibbi/220188948491 \n",
      " 블로그의 본문 크롤링 중...\n",
      "트리플헤어디자인\n",
      " 의 https://blog.naver.com/rostw92/221011421629 블로그의 본문 크롤링 중...\n",
      "\n"
     ]
    },
    {
     "data": {
      "application/vnd.jupyter.widget-view+json": {
       "model_id": "58a0a35e4bd04f5d93ad88340138c03e",
       "version_major": 2,
       "version_minor": 0
      },
      "text/plain": [
       "HBox(children=(IntProgress(value=1, bar_style='info', max=1), HTML(value='')))"
      ]
     },
     "metadata": {},
     "output_type": "display_data"
    },
    {
     "data": {
      "application/vnd.jupyter.widget-view+json": {
       "model_id": "5b6d1ea3366942549e90948b904273d6",
       "version_major": 2,
       "version_minor": 0
      },
      "text/plain": [
       "HBox(children=(IntProgress(value=1, bar_style='info', max=1), HTML(value='')))"
      ]
     },
     "metadata": {},
     "output_type": "display_data"
    },
    {
     "data": {
      "application/vnd.jupyter.widget-view+json": {
       "model_id": "e20f6111c8854d209b421ab892f2a0b4",
       "version_major": 2,
       "version_minor": 0
      },
      "text/plain": [
       "HBox(children=(IntProgress(value=1, bar_style='info', max=1), HTML(value='')))"
      ]
     },
     "metadata": {},
     "output_type": "display_data"
    },
    {
     "data": {
      "application/vnd.jupyter.widget-view+json": {
       "model_id": "d2d678ded874438bb86af8602a935db6",
       "version_major": 2,
       "version_minor": 0
      },
      "text/plain": [
       "HBox(children=(IntProgress(value=1, bar_style='info', max=1), HTML(value='')))"
      ]
     },
     "metadata": {},
     "output_type": "display_data"
    },
    {
     "data": {
      "application/vnd.jupyter.widget-view+json": {
       "model_id": "872ebe92ae6d45b28694238624efaf71",
       "version_major": 2,
       "version_minor": 0
      },
      "text/plain": [
       "HBox(children=(IntProgress(value=1, bar_style='info', max=1), HTML(value='')))"
      ]
     },
     "metadata": {},
     "output_type": "display_data"
    },
    {
     "name": "stdout",
     "output_type": "stream",
     "text": [
      "https://blog.naver.com/sugar_92/221225584584 블로그의 본문 크롤링 성공!\n",
      "\n",
      "Attribute Error!\n",
      "Error Code: 200\n",
      "삭제된 게시물입니다.\n",
      "현재까지 저장된 본문의 개수:  47 \n",
      "\n",
      "잘못된 접근이거나 삭제된 게시물입니다.\n",
      "\n",
      "https://blog.naver.com/rostw92/221011421629다음 블로그 크롤링을 진행합니다. https://blog.naver.com/kattun74/221188053993\n",
      " 블로그의 본문 크롤링 성공!\n",
      "블로그의 본문 크롤링 성공!\n",
      "\n",
      "\n",
      "\n",
      "현재까지 저장된 본문의 개수:  49 Attribute Error!\n",
      "\n",
      "\n",
      "Error Code: 200\n",
      "삭제된 게시물입니다.\n",
      "현재까지 저장된 본문의 개수:  49 \n",
      "\n",
      "잘못된 접근이거나 삭제된 게시물입니다.\n",
      "다음 블로그 크롤링을 진행합니다.\n",
      "\n",
      "현재까지 저장된 본문의 개수:  49 \n",
      "\n",
      "잘못된 접근이거나 삭제된 게시물입니다.\n",
      "다음 블로그 크롤링을 진행합니다.\n",
      "\n",
      "현재까지 저장된 본문의 개수:  49 \n",
      "\n",
      "65 ~ 69의 블로그 본문 크롤링을 시작합니다.\n",
      "\n",
      " 트리플헤어디자인 의 https://blog.naver.com/y00nji/220904385064 블로그의 본문 크롤링 중...\n",
      "\n",
      "\n",
      " 트리플헤어디자인 의 https://blog.naver.com/coliok/221007449247 블로그의 본문 크롤링 중...\n",
      "\n",
      "\n",
      " 트리플헤어디자인 의 https://blog.naver.com/soojin413/220999152551 블로그의 본문 크롤링 중...\n",
      "\n",
      "\n",
      " 트리플헤어디자인 의 https://blog.naver.com/dkssud2623/220734068066 블로그의 본문 크롤링 중...\n",
      "\n",
      "\n",
      " 트리플헤어디자인 의 https://blog.naver.com/sko100400/221011495520 블로그의 본문 크롤링 중...\n",
      "\n"
     ]
    },
    {
     "data": {
      "application/vnd.jupyter.widget-view+json": {
       "model_id": "71d93ebf30bc442f9ec52df9674fc4b9",
       "version_major": 2,
       "version_minor": 0
      },
      "text/plain": [
       "HBox(children=(IntProgress(value=1, bar_style='info', max=1), HTML(value='')))"
      ]
     },
     "metadata": {},
     "output_type": "display_data"
    },
    {
     "data": {
      "application/vnd.jupyter.widget-view+json": {
       "model_id": "92b9168622bf4882b658cb31f95529ed",
       "version_major": 2,
       "version_minor": 0
      },
      "text/plain": [
       "HBox(children=(IntProgress(value=1, bar_style='info', max=1), HTML(value='')))"
      ]
     },
     "metadata": {},
     "output_type": "display_data"
    },
    {
     "data": {
      "application/vnd.jupyter.widget-view+json": {
       "model_id": "8b38bda72b4a49e281508fe2e2a8b2c5",
       "version_major": 2,
       "version_minor": 0
      },
      "text/plain": [
       "HBox(children=(IntProgress(value=1, bar_style='info', max=1), HTML(value='')))"
      ]
     },
     "metadata": {},
     "output_type": "display_data"
    },
    {
     "data": {
      "application/vnd.jupyter.widget-view+json": {
       "model_id": "70b111542fd146f79fb2db7d249ae6dd",
       "version_major": 2,
       "version_minor": 0
      },
      "text/plain": [
       "HBox(children=(IntProgress(value=1, bar_style='info', max=1), HTML(value='')))"
      ]
     },
     "metadata": {},
     "output_type": "display_data"
    },
    {
     "data": {
      "application/vnd.jupyter.widget-view+json": {
       "model_id": "92d2ceb93e7c431a9dac74cf6e81ac3d",
       "version_major": 2,
       "version_minor": 0
      },
      "text/plain": [
       "HBox(children=(IntProgress(value=1, bar_style='info', max=1), HTML(value='')))"
      ]
     },
     "metadata": {},
     "output_type": "display_data"
    },
    {
     "name": "stdout",
     "output_type": "stream",
     "text": [
      "https://blog.naver.com/soojin413/220999152551 블로그의 본문 크롤링 성공!\n",
      "\n",
      "Attribute Error!\n",
      "Error Code: 200\n",
      "삭제된 게시물입니다.Attribute Error!\n",
      "\n",
      "현재까지 저장된 본문의 개수: Error Code:  50200 \n",
      "삭제된 게시물입니다.\n",
      "\n",
      "\n",
      "현재까지 저장된 본문의 개수:  50 \n",
      "\n",
      "https://blog.naver.com/dkssud2623/220734068066 블로그의 본문 크롤링 성공!\n",
      "\n",
      "잘못된 접근이거나 삭제된 게시물입니다.https://blog.naver.com/sko100400/221011495520\n",
      " 다음 블로그 크롤링을 진행합니다.블로그의 본문 크롤링 성공!\n",
      "\n",
      "\n",
      "\n",
      "현재까지 저장된 본문의 개수:  52 \n",
      "\n",
      "잘못된 접근이거나 삭제된 게시물입니다.\n",
      "다음 블로그 크롤링을 진행합니다.\n",
      "\n",
      "현재까지 저장된 본문의 개수:  52 \n",
      "\n",
      "잘못된 접근이거나 삭제된 게시물입니다.\n",
      "다음 블로그 크롤링을 진행합니다.\n",
      "\n",
      "현재까지 저장된 본문의 개수:  52 \n",
      "\n",
      "70 ~ 74의 블로그 본문 크롤링을 시작합니다.\n",
      "\n",
      " 트리플헤어디자인 의 https://blog.naver.com/triplehair/221347809836 블로그의 본문 크롤링 중...\n",
      "\n",
      "\n",
      " 트리플헤어디자인 의 https://blog.naver.com/triplehair/221307553469 블로그의 본문 크롤링 중...\n",
      "\n",
      "\n",
      " 트리플헤어디자인 의 https://blog.naver.com/im_lsj/220539448396 블로그의 본문 크롤링 중...\n",
      "\n",
      "\n",
      " 트리플헤어디자인 의 https://blog.naver.com/triplehair/221402730218 블로그의 본문 크롤링 중...\n",
      "\n",
      "\n",
      " 트리플헤어디자인 의 https://blog.naver.com/graysuho1/220419209105 블로그의 본문 크롤링 중...\n",
      "\n"
     ]
    },
    {
     "data": {
      "application/vnd.jupyter.widget-view+json": {
       "model_id": "21a90a5c9ca8401dafaaf7f87060dfe6",
       "version_major": 2,
       "version_minor": 0
      },
      "text/plain": [
       "HBox(children=(IntProgress(value=1, bar_style='info', max=1), HTML(value='')))"
      ]
     },
     "metadata": {},
     "output_type": "display_data"
    },
    {
     "data": {
      "application/vnd.jupyter.widget-view+json": {
       "model_id": "346f8f271ced4d31a289f7d621281e34",
       "version_major": 2,
       "version_minor": 0
      },
      "text/plain": [
       "HBox(children=(IntProgress(value=1, bar_style='info', max=1), HTML(value='')))"
      ]
     },
     "metadata": {},
     "output_type": "display_data"
    },
    {
     "data": {
      "application/vnd.jupyter.widget-view+json": {
       "model_id": "b2d54399b6e441f4b96cb0fc8db03976",
       "version_major": 2,
       "version_minor": 0
      },
      "text/plain": [
       "HBox(children=(IntProgress(value=1, bar_style='info', max=1), HTML(value='')))"
      ]
     },
     "metadata": {},
     "output_type": "display_data"
    },
    {
     "data": {
      "application/vnd.jupyter.widget-view+json": {
       "model_id": "0a693c45b92b43d891dd9045de1b7a7b",
       "version_major": 2,
       "version_minor": 0
      },
      "text/plain": [
       "HBox(children=(IntProgress(value=1, bar_style='info', max=1), HTML(value='')))"
      ]
     },
     "metadata": {},
     "output_type": "display_data"
    },
    {
     "data": {
      "application/vnd.jupyter.widget-view+json": {
       "model_id": "d9732acf17d54de48949d227ec27ca68",
       "version_major": 2,
       "version_minor": 0
      },
      "text/plain": [
       "HBox(children=(IntProgress(value=1, bar_style='info', max=1), HTML(value='')))"
      ]
     },
     "metadata": {},
     "output_type": "display_data"
    },
    {
     "name": "stdout",
     "output_type": "stream",
     "text": [
      "https://blog.naver.com/triplehair/221347809836 블로그의 본문 크롤링 성공!\n",
      "\n",
      "https://blog.naver.com/triplehair/221402730218 블로그의 본문 크롤링 성공!\n",
      "\n",
      "잘못된 접근이거나 삭제된 게시물입니다.\n",
      "다음 블로그 크롤링을 진행합니다.Attribute Error!\n",
      "\n",
      "\n",
      "Error Code:현재까지 저장된 본문의 개수:   https://blog.naver.com/triplehair/221307553469Attribute Error!20054\n",
      " \n",
      " 블로그의 본문 크롤링 성공!\n",
      "삭제된 게시물입니다.Error Code:\n",
      " \n",
      "\n",
      "\n",
      "잘못된 접근이거나 삭제된 게시물입니다.200현재까지 저장된 본문의 개수: \n",
      "\n",
      " 다음 블로그 크롤링을 진행합니다.삭제된 게시물입니다.55\n",
      "\n",
      " \n",
      "\n",
      "현재까지 저장된 본문의 개수: 현재까지 저장된 본문의 개수:  \n",
      " 5555  \n",
      "\n",
      "\n",
      "\n",
      "잘못된 접근이거나 삭제된 게시물입니다.\n",
      "다음 블로그 크롤링을 진행합니다.\n",
      "\n",
      "현재까지 저장된 본문의 개수:  55 \n",
      "\n",
      "75 ~ 79의 블로그 본문 크롤링을 시작합니다.\n",
      "\n",
      " 트리플헤어디자인 의 https://blog.naver.com/triplehair/221422096654 블로그의 본문 크롤링 중...\n",
      "\n",
      "\n",
      "\n",
      "  트리플헤어디자인트리플헤어디자인  의의  https://blog.naver.com/triplehair/221355309256 https://blog.naver.com/triplehair/221421278524 블로그의 본문 크롤링 중...\n",
      "\n",
      "블로그의 본문 크롤링 중...\n",
      "\n",
      "\n",
      " 트리플헤어디자인 의 https://blog.naver.com/triplehair/221127656489 블로그의 본문 크롤링 중...\n",
      "\n",
      "\n",
      " 트리플헤어디자인 의 https://blog.naver.com/triplehair/221420023907 블로그의 본문 크롤링 중...\n",
      "\n"
     ]
    },
    {
     "data": {
      "application/vnd.jupyter.widget-view+json": {
       "model_id": "d7e9185f799646d5a9c61d25680c2df4",
       "version_major": 2,
       "version_minor": 0
      },
      "text/plain": [
       "HBox(children=(IntProgress(value=1, bar_style='info', max=1), HTML(value='')))"
      ]
     },
     "metadata": {},
     "output_type": "display_data"
    },
    {
     "data": {
      "application/vnd.jupyter.widget-view+json": {
       "model_id": "d91ab0090fce4bbabe53ee3bcffdbfd3",
       "version_major": 2,
       "version_minor": 0
      },
      "text/plain": [
       "HBox(children=(IntProgress(value=1, bar_style='info', max=1), HTML(value='')))"
      ]
     },
     "metadata": {},
     "output_type": "display_data"
    },
    {
     "data": {
      "application/vnd.jupyter.widget-view+json": {
       "model_id": "03752c71c025430b8fc120ea2db8cf0c",
       "version_major": 2,
       "version_minor": 0
      },
      "text/plain": [
       "HBox(children=(IntProgress(value=1, bar_style='info', max=1), HTML(value='')))"
      ]
     },
     "metadata": {},
     "output_type": "display_data"
    },
    {
     "data": {
      "application/vnd.jupyter.widget-view+json": {
       "model_id": "3325d71bc3f3445ba32ec59ade05096c",
       "version_major": 2,
       "version_minor": 0
      },
      "text/plain": [
       "HBox(children=(IntProgress(value=1, bar_style='info', max=1), HTML(value='')))"
      ]
     },
     "metadata": {},
     "output_type": "display_data"
    },
    {
     "data": {
      "application/vnd.jupyter.widget-view+json": {
       "model_id": "8f1cc58ca43e46f480929eb1f96f61ca",
       "version_major": 2,
       "version_minor": 0
      },
      "text/plain": [
       "HBox(children=(IntProgress(value=1, bar_style='info', max=1), HTML(value='')))"
      ]
     },
     "metadata": {},
     "output_type": "display_data"
    },
    {
     "name": "stdout",
     "output_type": "stream",
     "text": [
      "https://blog.naver.com/triplehair/221355309256 블로그의 본문 크롤링 성공!\n",
      "https://blog.naver.com/triplehair/221422096654\n",
      " 블로그의 본문 크롤링 성공!\n",
      "\n",
      "https://blog.naver.com/triplehair/221421278524 블로그의 본문 크롤링 성공!\n",
      "\n",
      "https://blog.naver.com/triplehair/221127656489 블로그의 본문 크롤링 성공!\n",
      "\n",
      "https://blog.naver.com/triplehair/221420023907 블로그의 본문 크롤링 성공!\n",
      "\n",
      "잘못된 접근이거나 삭제된 게시물입니다.\n",
      "다음 블로그 크롤링을 진행합니다.\n",
      "\n",
      "현재까지 저장된 본문의 개수:  60 \n",
      "\n",
      "잘못된 접근이거나 삭제된 게시물입니다.\n",
      "다음 블로그 크롤링을 진행합니다.\n",
      "\n",
      "현재까지 저장된 본문의 개수:  60 \n",
      "\n",
      "잘못된 접근이거나 삭제된 게시물입니다.\n",
      "다음 블로그 크롤링을 진행합니다.\n",
      "\n",
      "현재까지 저장된 본문의 개수:  60 \n",
      "\n",
      "잘못된 접근이거나 삭제된 게시물입니다.\n",
      "다음 블로그 크롤링을 진행합니다.\n",
      "\n",
      "현재까지 저장된 본문의 개수:  60 \n",
      "\n",
      "잘못된 접근이거나 삭제된 게시물입니다.\n",
      "다음 블로그 크롤링을 진행합니다.\n",
      "\n",
      "현재까지 저장된 본문의 개수:  60 \n",
      "\n",
      "80 ~ 84의 블로그 본문 크롤링을 시작합니다.\n",
      "\n",
      " 트리플헤어디자인 의 https://blog.naver.com/triplehair/221232375131 블로그의 본문 크롤링 중...\n",
      "\n",
      "\n",
      " 제오헤어 구로디지털단지점 의 https://blog.naver.com/sexyflash/220778423965 블로그의 본문 크롤링 중...\n",
      "\n",
      "\n",
      " 제오헤어 구로디지털단지점 의 https://blog.naver.com/ej6316448/220787274207 블로그의 본문 크롤링 중...\n",
      "\n",
      "\n",
      " 트리플헤어디자인 의 https://blog.naver.com/triplehair/221213010172 블로그의 본문 크롤링 중...\n",
      "\n",
      "\n",
      " 트리플헤어디자인 의 https://blog.naver.com/triplehair/221249917918 블로그의 본문 크롤링 중...\n",
      "\n"
     ]
    },
    {
     "data": {
      "application/vnd.jupyter.widget-view+json": {
       "model_id": "72641c3e2bc046c18ab02e158af4738e",
       "version_major": 2,
       "version_minor": 0
      },
      "text/plain": [
       "HBox(children=(IntProgress(value=1, bar_style='info', max=1), HTML(value='')))"
      ]
     },
     "metadata": {},
     "output_type": "display_data"
    },
    {
     "data": {
      "application/vnd.jupyter.widget-view+json": {
       "model_id": "81e4038990fe4a4e95727a998bf22f77",
       "version_major": 2,
       "version_minor": 0
      },
      "text/plain": [
       "HBox(children=(IntProgress(value=1, bar_style='info', max=1), HTML(value='')))"
      ]
     },
     "metadata": {},
     "output_type": "display_data"
    },
    {
     "data": {
      "application/vnd.jupyter.widget-view+json": {
       "model_id": "fff02ed67d454a63a77ec4f9d014b6d2",
       "version_major": 2,
       "version_minor": 0
      },
      "text/plain": [
       "HBox(children=(IntProgress(value=1, bar_style='info', max=1), HTML(value='')))"
      ]
     },
     "metadata": {},
     "output_type": "display_data"
    },
    {
     "data": {
      "application/vnd.jupyter.widget-view+json": {
       "model_id": "c365d75953eb4a6b963f1776a7f330f1",
       "version_major": 2,
       "version_minor": 0
      },
      "text/plain": [
       "HBox(children=(IntProgress(value=1, bar_style='info', max=1), HTML(value='')))"
      ]
     },
     "metadata": {},
     "output_type": "display_data"
    },
    {
     "data": {
      "application/vnd.jupyter.widget-view+json": {
       "model_id": "74459c1fe69d473fa8d076fc6d7c0683",
       "version_major": 2,
       "version_minor": 0
      },
      "text/plain": [
       "HBox(children=(IntProgress(value=1, bar_style='info', max=1), HTML(value='')))"
      ]
     },
     "metadata": {},
     "output_type": "display_data"
    },
    {
     "name": "stdout",
     "output_type": "stream",
     "text": [
      "https://blog.naver.com/triplehair/221232375131 블로그의 본문 크롤링 성공!\n",
      "\n",
      "잘못된 접근이거나 삭제된 게시물입니다.https://blog.naver.com/triplehair/221213010172\n",
      " 블로그의 본문 크롤링 성공!\n",
      "다음 블로그 크롤링을 진행합니다.\n",
      "Attribute Error!\n",
      "https://blog.naver.com/sexyflash/220778423965\n",
      "\n",
      "Error Code: 현재까지 저장된 본문의 개수: https://blog.naver.com/triplehair/221249917918 블로그의 본문 크롤링 성공!\n",
      "\n",
      "200  63블로그의 본문 크롤링 성공!\n",
      "\n",
      "삭제된 게시물입니다.\n",
      " \n",
      "\n",
      "\n",
      "현재까지 저장된 본문의 개수:  64 \n",
      "\n",
      "잘못된 접근이거나 삭제된 게시물입니다.\n",
      "다음 블로그 크롤링을 진행합니다.\n",
      "\n",
      "현재까지 저장된 본문의 개수:  64 \n",
      "\n",
      "잘못된 접근이거나 삭제된 게시물입니다.\n",
      "다음 블로그 크롤링을 진행합니다.\n",
      "\n",
      "잘못된 접근이거나 삭제된 게시물입니다.현재까지 저장된 본문의 개수: \n",
      "다음 블로그 크롤링을 진행합니다. 64\n",
      " \n",
      "\n",
      "현재까지 저장된 본문의 개수: \n",
      " 64 \n",
      "\n",
      "85 ~ 89의 블로그 본문 크롤링을 시작합니다.\n",
      "\n",
      " 제오헤어 구로디지털단지점 의 https://blog.naver.com/babelkim/220288924442 블로그의 본문 크롤링 중...\n",
      "\n",
      "\n",
      " 제오헤어 구로디지털단지점 의 https://blog.naver.com/shim3557/220793232640 블로그의 본문 크롤링 중...\n",
      "\n",
      "\n",
      " 제오헤어 구로디지털단지점 의 https://blog.naver.com/dkswlstns87/220822079579 블로그의 본문 크롤링 중...\n",
      "\n",
      "\n",
      " 제오헤어 구로디지털단지점 의 https://blog.naver.com/yaplle23/220815832963 블로그의 본문 크롤링 중...\n",
      "\n",
      "\n",
      " 제오헤어 구로디지털단지점 의 https://blog.naver.com/minhae9191/220803503623 블로그의 본문 크롤링 중...\n",
      "\n"
     ]
    },
    {
     "data": {
      "application/vnd.jupyter.widget-view+json": {
       "model_id": "25a540f09b4f4ff290aef9c942bd49b2",
       "version_major": 2,
       "version_minor": 0
      },
      "text/plain": [
       "HBox(children=(IntProgress(value=1, bar_style='info', max=1), HTML(value='')))"
      ]
     },
     "metadata": {},
     "output_type": "display_data"
    },
    {
     "data": {
      "application/vnd.jupyter.widget-view+json": {
       "model_id": "b0d132cb67bc421c9345a5ae77d48879",
       "version_major": 2,
       "version_minor": 0
      },
      "text/plain": [
       "HBox(children=(IntProgress(value=1, bar_style='info', max=1), HTML(value='')))"
      ]
     },
     "metadata": {},
     "output_type": "display_data"
    },
    {
     "data": {
      "application/vnd.jupyter.widget-view+json": {
       "model_id": "95d7165cd5a645de968002e83dc48381",
       "version_major": 2,
       "version_minor": 0
      },
      "text/plain": [
       "HBox(children=(IntProgress(value=1, bar_style='info', max=1), HTML(value='')))"
      ]
     },
     "metadata": {},
     "output_type": "display_data"
    },
    {
     "data": {
      "application/vnd.jupyter.widget-view+json": {
       "model_id": "ef21857e22084146bc14074f875bc3dd",
       "version_major": 2,
       "version_minor": 0
      },
      "text/plain": [
       "HBox(children=(IntProgress(value=1, bar_style='info', max=1), HTML(value='')))"
      ]
     },
     "metadata": {},
     "output_type": "display_data"
    },
    {
     "data": {
      "application/vnd.jupyter.widget-view+json": {
       "model_id": "cd00ba645d924795a6ea3b624e907198",
       "version_major": 2,
       "version_minor": 0
      },
      "text/plain": [
       "HBox(children=(IntProgress(value=1, bar_style='info', max=1), HTML(value='')))"
      ]
     },
     "metadata": {},
     "output_type": "display_data"
    },
    {
     "name": "stdout",
     "output_type": "stream",
     "text": [
      "https://blog.naver.com/dkswlstns87/220822079579 Attribute Error!\n",
      "블로그의 본문 크롤링 성공!\n",
      "Attribute Error!\n",
      "\n",
      "Error Code:Error Code: 200 \n",
      "200삭제된 게시물입니다.\n",
      "\n",
      "삭제된 게시물입니다.\n",
      "https://blog.naver.com/minhae9191/220803503623현재까지 저장된 본문의 개수: Attribute Error!현재까지 저장된 본문의 개수:  \n",
      "  66Error Code:블로그의 본문 크롤링 성공!\n",
      " 66 \n",
      "200 \n",
      "\n",
      "\n",
      "\n",
      "삭제된 게시물입니다.\n",
      "\n",
      "현재까지 저장된 본문의 개수:  66 \n",
      "\n",
      "잘못된 접근이거나 삭제된 게시물입니다.\n",
      "다음 블로그 크롤링을 진행합니다.\n",
      "\n",
      "현재까지 저장된 본문의 개수:  66 \n",
      "\n",
      "잘못된 접근이거나 삭제된 게시물입니다.\n",
      "다음 블로그 크롤링을 진행합니다.\n",
      "\n",
      "현재까지 저장된 본문의 개수:  66 \n",
      "\n",
      "90 ~ 94의 블로그 본문 크롤링을 시작합니다.\n",
      "\n",
      " \n",
      "제오헤어 구로디지털단지점  의제오헤어 구로디지털단지점  https://blog.naver.com/ylee002/220552267647의  블로그의 본문 크롤링 중...\n",
      "https://blog.naver.com/jung_nh/220820347039\n",
      " 블로그의 본문 크롤링 중...\n",
      "\n",
      "\n",
      " 제오헤어 구로디지털단지점 의 https://blog.naver.com/yuneunji09/220390372959 블로그의 본문 크롤링 중...\n",
      "\n",
      "\n",
      " 제오헤어 구로디지털단지점 의 https://blog.naver.com/sat1106/221199549998 블로그의 본문 크롤링 중...\n",
      "\n",
      "\n",
      " 제오헤어 구로디지털단지점 의 https://blog.naver.com/noran23mhj/220557949384 블로그의 본문 크롤링 중...\n",
      "\n"
     ]
    },
    {
     "data": {
      "application/vnd.jupyter.widget-view+json": {
       "model_id": "e447021e5e45426c8438b30527d5bf11",
       "version_major": 2,
       "version_minor": 0
      },
      "text/plain": [
       "HBox(children=(IntProgress(value=1, bar_style='info', max=1), HTML(value='')))"
      ]
     },
     "metadata": {},
     "output_type": "display_data"
    },
    {
     "data": {
      "application/vnd.jupyter.widget-view+json": {
       "model_id": "7dafbcc87f6242038367d0e21d0ecef8",
       "version_major": 2,
       "version_minor": 0
      },
      "text/plain": [
       "HBox(children=(IntProgress(value=1, bar_style='info', max=1), HTML(value='')))"
      ]
     },
     "metadata": {},
     "output_type": "display_data"
    },
    {
     "data": {
      "application/vnd.jupyter.widget-view+json": {
       "model_id": "e69ff8b2d31e4ecf9d0bd208477c6d10",
       "version_major": 2,
       "version_minor": 0
      },
      "text/plain": [
       "HBox(children=(IntProgress(value=1, bar_style='info', max=1), HTML(value='')))"
      ]
     },
     "metadata": {},
     "output_type": "display_data"
    },
    {
     "data": {
      "application/vnd.jupyter.widget-view+json": {
       "model_id": "aaf92c8107f642918500c8d5baa52884",
       "version_major": 2,
       "version_minor": 0
      },
      "text/plain": [
       "HBox(children=(IntProgress(value=1, bar_style='info', max=1), HTML(value='')))"
      ]
     },
     "metadata": {},
     "output_type": "display_data"
    },
    {
     "data": {
      "application/vnd.jupyter.widget-view+json": {
       "model_id": "98144e16569f438d86d95e14733f8793",
       "version_major": 2,
       "version_minor": 0
      },
      "text/plain": [
       "HBox(children=(IntProgress(value=1, bar_style='info', max=1), HTML(value='')))"
      ]
     },
     "metadata": {},
     "output_type": "display_data"
    },
    {
     "name": "stdout",
     "output_type": "stream",
     "text": [
      "https://blog.naver.com/jung_nh/220820347039 Attribute Error!블로그의 본문 크롤링 성공!\n",
      "\n",
      "\n",
      "Error Code:https://blog.naver.com/sat1106/221199549998  200블로그의 본문 크롤링 성공!\n",
      "\n",
      "\n",
      "삭제된 게시물입니다.\n",
      "Attribute Error!현재까지 저장된 본문의 개수: \n",
      " Error Code:Attribute Error! 68\n",
      "200 Error Code:\n",
      "\n",
      " \n",
      "삭제된 게시물입니다.200\n",
      "\n",
      "삭제된 게시물입니다.\n",
      "현재까지 저장된 본문의 개수:  현재까지 저장된 본문의 개수: 68  68 \n",
      "\n",
      "\n",
      "\n",
      "잘못된 접근이거나 삭제된 게시물입니다.\n",
      "다음 블로그 크롤링을 진행합니다.\n",
      "\n",
      "현재까지 저장된 본문의 개수:  68 \n",
      "\n",
      "잘못된 접근이거나 삭제된 게시물입니다.\n",
      "다음 블로그 크롤링을 진행합니다.\n",
      "\n",
      "현재까지 저장된 본문의 개수:  68 \n",
      "\n",
      "95 ~ 99의 블로그 본문 크롤링을 시작합니다.\n",
      "\n",
      " 제오헤어 구로디지털단지점 의 https://blog.naver.com/sinhyhj/220479141637 블로그의 본문 크롤링 중...\n",
      "\n",
      "\n",
      " 제오헤어 구로디지털단지점 의 https://blog.naver.com/suni1218/220197039055 블로그의 본문 크롤링 중...\n",
      "\n",
      "\n",
      " 제오헤어 구로디지털단지점 의 https://blog.naver.com/ghdalsgus82/220400823480\n",
      "  제오헤어 구로디지털단지점블로그의 본문 크롤링 중...\n",
      " \n",
      "의 https://blog.naver.com/hyo_jji/220272722666 블로그의 본문 크롤링 중...\n",
      "\n",
      "\n",
      " 제오헤어 구로디지털단지점 의 https://blog.naver.com/lavie2010/220395701000 블로그의 본문 크롤링 중...\n",
      "\n"
     ]
    },
    {
     "data": {
      "application/vnd.jupyter.widget-view+json": {
       "model_id": "ae8de27f59c04689a9bca1f500deabc0",
       "version_major": 2,
       "version_minor": 0
      },
      "text/plain": [
       "HBox(children=(IntProgress(value=1, bar_style='info', max=1), HTML(value='')))"
      ]
     },
     "metadata": {},
     "output_type": "display_data"
    },
    {
     "data": {
      "application/vnd.jupyter.widget-view+json": {
       "model_id": "ca46cc9fec034bd592a07e10001ac3c9",
       "version_major": 2,
       "version_minor": 0
      },
      "text/plain": [
       "HBox(children=(IntProgress(value=1, bar_style='info', max=1), HTML(value='')))"
      ]
     },
     "metadata": {},
     "output_type": "display_data"
    },
    {
     "data": {
      "application/vnd.jupyter.widget-view+json": {
       "model_id": "bb0a8585a74a4443bffe04f3c5ccffed",
       "version_major": 2,
       "version_minor": 0
      },
      "text/plain": [
       "HBox(children=(IntProgress(value=1, bar_style='info', max=1), HTML(value='')))"
      ]
     },
     "metadata": {},
     "output_type": "display_data"
    },
    {
     "data": {
      "application/vnd.jupyter.widget-view+json": {
       "model_id": "69829624f73b4398b7c7b752e87ee988",
       "version_major": 2,
       "version_minor": 0
      },
      "text/plain": [
       "HBox(children=(IntProgress(value=1, bar_style='info', max=1), HTML(value='')))"
      ]
     },
     "metadata": {},
     "output_type": "display_data"
    },
    {
     "data": {
      "application/vnd.jupyter.widget-view+json": {
       "model_id": "d189872406584c288051827e80485649",
       "version_major": 2,
       "version_minor": 0
      },
      "text/plain": [
       "HBox(children=(IntProgress(value=1, bar_style='info', max=1), HTML(value='')))"
      ]
     },
     "metadata": {},
     "output_type": "display_data"
    },
    {
     "name": "stdout",
     "output_type": "stream",
     "text": [
      "Attribute Error!\n",
      "Error Code:Attribute Error! \n",
      "200\n",
      "삭제된 게시물입니다.\n",
      "Error Code:현재까지 저장된 본문의 개수:   20068Attribute Error!Attribute Error! \n",
      "\n",
      "삭제된 게시물입니다.\n",
      "\n",
      "Error Code:Error Code:\n",
      "\n",
      " Attribute Error! 현재까지 저장된 본문의 개수: 200\n",
      " 200\n",
      "Error Code:68\n",
      "  삭제된 게시물입니다.삭제된 게시물입니다.\n",
      "\n",
      "200\n",
      "\n",
      "현재까지 저장된 본문의 개수: \n",
      "현재까지 저장된 본문의 개수:  삭제된 게시물입니다.68 \n",
      " 68현재까지 저장된 본문의 개수: \n",
      "  \n",
      "\n",
      "68\n",
      " \n",
      "\n",
      "100 ~ 104의 블로그 본문 크롤링을 시작합니다.\n",
      "\n",
      " 제오헤어 구로디지털단지점 의 https://blog.naver.com/jsd4807/220473193260 블로그의 본문 크롤링 중...\n",
      "\n",
      "\n",
      " 제오헤어 구로디지털단지점 의 https://blog.naver.com/poi6240/220803102965 블로그의 본문 크롤링 중...\n",
      "\n",
      "\n",
      " 제오헤어 구로디지털단지점 의 https://blog.naver.com/zamtangei/220170682928 블로그의 본문 크롤링 중...\n",
      "\n",
      "\n",
      " 제오헤어 구로디지털단지점 의 https://blog.naver.com/bobby604/220433814383 블로그의 본문 크롤링 중...\n",
      "\n",
      "\n",
      " 제오헤어 구로디지털단지점 의 https://blog.naver.com/4everhy/220480180832 블로그의 본문 크롤링 중...\n",
      "\n"
     ]
    },
    {
     "data": {
      "application/vnd.jupyter.widget-view+json": {
       "model_id": "cb8c26fb0a91475c9a642cab3959fd50",
       "version_major": 2,
       "version_minor": 0
      },
      "text/plain": [
       "HBox(children=(IntProgress(value=1, bar_style='info', max=1), HTML(value='')))"
      ]
     },
     "metadata": {},
     "output_type": "display_data"
    },
    {
     "data": {
      "application/vnd.jupyter.widget-view+json": {
       "model_id": "93d03d3c6040475b8f4cc1b998b16f4e",
       "version_major": 2,
       "version_minor": 0
      },
      "text/plain": [
       "HBox(children=(IntProgress(value=1, bar_style='info', max=1), HTML(value='')))"
      ]
     },
     "metadata": {},
     "output_type": "display_data"
    },
    {
     "data": {
      "application/vnd.jupyter.widget-view+json": {
       "model_id": "24acb818cfa04e3f9687c851b2ad1cbd",
       "version_major": 2,
       "version_minor": 0
      },
      "text/plain": [
       "HBox(children=(IntProgress(value=1, bar_style='info', max=1), HTML(value='')))"
      ]
     },
     "metadata": {},
     "output_type": "display_data"
    },
    {
     "data": {
      "application/vnd.jupyter.widget-view+json": {
       "model_id": "7463db9cbaa64638ba259449bd09a620",
       "version_major": 2,
       "version_minor": 0
      },
      "text/plain": [
       "HBox(children=(IntProgress(value=1, bar_style='info', max=1), HTML(value='')))"
      ]
     },
     "metadata": {},
     "output_type": "display_data"
    },
    {
     "data": {
      "application/vnd.jupyter.widget-view+json": {
       "model_id": "422274299c1f451e853b8532aa173c02",
       "version_major": 2,
       "version_minor": 0
      },
      "text/plain": [
       "HBox(children=(IntProgress(value=1, bar_style='info', max=1), HTML(value='')))"
      ]
     },
     "metadata": {},
     "output_type": "display_data"
    },
    {
     "name": "stdout",
     "output_type": "stream",
     "text": [
      "Attribute Error!\n",
      "Error Code: 200\n",
      "삭제된 게시물입니다.\n",
      "현재까지 저장된 본문의 개수:  68 \n",
      "\n",
      "https://blog.naver.com/poi6240/220803102965Attribute Error! \n",
      "블로그의 본문 크롤링 성공!\n",
      "\n",
      "Error Code: 200\n",
      "삭제된 게시물입니다.\n",
      "Attribute Error!현재까지 저장된 본문의 개수: \n",
      "Error Code:  69200Attribute Error!\n",
      " \n",
      "\n",
      "Error Code:삭제된 게시물입니다.\n",
      " \n",
      "200현재까지 저장된 본문의 개수:  \n",
      "69삭제된 게시물입니다.\n",
      " \n",
      "현재까지 저장된 본문의 개수: \n",
      " 69 \n",
      "\n",
      "잘못된 접근이거나 삭제된 게시물입니다.\n",
      "다음 블로그 크롤링을 진행합니다.\n",
      "\n",
      "현재까지 저장된 본문의 개수:  69 \n",
      "\n",
      "105 ~ 109의 블로그 본문 크롤링을 시작합니다.\n",
      "\n",
      " 제오헤어 구로디지털단지점 의 https://blog.naver.com/lilllllil/220193470616 블로그의 본문 크롤링 중...\n",
      "\n",
      "\n",
      " 제오헤어 구로디지털단지점 의 https://blog.naver.com/bjkimbamtol/220239463747 블로그의 본문 크롤링 중...\n",
      "\n",
      "\n",
      " 제오헤어 구로디지털단지점 의 https://blog.naver.com/okuimasami/220189000600 블로그의 본문 크롤링 중...\n",
      "\n",
      "\n",
      " 제오헤어 구로디지털단지점 의 https://blog.naver.com/72591004/220176617460 블로그의 본문 크롤링 중...\n",
      "\n",
      "\n",
      " 제오헤어 구로디지털단지점 의 https://blog.naver.com/llzzinll/220198807718 블로그의 본문 크롤링 중...\n",
      "\n"
     ]
    },
    {
     "data": {
      "application/vnd.jupyter.widget-view+json": {
       "model_id": "636e0ae016954980846cbf812d5fbef4",
       "version_major": 2,
       "version_minor": 0
      },
      "text/plain": [
       "HBox(children=(IntProgress(value=1, bar_style='info', max=1), HTML(value='')))"
      ]
     },
     "metadata": {},
     "output_type": "display_data"
    },
    {
     "data": {
      "application/vnd.jupyter.widget-view+json": {
       "model_id": "8ceee3e5c77f42fd980c1db1cadd0f66",
       "version_major": 2,
       "version_minor": 0
      },
      "text/plain": [
       "HBox(children=(IntProgress(value=1, bar_style='info', max=1), HTML(value='')))"
      ]
     },
     "metadata": {},
     "output_type": "display_data"
    },
    {
     "data": {
      "application/vnd.jupyter.widget-view+json": {
       "model_id": "42034fb36cea4a859713fb39b7bca803",
       "version_major": 2,
       "version_minor": 0
      },
      "text/plain": [
       "HBox(children=(IntProgress(value=1, bar_style='info', max=1), HTML(value='')))"
      ]
     },
     "metadata": {},
     "output_type": "display_data"
    },
    {
     "data": {
      "application/vnd.jupyter.widget-view+json": {
       "model_id": "656e0a5504f041288ad5531a8646c7b6",
       "version_major": 2,
       "version_minor": 0
      },
      "text/plain": [
       "HBox(children=(IntProgress(value=1, bar_style='info', max=1), HTML(value='')))"
      ]
     },
     "metadata": {},
     "output_type": "display_data"
    },
    {
     "data": {
      "application/vnd.jupyter.widget-view+json": {
       "model_id": "5b46cb32eed84ee4808271c2d019b7ee",
       "version_major": 2,
       "version_minor": 0
      },
      "text/plain": [
       "HBox(children=(IntProgress(value=1, bar_style='info', max=1), HTML(value='')))"
      ]
     },
     "metadata": {},
     "output_type": "display_data"
    },
    {
     "name": "stdout",
     "output_type": "stream",
     "text": [
      "Attribute Error!\n",
      "Error Code: 200\n",
      "Attribute Error!삭제된 게시물입니다.Attribute Error!\n",
      "\n",
      "\n",
      "\n",
      "Error Code:현재까지 저장된 본문의 개수: Error Code:\n",
      "   20069\n",
      "200\n",
      " Attribute Error!삭제된 게시물입니다.\n",
      "\n",
      "Attribute Error!\n",
      "삭제된 게시물입니다.\n",
      "\n",
      "\n",
      "\n",
      "Error Code:현재까지 저장된 본문의 개수: Error Code:현재까지 저장된 본문의 개수:     2002006969\n",
      " \n",
      "삭제된 게시물입니다. 삭제된 게시물입니다.\n",
      "\n",
      "\n",
      "\n",
      "\n",
      "현재까지 저장된 본문의 개수: \n",
      "현재까지 저장된 본문의 개수:   6969  \n",
      "\n",
      "\n",
      "\n",
      "110 ~ 114의 블로그 본문 크롤링을 시작합니다.\n",
      "\n",
      " 제오헤어 구로디지털단지점 의 https://blog.naver.com/visavis86/220191290102 블로그의 본문 크롤링 중...\n",
      "\n",
      "\n",
      " 제오헤어 구로디지털단지점 의 https://blog.naver.com/flfflqmffl/220799215370 블로그의 본문 크롤링 중...\n",
      "\n",
      "\n",
      " 제오헤어 구로디지털단지점 의 https://blog.naver.com/97760807/220821564932 블로그의 본문 크롤링 중...\n",
      "\n",
      "\n",
      " 제오헤어 구로디지털단지점 의 https://blog.naver.com/ss1821/220936226201 블로그의 본문 크롤링 중...\n",
      "\n",
      "\n",
      " 제오헤어 구로디지털단지점 의 https://blog.naver.com/angel_bean/220498077557 블로그의 본문 크롤링 중...\n",
      "\n"
     ]
    },
    {
     "data": {
      "application/vnd.jupyter.widget-view+json": {
       "model_id": "66efe8640d3745cd8747575319fe725c",
       "version_major": 2,
       "version_minor": 0
      },
      "text/plain": [
       "HBox(children=(IntProgress(value=1, bar_style='info', max=1), HTML(value='')))"
      ]
     },
     "metadata": {},
     "output_type": "display_data"
    },
    {
     "data": {
      "application/vnd.jupyter.widget-view+json": {
       "model_id": "d105eb8cdf784be38c5cabc59aabf35f",
       "version_major": 2,
       "version_minor": 0
      },
      "text/plain": [
       "HBox(children=(IntProgress(value=1, bar_style='info', max=1), HTML(value='')))"
      ]
     },
     "metadata": {},
     "output_type": "display_data"
    },
    {
     "data": {
      "application/vnd.jupyter.widget-view+json": {
       "model_id": "95012a038fe1443386b8ff380c112b48",
       "version_major": 2,
       "version_minor": 0
      },
      "text/plain": [
       "HBox(children=(IntProgress(value=1, bar_style='info', max=1), HTML(value='')))"
      ]
     },
     "metadata": {},
     "output_type": "display_data"
    },
    {
     "data": {
      "application/vnd.jupyter.widget-view+json": {
       "model_id": "5e026ff26998486f93dc1a2c786de197",
       "version_major": 2,
       "version_minor": 0
      },
      "text/plain": [
       "HBox(children=(IntProgress(value=1, bar_style='info', max=1), HTML(value='')))"
      ]
     },
     "metadata": {},
     "output_type": "display_data"
    },
    {
     "data": {
      "application/vnd.jupyter.widget-view+json": {
       "model_id": "3324864e91734ce7acb18edc702cb21c",
       "version_major": 2,
       "version_minor": 0
      },
      "text/plain": [
       "HBox(children=(IntProgress(value=1, bar_style='info', max=1), HTML(value='')))"
      ]
     },
     "metadata": {},
     "output_type": "display_data"
    },
    {
     "name": "stdout",
     "output_type": "stream",
     "text": [
      "Attribute Error!\n",
      "Error Code: 200\n",
      "삭제된 게시물입니다.\n",
      "현재까지 저장된 본문의 개수:  69 \n",
      "\n",
      "https://blog.naver.com/ss1821/220936226201 블로그의 본문 크롤링 성공!\n",
      "https://blog.naver.com/97760807/220821564932 \n",
      "블로그의 본문 크롤링 성공!\n",
      "\n",
      "https://blog.naver.com/flfflqmffl/220799215370 블로그의 본문 크롤링 성공!\n",
      "\n",
      "Attribute Error!\n",
      "Error Code: 200\n",
      "삭제된 게시물입니다.\n",
      "현재까지 저장된 본문의 개수:  72 \n",
      "\n",
      "잘못된 접근이거나 삭제된 게시물입니다.잘못된 접근이거나 삭제된 게시물입니다.\n",
      "\n",
      "다음 블로그 크롤링을 진행합니다.다음 블로그 크롤링을 진행합니다.\n",
      "\n",
      "\n",
      "현재까지 저장된 본문의 개수: \n",
      " 현재까지 저장된 본문의 개수:  72 72 \n",
      "\n",
      "\n",
      "\n",
      "잘못된 접근이거나 삭제된 게시물입니다.\n",
      "다음 블로그 크롤링을 진행합니다.\n",
      "\n",
      "현재까지 저장된 본문의 개수:  72 \n",
      "\n",
      "115 ~ 119의 블로그 본문 크롤링을 시작합니다.\n",
      "\n",
      " 제오헤어 구로디지털단지점 의 https://blog.naver.com/korpgh/221232975533 블로그의 본문 크롤링 중...\n",
      "\n",
      "\n",
      " 제오헤어 구로디지털단지점 의 https://blog.naver.com/jj_dda/220766461069 블로그의 본문 크롤링 중...\n",
      "\n",
      "\n",
      " 제오헤어 구로디지털단지점 의 https://blog.naver.com/myqnamyqna/220756064252 블로그의 본문 크롤링 중...\n",
      "\n",
      "\n",
      " 제오헤어 구로디지털단지점 의 https://blog.naver.com/lyjzzang012/220805511530 블로그의 본문 크롤링 중...\n",
      "\n",
      "\n",
      " 제오헤어 구로디지털단지점 의 https://blog.naver.com/00kiki_j/220789160246 블로그의 본문 크롤링 중...\n",
      "\n"
     ]
    },
    {
     "data": {
      "application/vnd.jupyter.widget-view+json": {
       "model_id": "57af2188b29d412f97c7ec4cac8477b9",
       "version_major": 2,
       "version_minor": 0
      },
      "text/plain": [
       "HBox(children=(IntProgress(value=1, bar_style='info', max=1), HTML(value='')))"
      ]
     },
     "metadata": {},
     "output_type": "display_data"
    },
    {
     "data": {
      "application/vnd.jupyter.widget-view+json": {
       "model_id": "b26bf88c000f49fda8ae3b11e515cb62",
       "version_major": 2,
       "version_minor": 0
      },
      "text/plain": [
       "HBox(children=(IntProgress(value=1, bar_style='info', max=1), HTML(value='')))"
      ]
     },
     "metadata": {},
     "output_type": "display_data"
    },
    {
     "data": {
      "application/vnd.jupyter.widget-view+json": {
       "model_id": "01d9dc13f842490b9bd6aa7b31eeafca",
       "version_major": 2,
       "version_minor": 0
      },
      "text/plain": [
       "HBox(children=(IntProgress(value=1, bar_style='info', max=1), HTML(value='')))"
      ]
     },
     "metadata": {},
     "output_type": "display_data"
    },
    {
     "data": {
      "application/vnd.jupyter.widget-view+json": {
       "model_id": "d7ab86eed2bd4da89d556cdd89f63a6d",
       "version_major": 2,
       "version_minor": 0
      },
      "text/plain": [
       "HBox(children=(IntProgress(value=1, bar_style='info', max=1), HTML(value='')))"
      ]
     },
     "metadata": {},
     "output_type": "display_data"
    },
    {
     "data": {
      "application/vnd.jupyter.widget-view+json": {
       "model_id": "ece26656a7164c9a8016c0f243017e70",
       "version_major": 2,
       "version_minor": 0
      },
      "text/plain": [
       "HBox(children=(IntProgress(value=1, bar_style='info', max=1), HTML(value='')))"
      ]
     },
     "metadata": {},
     "output_type": "display_data"
    },
    {
     "name": "stdout",
     "output_type": "stream",
     "text": [
      "Attribute Error!\n",
      "Error Code: 200\n",
      "삭제된 게시물입니다.\n",
      "현재까지 저장된 본문의 개수:  72 \n",
      "\n",
      "https://blog.naver.com/korpgh/221232975533 블로그의 본문 크롤링 성공!\n",
      "\n",
      "Attribute Error!\n",
      "Error Code: 200\n",
      "삭제된 게시물입니다.\n",
      "Attribute Error!현재까지 저장된 본문의 개수: \n",
      "Error Code: 73  200\n",
      "\n",
      "삭제된 게시물입니다.\n",
      "\n",
      "현재까지 저장된 본문의 개수:  Attribute Error!73\n",
      " \n",
      "Error Code: \n",
      "200\n",
      "삭제된 게시물입니다.\n",
      "현재까지 저장된 본문의 개수:  73 \n",
      "\n",
      "잘못된 접근이거나 삭제된 게시물입니다.\n",
      "다음 블로그 크롤링을 진행합니다.\n",
      "\n",
      "현재까지 저장된 본문의 개수:  73 \n",
      "\n",
      "120 ~ 124의 블로그 본문 크롤링을 시작합니다.\n",
      "\n",
      " 제오헤어 구로디지털단지점 의 https://blog.naver.com/wjddmsdl6650/220264720942 블로그의 본문 크롤링 중...\n",
      "\n",
      "\n",
      " 제오헤어 구로디지털단지점 의 https://blog.naver.com/jadu0407/220798997121 블로그의 본문 크롤링 중...\n",
      "\n",
      "\n",
      " 제오헤어 구로디지털단지점 의 https://blog.naver.com/fairy_hs/220784811435 블로그의 본문 크롤링 중...\n",
      "\n",
      "\n",
      " 제오헤어 구로디지털단지점 의 https://blog.naver.com/kim_ys_/220774622102 블로그의 본문 크롤링 중...\n",
      "\n",
      "\n",
      " 제오헤어 구로디지털단지점 의 https://blog.naver.com/hafen/220765108623 블로그의 본문 크롤링 중...\n",
      "\n"
     ]
    },
    {
     "data": {
      "application/vnd.jupyter.widget-view+json": {
       "model_id": "993983370d5c4bf39c7253bc9eeb09aa",
       "version_major": 2,
       "version_minor": 0
      },
      "text/plain": [
       "HBox(children=(IntProgress(value=1, bar_style='info', max=1), HTML(value='')))"
      ]
     },
     "metadata": {},
     "output_type": "display_data"
    },
    {
     "data": {
      "application/vnd.jupyter.widget-view+json": {
       "model_id": "6bea3ab0d6e2440ca2b3102a716652ea",
       "version_major": 2,
       "version_minor": 0
      },
      "text/plain": [
       "HBox(children=(IntProgress(value=1, bar_style='info', max=1), HTML(value='')))"
      ]
     },
     "metadata": {},
     "output_type": "display_data"
    },
    {
     "data": {
      "application/vnd.jupyter.widget-view+json": {
       "model_id": "fd6d06a4175c48ecbd4bd92f378452fb",
       "version_major": 2,
       "version_minor": 0
      },
      "text/plain": [
       "HBox(children=(IntProgress(value=1, bar_style='info', max=1), HTML(value='')))"
      ]
     },
     "metadata": {},
     "output_type": "display_data"
    },
    {
     "data": {
      "application/vnd.jupyter.widget-view+json": {
       "model_id": "fd687b5b975d422da750f503e4eabe6a",
       "version_major": 2,
       "version_minor": 0
      },
      "text/plain": [
       "HBox(children=(IntProgress(value=1, bar_style='info', max=1), HTML(value='')))"
      ]
     },
     "metadata": {},
     "output_type": "display_data"
    },
    {
     "data": {
      "application/vnd.jupyter.widget-view+json": {
       "model_id": "48f5a241b6b14683973a3f2598a32abc",
       "version_major": 2,
       "version_minor": 0
      },
      "text/plain": [
       "HBox(children=(IntProgress(value=1, bar_style='info', max=1), HTML(value='')))"
      ]
     },
     "metadata": {},
     "output_type": "display_data"
    },
    {
     "name": "stdout",
     "output_type": "stream",
     "text": [
      "Attribute Error!\n",
      "Error Code: 200\n",
      "삭제된 게시물입니다.\n",
      "현재까지 저장된 본문의 개수:  Attribute Error!73 \n",
      "\n",
      "Error Code: \n",
      "200\n",
      "삭제된 게시물입니다.\n",
      "현재까지 저장된 본문의 개수: Attribute Error!\n",
      " 73Error Code:  200\n",
      "\n",
      "삭제된 게시물입니다.\n",
      "\n",
      "https://blog.naver.com/hafen/220765108623 현재까지 저장된 본문의 개수:  블로그의 본문 크롤링 성공!\n",
      "74 \n",
      "\n",
      "\n",
      "https://blog.naver.com/kim_ys_/220774622102 블로그의 본문 크롤링 성공!\n",
      "\n",
      "잘못된 접근이거나 삭제된 게시물입니다.\n",
      "다음 블로그 크롤링을 진행합니다.\n",
      "잘못된 접근이거나 삭제된 게시물입니다.\n",
      "\n",
      "현재까지 저장된 본문의 개수: 다음 블로그 크롤링을 진행합니다. \n",
      "75 \n",
      "\n",
      "\n",
      "현재까지 저장된 본문의 개수:  75 \n",
      "\n",
      "125 ~ 129의 블로그 본문 크롤링을 시작합니다.\n",
      "\n",
      "\n",
      "\n"
     ]
    },
    {
     "name": "stderr",
     "output_type": "stream",
     "text": [
      "Exception in thread Thread-6:\n",
      "Traceback (most recent call last):\n",
      "  File \"C:\\Users\\82106\\Anaconda3\\lib\\threading.py\", line 926, in _bootstrap_inner\n",
      "    self.run()\n",
      "  File \"C:\\Users\\82106\\Anaconda3\\lib\\site-packages\\tqdm\\_monitor.py\", line 78, in run\n",
      "    instances = self.get_instances()\n",
      "  File \"C:\\Users\\82106\\Anaconda3\\lib\\site-packages\\tqdm\\_monitor.py\", line 58, in get_instances\n",
      "    return [i for i in self.tqdm_cls._instances.copy()\n",
      "  File \"C:\\Users\\82106\\Anaconda3\\lib\\_weakrefset.py\", line 92, in copy\n",
      "    return self.__class__(self)\n",
      "  File \"C:\\Users\\82106\\Anaconda3\\lib\\_weakrefset.py\", line 50, in __init__\n",
      "    self.update(data)\n",
      "  File \"C:\\Users\\82106\\Anaconda3\\lib\\_weakrefset.py\", line 119, in update\n",
      "    for element in other:\n",
      "  File \"C:\\Users\\82106\\Anaconda3\\lib\\_weakrefset.py\", line 60, in __iter__\n",
      "    for itemref in self.data:\n",
      "RuntimeError: Set changed size during iteration\n",
      "\n"
     ]
    },
    {
     "name": "stdout",
     "output_type": "stream",
     "text": [
      "\n",
      " 제오헤어 구로디지털단지점 의 https://blog.naver.com/sporobic/220487160259 블로그의 본문 크롤링 중...\n",
      "\n",
      "\n",
      " 제오헤어 구로디지털단지점 의 https://blog.naver.com/hachern0/220417188541 블로그의 본문 크롤링 중...\n",
      "\n",
      "\n",
      " 제오헤어 구로디지털단지점 의 https://blog.naver.com/eunkyung7364/220555289325 블로그의 본문 크롤링 중...\n",
      "\n",
      "\n",
      " 제오헤어 구로디지털단지점 의 https://blog.naver.com/ahapc1004/220308729321 블로그의 본문 크롤링 중...\n",
      "\n",
      "\n",
      " 제오헤어 구로디지털단지점 의 https://blog.naver.com/youngs1227/220383893220 블로그의 본문 크롤링 중...\n",
      "\n"
     ]
    },
    {
     "data": {
      "application/vnd.jupyter.widget-view+json": {
       "model_id": "5013c4ef0d5845479a8d8fce8c69e3e4",
       "version_major": 2,
       "version_minor": 0
      },
      "text/plain": [
       "HBox(children=(IntProgress(value=1, bar_style='info', max=1), HTML(value='')))"
      ]
     },
     "metadata": {},
     "output_type": "display_data"
    },
    {
     "data": {
      "application/vnd.jupyter.widget-view+json": {
       "model_id": "66b51aec28694a0d80f826d1af2d264f",
       "version_major": 2,
       "version_minor": 0
      },
      "text/plain": [
       "HBox(children=(IntProgress(value=1, bar_style='info', max=1), HTML(value='')))"
      ]
     },
     "metadata": {},
     "output_type": "display_data"
    },
    {
     "data": {
      "application/vnd.jupyter.widget-view+json": {
       "model_id": "59bf70326f3d4fc6acd70a3b4d4b4228",
       "version_major": 2,
       "version_minor": 0
      },
      "text/plain": [
       "HBox(children=(IntProgress(value=1, bar_style='info', max=1), HTML(value='')))"
      ]
     },
     "metadata": {},
     "output_type": "display_data"
    },
    {
     "data": {
      "application/vnd.jupyter.widget-view+json": {
       "model_id": "989853d1285c43e2afc61f38af190e5d",
       "version_major": 2,
       "version_minor": 0
      },
      "text/plain": [
       "HBox(children=(IntProgress(value=1, bar_style='info', max=1), HTML(value='')))"
      ]
     },
     "metadata": {},
     "output_type": "display_data"
    },
    {
     "data": {
      "application/vnd.jupyter.widget-view+json": {
       "model_id": "01a54a96572842aca77b13d3a16ecb53",
       "version_major": 2,
       "version_minor": 0
      },
      "text/plain": [
       "HBox(children=(IntProgress(value=1, bar_style='info', max=1), HTML(value='')))"
      ]
     },
     "metadata": {},
     "output_type": "display_data"
    },
    {
     "name": "stdout",
     "output_type": "stream",
     "text": [
      "Attribute Error!\n",
      "Error Code: 200\n",
      "삭제된 게시물입니다.\n",
      "현재까지 저장된 본문의 개수:  75 \n",
      "\n",
      "Attribute Error!\n",
      "Error Code: 200Attribute Error!\n",
      "\n",
      "삭제된 게시물입니다.Error Code:\n",
      " 현재까지 저장된 본문의 개수:  20075\n",
      " 삭제된 게시물입니다.\n",
      "\n",
      "\n",
      "현재까지 저장된 본문의 개수:  Attribute Error!75\n",
      " Error Code:Attribute Error!\n",
      " \n",
      "\n",
      "200\n",
      "Error Code:삭제된 게시물입니다. \n",
      "200\n",
      "삭제된 게시물입니다.현재까지 저장된 본문의 개수: \n",
      " 현재까지 저장된 본문의 개수: 75  75\n",
      " \n",
      "\n",
      "\n",
      "130 ~ 134의 블로그 본문 크롤링을 시작합니다.\n"
     ]
    }
   ],
   "source": [
    "# 플레이스 블로그 본문 크롤링 함수의 스레딩 적용\n",
    "# 2020-05-15 (금) df_blog_review[0:10004]까지 크롤링\n",
    "# 이후 10004부터 Iter하면 됨\n",
    "# =========================================================================\n",
    "# 약 800 ~ 1000개의 리뷰 크롤링 이후에 AttributeError가 자주 발생한다.\n",
    "# 하지만 해당 링크로 접속했을 시 블로그 글에 정상적으로 접속할 수 있다,\n",
    "# 이는 자동화 수집을 방지하기 위해 네이버에서 의도적으로 막은 것으로 보인다.\n",
    "# 따라서 한번 수집 시 800 ~ 1000개를 넘지 않도록 해야한다.\n",
    "# =========================================================================\n",
    "a = 0 # 5759 #4583  # 4583 ~ 5564\n",
    "start_no = 0 # 5759\n",
    "end = a + 5\n",
    "end_df = 4240 # 5759\n",
    "\n",
    "# csv 파일 저장을 위한 final csv파일의 start index를 저장\n",
    "original_index_s = 0\n",
    "original_index_e = 362\n",
    "# 2020-05-15 (금) 블로그 썸네일 csv에서 10000개 블로그 크롤링 진행중\n",
    "# =========================================================================\n",
    "\n",
    "\n",
    "\n",
    "for i in tqdm_notebook(range(int(len(df_blog_review[start_no:end_df]) / 5))):\n",
    "    \n",
    "    print(str(a) + ' ~ ' + str(end - 1) + '의 블로그 본문 크롤링을 시작합니다.')\n",
    "    with ThreadPool(5) as tp:\n",
    "        # 스레드에 입력할 매개변수가 2개 이상일 경우 starmap을 사용한다.\n",
    "        tp.map(\n",
    "            text_save\n",
    "            , [df_blog_review['link'][ii] for ii in range(a, end)]\n",
    "        )\n",
    "        \n",
    "    a += 5\n",
    "    end += 5\n",
    "    time.sleep(0.5)\n",
    "    \n",
    "    if a > end_df:\n",
    "        break\n",
    "\n",
    "# ==========================================================================\n",
    "# 정상적으로 본문 크롤링이 된 블로그 정보 CSV 파일로 저장\n",
    "df_text.to_csv('./2020-05-18_place_blog-text_T (%i-%i) (%i-%i).csv' %(original_index_s, original_index_e, start_no, end_df))\n",
    "\n",
    "# 크롤링 도중 에러가 발생한 블로그 정보 CSV 파일로 저장\n",
    "df_text_error.to_csv('./2020-05-18_place_blog-error_T (%i-%i) (%i-%i).csv' %(original_index_s, original_index_e, start_no, end_df))\n",
    "\n",
    "# Requests Error가 발생한 블로그 정보 CSV 파일로 저장\n",
    "df_requests_error.to_csv('./2020-05-18_blog_requests-error_T (%i-%i) (%i-%i).csv' %(original_index_s, original_index_e, start_no, end_df))\n",
    "\n",
    "# 본문이 없거나, Attribute Error가 발생한 블로그 정보 CSV파일로 저장\n",
    "df_no_text.to_csv('./2020-05-18_blog_no_text_T (%i-%i) (%i-%i).csv' %(original_index_s, original_index_e, start_no, end_df))\n",
    "# =========================================================================="
   ]
  },
  {
   "cell_type": "code",
   "execution_count": 80,
   "metadata": {},
   "outputs": [
    {
     "data": {
      "text/html": [
       "<div>\n",
       "<style scoped>\n",
       "    .dataframe tbody tr th:only-of-type {\n",
       "        vertical-align: middle;\n",
       "    }\n",
       "\n",
       "    .dataframe tbody tr th {\n",
       "        vertical-align: top;\n",
       "    }\n",
       "\n",
       "    .dataframe thead th {\n",
       "        text-align: right;\n",
       "    }\n",
       "</style>\n",
       "<table border=\"1\" class=\"dataframe\">\n",
       "  <thead>\n",
       "    <tr style=\"text-align: right;\">\n",
       "      <th></th>\n",
       "      <th>store_id</th>\n",
       "      <th>store_name</th>\n",
       "      <th>link</th>\n",
       "      <th>main text</th>\n",
       "      <th>original_index</th>\n",
       "    </tr>\n",
       "  </thead>\n",
       "  <tbody>\n",
       "    <tr>\n",
       "      <td>0</td>\n",
       "      <td>1936355480</td>\n",
       "      <td>12월애헤어</td>\n",
       "      <td>https://blog.naver.com/hjsoju/221381156833</td>\n",
       "      <td>잠실미용실12월 애 愛 휘리릭바람을 가르지 못한 제 투톤 쓰리톤 포톤뿌염 하기 싫어...</td>\n",
       "      <td>173</td>\n",
       "    </tr>\n",
       "    <tr>\n",
       "      <td>1</td>\n",
       "      <td>1936355480</td>\n",
       "      <td>12월애헤어</td>\n",
       "      <td>https://blog.naver.com/choibi_89/221333265559</td>\n",
       "      <td>석촌호수 근처로 예쁜 카페도 많고요즘같은날에 브런치하고 호수 한바퀴 드라이브하기에도...</td>\n",
       "      <td>173</td>\n",
       "    </tr>\n",
       "    <tr>\n",
       "      <td>2</td>\n",
       "      <td>1936355480</td>\n",
       "      <td>12월애헤어</td>\n",
       "      <td>https://blog.naver.com/a10000du/221377060349</td>\n",
       "      <td>석촌동미용실 12월애헤어 물미역트리트먼트안녕하세용 우리님들 주말과 함께 돌아온뷰티만...</td>\n",
       "      <td>173</td>\n",
       "    </tr>\n",
       "    <tr>\n",
       "      <td>3</td>\n",
       "      <td>36827152</td>\n",
       "      <td>리안헤어 미아사거리역점</td>\n",
       "      <td>https://blog.naver.com/fldksgpdj901/221315792182</td>\n",
       "      <td>습기가 많아지고 더워지는 여름 곱슬기 있는 분들이라면정말 머리를 둘레둘레 흔들며 스...</td>\n",
       "      <td>171</td>\n",
       "    </tr>\n",
       "    <tr>\n",
       "      <td>4</td>\n",
       "      <td>36827152</td>\n",
       "      <td>리안헤어 미아사거리역점</td>\n",
       "      <td>https://blog.naver.com/fldksgpdj901/221265836901</td>\n",
       "      <td>요즘 자유로움을 마음껏 뽐내는 웨이브 스타일많이들 도전하시죠 그래서 오늘은 히피펌 ...</td>\n",
       "      <td>171</td>\n",
       "    </tr>\n",
       "    <tr>\n",
       "      <td>...</td>\n",
       "      <td>...</td>\n",
       "      <td>...</td>\n",
       "      <td>...</td>\n",
       "      <td>...</td>\n",
       "      <td>...</td>\n",
       "    </tr>\n",
       "    <tr>\n",
       "      <td>69</td>\n",
       "      <td>34883044</td>\n",
       "      <td>제오헤어 구로디지털단지점</td>\n",
       "      <td>https://blog.naver.com/flfflqmffl/220799215370</td>\n",
       "      <td>구로디지털단지 미용실 제오헤어 릴리블리 블로그 L I L Y V E L Y 제오헤어...</td>\n",
       "      <td>178</td>\n",
       "    </tr>\n",
       "    <tr>\n",
       "      <td>70</td>\n",
       "      <td>34883044</td>\n",
       "      <td>제오헤어 구로디지털단지점</td>\n",
       "      <td>https://blog.naver.com/97760807/220821564932</td>\n",
       "      <td>구로디지털단지 미용실 제오헤어클리닉받기 지난번 잘못된 펌으로 클리닉모드로 다시 바꾼...</td>\n",
       "      <td>178</td>\n",
       "    </tr>\n",
       "    <tr>\n",
       "      <td>71</td>\n",
       "      <td>34883044</td>\n",
       "      <td>제오헤어 구로디지털단지점</td>\n",
       "      <td>https://blog.naver.com/korpgh/221232975533</td>\n",
       "      <td>제오헤어 구로디지털단지점서울특별시 구로구 시흥대로 565저장 관심 장소를 플레이스 ...</td>\n",
       "      <td>178</td>\n",
       "    </tr>\n",
       "    <tr>\n",
       "      <td>72</td>\n",
       "      <td>34883044</td>\n",
       "      <td>제오헤어 구로디지털단지점</td>\n",
       "      <td>https://blog.naver.com/kim_ys_/220774622102</td>\n",
       "      <td>동생이랑 구로디지털단지에서 데이트하고 구로디지털단지 미용실 제오헤어에서 클리닉 받고...</td>\n",
       "      <td>178</td>\n",
       "    </tr>\n",
       "    <tr>\n",
       "      <td>73</td>\n",
       "      <td>34883044</td>\n",
       "      <td>제오헤어 구로디지털단지점</td>\n",
       "      <td>https://blog.naver.com/hafen/220765108623</td>\n",
       "      <td>제오헤어 구디점 효성쌤 추천 02 865 3591 서울시 구로구 구로동 1125 4...</td>\n",
       "      <td>178</td>\n",
       "    </tr>\n",
       "  </tbody>\n",
       "</table>\n",
       "<p>74 rows × 5 columns</p>\n",
       "</div>"
      ],
      "text/plain": [
       "      store_id     store_name  \\\n",
       "0   1936355480         12월애헤어   \n",
       "1   1936355480         12월애헤어   \n",
       "2   1936355480         12월애헤어   \n",
       "3     36827152   리안헤어 미아사거리역점   \n",
       "4     36827152   리안헤어 미아사거리역점   \n",
       "..         ...            ...   \n",
       "69    34883044  제오헤어 구로디지털단지점   \n",
       "70    34883044  제오헤어 구로디지털단지점   \n",
       "71    34883044  제오헤어 구로디지털단지점   \n",
       "72    34883044  제오헤어 구로디지털단지점   \n",
       "73    34883044  제오헤어 구로디지털단지점   \n",
       "\n",
       "                                                link  \\\n",
       "0         https://blog.naver.com/hjsoju/221381156833   \n",
       "1      https://blog.naver.com/choibi_89/221333265559   \n",
       "2       https://blog.naver.com/a10000du/221377060349   \n",
       "3   https://blog.naver.com/fldksgpdj901/221315792182   \n",
       "4   https://blog.naver.com/fldksgpdj901/221265836901   \n",
       "..                                               ...   \n",
       "69    https://blog.naver.com/flfflqmffl/220799215370   \n",
       "70      https://blog.naver.com/97760807/220821564932   \n",
       "71        https://blog.naver.com/korpgh/221232975533   \n",
       "72       https://blog.naver.com/kim_ys_/220774622102   \n",
       "73         https://blog.naver.com/hafen/220765108623   \n",
       "\n",
       "                                            main text original_index  \n",
       "0   잠실미용실12월 애 愛 휘리릭바람을 가르지 못한 제 투톤 쓰리톤 포톤뿌염 하기 싫어...            173  \n",
       "1   석촌호수 근처로 예쁜 카페도 많고요즘같은날에 브런치하고 호수 한바퀴 드라이브하기에도...            173  \n",
       "2   석촌동미용실 12월애헤어 물미역트리트먼트안녕하세용 우리님들 주말과 함께 돌아온뷰티만...            173  \n",
       "3   습기가 많아지고 더워지는 여름 곱슬기 있는 분들이라면정말 머리를 둘레둘레 흔들며 스...            171  \n",
       "4   요즘 자유로움을 마음껏 뽐내는 웨이브 스타일많이들 도전하시죠 그래서 오늘은 히피펌 ...            171  \n",
       "..                                                ...            ...  \n",
       "69  구로디지털단지 미용실 제오헤어 릴리블리 블로그 L I L Y V E L Y 제오헤어...            178  \n",
       "70  구로디지털단지 미용실 제오헤어클리닉받기 지난번 잘못된 펌으로 클리닉모드로 다시 바꾼...            178  \n",
       "71  제오헤어 구로디지털단지점서울특별시 구로구 시흥대로 565저장 관심 장소를 플레이스 ...            178  \n",
       "72  동생이랑 구로디지털단지에서 데이트하고 구로디지털단지 미용실 제오헤어에서 클리닉 받고...            178  \n",
       "73  제오헤어 구디점 효성쌤 추천 02 865 3591 서울시 구로구 구로동 1125 4...            178  \n",
       "\n",
       "[74 rows x 5 columns]"
      ]
     },
     "execution_count": 80,
     "metadata": {},
     "output_type": "execute_result"
    }
   ],
   "source": [
    "df_text"
   ]
  },
  {
   "cell_type": "code",
   "execution_count": 19,
   "metadata": {},
   "outputs": [
    {
     "data": {
      "text/plain": [
       "5000"
      ]
     },
     "execution_count": 19,
     "metadata": {},
     "output_type": "execute_result"
    }
   ],
   "source": [
    "a = 10004 # 5759 #4583  # 4583 ~ 5564\n",
    "start_no = 10004 # 5759\n",
    "end_df = int(len(df_blog_review[start_no:15004]))\n",
    "end_df"
   ]
  },
  {
   "cell_type": "code",
   "execution_count": 8,
   "metadata": {
    "scrolled": true
   },
   "outputs": [
    {
     "data": {
      "text/html": [
       "<div>\n",
       "<style scoped>\n",
       "    .dataframe tbody tr th:only-of-type {\n",
       "        vertical-align: middle;\n",
       "    }\n",
       "\n",
       "    .dataframe tbody tr th {\n",
       "        vertical-align: top;\n",
       "    }\n",
       "\n",
       "    .dataframe thead th {\n",
       "        text-align: right;\n",
       "    }\n",
       "</style>\n",
       "<table border=\"1\" class=\"dataframe\">\n",
       "  <thead>\n",
       "    <tr style=\"text-align: right;\">\n",
       "      <th></th>\n",
       "      <th>store_id</th>\n",
       "      <th>store_name</th>\n",
       "      <th>link</th>\n",
       "      <th>original_index</th>\n",
       "    </tr>\n",
       "  </thead>\n",
       "  <tbody>\n",
       "    <tr>\n",
       "      <td>0</td>\n",
       "      <td>82379273</td>\n",
       "      <td>라트리헤어 스파힐 강남베르점</td>\n",
       "      <td>https://blog.naver.com/wldnjs2465/221745173453</td>\n",
       "      <td>174</td>\n",
       "    </tr>\n",
       "    <tr>\n",
       "      <td>1</td>\n",
       "      <td>82379273</td>\n",
       "      <td>라트리헤어 스파힐 강남베르점</td>\n",
       "      <td>https://blog.naver.com/wldnjs2465/221748402369</td>\n",
       "      <td>174</td>\n",
       "    </tr>\n",
       "    <tr>\n",
       "      <td>2</td>\n",
       "      <td>82379273</td>\n",
       "      <td>라트리헤어 스파힐 강남베르점</td>\n",
       "      <td>https://blog.naver.com/wldnjs2465/221740135665</td>\n",
       "      <td>174</td>\n",
       "    </tr>\n",
       "    <tr>\n",
       "      <td>3</td>\n",
       "      <td>82379273</td>\n",
       "      <td>라트리헤어 스파힐 강남베르점</td>\n",
       "      <td>https://blog.naver.com/wldnjs2465/221738311058</td>\n",
       "      <td>174</td>\n",
       "    </tr>\n",
       "    <tr>\n",
       "      <td>4</td>\n",
       "      <td>82379273</td>\n",
       "      <td>라트리헤어 스파힐 강남베르점</td>\n",
       "      <td>https://blog.naver.com/wldnjs2465/221806059676</td>\n",
       "      <td>174</td>\n",
       "    </tr>\n",
       "    <tr>\n",
       "      <td>...</td>\n",
       "      <td>...</td>\n",
       "      <td>...</td>\n",
       "      <td>...</td>\n",
       "      <td>...</td>\n",
       "    </tr>\n",
       "    <tr>\n",
       "      <td>4235</td>\n",
       "      <td>38310407</td>\n",
       "      <td>넌데일리</td>\n",
       "      <td>https://blog.naver.com/nondailysom/220940941217</td>\n",
       "      <td>299</td>\n",
       "    </tr>\n",
       "    <tr>\n",
       "      <td>4236</td>\n",
       "      <td>38310407</td>\n",
       "      <td>넌데일리</td>\n",
       "      <td>https://blog.naver.com/nondaily-jung/221024656486</td>\n",
       "      <td>299</td>\n",
       "    </tr>\n",
       "    <tr>\n",
       "      <td>4237</td>\n",
       "      <td>38310407</td>\n",
       "      <td>넌데일리</td>\n",
       "      <td>https://blog.naver.com/nondaily-jung/221033374741</td>\n",
       "      <td>299</td>\n",
       "    </tr>\n",
       "    <tr>\n",
       "      <td>4238</td>\n",
       "      <td>38310407</td>\n",
       "      <td>넌데일리</td>\n",
       "      <td>https://blog.naver.com/nondailyofficial/220811...</td>\n",
       "      <td>299</td>\n",
       "    </tr>\n",
       "    <tr>\n",
       "      <td>4239</td>\n",
       "      <td>38310407</td>\n",
       "      <td>넌데일리</td>\n",
       "      <td>https://blog.naver.com/nondaily-jung/221091345289</td>\n",
       "      <td>299</td>\n",
       "    </tr>\n",
       "  </tbody>\n",
       "</table>\n",
       "<p>4240 rows × 4 columns</p>\n",
       "</div>"
      ],
      "text/plain": [
       "      store_id       store_name  \\\n",
       "0     82379273  라트리헤어 스파힐 강남베르점   \n",
       "1     82379273  라트리헤어 스파힐 강남베르점   \n",
       "2     82379273  라트리헤어 스파힐 강남베르점   \n",
       "3     82379273  라트리헤어 스파힐 강남베르점   \n",
       "4     82379273  라트리헤어 스파힐 강남베르점   \n",
       "...        ...              ...   \n",
       "4235  38310407             넌데일리   \n",
       "4236  38310407             넌데일리   \n",
       "4237  38310407             넌데일리   \n",
       "4238  38310407             넌데일리   \n",
       "4239  38310407             넌데일리   \n",
       "\n",
       "                                                   link  original_index  \n",
       "0        https://blog.naver.com/wldnjs2465/221745173453             174  \n",
       "1        https://blog.naver.com/wldnjs2465/221748402369             174  \n",
       "2        https://blog.naver.com/wldnjs2465/221740135665             174  \n",
       "3        https://blog.naver.com/wldnjs2465/221738311058             174  \n",
       "4        https://blog.naver.com/wldnjs2465/221806059676             174  \n",
       "...                                                 ...             ...  \n",
       "4235    https://blog.naver.com/nondailysom/220940941217             299  \n",
       "4236  https://blog.naver.com/nondaily-jung/221024656486             299  \n",
       "4237  https://blog.naver.com/nondaily-jung/221033374741             299  \n",
       "4238  https://blog.naver.com/nondailyofficial/220811...             299  \n",
       "4239  https://blog.naver.com/nondaily-jung/221091345289             299  \n",
       "\n",
       "[4240 rows x 4 columns]"
      ]
     },
     "execution_count": 8,
     "metadata": {},
     "output_type": "execute_result"
    }
   ],
   "source": [
    "df_blog_review[0:4240]"
   ]
  },
  {
   "cell_type": "code",
   "execution_count": 6,
   "metadata": {},
   "outputs": [],
   "source": [
    "start_no = 0\n",
    "end_df = 2032\n",
    "original_index_s = 0\n",
    "original_index_e = 362\n",
    "df_text.to_csv('./place_review/2020-05-18_test (%i-%i) (%i-%i).csv' %(original_index_s, original_index_e, start_no, end_df))"
   ]
  }
 ],
 "metadata": {
  "kernelspec": {
   "display_name": "Python 3",
   "language": "python",
   "name": "python3"
  },
  "language_info": {
   "codemirror_mode": {
    "name": "ipython",
    "version": 3
   },
   "file_extension": ".py",
   "mimetype": "text/x-python",
   "name": "python",
   "nbconvert_exporter": "python",
   "pygments_lexer": "ipython3",
   "version": "3.7.4"
  }
 },
 "nbformat": 4,
 "nbformat_minor": 2
}
