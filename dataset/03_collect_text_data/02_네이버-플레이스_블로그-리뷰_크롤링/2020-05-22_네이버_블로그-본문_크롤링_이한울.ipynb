{
 "cells": [
  {
   "cell_type": "markdown",
   "metadata": {},
   "source": [
    "# 네이버 플레이스 블로그 리뷰 크롤링\n",
    "#### 2020-05-10 (일) 이한울\n",
    "---\n",
    "- 2020-05-10 (일): 플레이스 블로그 리뷰 긁어오기 및 스레딩 적용 완료\n",
    "---\n",
    "#### 2020-05-11 (월) 이한울\n",
    "---\n",
    "- 스레딩 실행 창에서 driver 경로를 본인의 크롬 드라이버가 있는 경로로 설정 후 실행\n",
    "- time.sleep을 넉넉하게 주어야 HTTP 에러를 최대한 회피할 수 있습니다.\n",
    "---\n",
    "#### 2020-05-14 (목) 이한울\n",
    "---\n",
    "- 구글 드라이브 > 팀프로젝트 폴더 > [00]...마리톡 > [03] 데이터 > [03] 네이버 플레이스 리뷰 크롤링 > **naver_place_count_total_2020-05-01_final.csv** 파일을 다운로드, 원하는 경로로 이동시킨 뒤 진행해야 합니다."
   ]
  },
  {
   "cell_type": "code",
   "execution_count": 19,
   "metadata": {},
   "outputs": [],
   "source": [
    "import  urllib.request\n",
    "import selenium\n",
    "from bs4 import BeautifulSoup\n",
    "import requests\n",
    "from urllib.request import urlopen\n",
    "from requests import ConnectionError, HTTPError, Timeout, TooManyRedirects\n",
    "import urllib3\n",
    "\n",
    "from pandas import Series, DataFrame\n",
    "import pandas as pd\n",
    "import numpy as np\n",
    "\n",
    "from datetime import datetime\n",
    "import time\n",
    "import sys\n",
    "import math\n",
    "import re\n",
    "from tqdm import tqdm, tqdm_notebook\n",
    "\n",
    "import selenium.common.exceptions as sce\n",
    "from selenium.webdriver.common.by import By\n",
    "from selenium.webdriver import Chrome\n",
    "from selenium.webdriver.common.keys import Keys\n",
    "from selenium import webdriver\n",
    "\n",
    "from queue import Queue\n",
    "from multiprocessing.pool import ThreadPool\n",
    "from threading import Thread\n",
    "from multiprocessing import Pool\n",
    "from concurrent.futures import ThreadPoolExecutor\n",
    "import concurrent.futures\n",
    "\n",
    "import glob\n",
    "import fnmatch"
   ]
  },
  {
   "cell_type": "code",
   "execution_count": 20,
   "metadata": {},
   "outputs": [],
   "source": [
    "# 블로그 검색 결과를 저장할 DataFrame 생성\n",
    "df_blog_review = \\\n",
    "DataFrame(columns=['store_id', 'store_name', 'title', 'writer', 'link', 'summary', 'blog_name', 'original_index'])"
   ]
  },
  {
   "cell_type": "code",
   "execution_count": 21,
   "metadata": {},
   "outputs": [],
   "source": [
    "df_blog_error = DataFrame(columns=['store_id','store_name','error_code', 'original_index'])"
   ]
  },
  {
   "cell_type": "code",
   "execution_count": 22,
   "metadata": {},
   "outputs": [],
   "source": [
    "df_blog_empty = DataFrame(columns=['store_id','store_name','original_index','blog_tab'])"
   ]
  },
  {
   "cell_type": "code",
   "execution_count": 23,
   "metadata": {},
   "outputs": [],
   "source": [
    "# 블로그 본문을 저장할 빈 DataFrame 생성\n",
    "df_text = DataFrame(columns=['store_id', 'store_name', 'link', 'main text', 'original_index'])"
   ]
  },
  {
   "cell_type": "code",
   "execution_count": 24,
   "metadata": {},
   "outputs": [
    {
     "data": {
      "text/html": [
       "<div>\n",
       "<style scoped>\n",
       "    .dataframe tbody tr th:only-of-type {\n",
       "        vertical-align: middle;\n",
       "    }\n",
       "\n",
       "    .dataframe tbody tr th {\n",
       "        vertical-align: top;\n",
       "    }\n",
       "\n",
       "    .dataframe thead th {\n",
       "        text-align: right;\n",
       "    }\n",
       "</style>\n",
       "<table border=\"1\" class=\"dataframe\">\n",
       "  <thead>\n",
       "    <tr style=\"text-align: right;\">\n",
       "      <th></th>\n",
       "      <th>store_id</th>\n",
       "      <th>store_id_only_num</th>\n",
       "      <th>store_name</th>\n",
       "      <th>booking</th>\n",
       "      <th>receipt</th>\n",
       "      <th>blog</th>\n",
       "      <th>total</th>\n",
       "    </tr>\n",
       "  </thead>\n",
       "  <tbody>\n",
       "    <tr>\n",
       "      <td>0</td>\n",
       "      <td>s1518997092</td>\n",
       "      <td>1518997092</td>\n",
       "      <td>준오헤어 노원사거리점</td>\n",
       "      <td>2015.0</td>\n",
       "      <td>3.0</td>\n",
       "      <td>15.0</td>\n",
       "      <td>2033.0</td>\n",
       "    </tr>\n",
       "    <tr>\n",
       "      <td>1</td>\n",
       "      <td>s1571970153</td>\n",
       "      <td>1571970153</td>\n",
       "      <td>차홍룸 홍대점</td>\n",
       "      <td>2009.0</td>\n",
       "      <td>1.0</td>\n",
       "      <td>10.0</td>\n",
       "      <td>2020.0</td>\n",
       "    </tr>\n",
       "    <tr>\n",
       "      <td>2</td>\n",
       "      <td>s1142939643</td>\n",
       "      <td>1142939643</td>\n",
       "      <td>차홍룸 용산센트럴점</td>\n",
       "      <td>1871.0</td>\n",
       "      <td>3.0</td>\n",
       "      <td>11.0</td>\n",
       "      <td>1885.0</td>\n",
       "    </tr>\n",
       "    <tr>\n",
       "      <td>3</td>\n",
       "      <td>s1481443590</td>\n",
       "      <td>1481443590</td>\n",
       "      <td>차홍룸 용산점</td>\n",
       "      <td>1541.0</td>\n",
       "      <td>2.0</td>\n",
       "      <td>11.0</td>\n",
       "      <td>1554.0</td>\n",
       "    </tr>\n",
       "    <tr>\n",
       "      <td>4</td>\n",
       "      <td>s1177346002</td>\n",
       "      <td>1177346002</td>\n",
       "      <td>차홍룸 양재점</td>\n",
       "      <td>1373.0</td>\n",
       "      <td>1.0</td>\n",
       "      <td>10.0</td>\n",
       "      <td>1384.0</td>\n",
       "    </tr>\n",
       "    <tr>\n",
       "      <td>...</td>\n",
       "      <td>...</td>\n",
       "      <td>...</td>\n",
       "      <td>...</td>\n",
       "      <td>...</td>\n",
       "      <td>...</td>\n",
       "      <td>...</td>\n",
       "      <td>...</td>\n",
       "    </tr>\n",
       "    <tr>\n",
       "      <td>2722</td>\n",
       "      <td>s38257322</td>\n",
       "      <td>38257322</td>\n",
       "      <td>바바헤어 대치점</td>\n",
       "      <td>1.0</td>\n",
       "      <td>1.0</td>\n",
       "      <td>2.0</td>\n",
       "      <td>4.0</td>\n",
       "    </tr>\n",
       "    <tr>\n",
       "      <td>2723</td>\n",
       "      <td>s1069634711</td>\n",
       "      <td>1069634711</td>\n",
       "      <td>정환헤어샵</td>\n",
       "      <td>1.0</td>\n",
       "      <td>1.0</td>\n",
       "      <td>2.0</td>\n",
       "      <td>4.0</td>\n",
       "    </tr>\n",
       "    <tr>\n",
       "      <td>2724</td>\n",
       "      <td>s20852762</td>\n",
       "      <td>20852762</td>\n",
       "      <td>머리짱헤어샵</td>\n",
       "      <td>1.0</td>\n",
       "      <td>2.0</td>\n",
       "      <td>1.0</td>\n",
       "      <td>4.0</td>\n",
       "    </tr>\n",
       "    <tr>\n",
       "      <td>2725</td>\n",
       "      <td>s36091089</td>\n",
       "      <td>36091089</td>\n",
       "      <td>살롱160</td>\n",
       "      <td>1.0</td>\n",
       "      <td>1.0</td>\n",
       "      <td>2.0</td>\n",
       "      <td>4.0</td>\n",
       "    </tr>\n",
       "    <tr>\n",
       "      <td>2726</td>\n",
       "      <td>s18206329</td>\n",
       "      <td>18206329</td>\n",
       "      <td>주주헤어 공릉본점</td>\n",
       "      <td>1.0</td>\n",
       "      <td>1.0</td>\n",
       "      <td>2.0</td>\n",
       "      <td>4.0</td>\n",
       "    </tr>\n",
       "  </tbody>\n",
       "</table>\n",
       "<p>2727 rows × 7 columns</p>\n",
       "</div>"
      ],
      "text/plain": [
       "         store_id  store_id_only_num   store_name  booking  receipt  blog  \\\n",
       "0     s1518997092         1518997092  준오헤어 노원사거리점   2015.0      3.0  15.0   \n",
       "1     s1571970153         1571970153      차홍룸 홍대점   2009.0      1.0  10.0   \n",
       "2     s1142939643         1142939643   차홍룸 용산센트럴점   1871.0      3.0  11.0   \n",
       "3     s1481443590         1481443590      차홍룸 용산점   1541.0      2.0  11.0   \n",
       "4     s1177346002         1177346002      차홍룸 양재점   1373.0      1.0  10.0   \n",
       "...           ...                ...          ...      ...      ...   ...   \n",
       "2722    s38257322           38257322     바바헤어 대치점      1.0      1.0   2.0   \n",
       "2723  s1069634711         1069634711        정환헤어샵      1.0      1.0   2.0   \n",
       "2724    s20852762           20852762       머리짱헤어샵      1.0      2.0   1.0   \n",
       "2725    s36091089           36091089        살롱160      1.0      1.0   2.0   \n",
       "2726    s18206329           18206329    주주헤어 공릉본점      1.0      1.0   2.0   \n",
       "\n",
       "       total  \n",
       "0     2033.0  \n",
       "1     2020.0  \n",
       "2     1885.0  \n",
       "3     1554.0  \n",
       "4     1384.0  \n",
       "...      ...  \n",
       "2722     4.0  \n",
       "2723     4.0  \n",
       "2724     4.0  \n",
       "2725     4.0  \n",
       "2726     4.0  \n",
       "\n",
       "[2727 rows x 7 columns]"
      ]
     },
     "execution_count": 24,
     "metadata": {},
     "output_type": "execute_result"
    }
   ],
   "source": [
    "# 플레이스의 업소별 ID를 담은 csv파일 DataFrame으로 변환\n",
    "# 본인이 naver_place_count_total_2020-05-01_final.csv를 저장한 경로로 설정\n",
    "df_place = \\\n",
    "DataFrame(pd.read_csv('./naver_place_count_total_2020-05-01_final.csv', sep=',', header=0, index_col=0))\n",
    "df_place"
   ]
  },
  {
   "cell_type": "markdown",
   "metadata": {},
   "source": [
    "# 블로그 본문 크롤링 함수\n",
    "## 위 블로그 리뷰 섬네일 크롤링 함수 모두 완료 후 진행해야 합니다!\n",
    "#### 2020-05-13 (수) 이한울\n",
    "---\n",
    "- 헤드리스 적용\n",
    "- 스레드 미구현\n",
    "- **위 블로그 리뷰 섬네일 크롤링 함수 모두 완료 후 진행해야 합니다!**\n",
    "---\n",
    "#### 2020-05-14 (목) 이한울\n",
    "---\n",
    "- 스레드 구현 완료\n",
    "- 본인이 저장한 CSV 파일의 경로와 이름명을 read_csv를 통해 DataFrame으로 변환한 뒤 실행하셔야 합니다.\n",
    "- **반드시 위 리뷰 썸네일 크롤링 함수에서 본인의 범위까지 크롤링을 완료한 뒤 진행해야 합니다.**\n",
    "- **함수가 다 실행된 후 CSV파일로 별도로 저장해야 합니다. (함수화 하지 않음)**"
   ]
  },
  {
   "cell_type": "code",
   "execution_count": 25,
   "metadata": {
    "scrolled": true
   },
   "outputs": [
    {
     "data": {
      "text/html": [
       "<div>\n",
       "<style scoped>\n",
       "    .dataframe tbody tr th:only-of-type {\n",
       "        vertical-align: middle;\n",
       "    }\n",
       "\n",
       "    .dataframe tbody tr th {\n",
       "        vertical-align: top;\n",
       "    }\n",
       "\n",
       "    .dataframe thead th {\n",
       "        text-align: right;\n",
       "    }\n",
       "</style>\n",
       "<table border=\"1\" class=\"dataframe\">\n",
       "  <thead>\n",
       "    <tr style=\"text-align: right;\">\n",
       "      <th></th>\n",
       "      <th>store_id</th>\n",
       "      <th>store_name</th>\n",
       "      <th>link</th>\n",
       "      <th>original_index</th>\n",
       "    </tr>\n",
       "  </thead>\n",
       "  <tbody>\n",
       "    <tr>\n",
       "      <td>0</td>\n",
       "      <td>36364106</td>\n",
       "      <td>리소헤어 건대점</td>\n",
       "      <td>https://blog.naver.com/wjddusdn555/220560372452</td>\n",
       "      <td>110</td>\n",
       "    </tr>\n",
       "    <tr>\n",
       "      <td>1</td>\n",
       "      <td>36364106</td>\n",
       "      <td>리소헤어 건대점</td>\n",
       "      <td>https://blog.naver.com/e_bi_ni/221873699746</td>\n",
       "      <td>110</td>\n",
       "    </tr>\n",
       "    <tr>\n",
       "      <td>2</td>\n",
       "      <td>36364106</td>\n",
       "      <td>리소헤어 건대점</td>\n",
       "      <td>https://blog.naver.com/aamy78/220454696999</td>\n",
       "      <td>110</td>\n",
       "    </tr>\n",
       "    <tr>\n",
       "      <td>3</td>\n",
       "      <td>36364106</td>\n",
       "      <td>리소헤어 건대점</td>\n",
       "      <td>https://blog.naver.com/ggmpiano/220410099438</td>\n",
       "      <td>110</td>\n",
       "    </tr>\n",
       "    <tr>\n",
       "      <td>4</td>\n",
       "      <td>36364106</td>\n",
       "      <td>리소헤어 건대점</td>\n",
       "      <td>https://blog.naver.com/jjungvely89/220438956964</td>\n",
       "      <td>110</td>\n",
       "    </tr>\n",
       "    <tr>\n",
       "      <td>...</td>\n",
       "      <td>...</td>\n",
       "      <td>...</td>\n",
       "      <td>...</td>\n",
       "      <td>...</td>\n",
       "    </tr>\n",
       "    <tr>\n",
       "      <td>3806</td>\n",
       "      <td>82379273</td>\n",
       "      <td>라트리헤어 스파힐 강남베르점</td>\n",
       "      <td>https://blog.naver.com/pertty6265/221755319664</td>\n",
       "      <td>174</td>\n",
       "    </tr>\n",
       "    <tr>\n",
       "      <td>3807</td>\n",
       "      <td>82379273</td>\n",
       "      <td>라트리헤어 스파힐 강남베르점</td>\n",
       "      <td>https://blog.naver.com/wldnjs2465/221767297766</td>\n",
       "      <td>174</td>\n",
       "    </tr>\n",
       "    <tr>\n",
       "      <td>3808</td>\n",
       "      <td>82379273</td>\n",
       "      <td>라트리헤어 스파힐 강남베르점</td>\n",
       "      <td>https://blog.naver.com/wjddbfl0000/221742523594</td>\n",
       "      <td>174</td>\n",
       "    </tr>\n",
       "    <tr>\n",
       "      <td>3809</td>\n",
       "      <td>82379273</td>\n",
       "      <td>라트리헤어 스파힐 강남베르점</td>\n",
       "      <td>https://blog.naver.com/xowo_644/221852428504</td>\n",
       "      <td>174</td>\n",
       "    </tr>\n",
       "    <tr>\n",
       "      <td>3810</td>\n",
       "      <td>82379273</td>\n",
       "      <td>라트리헤어 스파힐 강남베르점</td>\n",
       "      <td>https://blog.naver.com/hcir79/221755375185</td>\n",
       "      <td>174</td>\n",
       "    </tr>\n",
       "  </tbody>\n",
       "</table>\n",
       "<p>3811 rows × 4 columns</p>\n",
       "</div>"
      ],
      "text/plain": [
       "      store_id       store_name  \\\n",
       "0     36364106         리소헤어 건대점   \n",
       "1     36364106         리소헤어 건대점   \n",
       "2     36364106         리소헤어 건대점   \n",
       "3     36364106         리소헤어 건대점   \n",
       "4     36364106         리소헤어 건대점   \n",
       "...        ...              ...   \n",
       "3806  82379273  라트리헤어 스파힐 강남베르점   \n",
       "3807  82379273  라트리헤어 스파힐 강남베르점   \n",
       "3808  82379273  라트리헤어 스파힐 강남베르점   \n",
       "3809  82379273  라트리헤어 스파힐 강남베르점   \n",
       "3810  82379273  라트리헤어 스파힐 강남베르점   \n",
       "\n",
       "                                                 link  original_index  \n",
       "0     https://blog.naver.com/wjddusdn555/220560372452             110  \n",
       "1         https://blog.naver.com/e_bi_ni/221873699746             110  \n",
       "2          https://blog.naver.com/aamy78/220454696999             110  \n",
       "3        https://blog.naver.com/ggmpiano/220410099438             110  \n",
       "4     https://blog.naver.com/jjungvely89/220438956964             110  \n",
       "...                                               ...             ...  \n",
       "3806   https://blog.naver.com/pertty6265/221755319664             174  \n",
       "3807   https://blog.naver.com/wldnjs2465/221767297766             174  \n",
       "3808  https://blog.naver.com/wjddbfl0000/221742523594             174  \n",
       "3809     https://blog.naver.com/xowo_644/221852428504             174  \n",
       "3810       https://blog.naver.com/hcir79/221755375185             174  \n",
       "\n",
       "[3811 rows x 4 columns]"
      ]
     },
     "execution_count": 25,
     "metadata": {},
     "output_type": "execute_result"
    }
   ],
   "source": [
    "# 블로그리뷰 섬네일 저장 CSV 파일 읽어오기\n",
    "# 경로 직접 설정하셔야 합니다.\n",
    "csv_path = './2020-05-20_blog_no_text(not-in 0-362) (10004-15005)FINAL.csv'\n",
    "df_blog_review = pd.read_csv(csv_path, sep=',', header=0, index_col=0)\n",
    "df_blog_review"
   ]
  },
  {
   "cell_type": "code",
   "execution_count": 26,
   "metadata": {},
   "outputs": [],
   "source": [
    "# 에러가 발생한 블로그를 저장할 DataFrame 생성하기\n",
    "df_text_error = DataFrame(columns=['store_id','store_name','link','original_index'])"
   ]
  },
  {
   "cell_type": "code",
   "execution_count": 27,
   "metadata": {},
   "outputs": [],
   "source": [
    "# requests status code가 200이 아닌 것들을 저장할 DataFrame 생성하기\n",
    "df_requests_error = DataFrame(columns=['store_id', 'store_name', 'error_code', 'link', 'original_index'])"
   ]
  },
  {
   "cell_type": "code",
   "execution_count": 28,
   "metadata": {},
   "outputs": [],
   "source": [
    "df_no_text = DataFrame(columns=['store_id','store_name','link','original_index'])"
   ]
  },
  {
   "cell_type": "code",
   "execution_count": 29,
   "metadata": {},
   "outputs": [],
   "source": [
    "def sub_emoji(content):\n",
    "    \n",
    "    find_txt = (content.text).strip().replace('\\n', '')\n",
    "    p = re.compile(r'[\\\\u\\w]{1,}')\n",
    "    filtered_txt = p.findall(find_txt)\n",
    "    main_txt = ' '.join(filtered_txt)\n",
    "    \n",
    "    return main_txt"
   ]
  },
  {
   "cell_type": "code",
   "execution_count": 30,
   "metadata": {},
   "outputs": [],
   "source": [
    "def main_text_save(main_txt, store_id, store_name, url):\n",
    "    \n",
    "    global df_text\n",
    "    global df_place\n",
    "    \n",
    "    original_index = \\\n",
    "    (df_place[df_place['store_id_only_num'] == store_id]['store_name'].index).item()\n",
    "    \n",
    "    df_text= df_text.append({\n",
    "          'main text' : main_txt\n",
    "        , 'store_id' : store_id\n",
    "        , 'store_name' : store_name\n",
    "        , 'link' : url\n",
    "        , 'original_index' : original_index\n",
    "    }, ignore_index=True)\n",
    "    \n",
    "    return df_text"
   ]
  },
  {
   "cell_type": "code",
   "execution_count": 31,
   "metadata": {},
   "outputs": [],
   "source": [
    "# 에러 발생 시 따로 저장할 함수 선언\n",
    "def text_error_save(store_id, store_name, url):\n",
    "    \n",
    "    global df_text_error\n",
    "    global df_place\n",
    "    \n",
    "    original_index = \\\n",
    "    (df_place[df_place['store_id_only_num'] == store_id]['store_name'].index).item()\n",
    "    \n",
    "    df_text_error = df_text_error.append({\n",
    "          'store_id' : store_id\n",
    "        , 'store_name' : store_name\n",
    "        , 'link' : url\n",
    "        , 'original_index' : original_index\n",
    "    }, ignore_index=True)\n",
    "    \n",
    "    return df_text_error"
   ]
  },
  {
   "cell_type": "code",
   "execution_count": 32,
   "metadata": {},
   "outputs": [],
   "source": [
    "def requests_error_save(store_id, store_name, error_code, url):\n",
    "    \n",
    "    global df_requests_error\n",
    "    global df_place\n",
    "    \n",
    "    original_index = \\\n",
    "    (df_place[df_place['store_id_only_num'] == store_id]['store_name'].index).item()\n",
    "    \n",
    "    df_requests_error = df_requests_error.append({\n",
    "          'store_id' : store_id\n",
    "        , 'store_name' : store_name\n",
    "        , 'error_code' : error_code\n",
    "        , 'link' : url\n",
    "        , 'original_index' : original_index\n",
    "    }, ignore_index=True)\n",
    "    \n",
    "    return df_requests_error"
   ]
  },
  {
   "cell_type": "code",
   "execution_count": 33,
   "metadata": {},
   "outputs": [],
   "source": [
    "def blog_no_text(store_id, store_name, url):\n",
    "    \n",
    "    global df_no_text\n",
    "    global df_place\n",
    "    \n",
    "    original_index = \\\n",
    "    (df_place[df_place['store_id_only_num'] == store_id]['store_name'].index).item()\n",
    "    \n",
    "    df_no_text = df_no_text.append({\n",
    "          'store_id' : store_id\n",
    "        , 'store_name' : store_name\n",
    "        , 'link' : url\n",
    "        , 'original_index' : original_index\n",
    "    }, ignore_index=True)\n",
    "    \n",
    "    return df_no_text   "
   ]
  },
  {
   "cell_type": "code",
   "execution_count": 34,
   "metadata": {},
   "outputs": [],
   "source": [
    "# requests만 사용한 블로그 본문 크롤링 코드\n",
    "# ==========================================================================\n",
    "# 2020-05-12 (화) 이한울\n",
    "# 본문을 긁어올 때에는 특별히 Action할 것이 없기 때문에\n",
    "# requests를 통해서 크롤링하는 것이 효율적일 수도 있다고 생각하여 requests만 사용\n",
    "# ==========================================================================\n",
    "\n",
    "def text_save(url):\n",
    "    \n",
    "    global df_blog_review\n",
    "    global df_text\n",
    "    global df_place\n",
    "    text_list = []\n",
    "    headers = {\"User-Agent\" : \"Mozilla/5.0 (Windows NT 10.0; Win64; x64) AppleWebKit/537.36 (KHTML, like Gecko) Chrome/81.0.4044.138 Safari/537.36\"} \n",
    "    store_id = df_blog_review[df_blog_review['link'] == url]['store_id'].iloc[0]\n",
    "    store_name = df_blog_review[df_blog_review['link'] == url]['store_name'].iloc[0]\n",
    "    \n",
    "    original_index = \\\n",
    "    (df_place[df_place['store_id_only_num'] == store_id]['store_name'].index).item()\n",
    "    url = url.replace('m.', '')\n",
    "    time.sleep(1 + np.random.rand() + np.random.rand())\n",
    "    \n",
    "    print('\\n', store_name, '의', url, '블로그의 본문 크롤링 중...\\n')\n",
    "    req = requests.get(url, headers)\n",
    "    req_status = req.status_code\n",
    "    time.sleep(1 + np.random.rand() + np.random.rand())\n",
    "    \n",
    "    if 'https://post.naver.com' in url:\n",
    "        print('네이버 포스트 리뷰입니다. 크롤링에서 제외하고 다음 블로그를 크롤링합니다.')\n",
    "        pass\n",
    "    \n",
    "    else:\n",
    "        if req_status == 200:\n",
    "\n",
    "            try:\n",
    "                soup = BeautifulSoup(req.text, 'html.parser')\n",
    "                bsb_main = soup.select('#mainFrame')\n",
    "\n",
    "                if bsb_main:\n",
    "                    for ii, blog in tqdm_notebook(enumerate(bsb_main)):\n",
    "                        b_post = blog.attrs['src']\n",
    "                        open_post = urlopen('http://blog.naver.com/' + b_post)\n",
    "                        time.sleep(2.5)\n",
    "\n",
    "                        b_html = BeautifulSoup(open_post, 'html.parser')\n",
    "                        container_dic = {\"class\": \"se-main-container\"}\n",
    "                        postview_dic = {\"id\": \"postViewArea\"}\n",
    "                        wrap_dic = {\"class\": \"se_component_wrap sect_dsc __se_component_area\"}\n",
    "                        \n",
    "                        if b_html.find(\"div\", container_dic):\n",
    "                            txt_dic = container_dic\n",
    "\n",
    "                        elif b_html.find(\"div\", postview_dic):\n",
    "                            txt_dic = postview_dic\n",
    "\n",
    "                        elif b_html.find(\"div\", wrap_dic):\n",
    "                            txt_dic = wrap_dic\n",
    "\n",
    "                        else:\n",
    "                            blog_no_text(store_id, store_name, url)\n",
    "                            print('잘못된 접근이거나 삭제된 게시물입니다.')\n",
    "                            print('다음 블로그 크롤링을 진행합니다.')\n",
    "                            break\n",
    "                                \n",
    "                        time.sleep(1)\n",
    "                        content = b_html.find(\"div\", txt_dic)\n",
    "                        main_txt = sub_emoji(content)\n",
    "                        main_text_save(main_txt, store_id, store_name, url)\n",
    "                        print(url, '블로그의 본문 크롤링 성공!\\n')\n",
    "\n",
    "\n",
    "                else:\n",
    "                    print('HTTP 에러 코드:',req.status_code)\n",
    "                    text_error_save(store_id, store_name, url)\n",
    "\n",
    "            except sce.NoSuchElementException:\n",
    "                print('본문 크롤링 도중 에러가 발생했습니다.')\n",
    "                text_error_save(store_id, store_name, url)\n",
    "\n",
    "            except sce.NoSuchAttributeException:\n",
    "                print('본문 크롤링 도중 에러가 발생했습니다.')\n",
    "                text_error_save(store_id, store_name, url)\n",
    "\n",
    "            except sce.ElementNotSelectableException:\n",
    "                print('본문 크롤링 도중 에러가 발생했습니다.')\n",
    "                text_error_save(store_id, store_name, url)\n",
    "\n",
    "            except sce.WebDriverException:\n",
    "                print('웹 드라이버 에러 발생')\n",
    "                print('유니코드 변환 에러')\n",
    "                text_error_save(store, store_name, url)\n",
    "                \n",
    "            except AttributeError:\n",
    "                print('Attribute Error!')\n",
    "                print('Error Code:', req_status)\n",
    "                print('삭제된 게시물입니다.')\n",
    "                \n",
    "                blog_no_text(store_id, store_name, url)\n",
    "                \n",
    "        elif req_status in list(range(400, 506)):\n",
    "            print('Requests Error가 발생했습니다. df_requests_error에', store_name + '의 정보를 저장합니다.')\n",
    "            requests_error_save(store_id, store_name, req.status_code, url)\n",
    "            pass\n",
    "        \n",
    "    print('현재까지 저장된 본문의 개수: ',len(df_text), '\\n')\n",
    "    time.sleep(1.25 + np.random.rand() + np.random.rand())\n",
    "    \n",
    "    \n",
    "    req.close()\n",
    "    return df_text"
   ]
  },
  {
   "cell_type": "markdown",
   "metadata": {},
   "source": [
    "# 업소별 블로그 리뷰 본문 텍스트 크롤링 스레딩\n",
    "#### 2020-05-14 (목) 이한울\n",
    "---\n",
    "- 앞선 플레이스 블로그 리뷰 썸네일 크롤링 함수에서 저장된 **df_blog_review** DataFrame이나 **CSV파일**로 따로 저장해두었다면 해당 CSV파일을 DataFrame으로 읽은 후 해당 DataFrame의 길이만큼 범위를 지정해주시면 됩니다.\n",
    "- a와 end 값을 본인의 범위에 맞게 지정해주신 뒤 실행하시면 됩니다.\n",
    "- 간혹 지정된 범위까지 크롤링을 하였음에도 계속해서 실행되어 뒷 부분까지 크롤링하는 상황이 발생하니 유의해주시기 바랍니다.\n",
    "- **함수가 다 실행된 후 CSV파일로 별도로 저장해야 합니다. (함수화 하지 않음)**\n",
    "\n",
    "\n",
    "# 만약 INDEX를 쪼개서 크롤링을 하신다면 반드시 반드시!! 아래 셀을 클릭한 뒤 Run All Above를 눌러서 df_text를 초기화 하셔야 합니다. \n",
    "\n",
    "## 안그러면 기존에 크롤링된 데이터가 그대로 남아있는 df_text에 append되어 나중에 duplicated() 때리시면 기절하실 수도 있습니다!"
   ]
  },
  {
   "cell_type": "code",
   "execution_count": null,
   "metadata": {
    "scrolled": true
   },
   "outputs": [
    {
     "data": {
      "application/vnd.jupyter.widget-view+json": {
       "model_id": "5ec50c8067c44183bd4b51392cd7d50e",
       "version_major": 2,
       "version_minor": 0
      },
      "text/plain": [
       "HBox(children=(IntProgress(value=0, max=762), HTML(value='')))"
      ]
     },
     "metadata": {},
     "output_type": "display_data"
    },
    {
     "name": "stdout",
     "output_type": "stream",
     "text": [
      "0 ~ 4의 블로그 본문 크롤링을 시작합니다.\n"
     ]
    },
    {
     "name": "stderr",
     "output_type": "stream",
     "text": [
      "C:\\Users\\LEE-Bros PC\\Anaconda3\\lib\\site-packages\\ipykernel_launcher.py:19: FutureWarning: `item` has been deprecated and will be removed in a future version\n"
     ]
    },
    {
     "name": "stdout",
     "output_type": "stream",
     "text": [
      "\n",
      " 리소헤어 건대점 의 https://blog.naver.com/e_bi_ni/221873699746 블로그의 본문 크롤링 중...\n",
      "\n",
      "\n",
      " 리소헤어 건대점 의 https://blog.naver.com/jjungvely89/220438956964 블로그의 본문 크롤링 중...\n",
      "\n",
      "\n",
      " 리소헤어 건대점 의 https://blog.naver.com/ggmpiano/220410099438 블로그의 본문 크롤링 중...\n",
      "\n",
      "\n",
      " 리소헤어 건대점 의 https://blog.naver.com/wjddusdn555/220560372452 블로그의 본문 크롤링 중...\n",
      "\n",
      "\n",
      " 리소헤어 건대점 의 https://blog.naver.com/aamy78/220454696999 블로그의 본문 크롤링 중...\n",
      "\n"
     ]
    },
    {
     "data": {
      "application/vnd.jupyter.widget-view+json": {
       "model_id": "fd9f4e0c977e41fca8f4df4219bd1002",
       "version_major": 2,
       "version_minor": 0
      },
      "text/plain": [
       "HBox(children=(IntProgress(value=1, bar_style='info', max=1), HTML(value='')))"
      ]
     },
     "metadata": {},
     "output_type": "display_data"
    },
    {
     "data": {
      "application/vnd.jupyter.widget-view+json": {
       "model_id": "6325c82f11be41a3ae7b7058ee04c41c",
       "version_major": 2,
       "version_minor": 0
      },
      "text/plain": [
       "HBox(children=(IntProgress(value=1, bar_style='info', max=1), HTML(value='')))"
      ]
     },
     "metadata": {},
     "output_type": "display_data"
    },
    {
     "data": {
      "application/vnd.jupyter.widget-view+json": {
       "model_id": "a7b6495f41f841a0b76f39d940730fbc",
       "version_major": 2,
       "version_minor": 0
      },
      "text/plain": [
       "HBox(children=(IntProgress(value=1, bar_style='info', max=1), HTML(value='')))"
      ]
     },
     "metadata": {},
     "output_type": "display_data"
    },
    {
     "data": {
      "application/vnd.jupyter.widget-view+json": {
       "model_id": "d8b85f55324b455cb92b6b2a3a99f0b9",
       "version_major": 2,
       "version_minor": 0
      },
      "text/plain": [
       "HBox(children=(IntProgress(value=1, bar_style='info', max=1), HTML(value='')))"
      ]
     },
     "metadata": {},
     "output_type": "display_data"
    },
    {
     "data": {
      "application/vnd.jupyter.widget-view+json": {
       "model_id": "df8d2b9ee737441db3a07545198e9483",
       "version_major": 2,
       "version_minor": 0
      },
      "text/plain": [
       "HBox(children=(IntProgress(value=1, bar_style='info', max=1), HTML(value='')))"
      ]
     },
     "metadata": {},
     "output_type": "display_data"
    },
    {
     "name": "stderr",
     "output_type": "stream",
     "text": [
      "C:\\Users\\LEE-Bros PC\\Anaconda3\\lib\\site-packages\\ipykernel_launcher.py:7: FutureWarning: `item` has been deprecated and will be removed in a future version\n",
      "  import sys\n"
     ]
    },
    {
     "name": "stdout",
     "output_type": "stream",
     "text": [
      "https://blog.naver.com/jjungvely89/220438956964 블로그의 본문 크롤링 성공!\n",
      "\n",
      "\n",
      "현재까지 저장된 본문의 개수:  1 \n",
      "https://blog.naver.com/e_bi_ni/221873699746\n",
      " 블로그의 본문 크롤링 성공!\n",
      "\n",
      "\n",
      "현재까지 저장된 본문의 개수:  2 \n",
      "\n",
      "https://blog.naver.com/wjddusdn555/220560372452 블로그의 본문 크롤링 성공!\n",
      "\n",
      "\n",
      "현재까지 저장된 본문의 개수:  3 \n",
      "\n",
      "https://blog.naver.com/ggmpiano/220410099438 블로그의 본문 크롤링 성공!\n",
      "\n",
      "\n",
      "현재까지 저장된 본문의 개수:  4 \n",
      "\n",
      "https://blog.naver.com/aamy78/220454696999 블로그의 본문 크롤링 성공!\n",
      "\n",
      "\n",
      "현재까지 저장된 본문의 개수:  5 \n",
      "\n",
      "5 ~ 9의 블로그 본문 크롤링을 시작합니다.\n",
      "\n",
      " 리소헤어 건대점 의 https://blog.naver.com/ghkdwjdgus10/221814471171 블로그의 본문 크롤링 중...\n",
      "\n",
      "\n",
      " 리소헤어 건대점 의 https://blog.naver.com/sunny_0225/221821813707 블로그의 본문 크롤링 중...\n",
      "\n",
      "\n",
      " 리소헤어 건대점 의 https://blog.naver.com/lovely_sine/220401148076 블로그의 본문 크롤링 중...\n",
      "\n",
      "\n",
      " 리소헤어 건대점 의 https://blog.naver.com/nowlove03301/220379437940 블로그의 본문 크롤링 중...\n",
      "\n",
      "\n",
      " 리소헤어 건대점 의 https://blog.naver.com/uuuuuujin/220298825676 블로그의 본문 크롤링 중...\n",
      "\n"
     ]
    },
    {
     "data": {
      "application/vnd.jupyter.widget-view+json": {
       "model_id": "02355ce58cec48f1b8287d176baba370",
       "version_major": 2,
       "version_minor": 0
      },
      "text/plain": [
       "HBox(children=(IntProgress(value=1, bar_style='info', max=1), HTML(value='')))"
      ]
     },
     "metadata": {},
     "output_type": "display_data"
    },
    {
     "data": {
      "application/vnd.jupyter.widget-view+json": {
       "model_id": "6764bf57a41f467d8f05bd31bdb11963",
       "version_major": 2,
       "version_minor": 0
      },
      "text/plain": [
       "HBox(children=(IntProgress(value=1, bar_style='info', max=1), HTML(value='')))"
      ]
     },
     "metadata": {},
     "output_type": "display_data"
    },
    {
     "data": {
      "application/vnd.jupyter.widget-view+json": {
       "model_id": "9ae6b77c32954eda89eb395f1869cbee",
       "version_major": 2,
       "version_minor": 0
      },
      "text/plain": [
       "HBox(children=(IntProgress(value=1, bar_style='info', max=1), HTML(value='')))"
      ]
     },
     "metadata": {},
     "output_type": "display_data"
    },
    {
     "data": {
      "application/vnd.jupyter.widget-view+json": {
       "model_id": "f8193e803a0a492fad995d1bc4a49c38",
       "version_major": 2,
       "version_minor": 0
      },
      "text/plain": [
       "HBox(children=(IntProgress(value=1, bar_style='info', max=1), HTML(value='')))"
      ]
     },
     "metadata": {},
     "output_type": "display_data"
    },
    {
     "data": {
      "application/vnd.jupyter.widget-view+json": {
       "model_id": "709d581f1b92419e87f78e637ba5dde6",
       "version_major": 2,
       "version_minor": 0
      },
      "text/plain": [
       "HBox(children=(IntProgress(value=1, bar_style='info', max=1), HTML(value='')))"
      ]
     },
     "metadata": {},
     "output_type": "display_data"
    },
    {
     "name": "stdout",
     "output_type": "stream",
     "text": [
      "https://blog.naver.com/ghkdwjdgus10/221814471171 블로그의 본문 크롤링 성공!\n",
      "\n",
      "\n",
      "현재까지 저장된 본문의 개수:  6https://blog.naver.com/sunny_0225/221821813707 \n",
      " 블로그의 본문 크롤링 성공!\n",
      "\n",
      "\n",
      "\n",
      "현재까지 저장된 본문의 개수:  7 \n",
      "\n",
      "https://blog.naver.com/lovely_sine/220401148076 블로그의 본문 크롤링 성공!\n",
      "\n",
      "\n",
      "현재까지 저장된 본문의 개수:  8 \n",
      "\n",
      "https://blog.naver.com/nowlove03301/220379437940 블로그의 본문 크롤링 성공!\n",
      "\n",
      "\n",
      "현재까지 저장된 본문의 개수:  9 \n",
      "\n",
      "https://blog.naver.com/uuuuuujin/220298825676 블로그의 본문 크롤링 성공!\n",
      "\n",
      "\n",
      "현재까지 저장된 본문의 개수:  10 \n",
      "\n",
      "10 ~ 14의 블로그 본문 크롤링을 시작합니다.\n",
      "\n",
      " 리소헤어 건대점 의 https://blog.naver.com/yyyyyyy4444/221832077340 블로그의 본문 크롤링 중...\n",
      "\n",
      "\n",
      " 리소헤어 건대점 의 https://blog.naver.com/ksaloveyou/221901303931 블로그의 본문 크롤링 중...\n",
      "\n",
      "\n",
      " 리소헤어 건대점 의 https://blog.naver.com/sw__master/221834077172 블로그의 본문 크롤링 중...\n",
      "\n",
      "\n",
      " 리소헤어 건대점 의 https://blog.naver.com/ori1982/221575334971 블로그의 본문 크롤링 중...\n",
      "\n",
      "\n",
      " 리소헤어 건대점 의 https://blog.naver.com/mama3991/221745240882 블로그의 본문 크롤링 중...\n",
      "\n"
     ]
    },
    {
     "data": {
      "application/vnd.jupyter.widget-view+json": {
       "model_id": "bf822d649edb47e4b712e93e46b6ac90",
       "version_major": 2,
       "version_minor": 0
      },
      "text/plain": [
       "HBox(children=(IntProgress(value=1, bar_style='info', max=1), HTML(value='')))"
      ]
     },
     "metadata": {},
     "output_type": "display_data"
    },
    {
     "data": {
      "application/vnd.jupyter.widget-view+json": {
       "model_id": "757ab25b6132445392f85136075b543e",
       "version_major": 2,
       "version_minor": 0
      },
      "text/plain": [
       "HBox(children=(IntProgress(value=1, bar_style='info', max=1), HTML(value='')))"
      ]
     },
     "metadata": {},
     "output_type": "display_data"
    },
    {
     "data": {
      "application/vnd.jupyter.widget-view+json": {
       "model_id": "6e8836c422ad48758f8041386d9c9684",
       "version_major": 2,
       "version_minor": 0
      },
      "text/plain": [
       "HBox(children=(IntProgress(value=1, bar_style='info', max=1), HTML(value='')))"
      ]
     },
     "metadata": {},
     "output_type": "display_data"
    },
    {
     "data": {
      "application/vnd.jupyter.widget-view+json": {
       "model_id": "e51b22c78c454ea0be22d435e3333f36",
       "version_major": 2,
       "version_minor": 0
      },
      "text/plain": [
       "HBox(children=(IntProgress(value=1, bar_style='info', max=1), HTML(value='')))"
      ]
     },
     "metadata": {},
     "output_type": "display_data"
    },
    {
     "data": {
      "application/vnd.jupyter.widget-view+json": {
       "model_id": "df79ff35ccf6465699021a3089a7b439",
       "version_major": 2,
       "version_minor": 0
      },
      "text/plain": [
       "HBox(children=(IntProgress(value=1, bar_style='info', max=1), HTML(value='')))"
      ]
     },
     "metadata": {},
     "output_type": "display_data"
    },
    {
     "name": "stdout",
     "output_type": "stream",
     "text": [
      "https://blog.naver.com/ori1982/221575334971 블로그의 본문 크롤링 성공!\n",
      "\n",
      "\n",
      "현재까지 저장된 본문의 개수:  11 \n",
      "\n",
      "https://blog.naver.com/yyyyyyy4444/221832077340 블로그의 본문 크롤링 성공!\n",
      "\n",
      "\n",
      "현재까지 저장된 본문의 개수:  12 \n",
      "\n",
      "https://blog.naver.com/ksaloveyou/221901303931 블로그의 본문 크롤링 성공!\n",
      "\n",
      "\n",
      "현재까지 저장된 본문의 개수:  13 \n",
      "\n",
      "https://blog.naver.com/sw__master/221834077172 블로그의 본문 크롤링 성공!\n",
      "\n",
      "\n",
      "현재까지 저장된 본문의 개수:  14 \n",
      "\n",
      "https://blog.naver.com/mama3991/221745240882 블로그의 본문 크롤링 성공!\n",
      "\n",
      "\n",
      "현재까지 저장된 본문의 개수:  15 \n",
      "\n",
      "15 ~ 19의 블로그 본문 크롤링을 시작합니다.\n",
      "\n",
      " 리소헤어 건대점 의 https://blog.naver.com/rabbitto1004/221728285639 블로그의 본문 크롤링 중...\n",
      "\n",
      "\n",
      " 리소헤어 건대점 의 https://blog.naver.com/5tion0329/221752920432 블로그의 본문 크롤링 중...\n",
      "\n",
      "\n",
      " 리소헤어 건대점 의 https://blog.naver.com/yoni_mode/221760710646 블로그의 본문 크롤링 중...\n",
      "\n",
      "\n",
      " 리소헤어 건대점 의 https://blog.naver.com/12344love/221741828024 블로그의 본문 크롤링 중...\n",
      "\n",
      "\n",
      " 리소헤어 건대점 의 https://blog.naver.com/nansujin1/221779056668 블로그의 본문 크롤링 중...\n",
      "\n"
     ]
    },
    {
     "data": {
      "application/vnd.jupyter.widget-view+json": {
       "model_id": "a0c98996420f490f8ef2b5afe110359f",
       "version_major": 2,
       "version_minor": 0
      },
      "text/plain": [
       "HBox(children=(IntProgress(value=1, bar_style='info', max=1), HTML(value='')))"
      ]
     },
     "metadata": {},
     "output_type": "display_data"
    },
    {
     "data": {
      "application/vnd.jupyter.widget-view+json": {
       "model_id": "856166afedd6425f9f0ce099e7998fb2",
       "version_major": 2,
       "version_minor": 0
      },
      "text/plain": [
       "HBox(children=(IntProgress(value=1, bar_style='info', max=1), HTML(value='')))"
      ]
     },
     "metadata": {},
     "output_type": "display_data"
    },
    {
     "data": {
      "application/vnd.jupyter.widget-view+json": {
       "model_id": "9027069afdae4781b44c298117a17ca7",
       "version_major": 2,
       "version_minor": 0
      },
      "text/plain": [
       "HBox(children=(IntProgress(value=1, bar_style='info', max=1), HTML(value='')))"
      ]
     },
     "metadata": {},
     "output_type": "display_data"
    },
    {
     "data": {
      "application/vnd.jupyter.widget-view+json": {
       "model_id": "7d7777c93d17469195878b463e138c2a",
       "version_major": 2,
       "version_minor": 0
      },
      "text/plain": [
       "HBox(children=(IntProgress(value=1, bar_style='info', max=1), HTML(value='')))"
      ]
     },
     "metadata": {},
     "output_type": "display_data"
    },
    {
     "data": {
      "application/vnd.jupyter.widget-view+json": {
       "model_id": "bf5da1a9e8d644a6b52222add628bfdf",
       "version_major": 2,
       "version_minor": 0
      },
      "text/plain": [
       "HBox(children=(IntProgress(value=1, bar_style='info', max=1), HTML(value='')))"
      ]
     },
     "metadata": {},
     "output_type": "display_data"
    },
    {
     "name": "stdout",
     "output_type": "stream",
     "text": [
      "https://blog.naver.com/5tion0329/221752920432 블로그의 본문 크롤링 성공!\n",
      "\n",
      "\n",
      "현재까지 저장된 본문의 개수:  16 \n",
      "\n",
      "https://blog.naver.com/yoni_mode/221760710646 https://blog.naver.com/rabbitto1004/221728285639 블로그의 본문 크롤링 성공!\n",
      "블로그의 본문 크롤링 성공!\n",
      "\n",
      "\n",
      "\n",
      "\n",
      "현재까지 저장된 본문의 개수: 현재까지 저장된 본문의 개수:   1818  \n",
      "\n",
      "\n",
      "\n",
      "https://blog.naver.com/12344love/221741828024 블로그의 본문 크롤링 성공!\n",
      "\n",
      "\n",
      "현재까지 저장된 본문의 개수:  19 \n",
      "\n",
      "https://blog.naver.com/nansujin1/221779056668 블로그의 본문 크롤링 성공!\n",
      "\n",
      "\n",
      "현재까지 저장된 본문의 개수:  20 \n",
      "\n",
      "20 ~ 24의 블로그 본문 크롤링을 시작합니다.\n",
      "\n",
      " 리소헤어 건대점 의 https://blog.naver.com/rkdwjd90/221725791041 블로그의 본문 크롤링 중...\n",
      "\n",
      "\n",
      " 리소헤어 건대점 의 https://blog.naver.com/cnu01022/221780183601 블로그의 본문 크롤링 중...\n",
      "\n",
      "\n",
      " 리소헤어 건대점 의 https://blog.naver.com/baiserdelicat/221676786759 블로그의 본문 크롤링 중...\n",
      "\n",
      "\n",
      " 리소헤어 건대점 의 https://blog.naver.com/nailkkahajin/221577787288 블로그의 본문 크롤링 중...\n",
      "\n",
      "\n",
      " 리소헤어 건대점 의 https://blog.naver.com/wlalswlals2/221717023867 블로그의 본문 크롤링 중...\n",
      "\n"
     ]
    },
    {
     "data": {
      "application/vnd.jupyter.widget-view+json": {
       "model_id": "83a99549f665452589fd50e8c9198432",
       "version_major": 2,
       "version_minor": 0
      },
      "text/plain": [
       "HBox(children=(IntProgress(value=1, bar_style='info', max=1), HTML(value='')))"
      ]
     },
     "metadata": {},
     "output_type": "display_data"
    },
    {
     "data": {
      "application/vnd.jupyter.widget-view+json": {
       "model_id": "97111f8891ff4089b8d6dc8afafd5148",
       "version_major": 2,
       "version_minor": 0
      },
      "text/plain": [
       "HBox(children=(IntProgress(value=1, bar_style='info', max=1), HTML(value='')))"
      ]
     },
     "metadata": {},
     "output_type": "display_data"
    },
    {
     "data": {
      "application/vnd.jupyter.widget-view+json": {
       "model_id": "de8508d195ec42faa262cfe21d2ba871",
       "version_major": 2,
       "version_minor": 0
      },
      "text/plain": [
       "HBox(children=(IntProgress(value=1, bar_style='info', max=1), HTML(value='')))"
      ]
     },
     "metadata": {},
     "output_type": "display_data"
    },
    {
     "data": {
      "application/vnd.jupyter.widget-view+json": {
       "model_id": "b3e6563aa97946779901d0a3500a96c1",
       "version_major": 2,
       "version_minor": 0
      },
      "text/plain": [
       "HBox(children=(IntProgress(value=1, bar_style='info', max=1), HTML(value='')))"
      ]
     },
     "metadata": {},
     "output_type": "display_data"
    },
    {
     "data": {
      "application/vnd.jupyter.widget-view+json": {
       "model_id": "6d7623e0c4604c768d28aac58bdb101f",
       "version_major": 2,
       "version_minor": 0
      },
      "text/plain": [
       "HBox(children=(IntProgress(value=1, bar_style='info', max=1), HTML(value='')))"
      ]
     },
     "metadata": {},
     "output_type": "display_data"
    },
    {
     "name": "stdout",
     "output_type": "stream",
     "text": [
      "https://blog.naver.com/rkdwjd90/221725791041 블로그의 본문 크롤링 성공!\n",
      "\n",
      "\n",
      "현재까지 저장된 본문의 개수:  21 \n",
      "\n",
      "https://blog.naver.com/cnu01022/221780183601 블로그의 본문 크롤링 성공!\n",
      "\n",
      "\n",
      "현재까지 저장된 본문의 개수:  22 \n",
      "\n",
      "https://blog.naver.com/wlalswlals2/221717023867 블로그의 본문 크롤링 성공!\n",
      "\n",
      "\n",
      "현재까지 저장된 본문의 개수:  23 \n",
      "\n",
      "https://blog.naver.com/baiserdelicat/221676786759 블로그의 본문 크롤링 성공!\n",
      "\n",
      "\n",
      "현재까지 저장된 본문의 개수:  24 \n",
      "\n",
      "https://blog.naver.com/nailkkahajin/221577787288 블로그의 본문 크롤링 성공!\n",
      "\n",
      "\n",
      "현재까지 저장된 본문의 개수:  25 \n",
      "\n",
      "25 ~ 29의 블로그 본문 크롤링을 시작합니다.\n",
      "\n",
      " 리소헤어 건대점 의 https://blog.naver.com/jisueeee/221624587208 블로그의 본문 크롤링 중...\n",
      "\n",
      "\n",
      " 리소헤어 건대점 의 https://blog.naver.com/thishizzang/221682108706 블로그의 본문 크롤링 중...\n",
      "\n",
      "\n",
      " 리소헤어 건대점 의 https://blog.naver.com/tnrdud5737/221670631760 블로그의 본문 크롤링 중...\n",
      "\n",
      "\n",
      " 리소헤어 건대점 의 https://blog.naver.com/codbs4358/221675431115 블로그의 본문 크롤링 중...\n",
      "\n",
      "\n",
      " 리소헤어 건대점 의 https://blog.naver.com/deardare/221580736163 블로그의 본문 크롤링 중...\n",
      "\n"
     ]
    },
    {
     "data": {
      "application/vnd.jupyter.widget-view+json": {
       "model_id": "f8f821fda5244274add89d291f335e94",
       "version_major": 2,
       "version_minor": 0
      },
      "text/plain": [
       "HBox(children=(IntProgress(value=1, bar_style='info', max=1), HTML(value='')))"
      ]
     },
     "metadata": {},
     "output_type": "display_data"
    },
    {
     "data": {
      "application/vnd.jupyter.widget-view+json": {
       "model_id": "a835c3717d5443679ba0033469c5fa8c",
       "version_major": 2,
       "version_minor": 0
      },
      "text/plain": [
       "HBox(children=(IntProgress(value=1, bar_style='info', max=1), HTML(value='')))"
      ]
     },
     "metadata": {},
     "output_type": "display_data"
    },
    {
     "data": {
      "application/vnd.jupyter.widget-view+json": {
       "model_id": "5605e6e4e57a4c43b56340cd42b78334",
       "version_major": 2,
       "version_minor": 0
      },
      "text/plain": [
       "HBox(children=(IntProgress(value=1, bar_style='info', max=1), HTML(value='')))"
      ]
     },
     "metadata": {},
     "output_type": "display_data"
    },
    {
     "data": {
      "application/vnd.jupyter.widget-view+json": {
       "model_id": "dfc9b030c48d4599b9cd776326d68a68",
       "version_major": 2,
       "version_minor": 0
      },
      "text/plain": [
       "HBox(children=(IntProgress(value=1, bar_style='info', max=1), HTML(value='')))"
      ]
     },
     "metadata": {},
     "output_type": "display_data"
    },
    {
     "data": {
      "application/vnd.jupyter.widget-view+json": {
       "model_id": "383f67ddbbe14bf1b06cb89643c5d0ac",
       "version_major": 2,
       "version_minor": 0
      },
      "text/plain": [
       "HBox(children=(IntProgress(value=1, bar_style='info', max=1), HTML(value='')))"
      ]
     },
     "metadata": {},
     "output_type": "display_data"
    },
    {
     "name": "stdout",
     "output_type": "stream",
     "text": [
      "https://blog.naver.com/jisueeee/221624587208 블로그의 본문 크롤링 성공!\n",
      "\n",
      "\n",
      "현재까지 저장된 본문의 개수:  26 \n",
      "\n",
      "https://blog.naver.com/tnrdud5737/221670631760 블로그의 본문 크롤링 성공!\n",
      "\n",
      "\n",
      "현재까지 저장된 본문의 개수:  27 \n",
      "\n",
      "https://blog.naver.com/thishizzang/221682108706 블로그의 본문 크롤링 성공!\n",
      "\n",
      "\n",
      "현재까지 저장된 본문의 개수:  28 \n",
      "\n",
      "https://blog.naver.com/codbs4358/221675431115 블로그의 본문 크롤링 성공!\n",
      "\n",
      "\n",
      "현재까지 저장된 본문의 개수:  29 \n",
      "\n",
      "https://blog.naver.com/deardare/221580736163 블로그의 본문 크롤링 성공!\n",
      "\n",
      "\n",
      "현재까지 저장된 본문의 개수:  30 \n",
      "\n",
      "30 ~ 34의 블로그 본문 크롤링을 시작합니다.\n",
      "\n",
      " 리소헤어 건대점 의 https://blog.naver.com/siyl0804/221595467923 블로그의 본문 크롤링 중...\n",
      "\n",
      "\n",
      " 리소헤어 건대점 의 https://blog.naver.com/2zerolight/221693837780 블로그의 본문 크롤링 중...\n",
      "\n",
      "\n",
      " 리소헤어 건대점 의 https://blog.naver.com/lululuv_/221569860866 블로그의 본문 크롤링 중...\n",
      "\n",
      "\n",
      " 리소헤어 건대점 의 https://blog.naver.com/lemmone_d/221591450500 블로그의 본문 크롤링 중...\n",
      "\n",
      "\n",
      " 리소헤어 건대점 의 https://blog.naver.com/hongil2ya/221616242264 블로그의 본문 크롤링 중...\n",
      "\n"
     ]
    },
    {
     "data": {
      "application/vnd.jupyter.widget-view+json": {
       "model_id": "4d66ae9f35ac453a8b96d5a941ba457d",
       "version_major": 2,
       "version_minor": 0
      },
      "text/plain": [
       "HBox(children=(IntProgress(value=1, bar_style='info', max=1), HTML(value='')))"
      ]
     },
     "metadata": {},
     "output_type": "display_data"
    },
    {
     "data": {
      "application/vnd.jupyter.widget-view+json": {
       "model_id": "fed6dd7c0b034c9e8d3d211409a16d16",
       "version_major": 2,
       "version_minor": 0
      },
      "text/plain": [
       "HBox(children=(IntProgress(value=1, bar_style='info', max=1), HTML(value='')))"
      ]
     },
     "metadata": {},
     "output_type": "display_data"
    },
    {
     "data": {
      "application/vnd.jupyter.widget-view+json": {
       "model_id": "6e01aa679c1740e296747360598242b8",
       "version_major": 2,
       "version_minor": 0
      },
      "text/plain": [
       "HBox(children=(IntProgress(value=1, bar_style='info', max=1), HTML(value='')))"
      ]
     },
     "metadata": {},
     "output_type": "display_data"
    },
    {
     "data": {
      "application/vnd.jupyter.widget-view+json": {
       "model_id": "87722ecad4b8449eb5f8098ff5f0abcb",
       "version_major": 2,
       "version_minor": 0
      },
      "text/plain": [
       "HBox(children=(IntProgress(value=1, bar_style='info', max=1), HTML(value='')))"
      ]
     },
     "metadata": {},
     "output_type": "display_data"
    },
    {
     "data": {
      "application/vnd.jupyter.widget-view+json": {
       "model_id": "d6b2c3a1d7e24b629d3dcef594ff3f87",
       "version_major": 2,
       "version_minor": 0
      },
      "text/plain": [
       "HBox(children=(IntProgress(value=1, bar_style='info', max=1), HTML(value='')))"
      ]
     },
     "metadata": {},
     "output_type": "display_data"
    },
    {
     "name": "stdout",
     "output_type": "stream",
     "text": [
      "https://blog.naver.com/2zerolight/221693837780 블로그의 본문 크롤링 성공!\n",
      "\n",
      "\n",
      "현재까지 저장된 본문의 개수:  31 \n",
      "\n",
      "https://blog.naver.com/siyl0804/221595467923 블로그의 본문 크롤링 성공!\n",
      "\n",
      "\n",
      "현재까지 저장된 본문의 개수:  32 \n",
      "\n",
      "https://blog.naver.com/lululuv_/221569860866 블로그의 본문 크롤링 성공!\n",
      "\n",
      "\n",
      "현재까지 저장된 본문의 개수:  33 \n",
      "\n",
      "https://blog.naver.com/lemmone_d/221591450500 블로그의 본문 크롤링 성공!\n",
      "\n",
      "\n",
      "현재까지 저장된 본문의 개수:  34 \n",
      "\n",
      "https://blog.naver.com/hongil2ya/221616242264 블로그의 본문 크롤링 성공!\n",
      "\n",
      "\n",
      "현재까지 저장된 본문의 개수:  35 \n",
      "\n",
      "35 ~ 39의 블로그 본문 크롤링을 시작합니다.\n",
      "\n",
      " 리소헤어 건대점 의 https://blog.naver.com/aki_mom_/221566874911 블로그의 본문 크롤링 중...\n",
      "\n",
      "\n",
      " 리소헤어 건대점 의 https://blog.naver.com/yan_see/221562401022 블로그의 본문 크롤링 중...\n",
      "\n",
      "\n",
      " 리소헤어 건대점 의 https://blog.naver.com/kingwife7/221554239455 블로그의 본문 크롤링 중...\n",
      "\n",
      "\n",
      " 리소헤어 건대점 의 https://blog.naver.com/mirna0162/221683499688 블로그의 본문 크롤링 중...\n",
      "\n",
      "\n",
      " 리소헤어 건대점 의 https://blog.naver.com/beautenaive7/221635356798 블로그의 본문 크롤링 중...\n",
      "\n"
     ]
    },
    {
     "data": {
      "application/vnd.jupyter.widget-view+json": {
       "model_id": "4151b2e9d4e440949adca3b30436c06a",
       "version_major": 2,
       "version_minor": 0
      },
      "text/plain": [
       "HBox(children=(IntProgress(value=1, bar_style='info', max=1), HTML(value='')))"
      ]
     },
     "metadata": {},
     "output_type": "display_data"
    },
    {
     "data": {
      "application/vnd.jupyter.widget-view+json": {
       "model_id": "9499174a7d214aa4ba26f12e4a1d1de5",
       "version_major": 2,
       "version_minor": 0
      },
      "text/plain": [
       "HBox(children=(IntProgress(value=1, bar_style='info', max=1), HTML(value='')))"
      ]
     },
     "metadata": {},
     "output_type": "display_data"
    },
    {
     "data": {
      "application/vnd.jupyter.widget-view+json": {
       "model_id": "6ec494a87f1248f985226e41c3ddbef7",
       "version_major": 2,
       "version_minor": 0
      },
      "text/plain": [
       "HBox(children=(IntProgress(value=1, bar_style='info', max=1), HTML(value='')))"
      ]
     },
     "metadata": {},
     "output_type": "display_data"
    },
    {
     "data": {
      "application/vnd.jupyter.widget-view+json": {
       "model_id": "b30933bba2414d068326e8d6a3720b67",
       "version_major": 2,
       "version_minor": 0
      },
      "text/plain": [
       "HBox(children=(IntProgress(value=1, bar_style='info', max=1), HTML(value='')))"
      ]
     },
     "metadata": {},
     "output_type": "display_data"
    },
    {
     "data": {
      "application/vnd.jupyter.widget-view+json": {
       "model_id": "e2dd51c0e7e3477dbc0a4b0a2debdb3e",
       "version_major": 2,
       "version_minor": 0
      },
      "text/plain": [
       "HBox(children=(IntProgress(value=1, bar_style='info', max=1), HTML(value='')))"
      ]
     },
     "metadata": {},
     "output_type": "display_data"
    },
    {
     "name": "stdout",
     "output_type": "stream",
     "text": [
      "https://blog.naver.com/mirna0162/221683499688 블로그의 본문 크롤링 성공!\n",
      "\n",
      "\n",
      "현재까지 저장된 본문의 개수:  36 \n",
      "https://blog.naver.com/aki_mom_/221566874911\n",
      " 블로그의 본문 크롤링 성공!\n",
      "\n",
      "\n",
      "현재까지 저장된 본문의 개수:  37 \n",
      "\n",
      "https://blog.naver.com/yan_see/221562401022 블로그의 본문 크롤링 성공!\n",
      "\n",
      "\n",
      "현재까지 저장된 본문의 개수:  38 \n",
      "\n",
      "https://blog.naver.com/beautenaive7/221635356798 블로그의 본문 크롤링 성공!\n",
      "\n",
      "\n",
      "현재까지 저장된 본문의 개수:  39 \n",
      "\n",
      "https://blog.naver.com/kingwife7/221554239455 블로그의 본문 크롤링 성공!\n",
      "\n",
      "\n",
      "현재까지 저장된 본문의 개수:  40 \n",
      "\n",
      "40 ~ 44의 블로그 본문 크롤링을 시작합니다.\n",
      "\n",
      " 리소헤어 건대점 의 https://blog.naver.com/ziinu/220756083898 블로그의 본문 크롤링 중...\n",
      "\n",
      "\n",
      " 리소헤어 건대점 의 https://blog.naver.com/newbonchance/221569040860 블로그의 본문 크롤링 중...\n",
      "\n",
      "\n",
      "\n",
      "  리소헤어 건대점리소헤어 건대점  의의  https://blog.naver.com/kim_geon8684/221430680311https://blog.naver.com/gksskhh/220780281675  블로그의 본문 크롤링 중...\n",
      "\n",
      "블로그의 본문 크롤링 중...\n",
      "\n",
      "\n",
      " 리소헤어 건대점 의 https://blog.naver.com/dbfla5842/221501462143 블로그의 본문 크롤링 중...\n",
      "\n"
     ]
    },
    {
     "data": {
      "application/vnd.jupyter.widget-view+json": {
       "model_id": "0be1437e7aaa475bad8e833b545cdc1a",
       "version_major": 2,
       "version_minor": 0
      },
      "text/plain": [
       "HBox(children=(IntProgress(value=1, bar_style='info', max=1), HTML(value='')))"
      ]
     },
     "metadata": {},
     "output_type": "display_data"
    },
    {
     "data": {
      "application/vnd.jupyter.widget-view+json": {
       "model_id": "8a6c736cc9bb452d9b3f94bb432364bd",
       "version_major": 2,
       "version_minor": 0
      },
      "text/plain": [
       "HBox(children=(IntProgress(value=1, bar_style='info', max=1), HTML(value='')))"
      ]
     },
     "metadata": {},
     "output_type": "display_data"
    },
    {
     "data": {
      "application/vnd.jupyter.widget-view+json": {
       "model_id": "9138518f91b7471c8fc8227d2c744c23",
       "version_major": 2,
       "version_minor": 0
      },
      "text/plain": [
       "HBox(children=(IntProgress(value=1, bar_style='info', max=1), HTML(value='')))"
      ]
     },
     "metadata": {},
     "output_type": "display_data"
    },
    {
     "data": {
      "application/vnd.jupyter.widget-view+json": {
       "model_id": "bd5674fe250f486f9beaa8519baac6ab",
       "version_major": 2,
       "version_minor": 0
      },
      "text/plain": [
       "HBox(children=(IntProgress(value=1, bar_style='info', max=1), HTML(value='')))"
      ]
     },
     "metadata": {},
     "output_type": "display_data"
    },
    {
     "data": {
      "application/vnd.jupyter.widget-view+json": {
       "model_id": "1bdf71493974420c9cdc677056fc3b59",
       "version_major": 2,
       "version_minor": 0
      },
      "text/plain": [
       "HBox(children=(IntProgress(value=1, bar_style='info', max=1), HTML(value='')))"
      ]
     },
     "metadata": {},
     "output_type": "display_data"
    },
    {
     "name": "stdout",
     "output_type": "stream",
     "text": [
      "https://blog.naver.com/ziinu/220756083898 블로그의 본문 크롤링 성공!\n",
      "\n",
      "\n",
      "https://blog.naver.com/newbonchance/221569040860현재까지 저장된 본문의 개수:   블로그의 본문 크롤링 성공!\n",
      "42\n",
      " \n",
      "\n",
      "현재까지 저장된 본문의 개수: \n",
      " 42 \n",
      "\n",
      "https://blog.naver.com/gksskhh/220780281675 블로그의 본문 크롤링 성공!\n",
      "\n",
      "\n",
      "현재까지 저장된 본문의 개수:  43 \n",
      "\n",
      "https://blog.naver.com/kim_geon8684/221430680311 블로그의 본문 크롤링 성공!\n",
      "\n",
      "\n",
      "현재까지 저장된 본문의 개수:  44 \n",
      "\n",
      "https://blog.naver.com/dbfla5842/221501462143 블로그의 본문 크롤링 성공!\n",
      "\n",
      "\n",
      "현재까지 저장된 본문의 개수:  45 \n",
      "\n",
      "45 ~ 49의 블로그 본문 크롤링을 시작합니다.\n",
      "\n",
      " 보그헤어 아현역점 의 https://blog.naver.com/limmmm22/221812443992 블로그의 본문 크롤링 중...\n",
      "\n",
      "\n",
      " 리소헤어 건대점 의 https://blog.naver.com/dhraldls/220777686345 블로그의 본문 크롤링 중...\n",
      "\n",
      "\n",
      "\n",
      "  리소헤어 건대점리소헤어 건대점 의  의 https://blog.naver.com/jhjh215/221631488738https://blog.naver.com/penguin_1004/220731127987  블로그의 본문 크롤링 중...\n",
      "블로그의 본문 크롤링 중...\n",
      "\n",
      "\n",
      "\n",
      " 리소헤어 건대점 의 https://blog.naver.com/cosyme316/221607592449 블로그의 본문 크롤링 중...\n",
      "\n"
     ]
    },
    {
     "data": {
      "application/vnd.jupyter.widget-view+json": {
       "model_id": "d88ad004f9344058b2875de8501f8136",
       "version_major": 2,
       "version_minor": 0
      },
      "text/plain": [
       "HBox(children=(IntProgress(value=1, bar_style='info', max=1), HTML(value='')))"
      ]
     },
     "metadata": {},
     "output_type": "display_data"
    },
    {
     "data": {
      "application/vnd.jupyter.widget-view+json": {
       "model_id": "6012d0020d314698ab7feed0102aec40",
       "version_major": 2,
       "version_minor": 0
      },
      "text/plain": [
       "HBox(children=(IntProgress(value=1, bar_style='info', max=1), HTML(value='')))"
      ]
     },
     "metadata": {},
     "output_type": "display_data"
    },
    {
     "data": {
      "application/vnd.jupyter.widget-view+json": {
       "model_id": "3b20248e8dab4fcf9b2ab89cbc9b51b8",
       "version_major": 2,
       "version_minor": 0
      },
      "text/plain": [
       "HBox(children=(IntProgress(value=1, bar_style='info', max=1), HTML(value='')))"
      ]
     },
     "metadata": {},
     "output_type": "display_data"
    },
    {
     "data": {
      "application/vnd.jupyter.widget-view+json": {
       "model_id": "5e07d94af05046ae96977314a6bceb4c",
       "version_major": 2,
       "version_minor": 0
      },
      "text/plain": [
       "HBox(children=(IntProgress(value=1, bar_style='info', max=1), HTML(value='')))"
      ]
     },
     "metadata": {},
     "output_type": "display_data"
    },
    {
     "data": {
      "application/vnd.jupyter.widget-view+json": {
       "model_id": "ab14cd97cb964efabd1c8400cd0c98fa",
       "version_major": 2,
       "version_minor": 0
      },
      "text/plain": [
       "HBox(children=(IntProgress(value=1, bar_style='info', max=1), HTML(value='')))"
      ]
     },
     "metadata": {},
     "output_type": "display_data"
    },
    {
     "name": "stdout",
     "output_type": "stream",
     "text": [
      "https://blog.naver.com/limmmm22/221812443992 블로그의 본문 크롤링 성공!\n",
      "\n",
      "\n",
      "현재까지 저장된 본문의 개수:  46 \n",
      "\n",
      "https://blog.naver.com/dhraldls/220777686345 블로그의 본문 크롤링 성공!\n",
      "\n",
      "\n",
      "현재까지 저장된 본문의 개수:  47 \n",
      "\n",
      "https://blog.naver.com/penguin_1004/220731127987 블로그의 본문 크롤링 성공!\n",
      "\n",
      "\n",
      "현재까지 저장된 본문의 개수:  48 \n",
      "\n",
      "https://blog.naver.com/jhjh215/221631488738 블로그의 본문 크롤링 성공!\n",
      "\n",
      "\n",
      "현재까지 저장된 본문의 개수:  49 \n",
      "\n",
      "https://blog.naver.com/cosyme316/221607592449 블로그의 본문 크롤링 성공!\n",
      "\n",
      "\n",
      "현재까지 저장된 본문의 개수:  50 \n",
      "\n",
      "50 ~ 54의 블로그 본문 크롤링을 시작합니다.\n",
      "\n",
      " 보그헤어 아현역점 의 https://blog.naver.com/cookie0617/221945721818 블로그의 본문 크롤링 중...\n",
      "\n",
      "\n",
      " 보그헤어 아현역점 의 https://blog.naver.com/jystyle4212/221897312137 블로그의 본문 크롤링 중...\n",
      "\n",
      "\n",
      " 보그헤어 아현역점 의 https://blog.naver.com/8732236/221483945631 블로그의 본문 크롤링 중...\n",
      "\n",
      "\n",
      " 보그헤어 아현역점 의 https://blog.naver.com/hyunajjj/221800913023 블로그의 본문 크롤링 중...\n",
      "\n",
      "\n",
      " 보그헤어 아현역점 의 https://blog.naver.com/jystyle4212/221885558486 블로그의 본문 크롤링 중...\n",
      "\n"
     ]
    },
    {
     "data": {
      "application/vnd.jupyter.widget-view+json": {
       "model_id": "1198e97576354df79f78f677bd30aa2e",
       "version_major": 2,
       "version_minor": 0
      },
      "text/plain": [
       "HBox(children=(IntProgress(value=1, bar_style='info', max=1), HTML(value='')))"
      ]
     },
     "metadata": {},
     "output_type": "display_data"
    },
    {
     "data": {
      "application/vnd.jupyter.widget-view+json": {
       "model_id": "38652f262186482a954a59a4ae2af097",
       "version_major": 2,
       "version_minor": 0
      },
      "text/plain": [
       "HBox(children=(IntProgress(value=1, bar_style='info', max=1), HTML(value='')))"
      ]
     },
     "metadata": {},
     "output_type": "display_data"
    },
    {
     "data": {
      "application/vnd.jupyter.widget-view+json": {
       "model_id": "8e87fda239f44a65a37226da8e15f08a",
       "version_major": 2,
       "version_minor": 0
      },
      "text/plain": [
       "HBox(children=(IntProgress(value=1, bar_style='info', max=1), HTML(value='')))"
      ]
     },
     "metadata": {},
     "output_type": "display_data"
    },
    {
     "data": {
      "application/vnd.jupyter.widget-view+json": {
       "model_id": "e581c8ab994c41919d668690e7a6c2c6",
       "version_major": 2,
       "version_minor": 0
      },
      "text/plain": [
       "HBox(children=(IntProgress(value=1, bar_style='info', max=1), HTML(value='')))"
      ]
     },
     "metadata": {},
     "output_type": "display_data"
    },
    {
     "data": {
      "application/vnd.jupyter.widget-view+json": {
       "model_id": "8d42f0040397437aa5f84d1c37bcfc68",
       "version_major": 2,
       "version_minor": 0
      },
      "text/plain": [
       "HBox(children=(IntProgress(value=1, bar_style='info', max=1), HTML(value='')))"
      ]
     },
     "metadata": {},
     "output_type": "display_data"
    },
    {
     "name": "stdout",
     "output_type": "stream",
     "text": [
      "https://blog.naver.com/jystyle4212/221897312137 블로그의 본문 크롤링 성공!\n",
      "\n",
      "https://blog.naver.com/8732236/221483945631\n",
      " 현재까지 저장된 본문의 개수: 블로그의 본문 크롤링 성공!\n",
      " \n",
      "52\n",
      " 현재까지 저장된 본문의 개수: \n",
      " \n",
      "52 \n",
      "\n",
      "https://blog.naver.com/jystyle4212/221885558486 블로그의 본문 크롤링 성공!\n",
      "\n",
      "\n",
      "현재까지 저장된 본문의 개수:  53 \n",
      "\n",
      "https://blog.naver.com/cookie0617/221945721818 블로그의 본문 크롤링 성공!\n",
      "\n",
      "\n",
      "현재까지 저장된 본문의 개수:  54 \n",
      "\n",
      "https://blog.naver.com/hyunajjj/221800913023 블로그의 본문 크롤링 성공!\n",
      "\n",
      "\n",
      "현재까지 저장된 본문의 개수:  55 \n",
      "\n",
      "55 ~ 59의 블로그 본문 크롤링을 시작합니다.\n",
      "\n",
      " 보그헤어 아현역점 의 https://blog.naver.com/jystyle4212/221808084060 블로그의 본문 크롤링 중...\n",
      "\n",
      "\n",
      "\n",
      " 보그헤어 아현역점  의보그헤어 아현역점  의https://blog.naver.com/cdolove/221047337353  https://blog.naver.com/jystyle4212/221892467047블로그의 본문 크롤링 중...\n",
      "\n",
      " 블로그의 본문 크롤링 중...\n",
      "\n",
      "\n",
      " 보그헤어 아현역점 의 https://blog.naver.com/lysdiana2214/221097447483 블로그의 본문 크롤링 중...\n",
      "\n",
      "\n",
      " 보그헤어 아현역점 의 https://blog.naver.com/mimiwiwi77/221815257012 블로그의 본문 크롤링 중...\n",
      "\n"
     ]
    },
    {
     "data": {
      "application/vnd.jupyter.widget-view+json": {
       "model_id": "6e5581f4b54d4c88a4c70202e5fb3440",
       "version_major": 2,
       "version_minor": 0
      },
      "text/plain": [
       "HBox(children=(IntProgress(value=1, bar_style='info', max=1), HTML(value='')))"
      ]
     },
     "metadata": {},
     "output_type": "display_data"
    },
    {
     "data": {
      "application/vnd.jupyter.widget-view+json": {
       "model_id": "deea164c8fbc4f55b299e9a761b4e6bc",
       "version_major": 2,
       "version_minor": 0
      },
      "text/plain": [
       "HBox(children=(IntProgress(value=1, bar_style='info', max=1), HTML(value='')))"
      ]
     },
     "metadata": {},
     "output_type": "display_data"
    },
    {
     "data": {
      "application/vnd.jupyter.widget-view+json": {
       "model_id": "fc41375656e0426c8d084d1a5c0f8c14",
       "version_major": 2,
       "version_minor": 0
      },
      "text/plain": [
       "HBox(children=(IntProgress(value=1, bar_style='info', max=1), HTML(value='')))"
      ]
     },
     "metadata": {},
     "output_type": "display_data"
    },
    {
     "data": {
      "application/vnd.jupyter.widget-view+json": {
       "model_id": "e97cac15d55e4bca96b7b8dfbf634192",
       "version_major": 2,
       "version_minor": 0
      },
      "text/plain": [
       "HBox(children=(IntProgress(value=1, bar_style='info', max=1), HTML(value='')))"
      ]
     },
     "metadata": {},
     "output_type": "display_data"
    },
    {
     "data": {
      "application/vnd.jupyter.widget-view+json": {
       "model_id": "cbf9e0b58b4e4da28a2eee432728e4d5",
       "version_major": 2,
       "version_minor": 0
      },
      "text/plain": [
       "HBox(children=(IntProgress(value=1, bar_style='info', max=1), HTML(value='')))"
      ]
     },
     "metadata": {},
     "output_type": "display_data"
    },
    {
     "name": "stdout",
     "output_type": "stream",
     "text": [
      "https://blog.naver.com/jystyle4212/221892467047 블로그의 본문 크롤링 성공!\n",
      "\n",
      "\n",
      "현재까지 저장된 본문의 개수:  56 \n",
      "\n",
      "https://blog.naver.com/cdolove/221047337353 블로그의 본문 크롤링 성공!\n",
      "\n",
      "\n",
      "현재까지 저장된 본문의 개수:  57 \n",
      "\n",
      "https://blog.naver.com/jystyle4212/221808084060 블로그의 본문 크롤링 성공!\n",
      "\n",
      "\n",
      "현재까지 저장된 본문의 개수:  58 \n",
      "\n",
      "https://blog.naver.com/mimiwiwi77/221815257012 블로그의 본문 크롤링 성공!\n",
      "\n",
      "\n",
      "현재까지 저장된 본문의 개수:  59 \n",
      "\n",
      "https://blog.naver.com/lysdiana2214/221097447483 블로그의 본문 크롤링 성공!\n",
      "\n",
      "\n",
      "현재까지 저장된 본문의 개수:  60 \n",
      "\n",
      "60 ~ 64의 블로그 본문 크롤링을 시작합니다.\n",
      "\n",
      " 보그헤어 아현역점 의 https://blog.naver.com/duqxh3208/221799137354 블로그의 본문 크롤링 중...\n",
      "\n",
      "\n",
      " 보그헤어 아현역점 의 https://blog.naver.com/jystyle4212/221864857804 블로그의 본문 크롤링 중...\n",
      "\n",
      "\n",
      " 보그헤어 아현역점 의 https://blog.naver.com/jystyle4212/221817565202 블로그의 본문 크롤링 중...\n",
      "\n",
      "\n",
      " 보그헤어 아현역점 의 https://blog.naver.com/jystyle4212/221832233362 블로그의 본문 크롤링 중...\n",
      "\n",
      "\n",
      " 보그헤어 아현역점 의 https://blog.naver.com/jystyle4212/221828636839 블로그의 본문 크롤링 중...\n",
      "\n"
     ]
    },
    {
     "data": {
      "application/vnd.jupyter.widget-view+json": {
       "model_id": "cbcf598059eb41ea90863b07c971f998",
       "version_major": 2,
       "version_minor": 0
      },
      "text/plain": [
       "HBox(children=(IntProgress(value=1, bar_style='info', max=1), HTML(value='')))"
      ]
     },
     "metadata": {},
     "output_type": "display_data"
    },
    {
     "data": {
      "application/vnd.jupyter.widget-view+json": {
       "model_id": "9d416bd1e7314ed19dd8c23bad2a335e",
       "version_major": 2,
       "version_minor": 0
      },
      "text/plain": [
       "HBox(children=(IntProgress(value=1, bar_style='info', max=1), HTML(value='')))"
      ]
     },
     "metadata": {},
     "output_type": "display_data"
    },
    {
     "data": {
      "application/vnd.jupyter.widget-view+json": {
       "model_id": "1fc5ae5bccb44c12a92e25a95b17ad48",
       "version_major": 2,
       "version_minor": 0
      },
      "text/plain": [
       "HBox(children=(IntProgress(value=1, bar_style='info', max=1), HTML(value='')))"
      ]
     },
     "metadata": {},
     "output_type": "display_data"
    },
    {
     "data": {
      "application/vnd.jupyter.widget-view+json": {
       "model_id": "8939bf5fc8574e3e9bf753c20163b999",
       "version_major": 2,
       "version_minor": 0
      },
      "text/plain": [
       "HBox(children=(IntProgress(value=1, bar_style='info', max=1), HTML(value='')))"
      ]
     },
     "metadata": {},
     "output_type": "display_data"
    },
    {
     "data": {
      "application/vnd.jupyter.widget-view+json": {
       "model_id": "34044f4b4c354f0284102d0057ac9373",
       "version_major": 2,
       "version_minor": 0
      },
      "text/plain": [
       "HBox(children=(IntProgress(value=1, bar_style='info', max=1), HTML(value='')))"
      ]
     },
     "metadata": {},
     "output_type": "display_data"
    },
    {
     "name": "stdout",
     "output_type": "stream",
     "text": [
      "https://blog.naver.com/duqxh3208/221799137354 블로그의 본문 크롤링 성공!\n",
      "\n",
      "\n",
      "현재까지 저장된 본문의 개수:  61 \n",
      "\n",
      "https://blog.naver.com/jystyle4212/221832233362 블로그의 본문 크롤링 성공!\n",
      "\n",
      "\n",
      "현재까지 저장된 본문의 개수:  62 \n",
      "\n",
      "https://blog.naver.com/jystyle4212/221864857804 블로그의 본문 크롤링 성공!\n",
      "\n",
      "\n",
      "현재까지 저장된 본문의 개수:  63 \n",
      "\n",
      "https://blog.naver.com/jystyle4212/221817565202 블로그의 본문 크롤링 성공!\n",
      "\n",
      "\n",
      "https://blog.naver.com/jystyle4212/221828636839 현재까지 저장된 본문의 개수: 블로그의 본문 크롤링 성공!\n",
      " \n",
      "65\n",
      " 현재까지 저장된 본문의 개수: \n",
      " \n",
      "65 \n",
      "\n",
      "65 ~ 69의 블로그 본문 크롤링을 시작합니다.\n",
      "\n",
      " 보그헤어 아현역점 의 https://blog.naver.com/rhalswnd255/221710654375 블로그의 본문 크롤링 중...\n",
      "\n",
      "\n",
      " 보그헤어 아현역점 의 https://blog.naver.com/jystyle4212/221790301837 블로그의 본문 크롤링 중...\n",
      "\n",
      "\n",
      " 보그헤어 아현역점 의 https://blog.naver.com/jystyle4212/221791111706 블로그의 본문 크롤링 중...\n",
      "\n",
      "\n",
      " 보그헤어 아현역점 의 https://blog.naver.com/jystyle4212/221814282960 블로그의 본문 크롤링 중...\n",
      "\n",
      "\n",
      " 보그헤어 아현역점 의 https://blog.naver.com/sbscmp/221744246173 블로그의 본문 크롤링 중...\n",
      "\n"
     ]
    },
    {
     "data": {
      "application/vnd.jupyter.widget-view+json": {
       "model_id": "d2cfbbc14a13484d82a8367c9527c0a6",
       "version_major": 2,
       "version_minor": 0
      },
      "text/plain": [
       "HBox(children=(IntProgress(value=1, bar_style='info', max=1), HTML(value='')))"
      ]
     },
     "metadata": {},
     "output_type": "display_data"
    },
    {
     "data": {
      "application/vnd.jupyter.widget-view+json": {
       "model_id": "a58d979d7fcf4db3a219d0ed25f697f9",
       "version_major": 2,
       "version_minor": 0
      },
      "text/plain": [
       "HBox(children=(IntProgress(value=1, bar_style='info', max=1), HTML(value='')))"
      ]
     },
     "metadata": {},
     "output_type": "display_data"
    },
    {
     "data": {
      "application/vnd.jupyter.widget-view+json": {
       "model_id": "7a7080fd54544363a4283f761da7cda6",
       "version_major": 2,
       "version_minor": 0
      },
      "text/plain": [
       "HBox(children=(IntProgress(value=1, bar_style='info', max=1), HTML(value='')))"
      ]
     },
     "metadata": {},
     "output_type": "display_data"
    },
    {
     "data": {
      "application/vnd.jupyter.widget-view+json": {
       "model_id": "4f8b8605c1a94ddbb45e780b8719651e",
       "version_major": 2,
       "version_minor": 0
      },
      "text/plain": [
       "HBox(children=(IntProgress(value=1, bar_style='info', max=1), HTML(value='')))"
      ]
     },
     "metadata": {},
     "output_type": "display_data"
    },
    {
     "data": {
      "application/vnd.jupyter.widget-view+json": {
       "model_id": "550ac98be6054a26bd700048950381c1",
       "version_major": 2,
       "version_minor": 0
      },
      "text/plain": [
       "HBox(children=(IntProgress(value=1, bar_style='info', max=1), HTML(value='')))"
      ]
     },
     "metadata": {},
     "output_type": "display_data"
    },
    {
     "name": "stdout",
     "output_type": "stream",
     "text": [
      "https://blog.naver.com/rhalswnd255/221710654375 https://blog.naver.com/sbscmp/221744246173블로그의 본문 크롤링 성공!\n",
      " \n",
      "블로그의 본문 크롤링 성공!\n",
      "\n",
      "\n",
      "현재까지 저장된 본문의 개수: \n",
      " 현재까지 저장된 본문의 개수: 67  67\n",
      " \n",
      "\n",
      "\n",
      "https://blog.naver.com/jystyle4212/221791111706 블로그의 본문 크롤링 성공!\n",
      "\n",
      "\n",
      "현재까지 저장된 본문의 개수:  68 \n",
      "\n",
      "https://blog.naver.com/jystyle4212/221790301837 블로그의 본문 크롤링 성공!\n",
      "\n",
      "\n",
      "현재까지 저장된 본문의 개수:  69 \n",
      "\n",
      "https://blog.naver.com/jystyle4212/221814282960 블로그의 본문 크롤링 성공!\n",
      "\n",
      "\n",
      "현재까지 저장된 본문의 개수:  70 \n",
      "\n",
      "70 ~ 74의 블로그 본문 크롤링을 시작합니다.\n",
      "\n",
      " 보그헤어 아현역점 의 https://blog.naver.com/jystyle4212/221799141962 블로그의 본문 크롤링 중...\n",
      "\n",
      "\n",
      " 보그헤어 아현역점 의 https://blog.naver.com/fornowhere/221722484257 블로그의 본문 크롤링 중...\n",
      "\n",
      "\n",
      " 보그헤어 아현역점 의 https://blog.naver.com/jystyle4212/221784231399 블로그의 본문 크롤링 중...\n",
      "\n",
      "\n",
      " 보그헤어 아현역점 의 https://blog.naver.com/jystyle4212/221768070235 블로그의 본문 크롤링 중...\n",
      "\n",
      "\n",
      " 보그헤어 아현역점 의 https://blog.naver.com/jystyle4212/221830398151 블로그의 본문 크롤링 중...\n",
      "\n"
     ]
    },
    {
     "data": {
      "application/vnd.jupyter.widget-view+json": {
       "model_id": "43efd4487a92446fb2d5bfc942b28ecd",
       "version_major": 2,
       "version_minor": 0
      },
      "text/plain": [
       "HBox(children=(IntProgress(value=1, bar_style='info', max=1), HTML(value='')))"
      ]
     },
     "metadata": {},
     "output_type": "display_data"
    },
    {
     "data": {
      "application/vnd.jupyter.widget-view+json": {
       "model_id": "a850a079f1894d22a15fd562e7413401",
       "version_major": 2,
       "version_minor": 0
      },
      "text/plain": [
       "HBox(children=(IntProgress(value=1, bar_style='info', max=1), HTML(value='')))"
      ]
     },
     "metadata": {},
     "output_type": "display_data"
    },
    {
     "data": {
      "application/vnd.jupyter.widget-view+json": {
       "model_id": "61933b6a9a7e4d8c9e8c5014a12aec4b",
       "version_major": 2,
       "version_minor": 0
      },
      "text/plain": [
       "HBox(children=(IntProgress(value=1, bar_style='info', max=1), HTML(value='')))"
      ]
     },
     "metadata": {},
     "output_type": "display_data"
    },
    {
     "data": {
      "application/vnd.jupyter.widget-view+json": {
       "model_id": "ea4a515ab3164876b565a38f458d5961",
       "version_major": 2,
       "version_minor": 0
      },
      "text/plain": [
       "HBox(children=(IntProgress(value=1, bar_style='info', max=1), HTML(value='')))"
      ]
     },
     "metadata": {},
     "output_type": "display_data"
    },
    {
     "data": {
      "application/vnd.jupyter.widget-view+json": {
       "model_id": "1ef2130f5fff44e8945b8b3478bb2c5b",
       "version_major": 2,
       "version_minor": 0
      },
      "text/plain": [
       "HBox(children=(IntProgress(value=1, bar_style='info', max=1), HTML(value='')))"
      ]
     },
     "metadata": {},
     "output_type": "display_data"
    },
    {
     "name": "stdout",
     "output_type": "stream",
     "text": [
      "https://blog.naver.com/jystyle4212/221799141962 블로그의 본문 크롤링 성공!\n",
      "\n",
      "\n",
      "현재까지 저장된 본문의 개수:  71 \n",
      "\n",
      "https://blog.naver.com/jystyle4212/221784231399 블로그의 본문 크롤링 성공!\n",
      "\n",
      "\n",
      "현재까지 저장된 본문의 개수:  72 \n",
      "\n",
      "https://blog.naver.com/fornowhere/221722484257 블로그의 본문 크롤링 성공!\n",
      "\n",
      "\n",
      "현재까지 저장된 본문의 개수:  73 \n",
      "\n",
      "https://blog.naver.com/jystyle4212/221768070235 블로그의 본문 크롤링 성공!\n",
      "\n",
      "\n",
      "현재까지 저장된 본문의 개수:  74 \n",
      "\n",
      "https://blog.naver.com/jystyle4212/221830398151 블로그의 본문 크롤링 성공!\n",
      "\n",
      "\n",
      "현재까지 저장된 본문의 개수:  75 \n",
      "\n",
      "75 ~ 79의 블로그 본문 크롤링을 시작합니다.\n",
      "\n",
      " 보그헤어 아현역점 의 https://blog.naver.com/lily98tulip/221703082029 블로그의 본문 크롤링 중...\n",
      "\n",
      "\n",
      " 보그헤어 아현역점 의 https://blog.naver.com/dksgy77/221709521577 블로그의 본문 크롤링 중...\n",
      "\n",
      "\n",
      " 보그헤어 아현역점 의 https://blog.naver.com/ysxarang/221695382106 블로그의 본문 크롤링 중...\n",
      "\n",
      "\n",
      " 보그헤어 아현역점 의 https://blog.naver.com/jystyle4212/221776293952 블로그의 본문 크롤링 중...\n",
      "\n",
      "\n",
      " 보그헤어 아현역점 의 https://blog.naver.com/jystyle4212/221796619493 블로그의 본문 크롤링 중...\n",
      "\n"
     ]
    },
    {
     "data": {
      "application/vnd.jupyter.widget-view+json": {
       "model_id": "fa0f4c62b50b44dabab51a9fa75c3e82",
       "version_major": 2,
       "version_minor": 0
      },
      "text/plain": [
       "HBox(children=(IntProgress(value=1, bar_style='info', max=1), HTML(value='')))"
      ]
     },
     "metadata": {},
     "output_type": "display_data"
    },
    {
     "data": {
      "application/vnd.jupyter.widget-view+json": {
       "model_id": "fbff9c7a7e8b45d8b055e5447c39984d",
       "version_major": 2,
       "version_minor": 0
      },
      "text/plain": [
       "HBox(children=(IntProgress(value=1, bar_style='info', max=1), HTML(value='')))"
      ]
     },
     "metadata": {},
     "output_type": "display_data"
    },
    {
     "data": {
      "application/vnd.jupyter.widget-view+json": {
       "model_id": "ea53fa0369194eb7a5c667192522617f",
       "version_major": 2,
       "version_minor": 0
      },
      "text/plain": [
       "HBox(children=(IntProgress(value=1, bar_style='info', max=1), HTML(value='')))"
      ]
     },
     "metadata": {},
     "output_type": "display_data"
    },
    {
     "data": {
      "application/vnd.jupyter.widget-view+json": {
       "model_id": "ec570a09f27b46edbb86d9cfd2d59909",
       "version_major": 2,
       "version_minor": 0
      },
      "text/plain": [
       "HBox(children=(IntProgress(value=1, bar_style='info', max=1), HTML(value='')))"
      ]
     },
     "metadata": {},
     "output_type": "display_data"
    },
    {
     "data": {
      "application/vnd.jupyter.widget-view+json": {
       "model_id": "fc980e3f07af40d1bc8a0f1a2abf533c",
       "version_major": 2,
       "version_minor": 0
      },
      "text/plain": [
       "HBox(children=(IntProgress(value=1, bar_style='info', max=1), HTML(value='')))"
      ]
     },
     "metadata": {},
     "output_type": "display_data"
    },
    {
     "name": "stdout",
     "output_type": "stream",
     "text": [
      "https://blog.naver.com/jystyle4212/221776293952 블로그의 본문 크롤링 성공!\n",
      "\n",
      "\n",
      "현재까지 저장된 본문의 개수:  76 \n",
      "\n",
      "https://blog.naver.com/jystyle4212/221796619493 블로그의 본문 크롤링 성공!\n",
      "\n",
      "\n",
      "현재까지 저장된 본문의 개수:  77 \n",
      "\n",
      "https://blog.naver.com/dksgy77/221709521577 블로그의 본문 크롤링 성공!\n",
      "\n",
      "\n",
      "현재까지 저장된 본문의 개수:  78 \n",
      "\n",
      "https://blog.naver.com/lily98tulip/221703082029 블로그의 본문 크롤링 성공!\n",
      "\n",
      "\n",
      "현재까지 저장된 본문의 개수:  79 \n",
      "\n",
      "https://blog.naver.com/ysxarang/221695382106 블로그의 본문 크롤링 성공!\n",
      "\n",
      "\n",
      "현재까지 저장된 본문의 개수:  80 \n",
      "\n",
      "80 ~ 84의 블로그 본문 크롤링을 시작합니다.\n",
      "\n",
      " 보그헤어 아현역점 의 https://blog.naver.com/i_ov2/221507869956 블로그의 본문 크롤링 중...\n",
      "\n",
      "\n",
      " 보그헤어 아현역점 의 https://blog.naver.com/finance-tax/221527379163 블로그의 본문 크롤링 중...\n",
      "\n",
      "\n",
      " 보그헤어 아현역점 의 https://blog.naver.com/jystyle4212/221765297035 블로그의 본문 크롤링 중...\n",
      "\n",
      "\n",
      " 보그헤어 아현역점 의 https://blog.naver.com/jystyle4212/221766435002 블로그의 본문 크롤링 중...\n",
      "\n"
     ]
    },
    {
     "data": {
      "application/vnd.jupyter.widget-view+json": {
       "model_id": "02ade00f3da144f69fc20afc1aa4f881",
       "version_major": 2,
       "version_minor": 0
      },
      "text/plain": [
       "HBox(children=(IntProgress(value=1, bar_style='info', max=1), HTML(value='')))"
      ]
     },
     "metadata": {},
     "output_type": "display_data"
    },
    {
     "name": "stdout",
     "output_type": "stream",
     "text": [
      "\n",
      " 보그헤어 아현역점 의 https://blog.naver.com/youna1133/221587154819 블로그의 본문 크롤링 중...\n",
      "\n"
     ]
    },
    {
     "data": {
      "application/vnd.jupyter.widget-view+json": {
       "model_id": "5f47d419cbf84c7682ce372149c737cf",
       "version_major": 2,
       "version_minor": 0
      },
      "text/plain": [
       "HBox(children=(IntProgress(value=1, bar_style='info', max=1), HTML(value='')))"
      ]
     },
     "metadata": {},
     "output_type": "display_data"
    },
    {
     "data": {
      "application/vnd.jupyter.widget-view+json": {
       "model_id": "54b83efe8094432485d6ca10f13b21f8",
       "version_major": 2,
       "version_minor": 0
      },
      "text/plain": [
       "HBox(children=(IntProgress(value=1, bar_style='info', max=1), HTML(value='')))"
      ]
     },
     "metadata": {},
     "output_type": "display_data"
    },
    {
     "data": {
      "application/vnd.jupyter.widget-view+json": {
       "model_id": "49dca7a7f16f4c8f8203f9b4bdfd2572",
       "version_major": 2,
       "version_minor": 0
      },
      "text/plain": [
       "HBox(children=(IntProgress(value=1, bar_style='info', max=1), HTML(value='')))"
      ]
     },
     "metadata": {},
     "output_type": "display_data"
    },
    {
     "data": {
      "application/vnd.jupyter.widget-view+json": {
       "model_id": "9752472d0776433689145a3c5690b23b",
       "version_major": 2,
       "version_minor": 0
      },
      "text/plain": [
       "HBox(children=(IntProgress(value=1, bar_style='info', max=1), HTML(value='')))"
      ]
     },
     "metadata": {},
     "output_type": "display_data"
    },
    {
     "name": "stdout",
     "output_type": "stream",
     "text": [
      "https://blog.naver.com/i_ov2/221507869956 블로그의 본문 크롤링 성공!\n",
      "\n",
      "\n",
      "현재까지 저장된 본문의 개수:  81 \n",
      "\n",
      "https://blog.naver.com/jystyle4212/221765297035 블로그의 본문 크롤링 성공!\n",
      "\n",
      "\n",
      "현재까지 저장된 본문의 개수:  82 \n",
      "\n",
      "https://blog.naver.com/jystyle4212/221766435002 블로그의 본문 크롤링 성공!\n",
      "\n",
      "https://blog.naver.com/finance-tax/221527379163 \n",
      "블로그의 본문 크롤링 성공!\n",
      "현재까지 저장된 본문의 개수: \n",
      " \n",
      "84 현재까지 저장된 본문의 개수: \n",
      " \n",
      "84 \n",
      "\n",
      "https://blog.naver.com/youna1133/221587154819 블로그의 본문 크롤링 성공!\n",
      "\n",
      "\n",
      "현재까지 저장된 본문의 개수:  85 \n",
      "\n",
      "85 ~ 89의 블로그 본문 크롤링을 시작합니다.\n",
      "\n",
      " 보그헤어 아현역점 의 https://blog.naver.com/harrrong/221585161659 블로그의 본문 크롤링 중...\n",
      "\n",
      "\n",
      " 보그헤어 아현역점 의 https://blog.naver.com/livemy0324/221530426852 블로그의 본문 크롤링 중...\n",
      "\n",
      "\n",
      " 보그헤어 아현역점 의 https://blog.naver.com/jystyle4212/221689304494 블로그의 본문 크롤링 중...\n",
      "\n",
      "\n",
      " 보그헤어 아현역점 의 https://blog.naver.com/jystyle4212/221762893477 블로그의 본문 크롤링 중...\n",
      "\n",
      "\n",
      " 보그헤어 아현역점 의 https://blog.naver.com/ro_dam/221507868006 블로그의 본문 크롤링 중...\n",
      "\n"
     ]
    },
    {
     "data": {
      "application/vnd.jupyter.widget-view+json": {
       "model_id": "93527f62938f43debb9aaeef69bd711d",
       "version_major": 2,
       "version_minor": 0
      },
      "text/plain": [
       "HBox(children=(IntProgress(value=1, bar_style='info', max=1), HTML(value='')))"
      ]
     },
     "metadata": {},
     "output_type": "display_data"
    },
    {
     "data": {
      "application/vnd.jupyter.widget-view+json": {
       "model_id": "1b028458eea349d8897a2e0efd487372",
       "version_major": 2,
       "version_minor": 0
      },
      "text/plain": [
       "HBox(children=(IntProgress(value=1, bar_style='info', max=1), HTML(value='')))"
      ]
     },
     "metadata": {},
     "output_type": "display_data"
    },
    {
     "data": {
      "application/vnd.jupyter.widget-view+json": {
       "model_id": "d06058e7b72e467fbbb884c0682194b8",
       "version_major": 2,
       "version_minor": 0
      },
      "text/plain": [
       "HBox(children=(IntProgress(value=1, bar_style='info', max=1), HTML(value='')))"
      ]
     },
     "metadata": {},
     "output_type": "display_data"
    },
    {
     "data": {
      "application/vnd.jupyter.widget-view+json": {
       "model_id": "4391fa586a4c4bcaad8472130b66add1",
       "version_major": 2,
       "version_minor": 0
      },
      "text/plain": [
       "HBox(children=(IntProgress(value=1, bar_style='info', max=1), HTML(value='')))"
      ]
     },
     "metadata": {},
     "output_type": "display_data"
    },
    {
     "data": {
      "application/vnd.jupyter.widget-view+json": {
       "model_id": "cc6164d283544a7db8c4fd204fdd3a5d",
       "version_major": 2,
       "version_minor": 0
      },
      "text/plain": [
       "HBox(children=(IntProgress(value=1, bar_style='info', max=1), HTML(value='')))"
      ]
     },
     "metadata": {},
     "output_type": "display_data"
    },
    {
     "name": "stdout",
     "output_type": "stream",
     "text": [
      "https://blog.naver.com/harrrong/221585161659 블로그의 본문 크롤링 성공!\n",
      "\n",
      "\n",
      "현재까지 저장된 본문의 개수:  86 \n",
      "\n",
      "https://blog.naver.com/jystyle4212/221689304494 블로그의 본문 크롤링 성공!\n",
      "\n",
      "\n",
      "현재까지 저장된 본문의 개수:  87 \n",
      "\n",
      "https://blog.naver.com/ro_dam/221507868006 블로그의 본문 크롤링 성공!\n",
      "\n",
      "\n",
      "현재까지 저장된 본문의 개수:  88 \n",
      "\n",
      "https://blog.naver.com/livemy0324/221530426852 블로그의 본문 크롤링 성공!\n",
      "\n",
      "\n",
      "현재까지 저장된 본문의 개수:  89 \n",
      "\n",
      "https://blog.naver.com/jystyle4212/221762893477 블로그의 본문 크롤링 성공!\n",
      "\n",
      "\n",
      "현재까지 저장된 본문의 개수:  90 \n",
      "\n",
      "90 ~ 94의 블로그 본문 크롤링을 시작합니다.\n",
      "\n",
      " 보그헤어 아현역점 의 https://blog.naver.com/jystyle4212/221702746320 블로그의 본문 크롤링 중...\n",
      "\n",
      "\n",
      " 보그헤어 아현역점 의 https://blog.naver.com/ysxarang/221699108725 블로그의 본문 크롤링 중...\n",
      "\n",
      "\n",
      " 보그헤어 아현역점 의 https://blog.naver.com/jystyle4212/221715021189 블로그의 본문 크롤링 중...\n",
      "\n",
      "\n",
      " 보그헤어 아현역점 의 https://blog.naver.com/jystyle4212/221572767124 블로그의 본문 크롤링 중...\n",
      "\n",
      "\n",
      " 보그헤어 아현역점 의 https://blog.naver.com/jystyle4212/221695729705 블로그의 본문 크롤링 중...\n",
      "\n"
     ]
    },
    {
     "data": {
      "application/vnd.jupyter.widget-view+json": {
       "model_id": "7efc5805d57e48f390b2fa385af89780",
       "version_major": 2,
       "version_minor": 0
      },
      "text/plain": [
       "HBox(children=(IntProgress(value=1, bar_style='info', max=1), HTML(value='')))"
      ]
     },
     "metadata": {},
     "output_type": "display_data"
    },
    {
     "data": {
      "application/vnd.jupyter.widget-view+json": {
       "model_id": "40728f67a7664252bd13507746a9ae4c",
       "version_major": 2,
       "version_minor": 0
      },
      "text/plain": [
       "HBox(children=(IntProgress(value=1, bar_style='info', max=1), HTML(value='')))"
      ]
     },
     "metadata": {},
     "output_type": "display_data"
    },
    {
     "data": {
      "application/vnd.jupyter.widget-view+json": {
       "model_id": "b063ea4f81ff408f98015aec8362e458",
       "version_major": 2,
       "version_minor": 0
      },
      "text/plain": [
       "HBox(children=(IntProgress(value=1, bar_style='info', max=1), HTML(value='')))"
      ]
     },
     "metadata": {},
     "output_type": "display_data"
    },
    {
     "data": {
      "application/vnd.jupyter.widget-view+json": {
       "model_id": "58efbccfdb9a4db0b3ed220ca46be251",
       "version_major": 2,
       "version_minor": 0
      },
      "text/plain": [
       "HBox(children=(IntProgress(value=1, bar_style='info', max=1), HTML(value='')))"
      ]
     },
     "metadata": {},
     "output_type": "display_data"
    },
    {
     "data": {
      "application/vnd.jupyter.widget-view+json": {
       "model_id": "8e4c3adea00c4bc4841bcd7aa6da31b6",
       "version_major": 2,
       "version_minor": 0
      },
      "text/plain": [
       "HBox(children=(IntProgress(value=1, bar_style='info', max=1), HTML(value='')))"
      ]
     },
     "metadata": {},
     "output_type": "display_data"
    },
    {
     "name": "stdout",
     "output_type": "stream",
     "text": [
      "https://blog.naver.com/ysxarang/221699108725 블로그의 본문 크롤링 성공!\n",
      "\n",
      "\n",
      "현재까지 저장된 본문의 개수:  91 \n",
      "\n",
      "https://blog.naver.com/jystyle4212/221715021189 블로그의 본문 크롤링 성공!\n",
      "\n",
      "\n",
      "현재까지 저장된 본문의 개수:  92 \n",
      "\n",
      "https://blog.naver.com/jystyle4212/221702746320 블로그의 본문 크롤링 성공!\n",
      "\n",
      "\n",
      "현재까지 저장된 본문의 개수:  93 \n",
      "\n",
      "https://blog.naver.com/jystyle4212/221695729705 블로그의 본문 크롤링 성공!\n",
      "\n",
      "\n",
      "현재까지 저장된 본문의 개수:  94 \n",
      "\n",
      "https://blog.naver.com/jystyle4212/221572767124 블로그의 본문 크롤링 성공!\n",
      "\n",
      "\n",
      "현재까지 저장된 본문의 개수:  95 \n",
      "\n",
      "95 ~ 99의 블로그 본문 크롤링을 시작합니다.\n",
      "\n",
      "\n",
      "  \n",
      "보그헤어 아현역점 보그헤어 아현역점  보그헤어 아현역점 의의 의  https://blog.naver.com/jystyle4212/221669552421https://blog.naver.com/dorya/221506623492  https://blog.naver.com/jystyle4212/221680507171블로그의 본문 크롤링 중...\n",
      "블로그의 본문 크롤링 중...\n",
      "\n",
      " \n",
      "블로그의 본문 크롤링 중...\n",
      "\n",
      "\n",
      " 보그헤어 아현역점 의 https://blog.naver.com/ysxarang/221709815719 블로그의 본문 크롤링 중...\n",
      "\n",
      "\n",
      " 보그헤어 아현역점 의 https://blog.naver.com/0121877/221543537866 블로그의 본문 크롤링 중...\n",
      "\n"
     ]
    },
    {
     "data": {
      "application/vnd.jupyter.widget-view+json": {
       "model_id": "c4d1a5d01b3a4cddb89a7b671b6dee68",
       "version_major": 2,
       "version_minor": 0
      },
      "text/plain": [
       "HBox(children=(IntProgress(value=1, bar_style='info', max=1), HTML(value='')))"
      ]
     },
     "metadata": {},
     "output_type": "display_data"
    },
    {
     "data": {
      "application/vnd.jupyter.widget-view+json": {
       "model_id": "a179a45723c74f6db53ef5b2b997f410",
       "version_major": 2,
       "version_minor": 0
      },
      "text/plain": [
       "HBox(children=(IntProgress(value=1, bar_style='info', max=1), HTML(value='')))"
      ]
     },
     "metadata": {},
     "output_type": "display_data"
    },
    {
     "data": {
      "application/vnd.jupyter.widget-view+json": {
       "model_id": "f99c3580fe5d4862a3e673cd313fe31b",
       "version_major": 2,
       "version_minor": 0
      },
      "text/plain": [
       "HBox(children=(IntProgress(value=1, bar_style='info', max=1), HTML(value='')))"
      ]
     },
     "metadata": {},
     "output_type": "display_data"
    },
    {
     "data": {
      "application/vnd.jupyter.widget-view+json": {
       "model_id": "d36d606f6bb046b383f4fd3f5214a28a",
       "version_major": 2,
       "version_minor": 0
      },
      "text/plain": [
       "HBox(children=(IntProgress(value=1, bar_style='info', max=1), HTML(value='')))"
      ]
     },
     "metadata": {},
     "output_type": "display_data"
    },
    {
     "data": {
      "application/vnd.jupyter.widget-view+json": {
       "model_id": "354f1a86a8c34b478a58cf7d371c36b1",
       "version_major": 2,
       "version_minor": 0
      },
      "text/plain": [
       "HBox(children=(IntProgress(value=1, bar_style='info', max=1), HTML(value='')))"
      ]
     },
     "metadata": {},
     "output_type": "display_data"
    },
    {
     "name": "stdout",
     "output_type": "stream",
     "text": [
      "https://blog.naver.com/jystyle4212/221669552421 블로그의 본문 크롤링 성공!\n",
      "\n",
      "\n",
      "현재까지 저장된 본문의 개수:  96https://blog.naver.com/jystyle4212/221680507171 \n",
      " 블로그의 본문 크롤링 성공!\n",
      "\n",
      "\n",
      "\n",
      "현재까지 저장된 본문의 개수:  97 \n",
      "\n",
      "https://blog.naver.com/dorya/221506623492 블로그의 본문 크롤링 성공!\n",
      "\n",
      "\n",
      "현재까지 저장된 본문의 개수:  98 \n",
      "\n",
      "https://blog.naver.com/ysxarang/221709815719https://blog.naver.com/0121877/221543537866 블로그의 본문 크롤링 성공!\n",
      " \n",
      "블로그의 본문 크롤링 성공!\n",
      "\n",
      "\n",
      "현재까지 저장된 본문의 개수: \n",
      " 현재까지 저장된 본문의 개수: 99  99\n",
      " \n",
      "\n",
      "\n",
      "100 ~ 104의 블로그 본문 크롤링을 시작합니다.\n",
      "\n",
      " 보그헤어 아현역점 의 https://blog.naver.com/jystyle4212/221677396104 블로그의 본문 크롤링 중...\n",
      "\n",
      "\n",
      "\n",
      "  보그헤어 아현역점보그헤어 아현역점  의의 \n",
      " https://blog.naver.com/jystyle4212/221681517837 https://blog.naver.com/ysxarang/221458879951 보그헤어 아현역점 블로그의 본문 크롤링 중...\n",
      " 블로그의 본문 크롤링 중...\n",
      "의\n",
      "\n",
      " https://blog.naver.com/ysxarang/221664758329 블로그의 본문 크롤링 중...\n",
      "\n",
      "\n",
      " 보그헤어 아현역점 의 https://blog.naver.com/ysxarang/221697088468 블로그의 본문 크롤링 중...\n",
      "\n"
     ]
    },
    {
     "data": {
      "application/vnd.jupyter.widget-view+json": {
       "model_id": "55f5bcf08ccc40c99dcbf6fa8b69c63c",
       "version_major": 2,
       "version_minor": 0
      },
      "text/plain": [
       "HBox(children=(IntProgress(value=1, bar_style='info', max=1), HTML(value='')))"
      ]
     },
     "metadata": {},
     "output_type": "display_data"
    },
    {
     "data": {
      "application/vnd.jupyter.widget-view+json": {
       "model_id": "e0928f10144546eeb2d0e1947de5cea3",
       "version_major": 2,
       "version_minor": 0
      },
      "text/plain": [
       "HBox(children=(IntProgress(value=1, bar_style='info', max=1), HTML(value='')))"
      ]
     },
     "metadata": {},
     "output_type": "display_data"
    },
    {
     "data": {
      "application/vnd.jupyter.widget-view+json": {
       "model_id": "a1f5b43adb34464992fe06f7d8d69f34",
       "version_major": 2,
       "version_minor": 0
      },
      "text/plain": [
       "HBox(children=(IntProgress(value=1, bar_style='info', max=1), HTML(value='')))"
      ]
     },
     "metadata": {},
     "output_type": "display_data"
    },
    {
     "data": {
      "application/vnd.jupyter.widget-view+json": {
       "model_id": "18c563246d894424a5c494f60bc56beb",
       "version_major": 2,
       "version_minor": 0
      },
      "text/plain": [
       "HBox(children=(IntProgress(value=1, bar_style='info', max=1), HTML(value='')))"
      ]
     },
     "metadata": {},
     "output_type": "display_data"
    },
    {
     "data": {
      "application/vnd.jupyter.widget-view+json": {
       "model_id": "9ce673fd32424da382900e14fcfd079f",
       "version_major": 2,
       "version_minor": 0
      },
      "text/plain": [
       "HBox(children=(IntProgress(value=1, bar_style='info', max=1), HTML(value='')))"
      ]
     },
     "metadata": {},
     "output_type": "display_data"
    },
    {
     "name": "stdout",
     "output_type": "stream",
     "text": [
      "https://blog.naver.com/ysxarang/221697088468https://blog.naver.com/ysxarang/221664758329  블로그의 본문 크롤링 성공!\n",
      "블로그의 본문 크롤링 성공!\n",
      "\n",
      "\n",
      "\n",
      "현재까지 저장된 본문의 개수: \n",
      " 현재까지 저장된 본문의 개수: 101  101\n",
      " \n",
      "\n",
      "\n",
      "https://blog.naver.com/jystyle4212/221681517837 블로그의 본문 크롤링 성공!\n",
      "\n",
      "\n",
      "현재까지 저장된 본문의 개수:  102 \n",
      "\n",
      "https://blog.naver.com/jystyle4212/221677396104 블로그의 본문 크롤링 성공!\n",
      "\n",
      "\n",
      "현재까지 저장된 본문의 개수:  103 \n",
      "\n",
      "https://blog.naver.com/ysxarang/221458879951 블로그의 본문 크롤링 성공!\n",
      "\n",
      "\n",
      "현재까지 저장된 본문의 개수:  104 \n",
      "\n",
      "105 ~ 109의 블로그 본문 크롤링을 시작합니다.\n",
      "\n",
      " 보그헤어 아현역점 의 https://blog.naver.com/ysxarang/221710710481 블로그의 본문 크롤링 중...\n",
      "\n",
      "\n",
      " 보그헤어 아현역점 의 https://blog.naver.com/jystyle4212/221659044405 블로그의 본문 크롤링 중...\n",
      "\n",
      "\n",
      " 보그헤어 아현역점 의 https://blog.naver.com/jystyle4212/221522584034 블로그의 본문 크롤링 중...\n",
      "\n",
      "\n",
      " 보그헤어 아현역점 의 https://blog.naver.com/ysxarang/221434454459 블로그의 본문 크롤링 중...\n",
      "\n",
      "\n",
      " 보그헤어 아현역점 의 https://blog.naver.com/bluemarie11/221522487413 블로그의 본문 크롤링 중...\n",
      "\n"
     ]
    },
    {
     "data": {
      "application/vnd.jupyter.widget-view+json": {
       "model_id": "56e4cc87e91142258b67dc29b18d9c67",
       "version_major": 2,
       "version_minor": 0
      },
      "text/plain": [
       "HBox(children=(IntProgress(value=1, bar_style='info', max=1), HTML(value='')))"
      ]
     },
     "metadata": {},
     "output_type": "display_data"
    },
    {
     "data": {
      "application/vnd.jupyter.widget-view+json": {
       "model_id": "a10f8eb8b5424897acc41ac5fae7f09c",
       "version_major": 2,
       "version_minor": 0
      },
      "text/plain": [
       "HBox(children=(IntProgress(value=1, bar_style='info', max=1), HTML(value='')))"
      ]
     },
     "metadata": {},
     "output_type": "display_data"
    },
    {
     "data": {
      "application/vnd.jupyter.widget-view+json": {
       "model_id": "6b5a6be46b6a4249a8f4067ada3c6d54",
       "version_major": 2,
       "version_minor": 0
      },
      "text/plain": [
       "HBox(children=(IntProgress(value=1, bar_style='info', max=1), HTML(value='')))"
      ]
     },
     "metadata": {},
     "output_type": "display_data"
    },
    {
     "data": {
      "application/vnd.jupyter.widget-view+json": {
       "model_id": "a00270acc1c94c2bbb88257d08f204a9",
       "version_major": 2,
       "version_minor": 0
      },
      "text/plain": [
       "HBox(children=(IntProgress(value=1, bar_style='info', max=1), HTML(value='')))"
      ]
     },
     "metadata": {},
     "output_type": "display_data"
    },
    {
     "data": {
      "application/vnd.jupyter.widget-view+json": {
       "model_id": "4d118052b6874a5eaf90764086c06756",
       "version_major": 2,
       "version_minor": 0
      },
      "text/plain": [
       "HBox(children=(IntProgress(value=1, bar_style='info', max=1), HTML(value='')))"
      ]
     },
     "metadata": {},
     "output_type": "display_data"
    },
    {
     "name": "stdout",
     "output_type": "stream",
     "text": [
      "https://blog.naver.com/ysxarang/221710710481 블로그의 본문 크롤링 성공!\n",
      "\n",
      "\n",
      "https://blog.naver.com/jystyle4212/221659044405현재까지 저장된 본문의 개수:  블로그의 본문 크롤링 성공!\n",
      " \n",
      "106\n",
      " \n",
      "현재까지 저장된 본문의 개수: \n",
      " 106 \n",
      "\n",
      "https://blog.naver.com/jystyle4212/221522584034 블로그의 본문 크롤링 성공!\n",
      "\n",
      "\n",
      "현재까지 저장된 본문의 개수:  107 \n",
      "\n",
      "https://blog.naver.com/ysxarang/221434454459 블로그의 본문 크롤링 성공!\n",
      "\n",
      "\n",
      "현재까지 저장된 본문의 개수:  108 \n",
      "\n",
      "https://blog.naver.com/bluemarie11/221522487413 블로그의 본문 크롤링 성공!\n",
      "\n",
      "\n",
      "현재까지 저장된 본문의 개수:  109 \n",
      "\n",
      "110 ~ 114의 블로그 본문 크롤링을 시작합니다.\n",
      "\n",
      " 보그헤어 아현역점 의 https://blog.naver.com/jystyle4212/221657220434 블로그의 본문 크롤링 중...\n",
      "\n",
      "\n",
      " 보그헤어 아현역점 의 https://blog.naver.com/jystyle4212/221675829949 블로그의 본문 크롤링 중...\n",
      "\n",
      "\n",
      " 보그헤어 아현역점 의 https://blog.naver.com/jystyle4212/221662636568 블로그의 본문 크롤링 중...\n",
      "\n",
      "\n",
      " 보그헤어 아현역점 의 https://blog.naver.com/ysxarang/221427331529 블로그의 본문 크롤링 중...\n",
      "\n",
      "\n",
      " 보그헤어 아현역점 의 https://blog.naver.com/jystyle4212/221671530838 블로그의 본문 크롤링 중...\n",
      "\n"
     ]
    },
    {
     "data": {
      "application/vnd.jupyter.widget-view+json": {
       "model_id": "dc3c4b8023e44cbf9db9dcdea13d0d08",
       "version_major": 2,
       "version_minor": 0
      },
      "text/plain": [
       "HBox(children=(IntProgress(value=1, bar_style='info', max=1), HTML(value='')))"
      ]
     },
     "metadata": {},
     "output_type": "display_data"
    },
    {
     "data": {
      "application/vnd.jupyter.widget-view+json": {
       "model_id": "73a1b15a9c584a9999202ef0a792cd26",
       "version_major": 2,
       "version_minor": 0
      },
      "text/plain": [
       "HBox(children=(IntProgress(value=1, bar_style='info', max=1), HTML(value='')))"
      ]
     },
     "metadata": {},
     "output_type": "display_data"
    },
    {
     "data": {
      "application/vnd.jupyter.widget-view+json": {
       "model_id": "b4733ee191c045d6b858923fd6037111",
       "version_major": 2,
       "version_minor": 0
      },
      "text/plain": [
       "HBox(children=(IntProgress(value=1, bar_style='info', max=1), HTML(value='')))"
      ]
     },
     "metadata": {},
     "output_type": "display_data"
    },
    {
     "data": {
      "application/vnd.jupyter.widget-view+json": {
       "model_id": "61b6e7ab59944bcb8538310d6c654505",
       "version_major": 2,
       "version_minor": 0
      },
      "text/plain": [
       "HBox(children=(IntProgress(value=1, bar_style='info', max=1), HTML(value='')))"
      ]
     },
     "metadata": {},
     "output_type": "display_data"
    },
    {
     "data": {
      "application/vnd.jupyter.widget-view+json": {
       "model_id": "d28db6a14d104c5aa8063540a318157d",
       "version_major": 2,
       "version_minor": 0
      },
      "text/plain": [
       "HBox(children=(IntProgress(value=1, bar_style='info', max=1), HTML(value='')))"
      ]
     },
     "metadata": {},
     "output_type": "display_data"
    },
    {
     "name": "stdout",
     "output_type": "stream",
     "text": [
      "https://blog.naver.com/jystyle4212/221662636568 블로그의 본문 크롤링 성공!\n",
      "\n",
      "\n",
      "현재까지 저장된 본문의 개수:  110 \n",
      "\n",
      "https://blog.naver.com/jystyle4212/221671530838 블로그의 본문 크롤링 성공!\n",
      "\n",
      "\n",
      "현재까지 저장된 본문의 개수:  111 \n",
      "\n",
      "https://blog.naver.com/jystyle4212/221657220434 블로그의 본문 크롤링 성공!\n",
      "\n",
      "\n",
      "현재까지 저장된 본문의 개수:  112 \n",
      "\n",
      "https://blog.naver.com/jystyle4212/221675829949 블로그의 본문 크롤링 성공!\n",
      "\n",
      "\n",
      "현재까지 저장된 본문의 개수:  113 \n",
      "\n",
      "https://blog.naver.com/ysxarang/221427331529 블로그의 본문 크롤링 성공!\n",
      "\n",
      "\n",
      "현재까지 저장된 본문의 개수:  114 \n",
      "\n",
      "115 ~ 119의 블로그 본문 크롤링을 시작합니다.\n",
      "\n",
      " 보그헤어 아현역점 의 https://blog.naver.com/ysxarang/221423615695 블로그의 본문 크롤링 중...\n",
      "\n",
      "\n",
      " 보그헤어 아현역점 의 https://blog.naver.com/ysxarang/221404382624 블로그의 본문 크롤링 중...\n",
      "\n",
      "\n",
      " 보그헤어 아현역점 의 https://blog.naver.com/jystyle4212/221434080840 블로그의 본문 크롤링 중...\n",
      "\n",
      "\n",
      " 보그헤어 아현역점 의 https://blog.naver.com/ysxarang/221708000591 블로그의 본문 크롤링 중...\n",
      "\n",
      "\n",
      " 보그헤어 아현역점 의 https://blog.naver.com/ysxarang/221696184462 블로그의 본문 크롤링 중...\n",
      "\n"
     ]
    },
    {
     "data": {
      "application/vnd.jupyter.widget-view+json": {
       "model_id": "03c1a48a56944405b088e89ac09ee4ba",
       "version_major": 2,
       "version_minor": 0
      },
      "text/plain": [
       "HBox(children=(IntProgress(value=1, bar_style='info', max=1), HTML(value='')))"
      ]
     },
     "metadata": {},
     "output_type": "display_data"
    },
    {
     "data": {
      "application/vnd.jupyter.widget-view+json": {
       "model_id": "3c76b6e5c62049dbb2c384ea40fa47fe",
       "version_major": 2,
       "version_minor": 0
      },
      "text/plain": [
       "HBox(children=(IntProgress(value=1, bar_style='info', max=1), HTML(value='')))"
      ]
     },
     "metadata": {},
     "output_type": "display_data"
    },
    {
     "data": {
      "application/vnd.jupyter.widget-view+json": {
       "model_id": "525e469499f14b9cad9a8b6a31cd990e",
       "version_major": 2,
       "version_minor": 0
      },
      "text/plain": [
       "HBox(children=(IntProgress(value=1, bar_style='info', max=1), HTML(value='')))"
      ]
     },
     "metadata": {},
     "output_type": "display_data"
    },
    {
     "data": {
      "application/vnd.jupyter.widget-view+json": {
       "model_id": "05228f1850084fc6a9bcb2760e6be2ff",
       "version_major": 2,
       "version_minor": 0
      },
      "text/plain": [
       "HBox(children=(IntProgress(value=1, bar_style='info', max=1), HTML(value='')))"
      ]
     },
     "metadata": {},
     "output_type": "display_data"
    },
    {
     "data": {
      "application/vnd.jupyter.widget-view+json": {
       "model_id": "b757640d27554d569628616462084669",
       "version_major": 2,
       "version_minor": 0
      },
      "text/plain": [
       "HBox(children=(IntProgress(value=1, bar_style='info', max=1), HTML(value='')))"
      ]
     },
     "metadata": {},
     "output_type": "display_data"
    },
    {
     "name": "stdout",
     "output_type": "stream",
     "text": [
      "https://blog.naver.com/ysxarang/221708000591 https://blog.naver.com/ysxarang/221423615695블로그의 본문 크롤링 성공!\n",
      " \n",
      "\n",
      "블로그의 본문 크롤링 성공!\n",
      "현재까지 저장된 본문의 개수: \n",
      " 116\n",
      "현재까지 저장된 본문의 개수:   \n",
      "116\n",
      " \n",
      "\n",
      "https://blog.naver.com/ysxarang/221696184462 https://blog.naver.com/jystyle4212/221434080840 블로그의 본문 크롤링 성공!\n",
      "블로그의 본문 크롤링 성공!\n",
      "\n",
      "\n",
      "\n",
      "현재까지 저장된 본문의 개수: \n",
      " 현재까지 저장된 본문의 개수: 118  118\n",
      " \n",
      "\n",
      "\n",
      "https://blog.naver.com/ysxarang/221404382624 블로그의 본문 크롤링 성공!\n",
      "\n",
      "\n",
      "현재까지 저장된 본문의 개수:  119 \n",
      "\n",
      "120 ~ 124의 블로그 본문 크롤링을 시작합니다.\n",
      "\n",
      " 준오헤어 가든준오IFC몰점 의 https://blog.naver.com/8732236/221954389040 블로그의 본문 크롤링 중...\n",
      "\n",
      "\n",
      " 보그헤어 아현역점 의 https://blog.naver.com/ysxarang/221700196353 블로그의 본문 크롤링 중...\n",
      "\n",
      "\n",
      " 보그헤어 아현역점 의 https://blog.naver.com/jystyle4212/221574854517 블로그의 본문 크롤링 중...\n",
      "\n",
      "\n",
      " 보그헤어 아현역점 의 https://blog.naver.com/ysxarang/221702965747 블로그의 본문 크롤링 중...\n",
      "\n",
      "\n",
      " 보그헤어 아현역점 의 https://blog.naver.com/ysxarang/221681937599 블로그의 본문 크롤링 중...\n",
      "\n"
     ]
    },
    {
     "data": {
      "application/vnd.jupyter.widget-view+json": {
       "model_id": "02e062ff253242e9bcf50018112a14db",
       "version_major": 2,
       "version_minor": 0
      },
      "text/plain": [
       "HBox(children=(IntProgress(value=1, bar_style='info', max=1), HTML(value='')))"
      ]
     },
     "metadata": {},
     "output_type": "display_data"
    },
    {
     "data": {
      "application/vnd.jupyter.widget-view+json": {
       "model_id": "9d3c341222584e89bbdc0591372de363",
       "version_major": 2,
       "version_minor": 0
      },
      "text/plain": [
       "HBox(children=(IntProgress(value=1, bar_style='info', max=1), HTML(value='')))"
      ]
     },
     "metadata": {},
     "output_type": "display_data"
    },
    {
     "data": {
      "application/vnd.jupyter.widget-view+json": {
       "model_id": "de9f31c78e124a069cd2920ddba1a196",
       "version_major": 2,
       "version_minor": 0
      },
      "text/plain": [
       "HBox(children=(IntProgress(value=1, bar_style='info', max=1), HTML(value='')))"
      ]
     },
     "metadata": {},
     "output_type": "display_data"
    },
    {
     "data": {
      "application/vnd.jupyter.widget-view+json": {
       "model_id": "54fb2da5a6934ddb862e620ea050b57d",
       "version_major": 2,
       "version_minor": 0
      },
      "text/plain": [
       "HBox(children=(IntProgress(value=1, bar_style='info', max=1), HTML(value='')))"
      ]
     },
     "metadata": {},
     "output_type": "display_data"
    },
    {
     "data": {
      "application/vnd.jupyter.widget-view+json": {
       "model_id": "a3b651233ca0496d802ba5e0c0602e0f",
       "version_major": 2,
       "version_minor": 0
      },
      "text/plain": [
       "HBox(children=(IntProgress(value=1, bar_style='info', max=1), HTML(value='')))"
      ]
     },
     "metadata": {},
     "output_type": "display_data"
    },
    {
     "name": "stdout",
     "output_type": "stream",
     "text": [
      "https://blog.naver.com/ysxarang/221700196353 블로그의 본문 크롤링 성공!\n",
      "\n",
      "\n",
      "현재까지 저장된 본문의 개수:  120 \n",
      "\n",
      "https://blog.naver.com/ysxarang/221681937599 블로그의 본문 크롤링 성공!\n",
      "\n",
      "\n",
      "현재까지 저장된 본문의 개수:  121 \n",
      "\n",
      "https://blog.naver.com/jystyle4212/221574854517 블로그의 본문 크롤링 성공!\n",
      "\n",
      "\n",
      "현재까지 저장된 본문의 개수:  122 \n",
      "\n",
      "https://blog.naver.com/8732236/221954389040 블로그의 본문 크롤링 성공!\n",
      "\n",
      "\n",
      "현재까지 저장된 본문의 개수:  123 \n",
      "\n",
      "https://blog.naver.com/ysxarang/221702965747 블로그의 본문 크롤링 성공!\n",
      "\n",
      "\n",
      "현재까지 저장된 본문의 개수:  124 \n",
      "\n",
      "125 ~ 129의 블로그 본문 크롤링을 시작합니다.\n",
      "\n",
      " 준오헤어 가든준오IFC몰점 의 https://blog.naver.com/thwjd2717/221836034678 블로그의 본문 크롤링 중...\n",
      "\n",
      "\n",
      " 준오헤어 가든준오IFC몰점 의 https://blog.naver.com/proposeboa/221884118835 블로그의 본문 크롤링 중...\n",
      "\n",
      "\n",
      " 준오헤어 가든준오IFC몰점 의 https://blog.naver.com/se_beauty/221945250361 블로그의 본문 크롤링 중...\n",
      "\n",
      "\n",
      " 준오헤어 가든준오IFC몰점 의 https://blog.naver.com/potter05/221846213978 블로그의 본문 크롤링 중...\n",
      "\n",
      "\n",
      " 준오헤어 가든준오IFC몰점 의 https://blog.naver.com/iklee1965/221955883876 블로그의 본문 크롤링 중...\n",
      "\n"
     ]
    },
    {
     "data": {
      "application/vnd.jupyter.widget-view+json": {
       "model_id": "dd9fec3da6094198aa3c5ecb3e02da81",
       "version_major": 2,
       "version_minor": 0
      },
      "text/plain": [
       "HBox(children=(IntProgress(value=1, bar_style='info', max=1), HTML(value='')))"
      ]
     },
     "metadata": {},
     "output_type": "display_data"
    },
    {
     "data": {
      "application/vnd.jupyter.widget-view+json": {
       "model_id": "fb64f05cbfc34d2aa1989e807602bad3",
       "version_major": 2,
       "version_minor": 0
      },
      "text/plain": [
       "HBox(children=(IntProgress(value=1, bar_style='info', max=1), HTML(value='')))"
      ]
     },
     "metadata": {},
     "output_type": "display_data"
    },
    {
     "data": {
      "application/vnd.jupyter.widget-view+json": {
       "model_id": "8fc53651b10a43418c98ca7b44fcdfd1",
       "version_major": 2,
       "version_minor": 0
      },
      "text/plain": [
       "HBox(children=(IntProgress(value=1, bar_style='info', max=1), HTML(value='')))"
      ]
     },
     "metadata": {},
     "output_type": "display_data"
    },
    {
     "data": {
      "application/vnd.jupyter.widget-view+json": {
       "model_id": "f1d5334c5611479f9194e3f886e294d8",
       "version_major": 2,
       "version_minor": 0
      },
      "text/plain": [
       "HBox(children=(IntProgress(value=1, bar_style='info', max=1), HTML(value='')))"
      ]
     },
     "metadata": {},
     "output_type": "display_data"
    },
    {
     "data": {
      "application/vnd.jupyter.widget-view+json": {
       "model_id": "5caae24fe6ab4c88be2cf82ee771e97f",
       "version_major": 2,
       "version_minor": 0
      },
      "text/plain": [
       "HBox(children=(IntProgress(value=1, bar_style='info', max=1), HTML(value='')))"
      ]
     },
     "metadata": {},
     "output_type": "display_data"
    },
    {
     "name": "stdout",
     "output_type": "stream",
     "text": [
      "https://blog.naver.com/thwjd2717/221836034678 블로그의 본문 크롤링 성공!\n",
      "\n",
      "https://blog.naver.com/iklee1965/221955883876\n",
      " 블로그의 본문 크롤링 성공!\n",
      "현재까지 저장된 본문의 개수: \n",
      " \n",
      "126현재까지 저장된 본문의 개수:  \n",
      "\n",
      " 126 \n",
      "\n",
      "https://blog.naver.com/proposeboa/221884118835 블로그의 본문 크롤링 성공!\n",
      "\n",
      "\n",
      "현재까지 저장된 본문의 개수:  127 \n",
      "\n",
      "https://blog.naver.com/potter05/221846213978 블로그의 본문 크롤링 성공!\n",
      "\n",
      "\n",
      "현재까지 저장된 본문의 개수:  128 \n",
      "\n",
      "https://blog.naver.com/se_beauty/221945250361 블로그의 본문 크롤링 성공!\n",
      "\n",
      "\n",
      "현재까지 저장된 본문의 개수:  129 \n",
      "\n",
      "130 ~ 134의 블로그 본문 크롤링을 시작합니다.\n",
      "\n",
      " 준오헤어 가든준오IFC몰점 의 https://blog.naver.com/ejh1291010/221813052409 블로그의 본문 크롤링 중...\n",
      "\n",
      "\n",
      " 준오헤어 가든준오IFC몰점 의 https://blog.naver.com/eyejohajdy/221865004379 블로그의 본문 크롤링 중...\n",
      "\n",
      "\n",
      " 준오헤어 가든준오IFC몰점 의 https://blog.naver.com/jejechu/221821460825 블로그의 본문 크롤링 중...\n",
      "\n",
      "\n",
      " 준오헤어 가든준오IFC몰점 의 https://blog.naver.com/cea8828/221845663760 블로그의 본문 크롤링 중...\n",
      "\n",
      "\n",
      " 준오헤어 가든준오IFC몰점 의 https://blog.naver.com/lemontree1116/221797874965 블로그의 본문 크롤링 중...\n",
      "\n"
     ]
    },
    {
     "data": {
      "application/vnd.jupyter.widget-view+json": {
       "model_id": "ce414fb44878487d811a8bcf629e1cc3",
       "version_major": 2,
       "version_minor": 0
      },
      "text/plain": [
       "HBox(children=(IntProgress(value=1, bar_style='info', max=1), HTML(value='')))"
      ]
     },
     "metadata": {},
     "output_type": "display_data"
    },
    {
     "data": {
      "application/vnd.jupyter.widget-view+json": {
       "model_id": "033ff97e1dba4c51855aacee1e1cdcce",
       "version_major": 2,
       "version_minor": 0
      },
      "text/plain": [
       "HBox(children=(IntProgress(value=1, bar_style='info', max=1), HTML(value='')))"
      ]
     },
     "metadata": {},
     "output_type": "display_data"
    },
    {
     "data": {
      "application/vnd.jupyter.widget-view+json": {
       "model_id": "6ad33b8f192049fabc58a479fa4967d6",
       "version_major": 2,
       "version_minor": 0
      },
      "text/plain": [
       "HBox(children=(IntProgress(value=1, bar_style='info', max=1), HTML(value='')))"
      ]
     },
     "metadata": {},
     "output_type": "display_data"
    },
    {
     "data": {
      "application/vnd.jupyter.widget-view+json": {
       "model_id": "25b402dc037b4456a922d9487d61dfc5",
       "version_major": 2,
       "version_minor": 0
      },
      "text/plain": [
       "HBox(children=(IntProgress(value=1, bar_style='info', max=1), HTML(value='')))"
      ]
     },
     "metadata": {},
     "output_type": "display_data"
    },
    {
     "data": {
      "application/vnd.jupyter.widget-view+json": {
       "model_id": "5993f3af6b8b491783d0d59dbd0eade6",
       "version_major": 2,
       "version_minor": 0
      },
      "text/plain": [
       "HBox(children=(IntProgress(value=1, bar_style='info', max=1), HTML(value='')))"
      ]
     },
     "metadata": {},
     "output_type": "display_data"
    },
    {
     "name": "stdout",
     "output_type": "stream",
     "text": [
      "https://blog.naver.com/jejechu/221821460825 블로그의 본문 크롤링 성공!\n",
      "\n",
      "\n",
      "현재까지 저장된 본문의 개수:  130https://blog.naver.com/eyejohajdy/221865004379 \n",
      " \n",
      "블로그의 본문 크롤링 성공!\n",
      "\n",
      "\n",
      "현재까지 저장된 본문의 개수:  131 \n",
      "\n",
      "https://blog.naver.com/lemontree1116/221797874965 블로그의 본문 크롤링 성공!\n",
      "\n",
      "\n",
      "현재까지 저장된 본문의 개수:  132 \n",
      "\n",
      "https://blog.naver.com/cea8828/221845663760https://blog.naver.com/ejh1291010/221813052409  블로그의 본문 크롤링 성공!\n",
      "블로그의 본문 크롤링 성공!\n",
      "\n",
      "\n",
      "\n",
      "현재까지 저장된 본문의 개수: \n",
      "현재까지 저장된 본문의 개수:   134134  \n",
      "\n",
      "\n",
      "\n",
      "135 ~ 139의 블로그 본문 크롤링을 시작합니다.\n",
      "\n",
      " 준오헤어 가든준오IFC몰점 의 https://blog.naver.com/yunju3384/221793932087 블로그의 본문 크롤링 중...\n",
      "\n",
      "\n",
      " 준오헤어 가든준오IFC몰점 의 https://blog.naver.com/ssapt406/221769289049 블로그의 본문 크롤링 중...\n",
      "\n",
      "\n",
      " 준오헤어 가든준오IFC몰점 의 https://blog.naver.com/dmsp3535/221759601036 블로그의 본문 크롤링 중...\n",
      "\n",
      "\n",
      " 준오헤어 가든준오IFC몰점 의 https://blog.naver.com/alwjd1572/221745971483 블로그의 본문 크롤링 중...\n",
      "\n",
      "\n",
      " 준오헤어 가든준오IFC몰점 의 https://blog.naver.com/hjh8036/221785950649 블로그의 본문 크롤링 중...\n",
      "\n"
     ]
    },
    {
     "data": {
      "application/vnd.jupyter.widget-view+json": {
       "model_id": "f62d0f3c618f40329b32c05d80c5f4ab",
       "version_major": 2,
       "version_minor": 0
      },
      "text/plain": [
       "HBox(children=(IntProgress(value=1, bar_style='info', max=1), HTML(value='')))"
      ]
     },
     "metadata": {},
     "output_type": "display_data"
    },
    {
     "data": {
      "application/vnd.jupyter.widget-view+json": {
       "model_id": "f723d70b10bc4ec49aea59ab882d003f",
       "version_major": 2,
       "version_minor": 0
      },
      "text/plain": [
       "HBox(children=(IntProgress(value=1, bar_style='info', max=1), HTML(value='')))"
      ]
     },
     "metadata": {},
     "output_type": "display_data"
    },
    {
     "data": {
      "application/vnd.jupyter.widget-view+json": {
       "model_id": "ac856c142c224631a0b96ff2552f05b5",
       "version_major": 2,
       "version_minor": 0
      },
      "text/plain": [
       "HBox(children=(IntProgress(value=1, bar_style='info', max=1), HTML(value='')))"
      ]
     },
     "metadata": {},
     "output_type": "display_data"
    },
    {
     "data": {
      "application/vnd.jupyter.widget-view+json": {
       "model_id": "749dee21b867440aa5dfae048092fa59",
       "version_major": 2,
       "version_minor": 0
      },
      "text/plain": [
       "HBox(children=(IntProgress(value=1, bar_style='info', max=1), HTML(value='')))"
      ]
     },
     "metadata": {},
     "output_type": "display_data"
    },
    {
     "data": {
      "application/vnd.jupyter.widget-view+json": {
       "model_id": "f519e6b0b1954f40b5e0ed04687af9be",
       "version_major": 2,
       "version_minor": 0
      },
      "text/plain": [
       "HBox(children=(IntProgress(value=1, bar_style='info', max=1), HTML(value='')))"
      ]
     },
     "metadata": {},
     "output_type": "display_data"
    },
    {
     "name": "stdout",
     "output_type": "stream",
     "text": [
      "https://blog.naver.com/yunju3384/221793932087 블로그의 본문 크롤링 성공!\n",
      "\n",
      "https://blog.naver.com/ssapt406/221769289049\n",
      " 현재까지 저장된 본문의 개수: 블로그의 본문 크롤링 성공!\n",
      "\n",
      " 136\n",
      " \n",
      "현재까지 저장된 본문의 개수: \n",
      " 136 \n",
      "\n",
      "https://blog.naver.com/dmsp3535/221759601036 블로그의 본문 크롤링 성공!\n",
      "\n",
      "\n",
      "현재까지 저장된 본문의 개수:  137 \n",
      "\n",
      "https://blog.naver.com/hjh8036/221785950649 블로그의 본문 크롤링 성공!\n",
      "\n",
      "\n",
      "현재까지 저장된 본문의 개수: https://blog.naver.com/alwjd1572/221745971483  블로그의 본문 크롤링 성공!\n",
      "138\n",
      " \n",
      "\n",
      "\n",
      "현재까지 저장된 본문의 개수:  139 \n",
      "\n",
      "140 ~ 144의 블로그 본문 크롤링을 시작합니다.\n",
      "\n",
      " 준오헤어 가든준오IFC몰점 의 https://blog.naver.com/amelalla/221753482324 블로그의 본문 크롤링 중...\n",
      "\n",
      "\n",
      " 준오헤어 가든준오IFC몰점 의 https://blog.naver.com/steve564/221723545976 블로그의 본문 크롤링 중...\n",
      "\n",
      "\n",
      " 준오헤어 가든준오IFC몰점 의 https://blog.naver.com/jawon604/221727500715 블로그의 본문 크롤링 중...\n",
      "\n",
      "\n",
      " 준오헤어 가든준오IFC몰점 의 https://blog.naver.com/swityjinny/221755545011 블로그의 본문 크롤링 중...\n",
      "\n",
      "\n",
      " 준오헤어 가든준오IFC몰점 의 https://blog.naver.com/powertheone/221756784974 블로그의 본문 크롤링 중...\n",
      "\n"
     ]
    },
    {
     "data": {
      "application/vnd.jupyter.widget-view+json": {
       "model_id": "13be59b327b947ae908fb1d22fed1a2c",
       "version_major": 2,
       "version_minor": 0
      },
      "text/plain": [
       "HBox(children=(IntProgress(value=1, bar_style='info', max=1), HTML(value='')))"
      ]
     },
     "metadata": {},
     "output_type": "display_data"
    },
    {
     "data": {
      "application/vnd.jupyter.widget-view+json": {
       "model_id": "05ec3027feff46a7885ecc67eaf35385",
       "version_major": 2,
       "version_minor": 0
      },
      "text/plain": [
       "HBox(children=(IntProgress(value=1, bar_style='info', max=1), HTML(value='')))"
      ]
     },
     "metadata": {},
     "output_type": "display_data"
    },
    {
     "data": {
      "application/vnd.jupyter.widget-view+json": {
       "model_id": "83466378b6554eb8a6dae254a22e4fbe",
       "version_major": 2,
       "version_minor": 0
      },
      "text/plain": [
       "HBox(children=(IntProgress(value=1, bar_style='info', max=1), HTML(value='')))"
      ]
     },
     "metadata": {},
     "output_type": "display_data"
    },
    {
     "data": {
      "application/vnd.jupyter.widget-view+json": {
       "model_id": "f4c247033e9941c2945c4dd6ad771881",
       "version_major": 2,
       "version_minor": 0
      },
      "text/plain": [
       "HBox(children=(IntProgress(value=1, bar_style='info', max=1), HTML(value='')))"
      ]
     },
     "metadata": {},
     "output_type": "display_data"
    },
    {
     "data": {
      "application/vnd.jupyter.widget-view+json": {
       "model_id": "fd5dd64a93c1459fb549eeef7f1b40bb",
       "version_major": 2,
       "version_minor": 0
      },
      "text/plain": [
       "HBox(children=(IntProgress(value=1, bar_style='info', max=1), HTML(value='')))"
      ]
     },
     "metadata": {},
     "output_type": "display_data"
    },
    {
     "name": "stdout",
     "output_type": "stream",
     "text": [
      "https://blog.naver.com/amelalla/221753482324 블로그의 본문 크롤링 성공!\n",
      "\n",
      "\n",
      "현재까지 저장된 본문의 개수:  https://blog.naver.com/jawon604/221727500715 블로그의 본문 크롤링 성공!\n",
      "140\n",
      " \n",
      "\n",
      "현재까지 저장된 본문의 개수: \n",
      " 141 \n",
      "\n",
      "https://blog.naver.com/swityjinny/221755545011 블로그의 본문 크롤링 성공!\n",
      "\n",
      "\n",
      "현재까지 저장된 본문의 개수:  142 \n",
      "\n",
      "https://blog.naver.com/steve564/221723545976 블로그의 본문 크롤링 성공!\n",
      "\n",
      "\n",
      "현재까지 저장된 본문의 개수:  143 \n",
      "\n",
      "https://blog.naver.com/powertheone/221756784974 블로그의 본문 크롤링 성공!\n",
      "\n",
      "\n",
      "현재까지 저장된 본문의 개수:  144 \n",
      "\n",
      "145 ~ 149의 블로그 본문 크롤링을 시작합니다.\n",
      "\n",
      " 준오헤어 가든준오IFC몰점 의 https://blog.naver.com/star__kitty/221690426276\n",
      "  블로그의 본문 크롤링 중...\n",
      "준오헤어 가든준오IFC몰점\n",
      " 의 https://blog.naver.com/mjs0626/221952889104 블로그의 본문 크롤링 중...\n",
      "\n",
      "\n",
      " 준오헤어 가든준오IFC몰점 의 https://blog.naver.com/hung-o-/221729387928 블로그의 본문 크롤링 중...\n",
      "\n",
      "\n",
      " 준오헤어 가든준오IFC몰점 의 https://blog.naver.com/realbloom/221686655140 블로그의 본문 크롤링 중...\n",
      "\n",
      "\n",
      " 준오헤어 가든준오IFC몰점 의 https://blog.naver.com/auddms0288/221950678754 블로그의 본문 크롤링 중...\n",
      "\n"
     ]
    },
    {
     "data": {
      "application/vnd.jupyter.widget-view+json": {
       "model_id": "13521388baee4b1f830150a60df1320e",
       "version_major": 2,
       "version_minor": 0
      },
      "text/plain": [
       "HBox(children=(IntProgress(value=1, bar_style='info', max=1), HTML(value='')))"
      ]
     },
     "metadata": {},
     "output_type": "display_data"
    },
    {
     "data": {
      "application/vnd.jupyter.widget-view+json": {
       "model_id": "f8432037eb3a4bcaa156213209ce3998",
       "version_major": 2,
       "version_minor": 0
      },
      "text/plain": [
       "HBox(children=(IntProgress(value=1, bar_style='info', max=1), HTML(value='')))"
      ]
     },
     "metadata": {},
     "output_type": "display_data"
    },
    {
     "data": {
      "application/vnd.jupyter.widget-view+json": {
       "model_id": "b6410172bdf04a20bfbeb9eef2ec3337",
       "version_major": 2,
       "version_minor": 0
      },
      "text/plain": [
       "HBox(children=(IntProgress(value=1, bar_style='info', max=1), HTML(value='')))"
      ]
     },
     "metadata": {},
     "output_type": "display_data"
    },
    {
     "data": {
      "application/vnd.jupyter.widget-view+json": {
       "model_id": "58ca329f112741e78370a9e4d86eb525",
       "version_major": 2,
       "version_minor": 0
      },
      "text/plain": [
       "HBox(children=(IntProgress(value=1, bar_style='info', max=1), HTML(value='')))"
      ]
     },
     "metadata": {},
     "output_type": "display_data"
    },
    {
     "data": {
      "application/vnd.jupyter.widget-view+json": {
       "model_id": "4dd579c4f17d476a859ca845857ebb7e",
       "version_major": 2,
       "version_minor": 0
      },
      "text/plain": [
       "HBox(children=(IntProgress(value=1, bar_style='info', max=1), HTML(value='')))"
      ]
     },
     "metadata": {},
     "output_type": "display_data"
    },
    {
     "name": "stdout",
     "output_type": "stream",
     "text": [
      "https://blog.naver.com/star__kitty/221690426276 블로그의 본문 크롤링 성공!\n",
      "\n",
      "\n",
      "현재까지 저장된 본문의 개수: https://blog.naver.com/mjs0626/221952889104  145블로그의 본문 크롤링 성공!\n",
      " \n",
      "\n",
      "\n",
      "\n",
      "현재까지 저장된 본문의 개수:  146 \n",
      "\n",
      "https://blog.naver.com/realbloom/221686655140 블로그의 본문 크롤링 성공!\n",
      "\n",
      "\n",
      "현재까지 저장된 본문의 개수:  147 \n",
      "\n",
      "https://blog.naver.com/hung-o-/221729387928 블로그의 본문 크롤링 성공!\n",
      "\n",
      "\n",
      "현재까지 저장된 본문의 개수:  148 \n",
      "\n",
      "https://blog.naver.com/auddms0288/221950678754 블로그의 본문 크롤링 성공!\n",
      "\n",
      "\n",
      "현재까지 저장된 본문의 개수:  149 \n",
      "\n",
      "150 ~ 154의 블로그 본문 크롤링을 시작합니다.\n",
      "\n",
      " 준오헤어 가든준오IFC몰점 의 https://blog.naver.com/kimjioooo/221186581852 블로그의 본문 크롤링 중...\n",
      "\n",
      "\n",
      " 준오헤어 가든준오IFC몰점 의 https://blog.naver.com/asdffggg2/221222476265 블로그의 본문 크롤링 중...\n",
      "\n",
      "\n",
      " 준오헤어 가든준오IFC몰점 의 https://blog.naver.com/kitty0240/221176083160 블로그의 본문 크롤링 중...\n",
      "\n",
      "\n",
      " 준오헤어 가든준오IFC몰점 의 https://blog.naver.com/leehayan93/221935719380 블로그의 본문 크롤링 중...\n",
      "\n",
      "\n",
      " 준오헤어 가든준오IFC몰점 의 https://blog.naver.com/xyzzinny/221875691496 블로그의 본문 크롤링 중...\n",
      "\n"
     ]
    },
    {
     "data": {
      "application/vnd.jupyter.widget-view+json": {
       "model_id": "24ef17107a8f4f5fb1a656cd50e8a5e3",
       "version_major": 2,
       "version_minor": 0
      },
      "text/plain": [
       "HBox(children=(IntProgress(value=1, bar_style='info', max=1), HTML(value='')))"
      ]
     },
     "metadata": {},
     "output_type": "display_data"
    },
    {
     "data": {
      "application/vnd.jupyter.widget-view+json": {
       "model_id": "1b358124b1af46579d084843f8672e1a",
       "version_major": 2,
       "version_minor": 0
      },
      "text/plain": [
       "HBox(children=(IntProgress(value=1, bar_style='info', max=1), HTML(value='')))"
      ]
     },
     "metadata": {},
     "output_type": "display_data"
    },
    {
     "data": {
      "application/vnd.jupyter.widget-view+json": {
       "model_id": "8b35813f14064245921c0e4172b658c8",
       "version_major": 2,
       "version_minor": 0
      },
      "text/plain": [
       "HBox(children=(IntProgress(value=1, bar_style='info', max=1), HTML(value='')))"
      ]
     },
     "metadata": {},
     "output_type": "display_data"
    },
    {
     "data": {
      "application/vnd.jupyter.widget-view+json": {
       "model_id": "2a0a2ecb5ef14c639fa5e581e8569d91",
       "version_major": 2,
       "version_minor": 0
      },
      "text/plain": [
       "HBox(children=(IntProgress(value=1, bar_style='info', max=1), HTML(value='')))"
      ]
     },
     "metadata": {},
     "output_type": "display_data"
    },
    {
     "data": {
      "application/vnd.jupyter.widget-view+json": {
       "model_id": "9880de9ff8114a8fa48b2a4eef4dcff7",
       "version_major": 2,
       "version_minor": 0
      },
      "text/plain": [
       "HBox(children=(IntProgress(value=1, bar_style='info', max=1), HTML(value='')))"
      ]
     },
     "metadata": {},
     "output_type": "display_data"
    },
    {
     "name": "stdout",
     "output_type": "stream",
     "text": [
      "https://blog.naver.com/kimjioooo/221186581852 https://blog.naver.com/asdffggg2/221222476265블로그의 본문 크롤링 성공!\n",
      " 블로그의 본문 크롤링 성공!\n",
      "\n",
      "\n",
      "\n",
      "현재까지 저장된 본문의 개수: \n",
      " 현재까지 저장된 본문의 개수: 151  151\n",
      " \n",
      "\n",
      "\n",
      "https://blog.naver.com/kitty0240/221176083160 블로그의 본문 크롤링 성공!\n",
      "\n",
      "\n",
      "현재까지 저장된 본문의 개수:  152 \n",
      "\n",
      "https://blog.naver.com/leehayan93/221935719380 블로그의 본문 크롤링 성공!\n",
      "\n",
      "\n",
      "현재까지 저장된 본문의 개수:  153 \n",
      "\n",
      "https://blog.naver.com/xyzzinny/221875691496 블로그의 본문 크롤링 성공!\n",
      "\n",
      "\n",
      "현재까지 저장된 본문의 개수:  154 \n",
      "\n",
      "155 ~ 159의 블로그 본문 크롤링을 시작합니다.\n",
      "\n",
      " 준오헤어 가든준오IFC몰점 의 https://blog.naver.com/ggow1003/221851628933 블로그의 본문 크롤링 중...\n",
      "\n",
      "\n",
      " 준오헤어 가든준오IFC몰점 의 https://blog.naver.com/tlgk7209/221876582250 블로그의 본문 크롤링 중...\n",
      "\n",
      "\n",
      " 준오헤어 가든준오IFC몰점 의 https://blog.naver.com/okpl9988/221948820665 블로그의 본문 크롤링 중...\n",
      "\n",
      "\n",
      " 준오헤어 가든준오IFC몰점 의 https://blog.naver.com/hanihisoo/221897046567 블로그의 본문 크롤링 중...\n",
      "\n",
      "\n",
      " 준오헤어 가든준오IFC몰점 의 https://blog.naver.com/lyj9696/221885893574 블로그의 본문 크롤링 중...\n",
      "\n"
     ]
    },
    {
     "data": {
      "application/vnd.jupyter.widget-view+json": {
       "model_id": "130223ea3f68456bbf70fc0dab36386c",
       "version_major": 2,
       "version_minor": 0
      },
      "text/plain": [
       "HBox(children=(IntProgress(value=1, bar_style='info', max=1), HTML(value='')))"
      ]
     },
     "metadata": {},
     "output_type": "display_data"
    },
    {
     "data": {
      "application/vnd.jupyter.widget-view+json": {
       "model_id": "d174847c8e4b4849837491437a4f08ad",
       "version_major": 2,
       "version_minor": 0
      },
      "text/plain": [
       "HBox(children=(IntProgress(value=1, bar_style='info', max=1), HTML(value='')))"
      ]
     },
     "metadata": {},
     "output_type": "display_data"
    },
    {
     "data": {
      "application/vnd.jupyter.widget-view+json": {
       "model_id": "6f95c032028846dea7bb48b33b503c65",
       "version_major": 2,
       "version_minor": 0
      },
      "text/plain": [
       "HBox(children=(IntProgress(value=1, bar_style='info', max=1), HTML(value='')))"
      ]
     },
     "metadata": {},
     "output_type": "display_data"
    },
    {
     "data": {
      "application/vnd.jupyter.widget-view+json": {
       "model_id": "27d87be99c694152a9bb895659f52f4a",
       "version_major": 2,
       "version_minor": 0
      },
      "text/plain": [
       "HBox(children=(IntProgress(value=1, bar_style='info', max=1), HTML(value='')))"
      ]
     },
     "metadata": {},
     "output_type": "display_data"
    },
    {
     "data": {
      "application/vnd.jupyter.widget-view+json": {
       "model_id": "f1f35c692f5c40588e4e081ed347581b",
       "version_major": 2,
       "version_minor": 0
      },
      "text/plain": [
       "HBox(children=(IntProgress(value=1, bar_style='info', max=1), HTML(value='')))"
      ]
     },
     "metadata": {},
     "output_type": "display_data"
    },
    {
     "name": "stdout",
     "output_type": "stream",
     "text": [
      "https://blog.naver.com/tlgk7209/221876582250 블로그의 본문 크롤링 성공!\n",
      "\n",
      "\n",
      "현재까지 저장된 본문의 개수:  155 \n",
      "\n",
      "https://blog.naver.com/okpl9988/221948820665 블로그의 본문 크롤링 성공!\n",
      "\n",
      "\n",
      "현재까지 저장된 본문의 개수:  156 \n",
      "\n",
      "https://blog.naver.com/lyj9696/221885893574 블로그의 본문 크롤링 성공!\n",
      "\n",
      "\n",
      "현재까지 저장된 본문의 개수:  157 \n",
      "\n",
      "https://blog.naver.com/hanihisoo/221897046567 블로그의 본문 크롤링 성공!\n",
      "\n",
      "\n",
      "현재까지 저장된 본문의 개수:  158 \n",
      "\n",
      "https://blog.naver.com/ggow1003/221851628933 블로그의 본문 크롤링 성공!\n",
      "\n",
      "\n",
      "현재까지 저장된 본문의 개수:  159 \n",
      "\n",
      "160 ~ 164의 블로그 본문 크롤링을 시작합니다.\n",
      "\n",
      " 준오헤어 가든준오IFC몰점 의 https://blog.naver.com/lovable_viva/221885888894 블로그의 본문 크롤링 중...\n",
      "\n",
      "\n",
      " 준오헤어 가든준오IFC몰점 의 https://blog.naver.com/sseul_90/221797594994 블로그의 본문 크롤링 중...\n",
      "\n",
      "\n",
      " 준오헤어 가든준오IFC몰점 의 https://blog.naver.com/dkwlsdk/221849489495 블로그의 본문 크롤링 중...\n",
      "\n",
      "\n",
      " 준오헤어 가든준오IFC몰점 의 https://blog.naver.com/stsm0101/221934324467 블로그의 본문 크롤링 중...\n",
      "\n",
      "\n",
      " 준오헤어 가든준오IFC몰점 의 https://blog.naver.com/joohr1838/221870600226 블로그의 본문 크롤링 중...\n",
      "\n"
     ]
    },
    {
     "data": {
      "application/vnd.jupyter.widget-view+json": {
       "model_id": "d40ff7199f7a4b0289a88190e28167a8",
       "version_major": 2,
       "version_minor": 0
      },
      "text/plain": [
       "HBox(children=(IntProgress(value=1, bar_style='info', max=1), HTML(value='')))"
      ]
     },
     "metadata": {},
     "output_type": "display_data"
    },
    {
     "data": {
      "application/vnd.jupyter.widget-view+json": {
       "model_id": "7b2b18e800a344249fc07684b79cd773",
       "version_major": 2,
       "version_minor": 0
      },
      "text/plain": [
       "HBox(children=(IntProgress(value=1, bar_style='info', max=1), HTML(value='')))"
      ]
     },
     "metadata": {},
     "output_type": "display_data"
    },
    {
     "data": {
      "application/vnd.jupyter.widget-view+json": {
       "model_id": "06e9b1102051441c83e7f1dd554d15d4",
       "version_major": 2,
       "version_minor": 0
      },
      "text/plain": [
       "HBox(children=(IntProgress(value=1, bar_style='info', max=1), HTML(value='')))"
      ]
     },
     "metadata": {},
     "output_type": "display_data"
    },
    {
     "data": {
      "application/vnd.jupyter.widget-view+json": {
       "model_id": "26e9b4dd21e54adc96c5597a4956df30",
       "version_major": 2,
       "version_minor": 0
      },
      "text/plain": [
       "HBox(children=(IntProgress(value=1, bar_style='info', max=1), HTML(value='')))"
      ]
     },
     "metadata": {},
     "output_type": "display_data"
    },
    {
     "data": {
      "application/vnd.jupyter.widget-view+json": {
       "model_id": "aff5394498224a91a19d5ae72dabf8bc",
       "version_major": 2,
       "version_minor": 0
      },
      "text/plain": [
       "HBox(children=(IntProgress(value=1, bar_style='info', max=1), HTML(value='')))"
      ]
     },
     "metadata": {},
     "output_type": "display_data"
    },
    {
     "name": "stdout",
     "output_type": "stream",
     "text": [
      "https://blog.naver.com/sseul_90/221797594994 블로그의 본문 크롤링 성공!\n",
      "https://blog.naver.com/dkwlsdk/221849489495\n",
      " 블로그의 본문 크롤링 성공!\n",
      "\n",
      "\n",
      "현재까지 저장된 본문의 개수: \n",
      " 현재까지 저장된 본문의 개수: 161  161 \n",
      "\n",
      "\n",
      "\n",
      "https://blog.naver.com/lovable_viva/221885888894 블로그의 본문 크롤링 성공!\n",
      "\n",
      "\n",
      "현재까지 저장된 본문의 개수:  162 \n",
      "\n",
      "https://blog.naver.com/stsm0101/221934324467 블로그의 본문 크롤링 성공!\n",
      "\n",
      "\n",
      "현재까지 저장된 본문의 개수:  163 \n",
      "\n",
      "https://blog.naver.com/joohr1838/221870600226 블로그의 본문 크롤링 성공!\n",
      "\n",
      "\n",
      "현재까지 저장된 본문의 개수:  164 \n",
      "\n",
      "165 ~ 169의 블로그 본문 크롤링을 시작합니다.\n",
      "\n",
      " 준오헤어 가든준오IFC몰점 의 https://blog.naver.com/jesuisrachel/221883745700 블로그의 본문 크롤링 중...\n",
      "\n",
      "\n",
      " 준오헤어 가든준오IFC몰점 의 https://blog.naver.com/h_anz/221834319222 블로그의 본문 크롤링 중...\n",
      "\n",
      "\n",
      " 준오헤어 가든준오IFC몰점 의 https://blog.naver.com/lyj9696/221783981339 블로그의 본문 크롤링 중...\n",
      "\n",
      "\n",
      " 준오헤어 가든준오IFC몰점 의 https://blog.naver.com/oxxxo/221885467259 블로그의 본문 크롤링 중...\n",
      "\n",
      "\n",
      " 준오헤어 가든준오IFC몰점 의 https://blog.naver.com/1980c/221835935540 블로그의 본문 크롤링 중...\n",
      "\n"
     ]
    },
    {
     "data": {
      "application/vnd.jupyter.widget-view+json": {
       "model_id": "33b5573078674feea94e8afb9801f676",
       "version_major": 2,
       "version_minor": 0
      },
      "text/plain": [
       "HBox(children=(IntProgress(value=1, bar_style='info', max=1), HTML(value='')))"
      ]
     },
     "metadata": {},
     "output_type": "display_data"
    },
    {
     "data": {
      "application/vnd.jupyter.widget-view+json": {
       "model_id": "d4a4c598a0134815bbc29e70faf7f94b",
       "version_major": 2,
       "version_minor": 0
      },
      "text/plain": [
       "HBox(children=(IntProgress(value=1, bar_style='info', max=1), HTML(value='')))"
      ]
     },
     "metadata": {},
     "output_type": "display_data"
    },
    {
     "data": {
      "application/vnd.jupyter.widget-view+json": {
       "model_id": "7c5904b12c594f81bd74317d63785df9",
       "version_major": 2,
       "version_minor": 0
      },
      "text/plain": [
       "HBox(children=(IntProgress(value=1, bar_style='info', max=1), HTML(value='')))"
      ]
     },
     "metadata": {},
     "output_type": "display_data"
    },
    {
     "data": {
      "application/vnd.jupyter.widget-view+json": {
       "model_id": "202eb0c03ef94707a7431bf1d6773a37",
       "version_major": 2,
       "version_minor": 0
      },
      "text/plain": [
       "HBox(children=(IntProgress(value=1, bar_style='info', max=1), HTML(value='')))"
      ]
     },
     "metadata": {},
     "output_type": "display_data"
    },
    {
     "data": {
      "application/vnd.jupyter.widget-view+json": {
       "model_id": "d0babbaf27cf44d3a7ac91375e5acb7b",
       "version_major": 2,
       "version_minor": 0
      },
      "text/plain": [
       "HBox(children=(IntProgress(value=1, bar_style='info', max=1), HTML(value='')))"
      ]
     },
     "metadata": {},
     "output_type": "display_data"
    },
    {
     "name": "stdout",
     "output_type": "stream",
     "text": [
      "https://blog.naver.com/h_anz/221834319222 블로그의 본문 크롤링 성공!\n",
      "\n",
      "\n",
      "현재까지 저장된 본문의 개수:  165 \n",
      "\n",
      "https://blog.naver.com/lyj9696/221783981339 블로그의 본문 크롤링 성공!\n",
      "\n",
      "\n",
      "현재까지 저장된 본문의 개수:  166 \n",
      "\n",
      "https://blog.naver.com/oxxxo/221885467259 블로그의 본문 크롤링 성공!\n",
      "\n",
      "\n",
      "현재까지 저장된 본문의 개수:  167 \n",
      "\n",
      "https://blog.naver.com/1980c/221835935540 블로그의 본문 크롤링 성공!\n",
      "\n",
      "\n",
      "현재까지 저장된 본문의 개수:  168 \n",
      "\n",
      "https://blog.naver.com/jesuisrachel/221883745700 블로그의 본문 크롤링 성공!\n",
      "\n",
      "\n",
      "현재까지 저장된 본문의 개수:  169 \n",
      "\n",
      "170 ~ 174의 블로그 본문 크롤링을 시작합니다.\n",
      "\n",
      " 준오헤어 가든준오IFC몰점 의 https://blog.naver.com/reina46/221773905819 블로그의 본문 크롤링 중...\n",
      "\n",
      "\n",
      " 준오헤어 가든준오IFC몰점 의 https://blog.naver.com/leesunaddona/221790164676 블로그의 본문 크롤링 중...\n",
      "\n",
      "\n",
      " \n",
      "준오헤어 가든준오IFC몰점  의준오헤어 가든준오IFC몰점  https://blog.naver.com/lyl_1917/221724010187의  블로그의 본문 크롤링 중...\n",
      "https://blog.naver.com/ddoyong980406/221816197877\n",
      " 블로그의 본문 크롤링 중...\n",
      "\n",
      "\n",
      " 준오헤어 가든준오IFC몰점 의 https://blog.naver.com/jwh_90/221845380619 블로그의 본문 크롤링 중...\n",
      "\n"
     ]
    },
    {
     "data": {
      "application/vnd.jupyter.widget-view+json": {
       "model_id": "5bd5a704aad64af2bf47e46c466b31bf",
       "version_major": 2,
       "version_minor": 0
      },
      "text/plain": [
       "HBox(children=(IntProgress(value=1, bar_style='info', max=1), HTML(value='')))"
      ]
     },
     "metadata": {},
     "output_type": "display_data"
    },
    {
     "data": {
      "application/vnd.jupyter.widget-view+json": {
       "model_id": "67d899115ca849f7ab3410d832e2ce54",
       "version_major": 2,
       "version_minor": 0
      },
      "text/plain": [
       "HBox(children=(IntProgress(value=1, bar_style='info', max=1), HTML(value='')))"
      ]
     },
     "metadata": {},
     "output_type": "display_data"
    },
    {
     "data": {
      "application/vnd.jupyter.widget-view+json": {
       "model_id": "c555ec7a7cae498c8b37348597987181",
       "version_major": 2,
       "version_minor": 0
      },
      "text/plain": [
       "HBox(children=(IntProgress(value=1, bar_style='info', max=1), HTML(value='')))"
      ]
     },
     "metadata": {},
     "output_type": "display_data"
    },
    {
     "data": {
      "application/vnd.jupyter.widget-view+json": {
       "model_id": "65af2d0b58e14476930e0668ef8253eb",
       "version_major": 2,
       "version_minor": 0
      },
      "text/plain": [
       "HBox(children=(IntProgress(value=1, bar_style='info', max=1), HTML(value='')))"
      ]
     },
     "metadata": {},
     "output_type": "display_data"
    },
    {
     "data": {
      "application/vnd.jupyter.widget-view+json": {
       "model_id": "3a2675d0be144c26b2aa847604530de2",
       "version_major": 2,
       "version_minor": 0
      },
      "text/plain": [
       "HBox(children=(IntProgress(value=1, bar_style='info', max=1), HTML(value='')))"
      ]
     },
     "metadata": {},
     "output_type": "display_data"
    },
    {
     "name": "stdout",
     "output_type": "stream",
     "text": [
      "https://blog.naver.com/leesunaddona/221790164676 블로그의 본문 크롤링 성공!\n",
      "\n",
      "\n",
      "현재까지 저장된 본문의 개수:  170 \n",
      "\n",
      "https://blog.naver.com/ddoyong980406/221816197877 블로그의 본문 크롤링 성공!\n",
      "\n",
      "\n",
      "현재까지 저장된 본문의 개수:  171 \n",
      "\n",
      "https://blog.naver.com/reina46/221773905819 블로그의 본문 크롤링 성공!\n",
      "\n",
      "\n",
      "현재까지 저장된 본문의 개수:  172 \n",
      "\n",
      "https://blog.naver.com/lyl_1917/221724010187 블로그의 본문 크롤링 성공!\n",
      "\n",
      "\n",
      "현재까지 저장된 본문의 개수:  173 \n",
      "\n",
      "https://blog.naver.com/jwh_90/221845380619 블로그의 본문 크롤링 성공!\n",
      "\n",
      "\n",
      "현재까지 저장된 본문의 개수:  174 \n",
      "\n",
      "175 ~ 179의 블로그 본문 크롤링을 시작합니다.\n",
      "\n",
      " 준오헤어 가든준오IFC몰점 의 https://blog.naver.com/cwr9441/221703306127 블로그의 본문 크롤링 중...\n",
      "\n",
      "\n",
      " 준오헤어 가든준오IFC몰점 의 https://blog.naver.com/141113jw/221699371600 블로그의 본문 크롤링 중...\n",
      "\n",
      "\n",
      " 준오헤어 가든준오IFC몰점 의 https://blog.naver.com/peachnavy/221807586482 블로그의 본문 크롤링 중...\n",
      "\n",
      "\n",
      " 준오헤어 가든준오IFC몰점 의 https://blog.naver.com/hungrygenie/221727414374 블로그의 본문 크롤링 중...\n",
      "\n",
      "\n",
      " 준오헤어 가든준오IFC몰점 의 https://blog.naver.com/midong0331/221737465242 블로그의 본문 크롤링 중...\n",
      "\n"
     ]
    },
    {
     "data": {
      "application/vnd.jupyter.widget-view+json": {
       "model_id": "bd7fdf1a68ec4ae59f532c1e4f0b1198",
       "version_major": 2,
       "version_minor": 0
      },
      "text/plain": [
       "HBox(children=(IntProgress(value=1, bar_style='info', max=1), HTML(value='')))"
      ]
     },
     "metadata": {},
     "output_type": "display_data"
    },
    {
     "data": {
      "application/vnd.jupyter.widget-view+json": {
       "model_id": "fd03d2c066294d79bdb47dae0a2ba06c",
       "version_major": 2,
       "version_minor": 0
      },
      "text/plain": [
       "HBox(children=(IntProgress(value=1, bar_style='info', max=1), HTML(value='')))"
      ]
     },
     "metadata": {},
     "output_type": "display_data"
    },
    {
     "data": {
      "application/vnd.jupyter.widget-view+json": {
       "model_id": "b0f0e8f3d43c493ab393d4956175cb4e",
       "version_major": 2,
       "version_minor": 0
      },
      "text/plain": [
       "HBox(children=(IntProgress(value=1, bar_style='info', max=1), HTML(value='')))"
      ]
     },
     "metadata": {},
     "output_type": "display_data"
    },
    {
     "data": {
      "application/vnd.jupyter.widget-view+json": {
       "model_id": "deb40ae9ffa7470fac3d1378fa748096",
       "version_major": 2,
       "version_minor": 0
      },
      "text/plain": [
       "HBox(children=(IntProgress(value=1, bar_style='info', max=1), HTML(value='')))"
      ]
     },
     "metadata": {},
     "output_type": "display_data"
    },
    {
     "data": {
      "application/vnd.jupyter.widget-view+json": {
       "model_id": "741a984dfee7401289c00c4e8f794772",
       "version_major": 2,
       "version_minor": 0
      },
      "text/plain": [
       "HBox(children=(IntProgress(value=1, bar_style='info', max=1), HTML(value='')))"
      ]
     },
     "metadata": {},
     "output_type": "display_data"
    },
    {
     "name": "stdout",
     "output_type": "stream",
     "text": [
      "https://blog.naver.com/141113jw/221699371600 블로그의 본문 크롤링 성공!\n",
      "\n",
      "\n",
      "현재까지 저장된 본문의 개수:  175 \n",
      "\n",
      "https://blog.naver.com/cwr9441/221703306127 블로그의 본문 크롤링 성공!\n",
      "\n",
      "\n",
      "현재까지 저장된 본문의 개수:  176 \n",
      "\n",
      "https://blog.naver.com/peachnavy/221807586482 블로그의 본문 크롤링 성공!\n",
      "\n",
      "\n",
      "현재까지 저장된 본문의 개수:  177 \n",
      "\n",
      "https://blog.naver.com/midong0331/221737465242 블로그의 본문 크롤링 성공!\n",
      "\n",
      "\n",
      "현재까지 저장된 본문의 개수:  178 \n",
      "\n",
      "https://blog.naver.com/hungrygenie/221727414374 블로그의 본문 크롤링 성공!\n",
      "\n",
      "\n",
      "현재까지 저장된 본문의 개수:  179 \n",
      "\n",
      "180 ~ 184의 블로그 본문 크롤링을 시작합니다.\n",
      "\n",
      " 준오헤어 가든준오IFC몰점 의 https://blog.naver.com/judihong/221572124671 블로그의 본문 크롤링 중...\n",
      "\n",
      "\n",
      " 준오헤어 가든준오IFC몰점 의 https://blog.naver.com/keheehee9707/221677719581 블로그의 본문 크롤링 중...\n",
      "\n",
      "\n",
      " 준오헤어 가든준오IFC몰점 의 https://blog.naver.com/virua/221690123218 블로그의 본문 크롤링 중...\n",
      "\n",
      "\n",
      " 준오헤어 가든준오IFC몰점 의 https://blog.naver.com/yyyy5428/221690407392 블로그의 본문 크롤링 중...\n",
      "\n",
      "\n",
      " 준오헤어 가든준오IFC몰점 의 https://blog.naver.com/stsm0101/221689919816 블로그의 본문 크롤링 중...\n",
      "\n"
     ]
    },
    {
     "data": {
      "application/vnd.jupyter.widget-view+json": {
       "model_id": "5d1409b7da0343ae90b9f0fb51c9b3af",
       "version_major": 2,
       "version_minor": 0
      },
      "text/plain": [
       "HBox(children=(IntProgress(value=1, bar_style='info', max=1), HTML(value='')))"
      ]
     },
     "metadata": {},
     "output_type": "display_data"
    },
    {
     "data": {
      "application/vnd.jupyter.widget-view+json": {
       "model_id": "3b6cfce267bd40d2bc43c3a60d307f9a",
       "version_major": 2,
       "version_minor": 0
      },
      "text/plain": [
       "HBox(children=(IntProgress(value=1, bar_style='info', max=1), HTML(value='')))"
      ]
     },
     "metadata": {},
     "output_type": "display_data"
    },
    {
     "data": {
      "application/vnd.jupyter.widget-view+json": {
       "model_id": "b148ecb50ea94b088cb27bf56a5d185d",
       "version_major": 2,
       "version_minor": 0
      },
      "text/plain": [
       "HBox(children=(IntProgress(value=1, bar_style='info', max=1), HTML(value='')))"
      ]
     },
     "metadata": {},
     "output_type": "display_data"
    },
    {
     "data": {
      "application/vnd.jupyter.widget-view+json": {
       "model_id": "ca5fdc5070cf4fe98e2203b1e5b255f3",
       "version_major": 2,
       "version_minor": 0
      },
      "text/plain": [
       "HBox(children=(IntProgress(value=1, bar_style='info', max=1), HTML(value='')))"
      ]
     },
     "metadata": {},
     "output_type": "display_data"
    },
    {
     "data": {
      "application/vnd.jupyter.widget-view+json": {
       "model_id": "05370abd2b33481c91459c94a7a9c483",
       "version_major": 2,
       "version_minor": 0
      },
      "text/plain": [
       "HBox(children=(IntProgress(value=1, bar_style='info', max=1), HTML(value='')))"
      ]
     },
     "metadata": {},
     "output_type": "display_data"
    },
    {
     "name": "stdout",
     "output_type": "stream",
     "text": [
      "https://blog.naver.com/judihong/221572124671 블로그의 본문 크롤링 성공!\n",
      "\n",
      "\n",
      "현재까지 저장된 본문의 개수:  180 \n",
      "\n",
      "https://blog.naver.com/stsm0101/221689919816 블로그의 본문 크롤링 성공!\n",
      "\n",
      "\n",
      "현재까지 저장된 본문의 개수:  181 \n",
      "\n",
      "https://blog.naver.com/yyyy5428/221690407392 블로그의 본문 크롤링 성공!\n",
      "\n",
      "\n",
      "현재까지 저장된 본문의 개수:  182 \n",
      "\n",
      "https://blog.naver.com/keheehee9707/221677719581 블로그의 본문 크롤링 성공!\n",
      "\n",
      "\n",
      "현재까지 저장된 본문의 개수:  183 \n",
      "\n",
      "https://blog.naver.com/virua/221690123218 블로그의 본문 크롤링 성공!\n",
      "\n",
      "\n",
      "현재까지 저장된 본문의 개수:  184 \n",
      "\n",
      "185 ~ 189의 블로그 본문 크롤링을 시작합니다.\n",
      "\n",
      " 아이디헤어 아현뉴타운점 의 https://blog.naver.com/holly1824/221932566322 블로그의 본문 크롤링 중...\n",
      "\n",
      "\n",
      " 아이디헤어 아현뉴타운점 의 https://blog.naver.com/o0aaron0o/221483987500 블로그의 본문 크롤링 중...\n",
      "\n",
      "\n",
      " 아이디헤어 아현뉴타운점 의 https://blog.naver.com/ddoza34/221314218635 블로그의 본문 크롤링 중...\n",
      "\n",
      "\n",
      " 아이디헤어 아현뉴타운점 의 https://blog.naver.com/yukino3333/221488103162 블로그의 본문 크롤링 중...\n",
      "\n",
      "\n",
      " 준오헤어 가든준오IFC몰점 의 https://blog.naver.com/keunvelyvely/221183422152 블로그의 본문 크롤링 중...\n",
      "\n"
     ]
    },
    {
     "data": {
      "application/vnd.jupyter.widget-view+json": {
       "model_id": "85596075d587497bb93bcb1d9fb284bf",
       "version_major": 2,
       "version_minor": 0
      },
      "text/plain": [
       "HBox(children=(IntProgress(value=1, bar_style='info', max=1), HTML(value='')))"
      ]
     },
     "metadata": {},
     "output_type": "display_data"
    },
    {
     "data": {
      "application/vnd.jupyter.widget-view+json": {
       "model_id": "904c8f6f7f4a4521a4d6508ef35c99d3",
       "version_major": 2,
       "version_minor": 0
      },
      "text/plain": [
       "HBox(children=(IntProgress(value=1, bar_style='info', max=1), HTML(value='')))"
      ]
     },
     "metadata": {},
     "output_type": "display_data"
    },
    {
     "data": {
      "application/vnd.jupyter.widget-view+json": {
       "model_id": "edfd4613650a40639cbb0aa823600660",
       "version_major": 2,
       "version_minor": 0
      },
      "text/plain": [
       "HBox(children=(IntProgress(value=1, bar_style='info', max=1), HTML(value='')))"
      ]
     },
     "metadata": {},
     "output_type": "display_data"
    },
    {
     "data": {
      "application/vnd.jupyter.widget-view+json": {
       "model_id": "8bd6326cf95d4c978c4d473b3c37a388",
       "version_major": 2,
       "version_minor": 0
      },
      "text/plain": [
       "HBox(children=(IntProgress(value=1, bar_style='info', max=1), HTML(value='')))"
      ]
     },
     "metadata": {},
     "output_type": "display_data"
    },
    {
     "data": {
      "application/vnd.jupyter.widget-view+json": {
       "model_id": "fdd0507d25d64d4a8404f1d40eef07de",
       "version_major": 2,
       "version_minor": 0
      },
      "text/plain": [
       "HBox(children=(IntProgress(value=1, bar_style='info', max=1), HTML(value='')))"
      ]
     },
     "metadata": {},
     "output_type": "display_data"
    },
    {
     "name": "stdout",
     "output_type": "stream",
     "text": [
      "https://blog.naver.com/yukino3333/221488103162 블로그의 본문 크롤링 성공!\n",
      "\n",
      "\n",
      "현재까지 저장된 본문의 개수:  185 \n",
      "\n",
      "https://blog.naver.com/keunvelyvely/221183422152 블로그의 본문 크롤링 성공!\n",
      "\n",
      "\n",
      "현재까지 저장된 본문의 개수:  186 \n",
      "\n",
      "https://blog.naver.com/holly1824/221932566322 블로그의 본문 크롤링 성공!\n",
      "\n",
      "\n",
      "현재까지 저장된 본문의 개수:  187 \n",
      "\n",
      "https://blog.naver.com/o0aaron0o/221483987500 블로그의 본문 크롤링 성공!\n",
      "\n",
      "\n",
      "현재까지 저장된 본문의 개수:  188 \n",
      "\n",
      "https://blog.naver.com/ddoza34/221314218635 블로그의 본문 크롤링 성공!\n",
      "\n",
      "\n",
      "현재까지 저장된 본문의 개수:  189 \n",
      "\n",
      "190 ~ 194의 블로그 본문 크롤링을 시작합니다.\n",
      "\n",
      " 아이디헤어 아현뉴타운점 의 https://blog.naver.com/namcoworld/221532548393 블로그의 본문 크롤링 중...\n",
      "\n",
      "\n",
      " 아이디헤어 아현뉴타운점 의 https://blog.naver.com/ziroll/221935953292 블로그의 본문 크롤링 중...\n",
      "\n",
      "\n",
      " 아이디헤어 아현뉴타운점 의 https://blog.naver.com/okyejin123/221480381532 블로그의 본문 크롤링 중...\n",
      "\n",
      "\n",
      " 아이디헤어 아현뉴타운점 의 https://blog.naver.com/erm216s/221496889160 블로그의 본문 크롤링 중...\n",
      "\n",
      "\n",
      " 아이디헤어 아현뉴타운점 의 https://blog.naver.com/crew0729/221482053875 블로그의 본문 크롤링 중...\n",
      "\n"
     ]
    },
    {
     "data": {
      "application/vnd.jupyter.widget-view+json": {
       "model_id": "febf159a4bf24f0096fd3c18d2e31d2e",
       "version_major": 2,
       "version_minor": 0
      },
      "text/plain": [
       "HBox(children=(IntProgress(value=1, bar_style='info', max=1), HTML(value='')))"
      ]
     },
     "metadata": {},
     "output_type": "display_data"
    },
    {
     "data": {
      "application/vnd.jupyter.widget-view+json": {
       "model_id": "4b70a21a17474440b89a374b36112941",
       "version_major": 2,
       "version_minor": 0
      },
      "text/plain": [
       "HBox(children=(IntProgress(value=1, bar_style='info', max=1), HTML(value='')))"
      ]
     },
     "metadata": {},
     "output_type": "display_data"
    },
    {
     "data": {
      "application/vnd.jupyter.widget-view+json": {
       "model_id": "338acbe8ba00455aa48e1df43d145844",
       "version_major": 2,
       "version_minor": 0
      },
      "text/plain": [
       "HBox(children=(IntProgress(value=1, bar_style='info', max=1), HTML(value='')))"
      ]
     },
     "metadata": {},
     "output_type": "display_data"
    },
    {
     "data": {
      "application/vnd.jupyter.widget-view+json": {
       "model_id": "53417777b81846a7a840de3a17598894",
       "version_major": 2,
       "version_minor": 0
      },
      "text/plain": [
       "HBox(children=(IntProgress(value=1, bar_style='info', max=1), HTML(value='')))"
      ]
     },
     "metadata": {},
     "output_type": "display_data"
    },
    {
     "data": {
      "application/vnd.jupyter.widget-view+json": {
       "model_id": "f654ab70054c4b5787d689c878343126",
       "version_major": 2,
       "version_minor": 0
      },
      "text/plain": [
       "HBox(children=(IntProgress(value=1, bar_style='info', max=1), HTML(value='')))"
      ]
     },
     "metadata": {},
     "output_type": "display_data"
    },
    {
     "name": "stdout",
     "output_type": "stream",
     "text": [
      "https://blog.naver.com/ziroll/221935953292 https://blog.naver.com/okyejin123/221480381532블로그의 본문 크롤링 성공!\n",
      " \n",
      "블로그의 본문 크롤링 성공!\n",
      "\n",
      "\n",
      "현재까지 저장된 본문의 개수: \n",
      " 현재까지 저장된 본문의 개수: 191  191 \n",
      "\n",
      "\n",
      "\n",
      "https://blog.naver.com/namcoworld/221532548393 블로그의 본문 크롤링 성공!\n",
      "\n",
      "\n",
      "현재까지 저장된 본문의 개수:  192 \n",
      "\n",
      "https://blog.naver.com/crew0729/221482053875 블로그의 본문 크롤링 성공!\n",
      "\n",
      "\n",
      "현재까지 저장된 본문의 개수:  193 \n",
      "\n",
      "https://blog.naver.com/erm216s/221496889160 블로그의 본문 크롤링 성공!\n",
      "\n",
      "\n",
      "현재까지 저장된 본문의 개수:  194 \n",
      "\n",
      "195 ~ 199의 블로그 본문 크롤링을 시작합니다.\n",
      "\n",
      " 아이디헤어 아현뉴타운점 의 https://blog.naver.com/bbiyou/221204509336 블로그의 본문 크롤링 중...\n",
      "\n",
      "\n",
      " 아이디헤어 아현뉴타운점 의 https://blog.naver.com/bosughom88/221222870626 블로그의 본문 크롤링 중...\n",
      "\n",
      "\n",
      " 아이디헤어 아현뉴타운점 의 https://blog.naver.com/akdcnddl1/221223953767 블로그의 본문 크롤링 중...\n",
      "\n",
      "\n",
      " 아이디헤어 아현뉴타운점 의 https://blog.naver.com/crew0729/221247550602 블로그의 본문 크롤링 중...\n",
      "\n",
      "\n",
      " 아이디헤어 아현뉴타운점 의 https://blog.naver.com/5hyeeun/221202778203 블로그의 본문 크롤링 중...\n",
      "\n"
     ]
    },
    {
     "data": {
      "application/vnd.jupyter.widget-view+json": {
       "model_id": "d8be15094d0748398fa152427c8cd9bd",
       "version_major": 2,
       "version_minor": 0
      },
      "text/plain": [
       "HBox(children=(IntProgress(value=1, bar_style='info', max=1), HTML(value='')))"
      ]
     },
     "metadata": {},
     "output_type": "display_data"
    },
    {
     "data": {
      "application/vnd.jupyter.widget-view+json": {
       "model_id": "840282b80a8d4b5bb5c115ca42696728",
       "version_major": 2,
       "version_minor": 0
      },
      "text/plain": [
       "HBox(children=(IntProgress(value=1, bar_style='info', max=1), HTML(value='')))"
      ]
     },
     "metadata": {},
     "output_type": "display_data"
    },
    {
     "data": {
      "application/vnd.jupyter.widget-view+json": {
       "model_id": "7fdc87808f5144609f8b44333d1453fa",
       "version_major": 2,
       "version_minor": 0
      },
      "text/plain": [
       "HBox(children=(IntProgress(value=1, bar_style='info', max=1), HTML(value='')))"
      ]
     },
     "metadata": {},
     "output_type": "display_data"
    },
    {
     "data": {
      "application/vnd.jupyter.widget-view+json": {
       "model_id": "67eec00d3e7a4d3783858ce5b75c0cd0",
       "version_major": 2,
       "version_minor": 0
      },
      "text/plain": [
       "HBox(children=(IntProgress(value=1, bar_style='info', max=1), HTML(value='')))"
      ]
     },
     "metadata": {},
     "output_type": "display_data"
    },
    {
     "data": {
      "application/vnd.jupyter.widget-view+json": {
       "model_id": "18874cef04994b3ebcb4f9ebe76a93a1",
       "version_major": 2,
       "version_minor": 0
      },
      "text/plain": [
       "HBox(children=(IntProgress(value=1, bar_style='info', max=1), HTML(value='')))"
      ]
     },
     "metadata": {},
     "output_type": "display_data"
    },
    {
     "name": "stdout",
     "output_type": "stream",
     "text": [
      "https://blog.naver.com/akdcnddl1/221223953767 블로그의 본문 크롤링 성공!\n",
      "\n",
      "\n",
      "현재까지 저장된 본문의 개수:  195 \n",
      "\n",
      "https://blog.naver.com/crew0729/221247550602 블로그의 본문 크롤링 성공!\n",
      "\n",
      "\n",
      "현재까지 저장된 본문의 개수:  196 \n",
      "\n",
      "https://blog.naver.com/bosughom88/221222870626 블로그의 본문 크롤링 성공!\n",
      "\n",
      "\n",
      "현재까지 저장된 본문의 개수:  197 \n",
      "\n",
      "https://blog.naver.com/5hyeeun/221202778203 블로그의 본문 크롤링 성공!\n",
      "\n",
      "\n",
      "현재까지 저장된 본문의 개수:  198 \n",
      "\n",
      "https://blog.naver.com/bbiyou/221204509336 블로그의 본문 크롤링 성공!\n",
      "\n",
      "\n",
      "현재까지 저장된 본문의 개수:  199 \n",
      "\n",
      "200 ~ 204의 블로그 본문 크롤링을 시작합니다.\n",
      "\n",
      " 아이디헤어 아현뉴타운점 의 https://blog.naver.com/iss213/221159013116 블로그의 본문 크롤링 중...\n",
      "\n",
      "\n",
      "\n",
      "  아이디헤어 아현뉴타운점 아이디헤어 아현뉴타운점의  의https://blog.naver.com/anastash2/221156177223  https://blog.naver.com/celinicious/221179376376블로그의 본문 크롤링 중...\n",
      "\n",
      " 블로그의 본문 크롤링 중...\n",
      "\n",
      "\n",
      " 아이디헤어 아현뉴타운점 의 https://blog.naver.com/folia91/221202427896 블로그의 본문 크롤링 중...\n",
      "\n",
      "\n",
      " 아이디헤어 아현뉴타운점 의 https://blog.naver.com/soeyoung1004/221231207969 블로그의 본문 크롤링 중...\n",
      "\n"
     ]
    },
    {
     "data": {
      "application/vnd.jupyter.widget-view+json": {
       "model_id": "8e840a64b2e540ddb5628c319ccfa643",
       "version_major": 2,
       "version_minor": 0
      },
      "text/plain": [
       "HBox(children=(IntProgress(value=1, bar_style='info', max=1), HTML(value='')))"
      ]
     },
     "metadata": {},
     "output_type": "display_data"
    },
    {
     "data": {
      "application/vnd.jupyter.widget-view+json": {
       "model_id": "c2e995bdbd98428987e1ef140df34edb",
       "version_major": 2,
       "version_minor": 0
      },
      "text/plain": [
       "HBox(children=(IntProgress(value=1, bar_style='info', max=1), HTML(value='')))"
      ]
     },
     "metadata": {},
     "output_type": "display_data"
    },
    {
     "data": {
      "application/vnd.jupyter.widget-view+json": {
       "model_id": "36eb111f5bb948f79b88da28fb351e9d",
       "version_major": 2,
       "version_minor": 0
      },
      "text/plain": [
       "HBox(children=(IntProgress(value=1, bar_style='info', max=1), HTML(value='')))"
      ]
     },
     "metadata": {},
     "output_type": "display_data"
    },
    {
     "data": {
      "application/vnd.jupyter.widget-view+json": {
       "model_id": "5b2602760285438ea41145063fb521d0",
       "version_major": 2,
       "version_minor": 0
      },
      "text/plain": [
       "HBox(children=(IntProgress(value=1, bar_style='info', max=1), HTML(value='')))"
      ]
     },
     "metadata": {},
     "output_type": "display_data"
    },
    {
     "data": {
      "application/vnd.jupyter.widget-view+json": {
       "model_id": "a42c3d55f5e4460387a467e4771d285e",
       "version_major": 2,
       "version_minor": 0
      },
      "text/plain": [
       "HBox(children=(IntProgress(value=1, bar_style='info', max=1), HTML(value='')))"
      ]
     },
     "metadata": {},
     "output_type": "display_data"
    },
    {
     "name": "stdout",
     "output_type": "stream",
     "text": [
      "https://blog.naver.com/iss213/221159013116 블로그의 본문 크롤링 성공!\n",
      "https://blog.naver.com/celinicious/221179376376\n",
      " \n",
      "블로그의 본문 크롤링 성공!\n",
      "현재까지 저장된 본문의 개수: \n",
      " \n",
      "201현재까지 저장된 본문의 개수:   \n",
      "201\n",
      " \n",
      "\n",
      "https://blog.naver.com/folia91/221202427896 블로그의 본문 크롤링 성공!\n",
      "\n",
      "\n",
      "현재까지 저장된 본문의 개수:  202 \n",
      "\n",
      "https://blog.naver.com/soeyoung1004/221231207969 블로그의 본문 크롤링 성공!\n",
      "\n",
      "\n",
      "현재까지 저장된 본문의 개수:  203 \n",
      "https://blog.naver.com/anastash2/221156177223 \n",
      "블로그의 본문 크롤링 성공!\n",
      "\n",
      "\n",
      "현재까지 저장된 본문의 개수:  204 \n",
      "\n",
      "205 ~ 209의 블로그 본문 크롤링을 시작합니다.\n",
      "\n",
      " 아이디헤어 아현뉴타운점 의 https://blog.naver.com/doctorfactory1/221898614884 블로그의 본문 크롤링 중...\n",
      "\n",
      "\n",
      " 아이디헤어 아현뉴타운점 의 https://blog.naver.com/ahapc1004/221798143226 블로그의 본문 크롤링 중...\n",
      "\n",
      "\n",
      " 아이디헤어 아현뉴타운점 의 https://blog.naver.com/26763539/221852433370 블로그의 본문 크롤링 중...\n",
      "\n",
      "\n",
      " 아이디헤어 아현뉴타운점 의 https://blog.naver.com/kazelove00/221799608268 블로그의 본문 크롤링 중...\n",
      "\n",
      "\n",
      " 아이디헤어 아현뉴타운점 의 https://blog.naver.com/jessica1006e/221120980780 블로그의 본문 크롤링 중...\n",
      "\n"
     ]
    },
    {
     "data": {
      "application/vnd.jupyter.widget-view+json": {
       "model_id": "c81c4818eff648abbaac03e8923a9d8d",
       "version_major": 2,
       "version_minor": 0
      },
      "text/plain": [
       "HBox(children=(IntProgress(value=1, bar_style='info', max=1), HTML(value='')))"
      ]
     },
     "metadata": {},
     "output_type": "display_data"
    },
    {
     "data": {
      "application/vnd.jupyter.widget-view+json": {
       "model_id": "b75ec0ca13c84c3a84836adad72e9cf0",
       "version_major": 2,
       "version_minor": 0
      },
      "text/plain": [
       "HBox(children=(IntProgress(value=1, bar_style='info', max=1), HTML(value='')))"
      ]
     },
     "metadata": {},
     "output_type": "display_data"
    },
    {
     "data": {
      "application/vnd.jupyter.widget-view+json": {
       "model_id": "3c2773186a4340799e0b59b6f091cacd",
       "version_major": 2,
       "version_minor": 0
      },
      "text/plain": [
       "HBox(children=(IntProgress(value=1, bar_style='info', max=1), HTML(value='')))"
      ]
     },
     "metadata": {},
     "output_type": "display_data"
    },
    {
     "data": {
      "application/vnd.jupyter.widget-view+json": {
       "model_id": "077c5d56b55c4b6abd1af564c1db60d7",
       "version_major": 2,
       "version_minor": 0
      },
      "text/plain": [
       "HBox(children=(IntProgress(value=1, bar_style='info', max=1), HTML(value='')))"
      ]
     },
     "metadata": {},
     "output_type": "display_data"
    },
    {
     "data": {
      "application/vnd.jupyter.widget-view+json": {
       "model_id": "dd2f9c562bfb4b2cb7b190b571db5fff",
       "version_major": 2,
       "version_minor": 0
      },
      "text/plain": [
       "HBox(children=(IntProgress(value=1, bar_style='info', max=1), HTML(value='')))"
      ]
     },
     "metadata": {},
     "output_type": "display_data"
    },
    {
     "name": "stdout",
     "output_type": "stream",
     "text": [
      "https://blog.naver.com/doctorfactory1/221898614884 블로그의 본문 크롤링 성공!\n",
      "\n",
      "\n",
      "현재까지 저장된 본문의 개수:  205 \n",
      "\n",
      "https://blog.naver.com/ahapc1004/221798143226 블로그의 본문 크롤링 성공!\n",
      "\n",
      "\n",
      "현재까지 저장된 본문의 개수:  206 \n",
      "\n",
      "https://blog.naver.com/26763539/221852433370 블로그의 본문 크롤링 성공!\n",
      "\n",
      "\n",
      "현재까지 저장된 본문의 개수:  207 \n",
      "\n",
      "https://blog.naver.com/kazelove00/221799608268 블로그의 본문 크롤링 성공!\n",
      "\n",
      "\n",
      "현재까지 저장된 본문의 개수:  208 \n",
      "\n",
      "https://blog.naver.com/jessica1006e/221120980780 블로그의 본문 크롤링 성공!\n",
      "\n",
      "\n",
      "현재까지 저장된 본문의 개수:  209 \n",
      "\n",
      "210 ~ 214의 블로그 본문 크롤링을 시작합니다.\n",
      "\n",
      " 아이디헤어 아현뉴타운점 의 https://blog.naver.com/brbrbr3/221804033927 블로그의 본문 크롤링 중...\n",
      "\n",
      "\n",
      " 아이디헤어 아현뉴타운점 의 https://blog.naver.com/skekd1722/221859070832 블로그의 본문 크롤링 중...\n",
      "\n",
      "\n",
      " 아이디헤어 아현뉴타운점 의 https://blog.naver.com/dooheesia/221796044631 블로그의 본문 크롤링 중...\n",
      "\n",
      "\n",
      " 아이디헤어 아현뉴타운점 의 https://blog.naver.com/hsesyj1006/221781414863 블로그의 본문 크롤링 중...\n",
      "\n",
      "\n",
      " 아이디헤어 아현뉴타운점 의 https://blog.naver.com/tjrfks123/221777712503 블로그의 본문 크롤링 중...\n",
      "\n"
     ]
    },
    {
     "data": {
      "application/vnd.jupyter.widget-view+json": {
       "model_id": "f7f557a33dae4537a865d0eb0493dacf",
       "version_major": 2,
       "version_minor": 0
      },
      "text/plain": [
       "HBox(children=(IntProgress(value=1, bar_style='info', max=1), HTML(value='')))"
      ]
     },
     "metadata": {},
     "output_type": "display_data"
    },
    {
     "data": {
      "application/vnd.jupyter.widget-view+json": {
       "model_id": "0292f70362c648acb2e8dd17ca271571",
       "version_major": 2,
       "version_minor": 0
      },
      "text/plain": [
       "HBox(children=(IntProgress(value=1, bar_style='info', max=1), HTML(value='')))"
      ]
     },
     "metadata": {},
     "output_type": "display_data"
    },
    {
     "data": {
      "application/vnd.jupyter.widget-view+json": {
       "model_id": "57078ccf92e74d28b59bb01f5c54e248",
       "version_major": 2,
       "version_minor": 0
      },
      "text/plain": [
       "HBox(children=(IntProgress(value=1, bar_style='info', max=1), HTML(value='')))"
      ]
     },
     "metadata": {},
     "output_type": "display_data"
    },
    {
     "data": {
      "application/vnd.jupyter.widget-view+json": {
       "model_id": "5d6ecef62b554f9d80e42bb3a37e3a96",
       "version_major": 2,
       "version_minor": 0
      },
      "text/plain": [
       "HBox(children=(IntProgress(value=1, bar_style='info', max=1), HTML(value='')))"
      ]
     },
     "metadata": {},
     "output_type": "display_data"
    },
    {
     "data": {
      "application/vnd.jupyter.widget-view+json": {
       "model_id": "ab09c0a2490743ee8fba71ed9d11da42",
       "version_major": 2,
       "version_minor": 0
      },
      "text/plain": [
       "HBox(children=(IntProgress(value=1, bar_style='info', max=1), HTML(value='')))"
      ]
     },
     "metadata": {},
     "output_type": "display_data"
    },
    {
     "name": "stdout",
     "output_type": "stream",
     "text": [
      "https://blog.naver.com/brbrbr3/221804033927 블로그의 본문 크롤링 성공!\n",
      "\n",
      "\n",
      "https://blog.naver.com/skekd1722/221859070832 현재까지 저장된 본문의 개수: 블로그의 본문 크롤링 성공!\n",
      " \n",
      "211\n",
      " \n",
      "현재까지 저장된 본문의 개수:  \n",
      "211 \n",
      "\n",
      "https://blog.naver.com/dooheesia/221796044631 블로그의 본문 크롤링 성공!\n",
      "\n",
      "\n",
      "현재까지 저장된 본문의 개수:  212 \n",
      "\n",
      "https://blog.naver.com/hsesyj1006/221781414863 블로그의 본문 크롤링 성공!\n",
      "\n",
      "\n",
      "현재까지 저장된 본문의 개수:  213 \n",
      "\n",
      "https://blog.naver.com/tjrfks123/221777712503 블로그의 본문 크롤링 성공!\n",
      "\n",
      "\n",
      "현재까지 저장된 본문의 개수:  214 \n",
      "\n",
      "215 ~ 219의 블로그 본문 크롤링을 시작합니다.\n",
      "\n",
      " 아이디헤어 아현뉴타운점 의 https://blog.naver.com/s860719/221790585680 블로그의 본문 크롤링 중...\n",
      "\n",
      "\n",
      " 아이디헤어 아현뉴타운점 의 https://blog.naver.com/jnr0807/221795063863 블로그의 본문 크롤링 중...\n",
      "\n",
      "\n",
      " 아이디헤어 아현뉴타운점 의 https://blog.naver.com/rhruf1991/221472145267 블로그의 본문 크롤링 중...\n",
      "\n",
      "\n",
      " 아이디헤어 아현뉴타운점 의 https://blog.naver.com/helin129/221494060550 블로그의 본문 크롤링 중...\n",
      "\n",
      "\n",
      " 아이디헤어 아현뉴타운점 의 https://blog.naver.com/qkrehdwns68/221516693915 블로그의 본문 크롤링 중...\n",
      "\n"
     ]
    },
    {
     "data": {
      "application/vnd.jupyter.widget-view+json": {
       "model_id": "9b4c93bb66484a919ee9284086582809",
       "version_major": 2,
       "version_minor": 0
      },
      "text/plain": [
       "HBox(children=(IntProgress(value=1, bar_style='info', max=1), HTML(value='')))"
      ]
     },
     "metadata": {},
     "output_type": "display_data"
    },
    {
     "data": {
      "application/vnd.jupyter.widget-view+json": {
       "model_id": "bfb8308e45a347f59ea7c1f907f14a7c",
       "version_major": 2,
       "version_minor": 0
      },
      "text/plain": [
       "HBox(children=(IntProgress(value=1, bar_style='info', max=1), HTML(value='')))"
      ]
     },
     "metadata": {},
     "output_type": "display_data"
    },
    {
     "data": {
      "application/vnd.jupyter.widget-view+json": {
       "model_id": "3f3b1294bf5741cf8c44e6575d9e4620",
       "version_major": 2,
       "version_minor": 0
      },
      "text/plain": [
       "HBox(children=(IntProgress(value=1, bar_style='info', max=1), HTML(value='')))"
      ]
     },
     "metadata": {},
     "output_type": "display_data"
    },
    {
     "data": {
      "application/vnd.jupyter.widget-view+json": {
       "model_id": "43437bd487844f99822f9b8ea9a3a8a1",
       "version_major": 2,
       "version_minor": 0
      },
      "text/plain": [
       "HBox(children=(IntProgress(value=1, bar_style='info', max=1), HTML(value='')))"
      ]
     },
     "metadata": {},
     "output_type": "display_data"
    },
    {
     "data": {
      "application/vnd.jupyter.widget-view+json": {
       "model_id": "fa02558c3e914ca7b7bae09b14916012",
       "version_major": 2,
       "version_minor": 0
      },
      "text/plain": [
       "HBox(children=(IntProgress(value=1, bar_style='info', max=1), HTML(value='')))"
      ]
     },
     "metadata": {},
     "output_type": "display_data"
    },
    {
     "name": "stdout",
     "output_type": "stream",
     "text": [
      "https://blog.naver.com/s860719/221790585680 블로그의 본문 크롤링 성공!\n",
      "\n",
      "\n",
      "현재까지 저장된 본문의 개수:  215 \n",
      "\n",
      "https://blog.naver.com/rhruf1991/221472145267 블로그의 본문 크롤링 성공!\n",
      "\n",
      "\n",
      "현재까지 저장된 본문의 개수:  216 \n",
      "\n",
      "https://blog.naver.com/helin129/221494060550 블로그의 본문 크롤링 성공!\n",
      "\n",
      "\n",
      "현재까지 저장된 본문의 개수:  217 \n",
      "\n",
      "https://blog.naver.com/jnr0807/221795063863 블로그의 본문 크롤링 성공!\n",
      "\n",
      "\n",
      "현재까지 저장된 본문의 개수:  218 \n",
      "\n",
      "https://blog.naver.com/qkrehdwns68/221516693915 블로그의 본문 크롤링 성공!\n",
      "\n",
      "\n",
      "현재까지 저장된 본문의 개수:  219 \n",
      "\n",
      "220 ~ 224의 블로그 본문 크롤링을 시작합니다.\n",
      "\n",
      " 아이디헤어 아현뉴타운점 의 https://blog.naver.com/kkonvelyyy/221424732583 블로그의 본문 크롤링 중...\n",
      "\n",
      "\n",
      " 아이디헤어 아현뉴타운점 의 https://blog.naver.com/rhruf1991/221442525889 블로그의 본문 크롤링 중...\n",
      "\n",
      "\n",
      " 아이디헤어 아현뉴타운점 의 https://blog.naver.com/ididhair/221812551669 블로그의 본문 크롤링 중...\n",
      "\n",
      "\n",
      " 아이디헤어 아현뉴타운점 의 https://blog.naver.com/rhruf1991/221481217001 블로그의 본문 크롤링 중...\n",
      "\n",
      "\n",
      " 아이디헤어 아현뉴타운점 의 https://blog.naver.com/chey0804/221496344998 블로그의 본문 크롤링 중...\n",
      "\n"
     ]
    },
    {
     "data": {
      "application/vnd.jupyter.widget-view+json": {
       "model_id": "bc5eeee62ef9447c86eac9738c785ea0",
       "version_major": 2,
       "version_minor": 0
      },
      "text/plain": [
       "HBox(children=(IntProgress(value=1, bar_style='info', max=1), HTML(value='')))"
      ]
     },
     "metadata": {},
     "output_type": "display_data"
    },
    {
     "data": {
      "application/vnd.jupyter.widget-view+json": {
       "model_id": "cf3ce0d4b06c4bc4a9e9e704e592324a",
       "version_major": 2,
       "version_minor": 0
      },
      "text/plain": [
       "HBox(children=(IntProgress(value=1, bar_style='info', max=1), HTML(value='')))"
      ]
     },
     "metadata": {},
     "output_type": "display_data"
    },
    {
     "data": {
      "application/vnd.jupyter.widget-view+json": {
       "model_id": "f1fd9c30877c4a15af0836a00683d381",
       "version_major": 2,
       "version_minor": 0
      },
      "text/plain": [
       "HBox(children=(IntProgress(value=1, bar_style='info', max=1), HTML(value='')))"
      ]
     },
     "metadata": {},
     "output_type": "display_data"
    },
    {
     "data": {
      "application/vnd.jupyter.widget-view+json": {
       "model_id": "5dd56bc7a8de42d19028b376052a6503",
       "version_major": 2,
       "version_minor": 0
      },
      "text/plain": [
       "HBox(children=(IntProgress(value=1, bar_style='info', max=1), HTML(value='')))"
      ]
     },
     "metadata": {},
     "output_type": "display_data"
    },
    {
     "data": {
      "application/vnd.jupyter.widget-view+json": {
       "model_id": "bb8a3795a136416d8044cc16fceb5898",
       "version_major": 2,
       "version_minor": 0
      },
      "text/plain": [
       "HBox(children=(IntProgress(value=1, bar_style='info', max=1), HTML(value='')))"
      ]
     },
     "metadata": {},
     "output_type": "display_data"
    },
    {
     "name": "stdout",
     "output_type": "stream",
     "text": [
      "https://blog.naver.com/kkonvelyyy/221424732583 블로그의 본문 크롤링 성공!\n",
      "\n",
      "\n",
      "현재까지 저장된 본문의 개수:  220 \n",
      "\n",
      "https://blog.naver.com/rhruf1991/221481217001 블로그의 본문 크롤링 성공!\n",
      "\n",
      "\n",
      "현재까지 저장된 본문의 개수:  221 \n",
      "\n",
      "https://blog.naver.com/ididhair/221812551669 블로그의 본문 크롤링 성공!\n",
      "\n",
      "\n",
      "현재까지 저장된 본문의 개수:  222 \n",
      "\n",
      "https://blog.naver.com/rhruf1991/221442525889 블로그의 본문 크롤링 성공!\n",
      "\n",
      "\n",
      "현재까지 저장된 본문의 개수:  223 \n",
      "\n",
      "https://blog.naver.com/chey0804/221496344998 블로그의 본문 크롤링 성공!\n",
      "\n",
      "\n",
      "현재까지 저장된 본문의 개수:  224 \n",
      "\n",
      "225 ~ 229의 블로그 본문 크롤링을 시작합니다.\n",
      "\n",
      " 플랜에이치 홍대점 의 https://blog.naver.com/hey1968/221960907127 블로그의 본문 크롤링 중...\n",
      "\n",
      "\n",
      " 플랜에이치 홍대점 의 https://blog.naver.com/hey1968/221924888391 블로그의 본문 크롤링 중...\n",
      "\n",
      "\n",
      " 플랜에이치 홍대점 의 https://blog.naver.com/hey1968/221913373456 블로그의 본문 크롤링 중...\n",
      "\n",
      "\n",
      " 플랜에이치 홍대점 의 https://blog.naver.com/hey1968/221950605363 블로그의 본문 크롤링 중...\n",
      "\n",
      "\n",
      " 플랜에이치 홍대점 의 https://blog.naver.com/hey1968/221936386963 블로그의 본문 크롤링 중...\n",
      "\n"
     ]
    },
    {
     "data": {
      "application/vnd.jupyter.widget-view+json": {
       "model_id": "689ba9c8bfec484cb15271d2406ee41c",
       "version_major": 2,
       "version_minor": 0
      },
      "text/plain": [
       "HBox(children=(IntProgress(value=1, bar_style='info', max=1), HTML(value='')))"
      ]
     },
     "metadata": {},
     "output_type": "display_data"
    },
    {
     "data": {
      "application/vnd.jupyter.widget-view+json": {
       "model_id": "0b8055597d9a4266ab2ae8fd9d261e7b",
       "version_major": 2,
       "version_minor": 0
      },
      "text/plain": [
       "HBox(children=(IntProgress(value=1, bar_style='info', max=1), HTML(value='')))"
      ]
     },
     "metadata": {},
     "output_type": "display_data"
    },
    {
     "data": {
      "application/vnd.jupyter.widget-view+json": {
       "model_id": "d15c60c53c7943c888b290def9ac2d0a",
       "version_major": 2,
       "version_minor": 0
      },
      "text/plain": [
       "HBox(children=(IntProgress(value=1, bar_style='info', max=1), HTML(value='')))"
      ]
     },
     "metadata": {},
     "output_type": "display_data"
    },
    {
     "data": {
      "application/vnd.jupyter.widget-view+json": {
       "model_id": "d34d2f7bd13a4628b7470f4f981e27ce",
       "version_major": 2,
       "version_minor": 0
      },
      "text/plain": [
       "HBox(children=(IntProgress(value=1, bar_style='info', max=1), HTML(value='')))"
      ]
     },
     "metadata": {},
     "output_type": "display_data"
    },
    {
     "data": {
      "application/vnd.jupyter.widget-view+json": {
       "model_id": "caf772c34f5c42dfb4859d46285fe6f6",
       "version_major": 2,
       "version_minor": 0
      },
      "text/plain": [
       "HBox(children=(IntProgress(value=1, bar_style='info', max=1), HTML(value='')))"
      ]
     },
     "metadata": {},
     "output_type": "display_data"
    },
    {
     "name": "stdout",
     "output_type": "stream",
     "text": [
      "https://blog.naver.com/hey1968/221924888391 블로그의 본문 크롤링 성공!\n",
      "\n",
      "\n",
      "https://blog.naver.com/hey1968/221960907127현재까지 저장된 본문의 개수:   블로그의 본문 크롤링 성공!\n",
      "226\n",
      "\n",
      "현재까지 저장된 본문의 개수:   \n",
      "226\n",
      " \n",
      "\n",
      "https://blog.naver.com/hey1968/221950605363 블로그의 본문 크롤링 성공!\n",
      "\n",
      "\n",
      "현재까지 저장된 본문의 개수:  227 \n",
      "\n",
      "https://blog.naver.com/hey1968/221913373456 블로그의 본문 크롤링 성공!\n",
      "\n",
      "\n",
      "https://blog.naver.com/hey1968/221936386963현재까지 저장된 본문의 개수:  블로그의 본문 크롤링 성공!\n",
      " \n",
      "229 \n",
      "\n",
      "현재까지 저장된 본문의 개수: \n",
      " 229 \n",
      "\n",
      "230 ~ 234의 블로그 본문 크롤링을 시작합니다.\n",
      "\n",
      " 플랜에이치 홍대점 의 https://blog.naver.com/hey1968/221909881253 블로그의 본문 크롤링 중...\n",
      "\n",
      "\n",
      " 플랜에이치 홍대점 의 https://blog.naver.com/hey1968/221857121651 블로그의 본문 크롤링 중...\n",
      "\n",
      "\n",
      " 플랜에이치 홍대점 의 https://blog.naver.com/hey1968/221884944428 블로그의 본문 크롤링 중...\n",
      "\n",
      "\n",
      " 플랜에이치 홍대점 의 https://blog.naver.com/hey1968/221852042764 블로그의 본문 크롤링 중...\n",
      "\n",
      "\n",
      " 플랜에이치 홍대점 의 https://blog.naver.com/hey1968/221911722067 블로그의 본문 크롤링 중...\n",
      "\n"
     ]
    },
    {
     "data": {
      "application/vnd.jupyter.widget-view+json": {
       "model_id": "2b2f86ad05ad44e79b2f76cb29378519",
       "version_major": 2,
       "version_minor": 0
      },
      "text/plain": [
       "HBox(children=(IntProgress(value=1, bar_style='info', max=1), HTML(value='')))"
      ]
     },
     "metadata": {},
     "output_type": "display_data"
    },
    {
     "data": {
      "application/vnd.jupyter.widget-view+json": {
       "model_id": "4a5a3a6558d3464ea6183e128d8dbbac",
       "version_major": 2,
       "version_minor": 0
      },
      "text/plain": [
       "HBox(children=(IntProgress(value=1, bar_style='info', max=1), HTML(value='')))"
      ]
     },
     "metadata": {},
     "output_type": "display_data"
    },
    {
     "data": {
      "application/vnd.jupyter.widget-view+json": {
       "model_id": "d47a2e0ace054f4cb7778cef4fc78657",
       "version_major": 2,
       "version_minor": 0
      },
      "text/plain": [
       "HBox(children=(IntProgress(value=1, bar_style='info', max=1), HTML(value='')))"
      ]
     },
     "metadata": {},
     "output_type": "display_data"
    },
    {
     "data": {
      "application/vnd.jupyter.widget-view+json": {
       "model_id": "7a71f31f2add4080ba1d272c5c7d6f8d",
       "version_major": 2,
       "version_minor": 0
      },
      "text/plain": [
       "HBox(children=(IntProgress(value=1, bar_style='info', max=1), HTML(value='')))"
      ]
     },
     "metadata": {},
     "output_type": "display_data"
    },
    {
     "data": {
      "application/vnd.jupyter.widget-view+json": {
       "model_id": "0ee1fca5be614ca7a1e2dbd1b9f474f6",
       "version_major": 2,
       "version_minor": 0
      },
      "text/plain": [
       "HBox(children=(IntProgress(value=1, bar_style='info', max=1), HTML(value='')))"
      ]
     },
     "metadata": {},
     "output_type": "display_data"
    },
    {
     "name": "stdout",
     "output_type": "stream",
     "text": [
      "https://blog.naver.com/hey1968/221884944428 블로그의 본문 크롤링 성공!\n",
      "\n",
      "\n",
      "현재까지 저장된 본문의 개수:  230 \n",
      "\n",
      "https://blog.naver.com/hey1968/221909881253 블로그의 본문 크롤링 성공!\n",
      "\n",
      "\n",
      "현재까지 저장된 본문의 개수:  231 \n",
      "\n",
      "https://blog.naver.com/hey1968/221911722067 블로그의 본문 크롤링 성공!\n",
      "\n",
      "\n",
      "현재까지 저장된 본문의 개수:  232 \n",
      "\n",
      "https://blog.naver.com/hey1968/221852042764 블로그의 본문 크롤링 성공!\n",
      "\n",
      "\n",
      "현재까지 저장된 본문의 개수:  233 \n",
      "\n",
      "https://blog.naver.com/hey1968/221857121651 블로그의 본문 크롤링 성공!\n",
      "\n",
      "\n",
      "현재까지 저장된 본문의 개수:  234 \n",
      "\n",
      "235 ~ 239의 블로그 본문 크롤링을 시작합니다.\n",
      "\n",
      " 플랜에이치 홍대점 의 https://blog.naver.com/hey1968/221863614464 블로그의 본문 크롤링 중...\n",
      "\n",
      "\n",
      " 플랜에이치 홍대점 의 https://blog.naver.com/hey1968/221807767506 블로그의 본문 크롤링 중...\n",
      "\n",
      "\n",
      " 플랜에이치 홍대점 의 https://blog.naver.com/hey1968/221872457917 블로그의 본문 크롤링 중...\n",
      "\n",
      "\n",
      " 플랜에이치 홍대점 의 https://blog.naver.com/hey1968/221894029593 블로그의 본문 크롤링 중...\n",
      "\n",
      "\n",
      " 플랜에이치 홍대점 의 https://blog.naver.com/hey1968/221818631396 블로그의 본문 크롤링 중...\n",
      "\n"
     ]
    },
    {
     "data": {
      "application/vnd.jupyter.widget-view+json": {
       "model_id": "ce0f82495dd54ac7a46839aa2a5680f2",
       "version_major": 2,
       "version_minor": 0
      },
      "text/plain": [
       "HBox(children=(IntProgress(value=1, bar_style='info', max=1), HTML(value='')))"
      ]
     },
     "metadata": {},
     "output_type": "display_data"
    },
    {
     "data": {
      "application/vnd.jupyter.widget-view+json": {
       "model_id": "f7c43aed57a64a4f8ad96e2d0768aa33",
       "version_major": 2,
       "version_minor": 0
      },
      "text/plain": [
       "HBox(children=(IntProgress(value=1, bar_style='info', max=1), HTML(value='')))"
      ]
     },
     "metadata": {},
     "output_type": "display_data"
    },
    {
     "data": {
      "application/vnd.jupyter.widget-view+json": {
       "model_id": "0401b56f7fed4b0bbf1a9c0eee209405",
       "version_major": 2,
       "version_minor": 0
      },
      "text/plain": [
       "HBox(children=(IntProgress(value=1, bar_style='info', max=1), HTML(value='')))"
      ]
     },
     "metadata": {},
     "output_type": "display_data"
    },
    {
     "data": {
      "application/vnd.jupyter.widget-view+json": {
       "model_id": "bdfe6cbf0eca42da93bd709342ca2975",
       "version_major": 2,
       "version_minor": 0
      },
      "text/plain": [
       "HBox(children=(IntProgress(value=1, bar_style='info', max=1), HTML(value='')))"
      ]
     },
     "metadata": {},
     "output_type": "display_data"
    },
    {
     "data": {
      "application/vnd.jupyter.widget-view+json": {
       "model_id": "139d4553687b4f9aa2f8038a51a713a2",
       "version_major": 2,
       "version_minor": 0
      },
      "text/plain": [
       "HBox(children=(IntProgress(value=1, bar_style='info', max=1), HTML(value='')))"
      ]
     },
     "metadata": {},
     "output_type": "display_data"
    },
    {
     "name": "stdout",
     "output_type": "stream",
     "text": [
      "https://blog.naver.com/hey1968/221863614464 블로그의 본문 크롤링 성공!\n",
      "\n",
      "\n",
      "현재까지 저장된 본문의 개수:  235 \n",
      "\n",
      "https://blog.naver.com/hey1968/221807767506 블로그의 본문 크롤링 성공!\n",
      "\n",
      "\n",
      "현재까지 저장된 본문의 개수:  236 \n",
      "\n",
      "https://blog.naver.com/hey1968/221894029593 블로그의 본문 크롤링 성공!\n",
      "\n",
      "\n",
      "현재까지 저장된 본문의 개수:  237 \n",
      "\n",
      "https://blog.naver.com/hey1968/221872457917 블로그의 본문 크롤링 성공!\n",
      "\n",
      "\n",
      "현재까지 저장된 본문의 개수:  238 \n",
      "\n",
      "https://blog.naver.com/hey1968/221818631396 블로그의 본문 크롤링 성공!\n",
      "\n",
      "\n",
      "현재까지 저장된 본문의 개수:  239 \n",
      "\n",
      "240 ~ 244의 블로그 본문 크롤링을 시작합니다.\n",
      "\n",
      " 플랜에이치 홍대점 의 https://blog.naver.com/hey1968/221843370029 블로그의 본문 크롤링 중...\n",
      "\n",
      "\n",
      " 플랜에이치 홍대점 의 https://blog.naver.com/hey1968/221886856605 블로그의 본문 크롤링 중...\n",
      "\n",
      "\n",
      " 플랜에이치 홍대점 의 https://blog.naver.com/hey1968/221874726900 블로그의 본문 크롤링 중...\n",
      "\n",
      "\n",
      " 플랜에이치 홍대점 의 https://blog.naver.com/hey1968/221881495451 블로그의 본문 크롤링 중...\n",
      "\n",
      "\n",
      " 플랜에이치 홍대점 의 https://blog.naver.com/hey1968/221798842456 블로그의 본문 크롤링 중...\n",
      "\n"
     ]
    },
    {
     "data": {
      "application/vnd.jupyter.widget-view+json": {
       "model_id": "140b82389bb547a28b7b26f238b0c03e",
       "version_major": 2,
       "version_minor": 0
      },
      "text/plain": [
       "HBox(children=(IntProgress(value=1, bar_style='info', max=1), HTML(value='')))"
      ]
     },
     "metadata": {},
     "output_type": "display_data"
    },
    {
     "data": {
      "application/vnd.jupyter.widget-view+json": {
       "model_id": "6c0bbe61edc345a59c17ef097e521895",
       "version_major": 2,
       "version_minor": 0
      },
      "text/plain": [
       "HBox(children=(IntProgress(value=1, bar_style='info', max=1), HTML(value='')))"
      ]
     },
     "metadata": {},
     "output_type": "display_data"
    },
    {
     "data": {
      "application/vnd.jupyter.widget-view+json": {
       "model_id": "19b287d3d29548218053004403bb5627",
       "version_major": 2,
       "version_minor": 0
      },
      "text/plain": [
       "HBox(children=(IntProgress(value=1, bar_style='info', max=1), HTML(value='')))"
      ]
     },
     "metadata": {},
     "output_type": "display_data"
    },
    {
     "data": {
      "application/vnd.jupyter.widget-view+json": {
       "model_id": "b2569f2e6c9e48b48f58be29755d3f70",
       "version_major": 2,
       "version_minor": 0
      },
      "text/plain": [
       "HBox(children=(IntProgress(value=1, bar_style='info', max=1), HTML(value='')))"
      ]
     },
     "metadata": {},
     "output_type": "display_data"
    },
    {
     "data": {
      "application/vnd.jupyter.widget-view+json": {
       "model_id": "39bfd50a836b4dc59082977990ddf712",
       "version_major": 2,
       "version_minor": 0
      },
      "text/plain": [
       "HBox(children=(IntProgress(value=1, bar_style='info', max=1), HTML(value='')))"
      ]
     },
     "metadata": {},
     "output_type": "display_data"
    },
    {
     "name": "stdout",
     "output_type": "stream",
     "text": [
      "https://blog.naver.com/hey1968/221874726900 블로그의 본문 크롤링 성공!\n",
      "\n",
      "\n",
      "현재까지 저장된 본문의 개수:  240 \n",
      "\n",
      "https://blog.naver.com/hey1968/221798842456 블로그의 본문 크롤링 성공!\n",
      "\n",
      "\n",
      "현재까지 저장된 본문의 개수:  241 \n",
      "\n",
      "https://blog.naver.com/hey1968/221843370029 블로그의 본문 크롤링 성공!\n",
      "\n",
      "\n",
      "현재까지 저장된 본문의 개수:  242 \n",
      "\n",
      "https://blog.naver.com/hey1968/221881495451 블로그의 본문 크롤링 성공!\n",
      "\n",
      "\n",
      "현재까지 저장된 본문의 개수:  243 \n",
      "\n",
      "https://blog.naver.com/hey1968/221886856605 블로그의 본문 크롤링 성공!\n",
      "\n",
      "\n",
      "현재까지 저장된 본문의 개수:  244 \n",
      "\n",
      "245 ~ 249의 블로그 본문 크롤링을 시작합니다.\n",
      "\n",
      " 플랜에이치 홍대점 의 https://blog.naver.com/hey1968/221816839904 블로그의 본문 크롤링 중...\n",
      "\n",
      "\n",
      " 플랜에이치 홍대점 의 https://blog.naver.com/hey1968/221833964496 블로그의 본문 크롤링 중...\n",
      "\n",
      "\n",
      " 플랜에이치 홍대점 의 https://blog.naver.com/hey1968/221844962713 블로그의 본문 크롤링 중...\n",
      "\n",
      "\n",
      " 플랜에이치 홍대점 의 https://blog.naver.com/hey1968/221854924965 블로그의 본문 크롤링 중...\n",
      "\n",
      "\n",
      " 플랜에이치 홍대점 의 https://blog.naver.com/hey1968/221839036776 블로그의 본문 크롤링 중...\n",
      "\n"
     ]
    },
    {
     "data": {
      "application/vnd.jupyter.widget-view+json": {
       "model_id": "85167fecef49421ca77cae11d14381e8",
       "version_major": 2,
       "version_minor": 0
      },
      "text/plain": [
       "HBox(children=(IntProgress(value=1, bar_style='info', max=1), HTML(value='')))"
      ]
     },
     "metadata": {},
     "output_type": "display_data"
    },
    {
     "data": {
      "application/vnd.jupyter.widget-view+json": {
       "model_id": "910074b37a6d406b95dc2f1b490381aa",
       "version_major": 2,
       "version_minor": 0
      },
      "text/plain": [
       "HBox(children=(IntProgress(value=1, bar_style='info', max=1), HTML(value='')))"
      ]
     },
     "metadata": {},
     "output_type": "display_data"
    },
    {
     "data": {
      "application/vnd.jupyter.widget-view+json": {
       "model_id": "ba10e58d6bff45a88322846ee112f240",
       "version_major": 2,
       "version_minor": 0
      },
      "text/plain": [
       "HBox(children=(IntProgress(value=1, bar_style='info', max=1), HTML(value='')))"
      ]
     },
     "metadata": {},
     "output_type": "display_data"
    },
    {
     "data": {
      "application/vnd.jupyter.widget-view+json": {
       "model_id": "8295c8ab7fab41e488f07c3fad51de2c",
       "version_major": 2,
       "version_minor": 0
      },
      "text/plain": [
       "HBox(children=(IntProgress(value=1, bar_style='info', max=1), HTML(value='')))"
      ]
     },
     "metadata": {},
     "output_type": "display_data"
    },
    {
     "data": {
      "application/vnd.jupyter.widget-view+json": {
       "model_id": "b30e2bd090b34054b407b5ff601179f6",
       "version_major": 2,
       "version_minor": 0
      },
      "text/plain": [
       "HBox(children=(IntProgress(value=1, bar_style='info', max=1), HTML(value='')))"
      ]
     },
     "metadata": {},
     "output_type": "display_data"
    },
    {
     "name": "stdout",
     "output_type": "stream",
     "text": [
      "https://blog.naver.com/hey1968/221844962713 블로그의 본문 크롤링 성공!\n",
      "\n",
      "\n",
      "현재까지 저장된 본문의 개수:  245 \n",
      "\n",
      "https://blog.naver.com/hey1968/221816839904 블로그의 본문 크롤링 성공!\n",
      "\n",
      "\n",
      "현재까지 저장된 본문의 개수:  246 \n",
      "\n",
      "https://blog.naver.com/hey1968/221833964496 블로그의 본문 크롤링 성공!\n",
      "\n",
      "\n",
      "현재까지 저장된 본문의 개수:  247 \n",
      "\n",
      "https://blog.naver.com/hey1968/221854924965 블로그의 본문 크롤링 성공!\n",
      "\n",
      "\n",
      "현재까지 저장된 본문의 개수:  248https://blog.naver.com/hey1968/221839036776  \n",
      "블로그의 본문 크롤링 성공!\n",
      "\n",
      "\n",
      "\n",
      "현재까지 저장된 본문의 개수:  249 \n",
      "\n",
      "250 ~ 254의 블로그 본문 크롤링을 시작합니다.\n",
      "\n",
      " 플랜에이치 홍대점 의 https://blog.naver.com/hey1968/221868821639 블로그의 본문 크롤링 중...\n",
      "\n",
      "\n",
      " 플랜에이치 홍대점 의 https://blog.naver.com/hey1968/221832330893 블로그의 본문 크롤링 중...\n",
      "\n",
      "\n",
      " 플랜에이치 홍대점 의 https://blog.naver.com/hey1968/221801144452 블로그의 본문 크롤링 중...\n",
      "\n",
      "\n",
      " 플랜에이치 홍대점 의 https://blog.naver.com/hey1968/221830553393 블로그의 본문 크롤링 중...\n",
      "\n",
      "\n",
      " 플랜에이치 홍대점 의 https://blog.naver.com/hey1968/221802248448 블로그의 본문 크롤링 중...\n",
      "\n"
     ]
    },
    {
     "data": {
      "application/vnd.jupyter.widget-view+json": {
       "model_id": "ef9803a850b04a9b8062e979ae30efb3",
       "version_major": 2,
       "version_minor": 0
      },
      "text/plain": [
       "HBox(children=(IntProgress(value=1, bar_style='info', max=1), HTML(value='')))"
      ]
     },
     "metadata": {},
     "output_type": "display_data"
    },
    {
     "data": {
      "application/vnd.jupyter.widget-view+json": {
       "model_id": "4a4f29c3c9c8460198f9def33986c498",
       "version_major": 2,
       "version_minor": 0
      },
      "text/plain": [
       "HBox(children=(IntProgress(value=1, bar_style='info', max=1), HTML(value='')))"
      ]
     },
     "metadata": {},
     "output_type": "display_data"
    },
    {
     "data": {
      "application/vnd.jupyter.widget-view+json": {
       "model_id": "925cd4bce82546ce8079ac9f2f68c67f",
       "version_major": 2,
       "version_minor": 0
      },
      "text/plain": [
       "HBox(children=(IntProgress(value=1, bar_style='info', max=1), HTML(value='')))"
      ]
     },
     "metadata": {},
     "output_type": "display_data"
    },
    {
     "data": {
      "application/vnd.jupyter.widget-view+json": {
       "model_id": "91244d1414984a498b302e2e27419e96",
       "version_major": 2,
       "version_minor": 0
      },
      "text/plain": [
       "HBox(children=(IntProgress(value=1, bar_style='info', max=1), HTML(value='')))"
      ]
     },
     "metadata": {},
     "output_type": "display_data"
    },
    {
     "data": {
      "application/vnd.jupyter.widget-view+json": {
       "model_id": "943fedbfe47545ff8d260dc7ac0f4a14",
       "version_major": 2,
       "version_minor": 0
      },
      "text/plain": [
       "HBox(children=(IntProgress(value=1, bar_style='info', max=1), HTML(value='')))"
      ]
     },
     "metadata": {},
     "output_type": "display_data"
    },
    {
     "name": "stdout",
     "output_type": "stream",
     "text": [
      "https://blog.naver.com/hey1968/221868821639 블로그의 본문 크롤링 성공!\n",
      "\n",
      "\n",
      "현재까지 저장된 본문의 개수:  250 https://blog.naver.com/hey1968/221832330893\n",
      " \n",
      "블로그의 본문 크롤링 성공!\n",
      "\n",
      "\n",
      "현재까지 저장된 본문의 개수:  251 \n",
      "\n",
      "https://blog.naver.com/hey1968/221801144452 블로그의 본문 크롤링 성공!\n",
      "\n",
      "\n",
      "현재까지 저장된 본문의 개수:  252 \n",
      "\n",
      "https://blog.naver.com/hey1968/221802248448 블로그의 본문 크롤링 성공!\n",
      "\n",
      "\n",
      "현재까지 저장된 본문의 개수:  253 \n",
      "\n",
      "https://blog.naver.com/hey1968/221830553393 블로그의 본문 크롤링 성공!\n",
      "\n",
      "\n",
      "현재까지 저장된 본문의 개수:  254 \n",
      "\n",
      "255 ~ 259의 블로그 본문 크롤링을 시작합니다.\n",
      "\n",
      " 플랜에이치 홍대점 의 https://blog.naver.com/hey1968/221840719506 블로그의 본문 크롤링 중...\n",
      "\n",
      "\n",
      " 플랜에이치 홍대점\n",
      "  의플랜에이치 홍대점  https://blog.naver.com/hey1968/221848792177의  https://blog.naver.com/hey1968/221805946461블로그의 본문 크롤링 중...\n",
      " 블로그의 본문 크롤링 중...\n",
      "\n",
      "\n",
      "\n",
      " 플랜에이치 홍대점 의 https://blog.naver.com/hey1968/221757614223 블로그의 본문 크롤링 중...\n",
      "\n",
      "\n",
      " 플랜에이치 홍대점 의 https://blog.naver.com/hey1968/221774062420 블로그의 본문 크롤링 중...\n",
      "\n"
     ]
    },
    {
     "data": {
      "application/vnd.jupyter.widget-view+json": {
       "model_id": "17a41d90c93144578cb7952d7ea4bd58",
       "version_major": 2,
       "version_minor": 0
      },
      "text/plain": [
       "HBox(children=(IntProgress(value=1, bar_style='info', max=1), HTML(value='')))"
      ]
     },
     "metadata": {},
     "output_type": "display_data"
    },
    {
     "data": {
      "application/vnd.jupyter.widget-view+json": {
       "model_id": "7558dbf8662240e886faad291a5741dd",
       "version_major": 2,
       "version_minor": 0
      },
      "text/plain": [
       "HBox(children=(IntProgress(value=1, bar_style='info', max=1), HTML(value='')))"
      ]
     },
     "metadata": {},
     "output_type": "display_data"
    },
    {
     "data": {
      "application/vnd.jupyter.widget-view+json": {
       "model_id": "22d9e99b355048a9b3410d5cd2c93778",
       "version_major": 2,
       "version_minor": 0
      },
      "text/plain": [
       "HBox(children=(IntProgress(value=1, bar_style='info', max=1), HTML(value='')))"
      ]
     },
     "metadata": {},
     "output_type": "display_data"
    },
    {
     "data": {
      "application/vnd.jupyter.widget-view+json": {
       "model_id": "962bfe6885d948dca0afa81d260fc2e7",
       "version_major": 2,
       "version_minor": 0
      },
      "text/plain": [
       "HBox(children=(IntProgress(value=1, bar_style='info', max=1), HTML(value='')))"
      ]
     },
     "metadata": {},
     "output_type": "display_data"
    },
    {
     "data": {
      "application/vnd.jupyter.widget-view+json": {
       "model_id": "94ad2aa847ac4d6ba2427526abdb4d10",
       "version_major": 2,
       "version_minor": 0
      },
      "text/plain": [
       "HBox(children=(IntProgress(value=1, bar_style='info', max=1), HTML(value='')))"
      ]
     },
     "metadata": {},
     "output_type": "display_data"
    },
    {
     "name": "stdout",
     "output_type": "stream",
     "text": [
      "https://blog.naver.com/hey1968/221840719506 블로그의 본문 크롤링 성공!\n",
      "\n",
      "\n",
      "현재까지 저장된 본문의 개수:  255 \n",
      "\n",
      "https://blog.naver.com/hey1968/221757614223 블로그의 본문 크롤링 성공!\n",
      "\n",
      "\n",
      "현재까지 저장된 본문의 개수:  256 \n",
      "\n",
      "https://blog.naver.com/hey1968/221848792177 블로그의 본문 크롤링 성공!\n",
      "\n",
      "\n",
      "현재까지 저장된 본문의 개수:  257 \n",
      "\n",
      "https://blog.naver.com/hey1968/221774062420 블로그의 본문 크롤링 성공!\n",
      "\n",
      "\n",
      "현재까지 저장된 본문의 개수:  258 \n",
      "\n",
      "https://blog.naver.com/hey1968/221805946461 블로그의 본문 크롤링 성공!\n",
      "\n",
      "\n",
      "현재까지 저장된 본문의 개수:  259 \n",
      "\n",
      "260 ~ 264의 블로그 본문 크롤링을 시작합니다.\n",
      "\n",
      " 플랜에이치 홍대점 의 https://blog.naver.com/hey1968/221727030266 블로그의 본문 크롤링 중...\n",
      "\n",
      "\n",
      " 플랜에이치 홍대점 의 https://blog.naver.com/hey1968/221800001928 블로그의 본문 크롤링 중...\n",
      "\n",
      "\n",
      " 플랜에이치 홍대점 의 https://blog.naver.com/hey1968/221810155180 블로그의 본문 크롤링 중...\n",
      "\n",
      "\n",
      " 플랜에이치 홍대점 의 https://blog.naver.com/hey1968/221793471794 블로그의 본문 크롤링 중...\n",
      "\n",
      "\n",
      " 플랜에이치 홍대점 의 https://blog.naver.com/hey1968/221754311695 블로그의 본문 크롤링 중...\n",
      "\n"
     ]
    },
    {
     "data": {
      "application/vnd.jupyter.widget-view+json": {
       "model_id": "4cdc47d90a8748189a62ca031e09344f",
       "version_major": 2,
       "version_minor": 0
      },
      "text/plain": [
       "HBox(children=(IntProgress(value=1, bar_style='info', max=1), HTML(value='')))"
      ]
     },
     "metadata": {},
     "output_type": "display_data"
    },
    {
     "data": {
      "application/vnd.jupyter.widget-view+json": {
       "model_id": "3d8f7852ef1a45479289e7a7eb93e148",
       "version_major": 2,
       "version_minor": 0
      },
      "text/plain": [
       "HBox(children=(IntProgress(value=1, bar_style='info', max=1), HTML(value='')))"
      ]
     },
     "metadata": {},
     "output_type": "display_data"
    },
    {
     "data": {
      "application/vnd.jupyter.widget-view+json": {
       "model_id": "f4d91d6cbcdb4e67b00c2d2dd3e0d89c",
       "version_major": 2,
       "version_minor": 0
      },
      "text/plain": [
       "HBox(children=(IntProgress(value=1, bar_style='info', max=1), HTML(value='')))"
      ]
     },
     "metadata": {},
     "output_type": "display_data"
    },
    {
     "data": {
      "application/vnd.jupyter.widget-view+json": {
       "model_id": "3e04ec6f4ee1486082d2cd68313daa34",
       "version_major": 2,
       "version_minor": 0
      },
      "text/plain": [
       "HBox(children=(IntProgress(value=1, bar_style='info', max=1), HTML(value='')))"
      ]
     },
     "metadata": {},
     "output_type": "display_data"
    },
    {
     "data": {
      "application/vnd.jupyter.widget-view+json": {
       "model_id": "b3b689565c4a4e97a8692b175071b9ea",
       "version_major": 2,
       "version_minor": 0
      },
      "text/plain": [
       "HBox(children=(IntProgress(value=1, bar_style='info', max=1), HTML(value='')))"
      ]
     },
     "metadata": {},
     "output_type": "display_data"
    },
    {
     "name": "stdout",
     "output_type": "stream",
     "text": [
      "https://blog.naver.com/hey1968/221810155180 블로그의 본문 크롤링 성공!\n",
      "\n",
      "\n",
      "현재까지 저장된 본문의 개수:  260 \n",
      "\n",
      "https://blog.naver.com/hey1968/221727030266 블로그의 본문 크롤링 성공!\n",
      "\n",
      "\n",
      "현재까지 저장된 본문의 개수:  261 \n",
      "\n",
      "https://blog.naver.com/hey1968/221793471794 블로그의 본문 크롤링 성공!\n",
      "\n",
      "\n",
      "현재까지 저장된 본문의 개수:  262 \n",
      "\n",
      "https://blog.naver.com/hey1968/221800001928 블로그의 본문 크롤링 성공!\n",
      "\n",
      "\n",
      "현재까지 저장된 본문의 개수:  263 \n",
      "\n",
      "https://blog.naver.com/hey1968/221754311695 블로그의 본문 크롤링 성공!\n",
      "\n",
      "\n",
      "현재까지 저장된 본문의 개수:  264 \n",
      "\n",
      "265 ~ 269의 블로그 본문 크롤링을 시작합니다.\n",
      "\n",
      " 플랜에이치 홍대점 의 https://blog.naver.com/hey1968/221767772596 블로그의 본문 크롤링 중...\n",
      "\n",
      "\n",
      " 플랜에이치 홍대점 의 https://blog.naver.com/hey1968/221790126528 블로그의 본문 크롤링 중...\n",
      "\n",
      "\n",
      " 플랜에이치 홍대점 의 https://blog.naver.com/hey1968/221772926178 블로그의 본문 크롤링 중...\n",
      "\n",
      "\n",
      " 플랜에이치 홍대점 의 https://blog.naver.com/hey1968/221789010257 블로그의 본문 크롤링 중...\n",
      "\n",
      "\n",
      " 플랜에이치 홍대점 의 https://blog.naver.com/hey1968/221758878862 블로그의 본문 크롤링 중...\n",
      "\n"
     ]
    },
    {
     "data": {
      "application/vnd.jupyter.widget-view+json": {
       "model_id": "582d32db92ef486da07d45bf27467ad1",
       "version_major": 2,
       "version_minor": 0
      },
      "text/plain": [
       "HBox(children=(IntProgress(value=1, bar_style='info', max=1), HTML(value='')))"
      ]
     },
     "metadata": {},
     "output_type": "display_data"
    },
    {
     "data": {
      "application/vnd.jupyter.widget-view+json": {
       "model_id": "76897964554b4f09ab6b86710a91bb38",
       "version_major": 2,
       "version_minor": 0
      },
      "text/plain": [
       "HBox(children=(IntProgress(value=1, bar_style='info', max=1), HTML(value='')))"
      ]
     },
     "metadata": {},
     "output_type": "display_data"
    },
    {
     "data": {
      "application/vnd.jupyter.widget-view+json": {
       "model_id": "b536a524168c4824814db98921e004f7",
       "version_major": 2,
       "version_minor": 0
      },
      "text/plain": [
       "HBox(children=(IntProgress(value=1, bar_style='info', max=1), HTML(value='')))"
      ]
     },
     "metadata": {},
     "output_type": "display_data"
    },
    {
     "data": {
      "application/vnd.jupyter.widget-view+json": {
       "model_id": "ed07531302084eeda77f4225b355e637",
       "version_major": 2,
       "version_minor": 0
      },
      "text/plain": [
       "HBox(children=(IntProgress(value=1, bar_style='info', max=1), HTML(value='')))"
      ]
     },
     "metadata": {},
     "output_type": "display_data"
    },
    {
     "data": {
      "application/vnd.jupyter.widget-view+json": {
       "model_id": "6a7a4773201f4852955d3bada335952d",
       "version_major": 2,
       "version_minor": 0
      },
      "text/plain": [
       "HBox(children=(IntProgress(value=1, bar_style='info', max=1), HTML(value='')))"
      ]
     },
     "metadata": {},
     "output_type": "display_data"
    },
    {
     "name": "stdout",
     "output_type": "stream",
     "text": [
      "https://blog.naver.com/hey1968/221767772596 블로그의 본문 크롤링 성공!\n",
      "\n",
      "\n",
      "현재까지 저장된 본문의 개수:  265 \n",
      "\n",
      "https://blog.naver.com/hey1968/221790126528 블로그의 본문 크롤링 성공!\n",
      "\n",
      "\n",
      "현재까지 저장된 본문의 개수:  266 \n",
      "\n",
      "https://blog.naver.com/hey1968/221772926178 블로그의 본문 크롤링 성공!\n",
      "\n",
      "\n",
      "현재까지 저장된 본문의 개수: https://blog.naver.com/hey1968/221758878862  267 블로그의 본문 크롤링 성공!\n",
      "\n",
      "\n",
      "\n",
      "\n",
      "현재까지 저장된 본문의 개수:  268 \n",
      "\n",
      "https://blog.naver.com/hey1968/221789010257 블로그의 본문 크롤링 성공!\n",
      "\n",
      "\n",
      "현재까지 저장된 본문의 개수:  269 \n",
      "\n",
      "270 ~ 274의 블로그 본문 크롤링을 시작합니다.\n",
      "\n",
      " 플랜에이치 홍대점 의 https://blog.naver.com/hey1968/221766677595 블로그의 본문 크롤링 중...\n",
      "\n",
      "\n",
      " 플랜에이치 홍대점 의 https://blog.naver.com/hey1968/221711367088 블로그의 본문 크롤링 중...\n",
      "\n",
      "\n",
      " 플랜에이치 홍대점 의 https://blog.naver.com/hey1968/221756328770 블로그의 본문 크롤링 중...\n",
      "\n",
      "\n",
      " 플랜에이치 홍대점 의 https://blog.naver.com/hey1968/221809206342 블로그의 본문 크롤링 중...\n",
      "\n",
      "\n",
      " 플랜에이치 홍대점 의 https://blog.naver.com/hey1968/221759760543 블로그의 본문 크롤링 중...\n",
      "\n"
     ]
    },
    {
     "data": {
      "application/vnd.jupyter.widget-view+json": {
       "model_id": "d639464fdc4542998100a7f38e5a0f72",
       "version_major": 2,
       "version_minor": 0
      },
      "text/plain": [
       "HBox(children=(IntProgress(value=1, bar_style='info', max=1), HTML(value='')))"
      ]
     },
     "metadata": {},
     "output_type": "display_data"
    },
    {
     "data": {
      "application/vnd.jupyter.widget-view+json": {
       "model_id": "35b4068ede8f4ae781f89a339173be1e",
       "version_major": 2,
       "version_minor": 0
      },
      "text/plain": [
       "HBox(children=(IntProgress(value=1, bar_style='info', max=1), HTML(value='')))"
      ]
     },
     "metadata": {},
     "output_type": "display_data"
    },
    {
     "data": {
      "application/vnd.jupyter.widget-view+json": {
       "model_id": "2f6d760a429144ab9a076e05ad296ad0",
       "version_major": 2,
       "version_minor": 0
      },
      "text/plain": [
       "HBox(children=(IntProgress(value=1, bar_style='info', max=1), HTML(value='')))"
      ]
     },
     "metadata": {},
     "output_type": "display_data"
    },
    {
     "data": {
      "application/vnd.jupyter.widget-view+json": {
       "model_id": "78bb8f4b61db41128d9059cf4bc21ed9",
       "version_major": 2,
       "version_minor": 0
      },
      "text/plain": [
       "HBox(children=(IntProgress(value=1, bar_style='info', max=1), HTML(value='')))"
      ]
     },
     "metadata": {},
     "output_type": "display_data"
    },
    {
     "data": {
      "application/vnd.jupyter.widget-view+json": {
       "model_id": "74cc20c3d07547308f09d8c8df6445bf",
       "version_major": 2,
       "version_minor": 0
      },
      "text/plain": [
       "HBox(children=(IntProgress(value=1, bar_style='info', max=1), HTML(value='')))"
      ]
     },
     "metadata": {},
     "output_type": "display_data"
    },
    {
     "name": "stdout",
     "output_type": "stream",
     "text": [
      "https://blog.naver.com/hey1968/221809206342 블로그의 본문 크롤링 성공!\n",
      "\n",
      "\n",
      "현재까지 저장된 본문의 개수:  270 \n",
      "\n",
      "https://blog.naver.com/hey1968/221756328770 블로그의 본문 크롤링 성공!\n",
      "\n",
      "\n",
      "현재까지 저장된 본문의 개수:  271 \n",
      "\n",
      "https://blog.naver.com/hey1968/221759760543 블로그의 본문 크롤링 성공!\n",
      "\n",
      "\n",
      "현재까지 저장된 본문의 개수:  272 \n",
      "\n",
      "https://blog.naver.com/hey1968/221711367088 블로그의 본문 크롤링 성공!\n",
      "\n",
      "\n",
      "현재까지 저장된 본문의 개수:  273 \n",
      "\n",
      "https://blog.naver.com/hey1968/221766677595 블로그의 본문 크롤링 성공!\n",
      "\n",
      "\n",
      "현재까지 저장된 본문의 개수:  274 \n",
      "\n",
      "275 ~ 279의 블로그 본문 크롤링을 시작합니다.\n",
      "\n",
      " 플랜에이치 홍대점 의 https://blog.naver.com/hey1968/221720150313 블로그의 본문 크롤링 중...\n",
      "\n",
      "\n",
      " 플랜에이치 홍대점 의 https://blog.naver.com/hey1968/221723674169 블로그의 본문 크롤링 중...\n",
      "\n",
      "\n",
      " 플랜에이치 홍대점 의 https://blog.naver.com/hey1968/221786627573 블로그의 본문 크롤링 중...\n",
      "\n",
      "\n",
      " 플랜에이치 홍대점 의 https://blog.naver.com/hey1968/221778806472 블로그의 본문 크롤링 중...\n",
      "\n",
      "\n",
      " 플랜에이치 홍대점 의 https://blog.naver.com/hey1968/221750231806 블로그의 본문 크롤링 중...\n",
      "\n"
     ]
    },
    {
     "data": {
      "application/vnd.jupyter.widget-view+json": {
       "model_id": "4d92029045084c90af02e7d7fbda6885",
       "version_major": 2,
       "version_minor": 0
      },
      "text/plain": [
       "HBox(children=(IntProgress(value=1, bar_style='info', max=1), HTML(value='')))"
      ]
     },
     "metadata": {},
     "output_type": "display_data"
    },
    {
     "data": {
      "application/vnd.jupyter.widget-view+json": {
       "model_id": "f40134b437614f20a3f41d20f9e70f09",
       "version_major": 2,
       "version_minor": 0
      },
      "text/plain": [
       "HBox(children=(IntProgress(value=1, bar_style='info', max=1), HTML(value='')))"
      ]
     },
     "metadata": {},
     "output_type": "display_data"
    },
    {
     "data": {
      "application/vnd.jupyter.widget-view+json": {
       "model_id": "f86541e654aa4078a799b397875723bc",
       "version_major": 2,
       "version_minor": 0
      },
      "text/plain": [
       "HBox(children=(IntProgress(value=1, bar_style='info', max=1), HTML(value='')))"
      ]
     },
     "metadata": {},
     "output_type": "display_data"
    },
    {
     "data": {
      "application/vnd.jupyter.widget-view+json": {
       "model_id": "05b315a870a048349762300c5271d7a1",
       "version_major": 2,
       "version_minor": 0
      },
      "text/plain": [
       "HBox(children=(IntProgress(value=1, bar_style='info', max=1), HTML(value='')))"
      ]
     },
     "metadata": {},
     "output_type": "display_data"
    },
    {
     "data": {
      "application/vnd.jupyter.widget-view+json": {
       "model_id": "f1557600f6af41eaa8d15b7d83a860b3",
       "version_major": 2,
       "version_minor": 0
      },
      "text/plain": [
       "HBox(children=(IntProgress(value=1, bar_style='info', max=1), HTML(value='')))"
      ]
     },
     "metadata": {},
     "output_type": "display_data"
    },
    {
     "name": "stdout",
     "output_type": "stream",
     "text": [
      "https://blog.naver.com/hey1968/221720150313 블로그의 본문 크롤링 성공!\n",
      "\n",
      "\n",
      "현재까지 저장된 본문의 개수:  275 \n",
      "\n",
      "https://blog.naver.com/hey1968/221750231806 블로그의 본문 크롤링 성공!\n",
      "\n",
      "\n",
      "현재까지 저장된 본문의 개수:  276 \n",
      "\n",
      "https://blog.naver.com/hey1968/221786627573https://blog.naver.com/hey1968/221778806472 블로그의 본문 크롤링 성공!\n",
      " 블로그의 본문 크롤링 성공!\n",
      "\n",
      "\n",
      "https://blog.naver.com/hey1968/221723674169\n",
      " \n",
      "현재까지 저장된 본문의 개수: 블로그의 본문 크롤링 성공!\n",
      " 현재까지 저장된 본문의 개수: \n",
      " 278\n",
      "278 현재까지 저장된 본문의 개수:  \n",
      " \n",
      "\n",
      "278\n",
      " \n",
      "\n",
      "280 ~ 284의 블로그 본문 크롤링을 시작합니다.\n",
      "\n",
      " 플랜에이치 홍대점 의 https://blog.naver.com/hey1968/221743997268 블로그의 본문 크롤링 중...\n",
      "\n",
      "\n",
      " 플랜에이치 홍대점 의 https://blog.naver.com/hey1968/221714385059 블로그의 본문 크롤링 중...\n",
      "\n",
      "\n",
      " 플랜에이치 홍대점 의 https://blog.naver.com/hey1968/221751243556 블로그의 본문 크롤링 중...\n",
      "\n",
      "\n",
      " 플랜에이치 홍대점 의 https://blog.naver.com/hey1968/221737167580 블로그의 본문 크롤링 중...\n",
      "\n",
      "\n",
      " 플랜에이치 홍대점 의 https://blog.naver.com/hey1968/221744976396 블로그의 본문 크롤링 중...\n",
      "\n"
     ]
    },
    {
     "data": {
      "application/vnd.jupyter.widget-view+json": {
       "model_id": "4162066da2fa4e0c8c64d1ef19bce9b5",
       "version_major": 2,
       "version_minor": 0
      },
      "text/plain": [
       "HBox(children=(IntProgress(value=1, bar_style='info', max=1), HTML(value='')))"
      ]
     },
     "metadata": {},
     "output_type": "display_data"
    },
    {
     "data": {
      "application/vnd.jupyter.widget-view+json": {
       "model_id": "10ebd85290b24745835b3d70afc724c8",
       "version_major": 2,
       "version_minor": 0
      },
      "text/plain": [
       "HBox(children=(IntProgress(value=1, bar_style='info', max=1), HTML(value='')))"
      ]
     },
     "metadata": {},
     "output_type": "display_data"
    },
    {
     "data": {
      "application/vnd.jupyter.widget-view+json": {
       "model_id": "a0fe1f4a09fd4ae5a6848fdf4e0f81c4",
       "version_major": 2,
       "version_minor": 0
      },
      "text/plain": [
       "HBox(children=(IntProgress(value=1, bar_style='info', max=1), HTML(value='')))"
      ]
     },
     "metadata": {},
     "output_type": "display_data"
    },
    {
     "data": {
      "application/vnd.jupyter.widget-view+json": {
       "model_id": "37c1f5be76c4468794042f267cd900b7",
       "version_major": 2,
       "version_minor": 0
      },
      "text/plain": [
       "HBox(children=(IntProgress(value=1, bar_style='info', max=1), HTML(value='')))"
      ]
     },
     "metadata": {},
     "output_type": "display_data"
    },
    {
     "data": {
      "application/vnd.jupyter.widget-view+json": {
       "model_id": "869df146f54c4a4b940cb2504fdba9b7",
       "version_major": 2,
       "version_minor": 0
      },
      "text/plain": [
       "HBox(children=(IntProgress(value=1, bar_style='info', max=1), HTML(value='')))"
      ]
     },
     "metadata": {},
     "output_type": "display_data"
    },
    {
     "name": "stdout",
     "output_type": "stream",
     "text": [
      "https://blog.naver.com/hey1968/221751243556 블로그의 본문 크롤링 성공!\n",
      "\n",
      "\n",
      "https://blog.naver.com/hey1968/221743997268현재까지 저장된 본문의 개수:   블로그의 본문 크롤링 성공!\n",
      "280\n",
      "\n",
      " 현재까지 저장된 본문의 개수: \n",
      "\n",
      " 280 \n",
      "\n",
      "https://blog.naver.com/hey1968/221744976396 블로그의 본문 크롤링 성공!\n",
      "\n",
      "\n",
      "현재까지 저장된 본문의 개수:  281 \n",
      "\n",
      "https://blog.naver.com/hey1968/221737167580https://blog.naver.com/hey1968/221714385059  블로그의 본문 크롤링 성공!\n",
      "블로그의 본문 크롤링 성공!\n",
      "\n",
      "\n",
      "\n",
      "현재까지 저장된 본문의 개수: \n",
      " 현재까지 저장된 본문의 개수: 283  \n",
      "283\n",
      " \n",
      "\n",
      "285 ~ 289의 블로그 본문 크롤링을 시작합니다.\n",
      "\n",
      " 플랜에이치 홍대점 의 https://blog.naver.com/hey1968/221590000478 블로그의 본문 크롤링 중...\n",
      "\n",
      "\n",
      " 플랜에이치 홍대점 의 https://blog.naver.com/hey1968/221717854108 블로그의 본문 크롤링 중...\n",
      "\n",
      "\n",
      " 플랜에이치 홍대점 의 https://blog.naver.com/hey1968/221710327573 블로그의 본문 크롤링 중...\n",
      "\n",
      "\n",
      " 플랜에이치 홍대점 의 https://blog.naver.com/hey1968/221741516705 블로그의 본문 크롤링 중...\n",
      "\n",
      "\n",
      " 플랜에이치 홍대점 의 https://blog.naver.com/hey1968/221721068444 블로그의 본문 크롤링 중...\n",
      "\n"
     ]
    },
    {
     "data": {
      "application/vnd.jupyter.widget-view+json": {
       "model_id": "f6e1ff0f02ee45bc99eb7d87a052436e",
       "version_major": 2,
       "version_minor": 0
      },
      "text/plain": [
       "HBox(children=(IntProgress(value=1, bar_style='info', max=1), HTML(value='')))"
      ]
     },
     "metadata": {},
     "output_type": "display_data"
    },
    {
     "data": {
      "application/vnd.jupyter.widget-view+json": {
       "model_id": "8642c2674bfb45f68ff40bc2c57688d0",
       "version_major": 2,
       "version_minor": 0
      },
      "text/plain": [
       "HBox(children=(IntProgress(value=1, bar_style='info', max=1), HTML(value='')))"
      ]
     },
     "metadata": {},
     "output_type": "display_data"
    },
    {
     "data": {
      "application/vnd.jupyter.widget-view+json": {
       "model_id": "9a1652f40565456cb9b8e23610efa715",
       "version_major": 2,
       "version_minor": 0
      },
      "text/plain": [
       "HBox(children=(IntProgress(value=1, bar_style='info', max=1), HTML(value='')))"
      ]
     },
     "metadata": {},
     "output_type": "display_data"
    },
    {
     "data": {
      "application/vnd.jupyter.widget-view+json": {
       "model_id": "9340efd810a542648d4518d10164509e",
       "version_major": 2,
       "version_minor": 0
      },
      "text/plain": [
       "HBox(children=(IntProgress(value=1, bar_style='info', max=1), HTML(value='')))"
      ]
     },
     "metadata": {},
     "output_type": "display_data"
    },
    {
     "data": {
      "application/vnd.jupyter.widget-view+json": {
       "model_id": "2d05810464024f7baa8e92ee8fcb3cb6",
       "version_major": 2,
       "version_minor": 0
      },
      "text/plain": [
       "HBox(children=(IntProgress(value=1, bar_style='info', max=1), HTML(value='')))"
      ]
     },
     "metadata": {},
     "output_type": "display_data"
    },
    {
     "name": "stdout",
     "output_type": "stream",
     "text": [
      "https://blog.naver.com/hey1968/221590000478 블로그의 본문 크롤링 성공!\n",
      "\n",
      "\n",
      "현재까지 저장된 본문의 개수:  284 https://blog.naver.com/hey1968/221741516705\n",
      " 블로그의 본문 크롤링 성공!\n",
      "\n",
      "\n",
      "\n",
      "현재까지 저장된 본문의 개수:  285 \n",
      "\n",
      "https://blog.naver.com/hey1968/221710327573 블로그의 본문 크롤링 성공!\n",
      "\n",
      "\n",
      "현재까지 저장된 본문의 개수:  286 \n",
      "\n",
      "https://blog.naver.com/hey1968/221717854108 블로그의 본문 크롤링 성공!\n",
      "\n",
      "\n",
      "현재까지 저장된 본문의 개수:  https://blog.naver.com/hey1968/221721068444287  \n",
      "블로그의 본문 크롤링 성공!\n",
      "\n",
      "\n",
      "\n",
      "현재까지 저장된 본문의 개수:  288 \n",
      "\n",
      "290 ~ 294의 블로그 본문 크롤링을 시작합니다.\n",
      "\n",
      " 플랜에이치 홍대점 의 https://blog.naver.com/hey1968/221601041676 블로그의 본문 크롤링 중...\n",
      "\n",
      "\n",
      " 플랜에이치 홍대점 의 https://blog.naver.com/hey1968/221700977346 블로그의 본문 크롤링 중...\n",
      "\n",
      "\n",
      " 플랜에이치 홍대점 의 https://blog.naver.com/hey1968/221676482304\n",
      "  블로그의 본문 크롤링 중...\n",
      "플랜에이치 홍대점 \n",
      "의 https://blog.naver.com/hey1968/221549618146 블로그의 본문 크롤링 중...\n",
      "\n",
      "\n",
      " 플랜에이치 홍대점 의 https://blog.naver.com/hey1968/221535557353 블로그의 본문 크롤링 중...\n",
      "\n"
     ]
    },
    {
     "data": {
      "application/vnd.jupyter.widget-view+json": {
       "model_id": "be1f7188ade040e99df10e97bff7159c",
       "version_major": 2,
       "version_minor": 0
      },
      "text/plain": [
       "HBox(children=(IntProgress(value=1, bar_style='info', max=1), HTML(value='')))"
      ]
     },
     "metadata": {},
     "output_type": "display_data"
    },
    {
     "data": {
      "application/vnd.jupyter.widget-view+json": {
       "model_id": "de6a8587e0314b7f9253fa672c84875d",
       "version_major": 2,
       "version_minor": 0
      },
      "text/plain": [
       "HBox(children=(IntProgress(value=1, bar_style='info', max=1), HTML(value='')))"
      ]
     },
     "metadata": {},
     "output_type": "display_data"
    },
    {
     "data": {
      "application/vnd.jupyter.widget-view+json": {
       "model_id": "8741587b0ad94241bd5876a6d316a396",
       "version_major": 2,
       "version_minor": 0
      },
      "text/plain": [
       "HBox(children=(IntProgress(value=1, bar_style='info', max=1), HTML(value='')))"
      ]
     },
     "metadata": {},
     "output_type": "display_data"
    },
    {
     "data": {
      "application/vnd.jupyter.widget-view+json": {
       "model_id": "220a1f47f3dc4942ada1a237090e628d",
       "version_major": 2,
       "version_minor": 0
      },
      "text/plain": [
       "HBox(children=(IntProgress(value=1, bar_style='info', max=1), HTML(value='')))"
      ]
     },
     "metadata": {},
     "output_type": "display_data"
    },
    {
     "data": {
      "application/vnd.jupyter.widget-view+json": {
       "model_id": "1b26ed57e6084ff69cd7d3c58b57e308",
       "version_major": 2,
       "version_minor": 0
      },
      "text/plain": [
       "HBox(children=(IntProgress(value=1, bar_style='info', max=1), HTML(value='')))"
      ]
     },
     "metadata": {},
     "output_type": "display_data"
    },
    {
     "name": "stdout",
     "output_type": "stream",
     "text": [
      "https://blog.naver.com/hey1968/221601041676 블로그의 본문 크롤링 성공!\n",
      "\n",
      "\n",
      "현재까지 저장된 본문의 개수:  289 \n",
      "\n",
      "https://blog.naver.com/hey1968/221535557353 블로그의 본문 크롤링 성공!\n",
      "\n",
      "\n",
      "현재까지 저장된 본문의 개수:  290 \n",
      "\n",
      "https://blog.naver.com/hey1968/221700977346 블로그의 본문 크롤링 성공!\n",
      "\n",
      "\n",
      "현재까지 저장된 본문의 개수:  291 \n",
      "\n",
      "https://blog.naver.com/hey1968/221549618146 블로그의 본문 크롤링 성공!\n",
      "\n",
      "\n",
      "현재까지 저장된 본문의 개수:  292 \n",
      "\n",
      "https://blog.naver.com/hey1968/221676482304 블로그의 본문 크롤링 성공!\n",
      "\n",
      "\n",
      "현재까지 저장된 본문의 개수:  293 \n",
      "\n",
      "295 ~ 299의 블로그 본문 크롤링을 시작합니다.\n",
      "\n",
      " 플랜에이치 홍대점 의 https://blog.naver.com/hey1968/221491332987 블로그의 본문 크롤링 중...\n",
      "\n",
      "\n",
      " 플랜에이치 홍대점 의 https://blog.naver.com/hey1968/221588953739 블로그의 본문 크롤링 중...\n",
      "\n",
      "\n",
      " 플랜에이치 홍대점 의 https://blog.naver.com/hey1968/221709501476 블로그의 본문 크롤링 중...\n",
      "\n",
      "\n",
      " 플랜에이치 홍대점 의 https://blog.naver.com/hey1968/221651802184 블로그의 본문 크롤링 중...\n",
      "\n",
      "\n",
      " 플랜에이치 홍대점 의 https://blog.naver.com/hey1968/221686468543 블로그의 본문 크롤링 중...\n",
      "\n"
     ]
    },
    {
     "data": {
      "application/vnd.jupyter.widget-view+json": {
       "model_id": "b2de4523167b4be9a480b9d52977bf8d",
       "version_major": 2,
       "version_minor": 0
      },
      "text/plain": [
       "HBox(children=(IntProgress(value=1, bar_style='info', max=1), HTML(value='')))"
      ]
     },
     "metadata": {},
     "output_type": "display_data"
    },
    {
     "data": {
      "application/vnd.jupyter.widget-view+json": {
       "model_id": "62c2f1ccc92647ddbdf12fd40a4cf0c4",
       "version_major": 2,
       "version_minor": 0
      },
      "text/plain": [
       "HBox(children=(IntProgress(value=1, bar_style='info', max=1), HTML(value='')))"
      ]
     },
     "metadata": {},
     "output_type": "display_data"
    },
    {
     "data": {
      "application/vnd.jupyter.widget-view+json": {
       "model_id": "1b23b5e79d5443509c3e20bfad251a52",
       "version_major": 2,
       "version_minor": 0
      },
      "text/plain": [
       "HBox(children=(IntProgress(value=1, bar_style='info', max=1), HTML(value='')))"
      ]
     },
     "metadata": {},
     "output_type": "display_data"
    },
    {
     "data": {
      "application/vnd.jupyter.widget-view+json": {
       "model_id": "ac7f3b8c8607419680b15d7179172687",
       "version_major": 2,
       "version_minor": 0
      },
      "text/plain": [
       "HBox(children=(IntProgress(value=1, bar_style='info', max=1), HTML(value='')))"
      ]
     },
     "metadata": {},
     "output_type": "display_data"
    },
    {
     "data": {
      "application/vnd.jupyter.widget-view+json": {
       "model_id": "8774e3848e2e431dae5b68d9483f6543",
       "version_major": 2,
       "version_minor": 0
      },
      "text/plain": [
       "HBox(children=(IntProgress(value=1, bar_style='info', max=1), HTML(value='')))"
      ]
     },
     "metadata": {},
     "output_type": "display_data"
    },
    {
     "name": "stdout",
     "output_type": "stream",
     "text": [
      "https://blog.naver.com/hey1968/221491332987 블로그의 본문 크롤링 성공!\n",
      "\n",
      "\n",
      "현재까지 저장된 본문의 개수:  294 \n",
      "\n",
      "https://blog.naver.com/hey1968/221651802184 블로그의 본문 크롤링 성공!\n",
      "\n",
      "\n",
      "현재까지 저장된 본문의 개수:  295 \n",
      "\n",
      "https://blog.naver.com/hey1968/221709501476 블로그의 본문 크롤링 성공!\n",
      "\n",
      "\n",
      "현재까지 저장된 본문의 개수:  296 \n",
      "\n",
      "https://blog.naver.com/hey1968/221588953739 블로그의 본문 크롤링 성공!\n",
      "\n",
      "\n",
      "현재까지 저장된 본문의 개수:  297 \n",
      "\n",
      "https://blog.naver.com/hey1968/221686468543 블로그의 본문 크롤링 성공!\n",
      "\n",
      "\n",
      "현재까지 저장된 본문의 개수:  298 \n",
      "\n",
      "300 ~ 304의 블로그 본문 크롤링을 시작합니다.\n",
      "\n",
      " 플랜에이치 홍대점 의 https://blog.naver.com/hey1968/221708784365 블로그의 본문 크롤링 중...\n",
      "\n",
      "\n",
      " 플랜에이치 홍대점 의 https://blog.naver.com/hey1968/221669770531 블로그의 본문 크롤링 중...\n",
      "\n",
      "\n",
      " 플랜에이치 홍대점 의 https://blog.naver.com/hey1968/221695895459 블로그의 본문 크롤링 중...\n",
      "\n",
      "\n",
      " 플랜에이치 홍대점 의 https://blog.naver.com/hey1968/221489949696 블로그의 본문 크롤링 중...\n",
      "\n",
      "\n",
      " 플랜에이치 홍대점 의 https://blog.naver.com/hey1968/221681391398 블로그의 본문 크롤링 중...\n",
      "\n"
     ]
    },
    {
     "data": {
      "application/vnd.jupyter.widget-view+json": {
       "model_id": "076703a8827449c09e5ad38ce70b86ad",
       "version_major": 2,
       "version_minor": 0
      },
      "text/plain": [
       "HBox(children=(IntProgress(value=1, bar_style='info', max=1), HTML(value='')))"
      ]
     },
     "metadata": {},
     "output_type": "display_data"
    },
    {
     "data": {
      "application/vnd.jupyter.widget-view+json": {
       "model_id": "046d5abc2a7c47a5b88591d94e69e01a",
       "version_major": 2,
       "version_minor": 0
      },
      "text/plain": [
       "HBox(children=(IntProgress(value=1, bar_style='info', max=1), HTML(value='')))"
      ]
     },
     "metadata": {},
     "output_type": "display_data"
    },
    {
     "data": {
      "application/vnd.jupyter.widget-view+json": {
       "model_id": "6160e7109cd24f079bf42a235ec6dbef",
       "version_major": 2,
       "version_minor": 0
      },
      "text/plain": [
       "HBox(children=(IntProgress(value=1, bar_style='info', max=1), HTML(value='')))"
      ]
     },
     "metadata": {},
     "output_type": "display_data"
    },
    {
     "data": {
      "application/vnd.jupyter.widget-view+json": {
       "model_id": "3684481bce0e443e906806d7d86abd7c",
       "version_major": 2,
       "version_minor": 0
      },
      "text/plain": [
       "HBox(children=(IntProgress(value=1, bar_style='info', max=1), HTML(value='')))"
      ]
     },
     "metadata": {},
     "output_type": "display_data"
    },
    {
     "data": {
      "application/vnd.jupyter.widget-view+json": {
       "model_id": "bf4ab94a01b3411ca3dd41a7e62f712b",
       "version_major": 2,
       "version_minor": 0
      },
      "text/plain": [
       "HBox(children=(IntProgress(value=1, bar_style='info', max=1), HTML(value='')))"
      ]
     },
     "metadata": {},
     "output_type": "display_data"
    },
    {
     "name": "stdout",
     "output_type": "stream",
     "text": [
      "https://blog.naver.com/hey1968/221681391398 블로그의 본문 크롤링 성공!\n",
      "\n",
      "\n",
      "현재까지 저장된 본문의 개수:  299 \n",
      "\n",
      "https://blog.naver.com/hey1968/221695895459 블로그의 본문 크롤링 성공!\n",
      "\n",
      "\n",
      "현재까지 저장된 본문의 개수:  300 \n",
      "\n",
      "https://blog.naver.com/hey1968/221489949696 블로그의 본문 크롤링 성공!\n",
      "\n",
      "\n",
      "현재까지 저장된 본문의 개수:  301 \n",
      "\n",
      "https://blog.naver.com/hey1968/221708784365 블로그의 본문 크롤링 성공!\n",
      "\n",
      "\n",
      "현재까지 저장된 본문의 개수:  302 \n",
      "\n",
      "https://blog.naver.com/hey1968/221669770531 블로그의 본문 크롤링 성공!\n",
      "\n",
      "\n",
      "현재까지 저장된 본문의 개수:  303 \n",
      "\n",
      "305 ~ 309의 블로그 본문 크롤링을 시작합니다.\n",
      "\n",
      " 플랜에이치 홍대점 의 https://blog.naver.com/hey1968/221688377411 블로그의 본문 크롤링 중...\n",
      "\n",
      "\n",
      " 플랜에이치 홍대점 의 https://blog.naver.com/hey1968/221641663445 블로그의 본문 크롤링 중...\n",
      "\n",
      "\n",
      " 플랜에이치 홍대점 의 https://blog.naver.com/hey1968/221670843796 블로그의 본문 크롤링 중...\n",
      "\n",
      "\n",
      " 플랜에이치 홍대점\n",
      "  플랜에이치 홍대점 의의 https://blog.naver.com/hey1968/221694314391 https://blog.naver.com/hey1968/221574202808  블로그의 본문 크롤링 중...\n",
      "블로그의 본문 크롤링 중...\n",
      "\n",
      "\n"
     ]
    },
    {
     "data": {
      "application/vnd.jupyter.widget-view+json": {
       "model_id": "f55edd7b2cac4970b5b41fb17d283b17",
       "version_major": 2,
       "version_minor": 0
      },
      "text/plain": [
       "HBox(children=(IntProgress(value=1, bar_style='info', max=1), HTML(value='')))"
      ]
     },
     "metadata": {},
     "output_type": "display_data"
    },
    {
     "data": {
      "application/vnd.jupyter.widget-view+json": {
       "model_id": "5318a3aed4b14cb3a7e7ce315d4da8cd",
       "version_major": 2,
       "version_minor": 0
      },
      "text/plain": [
       "HBox(children=(IntProgress(value=1, bar_style='info', max=1), HTML(value='')))"
      ]
     },
     "metadata": {},
     "output_type": "display_data"
    },
    {
     "data": {
      "application/vnd.jupyter.widget-view+json": {
       "model_id": "ef6563d50c754b4ba513096801d61818",
       "version_major": 2,
       "version_minor": 0
      },
      "text/plain": [
       "HBox(children=(IntProgress(value=1, bar_style='info', max=1), HTML(value='')))"
      ]
     },
     "metadata": {},
     "output_type": "display_data"
    },
    {
     "data": {
      "application/vnd.jupyter.widget-view+json": {
       "model_id": "9ebcfc6503c64edc886ec819d6b398f5",
       "version_major": 2,
       "version_minor": 0
      },
      "text/plain": [
       "HBox(children=(IntProgress(value=1, bar_style='info', max=1), HTML(value='')))"
      ]
     },
     "metadata": {},
     "output_type": "display_data"
    },
    {
     "data": {
      "application/vnd.jupyter.widget-view+json": {
       "model_id": "acc5cbe687f14a1182b65e8e374e7b83",
       "version_major": 2,
       "version_minor": 0
      },
      "text/plain": [
       "HBox(children=(IntProgress(value=1, bar_style='info', max=1), HTML(value='')))"
      ]
     },
     "metadata": {},
     "output_type": "display_data"
    },
    {
     "name": "stdout",
     "output_type": "stream",
     "text": [
      "https://blog.naver.com/hey1968/221641663445 블로그의 본문 크롤링 성공!\n",
      "\n",
      "\n",
      "현재까지 저장된 본문의 개수:  304 \n",
      "\n",
      "https://blog.naver.com/hey1968/221574202808 블로그의 본문 크롤링 성공!\n",
      "\n",
      "\n",
      "현재까지 저장된 본문의 개수:  305 \n",
      "\n",
      "https://blog.naver.com/hey1968/221670843796 블로그의 본문 크롤링 성공!\n",
      "\n",
      "\n",
      "현재까지 저장된 본문의 개수:  306 \n",
      "\n",
      "https://blog.naver.com/hey1968/221694314391https://blog.naver.com/hey1968/221688377411 블로그의 본문 크롤링 성공!\n",
      " \n",
      "블로그의 본문 크롤링 성공!\n",
      "\n",
      "\n",
      "\n",
      "현재까지 저장된 본문의 개수:  현재까지 저장된 본문의 개수:  308308 \n",
      "\n",
      " \n",
      "\n",
      "310 ~ 314의 블로그 본문 크롤링을 시작합니다.\n",
      "\n",
      " 플랜에이치 홍대점 의 https://blog.naver.com/hey1968/221639868303 블로그의 본문 크롤링 중...\n",
      "\n",
      "\n",
      " 플랜에이치 홍대점 의 https://blog.naver.com/hey1968/221703431740 블로그의 본문 크롤링 중...\n",
      "\n",
      "\n",
      " 플랜에이치 홍대점 의 https://blog.naver.com/hey1968/221659185667 블로그의 본문 크롤링 중...\n",
      "\n",
      "\n",
      " 플랜에이치 홍대점 의 https://blog.naver.com/hey1968/221618584019 블로그의 본문 크롤링 중...\n",
      "\n",
      "\n",
      " 플랜에이치 홍대점 의 https://blog.naver.com/hey1968/221696746332 블로그의 본문 크롤링 중...\n",
      "\n"
     ]
    },
    {
     "data": {
      "application/vnd.jupyter.widget-view+json": {
       "model_id": "356161e15806477dbf2cc3575102cde5",
       "version_major": 2,
       "version_minor": 0
      },
      "text/plain": [
       "HBox(children=(IntProgress(value=1, bar_style='info', max=1), HTML(value='')))"
      ]
     },
     "metadata": {},
     "output_type": "display_data"
    },
    {
     "data": {
      "application/vnd.jupyter.widget-view+json": {
       "model_id": "70372203f1ff4c99b99db811c5da1d0e",
       "version_major": 2,
       "version_minor": 0
      },
      "text/plain": [
       "HBox(children=(IntProgress(value=1, bar_style='info', max=1), HTML(value='')))"
      ]
     },
     "metadata": {},
     "output_type": "display_data"
    },
    {
     "data": {
      "application/vnd.jupyter.widget-view+json": {
       "model_id": "8d2af865818e4f81afe21782eff85a12",
       "version_major": 2,
       "version_minor": 0
      },
      "text/plain": [
       "HBox(children=(IntProgress(value=1, bar_style='info', max=1), HTML(value='')))"
      ]
     },
     "metadata": {},
     "output_type": "display_data"
    },
    {
     "data": {
      "application/vnd.jupyter.widget-view+json": {
       "model_id": "bf168bdbf632498191df85330d47cf9c",
       "version_major": 2,
       "version_minor": 0
      },
      "text/plain": [
       "HBox(children=(IntProgress(value=1, bar_style='info', max=1), HTML(value='')))"
      ]
     },
     "metadata": {},
     "output_type": "display_data"
    },
    {
     "data": {
      "application/vnd.jupyter.widget-view+json": {
       "model_id": "0ab9875d1efc49b3bbd5ff9d05c7b3ff",
       "version_major": 2,
       "version_minor": 0
      },
      "text/plain": [
       "HBox(children=(IntProgress(value=1, bar_style='info', max=1), HTML(value='')))"
      ]
     },
     "metadata": {},
     "output_type": "display_data"
    },
    {
     "name": "stdout",
     "output_type": "stream",
     "text": [
      "https://blog.naver.com/hey1968/221639868303 블로그의 본문 크롤링 성공!\n",
      "\n",
      "\n",
      "현재까지 저장된 본문의 개수:  309https://blog.naver.com/hey1968/221618584019 \n",
      " 블로그의 본문 크롤링 성공!\n",
      "\n",
      "\n",
      "\n",
      "현재까지 저장된 본문의 개수:  310 \n",
      "\n",
      "https://blog.naver.com/hey1968/221703431740 블로그의 본문 크롤링 성공!\n",
      "\n",
      "\n",
      "현재까지 저장된 본문의 개수:  311 \n",
      "\n",
      "https://blog.naver.com/hey1968/221659185667https://blog.naver.com/hey1968/221696746332  블로그의 본문 크롤링 성공!\n",
      "블로그의 본문 크롤링 성공!\n",
      "\n",
      "\n",
      "\n",
      "현재까지 저장된 본문의 개수: \n",
      " 현재까지 저장된 본문의 개수: 312  312\n",
      " \n",
      "\n",
      "\n",
      "315 ~ 319의 블로그 본문 크롤링을 시작합니다.\n",
      "\n",
      " 이철헤어커커 잠실신천2호점 의 https://blog.naver.com/hsbr0121/221825589152 블로그의 본문 크롤링 중...\n",
      "\n",
      "\n",
      " 플랜에이치 홍대점 의 https://blog.naver.com/hey1968/221699633753 블로그의 본문 크롤링 중...\n",
      "\n",
      "\n",
      " 플랜에이치 홍대점 의 https://blog.naver.com/hey1968/221667149182 블로그의 본문 크롤링 중...\n",
      "\n",
      "\n",
      " 플랜에이치 홍대점 의 https://blog.naver.com/hey1968/221663959906 블로그의 본문 크롤링 중...\n",
      "\n",
      "\n",
      " 플랜에이치 홍대점 의 https://blog.naver.com/hey1968/221686251038 블로그의 본문 크롤링 중...\n",
      "\n"
     ]
    },
    {
     "data": {
      "application/vnd.jupyter.widget-view+json": {
       "model_id": "8c346ad084bb4a018e3d0b348423dffb",
       "version_major": 2,
       "version_minor": 0
      },
      "text/plain": [
       "HBox(children=(IntProgress(value=1, bar_style='info', max=1), HTML(value='')))"
      ]
     },
     "metadata": {},
     "output_type": "display_data"
    },
    {
     "data": {
      "application/vnd.jupyter.widget-view+json": {
       "model_id": "924294ec4fee4d228ab977af0502cf4c",
       "version_major": 2,
       "version_minor": 0
      },
      "text/plain": [
       "HBox(children=(IntProgress(value=1, bar_style='info', max=1), HTML(value='')))"
      ]
     },
     "metadata": {},
     "output_type": "display_data"
    },
    {
     "data": {
      "application/vnd.jupyter.widget-view+json": {
       "model_id": "b025024b56594c16ab3b29a4c78cbb31",
       "version_major": 2,
       "version_minor": 0
      },
      "text/plain": [
       "HBox(children=(IntProgress(value=1, bar_style='info', max=1), HTML(value='')))"
      ]
     },
     "metadata": {},
     "output_type": "display_data"
    },
    {
     "data": {
      "application/vnd.jupyter.widget-view+json": {
       "model_id": "feb05406afca4b61b78808727297a668",
       "version_major": 2,
       "version_minor": 0
      },
      "text/plain": [
       "HBox(children=(IntProgress(value=1, bar_style='info', max=1), HTML(value='')))"
      ]
     },
     "metadata": {},
     "output_type": "display_data"
    },
    {
     "data": {
      "application/vnd.jupyter.widget-view+json": {
       "model_id": "b586e5d94d6842c88b04335bbe0dc8eb",
       "version_major": 2,
       "version_minor": 0
      },
      "text/plain": [
       "HBox(children=(IntProgress(value=1, bar_style='info', max=1), HTML(value='')))"
      ]
     },
     "metadata": {},
     "output_type": "display_data"
    },
    {
     "name": "stdout",
     "output_type": "stream",
     "text": [
      "https://blog.naver.com/hey1968/221699633753 블로그의 본문 크롤링 성공!\n",
      "\n",
      "\n",
      "현재까지 저장된 본문의 개수:  313 \n",
      "\n",
      "https://blog.naver.com/hsbr0121/221825589152 블로그의 본문 크롤링 성공!\n",
      "\n",
      "\n",
      "현재까지 저장된 본문의 개수:  314 \n",
      "\n",
      "https://blog.naver.com/hey1968/221663959906 블로그의 본문 크롤링 성공!\n",
      "\n",
      "\n",
      "현재까지 저장된 본문의 개수:  315 \n",
      "\n",
      "https://blog.naver.com/hey1968/221686251038 블로그의 본문 크롤링 성공!\n",
      "\n",
      "\n",
      "현재까지 저장된 본문의 개수:  316 \n",
      "\n",
      "https://blog.naver.com/hey1968/221667149182 블로그의 본문 크롤링 성공!\n",
      "\n",
      "\n",
      "현재까지 저장된 본문의 개수:  317 \n",
      "\n",
      "320 ~ 324의 블로그 본문 크롤링을 시작합니다.\n",
      "\n",
      " 플랜에이치 홍대점 의 https://blog.naver.com/hey1968/221682521610 블로그의 본문 크롤링 중...\n",
      "\n",
      "\n",
      " 플랜에이치 홍대점 의 https://blog.naver.com/hey1968/221654230999 블로그의 본문 크롤링 중...\n",
      "\n",
      "\n",
      " 이철헤어커커 잠실신천2호점 의 https://blog.naver.com/pp5617/221752297014 블로그의 본문 크롤링 중...\n",
      "\n",
      "\n",
      " 이철헤어커커 잠실신천2호점 의 https://blog.naver.com/engage92/221745965698 블로그의 본문 크롤링 중...\n",
      "\n",
      "\n",
      " 이철헤어커커 잠실신천2호점 의 https://blog.naver.com/leesle917/221696198311 블로그의 본문 크롤링 중...\n",
      "\n"
     ]
    },
    {
     "data": {
      "application/vnd.jupyter.widget-view+json": {
       "model_id": "4b17f278ede54a2883e13a5abf2f8b09",
       "version_major": 2,
       "version_minor": 0
      },
      "text/plain": [
       "HBox(children=(IntProgress(value=1, bar_style='info', max=1), HTML(value='')))"
      ]
     },
     "metadata": {},
     "output_type": "display_data"
    },
    {
     "data": {
      "application/vnd.jupyter.widget-view+json": {
       "model_id": "9cedf812b4bc4c599774e4493c24f4ed",
       "version_major": 2,
       "version_minor": 0
      },
      "text/plain": [
       "HBox(children=(IntProgress(value=1, bar_style='info', max=1), HTML(value='')))"
      ]
     },
     "metadata": {},
     "output_type": "display_data"
    },
    {
     "data": {
      "application/vnd.jupyter.widget-view+json": {
       "model_id": "e243abc4b1e9409a9ad9cd21f390fb12",
       "version_major": 2,
       "version_minor": 0
      },
      "text/plain": [
       "HBox(children=(IntProgress(value=1, bar_style='info', max=1), HTML(value='')))"
      ]
     },
     "metadata": {},
     "output_type": "display_data"
    },
    {
     "data": {
      "application/vnd.jupyter.widget-view+json": {
       "model_id": "a45a93e58a6a4c39bbc0acb78d8b1adb",
       "version_major": 2,
       "version_minor": 0
      },
      "text/plain": [
       "HBox(children=(IntProgress(value=1, bar_style='info', max=1), HTML(value='')))"
      ]
     },
     "metadata": {},
     "output_type": "display_data"
    },
    {
     "data": {
      "application/vnd.jupyter.widget-view+json": {
       "model_id": "95688dd62f154bc99b397d3785b2e71a",
       "version_major": 2,
       "version_minor": 0
      },
      "text/plain": [
       "HBox(children=(IntProgress(value=1, bar_style='info', max=1), HTML(value='')))"
      ]
     },
     "metadata": {},
     "output_type": "display_data"
    },
    {
     "name": "stdout",
     "output_type": "stream",
     "text": [
      "https://blog.naver.com/hey1968/221682521610 블로그의 본문 크롤링 성공!\n",
      "\n",
      "\n",
      "현재까지 저장된 본문의 개수:  318 \n",
      "\n",
      "https://blog.naver.com/pp5617/221752297014 블로그의 본문 크롤링 성공!\n",
      "\n",
      "\n",
      "현재까지 저장된 본문의 개수:  319 \n",
      "\n",
      "https://blog.naver.com/hey1968/221654230999 블로그의 본문 크롤링 성공!\n",
      "\n",
      "\n",
      "현재까지 저장된 본문의 개수:  320 \n",
      "\n",
      "https://blog.naver.com/engage92/221745965698 블로그의 본문 크롤링 성공!\n",
      "\n",
      "\n",
      "현재까지 저장된 본문의 개수:  321 \n",
      "\n",
      "https://blog.naver.com/leesle917/221696198311 블로그의 본문 크롤링 성공!\n",
      "\n",
      "\n",
      "현재까지 저장된 본문의 개수:  322 \n",
      "\n",
      "325 ~ 329의 블로그 본문 크롤링을 시작합니다.\n",
      "\n",
      " 이철헤어커커 잠실신천2호점 의 https://blog.naver.com/hans_way/221727877231 블로그의 본문 크롤링 중...\n",
      "\n",
      "\n",
      " 이철헤어커커 잠실신천2호점 의 https://blog.naver.com/rose101988/221665362159 블로그의 본문 크롤링 중...\n",
      "\n",
      "\n",
      " 이철헤어커커 잠실신천2호점 의 https://blog.naver.com/ghdwls84/221534276891 블로그의 본문 크롤링 중...\n",
      "\n",
      "\n",
      " 이철헤어커커 잠실신천2호점 의 https://blog.naver.com/lovelove1191/221698740703 블로그의 본문 크롤링 중...\n",
      "\n",
      "\n",
      " 이철헤어커커 잠실신천2호점 의 https://blog.naver.com/bbbbbu/221732176577 블로그의 본문 크롤링 중...\n",
      "\n"
     ]
    },
    {
     "data": {
      "application/vnd.jupyter.widget-view+json": {
       "model_id": "23fff5fbd3174b7180da4397d5058a45",
       "version_major": 2,
       "version_minor": 0
      },
      "text/plain": [
       "HBox(children=(IntProgress(value=1, bar_style='info', max=1), HTML(value='')))"
      ]
     },
     "metadata": {},
     "output_type": "display_data"
    },
    {
     "data": {
      "application/vnd.jupyter.widget-view+json": {
       "model_id": "7c06ea54eddd4da3a1caebc58475dce4",
       "version_major": 2,
       "version_minor": 0
      },
      "text/plain": [
       "HBox(children=(IntProgress(value=1, bar_style='info', max=1), HTML(value='')))"
      ]
     },
     "metadata": {},
     "output_type": "display_data"
    },
    {
     "data": {
      "application/vnd.jupyter.widget-view+json": {
       "model_id": "d531f4d2a0304af395b191ecc5cca662",
       "version_major": 2,
       "version_minor": 0
      },
      "text/plain": [
       "HBox(children=(IntProgress(value=1, bar_style='info', max=1), HTML(value='')))"
      ]
     },
     "metadata": {},
     "output_type": "display_data"
    },
    {
     "data": {
      "application/vnd.jupyter.widget-view+json": {
       "model_id": "b74a2464b03046be9768e443010077e5",
       "version_major": 2,
       "version_minor": 0
      },
      "text/plain": [
       "HBox(children=(IntProgress(value=1, bar_style='info', max=1), HTML(value='')))"
      ]
     },
     "metadata": {},
     "output_type": "display_data"
    },
    {
     "data": {
      "application/vnd.jupyter.widget-view+json": {
       "model_id": "6394a94e31364b7e83b322041fe7d783",
       "version_major": 2,
       "version_minor": 0
      },
      "text/plain": [
       "HBox(children=(IntProgress(value=1, bar_style='info', max=1), HTML(value='')))"
      ]
     },
     "metadata": {},
     "output_type": "display_data"
    },
    {
     "name": "stdout",
     "output_type": "stream",
     "text": [
      "https://blog.naver.com/rose101988/221665362159 블로그의 본문 크롤링 성공!\n",
      "\n",
      "\n",
      "현재까지 저장된 본문의 개수:  323 \n",
      "\n",
      "https://blog.naver.com/lovelove1191/221698740703 블로그의 본문 크롤링 성공!\n",
      "\n",
      "\n",
      "현재까지 저장된 본문의 개수:  324 \n",
      "\n",
      "https://blog.naver.com/hans_way/221727877231 블로그의 본문 크롤링 성공!\n",
      "\n",
      "\n",
      "현재까지 저장된 본문의 개수:  325 \n",
      "\n",
      "https://blog.naver.com/bbbbbu/221732176577 블로그의 본문 크롤링 성공!\n",
      "\n",
      "\n",
      "현재까지 저장된 본문의 개수:  326 \n",
      "\n",
      "https://blog.naver.com/ghdwls84/221534276891 블로그의 본문 크롤링 성공!\n",
      "\n",
      "\n",
      "현재까지 저장된 본문의 개수:  327 \n",
      "\n",
      "330 ~ 334의 블로그 본문 크롤링을 시작합니다.\n",
      "\n",
      " 이철헤어커커 잠실신천2호점 의 https://blog.naver.com/pet0115/221532005731 블로그의 본문 크롤링 중...\n",
      "\n",
      "\n",
      " 이철헤어커커 잠실신천2호점 의 https://blog.naver.com/hyuni818/221618507527 블로그의 본문 크롤링 중...\n",
      "\n",
      "\n",
      " 이철헤어커커 잠실신천2호점 의 https://blog.naver.com/sogidenty/221534542787 블로그의 본문 크롤링 중...\n",
      "\n",
      "\n",
      " 이철헤어커커 잠실신천2호점 의 https://blog.naver.com/ekek9812/221876377708 블로그의 본문 크롤링 중...\n",
      "\n",
      "\n",
      " 이철헤어커커 잠실신천2호점 의 https://blog.naver.com/yoon3358/221893033992 블로그의 본문 크롤링 중...\n",
      "\n"
     ]
    },
    {
     "data": {
      "application/vnd.jupyter.widget-view+json": {
       "model_id": "313e5cba02844fb2938a8a79e8395a28",
       "version_major": 2,
       "version_minor": 0
      },
      "text/plain": [
       "HBox(children=(IntProgress(value=1, bar_style='info', max=1), HTML(value='')))"
      ]
     },
     "metadata": {},
     "output_type": "display_data"
    },
    {
     "data": {
      "application/vnd.jupyter.widget-view+json": {
       "model_id": "8a8ac16d94f74cd3b24e033f6ee6f9c9",
       "version_major": 2,
       "version_minor": 0
      },
      "text/plain": [
       "HBox(children=(IntProgress(value=1, bar_style='info', max=1), HTML(value='')))"
      ]
     },
     "metadata": {},
     "output_type": "display_data"
    },
    {
     "data": {
      "application/vnd.jupyter.widget-view+json": {
       "model_id": "4ea835a6c6634d5ebb9568e670be4a8c",
       "version_major": 2,
       "version_minor": 0
      },
      "text/plain": [
       "HBox(children=(IntProgress(value=1, bar_style='info', max=1), HTML(value='')))"
      ]
     },
     "metadata": {},
     "output_type": "display_data"
    },
    {
     "data": {
      "application/vnd.jupyter.widget-view+json": {
       "model_id": "5f65b026d8344c3ebea2297c1b198789",
       "version_major": 2,
       "version_minor": 0
      },
      "text/plain": [
       "HBox(children=(IntProgress(value=1, bar_style='info', max=1), HTML(value='')))"
      ]
     },
     "metadata": {},
     "output_type": "display_data"
    },
    {
     "data": {
      "application/vnd.jupyter.widget-view+json": {
       "model_id": "16087fde110e4177ae7bd65acd448903",
       "version_major": 2,
       "version_minor": 0
      },
      "text/plain": [
       "HBox(children=(IntProgress(value=1, bar_style='info', max=1), HTML(value='')))"
      ]
     },
     "metadata": {},
     "output_type": "display_data"
    },
    {
     "name": "stdout",
     "output_type": "stream",
     "text": [
      "https://blog.naver.com/pet0115/221532005731https://blog.naver.com/sogidenty/221534542787  블로그의 본문 크롤링 성공!\n",
      "블로그의 본문 크롤링 성공!\n",
      "\n",
      "\n",
      "\n",
      "현재까지 저장된 본문의 개수: \n",
      " 현재까지 저장된 본문의 개수: 328 \n",
      " \n",
      "328 \n",
      "\n",
      "https://blog.naver.com/yoon3358/221893033992 블로그의 본문 크롤링 성공!\n",
      "\n",
      "\n",
      "현재까지 저장된 본문의 개수:  329 \n",
      "\n",
      "https://blog.naver.com/ekek9812/221876377708 블로그의 본문 크롤링 성공!\n",
      "\n",
      "\n",
      "현재까지 저장된 본문의 개수:  330 \n",
      "\n",
      "https://blog.naver.com/hyuni818/221618507527 블로그의 본문 크롤링 성공!\n",
      "\n",
      "\n",
      "현재까지 저장된 본문의 개수:  331 \n",
      "\n",
      "335 ~ 339의 블로그 본문 크롤링을 시작합니다.\n",
      "\n",
      " 이철헤어커커 잠실신천2호점 의 https://blog.naver.com/ai1337/221829644883 블로그의 본문 크롤링 중...\n",
      "\n",
      "\n",
      " 이철헤어커커 잠실신천2호점 의 https://blog.naver.com/yeojin2595/221824555138 블로그의 본문 크롤링 중...\n",
      "\n",
      "\n",
      " 이철헤어커커 잠실신천2호점 의 https://blog.naver.com/mini320/130174496194 블로그의 본문 크롤링 중...\n",
      "\n",
      "\n",
      "\n",
      "  이철헤어커커 잠실신천2호점이철헤어커커 잠실신천2호점 의 의  https://blog.naver.com/mj900205/221843043459 https://blog.naver.com/eattrend_muse/221871330560블로그의 본문 크롤링 중...\n",
      " \n",
      "블로그의 본문 크롤링 중...\n",
      "\n"
     ]
    },
    {
     "data": {
      "application/vnd.jupyter.widget-view+json": {
       "model_id": "4f367e87f5014fd3992f21adb66abf27",
       "version_major": 2,
       "version_minor": 0
      },
      "text/plain": [
       "HBox(children=(IntProgress(value=1, bar_style='info', max=1), HTML(value='')))"
      ]
     },
     "metadata": {},
     "output_type": "display_data"
    },
    {
     "data": {
      "application/vnd.jupyter.widget-view+json": {
       "model_id": "e35eadb1336a474089b92c304cca6a10",
       "version_major": 2,
       "version_minor": 0
      },
      "text/plain": [
       "HBox(children=(IntProgress(value=1, bar_style='info', max=1), HTML(value='')))"
      ]
     },
     "metadata": {},
     "output_type": "display_data"
    },
    {
     "data": {
      "application/vnd.jupyter.widget-view+json": {
       "model_id": "c193522076ed4fe2a0ac0573134ed10d",
       "version_major": 2,
       "version_minor": 0
      },
      "text/plain": [
       "HBox(children=(IntProgress(value=1, bar_style='info', max=1), HTML(value='')))"
      ]
     },
     "metadata": {},
     "output_type": "display_data"
    },
    {
     "data": {
      "application/vnd.jupyter.widget-view+json": {
       "model_id": "b1bc93b8076b495a99f7d2231cdde2e8",
       "version_major": 2,
       "version_minor": 0
      },
      "text/plain": [
       "HBox(children=(IntProgress(value=1, bar_style='info', max=1), HTML(value='')))"
      ]
     },
     "metadata": {},
     "output_type": "display_data"
    },
    {
     "data": {
      "application/vnd.jupyter.widget-view+json": {
       "model_id": "1472ae64525c4f2898f119aeb4f81409",
       "version_major": 2,
       "version_minor": 0
      },
      "text/plain": [
       "HBox(children=(IntProgress(value=1, bar_style='info', max=1), HTML(value='')))"
      ]
     },
     "metadata": {},
     "output_type": "display_data"
    },
    {
     "name": "stdout",
     "output_type": "stream",
     "text": [
      "https://blog.naver.com/ai1337/221829644883 블로그의 본문 크롤링 성공!\n",
      "\n",
      "\n",
      "현재까지 저장된 본문의 개수:  332 \n",
      "\n",
      "https://blog.naver.com/mini320/130174496194 블로그의 본문 크롤링 성공!\n",
      "\n",
      "\n",
      "https://blog.naver.com/yeojin2595/221824555138현재까지 저장된 본문의 개수:   블로그의 본문 크롤링 성공!\n",
      "\n",
      "334\n",
      " 현재까지 저장된 본문의 개수: \n",
      "\n",
      " 334 \n",
      "\n",
      "https://blog.naver.com/mj900205/221843043459 블로그의 본문 크롤링 성공!\n",
      "\n",
      "\n",
      "현재까지 저장된 본문의 개수:  335 \n",
      "\n",
      "https://blog.naver.com/eattrend_muse/221871330560 블로그의 본문 크롤링 성공!\n",
      "\n",
      "\n",
      "현재까지 저장된 본문의 개수:  336 \n",
      "\n",
      "340 ~ 344의 블로그 본문 크롤링을 시작합니다.\n",
      "\n",
      " 이철헤어커커 잠실신천2호점 의 https://blog.naver.com/athena0930/221772186085 블로그의 본문 크롤링 중...\n",
      "\n",
      "\n",
      " 이철헤어커커 잠실신천2호점 의 https://blog.naver.com/duswjdgood/221795952016 블로그의 본문 크롤링 중...\n",
      "\n",
      "\n",
      " 이철헤어커커 잠실신천2호점 의 https://blog.naver.com/nys1944/221879937331 블로그의 본문 크롤링 중...\n",
      "\n",
      "\n",
      " 이철헤어커커 잠실신천2호점 의 https://blog.naver.com/somin0111233/221813081889 블로그의 본문 크롤링 중...\n",
      "\n",
      "\n",
      " 이철헤어커커 잠실신천2호점 의 https://blog.naver.com/citrus_j/221860441410 블로그의 본문 크롤링 중...\n",
      "\n"
     ]
    },
    {
     "data": {
      "application/vnd.jupyter.widget-view+json": {
       "model_id": "e54112b5019d461288fd32dd83ba6115",
       "version_major": 2,
       "version_minor": 0
      },
      "text/plain": [
       "HBox(children=(IntProgress(value=1, bar_style='info', max=1), HTML(value='')))"
      ]
     },
     "metadata": {},
     "output_type": "display_data"
    },
    {
     "data": {
      "application/vnd.jupyter.widget-view+json": {
       "model_id": "3c0e9bf024a94737ac6e318b2280cac6",
       "version_major": 2,
       "version_minor": 0
      },
      "text/plain": [
       "HBox(children=(IntProgress(value=1, bar_style='info', max=1), HTML(value='')))"
      ]
     },
     "metadata": {},
     "output_type": "display_data"
    },
    {
     "data": {
      "application/vnd.jupyter.widget-view+json": {
       "model_id": "3c09e23d41e941e89931333d9f4520a2",
       "version_major": 2,
       "version_minor": 0
      },
      "text/plain": [
       "HBox(children=(IntProgress(value=1, bar_style='info', max=1), HTML(value='')))"
      ]
     },
     "metadata": {},
     "output_type": "display_data"
    },
    {
     "data": {
      "application/vnd.jupyter.widget-view+json": {
       "model_id": "9ed11bcebafc428eb2f1f06ced3f940d",
       "version_major": 2,
       "version_minor": 0
      },
      "text/plain": [
       "HBox(children=(IntProgress(value=1, bar_style='info', max=1), HTML(value='')))"
      ]
     },
     "metadata": {},
     "output_type": "display_data"
    },
    {
     "data": {
      "application/vnd.jupyter.widget-view+json": {
       "model_id": "3eef337fffcc4406a217b4bb2c996033",
       "version_major": 2,
       "version_minor": 0
      },
      "text/plain": [
       "HBox(children=(IntProgress(value=1, bar_style='info', max=1), HTML(value='')))"
      ]
     },
     "metadata": {},
     "output_type": "display_data"
    },
    {
     "name": "stdout",
     "output_type": "stream",
     "text": [
      "https://blog.naver.com/athena0930/221772186085 https://blog.naver.com/duswjdgood/221795952016블로그의 본문 크롤링 성공!\n",
      " 블로그의 본문 크롤링 성공!\n",
      "\n",
      "\n",
      "\n",
      "현재까지 저장된 본문의 개수: \n",
      " 현재까지 저장된 본문의 개수: 338  338\n",
      "\n",
      " \n",
      "\n",
      "https://blog.naver.com/nys1944/221879937331 블로그의 본문 크롤링 성공!\n",
      "\n",
      "\n",
      "현재까지 저장된 본문의 개수:  339 \n",
      "\n",
      "https://blog.naver.com/citrus_j/221860441410 블로그의 본문 크롤링 성공!\n",
      "\n",
      "\n",
      "현재까지 저장된 본문의 개수:  340 \n",
      "\n",
      "https://blog.naver.com/somin0111233/221813081889 블로그의 본문 크롤링 성공!\n",
      "\n",
      "\n",
      "현재까지 저장된 본문의 개수:  341 \n",
      "\n",
      "345 ~ 349의 블로그 본문 크롤링을 시작합니다.\n",
      "\n",
      " 이철헤어커커 잠실신천2호점 의 https://blog.naver.com/rautrecinme/221831300762 블로그의 본문 크롤링 중...\n",
      "\n",
      "\n",
      " 이철헤어커커 잠실신천2호점 의 https://blog.naver.com/carrysoda/221731708499 블로그의 본문 크롤링 중...\n",
      "\n",
      "\n",
      " 이철헤어커커 잠실신천2호점 의 https://blog.naver.com/tnwjd93200/221723678889 블로그의 본문 크롤링 중...\n",
      "\n",
      "\n",
      " 이철헤어커커 잠실신천2호점 의 https://blog.naver.com/manimogo_/221818762694 블로그의 본문 크롤링 중...\n",
      "\n",
      "\n",
      " 이철헤어커커 잠실신천2호점 의 https://blog.naver.com/kimny0503/221819476663 블로그의 본문 크롤링 중...\n",
      "\n"
     ]
    },
    {
     "data": {
      "application/vnd.jupyter.widget-view+json": {
       "model_id": "7bcdb4a077d8435e955177e0695a0fb8",
       "version_major": 2,
       "version_minor": 0
      },
      "text/plain": [
       "HBox(children=(IntProgress(value=1, bar_style='info', max=1), HTML(value='')))"
      ]
     },
     "metadata": {},
     "output_type": "display_data"
    },
    {
     "data": {
      "application/vnd.jupyter.widget-view+json": {
       "model_id": "382f71370ded436194c9e2ab3161ad80",
       "version_major": 2,
       "version_minor": 0
      },
      "text/plain": [
       "HBox(children=(IntProgress(value=1, bar_style='info', max=1), HTML(value='')))"
      ]
     },
     "metadata": {},
     "output_type": "display_data"
    },
    {
     "data": {
      "application/vnd.jupyter.widget-view+json": {
       "model_id": "117ce8ec7d93433595c87d0c93bd838a",
       "version_major": 2,
       "version_minor": 0
      },
      "text/plain": [
       "HBox(children=(IntProgress(value=1, bar_style='info', max=1), HTML(value='')))"
      ]
     },
     "metadata": {},
     "output_type": "display_data"
    },
    {
     "data": {
      "application/vnd.jupyter.widget-view+json": {
       "model_id": "cd836689008842f3af7a8ffc2814e4cf",
       "version_major": 2,
       "version_minor": 0
      },
      "text/plain": [
       "HBox(children=(IntProgress(value=1, bar_style='info', max=1), HTML(value='')))"
      ]
     },
     "metadata": {},
     "output_type": "display_data"
    },
    {
     "data": {
      "application/vnd.jupyter.widget-view+json": {
       "model_id": "c03cae8801fb430c970019df6955aa7b",
       "version_major": 2,
       "version_minor": 0
      },
      "text/plain": [
       "HBox(children=(IntProgress(value=1, bar_style='info', max=1), HTML(value='')))"
      ]
     },
     "metadata": {},
     "output_type": "display_data"
    },
    {
     "name": "stdout",
     "output_type": "stream",
     "text": [
      "https://blog.naver.com/tnwjd93200/221723678889 블로그의 본문 크롤링 성공!\n",
      "\n",
      "\n",
      "https://blog.naver.com/rautrecinme/221831300762현재까지 저장된 본문의 개수:   블로그의 본문 크롤링 성공!\n",
      "343\n",
      " \n",
      "\n",
      "\n",
      "현재까지 저장된 본문의 개수:  343 \n",
      "\n",
      "https://blog.naver.com/carrysoda/221731708499https://blog.naver.com/kimny0503/221819476663  블로그의 본문 크롤링 성공!\n",
      "\n",
      "블로그의 본문 크롤링 성공!\n",
      "\n",
      "\n",
      "현재까지 저장된 본문의 개수: \n",
      " 현재까지 저장된 본문의 개수: 344  344\n",
      " \n",
      "\n",
      "\n",
      "https://blog.naver.com/manimogo_/221818762694 블로그의 본문 크롤링 성공!\n",
      "\n",
      "\n",
      "현재까지 저장된 본문의 개수:  345 \n",
      "\n",
      "350 ~ 354의 블로그 본문 크롤링을 시작합니다.\n",
      "\n",
      " 이철헤어커커 잠실신천2호점 의 https://blog.naver.com/chfhrl1021/221697330396 블로그의 본문 크롤링 중...\n",
      "\n",
      "\n",
      " 이철헤어커커 잠실신천2호점 의 https://blog.naver.com/xi_ann/221760627893 블로그의 본문 크롤링 중...\n",
      "\n",
      "\n",
      " 이철헤어커커 잠실신천2호점 의 https://blog.naver.com/vosks0201/221795689651 블로그의 본문 크롤링 중...\n",
      "\n",
      "\n",
      " 이철헤어커커 잠실신천2호점 의 https://blog.naver.com/eunyurii/221698136389 블로그의 본문 크롤링 중...\n",
      "\n",
      "\n",
      " 이철헤어커커 잠실신천2호점 의 https://blog.naver.com/yu_jinz/221722135747 블로그의 본문 크롤링 중...\n",
      "\n"
     ]
    },
    {
     "data": {
      "application/vnd.jupyter.widget-view+json": {
       "model_id": "7602c3f44a2d495a90b631ad597d8c3f",
       "version_major": 2,
       "version_minor": 0
      },
      "text/plain": [
       "HBox(children=(IntProgress(value=1, bar_style='info', max=1), HTML(value='')))"
      ]
     },
     "metadata": {},
     "output_type": "display_data"
    },
    {
     "data": {
      "application/vnd.jupyter.widget-view+json": {
       "model_id": "e6b0b80c807a4036bd0c8721b59b26b0",
       "version_major": 2,
       "version_minor": 0
      },
      "text/plain": [
       "HBox(children=(IntProgress(value=1, bar_style='info', max=1), HTML(value='')))"
      ]
     },
     "metadata": {},
     "output_type": "display_data"
    },
    {
     "data": {
      "application/vnd.jupyter.widget-view+json": {
       "model_id": "e9f5eb9e6aa54738ab8892cb2418980e",
       "version_major": 2,
       "version_minor": 0
      },
      "text/plain": [
       "HBox(children=(IntProgress(value=1, bar_style='info', max=1), HTML(value='')))"
      ]
     },
     "metadata": {},
     "output_type": "display_data"
    },
    {
     "data": {
      "application/vnd.jupyter.widget-view+json": {
       "model_id": "646f04ba52e846c087f6a6c4ff610036",
       "version_major": 2,
       "version_minor": 0
      },
      "text/plain": [
       "HBox(children=(IntProgress(value=1, bar_style='info', max=1), HTML(value='')))"
      ]
     },
     "metadata": {},
     "output_type": "display_data"
    },
    {
     "data": {
      "application/vnd.jupyter.widget-view+json": {
       "model_id": "40eb23ec5f1c4700a956645777aaaf0c",
       "version_major": 2,
       "version_minor": 0
      },
      "text/plain": [
       "HBox(children=(IntProgress(value=1, bar_style='info', max=1), HTML(value='')))"
      ]
     },
     "metadata": {},
     "output_type": "display_data"
    },
    {
     "name": "stdout",
     "output_type": "stream",
     "text": [
      "https://blog.naver.com/xi_ann/221760627893 블로그의 본문 크롤링 성공!\n",
      "\n",
      "\n",
      "현재까지 저장된 본문의 개수:  346 \n",
      "\n",
      "https://blog.naver.com/chfhrl1021/221697330396 블로그의 본문 크롤링 성공!\n",
      "\n",
      "\n",
      "현재까지 저장된 본문의 개수:  347 \n",
      "\n",
      "https://blog.naver.com/vosks0201/221795689651 블로그의 본문 크롤링 성공!\n",
      "\n",
      "\n",
      "현재까지 저장된 본문의 개수:  348 \n",
      "\n",
      "https://blog.naver.com/eunyurii/221698136389 블로그의 본문 크롤링 성공!\n",
      "\n",
      "\n",
      "현재까지 저장된 본문의 개수:  349 \n",
      "\n",
      "https://blog.naver.com/yu_jinz/221722135747 블로그의 본문 크롤링 성공!\n",
      "\n",
      "\n",
      "현재까지 저장된 본문의 개수:  350 \n",
      "\n",
      "355 ~ 359의 블로그 본문 크롤링을 시작합니다.\n",
      "\n",
      " 이철헤어커커 잠실신천2호점 의 https://blog.naver.com/1211asdw/221713822799 블로그의 본문 크롤링 중...\n",
      "\n",
      "\n",
      " 이철헤어커커 잠실신천2호점 의 https://blog.naver.com/1wjdgusdl/221714011235 블로그의 본문 크롤링 중...\n",
      "\n",
      "\n",
      " 이철헤어커커 잠실신천2호점 의 https://blog.naver.com/kckey/221761638553 블로그의 본문 크롤링 중...\n",
      "\n",
      "\n",
      " 이철헤어커커 잠실신천2호점 의 https://blog.naver.com/addall2019/221739020033 블로그의 본문 크롤링 중...\n",
      "\n",
      "\n",
      " 이철헤어커커 잠실신천2호점 의 https://blog.naver.com/eju5782/221519903593 블로그의 본문 크롤링 중...\n",
      "\n"
     ]
    },
    {
     "data": {
      "application/vnd.jupyter.widget-view+json": {
       "model_id": "aeee3e4eeed4499392476e0978be792b",
       "version_major": 2,
       "version_minor": 0
      },
      "text/plain": [
       "HBox(children=(IntProgress(value=1, bar_style='info', max=1), HTML(value='')))"
      ]
     },
     "metadata": {},
     "output_type": "display_data"
    },
    {
     "data": {
      "application/vnd.jupyter.widget-view+json": {
       "model_id": "90f8ba2617e243e2a391841290f2bed4",
       "version_major": 2,
       "version_minor": 0
      },
      "text/plain": [
       "HBox(children=(IntProgress(value=1, bar_style='info', max=1), HTML(value='')))"
      ]
     },
     "metadata": {},
     "output_type": "display_data"
    },
    {
     "data": {
      "application/vnd.jupyter.widget-view+json": {
       "model_id": "50d4ea167c6443d6a9ec8ef16851c0e1",
       "version_major": 2,
       "version_minor": 0
      },
      "text/plain": [
       "HBox(children=(IntProgress(value=1, bar_style='info', max=1), HTML(value='')))"
      ]
     },
     "metadata": {},
     "output_type": "display_data"
    },
    {
     "data": {
      "application/vnd.jupyter.widget-view+json": {
       "model_id": "46545d4682144a219dddcc4a1b57ad9f",
       "version_major": 2,
       "version_minor": 0
      },
      "text/plain": [
       "HBox(children=(IntProgress(value=1, bar_style='info', max=1), HTML(value='')))"
      ]
     },
     "metadata": {},
     "output_type": "display_data"
    },
    {
     "data": {
      "application/vnd.jupyter.widget-view+json": {
       "model_id": "013aefcfcaaa4e0f9d7aacfc28edaacb",
       "version_major": 2,
       "version_minor": 0
      },
      "text/plain": [
       "HBox(children=(IntProgress(value=1, bar_style='info', max=1), HTML(value='')))"
      ]
     },
     "metadata": {},
     "output_type": "display_data"
    },
    {
     "name": "stdout",
     "output_type": "stream",
     "text": [
      "https://blog.naver.com/1211asdw/221713822799 블로그의 본문 크롤링 성공!\n",
      "https://blog.naver.com/kckey/221761638553 \n",
      "블로그의 본문 크롤링 성공!\n",
      "\n",
      "\n",
      "현재까지 저장된 본문의 개수: \n",
      " 현재까지 저장된 본문의 개수: 352  352\n",
      "\n",
      " \n",
      "\n",
      "https://blog.naver.com/addall2019/221739020033 블로그의 본문 크롤링 성공!\n",
      "\n",
      "\n",
      "현재까지 저장된 본문의 개수:  353 \n",
      "\n",
      "https://blog.naver.com/1wjdgusdl/221714011235 블로그의 본문 크롤링 성공!\n",
      "\n",
      "https://blog.naver.com/eju5782/221519903593\n",
      " 현재까지 저장된 본문의 개수: 블로그의 본문 크롤링 성공!\n",
      " \n",
      "\n",
      "355 현재까지 저장된 본문의 개수: \n",
      " \n",
      "355 \n",
      "\n",
      "360 ~ 364의 블로그 본문 크롤링을 시작합니다.\n",
      "\n",
      " 이철헤어커커 잠실신천2호점 의 https://blog.naver.com/gksquf1711/221575191082 블로그의 본문 크롤링 중...\n",
      "\n",
      "\n",
      " 이철헤어커커 잠실신천2호점 의 https://blog.naver.com/l6april/221701593243 블로그의 본문 크롤링 중...\n",
      "\n",
      "\n",
      " 이철헤어커커 잠실신천2호점 의 https://blog.naver.com/minie1016/221708524196 블로그의 본문 크롤링 중...\n",
      "\n",
      "\n",
      " 이철헤어커커 잠실신천2호점 의 https://blog.naver.com/kkkkii999/221705244591 블로그의 본문 크롤링 중...\n",
      "\n",
      "\n",
      " 이철헤어커커 잠실신천2호점 의 https://blog.naver.com/pqlng/221614392928 블로그의 본문 크롤링 중...\n",
      "\n"
     ]
    },
    {
     "data": {
      "application/vnd.jupyter.widget-view+json": {
       "model_id": "a1ae4867bb8c44c5a9ffd3faefdd2aca",
       "version_major": 2,
       "version_minor": 0
      },
      "text/plain": [
       "HBox(children=(IntProgress(value=1, bar_style='info', max=1), HTML(value='')))"
      ]
     },
     "metadata": {},
     "output_type": "display_data"
    },
    {
     "data": {
      "application/vnd.jupyter.widget-view+json": {
       "model_id": "83b4839efb6a4e1fadea0df01f458663",
       "version_major": 2,
       "version_minor": 0
      },
      "text/plain": [
       "HBox(children=(IntProgress(value=1, bar_style='info', max=1), HTML(value='')))"
      ]
     },
     "metadata": {},
     "output_type": "display_data"
    },
    {
     "data": {
      "application/vnd.jupyter.widget-view+json": {
       "model_id": "20e883d8bc4e4308982640bd2635a62f",
       "version_major": 2,
       "version_minor": 0
      },
      "text/plain": [
       "HBox(children=(IntProgress(value=1, bar_style='info', max=1), HTML(value='')))"
      ]
     },
     "metadata": {},
     "output_type": "display_data"
    },
    {
     "data": {
      "application/vnd.jupyter.widget-view+json": {
       "model_id": "3248b98632694ef69c763abdd5378408",
       "version_major": 2,
       "version_minor": 0
      },
      "text/plain": [
       "HBox(children=(IntProgress(value=1, bar_style='info', max=1), HTML(value='')))"
      ]
     },
     "metadata": {},
     "output_type": "display_data"
    },
    {
     "data": {
      "application/vnd.jupyter.widget-view+json": {
       "model_id": "b902397411834b2ba56248bcf091fa36",
       "version_major": 2,
       "version_minor": 0
      },
      "text/plain": [
       "HBox(children=(IntProgress(value=1, bar_style='info', max=1), HTML(value='')))"
      ]
     },
     "metadata": {},
     "output_type": "display_data"
    },
    {
     "name": "stdout",
     "output_type": "stream",
     "text": [
      "잘못된 접근이거나 삭제된 게시물입니다.\n",
      "다음 블로그 크롤링을 진행합니다.https://blog.naver.com/gksquf1711/221575191082\n",
      " 현재까지 저장된 본문의 개수: 블로그의 본문 크롤링 성공!\n",
      "\n",
      " \n",
      "356현재까지 저장된 본문의 개수:   \n",
      "\n",
      "356 \n",
      "\n",
      "https://blog.naver.com/kkkkii999/221705244591 블로그의 본문 크롤링 성공!\n",
      "\n",
      "\n",
      "현재까지 저장된 본문의 개수:  357 \n",
      "\n",
      "https://blog.naver.com/minie1016/221708524196 블로그의 본문 크롤링 성공!\n",
      "\n",
      "\n",
      "현재까지 저장된 본문의 개수:  358 \n",
      "\n",
      "https://blog.naver.com/l6april/221701593243 블로그의 본문 크롤링 성공!\n",
      "\n",
      "\n",
      "현재까지 저장된 본문의 개수:  359 \n",
      "\n",
      "365 ~ 369의 블로그 본문 크롤링을 시작합니다.\n",
      "\n",
      " 이철헤어커커 잠실신천2호점 의 https://blog.naver.com/yu0845/221695268080 블로그의 본문 크롤링 중...\n",
      "\n",
      "\n",
      " 이철헤어커커 잠실신천2호점 의 https://blog.naver.com/kby8933/221688692671 \n",
      "블로그의 본문 크롤링 중...\n",
      " \n",
      "이철헤어커커 잠실신천2호점 의 https://blog.naver.com/alvvvays/221691416105 블로그의 본문 크롤링 중...\n",
      "\n",
      "\n",
      " 이철헤어커커 잠실신천2호점 의 https://blog.naver.com/soohyun1010/221680081953 블로그의 본문 크롤링 중...\n",
      "\n",
      "\n",
      " 이철헤어커커 잠실신천2호점 의 https://blog.naver.com/defying_gravity_1123/221622428064 블로그의 본문 크롤링 중...\n",
      "\n"
     ]
    },
    {
     "data": {
      "application/vnd.jupyter.widget-view+json": {
       "model_id": "8867bd206d2f4a688e814cae5249e305",
       "version_major": 2,
       "version_minor": 0
      },
      "text/plain": [
       "HBox(children=(IntProgress(value=1, bar_style='info', max=1), HTML(value='')))"
      ]
     },
     "metadata": {},
     "output_type": "display_data"
    },
    {
     "data": {
      "application/vnd.jupyter.widget-view+json": {
       "model_id": "3328e810906a47a3ab2b2a2822a3d7a1",
       "version_major": 2,
       "version_minor": 0
      },
      "text/plain": [
       "HBox(children=(IntProgress(value=1, bar_style='info', max=1), HTML(value='')))"
      ]
     },
     "metadata": {},
     "output_type": "display_data"
    },
    {
     "data": {
      "application/vnd.jupyter.widget-view+json": {
       "model_id": "408ef3a41109466c8636a715fe1991c3",
       "version_major": 2,
       "version_minor": 0
      },
      "text/plain": [
       "HBox(children=(IntProgress(value=1, bar_style='info', max=1), HTML(value='')))"
      ]
     },
     "metadata": {},
     "output_type": "display_data"
    },
    {
     "data": {
      "application/vnd.jupyter.widget-view+json": {
       "model_id": "74acbbd77c1d4844a74d554f2ca93f8f",
       "version_major": 2,
       "version_minor": 0
      },
      "text/plain": [
       "HBox(children=(IntProgress(value=1, bar_style='info', max=1), HTML(value='')))"
      ]
     },
     "metadata": {},
     "output_type": "display_data"
    },
    {
     "data": {
      "application/vnd.jupyter.widget-view+json": {
       "model_id": "9cc4eb61f4444739b3ea3bd2ea0aa1ca",
       "version_major": 2,
       "version_minor": 0
      },
      "text/plain": [
       "HBox(children=(IntProgress(value=1, bar_style='info', max=1), HTML(value='')))"
      ]
     },
     "metadata": {},
     "output_type": "display_data"
    },
    {
     "name": "stdout",
     "output_type": "stream",
     "text": [
      "https://blog.naver.com/yu0845/221695268080 블로그의 본문 크롤링 성공!\n",
      "\n",
      "\n",
      "현재까지 저장된 본문의 개수:  360 \n",
      "\n",
      "https://blog.naver.com/alvvvays/221691416105 블로그의 본문 크롤링 성공!\n",
      "\n",
      "\n",
      "현재까지 저장된 본문의 개수:  361 \n",
      "\n",
      "https://blog.naver.com/kby8933/221688692671 블로그의 본문 크롤링 성공!\n",
      "\n",
      "\n",
      "현재까지 저장된 본문의 개수:  362 \n",
      "\n",
      "https://blog.naver.com/defying_gravity_1123/221622428064 블로그의 본문 크롤링 성공!\n",
      "\n",
      "\n",
      "현재까지 저장된 본문의 개수:  363 \n",
      "\n",
      "https://blog.naver.com/soohyun1010/221680081953 블로그의 본문 크롤링 성공!\n",
      "\n",
      "\n",
      "현재까지 저장된 본문의 개수:  364 \n",
      "\n",
      "370 ~ 374의 블로그 본문 크롤링을 시작합니다.\n",
      "\n",
      " 이철헤어커커 잠실신천2호점 의 https://blog.naver.com/sweetlovey22/221646184222 블로그의 본문 크롤링 중...\n",
      "\n",
      "\n",
      " 이철헤어커커 잠실신천2호점 의 https://blog.naver.com/eydlekd00/221662311953 블로그의 본문 크롤링 중...\n",
      "\n",
      "\n",
      " 이철헤어커커 잠실신천2호점 의 https://blog.naver.com/dasomsin/221565451231 블로그의 본문 크롤링 중...\n",
      "\n",
      "\n",
      " 이철헤어커커 잠실신천2호점 의 https://blog.naver.com/hjnam72/221708350572 블로그의 본문 크롤링 중...\n",
      "\n",
      "\n",
      " 이철헤어커커 잠실신천2호점 의 https://blog.naver.com/jean1317/221531619239 블로그의 본문 크롤링 중...\n",
      "\n"
     ]
    },
    {
     "data": {
      "application/vnd.jupyter.widget-view+json": {
       "model_id": "ce60876252f0419a8dedcf0ca228e4b4",
       "version_major": 2,
       "version_minor": 0
      },
      "text/plain": [
       "HBox(children=(IntProgress(value=1, bar_style='info', max=1), HTML(value='')))"
      ]
     },
     "metadata": {},
     "output_type": "display_data"
    },
    {
     "data": {
      "application/vnd.jupyter.widget-view+json": {
       "model_id": "bf33f97a9d8c4f1983b1dff20f8a746a",
       "version_major": 2,
       "version_minor": 0
      },
      "text/plain": [
       "HBox(children=(IntProgress(value=1, bar_style='info', max=1), HTML(value='')))"
      ]
     },
     "metadata": {},
     "output_type": "display_data"
    },
    {
     "data": {
      "application/vnd.jupyter.widget-view+json": {
       "model_id": "e06f902e2663474994baef60685d62bc",
       "version_major": 2,
       "version_minor": 0
      },
      "text/plain": [
       "HBox(children=(IntProgress(value=1, bar_style='info', max=1), HTML(value='')))"
      ]
     },
     "metadata": {},
     "output_type": "display_data"
    },
    {
     "data": {
      "application/vnd.jupyter.widget-view+json": {
       "model_id": "bc1f92b4df934260ad894bf3232e4b55",
       "version_major": 2,
       "version_minor": 0
      },
      "text/plain": [
       "HBox(children=(IntProgress(value=1, bar_style='info', max=1), HTML(value='')))"
      ]
     },
     "metadata": {},
     "output_type": "display_data"
    },
    {
     "data": {
      "application/vnd.jupyter.widget-view+json": {
       "model_id": "71d56d8a5adb4d37875879c1355607f4",
       "version_major": 2,
       "version_minor": 0
      },
      "text/plain": [
       "HBox(children=(IntProgress(value=1, bar_style='info', max=1), HTML(value='')))"
      ]
     },
     "metadata": {},
     "output_type": "display_data"
    },
    {
     "name": "stdout",
     "output_type": "stream",
     "text": [
      "https://blog.naver.com/sweetlovey22/221646184222 블로그의 본문 크롤링 성공!\n",
      "\n",
      "\n",
      "현재까지 저장된 본문의 개수: https://blog.naver.com/dasomsin/221565451231  블로그의 본문 크롤링 성공!\n",
      "365 \n",
      "\n",
      "\n",
      "\n",
      "현재까지 저장된 본문의 개수:  366 \n",
      "\n",
      "https://blog.naver.com/hjnam72/221708350572https://blog.naver.com/jean1317/221531619239  블로그의 본문 크롤링 성공!\n",
      "\n",
      "블로그의 본문 크롤링 성공!\n",
      "\n",
      "\n",
      "현재까지 저장된 본문의 개수: \n",
      " 367현재까지 저장된 본문의 개수:   \n",
      "\n",
      "367 \n",
      "\n",
      "https://blog.naver.com/eydlekd00/221662311953 블로그의 본문 크롤링 성공!\n",
      "\n",
      "\n",
      "현재까지 저장된 본문의 개수:  368 \n",
      "\n",
      "375 ~ 379의 블로그 본문 크롤링을 시작합니다.\n",
      "\n",
      " 이철헤어커커 잠실신천2호점 의 https://blog.naver.com/gmlwn6544/221626826405\n",
      "  이철헤어커커 잠실신천2호점블로그의 본문 크롤링 중...\n",
      " \n",
      "의 https://blog.naver.com/maybedami/221575047575 블로그의 본문 크롤링 중...\n",
      "\n",
      "\n",
      " 이철헤어커커 잠실신천2호점 의 https://blog.naver.com/silverain322/221468935014 블로그의 본문 크롤링 중...\n",
      "\n",
      "\n",
      " 이철헤어커커 잠실신천2호점 의 https://blog.naver.com/skykjchoi94/221523298209 블로그의 본문 크롤링 중...\n",
      "\n",
      "\n",
      " 이철헤어커커 잠실신천2호점 의 https://blog.naver.com/parmesancheese/221580960568 블로그의 본문 크롤링 중...\n",
      "\n"
     ]
    },
    {
     "data": {
      "application/vnd.jupyter.widget-view+json": {
       "model_id": "04d292804d504233b92524090cc42359",
       "version_major": 2,
       "version_minor": 0
      },
      "text/plain": [
       "HBox(children=(IntProgress(value=1, bar_style='info', max=1), HTML(value='')))"
      ]
     },
     "metadata": {},
     "output_type": "display_data"
    },
    {
     "data": {
      "application/vnd.jupyter.widget-view+json": {
       "model_id": "a30d3c7fc07f439da7b6fe98145d0e26",
       "version_major": 2,
       "version_minor": 0
      },
      "text/plain": [
       "HBox(children=(IntProgress(value=1, bar_style='info', max=1), HTML(value='')))"
      ]
     },
     "metadata": {},
     "output_type": "display_data"
    },
    {
     "data": {
      "application/vnd.jupyter.widget-view+json": {
       "model_id": "d83ffa3775664969913d741e1ff462dc",
       "version_major": 2,
       "version_minor": 0
      },
      "text/plain": [
       "HBox(children=(IntProgress(value=1, bar_style='info', max=1), HTML(value='')))"
      ]
     },
     "metadata": {},
     "output_type": "display_data"
    },
    {
     "data": {
      "application/vnd.jupyter.widget-view+json": {
       "model_id": "e69a45dd652d4114bf1acf673d085751",
       "version_major": 2,
       "version_minor": 0
      },
      "text/plain": [
       "HBox(children=(IntProgress(value=1, bar_style='info', max=1), HTML(value='')))"
      ]
     },
     "metadata": {},
     "output_type": "display_data"
    },
    {
     "data": {
      "application/vnd.jupyter.widget-view+json": {
       "model_id": "7585ee63dd454b77b885cd9492a28a27",
       "version_major": 2,
       "version_minor": 0
      },
      "text/plain": [
       "HBox(children=(IntProgress(value=1, bar_style='info', max=1), HTML(value='')))"
      ]
     },
     "metadata": {},
     "output_type": "display_data"
    },
    {
     "name": "stdout",
     "output_type": "stream",
     "text": [
      "https://blog.naver.com/maybedami/221575047575 블로그의 본문 크롤링 성공!\n",
      "\n",
      "\n",
      "현재까지 저장된 본문의 개수:  369 https://blog.naver.com/gmlwn6544/221626826405\n",
      " 블로그의 본문 크롤링 성공!\n",
      "\n",
      "\n",
      "\n",
      "현재까지 저장된 본문의 개수:  370 \n",
      "\n",
      "https://blog.naver.com/silverain322/221468935014 블로그의 본문 크롤링 성공!\n",
      "\n",
      "\n",
      "현재까지 저장된 본문의 개수:  371 \n",
      "\n",
      "https://blog.naver.com/parmesancheese/221580960568 블로그의 본문 크롤링 성공!\n",
      "\n",
      "\n",
      "https://blog.naver.com/skykjchoi94/221523298209 현재까지 저장된 본문의 개수: 블로그의 본문 크롤링 성공!\n",
      " \n",
      "373 \n",
      "\n",
      "현재까지 저장된 본문의 개수: \n",
      " 373 \n",
      "\n",
      "380 ~ 384의 블로그 본문 크롤링을 시작합니다.\n",
      "\n",
      " 이철헤어커커 잠실신천2호점 의 https://blog.naver.com/kimyangee/130183800316 블로그의 본문 크롤링 중...\n",
      "\n",
      "\n",
      " 이철헤어커커 잠실신천2호점 의 https://blog.naver.com/dhdudql/221484399240 블로그의 본문 크롤링 중...\n",
      "\n",
      "\n",
      " 이철헤어커커 잠실신천2호점 의 https://blog.naver.com/jdc55/221188272285 블로그의 본문 크롤링 중...\n",
      "\n",
      "\n",
      " 이철헤어커커 잠실신천2호점 의 https://blog.naver.com/wldmsdl1113/221524045125 블로그의 본문 크롤링 중...\n",
      "\n",
      "\n",
      " 이철헤어커커 잠실신천2호점 의 https://blog.naver.com/taewoo104/221516343865 블로그의 본문 크롤링 중...\n",
      "\n"
     ]
    },
    {
     "data": {
      "application/vnd.jupyter.widget-view+json": {
       "model_id": "f84007007c3748cfbcef0d0e27d7d291",
       "version_major": 2,
       "version_minor": 0
      },
      "text/plain": [
       "HBox(children=(IntProgress(value=1, bar_style='info', max=1), HTML(value='')))"
      ]
     },
     "metadata": {},
     "output_type": "display_data"
    },
    {
     "data": {
      "application/vnd.jupyter.widget-view+json": {
       "model_id": "9a81717113d34c4ca337c2564fe5dbac",
       "version_major": 2,
       "version_minor": 0
      },
      "text/plain": [
       "HBox(children=(IntProgress(value=1, bar_style='info', max=1), HTML(value='')))"
      ]
     },
     "metadata": {},
     "output_type": "display_data"
    },
    {
     "data": {
      "application/vnd.jupyter.widget-view+json": {
       "model_id": "6716baa259034be495fa6b457de06717",
       "version_major": 2,
       "version_minor": 0
      },
      "text/plain": [
       "HBox(children=(IntProgress(value=1, bar_style='info', max=1), HTML(value='')))"
      ]
     },
     "metadata": {},
     "output_type": "display_data"
    },
    {
     "data": {
      "application/vnd.jupyter.widget-view+json": {
       "model_id": "9f2e84f84dc949068e2cb94e622c3834",
       "version_major": 2,
       "version_minor": 0
      },
      "text/plain": [
       "HBox(children=(IntProgress(value=1, bar_style='info', max=1), HTML(value='')))"
      ]
     },
     "metadata": {},
     "output_type": "display_data"
    },
    {
     "data": {
      "application/vnd.jupyter.widget-view+json": {
       "model_id": "6e53c10451b54710a56d0a829cb47e72",
       "version_major": 2,
       "version_minor": 0
      },
      "text/plain": [
       "HBox(children=(IntProgress(value=1, bar_style='info', max=1), HTML(value='')))"
      ]
     },
     "metadata": {},
     "output_type": "display_data"
    },
    {
     "name": "stdout",
     "output_type": "stream",
     "text": [
      "https://blog.naver.com/kimyangee/130183800316 블로그의 본문 크롤링 성공!\n",
      "\n",
      "\n",
      "현재까지 저장된 본문의 개수:  374 \n",
      "\n",
      "https://blog.naver.com/taewoo104/221516343865 블로그의 본문 크롤링 성공!\n",
      "\n",
      "\n",
      "현재까지 저장된 본문의 개수:  375 \n",
      "\n",
      "https://blog.naver.com/jdc55/221188272285 블로그의 본문 크롤링 성공!\n",
      "\n",
      "\n",
      "현재까지 저장된 본문의 개수:  376 \n",
      "\n",
      "https://blog.naver.com/dhdudql/221484399240 블로그의 본문 크롤링 성공!\n",
      "\n",
      "\n",
      "현재까지 저장된 본문의 개수:  377 \n",
      "\n",
      "https://blog.naver.com/wldmsdl1113/221524045125 블로그의 본문 크롤링 성공!\n",
      "\n",
      "\n",
      "현재까지 저장된 본문의 개수:  378 \n",
      "\n",
      "385 ~ 389의 블로그 본문 크롤링을 시작합니다.\n",
      "\n",
      " 이철헤어커커 잠실신천2호점 의 https://blog.naver.com/gaon4545/221008574983 블로그의 본문 크롤링 중...\n",
      "\n",
      "\n",
      " 이철헤어커커 잠실신천2호점 의 https://blog.naver.com/yu_1400/220008889502 블로그의 본문 크롤링 중...\n",
      "\n",
      "\n",
      " 이철헤어커커 잠실신천2호점 의 https://blog.naver.com/gaon4545/221014353961 블로그의 본문 크롤링 중...\n",
      "\n",
      "\n",
      " 이철헤어커커 잠실신천2호점 의 https://blog.naver.com/boongsssa/20205668435 블로그의 본문 크롤링 중...\n",
      "\n",
      "\n",
      " 이철헤어커커 잠실신천2호점 의 https://blog.naver.com/sjnabi/221172652851 블로그의 본문 크롤링 중...\n",
      "\n"
     ]
    },
    {
     "data": {
      "application/vnd.jupyter.widget-view+json": {
       "model_id": "5d73ff5553de4260bc6f93037230dd14",
       "version_major": 2,
       "version_minor": 0
      },
      "text/plain": [
       "HBox(children=(IntProgress(value=1, bar_style='info', max=1), HTML(value='')))"
      ]
     },
     "metadata": {},
     "output_type": "display_data"
    },
    {
     "data": {
      "application/vnd.jupyter.widget-view+json": {
       "model_id": "63b2bbecc6b94ae29142e85923f3fcfe",
       "version_major": 2,
       "version_minor": 0
      },
      "text/plain": [
       "HBox(children=(IntProgress(value=1, bar_style='info', max=1), HTML(value='')))"
      ]
     },
     "metadata": {},
     "output_type": "display_data"
    },
    {
     "data": {
      "application/vnd.jupyter.widget-view+json": {
       "model_id": "a03b617746c84e0cb9321fcaffdf3017",
       "version_major": 2,
       "version_minor": 0
      },
      "text/plain": [
       "HBox(children=(IntProgress(value=1, bar_style='info', max=1), HTML(value='')))"
      ]
     },
     "metadata": {},
     "output_type": "display_data"
    },
    {
     "data": {
      "application/vnd.jupyter.widget-view+json": {
       "model_id": "91762a3640814fcd8ace5939cb9739df",
       "version_major": 2,
       "version_minor": 0
      },
      "text/plain": [
       "HBox(children=(IntProgress(value=1, bar_style='info', max=1), HTML(value='')))"
      ]
     },
     "metadata": {},
     "output_type": "display_data"
    },
    {
     "data": {
      "application/vnd.jupyter.widget-view+json": {
       "model_id": "c283da8c13f6426695af129de9af7cdf",
       "version_major": 2,
       "version_minor": 0
      },
      "text/plain": [
       "HBox(children=(IntProgress(value=1, bar_style='info', max=1), HTML(value='')))"
      ]
     },
     "metadata": {},
     "output_type": "display_data"
    },
    {
     "name": "stdout",
     "output_type": "stream",
     "text": [
      "https://blog.naver.com/gaon4545/221008574983 블로그의 본문 크롤링 성공!\n",
      "\n",
      "\n",
      "현재까지 저장된 본문의 개수:  379 \n",
      "\n",
      "https://blog.naver.com/yu_1400/220008889502 블로그의 본문 크롤링 성공!\n",
      "\n",
      "\n",
      "현재까지 저장된 본문의 개수:  380 \n",
      "\n",
      "https://blog.naver.com/sjnabi/221172652851 블로그의 본문 크롤링 성공!\n",
      "\n",
      "\n",
      "현재까지 저장된 본문의 개수:  381 \n",
      "\n",
      "https://blog.naver.com/gaon4545/221014353961 블로그의 본문 크롤링 성공!\n",
      "\n",
      "\n",
      "현재까지 저장된 본문의 개수:  382 \n",
      "\n",
      "https://blog.naver.com/boongsssa/20205668435 블로그의 본문 크롤링 성공!\n",
      "\n",
      "\n",
      "현재까지 저장된 본문의 개수:  383 \n",
      "\n",
      "390 ~ 394의 블로그 본문 크롤링을 시작합니다.\n",
      "\n",
      " 데이바이데이정헤어 의 https://blog.naver.com/yseun89/221849298228 블로그의 본문 크롤링 중...\n",
      "\n",
      "\n",
      " 데이바이데이정헤어 의 https://blog.naver.com/skylights2/221904752293 블로그의 본문 크롤링 중...\n",
      "\n",
      "\n",
      " 데이바이데이정헤어 의 https://blog.naver.com/wlsdud0312/221919226716 블로그의 본문 크롤링 중...\n",
      "\n",
      "\n",
      " 데이바이데이정헤어 의 https://blog.naver.com/squirrel15/221904308094 블로그의 본문 크롤링 중...\n",
      "\n",
      "\n",
      " 이철헤어커커 잠실신천2호점 의 https://blog.naver.com/biojins/221720458167 블로그의 본문 크롤링 중...\n",
      "\n"
     ]
    },
    {
     "data": {
      "application/vnd.jupyter.widget-view+json": {
       "model_id": "a0bbe42776114580960d15892ad576cc",
       "version_major": 2,
       "version_minor": 0
      },
      "text/plain": [
       "HBox(children=(IntProgress(value=1, bar_style='info', max=1), HTML(value='')))"
      ]
     },
     "metadata": {},
     "output_type": "display_data"
    },
    {
     "data": {
      "application/vnd.jupyter.widget-view+json": {
       "model_id": "212736a8266049f0ade77c7ca85d44bb",
       "version_major": 2,
       "version_minor": 0
      },
      "text/plain": [
       "HBox(children=(IntProgress(value=1, bar_style='info', max=1), HTML(value='')))"
      ]
     },
     "metadata": {},
     "output_type": "display_data"
    },
    {
     "data": {
      "application/vnd.jupyter.widget-view+json": {
       "model_id": "845b6ac88d044e42a16d30eb6d739aa7",
       "version_major": 2,
       "version_minor": 0
      },
      "text/plain": [
       "HBox(children=(IntProgress(value=1, bar_style='info', max=1), HTML(value='')))"
      ]
     },
     "metadata": {},
     "output_type": "display_data"
    },
    {
     "data": {
      "application/vnd.jupyter.widget-view+json": {
       "model_id": "8626215474aa464d90199a052491bc47",
       "version_major": 2,
       "version_minor": 0
      },
      "text/plain": [
       "HBox(children=(IntProgress(value=1, bar_style='info', max=1), HTML(value='')))"
      ]
     },
     "metadata": {},
     "output_type": "display_data"
    },
    {
     "data": {
      "application/vnd.jupyter.widget-view+json": {
       "model_id": "07d17eb0d3044756a69a27461dc7983a",
       "version_major": 2,
       "version_minor": 0
      },
      "text/plain": [
       "HBox(children=(IntProgress(value=1, bar_style='info', max=1), HTML(value='')))"
      ]
     },
     "metadata": {},
     "output_type": "display_data"
    },
    {
     "name": "stdout",
     "output_type": "stream",
     "text": [
      "https://blog.naver.com/yseun89/221849298228 블로그의 본문 크롤링 성공!\n",
      "\n",
      "\n",
      "현재까지 저장된 본문의 개수:  384 \n",
      "\n",
      "https://blog.naver.com/skylights2/221904752293 블로그의 본문 크롤링 성공!\n",
      "\n",
      "\n",
      "현재까지 저장된 본문의 개수:  385 \n",
      "\n",
      "https://blog.naver.com/biojins/221720458167 블로그의 본문 크롤링 성공!\n",
      "\n",
      "\n",
      "현재까지 저장된 본문의 개수:  386 \n",
      "\n",
      "https://blog.naver.com/squirrel15/221904308094 블로그의 본문 크롤링 성공!\n",
      "\n",
      "\n",
      "현재까지 저장된 본문의 개수:  387 \n",
      "\n",
      "https://blog.naver.com/wlsdud0312/221919226716 블로그의 본문 크롤링 성공!\n",
      "\n",
      "\n",
      "현재까지 저장된 본문의 개수:  388 \n",
      "\n",
      "395 ~ 399의 블로그 본문 크롤링을 시작합니다.\n",
      "\n",
      " 데이바이데이정헤어 의 https://blog.naver.com/jeong-tt/221910471311 블로그의 본문 크롤링 중...\n",
      "\n",
      "\n",
      " 데이바이데이정헤어 의 https://blog.naver.com/cookie1411/221747272398 블로그의 본문 크롤링 중...\n",
      "\n",
      "\n",
      " 데이바이데이정헤어 의 https://blog.naver.com/aeirmeki/221807380557 블로그의 본문 크롤링 중...\n",
      "\n",
      "\n",
      " 데이바이데이정헤어 의 https://blog.naver.com/iluvsuki/221808211770 블로그의 본문 크롤링 중...\n",
      "\n",
      "\n",
      " 데이바이데이정헤어 의 https://blog.naver.com/syuri__/221746537066 블로그의 본문 크롤링 중...\n",
      "\n"
     ]
    },
    {
     "data": {
      "application/vnd.jupyter.widget-view+json": {
       "model_id": "2e10ab297d8b42df85a06b1a3844f29b",
       "version_major": 2,
       "version_minor": 0
      },
      "text/plain": [
       "HBox(children=(IntProgress(value=1, bar_style='info', max=1), HTML(value='')))"
      ]
     },
     "metadata": {},
     "output_type": "display_data"
    },
    {
     "data": {
      "application/vnd.jupyter.widget-view+json": {
       "model_id": "6b66d1d24dfb489c9e9e5a52443d3ba4",
       "version_major": 2,
       "version_minor": 0
      },
      "text/plain": [
       "HBox(children=(IntProgress(value=1, bar_style='info', max=1), HTML(value='')))"
      ]
     },
     "metadata": {},
     "output_type": "display_data"
    },
    {
     "data": {
      "application/vnd.jupyter.widget-view+json": {
       "model_id": "d22f2e5976ae4defbecac24d67010ef7",
       "version_major": 2,
       "version_minor": 0
      },
      "text/plain": [
       "HBox(children=(IntProgress(value=1, bar_style='info', max=1), HTML(value='')))"
      ]
     },
     "metadata": {},
     "output_type": "display_data"
    },
    {
     "data": {
      "application/vnd.jupyter.widget-view+json": {
       "model_id": "980a44e7f0ae4c418aec536cca06badb",
       "version_major": 2,
       "version_minor": 0
      },
      "text/plain": [
       "HBox(children=(IntProgress(value=1, bar_style='info', max=1), HTML(value='')))"
      ]
     },
     "metadata": {},
     "output_type": "display_data"
    },
    {
     "data": {
      "application/vnd.jupyter.widget-view+json": {
       "model_id": "dfe2d1855c1641e79f97910aa1e080f0",
       "version_major": 2,
       "version_minor": 0
      },
      "text/plain": [
       "HBox(children=(IntProgress(value=1, bar_style='info', max=1), HTML(value='')))"
      ]
     },
     "metadata": {},
     "output_type": "display_data"
    },
    {
     "name": "stdout",
     "output_type": "stream",
     "text": [
      "https://blog.naver.com/jeong-tt/221910471311 블로그의 본문 크롤링 성공!\n",
      "\n",
      "\n",
      "현재까지 저장된 본문의 개수:  389 \n",
      "\n",
      "https://blog.naver.com/cookie1411/221747272398 블로그의 본문 크롤링 성공!\n",
      "\n",
      "\n",
      "현재까지 저장된 본문의 개수:  390 \n",
      "\n",
      "https://blog.naver.com/aeirmeki/221807380557 블로그의 본문 크롤링 성공!\n",
      "\n",
      "\n",
      "현재까지 저장된 본문의 개수:  391 \n",
      "\n",
      "https://blog.naver.com/syuri__/221746537066 블로그의 본문 크롤링 성공!\n",
      "\n",
      "\n",
      "현재까지 저장된 본문의 개수:  392 \n",
      "\n",
      "https://blog.naver.com/iluvsuki/221808211770 블로그의 본문 크롤링 성공!\n",
      "\n",
      "\n",
      "현재까지 저장된 본문의 개수:  393 \n",
      "\n",
      "400 ~ 404의 블로그 본문 크롤링을 시작합니다.\n",
      "\n",
      " 데이바이데이정헤어 의 https://blog.naver.com/win218/221686734856 블로그의 본문 크롤링 중...\n",
      "\n",
      "\n",
      " 데이바이데이정헤어 의 https://blog.naver.com/jamizida/221744819593 블로그의 본문 크롤링 중...\n",
      "\n",
      "\n",
      " 데이바이데이정헤어 의 https://blog.naver.com/wendyhongs/221709867423 블로그의 본문 크롤링 중...\n",
      "\n",
      "\n",
      " 데이바이데이정헤어 의 https://blog.naver.com/hylove104/221743911801 블로그의 본문 크롤링 중...\n",
      "\n",
      "\n",
      " 데이바이데이정헤어 의 https://blog.naver.com/fosasisun/221712852270 블로그의 본문 크롤링 중...\n",
      "\n"
     ]
    },
    {
     "data": {
      "application/vnd.jupyter.widget-view+json": {
       "model_id": "af90f2cbd27e48ddae914a809c0a982b",
       "version_major": 2,
       "version_minor": 0
      },
      "text/plain": [
       "HBox(children=(IntProgress(value=1, bar_style='info', max=1), HTML(value='')))"
      ]
     },
     "metadata": {},
     "output_type": "display_data"
    },
    {
     "data": {
      "application/vnd.jupyter.widget-view+json": {
       "model_id": "87a4d92f08b047a7afbba662f49fdc45",
       "version_major": 2,
       "version_minor": 0
      },
      "text/plain": [
       "HBox(children=(IntProgress(value=1, bar_style='info', max=1), HTML(value='')))"
      ]
     },
     "metadata": {},
     "output_type": "display_data"
    },
    {
     "data": {
      "application/vnd.jupyter.widget-view+json": {
       "model_id": "5c1e734367614e039760fa21207247cc",
       "version_major": 2,
       "version_minor": 0
      },
      "text/plain": [
       "HBox(children=(IntProgress(value=1, bar_style='info', max=1), HTML(value='')))"
      ]
     },
     "metadata": {},
     "output_type": "display_data"
    },
    {
     "data": {
      "application/vnd.jupyter.widget-view+json": {
       "model_id": "fc04f96a8a9347f9bdfea7a1ffe3ba52",
       "version_major": 2,
       "version_minor": 0
      },
      "text/plain": [
       "HBox(children=(IntProgress(value=1, bar_style='info', max=1), HTML(value='')))"
      ]
     },
     "metadata": {},
     "output_type": "display_data"
    },
    {
     "data": {
      "application/vnd.jupyter.widget-view+json": {
       "model_id": "caff92f1c5ed4ca9acb14efd95e0764f",
       "version_major": 2,
       "version_minor": 0
      },
      "text/plain": [
       "HBox(children=(IntProgress(value=1, bar_style='info', max=1), HTML(value='')))"
      ]
     },
     "metadata": {},
     "output_type": "display_data"
    },
    {
     "name": "stdout",
     "output_type": "stream",
     "text": [
      "https://blog.naver.com/jamizida/221744819593 블로그의 본문 크롤링 성공!\n",
      "\n",
      "\n",
      "https://blog.naver.com/win218/221686734856현재까지 저장된 본문의 개수:   블로그의 본문 크롤링 성공!\n",
      "395\n",
      "\n",
      " 현재까지 저장된 본문의 개수: \n",
      " \n",
      "395 \n",
      "\n",
      "https://blog.naver.com/hylove104/221743911801 블로그의 본문 크롤링 성공!\n",
      "\n",
      "\n",
      "현재까지 저장된 본문의 개수:  396 \n",
      "\n",
      "https://blog.naver.com/fosasisun/221712852270https://blog.naver.com/wendyhongs/221709867423  블로그의 본문 크롤링 성공!\n",
      "블로그의 본문 크롤링 성공!\n",
      "\n",
      "\n",
      "\n",
      "현재까지 저장된 본문의 개수: \n",
      " 현재까지 저장된 본문의 개수: 397  397\n",
      " \n",
      "\n",
      "\n",
      "405 ~ 409의 블로그 본문 크롤링을 시작합니다.\n",
      "\n",
      " 데이바이데이정헤어 의 https://blog.naver.com/solanin8008/221688723299 블로그의 본문 크롤링 중...\n",
      "\n",
      "\n",
      " 데이바이데이정헤어 의 https://blog.naver.com/newblockbaby/221718941712 블로그의 본문 크롤링 중...\n",
      "\n",
      "\n",
      " 데이바이데이정헤어 의 https://blog.naver.com/onoduo6/221691387818 블로그의 본문 크롤링 중...\n",
      "\n",
      "\n",
      " 데이바이데이정헤어 의 https://blog.naver.com/rin_04/221656109439 블로그의 본문 크롤링 중...\n",
      "\n",
      "\n",
      " 데이바이데이정헤어 의 https://blog.naver.com/twilight0723/221665346052 블로그의 본문 크롤링 중...\n",
      "\n"
     ]
    },
    {
     "data": {
      "application/vnd.jupyter.widget-view+json": {
       "model_id": "ab6ef0e7efc5400c974ab042d4bf724a",
       "version_major": 2,
       "version_minor": 0
      },
      "text/plain": [
       "HBox(children=(IntProgress(value=1, bar_style='info', max=1), HTML(value='')))"
      ]
     },
     "metadata": {},
     "output_type": "display_data"
    },
    {
     "data": {
      "application/vnd.jupyter.widget-view+json": {
       "model_id": "9e39a2ff7f1f4e32bd84d631fd5f975e",
       "version_major": 2,
       "version_minor": 0
      },
      "text/plain": [
       "HBox(children=(IntProgress(value=1, bar_style='info', max=1), HTML(value='')))"
      ]
     },
     "metadata": {},
     "output_type": "display_data"
    },
    {
     "data": {
      "application/vnd.jupyter.widget-view+json": {
       "model_id": "4df3df4dc414456b9c127ff643d6fe74",
       "version_major": 2,
       "version_minor": 0
      },
      "text/plain": [
       "HBox(children=(IntProgress(value=1, bar_style='info', max=1), HTML(value='')))"
      ]
     },
     "metadata": {},
     "output_type": "display_data"
    },
    {
     "data": {
      "application/vnd.jupyter.widget-view+json": {
       "model_id": "57bb5968cdd8493ba2ead016c4fc6d8b",
       "version_major": 2,
       "version_minor": 0
      },
      "text/plain": [
       "HBox(children=(IntProgress(value=1, bar_style='info', max=1), HTML(value='')))"
      ]
     },
     "metadata": {},
     "output_type": "display_data"
    },
    {
     "data": {
      "application/vnd.jupyter.widget-view+json": {
       "model_id": "5db60398852d4e79bca9a49fbbb3fb7b",
       "version_major": 2,
       "version_minor": 0
      },
      "text/plain": [
       "HBox(children=(IntProgress(value=1, bar_style='info', max=1), HTML(value='')))"
      ]
     },
     "metadata": {},
     "output_type": "display_data"
    },
    {
     "name": "stdout",
     "output_type": "stream",
     "text": [
      "https://blog.naver.com/solanin8008/221688723299 블로그의 본문 크롤링 성공!\n",
      "\n",
      "\n",
      "현재까지 저장된 본문의 개수:  398 \n",
      "\n",
      "https://blog.naver.com/newblockbaby/221718941712 블로그의 본문 크롤링 성공!\n",
      "\n",
      "\n",
      "현재까지 저장된 본문의 개수:  399 \n",
      "\n",
      "https://blog.naver.com/onoduo6/221691387818 블로그의 본문 크롤링 성공!\n",
      "\n",
      "\n",
      "현재까지 저장된 본문의 개수:  400 \n",
      "\n",
      "https://blog.naver.com/twilight0723/221665346052 블로그의 본문 크롤링 성공!\n",
      "\n",
      "\n",
      "현재까지 저장된 본문의 개수:  401 \n",
      "\n",
      "https://blog.naver.com/rin_04/221656109439 블로그의 본문 크롤링 성공!\n",
      "\n",
      "\n",
      "현재까지 저장된 본문의 개수:  402 \n",
      "\n",
      "410 ~ 414의 블로그 본문 크롤링을 시작합니다.\n",
      "\n",
      " 데이바이데이정헤어 의 https://blog.naver.com/dlgywls106/221918047730 블로그의 본문 크롤링 중...\n",
      "\n",
      "\n",
      " 데이바이데이정헤어 의 https://blog.naver.com/yeslnbls/221673800379 블로그의 본문 크롤링 중...\n",
      "\n",
      "\n",
      " 데이바이데이정헤어 의 https://blog.naver.com/yeslnbls/220857187590 블로그의 본문 크롤링 중...\n",
      "\n",
      "\n",
      " 데이바이데이정헤어 의 https://blog.naver.com/assanrz5/221123175167 블로그의 본문 크롤링 중...\n",
      "\n",
      "\n",
      " 데이바이데이정헤어 의 https://blog.naver.com/wodnjsdhqk/221895994713 블로그의 본문 크롤링 중...\n",
      "\n"
     ]
    },
    {
     "data": {
      "application/vnd.jupyter.widget-view+json": {
       "model_id": "eae102da8d1941d0bf5329aecb515f4b",
       "version_major": 2,
       "version_minor": 0
      },
      "text/plain": [
       "HBox(children=(IntProgress(value=1, bar_style='info', max=1), HTML(value='')))"
      ]
     },
     "metadata": {},
     "output_type": "display_data"
    },
    {
     "data": {
      "application/vnd.jupyter.widget-view+json": {
       "model_id": "e5dcefbc678d4f8dbaba28054d109f1f",
       "version_major": 2,
       "version_minor": 0
      },
      "text/plain": [
       "HBox(children=(IntProgress(value=1, bar_style='info', max=1), HTML(value='')))"
      ]
     },
     "metadata": {},
     "output_type": "display_data"
    },
    {
     "data": {
      "application/vnd.jupyter.widget-view+json": {
       "model_id": "1a50ec9d4e354729ba0b4f1323f65c3d",
       "version_major": 2,
       "version_minor": 0
      },
      "text/plain": [
       "HBox(children=(IntProgress(value=1, bar_style='info', max=1), HTML(value='')))"
      ]
     },
     "metadata": {},
     "output_type": "display_data"
    },
    {
     "data": {
      "application/vnd.jupyter.widget-view+json": {
       "model_id": "cbc158226fad495d8114dee2ba54166f",
       "version_major": 2,
       "version_minor": 0
      },
      "text/plain": [
       "HBox(children=(IntProgress(value=1, bar_style='info', max=1), HTML(value='')))"
      ]
     },
     "metadata": {},
     "output_type": "display_data"
    },
    {
     "data": {
      "application/vnd.jupyter.widget-view+json": {
       "model_id": "fad66c9da8dd4956b232cc11bf04a937",
       "version_major": 2,
       "version_minor": 0
      },
      "text/plain": [
       "HBox(children=(IntProgress(value=1, bar_style='info', max=1), HTML(value='')))"
      ]
     },
     "metadata": {},
     "output_type": "display_data"
    },
    {
     "name": "stdout",
     "output_type": "stream",
     "text": [
      "https://blog.naver.com/yeslnbls/221673800379 블로그의 본문 크롤링 성공!\n",
      "\n",
      "\n",
      "현재까지 저장된 본문의 개수:  403 \n",
      "\n",
      "https://blog.naver.com/assanrz5/221123175167 블로그의 본문 크롤링 성공!\n",
      "\n",
      "\n",
      "현재까지 저장된 본문의 개수:  404 \n",
      "\n",
      "https://blog.naver.com/dlgywls106/221918047730 블로그의 본문 크롤링 성공!\n",
      "\n",
      "\n",
      "현재까지 저장된 본문의 개수:  405 \n",
      "\n",
      "https://blog.naver.com/yeslnbls/220857187590 블로그의 본문 크롤링 성공!\n",
      "\n",
      "\n",
      "현재까지 저장된 본문의 개수:  406 \n",
      "\n",
      "https://blog.naver.com/wodnjsdhqk/221895994713 블로그의 본문 크롤링 성공!\n",
      "\n",
      "\n",
      "현재까지 저장된 본문의 개수:  407 \n",
      "\n",
      "415 ~ 419의 블로그 본문 크롤링을 시작합니다.\n",
      "\n",
      " 데이바이데이정헤어 의 https://blog.naver.com/yeslnbls/220749200692 블로그의 본문 크롤링 중...\n",
      "\n",
      "\n",
      " 데이바이데이정헤어 의 https://blog.naver.com/yeslnbls/220803756171 블로그의 본문 크롤링 중...\n",
      "\n",
      "\n",
      " 데이바이데이정헤어 의 https://blog.naver.com/yeslnbls/220802463251 블로그의 본문 크롤링 중...\n",
      "\n",
      "\n",
      " 데이바이데이정헤어 의 https://blog.naver.com/yeslnbls/220723306256 블로그의 본문 크롤링 중...\n",
      "\n",
      "\n",
      " 데이바이데이정헤어 의 https://blog.naver.com/yeslnbls/220664858056 블로그의 본문 크롤링 중...\n",
      "\n"
     ]
    },
    {
     "data": {
      "application/vnd.jupyter.widget-view+json": {
       "model_id": "a0ccba9b8921412fab064277fb087e68",
       "version_major": 2,
       "version_minor": 0
      },
      "text/plain": [
       "HBox(children=(IntProgress(value=1, bar_style='info', max=1), HTML(value='')))"
      ]
     },
     "metadata": {},
     "output_type": "display_data"
    },
    {
     "data": {
      "application/vnd.jupyter.widget-view+json": {
       "model_id": "4e79caa34ce543fdad24b310f91f67f5",
       "version_major": 2,
       "version_minor": 0
      },
      "text/plain": [
       "HBox(children=(IntProgress(value=1, bar_style='info', max=1), HTML(value='')))"
      ]
     },
     "metadata": {},
     "output_type": "display_data"
    },
    {
     "data": {
      "application/vnd.jupyter.widget-view+json": {
       "model_id": "fd04cfb6c8414fb5a249c44f17ec98c5",
       "version_major": 2,
       "version_minor": 0
      },
      "text/plain": [
       "HBox(children=(IntProgress(value=1, bar_style='info', max=1), HTML(value='')))"
      ]
     },
     "metadata": {},
     "output_type": "display_data"
    },
    {
     "data": {
      "application/vnd.jupyter.widget-view+json": {
       "model_id": "7783620563d54e1398591b3a71e3243a",
       "version_major": 2,
       "version_minor": 0
      },
      "text/plain": [
       "HBox(children=(IntProgress(value=1, bar_style='info', max=1), HTML(value='')))"
      ]
     },
     "metadata": {},
     "output_type": "display_data"
    },
    {
     "data": {
      "application/vnd.jupyter.widget-view+json": {
       "model_id": "fc6e9e811c62425d82c6951d117f0552",
       "version_major": 2,
       "version_minor": 0
      },
      "text/plain": [
       "HBox(children=(IntProgress(value=1, bar_style='info', max=1), HTML(value='')))"
      ]
     },
     "metadata": {},
     "output_type": "display_data"
    },
    {
     "name": "stdout",
     "output_type": "stream",
     "text": [
      "https://blog.naver.com/yeslnbls/220802463251 블로그의 본문 크롤링 성공!\n",
      "\n",
      "\n",
      "현재까지 저장된 본문의 개수:  408 \n",
      "\n",
      "https://blog.naver.com/yeslnbls/220803756171 블로그의 본문 크롤링 성공!\n",
      "\n",
      "\n",
      "현재까지 저장된 본문의 개수:  409 \n",
      "\n",
      "https://blog.naver.com/yeslnbls/220749200692 블로그의 본문 크롤링 성공!\n",
      "\n",
      "\n",
      "현재까지 저장된 본문의 개수:  410 \n",
      "\n",
      "https://blog.naver.com/yeslnbls/220723306256 블로그의 본문 크롤링 성공!\n",
      "\n",
      "\n",
      "현재까지 저장된 본문의 개수:  https://blog.naver.com/yeslnbls/220664858056411  블로그의 본문 크롤링 성공!\n",
      "\n",
      "\n",
      "\n",
      "\n",
      "현재까지 저장된 본문의 개수:  412 \n",
      "\n",
      "420 ~ 424의 블로그 본문 크롤링을 시작합니다.\n",
      "\n",
      " 데이바이데이정헤어 의 https://blog.naver.com/yeslnbls/220677719552 블로그의 본문 크롤링 중...\n",
      "\n",
      "\n",
      " 데이바이데이정헤어 의 https://blog.naver.com/yeslnbls/220714586178 블로그의 본문 크롤링 중...\n",
      "\n",
      "\n",
      " 데이바이데이정헤어 의 https://blog.naver.com/yeslnbls/220767738169 블로그의 본문 크롤링 중...\n",
      "\n",
      "\n",
      " 데이바이데이정헤어 의 https://blog.naver.com/yeslnbls/220853457719 블로그의 본문 크롤링 중...\n",
      "\n",
      "\n",
      " 데이바이데이정헤어 의 https://blog.naver.com/yeslnbls/220664833373 블로그의 본문 크롤링 중...\n",
      "\n"
     ]
    },
    {
     "data": {
      "application/vnd.jupyter.widget-view+json": {
       "model_id": "8dd558ce08584627a5bf1ac3dce0cc04",
       "version_major": 2,
       "version_minor": 0
      },
      "text/plain": [
       "HBox(children=(IntProgress(value=1, bar_style='info', max=1), HTML(value='')))"
      ]
     },
     "metadata": {},
     "output_type": "display_data"
    },
    {
     "data": {
      "application/vnd.jupyter.widget-view+json": {
       "model_id": "0ff7c6caaa1842dd9c10bc93605c4036",
       "version_major": 2,
       "version_minor": 0
      },
      "text/plain": [
       "HBox(children=(IntProgress(value=1, bar_style='info', max=1), HTML(value='')))"
      ]
     },
     "metadata": {},
     "output_type": "display_data"
    },
    {
     "data": {
      "application/vnd.jupyter.widget-view+json": {
       "model_id": "0d62584a03f741cfa17b7ce13262128e",
       "version_major": 2,
       "version_minor": 0
      },
      "text/plain": [
       "HBox(children=(IntProgress(value=1, bar_style='info', max=1), HTML(value='')))"
      ]
     },
     "metadata": {},
     "output_type": "display_data"
    },
    {
     "data": {
      "application/vnd.jupyter.widget-view+json": {
       "model_id": "774d4c510f694534a3c1ada39d4a2f77",
       "version_major": 2,
       "version_minor": 0
      },
      "text/plain": [
       "HBox(children=(IntProgress(value=1, bar_style='info', max=1), HTML(value='')))"
      ]
     },
     "metadata": {},
     "output_type": "display_data"
    },
    {
     "data": {
      "application/vnd.jupyter.widget-view+json": {
       "model_id": "fc8de73f9c234fcba530044c29cd09e2",
       "version_major": 2,
       "version_minor": 0
      },
      "text/plain": [
       "HBox(children=(IntProgress(value=1, bar_style='info', max=1), HTML(value='')))"
      ]
     },
     "metadata": {},
     "output_type": "display_data"
    },
    {
     "name": "stdout",
     "output_type": "stream",
     "text": [
      "https://blog.naver.com/yeslnbls/220677719552 블로그의 본문 크롤링 성공!\n",
      "\n",
      "\n",
      "현재까지 저장된 본문의 개수:  413 \n",
      "\n",
      "https://blog.naver.com/yeslnbls/220714586178 블로그의 본문 크롤링 성공!\n",
      "\n",
      "\n",
      "현재까지 저장된 본문의 개수:  414 \n",
      "\n",
      "https://blog.naver.com/yeslnbls/220767738169 블로그의 본문 크롤링 성공!\n",
      "\n",
      "\n",
      "현재까지 저장된 본문의 개수:  415 \n",
      "\n",
      "https://blog.naver.com/yeslnbls/220853457719 블로그의 본문 크롤링 성공!\n",
      "\n",
      "\n",
      "현재까지 저장된 본문의 개수:  416 \n",
      "\n",
      "https://blog.naver.com/yeslnbls/220664833373 블로그의 본문 크롤링 성공!\n",
      "\n",
      "\n",
      "현재까지 저장된 본문의 개수:  417 \n",
      "\n",
      "425 ~ 429의 블로그 본문 크롤링을 시작합니다.\n",
      "\n",
      " 데이바이데이정헤어 의 https://blog.naver.com/jwkkong0226/221857388948 블로그의 본문 크롤링 중...\n",
      "\n",
      "\n",
      " 데이바이데이정헤어 의 https://blog.naver.com/odofoh/221860060565 블로그의 본문 크롤링 중...\n",
      "\n",
      "\n",
      " 데이바이데이정헤어 의 https://blog.naver.com/skylove78222/221907888648 블로그의 본문 크롤링 중...\n",
      "\n",
      "\n",
      " 데이바이데이정헤어 의 https://blog.naver.com/liberty8403/221677903270 블로그의 본문 크롤링 중...\n",
      "\n",
      "\n",
      " 데이바이데이정헤어 의 https://blog.naver.com/ckdls333/221857888089 블로그의 본문 크롤링 중...\n",
      "\n"
     ]
    },
    {
     "data": {
      "application/vnd.jupyter.widget-view+json": {
       "model_id": "34ffeba5c8564e2b8c1b79569ddffa23",
       "version_major": 2,
       "version_minor": 0
      },
      "text/plain": [
       "HBox(children=(IntProgress(value=1, bar_style='info', max=1), HTML(value='')))"
      ]
     },
     "metadata": {},
     "output_type": "display_data"
    },
    {
     "data": {
      "application/vnd.jupyter.widget-view+json": {
       "model_id": "958b8e7b25b64587bfd0079238a51fab",
       "version_major": 2,
       "version_minor": 0
      },
      "text/plain": [
       "HBox(children=(IntProgress(value=1, bar_style='info', max=1), HTML(value='')))"
      ]
     },
     "metadata": {},
     "output_type": "display_data"
    },
    {
     "data": {
      "application/vnd.jupyter.widget-view+json": {
       "model_id": "3bde7635d9e94f8a9d4165372ca354e1",
       "version_major": 2,
       "version_minor": 0
      },
      "text/plain": [
       "HBox(children=(IntProgress(value=1, bar_style='info', max=1), HTML(value='')))"
      ]
     },
     "metadata": {},
     "output_type": "display_data"
    },
    {
     "data": {
      "application/vnd.jupyter.widget-view+json": {
       "model_id": "b6cd7a9976364f01adc9cdbf13db603e",
       "version_major": 2,
       "version_minor": 0
      },
      "text/plain": [
       "HBox(children=(IntProgress(value=1, bar_style='info', max=1), HTML(value='')))"
      ]
     },
     "metadata": {},
     "output_type": "display_data"
    },
    {
     "data": {
      "application/vnd.jupyter.widget-view+json": {
       "model_id": "155152c353414584a47eb8da2a001fc3",
       "version_major": 2,
       "version_minor": 0
      },
      "text/plain": [
       "HBox(children=(IntProgress(value=1, bar_style='info', max=1), HTML(value='')))"
      ]
     },
     "metadata": {},
     "output_type": "display_data"
    },
    {
     "name": "stdout",
     "output_type": "stream",
     "text": [
      "https://blog.naver.com/odofoh/221860060565 블로그의 본문 크롤링 성공!\n",
      "\n",
      "\n",
      "https://blog.naver.com/jwkkong0226/221857388948현재까지 저장된 본문의 개수:   419 블로그의 본문 크롤링 성공!\n",
      "\n",
      "\n",
      "\n",
      "\n",
      "현재까지 저장된 본문의 개수:  419 \n",
      "\n",
      "https://blog.naver.com/liberty8403/221677903270 블로그의 본문 크롤링 성공!\n",
      "\n",
      "\n",
      "현재까지 저장된 본문의 개수:  420 \n",
      "\n",
      "https://blog.naver.com/skylove78222/221907888648 블로그의 본문 크롤링 성공!\n",
      "\n",
      "\n",
      "현재까지 저장된 본문의 개수:  421 \n",
      "\n",
      "https://blog.naver.com/ckdls333/221857888089 블로그의 본문 크롤링 성공!\n",
      "\n",
      "\n",
      "현재까지 저장된 본문의 개수:  422 \n",
      "\n",
      "430 ~ 434의 블로그 본문 크롤링을 시작합니다.\n",
      "\n",
      " 데이바이데이정헤어 의 https://blog.naver.com/jamonge_83/221853670840 블로그의 본문 크롤링 중...\n",
      "\n",
      "\n",
      " 데이바이데이정헤어 의 https://blog.naver.com/jinjunghan_na/221805217854 블로그의 본문 크롤링 중...\n",
      "\n",
      "\n",
      " 데이바이데이정헤어 의 https://blog.naver.com/euissung/221922423880 블로그의 본문 크롤링 중...\n",
      "\n",
      "\n",
      " 데이바이데이정헤어 의 https://blog.naver.com/dmstjddlfjqm/221856002983 블로그의 본문 크롤링 중...\n",
      "\n",
      "\n",
      " 데이바이데이정헤어 의 https://blog.naver.com/justone486/221899236228 블로그의 본문 크롤링 중...\n",
      "\n"
     ]
    },
    {
     "data": {
      "application/vnd.jupyter.widget-view+json": {
       "model_id": "d28e81856eea40e3892ba2ba6dfca916",
       "version_major": 2,
       "version_minor": 0
      },
      "text/plain": [
       "HBox(children=(IntProgress(value=1, bar_style='info', max=1), HTML(value='')))"
      ]
     },
     "metadata": {},
     "output_type": "display_data"
    },
    {
     "data": {
      "application/vnd.jupyter.widget-view+json": {
       "model_id": "614283f0c9f14f8bbcdb29565c955ac3",
       "version_major": 2,
       "version_minor": 0
      },
      "text/plain": [
       "HBox(children=(IntProgress(value=1, bar_style='info', max=1), HTML(value='')))"
      ]
     },
     "metadata": {},
     "output_type": "display_data"
    },
    {
     "data": {
      "application/vnd.jupyter.widget-view+json": {
       "model_id": "d5debfa4eaf0420dba3885fd40c9afd2",
       "version_major": 2,
       "version_minor": 0
      },
      "text/plain": [
       "HBox(children=(IntProgress(value=1, bar_style='info', max=1), HTML(value='')))"
      ]
     },
     "metadata": {},
     "output_type": "display_data"
    },
    {
     "data": {
      "application/vnd.jupyter.widget-view+json": {
       "model_id": "afc6052eed2e4048910d101defdd42b5",
       "version_major": 2,
       "version_minor": 0
      },
      "text/plain": [
       "HBox(children=(IntProgress(value=1, bar_style='info', max=1), HTML(value='')))"
      ]
     },
     "metadata": {},
     "output_type": "display_data"
    },
    {
     "data": {
      "application/vnd.jupyter.widget-view+json": {
       "model_id": "2d2e9faad065479fbc09acf339220b31",
       "version_major": 2,
       "version_minor": 0
      },
      "text/plain": [
       "HBox(children=(IntProgress(value=1, bar_style='info', max=1), HTML(value='')))"
      ]
     },
     "metadata": {},
     "output_type": "display_data"
    },
    {
     "name": "stdout",
     "output_type": "stream",
     "text": [
      "https://blog.naver.com/jinjunghan_na/221805217854 블로그의 본문 크롤링 성공!\n",
      "\n",
      "\n",
      "현재까지 저장된 본문의 개수:  423 \n",
      "\n",
      "https://blog.naver.com/euissung/221922423880 블로그의 본문 크롤링 성공!\n",
      "\n",
      "\n",
      "현재까지 저장된 본문의 개수:  424 \n",
      "\n",
      "https://blog.naver.com/jamonge_83/221853670840 블로그의 본문 크롤링 성공!\n",
      "\n",
      "\n",
      "현재까지 저장된 본문의 개수:  425 \n",
      "\n",
      "https://blog.naver.com/justone486/221899236228https://blog.naver.com/dmstjddlfjqm/221856002983  블로그의 본문 크롤링 성공!\n",
      "\n",
      "블로그의 본문 크롤링 성공!\n",
      "\n",
      "\n",
      "현재까지 저장된 본문의 개수: \n",
      " 현재까지 저장된 본문의 개수: 426  \n",
      "426\n",
      " \n",
      "\n",
      "435 ~ 439의 블로그 본문 크롤링을 시작합니다.\n",
      "\n",
      " 데이바이데이정헤어 의 https://blog.naver.com/chunsz/221799113389 블로그의 본문 크롤링 중...\n",
      "\n",
      "\n",
      " 데이바이데이정헤어 의 https://blog.naver.com/hae9324/221860580595 블로그의 본문 크롤링 중...\n",
      "\n",
      "\n",
      " 데이바이데이정헤어 의 https://blog.naver.com/luckyegg160/221853611143 블로그의 본문 크롤링 중...\n",
      "\n",
      "\n",
      " 데이바이데이정헤어 의 https://blog.naver.com/baezzi/221841965908 \n",
      "블로그의 본문 크롤링 중...\n",
      " \n",
      "데이바이데이정헤어 의 https://blog.naver.com/b_parkjw/221807718365 블로그의 본문 크롤링 중...\n",
      "\n"
     ]
    },
    {
     "data": {
      "application/vnd.jupyter.widget-view+json": {
       "model_id": "67922207f391498ab6987e14e8b9ff7e",
       "version_major": 2,
       "version_minor": 0
      },
      "text/plain": [
       "HBox(children=(IntProgress(value=1, bar_style='info', max=1), HTML(value='')))"
      ]
     },
     "metadata": {},
     "output_type": "display_data"
    },
    {
     "data": {
      "application/vnd.jupyter.widget-view+json": {
       "model_id": "229a82485d084d13ae0f6e0278fb563c",
       "version_major": 2,
       "version_minor": 0
      },
      "text/plain": [
       "HBox(children=(IntProgress(value=1, bar_style='info', max=1), HTML(value='')))"
      ]
     },
     "metadata": {},
     "output_type": "display_data"
    },
    {
     "data": {
      "application/vnd.jupyter.widget-view+json": {
       "model_id": "844d1817189b425f9a0b896e2ac59345",
       "version_major": 2,
       "version_minor": 0
      },
      "text/plain": [
       "HBox(children=(IntProgress(value=1, bar_style='info', max=1), HTML(value='')))"
      ]
     },
     "metadata": {},
     "output_type": "display_data"
    },
    {
     "data": {
      "application/vnd.jupyter.widget-view+json": {
       "model_id": "c4a0af17a5224987bd91892e9c5137c7",
       "version_major": 2,
       "version_minor": 0
      },
      "text/plain": [
       "HBox(children=(IntProgress(value=1, bar_style='info', max=1), HTML(value='')))"
      ]
     },
     "metadata": {},
     "output_type": "display_data"
    },
    {
     "data": {
      "application/vnd.jupyter.widget-view+json": {
       "model_id": "38f5d5586ca8402ab0c64e9a78b90826",
       "version_major": 2,
       "version_minor": 0
      },
      "text/plain": [
       "HBox(children=(IntProgress(value=1, bar_style='info', max=1), HTML(value='')))"
      ]
     },
     "metadata": {},
     "output_type": "display_data"
    },
    {
     "name": "stdout",
     "output_type": "stream",
     "text": [
      "https://blog.naver.com/hae9324/221860580595 https://blog.naver.com/chunsz/221799113389블로그의 본문 크롤링 성공!\n",
      " 블로그의 본문 크롤링 성공!\n",
      "\n",
      "\n",
      "\n",
      "현재까지 저장된 본문의 개수: \n",
      " https://blog.naver.com/luckyegg160/221853611143현재까지 저장된 본문의 개수: 428   블로그의 본문 크롤링 성공!\n",
      "429\n",
      "\n",
      " \n",
      "\n",
      "\n",
      "현재까지 저장된 본문의 개수: \n",
      " 429 \n",
      "\n",
      "https://blog.naver.com/baezzi/221841965908 블로그의 본문 크롤링 성공!\n",
      "\n",
      "\n",
      "현재까지 저장된 본문의 개수:  430 \n",
      "\n",
      "https://blog.naver.com/b_parkjw/221807718365 블로그의 본문 크롤링 성공!\n",
      "\n",
      "\n",
      "현재까지 저장된 본문의 개수:  431 \n",
      "\n",
      "440 ~ 444의 블로그 본문 크롤링을 시작합니다.\n",
      "\n",
      " 데이바이데이정헤어 의 https://blog.naver.com/dymax/221812987223 블로그의 본문 크롤링 중...\n",
      "\n",
      "\n",
      " 데이바이데이정헤어 의 https://blog.naver.com/go5500ss/221858978771 블로그의 본문 크롤링 중...\n",
      "\n",
      "\n",
      " 데이바이데이정헤어 의 https://blog.naver.com/kyj92225/221809472982 블로그의 본문 크롤링 중...\n",
      "\n",
      "\n",
      " 데이바이데이정헤어 의 https://blog.naver.com/akitty2/221812594423 블로그의 본문 크롤링 중...\n",
      "\n",
      "\n",
      " 데이바이데이정헤어 의 https://blog.naver.com/lovealltrustafew/221806424778 블로그의 본문 크롤링 중...\n",
      "\n"
     ]
    },
    {
     "data": {
      "application/vnd.jupyter.widget-view+json": {
       "model_id": "233f49908fc24cb194140b68109ab477",
       "version_major": 2,
       "version_minor": 0
      },
      "text/plain": [
       "HBox(children=(IntProgress(value=1, bar_style='info', max=1), HTML(value='')))"
      ]
     },
     "metadata": {},
     "output_type": "display_data"
    },
    {
     "data": {
      "application/vnd.jupyter.widget-view+json": {
       "model_id": "3f25dde4209847cc88221fdce66a5132",
       "version_major": 2,
       "version_minor": 0
      },
      "text/plain": [
       "HBox(children=(IntProgress(value=1, bar_style='info', max=1), HTML(value='')))"
      ]
     },
     "metadata": {},
     "output_type": "display_data"
    },
    {
     "data": {
      "application/vnd.jupyter.widget-view+json": {
       "model_id": "fa8ab9f4d48e4946bf94095dee32e255",
       "version_major": 2,
       "version_minor": 0
      },
      "text/plain": [
       "HBox(children=(IntProgress(value=1, bar_style='info', max=1), HTML(value='')))"
      ]
     },
     "metadata": {},
     "output_type": "display_data"
    },
    {
     "data": {
      "application/vnd.jupyter.widget-view+json": {
       "model_id": "45c03b8529034da092584ae1867bdcea",
       "version_major": 2,
       "version_minor": 0
      },
      "text/plain": [
       "HBox(children=(IntProgress(value=1, bar_style='info', max=1), HTML(value='')))"
      ]
     },
     "metadata": {},
     "output_type": "display_data"
    },
    {
     "data": {
      "application/vnd.jupyter.widget-view+json": {
       "model_id": "db22bd22fb554e8d87bd48d06c0e9a0d",
       "version_major": 2,
       "version_minor": 0
      },
      "text/plain": [
       "HBox(children=(IntProgress(value=1, bar_style='info', max=1), HTML(value='')))"
      ]
     },
     "metadata": {},
     "output_type": "display_data"
    },
    {
     "name": "stdout",
     "output_type": "stream",
     "text": [
      "https://blog.naver.com/go5500ss/221858978771 블로그의 본문 크롤링 성공!\n",
      "\n",
      "\n",
      "현재까지 저장된 본문의 개수:  432 \n",
      "\n",
      "https://blog.naver.com/dymax/221812987223https://blog.naver.com/akitty2/221812594423  블로그의 본문 크롤링 성공!\n",
      "블로그의 본문 크롤링 성공!\n",
      "\n",
      "\n",
      "\n",
      "\n",
      "현재까지 저장된 본문의 개수: 현재까지 저장된 본문의 개수:   433433  \n",
      "\n",
      "\n",
      "\n",
      "https://blog.naver.com/lovealltrustafew/221806424778 블로그의 본문 크롤링 성공!\n",
      "\n",
      "\n",
      "현재까지 저장된 본문의 개수:  434 \n",
      "\n",
      "https://blog.naver.com/kyj92225/221809472982 블로그의 본문 크롤링 성공!\n",
      "\n",
      "\n",
      "현재까지 저장된 본문의 개수:  435 \n",
      "\n",
      "445 ~ 449의 블로그 본문 크롤링을 시작합니다.\n",
      "\n",
      " 박준뷰티랩 사당점 의 https://blog.naver.com/lobib/221291241614 블로그의 본문 크롤링 중...\n",
      "\n",
      "\n",
      " 데이바이데이정헤어 의 https://blog.naver.com/sor6778/221802438480 블로그의 본문 크롤링 중...\n",
      "\n",
      "\n",
      " 박준뷰티랩 사당점 의 https://blog.naver.com/pnj_parkjun/70166195883 블로그의 본문 크롤링 중...\n",
      "\n",
      "\n",
      " 박준뷰티랩 사당점 의 https://blog.naver.com/slsm19/221942976122 블로그의 본문 크롤링 중...\n",
      "\n",
      "\n",
      " 박준뷰티랩 사당점 의 https://blog.naver.com/gkstjseo326/221077926355 블로그의 본문 크롤링 중...\n",
      "\n"
     ]
    },
    {
     "data": {
      "application/vnd.jupyter.widget-view+json": {
       "model_id": "0dd6139346244abf8275a55144b9b839",
       "version_major": 2,
       "version_minor": 0
      },
      "text/plain": [
       "HBox(children=(IntProgress(value=1, bar_style='info', max=1), HTML(value='')))"
      ]
     },
     "metadata": {},
     "output_type": "display_data"
    },
    {
     "data": {
      "application/vnd.jupyter.widget-view+json": {
       "model_id": "49ace6cdf9114fadb41e600c7806db87",
       "version_major": 2,
       "version_minor": 0
      },
      "text/plain": [
       "HBox(children=(IntProgress(value=1, bar_style='info', max=1), HTML(value='')))"
      ]
     },
     "metadata": {},
     "output_type": "display_data"
    },
    {
     "data": {
      "application/vnd.jupyter.widget-view+json": {
       "model_id": "b4efdd912af444cd9a3892358c38fcca",
       "version_major": 2,
       "version_minor": 0
      },
      "text/plain": [
       "HBox(children=(IntProgress(value=1, bar_style='info', max=1), HTML(value='')))"
      ]
     },
     "metadata": {},
     "output_type": "display_data"
    },
    {
     "data": {
      "application/vnd.jupyter.widget-view+json": {
       "model_id": "f66ca2e44b4441a2963ef2590b2765e7",
       "version_major": 2,
       "version_minor": 0
      },
      "text/plain": [
       "HBox(children=(IntProgress(value=1, bar_style='info', max=1), HTML(value='')))"
      ]
     },
     "metadata": {},
     "output_type": "display_data"
    },
    {
     "data": {
      "application/vnd.jupyter.widget-view+json": {
       "model_id": "6227cd3ad220428d8849a1c5e2c59400",
       "version_major": 2,
       "version_minor": 0
      },
      "text/plain": [
       "HBox(children=(IntProgress(value=1, bar_style='info', max=1), HTML(value='')))"
      ]
     },
     "metadata": {},
     "output_type": "display_data"
    },
    {
     "name": "stdout",
     "output_type": "stream",
     "text": [
      "https://blog.naver.com/lobib/221291241614 https://blog.naver.com/sor6778/221802438480블로그의 본문 크롤링 성공!\n",
      " \n",
      "\n",
      "블로그의 본문 크롤링 성공!\n",
      "현재까지 저장된 본문의 개수: \n",
      " \n",
      "437 현재까지 저장된 본문의 개수: \n",
      " \n",
      "437 \n",
      "\n",
      "https://blog.naver.com/slsm19/221942976122 블로그의 본문 크롤링 성공!\n",
      "\n",
      "\n",
      "현재까지 저장된 본문의 개수:  438 \n",
      "\n",
      "https://blog.naver.com/pnj_parkjun/70166195883 블로그의 본문 크롤링 성공!\n",
      "\n",
      "\n",
      "현재까지 저장된 본문의 개수:  439 \n",
      "\n",
      "https://blog.naver.com/gkstjseo326/221077926355 블로그의 본문 크롤링 성공!\n",
      "\n",
      "\n",
      "현재까지 저장된 본문의 개수:  440 \n",
      "\n",
      "450 ~ 454의 블로그 본문 크롤링을 시작합니다.\n",
      "\n",
      " 박준뷰티랩 사당점 의 https://blog.naver.com/mainata/221039890876 블로그의 본문 크롤링 중...\n",
      "\n",
      "\n",
      " 박준뷰티랩 사당점 의 https://blog.naver.com/rudgml645/221107189411 블로그의 본문 크롤링 중...\n",
      "\n",
      "\n",
      " 박준뷰티랩 사당점 의 https://blog.naver.com/cynoleg1/221298312487 블로그의 본문 크롤링 중...\n",
      "\n",
      "\n",
      " 박준뷰티랩 사당점 의 https://blog.naver.com/offlower0310/221044179995 블로그의 본문 크롤링 중...\n",
      "\n",
      "\n",
      " 박준뷰티랩 사당점 의 https://blog.naver.com/meiran222/221107132355 블로그의 본문 크롤링 중...\n",
      "\n"
     ]
    },
    {
     "data": {
      "application/vnd.jupyter.widget-view+json": {
       "model_id": "325229047c9f462f8680c98af73a411b",
       "version_major": 2,
       "version_minor": 0
      },
      "text/plain": [
       "HBox(children=(IntProgress(value=1, bar_style='info', max=1), HTML(value='')))"
      ]
     },
     "metadata": {},
     "output_type": "display_data"
    },
    {
     "data": {
      "application/vnd.jupyter.widget-view+json": {
       "model_id": "d4c70540036c4b158b1dfb80b3d52408",
       "version_major": 2,
       "version_minor": 0
      },
      "text/plain": [
       "HBox(children=(IntProgress(value=1, bar_style='info', max=1), HTML(value='')))"
      ]
     },
     "metadata": {},
     "output_type": "display_data"
    },
    {
     "data": {
      "application/vnd.jupyter.widget-view+json": {
       "model_id": "9a70857738d2457cb45599e09db63915",
       "version_major": 2,
       "version_minor": 0
      },
      "text/plain": [
       "HBox(children=(IntProgress(value=1, bar_style='info', max=1), HTML(value='')))"
      ]
     },
     "metadata": {},
     "output_type": "display_data"
    },
    {
     "data": {
      "application/vnd.jupyter.widget-view+json": {
       "model_id": "ba394e2b842a43148e471211a0458d42",
       "version_major": 2,
       "version_minor": 0
      },
      "text/plain": [
       "HBox(children=(IntProgress(value=1, bar_style='info', max=1), HTML(value='')))"
      ]
     },
     "metadata": {},
     "output_type": "display_data"
    },
    {
     "data": {
      "application/vnd.jupyter.widget-view+json": {
       "model_id": "9488956c6de34ae3bcbb337fbb6ae857",
       "version_major": 2,
       "version_minor": 0
      },
      "text/plain": [
       "HBox(children=(IntProgress(value=1, bar_style='info', max=1), HTML(value='')))"
      ]
     },
     "metadata": {},
     "output_type": "display_data"
    },
    {
     "name": "stdout",
     "output_type": "stream",
     "text": [
      "https://blog.naver.com/rudgml645/221107189411 블로그의 본문 크롤링 성공!\n",
      "\n",
      "\n",
      "https://blog.naver.com/mainata/221039890876현재까지 저장된 본문의 개수:   블로그의 본문 크롤링 성공!\n",
      "442\n",
      " \n",
      "\n",
      "현재까지 저장된 본문의 개수: \n",
      " 442 \n",
      "\n",
      "https://blog.naver.com/cynoleg1/221298312487 블로그의 본문 크롤링 성공!\n",
      "\n",
      "\n",
      "현재까지 저장된 본문의 개수:  443 \n",
      "\n",
      "https://blog.naver.com/offlower0310/221044179995 블로그의 본문 크롤링 성공!\n",
      "\n",
      "\n",
      "현재까지 저장된 본문의 개수:  444 \n",
      "\n",
      "https://blog.naver.com/meiran222/221107132355 블로그의 본문 크롤링 성공!\n",
      "\n",
      "\n",
      "현재까지 저장된 본문의 개수:  445 \n",
      "\n",
      "455 ~ 459의 블로그 본문 크롤링을 시작합니다.\n",
      "\n",
      " 박준뷰티랩 사당점 의 https://blog.naver.com/mr16ms1/221067675621 블로그의 본문 크롤링 중...\n",
      "\n",
      "\n",
      " 준오헤어 종합운동장사거리점 의 https://blog.naver.com/minh89w/221877570281 블로그의 본문 크롤링 중...\n",
      "\n",
      "\n",
      " 준오헤어 종합운동장사거리점 의 https://blog.naver.com/dldpflsdlcks/221960296615 블로그의 본문 크롤링 중...\n",
      "\n",
      "\n",
      " 박준뷰티랩 사당점 의 https://blog.naver.com/themusia/221065351626 블로그의 본문 크롤링 중...\n",
      "\n",
      "\n",
      " 준오헤어 종합운동장사거리점 의 https://blog.naver.com/ddolggi18/221911727402 블로그의 본문 크롤링 중...\n",
      "\n"
     ]
    },
    {
     "data": {
      "application/vnd.jupyter.widget-view+json": {
       "model_id": "b5ce69c1d16b4843866e31747bd87dc9",
       "version_major": 2,
       "version_minor": 0
      },
      "text/plain": [
       "HBox(children=(IntProgress(value=1, bar_style='info', max=1), HTML(value='')))"
      ]
     },
     "metadata": {},
     "output_type": "display_data"
    },
    {
     "data": {
      "application/vnd.jupyter.widget-view+json": {
       "model_id": "9e41421f59014df1b9dfe3cefcd67a88",
       "version_major": 2,
       "version_minor": 0
      },
      "text/plain": [
       "HBox(children=(IntProgress(value=1, bar_style='info', max=1), HTML(value='')))"
      ]
     },
     "metadata": {},
     "output_type": "display_data"
    },
    {
     "data": {
      "application/vnd.jupyter.widget-view+json": {
       "model_id": "5ca641799e5643f988ef7bc6c4bdf84b",
       "version_major": 2,
       "version_minor": 0
      },
      "text/plain": [
       "HBox(children=(IntProgress(value=1, bar_style='info', max=1), HTML(value='')))"
      ]
     },
     "metadata": {},
     "output_type": "display_data"
    },
    {
     "data": {
      "application/vnd.jupyter.widget-view+json": {
       "model_id": "751305a42add4820ac2d8282552b1139",
       "version_major": 2,
       "version_minor": 0
      },
      "text/plain": [
       "HBox(children=(IntProgress(value=1, bar_style='info', max=1), HTML(value='')))"
      ]
     },
     "metadata": {},
     "output_type": "display_data"
    },
    {
     "data": {
      "application/vnd.jupyter.widget-view+json": {
       "model_id": "85841ba7cd9747028bd32a0ae2867827",
       "version_major": 2,
       "version_minor": 0
      },
      "text/plain": [
       "HBox(children=(IntProgress(value=1, bar_style='info', max=1), HTML(value='')))"
      ]
     },
     "metadata": {},
     "output_type": "display_data"
    },
    {
     "name": "stdout",
     "output_type": "stream",
     "text": [
      "https://blog.naver.com/minh89w/221877570281 블로그의 본문 크롤링 성공!\n",
      "\n",
      "\n",
      "현재까지 저장된 본문의 개수:  446 \n",
      "\n",
      "https://blog.naver.com/mr16ms1/221067675621 블로그의 본문 크롤링 성공!\n",
      "\n",
      "\n",
      "현재까지 저장된 본문의 개수:  447 \n",
      "\n",
      "https://blog.naver.com/ddolggi18/221911727402 블로그의 본문 크롤링 성공!\n",
      "\n",
      "\n",
      "현재까지 저장된 본문의 개수:  448 \n",
      "\n",
      "https://blog.naver.com/dldpflsdlcks/221960296615 블로그의 본문 크롤링 성공!\n",
      "\n",
      "\n",
      "현재까지 저장된 본문의 개수:  449 \n",
      "\n",
      "https://blog.naver.com/themusia/221065351626 블로그의 본문 크롤링 성공!\n",
      "\n",
      "\n",
      "현재까지 저장된 본문의 개수:  450 \n",
      "\n",
      "460 ~ 464의 블로그 본문 크롤링을 시작합니다.\n",
      "\n",
      " 준오헤어 종합운동장사거리점 의 https://blog.naver.com/0183848800/221867344159 블로그의 본문 크롤링 중...\n",
      "\n",
      "\n",
      " 준오헤어 종합운동장사거리점 의 https://blog.naver.com/hxxya/221904561444 블로그의 본문 크롤링 중...\n",
      "\n",
      "\n",
      " 준오헤어 종합운동장사거리점 의 https://blog.naver.com/dogjin82/221910954553 블로그의 본문 크롤링 중...\n",
      "\n",
      "\n",
      " 준오헤어 종합운동장사거리점 의 https://blog.naver.com/jeong-tt/221860338378 블로그의 본문 크롤링 중...\n",
      "\n",
      "\n",
      " 준오헤어 종합운동장사거리점 의 https://blog.naver.com/yuri6223/221960261115 블로그의 본문 크롤링 중...\n",
      "\n"
     ]
    },
    {
     "data": {
      "application/vnd.jupyter.widget-view+json": {
       "model_id": "f80c2f23b7bd40729b7a0ff9f33b5d60",
       "version_major": 2,
       "version_minor": 0
      },
      "text/plain": [
       "HBox(children=(IntProgress(value=1, bar_style='info', max=1), HTML(value='')))"
      ]
     },
     "metadata": {},
     "output_type": "display_data"
    },
    {
     "data": {
      "application/vnd.jupyter.widget-view+json": {
       "model_id": "36f91fc13cb748aabf761c29db5e8c8c",
       "version_major": 2,
       "version_minor": 0
      },
      "text/plain": [
       "HBox(children=(IntProgress(value=1, bar_style='info', max=1), HTML(value='')))"
      ]
     },
     "metadata": {},
     "output_type": "display_data"
    },
    {
     "data": {
      "application/vnd.jupyter.widget-view+json": {
       "model_id": "72714ef67bd4404483d435810ae20b34",
       "version_major": 2,
       "version_minor": 0
      },
      "text/plain": [
       "HBox(children=(IntProgress(value=1, bar_style='info', max=1), HTML(value='')))"
      ]
     },
     "metadata": {},
     "output_type": "display_data"
    },
    {
     "data": {
      "application/vnd.jupyter.widget-view+json": {
       "model_id": "61f48cc6ab8140a5928848264609da5a",
       "version_major": 2,
       "version_minor": 0
      },
      "text/plain": [
       "HBox(children=(IntProgress(value=1, bar_style='info', max=1), HTML(value='')))"
      ]
     },
     "metadata": {},
     "output_type": "display_data"
    },
    {
     "data": {
      "application/vnd.jupyter.widget-view+json": {
       "model_id": "781886bba08d49c1b176f36e4e2d941b",
       "version_major": 2,
       "version_minor": 0
      },
      "text/plain": [
       "HBox(children=(IntProgress(value=1, bar_style='info', max=1), HTML(value='')))"
      ]
     },
     "metadata": {},
     "output_type": "display_data"
    },
    {
     "name": "stdout",
     "output_type": "stream",
     "text": [
      "https://blog.naver.com/hxxya/221904561444 블로그의 본문 크롤링 성공!\n",
      "\n",
      "\n",
      "현재까지 저장된 본문의 개수:  451 \n",
      "\n",
      "https://blog.naver.com/0183848800/221867344159 블로그의 본문 크롤링 성공!\n",
      "\n",
      "\n",
      "현재까지 저장된 본문의 개수:  452 \n",
      "\n",
      "https://blog.naver.com/dogjin82/221910954553 블로그의 본문 크롤링 성공!\n",
      "\n",
      "\n",
      "현재까지 저장된 본문의 개수:  453 \n",
      "\n",
      "https://blog.naver.com/jeong-tt/221860338378 블로그의 본문 크롤링 성공!\n",
      "\n",
      "\n",
      "현재까지 저장된 본문의 개수:  454 \n",
      "\n",
      "https://blog.naver.com/yuri6223/221960261115 블로그의 본문 크롤링 성공!\n",
      "\n",
      "\n",
      "현재까지 저장된 본문의 개수:  455 \n",
      "\n",
      "465 ~ 469의 블로그 본문 크롤링을 시작합니다.\n",
      "\n",
      " 준오헤어 종합운동장사거리점 의 https://blog.naver.com/fodla3258/221958939866 블로그의 본문 크롤링 중...\n",
      "\n",
      "\n",
      " 준오헤어 종합운동장사거리점 의 https://blog.naver.com/honey9290/221746882013 블로그의 본문 크롤링 중...\n",
      "\n",
      "\n",
      " 준오헤어 종합운동장사거리점 의 https://blog.naver.com/ruxx11/221736391683 블로그의 본문 크롤링 중...\n",
      "\n",
      "\n",
      " 준오헤어 종합운동장사거리점 의 https://blog.naver.com/hananyo/221822303332 블로그의 본문 크롤링 중...\n",
      "\n",
      "\n",
      " 준오헤어 종합운동장사거리점 의 https://blog.naver.com/rebecca0516/221824445791 블로그의 본문 크롤링 중...\n",
      "\n"
     ]
    },
    {
     "data": {
      "application/vnd.jupyter.widget-view+json": {
       "model_id": "902487dfe52d4223bf659570626ee7ca",
       "version_major": 2,
       "version_minor": 0
      },
      "text/plain": [
       "HBox(children=(IntProgress(value=1, bar_style='info', max=1), HTML(value='')))"
      ]
     },
     "metadata": {},
     "output_type": "display_data"
    },
    {
     "data": {
      "application/vnd.jupyter.widget-view+json": {
       "model_id": "7a4811c38712490b9f44a2496c10b66b",
       "version_major": 2,
       "version_minor": 0
      },
      "text/plain": [
       "HBox(children=(IntProgress(value=1, bar_style='info', max=1), HTML(value='')))"
      ]
     },
     "metadata": {},
     "output_type": "display_data"
    },
    {
     "data": {
      "application/vnd.jupyter.widget-view+json": {
       "model_id": "8e6a4a6ecf7146dd9b930ef863a447a8",
       "version_major": 2,
       "version_minor": 0
      },
      "text/plain": [
       "HBox(children=(IntProgress(value=1, bar_style='info', max=1), HTML(value='')))"
      ]
     },
     "metadata": {},
     "output_type": "display_data"
    },
    {
     "data": {
      "application/vnd.jupyter.widget-view+json": {
       "model_id": "56d59f7d80df4c2da7e740258252a169",
       "version_major": 2,
       "version_minor": 0
      },
      "text/plain": [
       "HBox(children=(IntProgress(value=1, bar_style='info', max=1), HTML(value='')))"
      ]
     },
     "metadata": {},
     "output_type": "display_data"
    },
    {
     "data": {
      "application/vnd.jupyter.widget-view+json": {
       "model_id": "a75cb4ec9a7947439b4df1402abbc326",
       "version_major": 2,
       "version_minor": 0
      },
      "text/plain": [
       "HBox(children=(IntProgress(value=1, bar_style='info', max=1), HTML(value='')))"
      ]
     },
     "metadata": {},
     "output_type": "display_data"
    },
    {
     "name": "stdout",
     "output_type": "stream",
     "text": [
      "https://blog.naver.com/fodla3258/221958939866 https://blog.naver.com/honey9290/221746882013 블로그의 본문 크롤링 성공!\n",
      "블로그의 본문 크롤링 성공!\n",
      "\n",
      "\n",
      "\n",
      "현재까지 저장된 본문의 개수: \n",
      " 현재까지 저장된 본문의 개수: 457  457\n",
      "\n",
      " \n",
      "\n",
      "https://blog.naver.com/ruxx11/221736391683 블로그의 본문 크롤링 성공!\n",
      "\n",
      "\n",
      "현재까지 저장된 본문의 개수:  458 \n",
      "\n",
      "https://blog.naver.com/hananyo/221822303332 블로그의 본문 크롤링 성공!\n",
      "\n",
      "\n",
      "현재까지 저장된 본문의 개수:  459 \n",
      "\n",
      "https://blog.naver.com/rebecca0516/221824445791 블로그의 본문 크롤링 성공!\n",
      "\n",
      "\n",
      "현재까지 저장된 본문의 개수:  460 \n",
      "\n",
      "470 ~ 474의 블로그 본문 크롤링을 시작합니다.\n",
      "\n",
      " 준오헤어 종합운동장사거리점 의 https://blog.naver.com/aiba56/221530429637 블로그의 본문 크롤링 중...\n",
      "\n",
      "\n",
      " 준오헤어 종합운동장사거리점 의 https://blog.naver.com/saekomgod/221762141479 블로그의 본문 크롤링 중...\n",
      "\n",
      "\n",
      " 준오헤어 종합운동장사거리점 의 https://blog.naver.com/fodla3258/221957024711 블로그의 본문 크롤링 중...\n",
      "\n",
      "\n",
      " 준오헤어 종합운동장사거리점 의 https://blog.naver.com/b_hn0118/221617398256 블로그의 본문 크롤링 중...\n",
      "\n",
      "\n",
      " 준오헤어 종합운동장사거리점 의 https://blog.naver.com/hari_bo/221917590830 블로그의 본문 크롤링 중...\n",
      "\n"
     ]
    },
    {
     "data": {
      "application/vnd.jupyter.widget-view+json": {
       "model_id": "3b20c6b0ae394236b25c495d4b1d5ad7",
       "version_major": 2,
       "version_minor": 0
      },
      "text/plain": [
       "HBox(children=(IntProgress(value=1, bar_style='info', max=1), HTML(value='')))"
      ]
     },
     "metadata": {},
     "output_type": "display_data"
    },
    {
     "data": {
      "application/vnd.jupyter.widget-view+json": {
       "model_id": "bdcda425391449f19b3c2a09fff1c8c6",
       "version_major": 2,
       "version_minor": 0
      },
      "text/plain": [
       "HBox(children=(IntProgress(value=1, bar_style='info', max=1), HTML(value='')))"
      ]
     },
     "metadata": {},
     "output_type": "display_data"
    },
    {
     "data": {
      "application/vnd.jupyter.widget-view+json": {
       "model_id": "41c755084fcf4b29b9a46d2b90dc9134",
       "version_major": 2,
       "version_minor": 0
      },
      "text/plain": [
       "HBox(children=(IntProgress(value=1, bar_style='info', max=1), HTML(value='')))"
      ]
     },
     "metadata": {},
     "output_type": "display_data"
    },
    {
     "data": {
      "application/vnd.jupyter.widget-view+json": {
       "model_id": "d02465ed79524f1586b7c9c4b4655f1e",
       "version_major": 2,
       "version_minor": 0
      },
      "text/plain": [
       "HBox(children=(IntProgress(value=1, bar_style='info', max=1), HTML(value='')))"
      ]
     },
     "metadata": {},
     "output_type": "display_data"
    },
    {
     "data": {
      "application/vnd.jupyter.widget-view+json": {
       "model_id": "73d247d919244b109e8f11b202a65aa3",
       "version_major": 2,
       "version_minor": 0
      },
      "text/plain": [
       "HBox(children=(IntProgress(value=1, bar_style='info', max=1), HTML(value='')))"
      ]
     },
     "metadata": {},
     "output_type": "display_data"
    },
    {
     "name": "stdout",
     "output_type": "stream",
     "text": [
      "https://blog.naver.com/saekomgod/221762141479https://blog.naver.com/fodla3258/221957024711  블로그의 본문 크롤링 성공!\n",
      "블로그의 본문 크롤링 성공!\n",
      "\n",
      "\n",
      "\n",
      "현재까지 저장된 본문의 개수: \n",
      " 현재까지 저장된 본문의 개수: 462  462\n",
      " \n",
      "\n",
      "\n",
      "https://blog.naver.com/b_hn0118/221617398256 블로그의 본문 크롤링 성공!\n",
      "\n",
      "\n",
      "현재까지 저장된 본문의 개수:  463 \n",
      "\n",
      "https://blog.naver.com/aiba56/221530429637 블로그의 본문 크롤링 성공!\n",
      "\n",
      "\n",
      "현재까지 저장된 본문의 개수:  464 \n",
      "\n",
      "https://blog.naver.com/hari_bo/221917590830 블로그의 본문 크롤링 성공!\n",
      "\n",
      "\n",
      "현재까지 저장된 본문의 개수:  465 \n",
      "\n",
      "475 ~ 479의 블로그 본문 크롤링을 시작합니다.\n",
      "\n",
      " 준오헤어 종합운동장사거리점 의 https://blog.naver.com/dorang1108/221523257090 블로그의 본문 크롤링 중...\n",
      "\n",
      "\n",
      " 준오헤어 종합운동장사거리점 의 https://blog.naver.com/muzirang2/221523459912 블로그의 본문 크롤링 중...\n",
      "\n",
      "\n",
      " 준오헤어 종합운동장사거리점 의 https://blog.naver.com/cheli14/221427117880 블로그의 본문 크롤링 중...\n",
      "\n",
      "\n",
      " 준오헤어 종합운동장사거리점 의 https://blog.naver.com/ruddy23/221905838848 블로그의 본문 크롤링 중...\n",
      "\n",
      "\n",
      " 준오헤어 종합운동장사거리점 의 https://blog.naver.com/wjdalsrud17/221344739372 블로그의 본문 크롤링 중...\n",
      "\n"
     ]
    },
    {
     "data": {
      "application/vnd.jupyter.widget-view+json": {
       "model_id": "b21daba2f66e4515a531069aa53812c0",
       "version_major": 2,
       "version_minor": 0
      },
      "text/plain": [
       "HBox(children=(IntProgress(value=1, bar_style='info', max=1), HTML(value='')))"
      ]
     },
     "metadata": {},
     "output_type": "display_data"
    },
    {
     "data": {
      "application/vnd.jupyter.widget-view+json": {
       "model_id": "66ca1f9eb92749c6aa9d66dec70a668e",
       "version_major": 2,
       "version_minor": 0
      },
      "text/plain": [
       "HBox(children=(IntProgress(value=1, bar_style='info', max=1), HTML(value='')))"
      ]
     },
     "metadata": {},
     "output_type": "display_data"
    },
    {
     "data": {
      "application/vnd.jupyter.widget-view+json": {
       "model_id": "9b1a38f0672a4cb883a456a880e64134",
       "version_major": 2,
       "version_minor": 0
      },
      "text/plain": [
       "HBox(children=(IntProgress(value=1, bar_style='info', max=1), HTML(value='')))"
      ]
     },
     "metadata": {},
     "output_type": "display_data"
    },
    {
     "data": {
      "application/vnd.jupyter.widget-view+json": {
       "model_id": "2225ec3b374c4d42b1714c61ef2ab573",
       "version_major": 2,
       "version_minor": 0
      },
      "text/plain": [
       "HBox(children=(IntProgress(value=1, bar_style='info', max=1), HTML(value='')))"
      ]
     },
     "metadata": {},
     "output_type": "display_data"
    },
    {
     "data": {
      "application/vnd.jupyter.widget-view+json": {
       "model_id": "898cb93d70534e709991dae0e7792108",
       "version_major": 2,
       "version_minor": 0
      },
      "text/plain": [
       "HBox(children=(IntProgress(value=1, bar_style='info', max=1), HTML(value='')))"
      ]
     },
     "metadata": {},
     "output_type": "display_data"
    },
    {
     "name": "stdout",
     "output_type": "stream",
     "text": [
      "https://blog.naver.com/dorang1108/221523257090 블로그의 본문 크롤링 성공!\n",
      "\n",
      "\n",
      "현재까지 저장된 본문의 개수:  466 \n",
      "\n",
      "https://blog.naver.com/cheli14/221427117880https://blog.naver.com/ruddy23/221905838848 블로그의 본문 크롤링 성공!\n",
      " \n",
      "블로그의 본문 크롤링 성공!\n",
      "\n",
      "\n",
      "현재까지 저장된 본문의 개수: \n",
      " 현재까지 저장된 본문의 개수: 467  467\n",
      " \n",
      "\n",
      "\n",
      "https://blog.naver.com/muzirang2/221523459912 블로그의 본문 크롤링 성공!\n",
      "\n",
      "\n",
      "현재까지 저장된 본문의 개수:  468 \n",
      "\n",
      "https://blog.naver.com/wjdalsrud17/221344739372 블로그의 본문 크롤링 성공!\n",
      "\n",
      "\n",
      "현재까지 저장된 본문의 개수:  469 \n",
      "\n",
      "480 ~ 484의 블로그 본문 크롤링을 시작합니다.\n",
      "\n",
      " 준오헤어 종합운동장사거리점 의 https://blog.naver.com/cookie1411/221525221135 블로그의 본문 크롤링 중...\n",
      "\n",
      "\n",
      " 준오헤어 종합운동장사거리점 \n",
      " 의준오헤어 종합운동장사거리점  의https://blog.naver.com/biya222/221207432224  https://blog.naver.com/fodla3258/221952329948블로그의 본문 크롤링 중...\n",
      " \n",
      "블로그의 본문 크롤링 중...\n",
      "\n",
      "\n",
      " 준오헤어 종합운동장사거리점 의 https://blog.naver.com/purebrandy/220639622502 블로그의 본문 크롤링 중...\n",
      "\n",
      "\n",
      " 준오헤어 종합운동장사거리점 의 https://blog.naver.com/chaoyoung/221155028431 블로그의 본문 크롤링 중...\n",
      "\n"
     ]
    },
    {
     "data": {
      "application/vnd.jupyter.widget-view+json": {
       "model_id": "12881054a5644c3b903c4fbd466e8bb3",
       "version_major": 2,
       "version_minor": 0
      },
      "text/plain": [
       "HBox(children=(IntProgress(value=1, bar_style='info', max=1), HTML(value='')))"
      ]
     },
     "metadata": {},
     "output_type": "display_data"
    },
    {
     "data": {
      "application/vnd.jupyter.widget-view+json": {
       "model_id": "b149a254556f40838c4b21ee21697782",
       "version_major": 2,
       "version_minor": 0
      },
      "text/plain": [
       "HBox(children=(IntProgress(value=1, bar_style='info', max=1), HTML(value='')))"
      ]
     },
     "metadata": {},
     "output_type": "display_data"
    },
    {
     "data": {
      "application/vnd.jupyter.widget-view+json": {
       "model_id": "14736dabb61d4f24803573f23bc96971",
       "version_major": 2,
       "version_minor": 0
      },
      "text/plain": [
       "HBox(children=(IntProgress(value=1, bar_style='info', max=1), HTML(value='')))"
      ]
     },
     "metadata": {},
     "output_type": "display_data"
    },
    {
     "data": {
      "application/vnd.jupyter.widget-view+json": {
       "model_id": "1974fa15e4f245069f4f2bde2d9b879d",
       "version_major": 2,
       "version_minor": 0
      },
      "text/plain": [
       "HBox(children=(IntProgress(value=1, bar_style='info', max=1), HTML(value='')))"
      ]
     },
     "metadata": {},
     "output_type": "display_data"
    },
    {
     "data": {
      "application/vnd.jupyter.widget-view+json": {
       "model_id": "0000042f973941f982f090fe81f56037",
       "version_major": 2,
       "version_minor": 0
      },
      "text/plain": [
       "HBox(children=(IntProgress(value=1, bar_style='info', max=1), HTML(value='')))"
      ]
     },
     "metadata": {},
     "output_type": "display_data"
    },
    {
     "name": "stdout",
     "output_type": "stream",
     "text": [
      "https://blog.naver.com/fodla3258/221952329948 블로그의 본문 크롤링 성공!\n",
      "\n",
      "\n",
      "https://blog.naver.com/biya222/221207432224현재까지 저장된 본문의 개수:  블로그의 본문 크롤링 성공!\n",
      " \n",
      "471 \n",
      "\n",
      "현재까지 저장된 본문의 개수:  \n",
      "471 \n",
      "\n",
      "https://blog.naver.com/cookie1411/221525221135 블로그의 본문 크롤링 성공!\n",
      "\n",
      "\n",
      "현재까지 저장된 본문의 개수:  472 \n",
      "\n",
      "https://blog.naver.com/chaoyoung/221155028431 블로그의 본문 크롤링 성공!\n",
      "\n",
      "\n",
      "현재까지 저장된 본문의 개수:  473 \n",
      "\n",
      "https://blog.naver.com/purebrandy/220639622502 블로그의 본문 크롤링 성공!\n",
      "\n",
      "\n",
      "현재까지 저장된 본문의 개수:  474 \n",
      "\n",
      "485 ~ 489의 블로그 본문 크롤링을 시작합니다.\n",
      "\n",
      " 준오헤어 종합운동장사거리점 의 https://blog.naver.com/chs3202/221910929196 블로그의 본문 크롤링 중...\n",
      "\n",
      "\n",
      " 준오헤어 종합운동장사거리점 의 https://blog.naver.com/adh_06/221946835464 블로그의 본문 크롤링 중...\n",
      "\n",
      "\n",
      " 준오헤어 종합운동장사거리점 의 https://blog.naver.com/adh_06/221935806054 블로그의 본문 크롤링 중...\n",
      "\n",
      "\n",
      " 준오헤어 종합운동장사거리점 의 \n",
      "https://blog.naver.com/fodla3258/221950297419  블로그의 본문 크롤링 중...\n",
      "준오헤어 종합운동장사거리점\n",
      " 의 https://blog.naver.com/gnsgml1/221112206765 블로그의 본문 크롤링 중...\n",
      "\n"
     ]
    },
    {
     "data": {
      "application/vnd.jupyter.widget-view+json": {
       "model_id": "91a52feb9bb74a54a59794fbda126691",
       "version_major": 2,
       "version_minor": 0
      },
      "text/plain": [
       "HBox(children=(IntProgress(value=1, bar_style='info', max=1), HTML(value='')))"
      ]
     },
     "metadata": {},
     "output_type": "display_data"
    },
    {
     "data": {
      "application/vnd.jupyter.widget-view+json": {
       "model_id": "2e52cce9c70c4dfdb32b5cf142a4c8af",
       "version_major": 2,
       "version_minor": 0
      },
      "text/plain": [
       "HBox(children=(IntProgress(value=1, bar_style='info', max=1), HTML(value='')))"
      ]
     },
     "metadata": {},
     "output_type": "display_data"
    },
    {
     "data": {
      "application/vnd.jupyter.widget-view+json": {
       "model_id": "f2eb23c819bf40d9b072a682f4f0f2a0",
       "version_major": 2,
       "version_minor": 0
      },
      "text/plain": [
       "HBox(children=(IntProgress(value=1, bar_style='info', max=1), HTML(value='')))"
      ]
     },
     "metadata": {},
     "output_type": "display_data"
    },
    {
     "data": {
      "application/vnd.jupyter.widget-view+json": {
       "model_id": "6e717f71b6b2421cbf502187b55272dc",
       "version_major": 2,
       "version_minor": 0
      },
      "text/plain": [
       "HBox(children=(IntProgress(value=1, bar_style='info', max=1), HTML(value='')))"
      ]
     },
     "metadata": {},
     "output_type": "display_data"
    },
    {
     "data": {
      "application/vnd.jupyter.widget-view+json": {
       "model_id": "80a1e4d6de774083b94f85a248715470",
       "version_major": 2,
       "version_minor": 0
      },
      "text/plain": [
       "HBox(children=(IntProgress(value=1, bar_style='info', max=1), HTML(value='')))"
      ]
     },
     "metadata": {},
     "output_type": "display_data"
    },
    {
     "name": "stdout",
     "output_type": "stream",
     "text": [
      "https://blog.naver.com/adh_06/221946835464 블로그의 본문 크롤링 성공!\n",
      "\n",
      "\n",
      "현재까지 저장된 본문의 개수:  475https://blog.naver.com/adh_06/221935806054 \n",
      " 블로그의 본문 크롤링 성공!\n",
      "\n",
      "\n",
      "\n",
      "현재까지 저장된 본문의 개수:  476 \n",
      "\n",
      "https://blog.naver.com/gnsgml1/221112206765 블로그의 본문 크롤링 성공!\n",
      "\n",
      "\n",
      "현재까지 저장된 본문의 개수:  477 \n",
      "\n",
      "https://blog.naver.com/fodla3258/221950297419 블로그의 본문 크롤링 성공!\n",
      "\n",
      "\n",
      "현재까지 저장된 본문의 개수:  478 \n",
      "\n",
      "https://blog.naver.com/chs3202/221910929196 블로그의 본문 크롤링 성공!\n",
      "\n",
      "\n",
      "현재까지 저장된 본문의 개수:  479 \n",
      "\n",
      "490 ~ 494의 블로그 본문 크롤링을 시작합니다.\n",
      "\n",
      " 준오헤어 종합운동장사거리점 의 https://blog.naver.com/sophiero91/221903853199 블로그의 본문 크롤링 중...\n",
      "\n",
      "\n",
      " 준오헤어 종합운동장사거리점 의 https://blog.naver.com/uni0509/221901285648 블로그의 본문 크롤링 중...\n",
      "\n",
      "\n",
      " 준오헤어 종합운동장사거리점 의 https://blog.naver.com/gmlwls0805/221855251304 블로그의 본문 크롤링 중...\n",
      "\n",
      "\n",
      " 준오헤어 종합운동장사거리점 의 https://blog.naver.com/fodla3258/221948505216 블로그의 본문 크롤링 중...\n",
      "\n",
      "\n",
      " 준오헤어 종합운동장사거리점 의 https://blog.naver.com/fodla3258/221934021831 블로그의 본문 크롤링 중...\n",
      "\n"
     ]
    },
    {
     "data": {
      "application/vnd.jupyter.widget-view+json": {
       "model_id": "1a999147c32e48faa5b78d362063cad5",
       "version_major": 2,
       "version_minor": 0
      },
      "text/plain": [
       "HBox(children=(IntProgress(value=1, bar_style='info', max=1), HTML(value='')))"
      ]
     },
     "metadata": {},
     "output_type": "display_data"
    },
    {
     "data": {
      "application/vnd.jupyter.widget-view+json": {
       "model_id": "9ae4efb5ab10470883abc217d9fc4b12",
       "version_major": 2,
       "version_minor": 0
      },
      "text/plain": [
       "HBox(children=(IntProgress(value=1, bar_style='info', max=1), HTML(value='')))"
      ]
     },
     "metadata": {},
     "output_type": "display_data"
    },
    {
     "data": {
      "application/vnd.jupyter.widget-view+json": {
       "model_id": "28a123b0bd084ffd8f8faef93de35bbf",
       "version_major": 2,
       "version_minor": 0
      },
      "text/plain": [
       "HBox(children=(IntProgress(value=1, bar_style='info', max=1), HTML(value='')))"
      ]
     },
     "metadata": {},
     "output_type": "display_data"
    },
    {
     "data": {
      "application/vnd.jupyter.widget-view+json": {
       "model_id": "23b6e232adf94dcfa6028bd08ef57049",
       "version_major": 2,
       "version_minor": 0
      },
      "text/plain": [
       "HBox(children=(IntProgress(value=1, bar_style='info', max=1), HTML(value='')))"
      ]
     },
     "metadata": {},
     "output_type": "display_data"
    },
    {
     "data": {
      "application/vnd.jupyter.widget-view+json": {
       "model_id": "69da5f8f4831494885ef0f096af2fac7",
       "version_major": 2,
       "version_minor": 0
      },
      "text/plain": [
       "HBox(children=(IntProgress(value=1, bar_style='info', max=1), HTML(value='')))"
      ]
     },
     "metadata": {},
     "output_type": "display_data"
    },
    {
     "name": "stdout",
     "output_type": "stream",
     "text": [
      "https://blog.naver.com/sophiero91/221903853199 블로그의 본문 크롤링 성공!\n",
      "\n",
      "\n",
      "현재까지 저장된 본문의 개수:  480 \n",
      "\n",
      "https://blog.naver.com/fodla3258/221934021831 블로그의 본문 크롤링 성공!\n",
      "\n",
      "\n",
      "현재까지 저장된 본문의 개수:  481 \n",
      "\n",
      "https://blog.naver.com/fodla3258/221948505216 블로그의 본문 크롤링 성공!\n",
      "\n",
      "\n",
      "현재까지 저장된 본문의 개수:  482 \n",
      "\n",
      "https://blog.naver.com/uni0509/221901285648 블로그의 본문 크롤링 성공!\n",
      "\n",
      "\n",
      "현재까지 저장된 본문의 개수:  483 \n",
      "\n",
      "https://blog.naver.com/gmlwls0805/221855251304 블로그의 본문 크롤링 성공!\n",
      "\n",
      "\n",
      "현재까지 저장된 본문의 개수:  484 \n",
      "\n",
      "495 ~ 499의 블로그 본문 크롤링을 시작합니다.\n",
      "\n",
      " 준오헤어 종합운동장사거리점 의 https://blog.naver.com/yul3889/221907445538 블로그의 본문 크롤링 중...\n",
      "\n",
      "\n",
      " 준오헤어 종합운동장사거리점 의 https://blog.naver.com/mykim0403/221860606192 블로그의 본문 크롤링 중...\n",
      "\n",
      "\n",
      " 준오헤어 종합운동장사거리점 의 https://blog.naver.com/first0720/221860786143 블로그의 본문 크롤링 중...\n",
      "\n",
      "\n",
      " 준오헤어 종합운동장사거리점 의 https://blog.naver.com/e11young/221914090212 블로그의 본문 크롤링 중...\n",
      "\n",
      "\n",
      " 준오헤어 종합운동장사거리점 의 https://blog.naver.com/adh_06/221919002583 블로그의 본문 크롤링 중...\n",
      "\n"
     ]
    },
    {
     "data": {
      "application/vnd.jupyter.widget-view+json": {
       "model_id": "a99df23737ef4202a1712e9dd4b169a4",
       "version_major": 2,
       "version_minor": 0
      },
      "text/plain": [
       "HBox(children=(IntProgress(value=1, bar_style='info', max=1), HTML(value='')))"
      ]
     },
     "metadata": {},
     "output_type": "display_data"
    },
    {
     "data": {
      "application/vnd.jupyter.widget-view+json": {
       "model_id": "d5701f5ef7a640d196e087363cb9e76e",
       "version_major": 2,
       "version_minor": 0
      },
      "text/plain": [
       "HBox(children=(IntProgress(value=1, bar_style='info', max=1), HTML(value='')))"
      ]
     },
     "metadata": {},
     "output_type": "display_data"
    },
    {
     "data": {
      "application/vnd.jupyter.widget-view+json": {
       "model_id": "d4cf1f0d6b1b422e96b7892e4dd52b10",
       "version_major": 2,
       "version_minor": 0
      },
      "text/plain": [
       "HBox(children=(IntProgress(value=1, bar_style='info', max=1), HTML(value='')))"
      ]
     },
     "metadata": {},
     "output_type": "display_data"
    },
    {
     "data": {
      "application/vnd.jupyter.widget-view+json": {
       "model_id": "3aceace2f4204760ac1e1b726e1c61e9",
       "version_major": 2,
       "version_minor": 0
      },
      "text/plain": [
       "HBox(children=(IntProgress(value=1, bar_style='info', max=1), HTML(value='')))"
      ]
     },
     "metadata": {},
     "output_type": "display_data"
    },
    {
     "data": {
      "application/vnd.jupyter.widget-view+json": {
       "model_id": "a67ff069aba04994a0e4ab2216a038e8",
       "version_major": 2,
       "version_minor": 0
      },
      "text/plain": [
       "HBox(children=(IntProgress(value=1, bar_style='info', max=1), HTML(value='')))"
      ]
     },
     "metadata": {},
     "output_type": "display_data"
    },
    {
     "name": "stdout",
     "output_type": "stream",
     "text": [
      "https://blog.naver.com/mykim0403/221860606192 블로그의 본문 크롤링 성공!\n",
      "\n",
      "\n",
      "현재까지 저장된 본문의 개수:  485 \n",
      "\n",
      "https://blog.naver.com/first0720/221860786143 블로그의 본문 크롤링 성공!\n",
      "\n",
      "\n",
      "현재까지 저장된 본문의 개수:  486 \n",
      "\n",
      "https://blog.naver.com/adh_06/221919002583 블로그의 본문 크롤링 성공!\n",
      "\n",
      "\n",
      "현재까지 저장된 본문의 개수:  487 \n",
      "\n",
      "https://blog.naver.com/e11young/221914090212https://blog.naver.com/yul3889/221907445538  블로그의 본문 크롤링 성공!\n",
      "블로그의 본문 크롤링 성공!\n",
      "\n",
      "\n",
      "\n",
      "현재까지 저장된 본문의 개수: \n",
      "현재까지 저장된 본문의 개수:   488488  \n",
      "\n",
      "\n",
      "\n",
      "500 ~ 504의 블로그 본문 크롤링을 시작합니다.\n",
      "\n",
      " 준오헤어 종합운동장사거리점 의 https://blog.naver.com/fodla3258/221922768034 블로그의 본문 크롤링 중...\n",
      "\n",
      "\n",
      " 준오헤어 종합운동장사거리점 의 https://blog.naver.com/london1013/221858162351 블로그의 본문 크롤링 중...\n",
      "\n",
      "\n",
      " 준오헤어 종합운동장사거리점 의 https://blog.naver.com/fodla3258/221932104036 블로그의 본문 크롤링 중...\n",
      "\n",
      "\n",
      " 준오헤어 종합운동장사거리점 의 https://blog.naver.com/anna_486/221839994816 블로그의 본문 크롤링 중...\n",
      "\n",
      "\n",
      " 준오헤어 종합운동장사거리점 의 https://blog.naver.com/fodla3258/221936085374 블로그의 본문 크롤링 중...\n",
      "\n"
     ]
    },
    {
     "data": {
      "application/vnd.jupyter.widget-view+json": {
       "model_id": "4ed9399a28cf44fc8398e186ce88695b",
       "version_major": 2,
       "version_minor": 0
      },
      "text/plain": [
       "HBox(children=(IntProgress(value=1, bar_style='info', max=1), HTML(value='')))"
      ]
     },
     "metadata": {},
     "output_type": "display_data"
    },
    {
     "data": {
      "application/vnd.jupyter.widget-view+json": {
       "model_id": "7169c10c1813421c909f023521737cf1",
       "version_major": 2,
       "version_minor": 0
      },
      "text/plain": [
       "HBox(children=(IntProgress(value=1, bar_style='info', max=1), HTML(value='')))"
      ]
     },
     "metadata": {},
     "output_type": "display_data"
    },
    {
     "data": {
      "application/vnd.jupyter.widget-view+json": {
       "model_id": "8c98dbf235ae4a298767a2257b4696cd",
       "version_major": 2,
       "version_minor": 0
      },
      "text/plain": [
       "HBox(children=(IntProgress(value=1, bar_style='info', max=1), HTML(value='')))"
      ]
     },
     "metadata": {},
     "output_type": "display_data"
    },
    {
     "data": {
      "application/vnd.jupyter.widget-view+json": {
       "model_id": "63ba4b4f66c74c49b11027314b3de72e",
       "version_major": 2,
       "version_minor": 0
      },
      "text/plain": [
       "HBox(children=(IntProgress(value=1, bar_style='info', max=1), HTML(value='')))"
      ]
     },
     "metadata": {},
     "output_type": "display_data"
    },
    {
     "data": {
      "application/vnd.jupyter.widget-view+json": {
       "model_id": "994171e6b2ce43a3a1e74cafe7d4ef9f",
       "version_major": 2,
       "version_minor": 0
      },
      "text/plain": [
       "HBox(children=(IntProgress(value=1, bar_style='info', max=1), HTML(value='')))"
      ]
     },
     "metadata": {},
     "output_type": "display_data"
    },
    {
     "name": "stdout",
     "output_type": "stream",
     "text": [
      "https://blog.naver.com/fodla3258/221922768034 블로그의 본문 크롤링 성공!\n",
      "\n",
      "\n",
      "현재까지 저장된 본문의 개수:  489 \n",
      "\n",
      "https://blog.naver.com/london1013/221858162351 블로그의 본문 크롤링 성공!\n",
      "\n",
      "\n",
      "현재까지 저장된 본문의 개수:  490 https://blog.naver.com/fodla3258/221932104036\n",
      " \n",
      "블로그의 본문 크롤링 성공!\n",
      "\n",
      "\n",
      "현재까지 저장된 본문의 개수:  491 \n",
      "\n",
      "https://blog.naver.com/fodla3258/221936085374 블로그의 본문 크롤링 성공!\n",
      "\n",
      "\n",
      "현재까지 저장된 본문의 개수:  492 \n",
      "\n",
      "https://blog.naver.com/anna_486/221839994816 블로그의 본문 크롤링 성공!\n",
      "\n",
      "\n",
      "현재까지 저장된 본문의 개수:  493 \n",
      "\n",
      "505 ~ 509의 블로그 본문 크롤링을 시작합니다.\n",
      "\n",
      " 이가자헤어비스 공덕역점 의 https://blog.naver.com/zoy_s/221565614293 블로그의 본문 크롤링 중...\n",
      "\n",
      "\n",
      " 준오헤어 종합운동장사거리점 의 https://blog.naver.com/thdus6319/221868445002 블로그의 본문 크롤링 중...\n",
      "\n",
      "\n",
      " 준오헤어 종합운동장사거리점 의 https://blog.naver.com/saim11/221896271822 블로그의 본문 크롤링 중...\n",
      "\n",
      "\n",
      " 준오헤어 종합운동장사거리점 의 https://blog.naver.com/adh_06/221882783110 블로그의 본문 크롤링 중...\n",
      "\n",
      "\n",
      " 준오헤어 종합운동장사거리점 의 https://blog.naver.com/cherryb128/221914098192 블로그의 본문 크롤링 중...\n",
      "\n"
     ]
    },
    {
     "data": {
      "application/vnd.jupyter.widget-view+json": {
       "model_id": "aa403a8988174f348d045611ed01910d",
       "version_major": 2,
       "version_minor": 0
      },
      "text/plain": [
       "HBox(children=(IntProgress(value=1, bar_style='info', max=1), HTML(value='')))"
      ]
     },
     "metadata": {},
     "output_type": "display_data"
    },
    {
     "data": {
      "application/vnd.jupyter.widget-view+json": {
       "model_id": "d8988b05482a4d8e903c6d0c3a6d2911",
       "version_major": 2,
       "version_minor": 0
      },
      "text/plain": [
       "HBox(children=(IntProgress(value=1, bar_style='info', max=1), HTML(value='')))"
      ]
     },
     "metadata": {},
     "output_type": "display_data"
    },
    {
     "data": {
      "application/vnd.jupyter.widget-view+json": {
       "model_id": "3edb141f41e94dc7aa5ab76ff19c11f2",
       "version_major": 2,
       "version_minor": 0
      },
      "text/plain": [
       "HBox(children=(IntProgress(value=1, bar_style='info', max=1), HTML(value='')))"
      ]
     },
     "metadata": {},
     "output_type": "display_data"
    },
    {
     "data": {
      "application/vnd.jupyter.widget-view+json": {
       "model_id": "314f9da3aeea401f91f7e9b873ab8362",
       "version_major": 2,
       "version_minor": 0
      },
      "text/plain": [
       "HBox(children=(IntProgress(value=1, bar_style='info', max=1), HTML(value='')))"
      ]
     },
     "metadata": {},
     "output_type": "display_data"
    },
    {
     "data": {
      "application/vnd.jupyter.widget-view+json": {
       "model_id": "553b8b253ec54083ac5748befca8bae3",
       "version_major": 2,
       "version_minor": 0
      },
      "text/plain": [
       "HBox(children=(IntProgress(value=1, bar_style='info', max=1), HTML(value='')))"
      ]
     },
     "metadata": {},
     "output_type": "display_data"
    },
    {
     "name": "stdout",
     "output_type": "stream",
     "text": [
      "https://blog.naver.com/zoy_s/221565614293 블로그의 본문 크롤링 성공!\n",
      "\n",
      "\n",
      "현재까지 저장된 본문의 개수: https://blog.naver.com/thdus6319/221868445002 494  블로그의 본문 크롤링 성공!\n",
      "\n",
      "\n",
      "\n",
      "\n",
      "현재까지 저장된 본문의 개수:  495 \n",
      "\n",
      "https://blog.naver.com/saim11/221896271822 블로그의 본문 크롤링 성공!\n",
      "\n",
      "\n",
      "현재까지 저장된 본문의 개수:  496 \n",
      "\n",
      "https://blog.naver.com/adh_06/221882783110 블로그의 본문 크롤링 성공!\n",
      "\n",
      "\n",
      "현재까지 저장된 본문의 개수:  497 \n",
      "\n",
      "https://blog.naver.com/cherryb128/221914098192 블로그의 본문 크롤링 성공!\n",
      "\n",
      "\n",
      "현재까지 저장된 본문의 개수:  498 \n",
      "\n",
      "510 ~ 514의 블로그 본문 크롤링을 시작합니다.\n",
      "\n",
      " 이가자헤어비스 공덕역점 의 https://blog.naver.com/qkd25/221339245185 블로그의 본문 크롤링 중...\n",
      "\n",
      "\n",
      " 준오헤어 종합운동장사거리점 의 https://blog.naver.com/fodla3258/221924772129 블로그의 본문 크롤링 중...\n",
      "\n",
      "\n",
      " 이가자헤어비스 공덕역점 의 https://blog.naver.com/dufrn95/221576327786 블로그의 본문 크롤링 중...\n",
      "\n",
      "\n",
      " 준오헤어 종합운동장사거리점 의 https://blog.naver.com/koocecream/221850388274 블로그의 본문 크롤링 중...\n",
      "\n",
      "\n",
      " 이가자헤어비스 공덕역점 의 https://blog.naver.com/luv_blog/221447453454 블로그의 본문 크롤링 중...\n",
      "\n"
     ]
    },
    {
     "data": {
      "application/vnd.jupyter.widget-view+json": {
       "model_id": "dad7e97f4c25458285f02c768035c893",
       "version_major": 2,
       "version_minor": 0
      },
      "text/plain": [
       "HBox(children=(IntProgress(value=1, bar_style='info', max=1), HTML(value='')))"
      ]
     },
     "metadata": {},
     "output_type": "display_data"
    },
    {
     "data": {
      "application/vnd.jupyter.widget-view+json": {
       "model_id": "8f5ca13d3d444bc3bc46932827014e9d",
       "version_major": 2,
       "version_minor": 0
      },
      "text/plain": [
       "HBox(children=(IntProgress(value=1, bar_style='info', max=1), HTML(value='')))"
      ]
     },
     "metadata": {},
     "output_type": "display_data"
    },
    {
     "data": {
      "application/vnd.jupyter.widget-view+json": {
       "model_id": "09a880288b264962a613e9a25941f7c2",
       "version_major": 2,
       "version_minor": 0
      },
      "text/plain": [
       "HBox(children=(IntProgress(value=1, bar_style='info', max=1), HTML(value='')))"
      ]
     },
     "metadata": {},
     "output_type": "display_data"
    },
    {
     "data": {
      "application/vnd.jupyter.widget-view+json": {
       "model_id": "b6846b70f19a422dae5494f7350f17de",
       "version_major": 2,
       "version_minor": 0
      },
      "text/plain": [
       "HBox(children=(IntProgress(value=1, bar_style='info', max=1), HTML(value='')))"
      ]
     },
     "metadata": {},
     "output_type": "display_data"
    },
    {
     "data": {
      "application/vnd.jupyter.widget-view+json": {
       "model_id": "2989d42e21994bf2a47585e193ef685b",
       "version_major": 2,
       "version_minor": 0
      },
      "text/plain": [
       "HBox(children=(IntProgress(value=1, bar_style='info', max=1), HTML(value='')))"
      ]
     },
     "metadata": {},
     "output_type": "display_data"
    },
    {
     "name": "stdout",
     "output_type": "stream",
     "text": [
      "https://blog.naver.com/qkd25/221339245185 블로그의 본문 크롤링 성공!\n",
      "\n",
      "\n",
      "현재까지 저장된 본문의 개수:  499 \n",
      "https://blog.naver.com/dufrn95/221576327786\n",
      " 블로그의 본문 크롤링 성공!\n",
      "\n",
      "\n",
      "현재까지 저장된 본문의 개수:  500 \n",
      "\n",
      "https://blog.naver.com/fodla3258/221924772129 블로그의 본문 크롤링 성공!\n",
      "\n",
      "\n",
      "현재까지 저장된 본문의 개수:  501 \n",
      "\n",
      "https://blog.naver.com/koocecream/221850388274 블로그의 본문 크롤링 성공!\n",
      "\n",
      "\n",
      "현재까지 저장된 본문의 개수:  502 \n",
      "\n",
      "https://blog.naver.com/luv_blog/221447453454 블로그의 본문 크롤링 성공!\n",
      "\n",
      "\n",
      "현재까지 저장된 본문의 개수:  503 \n",
      "\n",
      "515 ~ 519의 블로그 본문 크롤링을 시작합니다.\n",
      "\n",
      " 준오헤어 종합운동장사거리점 의 https://blog.naver.com/adh_06/221838863323 블로그의 본문 크롤링 중...\n",
      "\n",
      "\n",
      " 준오헤어 종합운동장사거리점 의 https://blog.naver.com/csh2952/221936060783 블로그의 본문 크롤링 중...\n",
      "\n",
      "\n",
      " 준오헤어 종합운동장사거리점 의 https://blog.naver.com/adh_06/221860106759 블로그의 본문 크롤링 중...\n",
      "\n",
      "\n",
      " 준오헤어 종합운동장사거리점 의 https://blog.naver.com/adh_06/221830526142 블로그의 본문 크롤링 중...\n",
      "\n",
      "\n",
      " 준오헤어 종합운동장사거리점 의 https://blog.naver.com/stargoods/221854899697 블로그의 본문 크롤링 중...\n",
      "\n"
     ]
    },
    {
     "data": {
      "application/vnd.jupyter.widget-view+json": {
       "model_id": "f40a7901d2144c598134a335c469b4d0",
       "version_major": 2,
       "version_minor": 0
      },
      "text/plain": [
       "HBox(children=(IntProgress(value=1, bar_style='info', max=1), HTML(value='')))"
      ]
     },
     "metadata": {},
     "output_type": "display_data"
    },
    {
     "data": {
      "application/vnd.jupyter.widget-view+json": {
       "model_id": "7442bd87dde04c0b8c7d76387dbe8952",
       "version_major": 2,
       "version_minor": 0
      },
      "text/plain": [
       "HBox(children=(IntProgress(value=1, bar_style='info', max=1), HTML(value='')))"
      ]
     },
     "metadata": {},
     "output_type": "display_data"
    },
    {
     "data": {
      "application/vnd.jupyter.widget-view+json": {
       "model_id": "47b3d11f80884dddb9bcd8ae0902a129",
       "version_major": 2,
       "version_minor": 0
      },
      "text/plain": [
       "HBox(children=(IntProgress(value=1, bar_style='info', max=1), HTML(value='')))"
      ]
     },
     "metadata": {},
     "output_type": "display_data"
    },
    {
     "data": {
      "application/vnd.jupyter.widget-view+json": {
       "model_id": "e9bda34e725340229462443a4e1e4862",
       "version_major": 2,
       "version_minor": 0
      },
      "text/plain": [
       "HBox(children=(IntProgress(value=1, bar_style='info', max=1), HTML(value='')))"
      ]
     },
     "metadata": {},
     "output_type": "display_data"
    },
    {
     "data": {
      "application/vnd.jupyter.widget-view+json": {
       "model_id": "ab49f72ebc8341079b71d726006a51df",
       "version_major": 2,
       "version_minor": 0
      },
      "text/plain": [
       "HBox(children=(IntProgress(value=1, bar_style='info', max=1), HTML(value='')))"
      ]
     },
     "metadata": {},
     "output_type": "display_data"
    },
    {
     "name": "stdout",
     "output_type": "stream",
     "text": [
      "https://blog.naver.com/adh_06/221830526142 블로그의 본문 크롤링 성공!\n",
      "\n",
      "\n",
      "현재까지 저장된 본문의 개수:  504 \n",
      "\n",
      "https://blog.naver.com/adh_06/221860106759 블로그의 본문 크롤링 성공!\n",
      "\n",
      "\n",
      "현재까지 저장된 본문의 개수:  505 \n",
      "\n",
      "https://blog.naver.com/adh_06/221838863323 블로그의 본문 크롤링 성공!\n",
      "\n",
      "\n",
      "현재까지 저장된 본문의 개수:  506 \n",
      "\n",
      "https://blog.naver.com/csh2952/221936060783 블로그의 본문 크롤링 성공!\n",
      "\n",
      "\n",
      "현재까지 저장된 본문의 개수:  507 \n",
      "\n",
      "https://blog.naver.com/stargoods/221854899697 블로그의 본문 크롤링 성공!\n",
      "\n",
      "\n",
      "현재까지 저장된 본문의 개수:  508 \n",
      "\n",
      "520 ~ 524의 블로그 본문 크롤링을 시작합니다.\n",
      "\n",
      " 이가자헤어비스 공덕역점 의 https://blog.naver.com/gonji22/221025153380 블로그의 본문 크롤링 중...\n",
      "\n",
      "\n",
      " 준오헤어 종합운동장사거리점 의 https://blog.naver.com/fodla3258/221918930470 블로그의 본문 크롤링 중...\n",
      "\n",
      "\n",
      " 준오헤어 종합운동장사거리점 의 https://blog.naver.com/qorrud21/221913848851 블로그의 본문 크롤링 중...\n",
      "\n",
      "\n",
      " 준오헤어 종합운동장사거리점 의 https://blog.naver.com/csh2952/221920565312 블로그의 본문 크롤링 중...\n",
      "\n",
      "\n",
      " 준오헤어 종합운동장사거리점 의 https://blog.naver.com/csh2952/221924215206 블로그의 본문 크롤링 중...\n",
      "\n"
     ]
    },
    {
     "data": {
      "application/vnd.jupyter.widget-view+json": {
       "model_id": "5b2cec75be474fb38b3957660289f7d4",
       "version_major": 2,
       "version_minor": 0
      },
      "text/plain": [
       "HBox(children=(IntProgress(value=1, bar_style='info', max=1), HTML(value='')))"
      ]
     },
     "metadata": {},
     "output_type": "display_data"
    },
    {
     "data": {
      "application/vnd.jupyter.widget-view+json": {
       "model_id": "58fbd7e4880341e8895444a092b9771e",
       "version_major": 2,
       "version_minor": 0
      },
      "text/plain": [
       "HBox(children=(IntProgress(value=1, bar_style='info', max=1), HTML(value='')))"
      ]
     },
     "metadata": {},
     "output_type": "display_data"
    },
    {
     "data": {
      "application/vnd.jupyter.widget-view+json": {
       "model_id": "a6360e704b374856b2e6068a140a32d0",
       "version_major": 2,
       "version_minor": 0
      },
      "text/plain": [
       "HBox(children=(IntProgress(value=1, bar_style='info', max=1), HTML(value='')))"
      ]
     },
     "metadata": {},
     "output_type": "display_data"
    },
    {
     "data": {
      "application/vnd.jupyter.widget-view+json": {
       "model_id": "6d9231291da147ebaee1f5a1673e3e97",
       "version_major": 2,
       "version_minor": 0
      },
      "text/plain": [
       "HBox(children=(IntProgress(value=1, bar_style='info', max=1), HTML(value='')))"
      ]
     },
     "metadata": {},
     "output_type": "display_data"
    },
    {
     "data": {
      "application/vnd.jupyter.widget-view+json": {
       "model_id": "b6e60176a6ea42bf946c791436e97b73",
       "version_major": 2,
       "version_minor": 0
      },
      "text/plain": [
       "HBox(children=(IntProgress(value=1, bar_style='info', max=1), HTML(value='')))"
      ]
     },
     "metadata": {},
     "output_type": "display_data"
    },
    {
     "name": "stdout",
     "output_type": "stream",
     "text": [
      "https://blog.naver.com/gonji22/221025153380 블로그의 본문 크롤링 성공!\n",
      "\n",
      "\n",
      "현재까지 저장된 본문의 개수: https://blog.naver.com/fodla3258/221918930470  509 블로그의 본문 크롤링 성공!\n",
      "\n",
      "\n",
      "\n",
      "\n",
      "현재까지 저장된 본문의 개수:  510 \n",
      "\n",
      "https://blog.naver.com/csh2952/221920565312 블로그의 본문 크롤링 성공!\n",
      "\n",
      "\n",
      "현재까지 저장된 본문의 개수:  511 \n",
      "\n",
      "https://blog.naver.com/csh2952/221924215206 블로그의 본문 크롤링 성공!\n",
      "\n",
      "\n",
      "현재까지 저장된 본문의 개수:  512 \n",
      "\n",
      "https://blog.naver.com/qorrud21/221913848851 블로그의 본문 크롤링 성공!\n",
      "\n",
      "\n",
      "현재까지 저장된 본문의 개수:  513 \n",
      "\n",
      "525 ~ 529의 블로그 본문 크롤링을 시작합니다.\n",
      "\n",
      " 이가자헤어비스 공덕역점 의 https://blog.naver.com/ahfptlrp6598/221742938469 블로그의 본문 크롤링 중...\n",
      "\n",
      "\n",
      " 준오헤어 노원문화의거리점 의 https://blog.naver.com/rntjsghk11/221773447872 블로그의 본문 크롤링 중...\n",
      "\n",
      "\n",
      " 준오헤어 종합운동장사거리점 의 https://blog.naver.com/fodla3258/221899255650 블로그의 본문 크롤링 중...\n",
      "\n",
      "\n",
      " 이가자헤어비스 공덕역점 의 https://blog.naver.com/chanel8199/221543903841 블로그의 본문 크롤링 중...\n",
      "\n",
      "\n",
      " 이가자헤어비스 공덕역점 의 https://blog.naver.com/miquragi/221027307355 블로그의 본문 크롤링 중...\n",
      "\n"
     ]
    },
    {
     "data": {
      "application/vnd.jupyter.widget-view+json": {
       "model_id": "839869c456a148e5b8144c26d2bef105",
       "version_major": 2,
       "version_minor": 0
      },
      "text/plain": [
       "HBox(children=(IntProgress(value=1, bar_style='info', max=1), HTML(value='')))"
      ]
     },
     "metadata": {},
     "output_type": "display_data"
    },
    {
     "data": {
      "application/vnd.jupyter.widget-view+json": {
       "model_id": "4a77225fe4a8442d9acffac70e97a834",
       "version_major": 2,
       "version_minor": 0
      },
      "text/plain": [
       "HBox(children=(IntProgress(value=1, bar_style='info', max=1), HTML(value='')))"
      ]
     },
     "metadata": {},
     "output_type": "display_data"
    },
    {
     "data": {
      "application/vnd.jupyter.widget-view+json": {
       "model_id": "89c2455037a843aca41e3f67021568ba",
       "version_major": 2,
       "version_minor": 0
      },
      "text/plain": [
       "HBox(children=(IntProgress(value=1, bar_style='info', max=1), HTML(value='')))"
      ]
     },
     "metadata": {},
     "output_type": "display_data"
    },
    {
     "data": {
      "application/vnd.jupyter.widget-view+json": {
       "model_id": "37489e4e979b4990a7363b289a159efc",
       "version_major": 2,
       "version_minor": 0
      },
      "text/plain": [
       "HBox(children=(IntProgress(value=1, bar_style='info', max=1), HTML(value='')))"
      ]
     },
     "metadata": {},
     "output_type": "display_data"
    },
    {
     "data": {
      "application/vnd.jupyter.widget-view+json": {
       "model_id": "26f78219b436455ba42024acaf545d5c",
       "version_major": 2,
       "version_minor": 0
      },
      "text/plain": [
       "HBox(children=(IntProgress(value=1, bar_style='info', max=1), HTML(value='')))"
      ]
     },
     "metadata": {},
     "output_type": "display_data"
    },
    {
     "name": "stdout",
     "output_type": "stream",
     "text": [
      "https://blog.naver.com/ahfptlrp6598/221742938469 블로그의 본문 크롤링 성공!\n",
      "\n",
      "\n",
      "현재까지 저장된 본문의 개수:  514 \n",
      "\n",
      "https://blog.naver.com/miquragi/221027307355 블로그의 본문 크롤링 성공!\n",
      "\n",
      "\n",
      "현재까지 저장된 본문의 개수:  515 \n",
      "\n",
      "https://blog.naver.com/rntjsghk11/221773447872 블로그의 본문 크롤링 성공!\n",
      "\n",
      "\n",
      "현재까지 저장된 본문의 개수:  516 \n",
      "\n",
      "https://blog.naver.com/fodla3258/221899255650 블로그의 본문 크롤링 성공!\n",
      "\n",
      "\n",
      "현재까지 저장된 본문의 개수:  517 \n",
      "\n",
      "https://blog.naver.com/chanel8199/221543903841 블로그의 본문 크롤링 성공!\n",
      "\n",
      "\n",
      "현재까지 저장된 본문의 개수:  518 \n",
      "\n",
      "530 ~ 534의 블로그 본문 크롤링을 시작합니다.\n",
      "\n",
      " 준오헤어 노원문화의거리점 의 https://blog.naver.com/rntjsghk11/221850830785 블로그의 본문 크롤링 중...\n",
      "\n",
      "\n",
      " 준오헤어 노원문화의거리점 의 https://blog.naver.com/manglemangle/221478642658 블로그의 본문 크롤링 중...\n",
      "\n",
      "\n",
      " 준오헤어 노원문화의거리점 의 https://blog.naver.com/an2120/221577907699 블로그의 본문 크롤링 중...\n",
      "\n",
      "\n",
      " 준오헤어 노원문화의거리점 의 https://blog.naver.com/ejej1030/221788879706 블로그의 본문 크롤링 중...\n",
      "\n",
      "\n",
      " 준오헤어 노원문화의거리점 의 https://blog.naver.com/yoonji3/221755140571 블로그의 본문 크롤링 중...\n",
      "\n"
     ]
    },
    {
     "data": {
      "application/vnd.jupyter.widget-view+json": {
       "model_id": "7adbe9d8fb7c4ad8b1f53d68f6205a5b",
       "version_major": 2,
       "version_minor": 0
      },
      "text/plain": [
       "HBox(children=(IntProgress(value=1, bar_style='info', max=1), HTML(value='')))"
      ]
     },
     "metadata": {},
     "output_type": "display_data"
    },
    {
     "data": {
      "application/vnd.jupyter.widget-view+json": {
       "model_id": "1b1ac00ce475476789d6ae2a9b96816f",
       "version_major": 2,
       "version_minor": 0
      },
      "text/plain": [
       "HBox(children=(IntProgress(value=1, bar_style='info', max=1), HTML(value='')))"
      ]
     },
     "metadata": {},
     "output_type": "display_data"
    },
    {
     "data": {
      "application/vnd.jupyter.widget-view+json": {
       "model_id": "3e19ce3a15d945aba3d07ec70200360b",
       "version_major": 2,
       "version_minor": 0
      },
      "text/plain": [
       "HBox(children=(IntProgress(value=1, bar_style='info', max=1), HTML(value='')))"
      ]
     },
     "metadata": {},
     "output_type": "display_data"
    },
    {
     "data": {
      "application/vnd.jupyter.widget-view+json": {
       "model_id": "acbd27c24013474393d515f349187134",
       "version_major": 2,
       "version_minor": 0
      },
      "text/plain": [
       "HBox(children=(IntProgress(value=1, bar_style='info', max=1), HTML(value='')))"
      ]
     },
     "metadata": {},
     "output_type": "display_data"
    },
    {
     "data": {
      "application/vnd.jupyter.widget-view+json": {
       "model_id": "7e730aa8ca77421c9cb2d9d836581119",
       "version_major": 2,
       "version_minor": 0
      },
      "text/plain": [
       "HBox(children=(IntProgress(value=1, bar_style='info', max=1), HTML(value='')))"
      ]
     },
     "metadata": {},
     "output_type": "display_data"
    },
    {
     "name": "stdout",
     "output_type": "stream",
     "text": [
      "https://blog.naver.com/rntjsghk11/221850830785 블로그의 본문 크롤링 성공!\n",
      "\n",
      "\n",
      "현재까지 저장된 본문의 개수:  519 \n",
      "\n",
      "https://blog.naver.com/an2120/221577907699 블로그의 본문 크롤링 성공!\n",
      "\n",
      "\n",
      "현재까지 저장된 본문의 개수:  520 \n",
      "\n",
      "https://blog.naver.com/ejej1030/221788879706 블로그의 본문 크롤링 성공!\n",
      "\n",
      "\n",
      "현재까지 저장된 본문의 개수:  521 \n",
      "\n",
      "https://blog.naver.com/manglemangle/221478642658https://blog.naver.com/yoonji3/221755140571  블로그의 본문 크롤링 성공!\n",
      "블로그의 본문 크롤링 성공!\n",
      "\n",
      "\n",
      "\n",
      "현재까지 저장된 본문의 개수: \n",
      " 현재까지 저장된 본문의 개수: 523 523 \n",
      " \n",
      "\n",
      "\n",
      "535 ~ 539의 블로그 본문 크롤링을 시작합니다.\n",
      "\n",
      " 준오헤어 노원문화의거리점 의 https://blog.naver.com/smile_zz/221565258131 블로그의 본문 크롤링 중...\n",
      "\n",
      "\n",
      " 준오헤어 노원문화의거리점 의 https://blog.naver.com/mirna0162/221959736607 블로그의 본문 크롤링 중...\n",
      "\n",
      "\n",
      " 준오헤어 노원문화의거리점 의 https://blog.naver.com/tweeny052/221498373062 블로그의 본문 크롤링 중...\n",
      "\n",
      "\n",
      " 준오헤어 노원문화의거리점 의 https://blog.naver.com/gudwldnd/221803484213 블로그의 본문 크롤링 중...\n",
      "\n",
      "\n",
      " 준오헤어 노원문화의거리점 의 https://blog.naver.com/sunshine_308/221673849769 블로그의 본문 크롤링 중...\n",
      "\n"
     ]
    },
    {
     "data": {
      "application/vnd.jupyter.widget-view+json": {
       "model_id": "4785016af29f47e2a84462d0a162d1ed",
       "version_major": 2,
       "version_minor": 0
      },
      "text/plain": [
       "HBox(children=(IntProgress(value=1, bar_style='info', max=1), HTML(value='')))"
      ]
     },
     "metadata": {},
     "output_type": "display_data"
    },
    {
     "data": {
      "application/vnd.jupyter.widget-view+json": {
       "model_id": "be3135d3937843aea2bda9c8dc0d742f",
       "version_major": 2,
       "version_minor": 0
      },
      "text/plain": [
       "HBox(children=(IntProgress(value=1, bar_style='info', max=1), HTML(value='')))"
      ]
     },
     "metadata": {},
     "output_type": "display_data"
    },
    {
     "data": {
      "application/vnd.jupyter.widget-view+json": {
       "model_id": "8ed802a1eeb54706a60363e94012b5d1",
       "version_major": 2,
       "version_minor": 0
      },
      "text/plain": [
       "HBox(children=(IntProgress(value=1, bar_style='info', max=1), HTML(value='')))"
      ]
     },
     "metadata": {},
     "output_type": "display_data"
    },
    {
     "data": {
      "application/vnd.jupyter.widget-view+json": {
       "model_id": "c5c87902f8624baea60df39742474988",
       "version_major": 2,
       "version_minor": 0
      },
      "text/plain": [
       "HBox(children=(IntProgress(value=1, bar_style='info', max=1), HTML(value='')))"
      ]
     },
     "metadata": {},
     "output_type": "display_data"
    },
    {
     "data": {
      "application/vnd.jupyter.widget-view+json": {
       "model_id": "33ecc48723944c6599b1b199deb4117c",
       "version_major": 2,
       "version_minor": 0
      },
      "text/plain": [
       "HBox(children=(IntProgress(value=1, bar_style='info', max=1), HTML(value='')))"
      ]
     },
     "metadata": {},
     "output_type": "display_data"
    },
    {
     "name": "stdout",
     "output_type": "stream",
     "text": [
      "https://blog.naver.com/tweeny052/221498373062 블로그의 본문 크롤링 성공!\n",
      "\n",
      "\n",
      "현재까지 저장된 본문의 개수:  524https://blog.naver.com/smile_zz/221565258131 블로그의 본문 크롤링 성공!\n",
      " \n",
      "\n",
      "\n",
      "\n",
      "현재까지 저장된 본문의 개수:  525 \n",
      "\n",
      "https://blog.naver.com/sunshine_308/221673849769 블로그의 본문 크롤링 성공!\n",
      "\n",
      "\n",
      "현재까지 저장된 본문의 개수:  526 \n",
      "\n",
      "https://blog.naver.com/gudwldnd/221803484213 블로그의 본문 크롤링 성공!\n",
      "\n",
      "\n",
      "현재까지 저장된 본문의 개수:  527 \n",
      "\n",
      "https://blog.naver.com/mirna0162/221959736607 블로그의 본문 크롤링 성공!\n",
      "\n",
      "\n",
      "현재까지 저장된 본문의 개수:  528 \n",
      "\n",
      "540 ~ 544의 블로그 본문 크롤링을 시작합니다.\n",
      "\n",
      " 준오헤어 노원문화의거리점 의 https://blog.naver.com/darkeun00/221909892649 블로그의 본문 크롤링 중...\n",
      "\n",
      "\n",
      " 준오헤어 노원문화의거리점 의 https://blog.naver.com/laeda/221516927016 블로그의 본문 크롤링 중...\n",
      "\n",
      "\n",
      " 준오헤어 노원문화의거리점 의 https://blog.naver.com/gywjd3101/221925196935 블로그의 본문 크롤링 중...\n",
      "\n",
      "\n",
      " 준오헤어 노원문화의거리점 의 https://blog.naver.com/rntjsghk11/221552494200 블로그의 본문 크롤링 중...\n",
      "\n",
      "\n",
      " 준오헤어 노원문화의거리점 의 https://blog.naver.com/sweet_elin/221675924218 블로그의 본문 크롤링 중...\n",
      "\n"
     ]
    },
    {
     "data": {
      "application/vnd.jupyter.widget-view+json": {
       "model_id": "109b95366d014cc38445d632a549aea5",
       "version_major": 2,
       "version_minor": 0
      },
      "text/plain": [
       "HBox(children=(IntProgress(value=1, bar_style='info', max=1), HTML(value='')))"
      ]
     },
     "metadata": {},
     "output_type": "display_data"
    },
    {
     "data": {
      "application/vnd.jupyter.widget-view+json": {
       "model_id": "d56063c8495840a99777156fcb4321de",
       "version_major": 2,
       "version_minor": 0
      },
      "text/plain": [
       "HBox(children=(IntProgress(value=1, bar_style='info', max=1), HTML(value='')))"
      ]
     },
     "metadata": {},
     "output_type": "display_data"
    },
    {
     "data": {
      "application/vnd.jupyter.widget-view+json": {
       "model_id": "f6febfc6d8f249f8b865108b892400d7",
       "version_major": 2,
       "version_minor": 0
      },
      "text/plain": [
       "HBox(children=(IntProgress(value=1, bar_style='info', max=1), HTML(value='')))"
      ]
     },
     "metadata": {},
     "output_type": "display_data"
    },
    {
     "data": {
      "application/vnd.jupyter.widget-view+json": {
       "model_id": "45fa87bcd56c413cb7d7a9957fa35ea0",
       "version_major": 2,
       "version_minor": 0
      },
      "text/plain": [
       "HBox(children=(IntProgress(value=1, bar_style='info', max=1), HTML(value='')))"
      ]
     },
     "metadata": {},
     "output_type": "display_data"
    },
    {
     "data": {
      "application/vnd.jupyter.widget-view+json": {
       "model_id": "fb80593ac10c43b0b468a8c9c938db9f",
       "version_major": 2,
       "version_minor": 0
      },
      "text/plain": [
       "HBox(children=(IntProgress(value=1, bar_style='info', max=1), HTML(value='')))"
      ]
     },
     "metadata": {},
     "output_type": "display_data"
    },
    {
     "name": "stdout",
     "output_type": "stream",
     "text": [
      "https://blog.naver.com/gywjd3101/221925196935 블로그의 본문 크롤링 성공!\n",
      "\n",
      "\n",
      "현재까지 저장된 본문의 개수:  529 \n",
      "\n",
      "https://blog.naver.com/sweet_elin/221675924218 블로그의 본문 크롤링 성공!\n",
      "\n",
      "\n",
      "현재까지 저장된 본문의 개수:  530 \n",
      "\n",
      "https://blog.naver.com/rntjsghk11/221552494200 블로그의 본문 크롤링 성공!\n",
      "\n",
      "\n",
      "현재까지 저장된 본문의 개수:  531 \n",
      "\n",
      "https://blog.naver.com/laeda/221516927016 블로그의 본문 크롤링 성공!\n",
      "\n",
      "\n",
      "현재까지 저장된 본문의 개수:  532 \n",
      "\n",
      "https://blog.naver.com/darkeun00/221909892649 블로그의 본문 크롤링 성공!\n",
      "\n",
      "\n",
      "현재까지 저장된 본문의 개수:  533 \n",
      "\n",
      "545 ~ 549의 블로그 본문 크롤링을 시작합니다.\n",
      "\n",
      " 준오헤어 노원문화의거리점 의 \n",
      "https://blog.naver.com/dhdmswjd1227/221934250616  블로그의 본문 크롤링 중...\n",
      "준오헤어 노원문화의거리점\n",
      " 의 https://blog.naver.com/pody_29/221435476806 블로그의 본문 크롤링 중...\n",
      "\n",
      "\n",
      " 준오헤어 노원문화의거리점 의 https://blog.naver.com/dull33/221422979865 블로그의 본문 크롤링 중...\n",
      "\n",
      "\n",
      " 준오헤어 노원문화의거리점 의 https://blog.naver.com/dudthwjd1129/221928827861 블로그의 본문 크롤링 중...\n",
      "\n"
     ]
    },
    {
     "data": {
      "application/vnd.jupyter.widget-view+json": {
       "model_id": "71f083b0ccf84976a73ca8d7c7bd65e2",
       "version_major": 2,
       "version_minor": 0
      },
      "text/plain": [
       "HBox(children=(IntProgress(value=1, bar_style='info', max=1), HTML(value='')))"
      ]
     },
     "metadata": {},
     "output_type": "display_data"
    },
    {
     "name": "stdout",
     "output_type": "stream",
     "text": [
      "\n",
      " 준오헤어 노원문화의거리점 의 https://blog.naver.com/laeda/221434464888 블로그의 본문 크롤링 중...\n",
      "\n"
     ]
    },
    {
     "data": {
      "application/vnd.jupyter.widget-view+json": {
       "model_id": "9f4453aa4c5f4e18a5cb359a0e1964fe",
       "version_major": 2,
       "version_minor": 0
      },
      "text/plain": [
       "HBox(children=(IntProgress(value=1, bar_style='info', max=1), HTML(value='')))"
      ]
     },
     "metadata": {},
     "output_type": "display_data"
    },
    {
     "data": {
      "application/vnd.jupyter.widget-view+json": {
       "model_id": "606c4591aa3348138194a16345661bc3",
       "version_major": 2,
       "version_minor": 0
      },
      "text/plain": [
       "HBox(children=(IntProgress(value=1, bar_style='info', max=1), HTML(value='')))"
      ]
     },
     "metadata": {},
     "output_type": "display_data"
    },
    {
     "data": {
      "application/vnd.jupyter.widget-view+json": {
       "model_id": "3afa9d2c6e69469b9f7e0fefe8997d18",
       "version_major": 2,
       "version_minor": 0
      },
      "text/plain": [
       "HBox(children=(IntProgress(value=1, bar_style='info', max=1), HTML(value='')))"
      ]
     },
     "metadata": {},
     "output_type": "display_data"
    },
    {
     "data": {
      "application/vnd.jupyter.widget-view+json": {
       "model_id": "796d758d65be43508677bd3737a73121",
       "version_major": 2,
       "version_minor": 0
      },
      "text/plain": [
       "HBox(children=(IntProgress(value=1, bar_style='info', max=1), HTML(value='')))"
      ]
     },
     "metadata": {},
     "output_type": "display_data"
    },
    {
     "name": "stdout",
     "output_type": "stream",
     "text": [
      "https://blog.naver.com/pody_29/221435476806 블로그의 본문 크롤링 성공!\n",
      "\n",
      "\n",
      "현재까지 저장된 본문의 개수:  534 \n",
      "\n",
      "https://blog.naver.com/dhdmswjd1227/221934250616 블로그의 본문 크롤링 성공!\n",
      "\n",
      "\n",
      "현재까지 저장된 본문의 개수:  535 \n",
      "\n",
      "https://blog.naver.com/dull33/221422979865 블로그의 본문 크롤링 성공!\n",
      "\n",
      "\n",
      "현재까지 저장된 본문의 개수:  536 \n",
      "\n",
      "https://blog.naver.com/laeda/221434464888 블로그의 본문 크롤링 성공!\n",
      "\n",
      "\n",
      "현재까지 저장된 본문의 개수:  537 \n",
      "\n",
      "https://blog.naver.com/dudthwjd1129/221928827861 블로그의 본문 크롤링 성공!\n",
      "\n",
      "\n",
      "현재까지 저장된 본문의 개수:  538 \n",
      "\n",
      "550 ~ 554의 블로그 본문 크롤링을 시작합니다.\n",
      "\n",
      " 준오헤어 노원문화의거리점 의 https://blog.naver.com/ghdfla0209/221503983967 블로그의 본문 크롤링 중...\n",
      "\n",
      "\n",
      " 준오헤어 노원문화의거리점 의 https://blog.naver.com/80cool80/220647778848 블로그의 본문 크롤링 중...\n",
      "\n",
      "\n",
      " 준오헤어 노원문화의거리점 의 https://blog.naver.com/ych9749/220785688281 블로그의 본문 크롤링 중...\n",
      "\n",
      "\n",
      " 준오헤어 노원문화의거리점 의 https://blog.naver.com/valang89/221287162170 블로그의 본문 크롤링 중...\n",
      "\n",
      "\n",
      " 준오헤어 노원문화의거리점 의 https://blog.naver.com/thx_thx/221845884674 블로그의 본문 크롤링 중...\n",
      "\n"
     ]
    },
    {
     "data": {
      "application/vnd.jupyter.widget-view+json": {
       "model_id": "61fd61f94d634c40813095281259cdd5",
       "version_major": 2,
       "version_minor": 0
      },
      "text/plain": [
       "HBox(children=(IntProgress(value=1, bar_style='info', max=1), HTML(value='')))"
      ]
     },
     "metadata": {},
     "output_type": "display_data"
    },
    {
     "data": {
      "application/vnd.jupyter.widget-view+json": {
       "model_id": "a9448580a04c48efa791f8109aed4c3a",
       "version_major": 2,
       "version_minor": 0
      },
      "text/plain": [
       "HBox(children=(IntProgress(value=1, bar_style='info', max=1), HTML(value='')))"
      ]
     },
     "metadata": {},
     "output_type": "display_data"
    },
    {
     "data": {
      "application/vnd.jupyter.widget-view+json": {
       "model_id": "472baf78854d4f54863a16600d60774c",
       "version_major": 2,
       "version_minor": 0
      },
      "text/plain": [
       "HBox(children=(IntProgress(value=1, bar_style='info', max=1), HTML(value='')))"
      ]
     },
     "metadata": {},
     "output_type": "display_data"
    },
    {
     "data": {
      "application/vnd.jupyter.widget-view+json": {
       "model_id": "308f5e63033f4061ba63e1c808dc80cf",
       "version_major": 2,
       "version_minor": 0
      },
      "text/plain": [
       "HBox(children=(IntProgress(value=1, bar_style='info', max=1), HTML(value='')))"
      ]
     },
     "metadata": {},
     "output_type": "display_data"
    },
    {
     "data": {
      "application/vnd.jupyter.widget-view+json": {
       "model_id": "827fed78c17d4c3ca84417579f9a2c3b",
       "version_major": 2,
       "version_minor": 0
      },
      "text/plain": [
       "HBox(children=(IntProgress(value=1, bar_style='info', max=1), HTML(value='')))"
      ]
     },
     "metadata": {},
     "output_type": "display_data"
    },
    {
     "name": "stdout",
     "output_type": "stream",
     "text": [
      "https://blog.naver.com/ghdfla0209/221503983967 블로그의 본문 크롤링 성공!\n",
      "\n",
      "\n",
      "현재까지 저장된 본문의 개수:  539 \n",
      "\n",
      "https://blog.naver.com/80cool80/220647778848 블로그의 본문 크롤링 성공!\n",
      "\n",
      "\n",
      "현재까지 저장된 본문의 개수:  540 \n",
      "\n",
      "https://blog.naver.com/valang89/221287162170 블로그의 본문 크롤링 성공!\n",
      "\n",
      "\n",
      "현재까지 저장된 본문의 개수:  541 \n",
      "\n",
      "https://blog.naver.com/ych9749/220785688281 블로그의 본문 크롤링 성공!\n",
      "\n",
      "\n",
      "현재까지 저장된 본문의 개수:  542 \n",
      "\n",
      "https://blog.naver.com/thx_thx/221845884674 블로그의 본문 크롤링 성공!\n",
      "\n",
      "\n",
      "현재까지 저장된 본문의 개수:  543 \n",
      "\n",
      "555 ~ 559의 블로그 본문 크롤링을 시작합니다.\n",
      "\n",
      " 준오헤어 노원문화의거리점 의 https://blog.naver.com/did3296/221930252559 블로그의 본문 크롤링 중...\n",
      "\n",
      "\n",
      " 준오헤어 노원문화의거리점 의 https://blog.naver.com/choizoojin/220685983771 블로그의 본문 크롤링 중...\n",
      "\n",
      "\n",
      " 준오헤어 노원문화의거리점 의 https://blog.naver.com/dachae77/221783159430 블로그의 본문 크롤링 중...\n",
      "\n",
      "\n",
      " 준오헤어 노원문화의거리점 의 https://blog.naver.com/sw5416/221832288991 블로그의 본문 크롤링 중...\n",
      "\n",
      "\n",
      " 준오헤어 노원문화의거리점 의 https://blog.naver.com/dykim1016/221163328172 블로그의 본문 크롤링 중...\n",
      "\n"
     ]
    },
    {
     "data": {
      "application/vnd.jupyter.widget-view+json": {
       "model_id": "41fcca5390804718a12e22c161772b7e",
       "version_major": 2,
       "version_minor": 0
      },
      "text/plain": [
       "HBox(children=(IntProgress(value=1, bar_style='info', max=1), HTML(value='')))"
      ]
     },
     "metadata": {},
     "output_type": "display_data"
    },
    {
     "data": {
      "application/vnd.jupyter.widget-view+json": {
       "model_id": "e2962d49101b488a8d64ccbbf0a0e322",
       "version_major": 2,
       "version_minor": 0
      },
      "text/plain": [
       "HBox(children=(IntProgress(value=1, bar_style='info', max=1), HTML(value='')))"
      ]
     },
     "metadata": {},
     "output_type": "display_data"
    },
    {
     "data": {
      "application/vnd.jupyter.widget-view+json": {
       "model_id": "7f4453782d044ba8be194dbf9efadc0c",
       "version_major": 2,
       "version_minor": 0
      },
      "text/plain": [
       "HBox(children=(IntProgress(value=1, bar_style='info', max=1), HTML(value='')))"
      ]
     },
     "metadata": {},
     "output_type": "display_data"
    },
    {
     "data": {
      "application/vnd.jupyter.widget-view+json": {
       "model_id": "e15e37f86ce648578bc1f9ad0d69a1d3",
       "version_major": 2,
       "version_minor": 0
      },
      "text/plain": [
       "HBox(children=(IntProgress(value=1, bar_style='info', max=1), HTML(value='')))"
      ]
     },
     "metadata": {},
     "output_type": "display_data"
    },
    {
     "data": {
      "application/vnd.jupyter.widget-view+json": {
       "model_id": "aa1ea2ef9a774d8f9eabe0363c867815",
       "version_major": 2,
       "version_minor": 0
      },
      "text/plain": [
       "HBox(children=(IntProgress(value=1, bar_style='info', max=1), HTML(value='')))"
      ]
     },
     "metadata": {},
     "output_type": "display_data"
    },
    {
     "name": "stdout",
     "output_type": "stream",
     "text": [
      "https://blog.naver.com/choizoojin/220685983771https://blog.naver.com/did3296/221930252559  블로그의 본문 크롤링 성공!\n",
      "블로그의 본문 크롤링 성공!\n",
      "\n",
      "\n",
      "\n",
      "현재까지 저장된 본문의 개수: \n",
      " 현재까지 저장된 본문의 개수: 545  545\n",
      " \n",
      "\n",
      "\n",
      "https://blog.naver.com/sw5416/221832288991 블로그의 본문 크롤링 성공!\n",
      "\n",
      "\n",
      "현재까지 저장된 본문의 개수:  546 \n",
      "\n",
      "https://blog.naver.com/dykim1016/221163328172 블로그의 본문 크롤링 성공!\n",
      "\n",
      "\n",
      "현재까지 저장된 본문의 개수:  547 \n",
      "\n",
      "https://blog.naver.com/dachae77/221783159430 블로그의 본문 크롤링 성공!\n",
      "\n",
      "\n",
      "현재까지 저장된 본문의 개수:  548 \n",
      "\n",
      "560 ~ 564의 블로그 본문 크롤링을 시작합니다.\n",
      "\n",
      " 준오헤어 노원문화의거리점 의 https://blog.naver.com/shecutty/221829076985 블로그의 본문 크롤링 중...\n",
      "\n",
      "\n",
      " 준오헤어 노원문화의거리점 의 https://blog.naver.com/gustnrbgml/221948956495 블로그의 본문 크롤링 중...\n",
      "\n",
      "\n",
      " 준오헤어 노원문화의거리점 의 https://blog.naver.com/rladudfla1004/221821147167 블로그의 본문 크롤링 중...\n",
      "\n",
      "\n",
      " 준오헤어 노원문화의거리점 의 https://blog.naver.com/01695884170/221824880994 블로그의 본문 크롤링 중...\n",
      "\n",
      "\n",
      " 준오헤어 노원문화의거리점 의 https://blog.naver.com/dusdkcydl/221806198755 블로그의 본문 크롤링 중...\n",
      "\n"
     ]
    },
    {
     "data": {
      "application/vnd.jupyter.widget-view+json": {
       "model_id": "cd78b72e7dde44c59fc76a450b3b2f9c",
       "version_major": 2,
       "version_minor": 0
      },
      "text/plain": [
       "HBox(children=(IntProgress(value=1, bar_style='info', max=1), HTML(value='')))"
      ]
     },
     "metadata": {},
     "output_type": "display_data"
    },
    {
     "data": {
      "application/vnd.jupyter.widget-view+json": {
       "model_id": "57f4844334d94af4bb1f83083bc778f7",
       "version_major": 2,
       "version_minor": 0
      },
      "text/plain": [
       "HBox(children=(IntProgress(value=1, bar_style='info', max=1), HTML(value='')))"
      ]
     },
     "metadata": {},
     "output_type": "display_data"
    },
    {
     "data": {
      "application/vnd.jupyter.widget-view+json": {
       "model_id": "bf4640df3911456da642fe34113695d4",
       "version_major": 2,
       "version_minor": 0
      },
      "text/plain": [
       "HBox(children=(IntProgress(value=1, bar_style='info', max=1), HTML(value='')))"
      ]
     },
     "metadata": {},
     "output_type": "display_data"
    },
    {
     "data": {
      "application/vnd.jupyter.widget-view+json": {
       "model_id": "b0b17bce68c74bd28736e87ac757e8c9",
       "version_major": 2,
       "version_minor": 0
      },
      "text/plain": [
       "HBox(children=(IntProgress(value=1, bar_style='info', max=1), HTML(value='')))"
      ]
     },
     "metadata": {},
     "output_type": "display_data"
    },
    {
     "data": {
      "application/vnd.jupyter.widget-view+json": {
       "model_id": "6e140185ea9f4b319d0f8709d590598e",
       "version_major": 2,
       "version_minor": 0
      },
      "text/plain": [
       "HBox(children=(IntProgress(value=1, bar_style='info', max=1), HTML(value='')))"
      ]
     },
     "metadata": {},
     "output_type": "display_data"
    },
    {
     "name": "stdout",
     "output_type": "stream",
     "text": [
      "https://blog.naver.com/gustnrbgml/221948956495 블로그의 본문 크롤링 성공!\n",
      "\n",
      "\n",
      "현재까지 저장된 본문의 개수:  549 \n",
      "\n",
      "https://blog.naver.com/shecutty/221829076985 블로그의 본문 크롤링 성공!\n",
      "\n",
      "\n",
      "현재까지 저장된 본문의 개수:  550 \n",
      "\n",
      "https://blog.naver.com/01695884170/221824880994 블로그의 본문 크롤링 성공!\n",
      "\n",
      "\n",
      "현재까지 저장된 본문의 개수:  551 \n",
      "\n",
      "https://blog.naver.com/rladudfla1004/221821147167 블로그의 본문 크롤링 성공!\n",
      "\n",
      "\n",
      "현재까지 저장된 본문의 개수:  552 \n",
      "\n",
      "https://blog.naver.com/dusdkcydl/221806198755 블로그의 본문 크롤링 성공!\n",
      "\n",
      "\n",
      "현재까지 저장된 본문의 개수:  553 \n",
      "\n",
      "565 ~ 569의 블로그 본문 크롤링을 시작합니다.\n",
      "\n",
      " 준오헤어 노원문화의거리점 의 https://blog.naver.com/dusdkcydl/221755418746 블로그의 본문 크롤링 중...\n",
      "\n",
      "\n",
      " 준오헤어 노원문화의거리점 의 https://blog.naver.com/ekffo81/221817507698 블로그의 본문 크롤링 중...\n",
      "\n",
      "\n",
      " 준오헤어 노원문화의거리점 의 https://blog.naver.com/unhj73/221748821986 블로그의 본문 크롤링 중...\n",
      "\n",
      "\n",
      " 준오헤어 노원문화의거리점 의\n",
      "  https://blog.naver.com/layeasun/221838581931준오헤어 노원문화의거리점  블로그의 본문 크롤링 중...\n",
      "의\n",
      " https://blog.naver.com/edge0028/221823971727 블로그의 본문 크롤링 중...\n",
      "\n"
     ]
    },
    {
     "data": {
      "application/vnd.jupyter.widget-view+json": {
       "model_id": "1fc39116ccc64450a4b72505c6bb6d11",
       "version_major": 2,
       "version_minor": 0
      },
      "text/plain": [
       "HBox(children=(IntProgress(value=1, bar_style='info', max=1), HTML(value='')))"
      ]
     },
     "metadata": {},
     "output_type": "display_data"
    },
    {
     "data": {
      "application/vnd.jupyter.widget-view+json": {
       "model_id": "108346bb993f45c8a8e5309f087d7ade",
       "version_major": 2,
       "version_minor": 0
      },
      "text/plain": [
       "HBox(children=(IntProgress(value=1, bar_style='info', max=1), HTML(value='')))"
      ]
     },
     "metadata": {},
     "output_type": "display_data"
    },
    {
     "data": {
      "application/vnd.jupyter.widget-view+json": {
       "model_id": "f1fdb2c434824b999c39330860cf7fb5",
       "version_major": 2,
       "version_minor": 0
      },
      "text/plain": [
       "HBox(children=(IntProgress(value=1, bar_style='info', max=1), HTML(value='')))"
      ]
     },
     "metadata": {},
     "output_type": "display_data"
    },
    {
     "data": {
      "application/vnd.jupyter.widget-view+json": {
       "model_id": "a296c34116b844d29b3d5a9ea17077f4",
       "version_major": 2,
       "version_minor": 0
      },
      "text/plain": [
       "HBox(children=(IntProgress(value=1, bar_style='info', max=1), HTML(value='')))"
      ]
     },
     "metadata": {},
     "output_type": "display_data"
    },
    {
     "data": {
      "application/vnd.jupyter.widget-view+json": {
       "model_id": "13b906e2c5344426995bba3532f50e1f",
       "version_major": 2,
       "version_minor": 0
      },
      "text/plain": [
       "HBox(children=(IntProgress(value=1, bar_style='info', max=1), HTML(value='')))"
      ]
     },
     "metadata": {},
     "output_type": "display_data"
    },
    {
     "name": "stdout",
     "output_type": "stream",
     "text": [
      "https://blog.naver.com/dusdkcydl/221755418746 블로그의 본문 크롤링 성공!\n",
      "\n",
      "\n",
      "현재까지 저장된 본문의 개수:  554 \n",
      "\n",
      "https://blog.naver.com/layeasun/221838581931 블로그의 본문 크롤링 성공!\n",
      "\n",
      "\n",
      "현재까지 저장된 본문의 개수:  555 \n",
      "\n",
      "https://blog.naver.com/edge0028/221823971727 블로그의 본문 크롤링 성공!\n",
      "\n",
      "\n",
      "현재까지 저장된 본문의 개수:  556 \n",
      "\n",
      "https://blog.naver.com/ekffo81/221817507698 블로그의 본문 크롤링 성공!\n",
      "\n",
      "\n",
      "현재까지 저장된 본문의 개수:  557 \n",
      "\n",
      "https://blog.naver.com/unhj73/221748821986 블로그의 본문 크롤링 성공!\n",
      "\n",
      "\n",
      "현재까지 저장된 본문의 개수:  558 \n",
      "\n",
      "570 ~ 574의 블로그 본문 크롤링을 시작합니다.\n",
      "\n",
      " 준오헤어 노원문화의거리점 의 https://blog.naver.com/paintingeater/221834612050 블로그의 본문 크롤링 중...\n",
      "\n",
      "\n",
      " 준오헤어 노원문화의거리점 의 https://blog.naver.com/asdlals/221804514461 블로그의 본문 크롤링 중...\n",
      "\n",
      "\n",
      " 준오헤어 노원문화의거리점 의 https://blog.naver.com/gustnrbgml/221886520641 블로그의 본문 크롤링 중...\n",
      "\n",
      "\n",
      " 준오헤어 노원문화의거리점 의 https://blog.naver.com/did3296/221866534263 블로그의 본문 크롤링 중...\n",
      "\n",
      "\n",
      " 준오헤어 노원문화의거리점 의 https://blog.naver.com/rnldudns0426/221818724417 블로그의 본문 크롤링 중...\n",
      "\n"
     ]
    },
    {
     "data": {
      "application/vnd.jupyter.widget-view+json": {
       "model_id": "7abafc75e8144f7796976fa94dbd442d",
       "version_major": 2,
       "version_minor": 0
      },
      "text/plain": [
       "HBox(children=(IntProgress(value=1, bar_style='info', max=1), HTML(value='')))"
      ]
     },
     "metadata": {},
     "output_type": "display_data"
    },
    {
     "data": {
      "application/vnd.jupyter.widget-view+json": {
       "model_id": "1e82e533458f4a3cb1dae79790b8f167",
       "version_major": 2,
       "version_minor": 0
      },
      "text/plain": [
       "HBox(children=(IntProgress(value=1, bar_style='info', max=1), HTML(value='')))"
      ]
     },
     "metadata": {},
     "output_type": "display_data"
    },
    {
     "data": {
      "application/vnd.jupyter.widget-view+json": {
       "model_id": "ba9d450c681f477cb72dd4f3702708ac",
       "version_major": 2,
       "version_minor": 0
      },
      "text/plain": [
       "HBox(children=(IntProgress(value=1, bar_style='info', max=1), HTML(value='')))"
      ]
     },
     "metadata": {},
     "output_type": "display_data"
    },
    {
     "data": {
      "application/vnd.jupyter.widget-view+json": {
       "model_id": "7cf701ff53c4476e95987d0aa62fa1a1",
       "version_major": 2,
       "version_minor": 0
      },
      "text/plain": [
       "HBox(children=(IntProgress(value=1, bar_style='info', max=1), HTML(value='')))"
      ]
     },
     "metadata": {},
     "output_type": "display_data"
    },
    {
     "data": {
      "application/vnd.jupyter.widget-view+json": {
       "model_id": "f956f1353fba4862b7ed32249a5954f8",
       "version_major": 2,
       "version_minor": 0
      },
      "text/plain": [
       "HBox(children=(IntProgress(value=1, bar_style='info', max=1), HTML(value='')))"
      ]
     },
     "metadata": {},
     "output_type": "display_data"
    },
    {
     "name": "stdout",
     "output_type": "stream",
     "text": [
      "https://blog.naver.com/asdlals/221804514461 블로그의 본문 크롤링 성공!\n",
      "\n",
      "\n",
      "현재까지 저장된 본문의 개수:  559 \n",
      "\n",
      "https://blog.naver.com/did3296/221866534263 블로그의 본문 크롤링 성공!\n",
      "\n",
      "\n",
      "현재까지 저장된 본문의 개수:  560 \n",
      "\n",
      "https://blog.naver.com/gustnrbgml/221886520641 블로그의 본문 크롤링 성공!\n",
      "\n",
      "\n",
      "현재까지 저장된 본문의 개수:  561 \n",
      "\n",
      "https://blog.naver.com/paintingeater/221834612050 블로그의 본문 크롤링 성공!\n",
      "\n",
      "\n",
      "현재까지 저장된 본문의 개수:  562 \n",
      "\n",
      "https://blog.naver.com/rnldudns0426/221818724417 블로그의 본문 크롤링 성공!\n",
      "\n",
      "\n",
      "현재까지 저장된 본문의 개수:  563 \n",
      "\n",
      "575 ~ 579의 블로그 본문 크롤링을 시작합니다.\n",
      "\n",
      " 준오헤어 노원문화의거리점 의 https://blog.naver.com/navybottle/221799234504 블로그의 본문 크롤링 중...\n",
      "\n",
      "\n",
      " 준오헤어 노원문화의거리점 의 https://blog.naver.com/see823/221742774299 블로그의 본문 크롤링 중...\n",
      "\n",
      "\n",
      " 준오헤어 노원문화의거리점 의 https://blog.naver.com/skylee0331/221786806500 블로그의 본문 크롤링 중...\n",
      "\n",
      "\n",
      " 준오헤어 노원문화의거리점 의 https://blog.naver.com/did3296/221815525044 블로그의 본문 크롤링 중...\n",
      "\n",
      "\n",
      " 준오헤어 노원문화의거리점 의 https://blog.naver.com/hmlee8402/221801178891 블로그의 본문 크롤링 중...\n",
      "\n"
     ]
    },
    {
     "data": {
      "application/vnd.jupyter.widget-view+json": {
       "model_id": "9310d7edad1d4f099c0e642c9b579ccd",
       "version_major": 2,
       "version_minor": 0
      },
      "text/plain": [
       "HBox(children=(IntProgress(value=1, bar_style='info', max=1), HTML(value='')))"
      ]
     },
     "metadata": {},
     "output_type": "display_data"
    },
    {
     "data": {
      "application/vnd.jupyter.widget-view+json": {
       "model_id": "82ae2599c6404a2aa31fac397bae3999",
       "version_major": 2,
       "version_minor": 0
      },
      "text/plain": [
       "HBox(children=(IntProgress(value=1, bar_style='info', max=1), HTML(value='')))"
      ]
     },
     "metadata": {},
     "output_type": "display_data"
    },
    {
     "data": {
      "application/vnd.jupyter.widget-view+json": {
       "model_id": "61b25425f950456394043a3c4148e34f",
       "version_major": 2,
       "version_minor": 0
      },
      "text/plain": [
       "HBox(children=(IntProgress(value=1, bar_style='info', max=1), HTML(value='')))"
      ]
     },
     "metadata": {},
     "output_type": "display_data"
    },
    {
     "data": {
      "application/vnd.jupyter.widget-view+json": {
       "model_id": "628632bb1f294fbf86215a6352839bf7",
       "version_major": 2,
       "version_minor": 0
      },
      "text/plain": [
       "HBox(children=(IntProgress(value=1, bar_style='info', max=1), HTML(value='')))"
      ]
     },
     "metadata": {},
     "output_type": "display_data"
    },
    {
     "data": {
      "application/vnd.jupyter.widget-view+json": {
       "model_id": "24a056f74cf54f9f903f50d39eba1156",
       "version_major": 2,
       "version_minor": 0
      },
      "text/plain": [
       "HBox(children=(IntProgress(value=1, bar_style='info', max=1), HTML(value='')))"
      ]
     },
     "metadata": {},
     "output_type": "display_data"
    },
    {
     "name": "stdout",
     "output_type": "stream",
     "text": [
      "https://blog.naver.com/navybottle/221799234504 블로그의 본문 크롤링 성공!\n",
      "\n",
      "\n",
      "현재까지 저장된 본문의 개수:  564 \n",
      "\n",
      "https://blog.naver.com/did3296/221815525044 블로그의 본문 크롤링 성공!\n",
      "\n",
      "\n",
      "현재까지 저장된 본문의 개수:  565 \n",
      "\n",
      "https://blog.naver.com/see823/221742774299 블로그의 본문 크롤링 성공!\n",
      "\n",
      "\n",
      "현재까지 저장된 본문의 개수:  566 \n",
      "\n",
      "https://blog.naver.com/skylee0331/221786806500 블로그의 본문 크롤링 성공!\n",
      "\n",
      "\n",
      "현재까지 저장된 본문의 개수:  567 \n",
      "\n",
      "https://blog.naver.com/hmlee8402/221801178891 블로그의 본문 크롤링 성공!\n",
      "\n",
      "\n",
      "현재까지 저장된 본문의 개수:  568 \n",
      "\n",
      "580 ~ 584의 블로그 본문 크롤링을 시작합니다.\n",
      "\n",
      " 준오헤어 노원문화의거리점 의 https://blog.naver.com/gustnrbgml/221872492255 블로그의 본문 크롤링 중...\n",
      "\n",
      "\n",
      " 준오헤어 노원문화의거리점 의 https://blog.naver.com/angie0061/221802926298 블로그의 본문 크롤링 중...\n",
      "\n",
      "\n",
      " 준오헤어 노원문화의거리점 의 https://blog.naver.com/jh1011002/221584275437 블로그의 본문 크롤링 중...\n",
      "\n",
      "\n",
      " 준오헤어 노원문화의거리점 의 https://blog.naver.com/kiss0152/221884455121 블로그의 본문 크롤링 중...\n",
      "\n",
      "\n",
      " 준오헤어 노원문화의거리점 의 https://blog.naver.com/dalkommama/221800926130 블로그의 본문 크롤링 중...\n",
      "\n"
     ]
    },
    {
     "data": {
      "application/vnd.jupyter.widget-view+json": {
       "model_id": "502f824c580049fb99224ab2e7804313",
       "version_major": 2,
       "version_minor": 0
      },
      "text/plain": [
       "HBox(children=(IntProgress(value=1, bar_style='info', max=1), HTML(value='')))"
      ]
     },
     "metadata": {},
     "output_type": "display_data"
    },
    {
     "data": {
      "application/vnd.jupyter.widget-view+json": {
       "model_id": "e6993934270040149510f45d0ae5717a",
       "version_major": 2,
       "version_minor": 0
      },
      "text/plain": [
       "HBox(children=(IntProgress(value=1, bar_style='info', max=1), HTML(value='')))"
      ]
     },
     "metadata": {},
     "output_type": "display_data"
    },
    {
     "data": {
      "application/vnd.jupyter.widget-view+json": {
       "model_id": "23c09b93008b4f9ba8af45f524e23440",
       "version_major": 2,
       "version_minor": 0
      },
      "text/plain": [
       "HBox(children=(IntProgress(value=1, bar_style='info', max=1), HTML(value='')))"
      ]
     },
     "metadata": {},
     "output_type": "display_data"
    },
    {
     "data": {
      "application/vnd.jupyter.widget-view+json": {
       "model_id": "fce669c73278462ea9e503262b5d3ca5",
       "version_major": 2,
       "version_minor": 0
      },
      "text/plain": [
       "HBox(children=(IntProgress(value=1, bar_style='info', max=1), HTML(value='')))"
      ]
     },
     "metadata": {},
     "output_type": "display_data"
    },
    {
     "data": {
      "application/vnd.jupyter.widget-view+json": {
       "model_id": "71b5c1fd2b1144c8958e54d31545d119",
       "version_major": 2,
       "version_minor": 0
      },
      "text/plain": [
       "HBox(children=(IntProgress(value=1, bar_style='info', max=1), HTML(value='')))"
      ]
     },
     "metadata": {},
     "output_type": "display_data"
    },
    {
     "name": "stdout",
     "output_type": "stream",
     "text": [
      "https://blog.naver.com/gustnrbgml/221872492255 블로그의 본문 크롤링 성공!\n",
      "\n",
      "\n",
      "현재까지 저장된 본문의 개수:  569 \n",
      "\n",
      "https://blog.naver.com/angie0061/221802926298 블로그의 본문 크롤링 성공!\n",
      "https://blog.naver.com/jh1011002/221584275437\n",
      " \n",
      "블로그의 본문 크롤링 성공!\n",
      "현재까지 저장된 본문의 개수: \n",
      " 571\n",
      " 현재까지 저장된 본문의 개수: \n",
      " \n",
      "571 \n",
      "\n",
      "https://blog.naver.com/kiss0152/221884455121 블로그의 본문 크롤링 성공!\n",
      "\n",
      "\n",
      "현재까지 저장된 본문의 개수:  572 \n",
      "\n",
      "https://blog.naver.com/dalkommama/221800926130 블로그의 본문 크롤링 성공!\n",
      "\n",
      "\n",
      "현재까지 저장된 본문의 개수:  573 \n",
      "\n",
      "585 ~ 589의 블로그 본문 크롤링을 시작합니다.\n",
      "\n",
      " 준오헤어 노원문화의거리점 의 https://blog.naver.com/96___/221561624877\n",
      "  준오헤어 노원문화의거리점블로그의 본문 크롤링 중...\n",
      " \n",
      "의 https://blog.naver.com/gustnrbgml/221860218329 블로그의 본문 크롤링 중...\n",
      "\n",
      "\n",
      " 준오헤어 노원문화의거리점 의 https://blog.naver.com/popopbook/221767308104 블로그의 본문 크롤링 중...\n",
      "\n",
      "\n",
      " 준오헤어 노원문화의거리점 의 https://blog.naver.com/jaeeun114/221723822906 블로그의 본문 크롤링 중...\n",
      "\n",
      "\n",
      " 준오헤어 노원문화의거리점 의 https://blog.naver.com/hmlee_0212/221801262049 블로그의 본문 크롤링 중...\n",
      "\n"
     ]
    },
    {
     "data": {
      "application/vnd.jupyter.widget-view+json": {
       "model_id": "d984d31a1212458bb37fb1f02718ae53",
       "version_major": 2,
       "version_minor": 0
      },
      "text/plain": [
       "HBox(children=(IntProgress(value=1, bar_style='info', max=1), HTML(value='')))"
      ]
     },
     "metadata": {},
     "output_type": "display_data"
    },
    {
     "data": {
      "application/vnd.jupyter.widget-view+json": {
       "model_id": "b66d51689b2e4e479c9e4e4ba1dec2b2",
       "version_major": 2,
       "version_minor": 0
      },
      "text/plain": [
       "HBox(children=(IntProgress(value=1, bar_style='info', max=1), HTML(value='')))"
      ]
     },
     "metadata": {},
     "output_type": "display_data"
    },
    {
     "data": {
      "application/vnd.jupyter.widget-view+json": {
       "model_id": "1272514e12ba4fbaa72cf3c1746ad76c",
       "version_major": 2,
       "version_minor": 0
      },
      "text/plain": [
       "HBox(children=(IntProgress(value=1, bar_style='info', max=1), HTML(value='')))"
      ]
     },
     "metadata": {},
     "output_type": "display_data"
    },
    {
     "data": {
      "application/vnd.jupyter.widget-view+json": {
       "model_id": "03690f702f7b41b78e221ab4a63eaeb4",
       "version_major": 2,
       "version_minor": 0
      },
      "text/plain": [
       "HBox(children=(IntProgress(value=1, bar_style='info', max=1), HTML(value='')))"
      ]
     },
     "metadata": {},
     "output_type": "display_data"
    },
    {
     "data": {
      "application/vnd.jupyter.widget-view+json": {
       "model_id": "2dff0ad02d744c6e95cffb55c92d922d",
       "version_major": 2,
       "version_minor": 0
      },
      "text/plain": [
       "HBox(children=(IntProgress(value=1, bar_style='info', max=1), HTML(value='')))"
      ]
     },
     "metadata": {},
     "output_type": "display_data"
    },
    {
     "name": "stdout",
     "output_type": "stream",
     "text": [
      "https://blog.naver.com/96___/221561624877 https://blog.naver.com/gustnrbgml/221860218329 블로그의 본문 크롤링 성공!\n",
      "\n",
      "블로그의 본문 크롤링 성공!\n",
      "\n",
      "\n",
      "현재까지 저장된 본문의 개수: \n",
      " 현재까지 저장된 본문의 개수: 575  575\n",
      " \n",
      "\n",
      "\n",
      "https://blog.naver.com/hmlee_0212/221801262049 블로그의 본문 크롤링 성공!\n",
      "\n",
      "\n",
      "현재까지 저장된 본문의 개수:  576 \n",
      "\n",
      "https://blog.naver.com/popopbook/221767308104 블로그의 본문 크롤링 성공!\n",
      "\n",
      "\n",
      "현재까지 저장된 본문의 개수:  577 \n",
      "\n",
      "https://blog.naver.com/jaeeun114/221723822906 블로그의 본문 크롤링 성공!\n",
      "\n",
      "\n",
      "현재까지 저장된 본문의 개수:  578 \n",
      "\n",
      "590 ~ 594의 블로그 본문 크롤링을 시작합니다.\n",
      "\n",
      " 준오헤어 노원문화의거리점 의 https://blog.naver.com/anplace/221559584247 블로그의 본문 크롤링 중...\n",
      "\n",
      "\n",
      " 준오헤어 노원문화의거리점 의 https://blog.naver.com/joahaepcs/221690020055 블로그의 본문 크롤링 중...\n",
      "\n",
      "\n",
      " 준오헤어 노원문화의거리점 의 https://blog.naver.com/ji-sung916/221791451103 블로그의 본문 크롤링 중...\n",
      "\n",
      "\n",
      " 준오헤어 노원문화의거리점 의 https://blog.naver.com/anplace/221553976859 블로그의 본문 크롤링 중...\n",
      "\n",
      "\n",
      " 준오헤어 노원문화의거리점 의 https://blog.naver.com/dlwldls90/221770182087 블로그의 본문 크롤링 중...\n",
      "\n"
     ]
    },
    {
     "data": {
      "application/vnd.jupyter.widget-view+json": {
       "model_id": "9d4a4e93851e4519bceeadef14ced705",
       "version_major": 2,
       "version_minor": 0
      },
      "text/plain": [
       "HBox(children=(IntProgress(value=1, bar_style='info', max=1), HTML(value='')))"
      ]
     },
     "metadata": {},
     "output_type": "display_data"
    },
    {
     "data": {
      "application/vnd.jupyter.widget-view+json": {
       "model_id": "dd501cf600e64627afb22cee97b6b720",
       "version_major": 2,
       "version_minor": 0
      },
      "text/plain": [
       "HBox(children=(IntProgress(value=1, bar_style='info', max=1), HTML(value='')))"
      ]
     },
     "metadata": {},
     "output_type": "display_data"
    },
    {
     "data": {
      "application/vnd.jupyter.widget-view+json": {
       "model_id": "0dcf4b9247d1404e86243771a906d41a",
       "version_major": 2,
       "version_minor": 0
      },
      "text/plain": [
       "HBox(children=(IntProgress(value=1, bar_style='info', max=1), HTML(value='')))"
      ]
     },
     "metadata": {},
     "output_type": "display_data"
    },
    {
     "data": {
      "application/vnd.jupyter.widget-view+json": {
       "model_id": "c959dd850cbf4f3f88284504e4037179",
       "version_major": 2,
       "version_minor": 0
      },
      "text/plain": [
       "HBox(children=(IntProgress(value=1, bar_style='info', max=1), HTML(value='')))"
      ]
     },
     "metadata": {},
     "output_type": "display_data"
    },
    {
     "data": {
      "application/vnd.jupyter.widget-view+json": {
       "model_id": "7d49c0ece6a1437fbe558c5505c25f53",
       "version_major": 2,
       "version_minor": 0
      },
      "text/plain": [
       "HBox(children=(IntProgress(value=1, bar_style='info', max=1), HTML(value='')))"
      ]
     },
     "metadata": {},
     "output_type": "display_data"
    },
    {
     "name": "stdout",
     "output_type": "stream",
     "text": [
      "https://blog.naver.com/ji-sung916/221791451103 블로그의 본문 크롤링 성공!\n",
      "\n",
      "\n",
      "현재까지 저장된 본문의 개수:  579 \n",
      "\n",
      "https://blog.naver.com/dlwldls90/221770182087 블로그의 본문 크롤링 성공!\n",
      "\n",
      "\n",
      "현재까지 저장된 본문의 개수:  580 \n",
      "\n",
      "https://blog.naver.com/anplace/221553976859 블로그의 본문 크롤링 성공!\n",
      "\n",
      "\n",
      "현재까지 저장된 본문의 개수:  581 \n",
      "\n",
      "https://blog.naver.com/anplace/221559584247 블로그의 본문 크롤링 성공!\n",
      "\n",
      "\n",
      "현재까지 저장된 본문의 개수:  582 \n",
      "\n",
      "https://blog.naver.com/joahaepcs/221690020055 블로그의 본문 크롤링 성공!\n",
      "\n",
      "\n",
      "현재까지 저장된 본문의 개수:  583 \n",
      "\n",
      "595 ~ 599의 블로그 본문 크롤링을 시작합니다.\n",
      "\n",
      " 준오헤어 노원문화의거리점 의 https://blog.naver.com/woweh8585/221545934433 블로그의 본문 크롤링 중...\n",
      "\n",
      "\n",
      "\n",
      " \n",
      " 준오헤어 노원문화의거리점 준오헤어 노원문화의거리점준오헤어 노원문화의거리점   의의의   https://blog.naver.com/gustnrbgml/221849887902https://blog.naver.com/hi_9/221558534335https://blog.naver.com/leeyong_jh/221568940014   블로그의 본문 크롤링 중...\n",
      "블로그의 본문 크롤링 중...\n",
      "블로그의 본문 크롤링 중...\n",
      "\n",
      "\n",
      "\n",
      "\n",
      " 준오헤어 노원문화의거리점 의 https://blog.naver.com/ar0104/221558654021 블로그의 본문 크롤링 중...\n",
      "\n"
     ]
    },
    {
     "data": {
      "application/vnd.jupyter.widget-view+json": {
       "model_id": "57d09f630ae846e7888f4a9ca999966f",
       "version_major": 2,
       "version_minor": 0
      },
      "text/plain": [
       "HBox(children=(IntProgress(value=1, bar_style='info', max=1), HTML(value='')))"
      ]
     },
     "metadata": {},
     "output_type": "display_data"
    },
    {
     "data": {
      "application/vnd.jupyter.widget-view+json": {
       "model_id": "c5990858f0644a9e8ac7f9d5d3b764ab",
       "version_major": 2,
       "version_minor": 0
      },
      "text/plain": [
       "HBox(children=(IntProgress(value=1, bar_style='info', max=1), HTML(value='')))"
      ]
     },
     "metadata": {},
     "output_type": "display_data"
    },
    {
     "data": {
      "application/vnd.jupyter.widget-view+json": {
       "model_id": "2f946158a0764817becf6e1d92dd05d6",
       "version_major": 2,
       "version_minor": 0
      },
      "text/plain": [
       "HBox(children=(IntProgress(value=1, bar_style='info', max=1), HTML(value='')))"
      ]
     },
     "metadata": {},
     "output_type": "display_data"
    },
    {
     "data": {
      "application/vnd.jupyter.widget-view+json": {
       "model_id": "a7fbaeff52474994a4264d60a4153f1c",
       "version_major": 2,
       "version_minor": 0
      },
      "text/plain": [
       "HBox(children=(IntProgress(value=1, bar_style='info', max=1), HTML(value='')))"
      ]
     },
     "metadata": {},
     "output_type": "display_data"
    },
    {
     "data": {
      "application/vnd.jupyter.widget-view+json": {
       "model_id": "5526700f3bfa4617a59bd8b6451d707f",
       "version_major": 2,
       "version_minor": 0
      },
      "text/plain": [
       "HBox(children=(IntProgress(value=1, bar_style='info', max=1), HTML(value='')))"
      ]
     },
     "metadata": {},
     "output_type": "display_data"
    },
    {
     "name": "stdout",
     "output_type": "stream",
     "text": [
      "https://blog.naver.com/woweh8585/221545934433 블로그의 본문 크롤링 성공!\n",
      "\n",
      "\n",
      "현재까지 저장된 본문의 개수:  584 \n",
      "\n",
      "https://blog.naver.com/gustnrbgml/221849887902 블로그의 본문 크롤링 성공!\n",
      "\n",
      "\n",
      "현재까지 저장된 본문의 개수:  585 \n",
      "\n",
      "https://blog.naver.com/hi_9/221558534335 블로그의 본문 크롤링 성공!\n",
      "\n",
      "\n",
      "현재까지 저장된 본문의 개수:  586 \n",
      "\n",
      "https://blog.naver.com/ar0104/221558654021 블로그의 본문 크롤링 성공!\n",
      "\n",
      "\n",
      "현재까지 저장된 본문의 개수:  587 \n",
      "\n",
      "https://blog.naver.com/leeyong_jh/221568940014 블로그의 본문 크롤링 성공!\n",
      "\n",
      "\n",
      "현재까지 저장된 본문의 개수:  588 \n",
      "\n",
      "600 ~ 604의 블로그 본문 크롤링을 시작합니다.\n",
      "\n",
      " 준오헤어 노원문화의거리점 의 https://blog.naver.com/mingjju21/221571499653 블로그의 본문 크롤링 중...\n",
      "\n",
      "\n",
      " 준오헤어 노원문화의거리점 의 https://blog.naver.com/yyyyyyy4444/221594706284 블로그의 본문 크롤링 중...\n",
      "\n",
      "\n",
      " 준오헤어 노원문화의거리점 의 https://blog.naver.com/rktvmfk/221554543254 블로그의 본문 크롤링 중...\n",
      "\n",
      "\n",
      " 준오헤어 노원문화의거리점 의 https://blog.naver.com/gustnrbgml/221637744774 블로그의 본문 크롤링 중...\n",
      "\n",
      "\n",
      " 준오헤어 노원문화의거리점 의 https://blog.naver.com/werefamily/221572589864 블로그의 본문 크롤링 중...\n",
      "\n"
     ]
    }
   ],
   "source": [
    "# 플레이스 블로그 본문 크롤링 함수의 스레딩 적용\n",
    "# 2020-05-15 (금) df_blog_review[0:10004]까지 크롤링\n",
    "# 이후 10004부터 Iter하면 됨\n",
    "# =========================================================================\n",
    "# 약 800 ~ 1000개의 리뷰 크롤링 이후에 AttributeError가 자주 발생한다.\n",
    "# 하지만 해당 링크로 접속했을 시 블로그 글에 정상적으로 접속할 수 있다,\n",
    "# 이는 자동화 수집을 방지하기 위해 네이버에서 의도적으로 막은 것으로 보인다.\n",
    "# 따라서 한번 수집 시 800 ~ 1000개를 넘지 않도록 해야한다.\n",
    "# =========================================================================\n",
    "a = 0 # 5759 #4583  # 4583 ~ 5564\n",
    "start_no = 0 # 5759\n",
    "end = a + 5\n",
    "end_df = 3811 # 5759\n",
    "# 2020-05-15 (금) 블로그 썸네일 csv에서 10000개 블로그 크롤링 진행중\n",
    "ori_start_index = 0\n",
    "ori_end_index = 362\n",
    "# =========================================================================\n",
    "\n",
    "\n",
    "\n",
    "for i in tqdm_notebook(range(int(math.ceil(end_df - start_no) / 5))):\n",
    "    \n",
    "    print(str(a) + ' ~ ' + str(end - 1) + '의 블로그 본문 크롤링을 시작합니다.')\n",
    "    with ThreadPool(5) as tp:\n",
    "        # 스레드에 입력할 매개변수가 2개 이상일 경우 starmap을 사용한다.\n",
    "        tp.map(\n",
    "            text_save\n",
    "            , [df_blog_review['link'][ii] for ii in range(a, end)]\n",
    "        )\n",
    "        \n",
    "    a += 5\n",
    "    end += 5\n",
    "    time.sleep(0.5)\n",
    "    \n",
    "    if a in range(100, end_df, 100):\n",
    "        df_text.to_csv('./2020-05-20_place_blog-text 10004-15005(%i-%i) (%i-%i)TEMP.csv' %(ori_start_index, ori_end_index, start_no, end_df))\n",
    "        df_text_error.to_csv('./2020-05-20_place_blog-error 10004-15005(%i-%i) (%i-%i)TEMP.csv' %(ori_start_index, ori_end_index, start_no, end_df))\n",
    "        df_requests_error.to_csv('./2020-05-20_blog_requests-error 10004-15005(%i-%i) (%i-%i)TEMP.csv' %(ori_start_index, ori_end_index, start_no, end_df))\n",
    "        df_no_text.to_csv('./2020-05-20_blog_no_text 10004-15005(%i-%i) (%i-%i)TEMP.csv' %(ori_start_index, ori_end_index, start_no, end_df))\n",
    "    \n",
    "    if a > end_df:\n",
    "        df_text.to_csv('./2020-05-20_place_blog-text 10004-15005(%i-%i) (%i-%i)REAL.csv' %(ori_start_index, ori_end_index, start_no, end_df))\n",
    "        df_text_error.to_csv('./2020-05-20_place_blog-error 10004-15005(%i-%i) (%i-%i)REAL.csv' %(ori_start_index, ori_end_index, start_no, end_df))\n",
    "        df_requests_error.to_csv('./2020-05-20_blog_requests-error 10004-15005(%i-%i) (%i-%i)REAL.csv' %(ori_start_index, ori_end_index, start_no, end_df))\n",
    "        df_no_text.to_csv('./2020-05-20_blog_no_text 10004-15005(%i-%i) (%i-%i)REAL.csv' %(ori_start_index, ori_end_index, start_no, end_df))\n",
    "        break\n",
    "\n",
    "# ==========================================================================\n",
    "# 정상적으로 본문 크롤링이 된 블로그 정보 CSV 파일로 저장\n",
    "df_text.to_csv('./2020-05-20_place_blog-text 10004-15005(%i-%i) (%i-%i)FINAL.csv' %(ori_start_index, ori_end_index, start_no, end_df))\n",
    "\n",
    "# 크롤링 도중 에러가 발생한 블로그 정보 CSV 파일로 저장\n",
    "df_text_error.to_csv('./2020-05-20_place_blog-error 10004-15005(%i-%i) (%i-%i)FINAL.csv' %(ori_start_index, ori_end_index, start_no, end_df))\n",
    "\n",
    "# Requests Error가 발생한 블로그 정보 CSV 파일로 저장\n",
    "df_requests_error.to_csv('./2020-05-20_blog_requests-error 10004-15005(%i-%i) (%i-%i)FINAL.csv' %(ori_start_index, ori_end_index, start_no, end_df))\n",
    "\n",
    "# 본문이 없거나, Attribute Error가 발생한 블로그 정보 CSV파일로 저장\n",
    "df_no_text.to_csv('./2020-05-20_blog_no_text 10004-15005(%i-%i) (%i-%i)FINAL.csv' %(ori_start_index, ori_end_index, start_no, end_df))\n",
    "# =========================================================================="
   ]
  },
  {
   "cell_type": "code",
   "execution_count": 19,
   "metadata": {},
   "outputs": [
    {
     "data": {
      "text/plain": [
       "5000"
      ]
     },
     "execution_count": 19,
     "metadata": {},
     "output_type": "execute_result"
    }
   ],
   "source": [
    "a = 10004 # 5759 #4583  # 4583 ~ 5564\n",
    "start_no = 10004 # 5759\n",
    "end_df = int(len(df_blog_review[start_no:15004]))\n",
    "end_df"
   ]
  },
  {
   "cell_type": "code",
   "execution_count": 30,
   "metadata": {},
   "outputs": [
    {
     "data": {
      "text/html": [
       "<div>\n",
       "<style scoped>\n",
       "    .dataframe tbody tr th:only-of-type {\n",
       "        vertical-align: middle;\n",
       "    }\n",
       "\n",
       "    .dataframe tbody tr th {\n",
       "        vertical-align: top;\n",
       "    }\n",
       "\n",
       "    .dataframe thead th {\n",
       "        text-align: right;\n",
       "    }\n",
       "</style>\n",
       "<table border=\"1\" class=\"dataframe\">\n",
       "  <thead>\n",
       "    <tr style=\"text-align: right;\">\n",
       "      <th></th>\n",
       "      <th>store_id</th>\n",
       "      <th>store_name</th>\n",
       "      <th>title</th>\n",
       "      <th>writer</th>\n",
       "      <th>link</th>\n",
       "      <th>summary</th>\n",
       "      <th>blog_name</th>\n",
       "      <th>original_index</th>\n",
       "    </tr>\n",
       "  </thead>\n",
       "  <tbody>\n",
       "    <tr>\n",
       "      <td>0</td>\n",
       "      <td>1222327123</td>\n",
       "      <td>리안헤어 도봉한신점</td>\n",
       "      <td>리안헤어 도봉한신점[셋팅펌 잘하는 미용실~!]</td>\n",
       "      <td>ehqhd001</td>\n",
       "      <td>https://m.blog.naver.com/ehqhd001/221962185495</td>\n",
       "      <td>NaN</td>\n",
       "      <td>리안헤어 도봉한신점</td>\n",
       "      <td>364</td>\n",
       "    </tr>\n",
       "    <tr>\n",
       "      <td>1</td>\n",
       "      <td>1222327123</td>\n",
       "      <td>리안헤어 도봉한신점</td>\n",
       "      <td>리안헤어 도봉한신점[셋팅펌 잘하는 미용실~!]</td>\n",
       "      <td>ehqhd001</td>\n",
       "      <td>https://m.blog.naver.com/ehqhd001/221958456253</td>\n",
       "      <td>NaN</td>\n",
       "      <td>리안헤어 도봉한신점</td>\n",
       "      <td>364</td>\n",
       "    </tr>\n",
       "    <tr>\n",
       "      <td>2</td>\n",
       "      <td>1222327123</td>\n",
       "      <td>리안헤어 도봉한신점</td>\n",
       "      <td>리안헤어 도봉한신점[커드잘하는 미용실~!]</td>\n",
       "      <td>ehqhd001</td>\n",
       "      <td>https://m.blog.naver.com/ehqhd001/221956986334</td>\n",
       "      <td>NaN</td>\n",
       "      <td>리안헤어 도봉한신점</td>\n",
       "      <td>364</td>\n",
       "    </tr>\n",
       "    <tr>\n",
       "      <td>3</td>\n",
       "      <td>1222327123</td>\n",
       "      <td>리안헤어 도봉한신점</td>\n",
       "      <td>리안헤어 도봉한신점[셋팅펌 잘하는미용실~!]</td>\n",
       "      <td>ehqhd001</td>\n",
       "      <td>https://m.blog.naver.com/ehqhd001/221952021365</td>\n",
       "      <td>NaN</td>\n",
       "      <td>리안헤어 도봉한신점</td>\n",
       "      <td>364</td>\n",
       "    </tr>\n",
       "    <tr>\n",
       "      <td>4</td>\n",
       "      <td>1222327123</td>\n",
       "      <td>리안헤어 도봉한신점</td>\n",
       "      <td>리안헤어 도봉한신점 [남자파마 잘하는미용실~!]</td>\n",
       "      <td>ehqhd001</td>\n",
       "      <td>https://m.blog.naver.com/ehqhd001/221939345007</td>\n",
       "      <td>NaN</td>\n",
       "      <td>리안헤어 도봉한신점</td>\n",
       "      <td>364</td>\n",
       "    </tr>\n",
       "    <tr>\n",
       "      <td>...</td>\n",
       "      <td>...</td>\n",
       "      <td>...</td>\n",
       "      <td>...</td>\n",
       "      <td>...</td>\n",
       "      <td>...</td>\n",
       "      <td>...</td>\n",
       "      <td>...</td>\n",
       "      <td>...</td>\n",
       "    </tr>\n",
       "    <tr>\n",
       "      <td>27080</td>\n",
       "      <td>17947654</td>\n",
       "      <td>가오다0927</td>\n",
       "      <td>펌하로 오셨지만 염색했습니다 훨씬 세련미가 보이네요</td>\n",
       "      <td>gga1015</td>\n",
       "      <td>https://m.blog.naver.com/gga1015/221672743609</td>\n",
       "      <td>머리가 엄청 많이 떠서 늘 다운펌과 볼륨 펌하시는데 이번에도 또 펌하신다고 하시네요...</td>\n",
       "      <td>가오다0927</td>\n",
       "      <td>767</td>\n",
       "    </tr>\n",
       "    <tr>\n",
       "      <td>27081</td>\n",
       "      <td>17947654</td>\n",
       "      <td>가오다0927</td>\n",
       "      <td>친구 따라 왔고요     예쁘게 바이올렛 염색하고 싶어요</td>\n",
       "      <td>gga1015</td>\n",
       "      <td>https://m.blog.naver.com/gga1015/221638563705</td>\n",
       "      <td>이번 고객님은 바이올렛으로 투톤 옴브레 스타일로 염색하셨습니다 베이스는 연보라로 깔...</td>\n",
       "      <td>가오다0927</td>\n",
       "      <td>767</td>\n",
       "    </tr>\n",
       "    <tr>\n",
       "      <td>27082</td>\n",
       "      <td>17947654</td>\n",
       "      <td>가오다0927</td>\n",
       "      <td>굵은 웨이브랑 C컬펌은 지겨워요 히피펌 해주세요</td>\n",
       "      <td>gga1015</td>\n",
       "      <td>https://m.blog.naver.com/gga1015/221675873689</td>\n",
       "      <td>맨날 굵은 웨이브나 c컬펌만 했어요 다른느낌으로 히피펌 하고 싶어요 하고 방문하신 ...</td>\n",
       "      <td>가오다0927</td>\n",
       "      <td>767</td>\n",
       "    </tr>\n",
       "    <tr>\n",
       "      <td>27083</td>\n",
       "      <td>17947654</td>\n",
       "      <td>가오다0927</td>\n",
       "      <td>친구결혼식 가시려고 펌하고 싶어 하셨지만 염색이 더욱 필요 하시네요</td>\n",
       "      <td>gga1015</td>\n",
       "      <td>https://m.blog.naver.com/gga1015/221668382026</td>\n",
       "      <td>이번 고객님 친구결혼식 가신다고 펌하로 오셨네요 근데 제가 볼때는 퍼머보다 염색이 ...</td>\n",
       "      <td>가오다0927</td>\n",
       "      <td>767</td>\n",
       "    </tr>\n",
       "    <tr>\n",
       "      <td>27084</td>\n",
       "      <td>17947654</td>\n",
       "      <td>가오다0927</td>\n",
       "      <td>모든 염색을 했봤다...이젠 나만의 색으로 투톤염색</td>\n",
       "      <td>gga1015</td>\n",
       "      <td>https://m.blog.naver.com/gga1015/221641109963</td>\n",
       "      <td>이번 고객님은 바로 jin원장입니다 지난번에 이어서 두번째 이번에는 파스텔 블루와 ...</td>\n",
       "      <td>가오다0927</td>\n",
       "      <td>767</td>\n",
       "    </tr>\n",
       "  </tbody>\n",
       "</table>\n",
       "<p>27085 rows × 8 columns</p>\n",
       "</div>"
      ],
      "text/plain": [
       "         store_id  store_name                                  title  \\\n",
       "0      1222327123  리안헤어 도봉한신점              리안헤어 도봉한신점[셋팅펌 잘하는 미용실~!]   \n",
       "1      1222327123  리안헤어 도봉한신점              리안헤어 도봉한신점[셋팅펌 잘하는 미용실~!]   \n",
       "2      1222327123  리안헤어 도봉한신점                리안헤어 도봉한신점[커드잘하는 미용실~!]   \n",
       "3      1222327123  리안헤어 도봉한신점               리안헤어 도봉한신점[셋팅펌 잘하는미용실~!]   \n",
       "4      1222327123  리안헤어 도봉한신점             리안헤어 도봉한신점 [남자파마 잘하는미용실~!]   \n",
       "...           ...         ...                                    ...   \n",
       "27080    17947654     가오다0927           펌하로 오셨지만 염색했습니다 훨씬 세련미가 보이네요   \n",
       "27081    17947654     가오다0927        친구 따라 왔고요     예쁘게 바이올렛 염색하고 싶어요   \n",
       "27082    17947654     가오다0927             굵은 웨이브랑 C컬펌은 지겨워요 히피펌 해주세요   \n",
       "27083    17947654     가오다0927  친구결혼식 가시려고 펌하고 싶어 하셨지만 염색이 더욱 필요 하시네요   \n",
       "27084    17947654     가오다0927           모든 염색을 했봤다...이젠 나만의 색으로 투톤염색   \n",
       "\n",
       "         writer                                            link  \\\n",
       "0      ehqhd001  https://m.blog.naver.com/ehqhd001/221962185495   \n",
       "1      ehqhd001  https://m.blog.naver.com/ehqhd001/221958456253   \n",
       "2      ehqhd001  https://m.blog.naver.com/ehqhd001/221956986334   \n",
       "3      ehqhd001  https://m.blog.naver.com/ehqhd001/221952021365   \n",
       "4      ehqhd001  https://m.blog.naver.com/ehqhd001/221939345007   \n",
       "...         ...                                             ...   \n",
       "27080   gga1015   https://m.blog.naver.com/gga1015/221672743609   \n",
       "27081   gga1015   https://m.blog.naver.com/gga1015/221638563705   \n",
       "27082   gga1015   https://m.blog.naver.com/gga1015/221675873689   \n",
       "27083   gga1015   https://m.blog.naver.com/gga1015/221668382026   \n",
       "27084   gga1015   https://m.blog.naver.com/gga1015/221641109963   \n",
       "\n",
       "                                                 summary   blog_name  \\\n",
       "0                                                    NaN  리안헤어 도봉한신점   \n",
       "1                                                    NaN  리안헤어 도봉한신점   \n",
       "2                                                    NaN  리안헤어 도봉한신점   \n",
       "3                                                    NaN  리안헤어 도봉한신점   \n",
       "4                                                    NaN  리안헤어 도봉한신점   \n",
       "...                                                  ...         ...   \n",
       "27080  머리가 엄청 많이 떠서 늘 다운펌과 볼륨 펌하시는데 이번에도 또 펌하신다고 하시네요...     가오다0927   \n",
       "27081  이번 고객님은 바이올렛으로 투톤 옴브레 스타일로 염색하셨습니다 베이스는 연보라로 깔...     가오다0927   \n",
       "27082  맨날 굵은 웨이브나 c컬펌만 했어요 다른느낌으로 히피펌 하고 싶어요 하고 방문하신 ...     가오다0927   \n",
       "27083  이번 고객님 친구결혼식 가신다고 펌하로 오셨네요 근데 제가 볼때는 퍼머보다 염색이 ...     가오다0927   \n",
       "27084  이번 고객님은 바로 jin원장입니다 지난번에 이어서 두번째 이번에는 파스텔 블루와 ...     가오다0927   \n",
       "\n",
       "       original_index  \n",
       "0                 364  \n",
       "1                 364  \n",
       "2                 364  \n",
       "3                 364  \n",
       "4                 364  \n",
       "...               ...  \n",
       "27080             767  \n",
       "27081             767  \n",
       "27082             767  \n",
       "27083             767  \n",
       "27084             767  \n",
       "\n",
       "[27085 rows x 8 columns]"
      ]
     },
     "execution_count": 30,
     "metadata": {},
     "output_type": "execute_result"
    }
   ],
   "source": [
    "df_blog_review"
   ]
  }
 ],
 "metadata": {
  "kernelspec": {
   "display_name": "Python 3",
   "language": "python",
   "name": "python3"
  },
  "language_info": {
   "codemirror_mode": {
    "name": "ipython",
    "version": 3
   },
   "file_extension": ".py",
   "mimetype": "text/x-python",
   "name": "python",
   "nbconvert_exporter": "python",
   "pygments_lexer": "ipython3",
   "version": "3.7.4"
  }
 },
 "nbformat": 4,
 "nbformat_minor": 2
}
