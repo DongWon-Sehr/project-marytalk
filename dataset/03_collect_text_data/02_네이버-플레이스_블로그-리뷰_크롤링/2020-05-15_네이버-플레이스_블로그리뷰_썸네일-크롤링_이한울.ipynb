{
 "cells": [
  {
   "cell_type": "markdown",
   "metadata": {},
   "source": [
    "# 네이버 플레이스 블로그 리뷰 크롤링\n",
    "#### 2020-05-10 (일) 이한울\n",
    "---\n",
    "- 2020-05-10 (일): 플레이스 블로그 리뷰 긁어오기 및 스레딩 적용 완료\n",
    "---\n",
    "#### 2020-05-11 (월) 이한울\n",
    "---\n",
    "- 스레딩 실행 창에서 driver 경로를 본인의 크롬 드라이버가 있는 경로로 설정 후 실행\n",
    "- time.sleep을 넉넉하게 주어야 HTTP 에러를 최대한 회피할 수 있습니다.\n",
    "---\n",
    "#### 2020-05-14 (목) 이한울\n",
    "---\n",
    "- 구글 드라이브 > 팀프로젝트 폴더 > [00]...마리톡 > [03] 데이터 > [03] 네이버 플레이스 리뷰 크롤링 > **naver_place_count_total_2020-05-01_final.csv** 파일을 다운로드, 원하는 경로로 이동시킨 뒤 진행해야 합니다."
   ]
  },
  {
   "cell_type": "code",
   "execution_count": 43,
   "metadata": {},
   "outputs": [],
   "source": [
    "import  urllib.request\n",
    "import selenium\n",
    "from bs4 import BeautifulSoup\n",
    "import requests\n",
    "from urllib.request import urlopen\n",
    "\n",
    "from pandas import Series, DataFrame\n",
    "import pandas as pd\n",
    "import numpy as np\n",
    "\n",
    "from datetime import datetime\n",
    "import time\n",
    "import sys\n",
    "import math\n",
    "import re\n",
    "from tqdm import tqdm, tqdm_notebook\n",
    "\n",
    "import selenium.common.exceptions as sce\n",
    "from selenium.webdriver.common.by import By\n",
    "from selenium.webdriver import Chrome\n",
    "from selenium.webdriver.common.keys import Keys\n",
    "from selenium import webdriver\n",
    "\n",
    "from queue import Queue\n",
    "from multiprocessing.pool import ThreadPool\n",
    "from threading import Thread\n",
    "from multiprocessing import Pool\n",
    "from concurrent.futures import ThreadPoolExecutor\n",
    "import concurrent.futures\n",
    "\n",
    "import glob\n",
    "import fnmatch"
   ]
  },
  {
   "cell_type": "code",
   "execution_count": 25,
   "metadata": {},
   "outputs": [],
   "source": [
    "# 블로그 검색 결과를 저장할 DataFrame 생성\n",
    "df_blog_review = \\\n",
    "DataFrame(columns=['store_id', 'store_name', 'title', 'writer', 'link', 'summary', 'blog_name', 'original_index'])"
   ]
  },
  {
   "cell_type": "code",
   "execution_count": 26,
   "metadata": {},
   "outputs": [],
   "source": [
    "df_blog_error = DataFrame(columns=['store_id','store_name','error_code', 'original_index'])"
   ]
  },
  {
   "cell_type": "code",
   "execution_count": 27,
   "metadata": {},
   "outputs": [],
   "source": [
    "df_blog_empty = DataFrame(columns=['store_id','store_name','original_index','blog_tab'])"
   ]
  },
  {
   "cell_type": "code",
   "execution_count": 65,
   "metadata": {},
   "outputs": [],
   "source": [
    "# 블로그 본문을 저장할 빈 DataFrame 생성\n",
    "df_text = DataFrame(columns=['store_id', 'store_name', 'link', 'main text', 'original_index'])"
   ]
  },
  {
   "cell_type": "code",
   "execution_count": 29,
   "metadata": {},
   "outputs": [
    {
     "data": {
      "text/html": [
       "<div>\n",
       "<style scoped>\n",
       "    .dataframe tbody tr th:only-of-type {\n",
       "        vertical-align: middle;\n",
       "    }\n",
       "\n",
       "    .dataframe tbody tr th {\n",
       "        vertical-align: top;\n",
       "    }\n",
       "\n",
       "    .dataframe thead th {\n",
       "        text-align: right;\n",
       "    }\n",
       "</style>\n",
       "<table border=\"1\" class=\"dataframe\">\n",
       "  <thead>\n",
       "    <tr style=\"text-align: right;\">\n",
       "      <th></th>\n",
       "      <th>store_id</th>\n",
       "      <th>store_id_only_num</th>\n",
       "      <th>store_name</th>\n",
       "      <th>booking</th>\n",
       "      <th>receipt</th>\n",
       "      <th>blog</th>\n",
       "      <th>total</th>\n",
       "    </tr>\n",
       "  </thead>\n",
       "  <tbody>\n",
       "    <tr>\n",
       "      <td>0</td>\n",
       "      <td>s1518997092</td>\n",
       "      <td>1518997092</td>\n",
       "      <td>준오헤어 노원사거리점</td>\n",
       "      <td>2015.0</td>\n",
       "      <td>3.0</td>\n",
       "      <td>15.0</td>\n",
       "      <td>2033.0</td>\n",
       "    </tr>\n",
       "    <tr>\n",
       "      <td>1</td>\n",
       "      <td>s1571970153</td>\n",
       "      <td>1571970153</td>\n",
       "      <td>차홍룸 홍대점</td>\n",
       "      <td>2009.0</td>\n",
       "      <td>1.0</td>\n",
       "      <td>10.0</td>\n",
       "      <td>2020.0</td>\n",
       "    </tr>\n",
       "    <tr>\n",
       "      <td>2</td>\n",
       "      <td>s1142939643</td>\n",
       "      <td>1142939643</td>\n",
       "      <td>차홍룸 용산센트럴점</td>\n",
       "      <td>1871.0</td>\n",
       "      <td>3.0</td>\n",
       "      <td>11.0</td>\n",
       "      <td>1885.0</td>\n",
       "    </tr>\n",
       "    <tr>\n",
       "      <td>3</td>\n",
       "      <td>s1481443590</td>\n",
       "      <td>1481443590</td>\n",
       "      <td>차홍룸 용산점</td>\n",
       "      <td>1541.0</td>\n",
       "      <td>2.0</td>\n",
       "      <td>11.0</td>\n",
       "      <td>1554.0</td>\n",
       "    </tr>\n",
       "    <tr>\n",
       "      <td>4</td>\n",
       "      <td>s1177346002</td>\n",
       "      <td>1177346002</td>\n",
       "      <td>차홍룸 양재점</td>\n",
       "      <td>1373.0</td>\n",
       "      <td>1.0</td>\n",
       "      <td>10.0</td>\n",
       "      <td>1384.0</td>\n",
       "    </tr>\n",
       "    <tr>\n",
       "      <td>...</td>\n",
       "      <td>...</td>\n",
       "      <td>...</td>\n",
       "      <td>...</td>\n",
       "      <td>...</td>\n",
       "      <td>...</td>\n",
       "      <td>...</td>\n",
       "      <td>...</td>\n",
       "    </tr>\n",
       "    <tr>\n",
       "      <td>2722</td>\n",
       "      <td>s38257322</td>\n",
       "      <td>38257322</td>\n",
       "      <td>바바헤어 대치점</td>\n",
       "      <td>1.0</td>\n",
       "      <td>1.0</td>\n",
       "      <td>2.0</td>\n",
       "      <td>4.0</td>\n",
       "    </tr>\n",
       "    <tr>\n",
       "      <td>2723</td>\n",
       "      <td>s1069634711</td>\n",
       "      <td>1069634711</td>\n",
       "      <td>정환헤어샵</td>\n",
       "      <td>1.0</td>\n",
       "      <td>1.0</td>\n",
       "      <td>2.0</td>\n",
       "      <td>4.0</td>\n",
       "    </tr>\n",
       "    <tr>\n",
       "      <td>2724</td>\n",
       "      <td>s20852762</td>\n",
       "      <td>20852762</td>\n",
       "      <td>머리짱헤어샵</td>\n",
       "      <td>1.0</td>\n",
       "      <td>2.0</td>\n",
       "      <td>1.0</td>\n",
       "      <td>4.0</td>\n",
       "    </tr>\n",
       "    <tr>\n",
       "      <td>2725</td>\n",
       "      <td>s36091089</td>\n",
       "      <td>36091089</td>\n",
       "      <td>살롱160</td>\n",
       "      <td>1.0</td>\n",
       "      <td>1.0</td>\n",
       "      <td>2.0</td>\n",
       "      <td>4.0</td>\n",
       "    </tr>\n",
       "    <tr>\n",
       "      <td>2726</td>\n",
       "      <td>s18206329</td>\n",
       "      <td>18206329</td>\n",
       "      <td>주주헤어 공릉본점</td>\n",
       "      <td>1.0</td>\n",
       "      <td>1.0</td>\n",
       "      <td>2.0</td>\n",
       "      <td>4.0</td>\n",
       "    </tr>\n",
       "  </tbody>\n",
       "</table>\n",
       "<p>2727 rows × 7 columns</p>\n",
       "</div>"
      ],
      "text/plain": [
       "         store_id  store_id_only_num   store_name  booking  receipt  blog  \\\n",
       "0     s1518997092         1518997092  준오헤어 노원사거리점   2015.0      3.0  15.0   \n",
       "1     s1571970153         1571970153      차홍룸 홍대점   2009.0      1.0  10.0   \n",
       "2     s1142939643         1142939643   차홍룸 용산센트럴점   1871.0      3.0  11.0   \n",
       "3     s1481443590         1481443590      차홍룸 용산점   1541.0      2.0  11.0   \n",
       "4     s1177346002         1177346002      차홍룸 양재점   1373.0      1.0  10.0   \n",
       "...           ...                ...          ...      ...      ...   ...   \n",
       "2722    s38257322           38257322     바바헤어 대치점      1.0      1.0   2.0   \n",
       "2723  s1069634711         1069634711        정환헤어샵      1.0      1.0   2.0   \n",
       "2724    s20852762           20852762       머리짱헤어샵      1.0      2.0   1.0   \n",
       "2725    s36091089           36091089        살롱160      1.0      1.0   2.0   \n",
       "2726    s18206329           18206329    주주헤어 공릉본점      1.0      1.0   2.0   \n",
       "\n",
       "       total  \n",
       "0     2033.0  \n",
       "1     2020.0  \n",
       "2     1885.0  \n",
       "3     1554.0  \n",
       "4     1384.0  \n",
       "...      ...  \n",
       "2722     4.0  \n",
       "2723     4.0  \n",
       "2724     4.0  \n",
       "2725     4.0  \n",
       "2726     4.0  \n",
       "\n",
       "[2727 rows x 7 columns]"
      ]
     },
     "execution_count": 29,
     "metadata": {},
     "output_type": "execute_result"
    }
   ],
   "source": [
    "# 플레이스의 업소별 ID를 담은 csv파일 DataFrame으로 변환\n",
    "# 본인이 naver_place_count_total_2020-05-01_final.csv를 저장한 경로로 설정\n",
    "df_place = \\\n",
    "DataFrame(pd.read_csv('./naver-place_csv/naver_place_count_total_2020-05-01_final.csv', sep=',', header=0, index_col=0))\n",
    "df_place"
   ]
  },
  {
   "cell_type": "markdown",
   "metadata": {},
   "source": [
    "# 네이버 플레이스 모바일 페이지 크롤링 함수\n",
    "#### 2020-05-12 (화) 이한울\n",
    "---\n",
    "- 스레딩 테스트 중\n",
    "---\n",
    "#### 2020-05-14 (목) 이한울\n",
    "---\n",
    "- 스레딩 테스트 완료\n",
    "---"
   ]
  },
  {
   "cell_type": "code",
   "execution_count": 30,
   "metadata": {},
   "outputs": [],
   "source": [
    "# status가 400, 500인 경우 크롤링하지 못한 업소의 정보를 따로 저장하는 함수\n",
    "def df_error_save(store_id, store_name, error_code):\n",
    "    \n",
    "    global df_blog_error\n",
    "    global df_place\n",
    "    \n",
    "    original_index = \\\n",
    "    (df_place[df_place['store_id_only_num'] == store_id]['store_name'].index).item()\n",
    "    \n",
    "    df_blog_error = df_blog_error.append({\n",
    "        'store_id' : store_id\n",
    "        , 'store_name' : store_name\n",
    "        , 'error_code' : error_code\n",
    "        , 'original_index' : original_index\n",
    "    }, ignore_index=True)\n",
    "    \n",
    "    return df_blog_error"
   ]
  },
  {
   "cell_type": "code",
   "execution_count": 31,
   "metadata": {},
   "outputs": [],
   "source": [
    "# 크롤링이 완료된 업소의 정보들을 DataFrame에 저장하는 함수\n",
    "def df_info_save(store_id, store_name, title, blog_writer, link, summary, blog_name):\n",
    "    \n",
    "    global df_blog_review\n",
    "    global df_place\n",
    "    \n",
    "    original_index = \\\n",
    "    (df_place[df_place['store_id_only_num'] == store_id]['store_name'].index).item()\n",
    "    \n",
    "    df_blog_review = df_blog_review.append({\n",
    "        'store_id' : store_id\n",
    "        , 'store_name' : store_name\n",
    "        , 'title' : title\n",
    "        , 'writer' : blog_writer\n",
    "        , 'link' : link\n",
    "        , 'summary' : summary\n",
    "        , 'blog_name' : blog_name\n",
    "        , 'original_index' : original_index\n",
    "    }, ignore_index=True)\n",
    "    \n",
    "    return df_blog_review"
   ]
  },
  {
   "cell_type": "code",
   "execution_count": 32,
   "metadata": {},
   "outputs": [],
   "source": [
    "# 플레이스 검색 결과 블로그 리뷰가 하나도 존재하지 않는 업소 정보 저장 함수\n",
    "def df_no_result(store_id, store_name, blog_tab):\n",
    "    \n",
    "    global df_blog_empty\n",
    "    global df_place\n",
    "    \n",
    "    original_index = \\\n",
    "    (df_place[df_place['store_id_only_num'] == store_id]['store_name'].index).item()\n",
    "    \n",
    "    df_blog_empty = df_blog_empty.append({\n",
    "        'store_id' : store_id\n",
    "        , 'store_name' : store_name\n",
    "        , 'blog_tab' : ('https://m.place.naver.com' + blog_tab)\n",
    "        , 'original_index' : original_index\n",
    "    }, ignore_index=True)\n",
    "    \n",
    "    return df_blog_empty"
   ]
  },
  {
   "cell_type": "code",
   "execution_count": 33,
   "metadata": {},
   "outputs": [
    {
     "data": {
      "text/plain": [
       "'\\n웹드라이버 로딩까지 대기 (잡동사니)\\nWebDriverWait(driver, 20).until(EC.element_to_be_clickable((By.XPATH, blog_x_path))).click()\\nWebDriverWait(driver, 20).until(EC.element_to_be_clickable((By.XPATH, \"//a[@class=\\'verification_vote-btn vote_fb_btn\\' and @id=\\'verification_vote_btn\\']//span[contains(.,\\'Tap To Vote !\\')]\"))).click()\\n'"
      ]
     },
     "execution_count": 33,
     "metadata": {},
     "output_type": "execute_result"
    }
   ],
   "source": [
    "'''\n",
    "웹드라이버 로딩까지 대기 (잡동사니)\n",
    "WebDriverWait(driver, 20).until(EC.element_to_be_clickable((By.XPATH, blog_x_path))).click()\n",
    "WebDriverWait(driver, 20).until(EC.element_to_be_clickable((By.XPATH, \\\n",
    "\"//a[@class='verification_vote-btn vote_fb_btn' and \\\n",
    "@id='verification_vote_btn']//span[contains(.,'Tap To Vote !')]\"))).click()\n",
    "'''"
   ]
  },
  {
   "cell_type": "code",
   "execution_count": 34,
   "metadata": {},
   "outputs": [],
   "source": [
    "def m_place_save(driver, store):\n",
    "    count_list = []    \n",
    "    \n",
    "    try:\n",
    "        store_id = store\n",
    "        total_number = 1\n",
    "        store_name = str(df_place[df_place['store_id_only_num'] == store_id]['store_name'].iloc[0])\n",
    "\n",
    "        driver.get('https://m.store.naver.com/hairshops/detail?entry=plt&id=' + str(store_id)) # df_blog['links'][i]\n",
    "        status_req = requests.get('https://m.store.naver.com/hairshops/detail?entry=plt&id=' + str(store_id))\n",
    "        time.sleep(2)\n",
    "        print(status_req.status_code)\n",
    "        if status_req.status_code in (list(range(400, 506))):\n",
    "\n",
    "            print(store, store_name, '크롤링 중 에러가 발생했습니다.')\n",
    "            print('내부 서버 에러가 발생했습니다.')\n",
    "            df_error_save(store, store_name, status_req.status_code)\n",
    "            pass\n",
    "\n",
    "        elif status_req.status_code == 200:\n",
    "\n",
    "            time.sleep(1 + (np.random.rand()))\n",
    "            place_soup = BeautifulSoup(driver.page_source, 'html.parser')\n",
    "                    \n",
    "            if place_soup.find_all('span', '_1Y6hi'):            \n",
    "            \n",
    "                span = place_soup.find_all('span', '_1Y6hi')[-1]\n",
    "                link = (span.a).attrs['href']\n",
    "\n",
    "                if '/review/ugc' in link:\n",
    "\n",
    "                    print(store, store_name, '크롤링을 진행합니다.\\n')\n",
    "                    blog_tab = link\n",
    "                    total_count = (((span.a).get_text()).strip()).replace('블로그리뷰 ', '')\n",
    "                    print(store_name + '의 명시적 총 블로그 리뷰 수:', int(total_count), '\\n')\n",
    "                    print('▶▶', store_name, '의 블로그 탭:', blog_tab, '\\n')\n",
    "                    time.sleep(2)\n",
    "                    driver.get('https://m.place.naver.com' + blog_tab)\n",
    "                    req = requests.get('https://m.store.naver.com' + blog_tab)\n",
    "\n",
    "                    time.sleep(1 + (np.random.rand() + np.random.rand()))\n",
    "\n",
    "                    if int(total_count) > 10:\n",
    "                        # 블로그 리뷰 페이지의 다음 버튼 클릭\n",
    "                        blog_x_path = '//a[@class=\"_3iTUo\"]'        \n",
    "\n",
    "                        if driver.find_element(By.XPATH, blog_x_path).is_displayed():\n",
    "\n",
    "                            try:\n",
    "                                while driver.find_element(By.XPATH, blog_x_path).is_displayed():\n",
    "\n",
    "                                    next_btn = driver.find_element(By.XPATH, blog_x_path)\n",
    "                                    next_btn.click()\n",
    "                                    time.sleep(1.5)\n",
    "\n",
    "                            except sce.NoSuchElementException:\n",
    "                                print('해당 엘리먼트를 찾지 못했습니다.')\n",
    "\n",
    "                            except sce.ElementNotInteractableException:\n",
    "                                print('해당 엘리먼트를 찾던 중 에러가 발생했습니다.')\n",
    "\n",
    "                            time.sleep(2)\n",
    "                            review_soup = BeautifulSoup(driver.page_source, 'html.parser')\n",
    "\n",
    "                            # 첫 번째 페이지의 블로그 이름, 포스트 제목, 링크, 본문 요약 가져오기  \n",
    "                            blog_src = ((review_soup.find('div', class_='place_section undefined')).find('ul', class_='_1fYfG undefined')).find_all('li', class_=\"_3xK_0\")\n",
    "\n",
    "                            # 파싱 후 접근하고자 하는 요소가 존재할 때\n",
    "                            if blog_src != None:\n",
    "                                for blog in tqdm_notebook(blog_src):\n",
    "\n",
    "                                    link = (blog.a).attrs['href']\n",
    "                                    summary = (blog.find_all('div', class_=\"_3kKqj\"))[1].get_text()\n",
    "                                    title = blog.find('div', '_2dj8M').get_text()\n",
    "                                    blog_name = blog.find('span', class_='_1vuEi').get_text()\n",
    "\n",
    "                                    # 블로그 작성자의 ID를 가져오기 위해 블로그 링크 분할\n",
    "                                    split_link = re.split('[/+]|[.+]|[?]+', str(link))\n",
    "\n",
    "                                    # 도메인이 blog.naver.com인 경우 블로그 작성자 가져오기\n",
    "                                    if split_link[3] == 'blog':\n",
    "                                        blog_writer = split_link[6]    \n",
    "\n",
    "                                    else:\n",
    "                                        pass\n",
    "\n",
    "                                    if ('cafeRedirect' or 'post.naver.com') not in link:\n",
    "                                        count_list.append(1)\n",
    "                                        df_info_save(store_id\n",
    "                                                     , store_name\n",
    "                                                     , title\n",
    "                                                     , blog_writer\n",
    "                                                     , link\n",
    "                                                     , summary\n",
    "                                                     , blog_name)\n",
    "\n",
    "                            # 파싱 후 접근하고자 하는 요소가 존재하지 않을 때\n",
    "                            else:\n",
    "                                print('파싱한 HTML 소스가 존재하지 않습니다!')\n",
    "                                df_no_result(store, store_name, blog_tab)\n",
    "\n",
    "                    else:\n",
    "                        time.sleep(1)\n",
    "                        review_soup = BeautifulSoup(driver.page_source, 'html.parser')\n",
    "\n",
    "                        # 첫 번째 페이지의 블로그 이름, 포스트 제목, 링크, 본문 요약 가져오기  \n",
    "                        blog_src = ((review_soup.find('div', class_='place_section undefined')).find('ul', class_='_1fYfG undefined')).find_all('li', class_=\"_3xK_0\")\n",
    "                        blog_x_path = None\n",
    "\n",
    "                        for blog in tqdm_notebook(blog_src):\n",
    "\n",
    "                            link = (blog.a).attrs['href']\n",
    "                            summary = (blog.find_all('div', class_=\"_3kKqj\"))[1].get_text()\n",
    "                            title = blog.find('div', '_2dj8M').get_text()\n",
    "                            blog_name = blog.find('span', class_='_1vuEi').get_text()\n",
    "\n",
    "                            # 블로그 작성자의 ID를 가져오기 위해 블로그 링크 분할\n",
    "                            split_link = re.split('[/+]|[.+]|[?]+', str(link))\n",
    "\n",
    "                            # 도메인이 blog.naver.com인 경우 블로그 작성자 가져오기\n",
    "                            if split_link[3] == 'blog':\n",
    "                                blog_writer = split_link[6]\n",
    "\n",
    "                            else:\n",
    "                                pass\n",
    "\n",
    "                            if ('cafeRedirect' or 'post.naver.com') not in link:\n",
    "                                count_list.append(1)\n",
    "                                df_info_save(store_id\n",
    "                                             , store_name\n",
    "                                             , title\n",
    "                                             , blog_writer\n",
    "                                             , link\n",
    "                                             , summary\n",
    "                                             , blog_name)\n",
    "\n",
    "                        print('다음 페이지가 없습니다.')\n",
    "                        pass\n",
    "\n",
    "                else:\n",
    "                    print('블로그 리뷰가 없습니다.')\n",
    "                    pass\n",
    "            \n",
    "            else:\n",
    "                print(\"요청하신 페이지를 찾을 수 없습니다. 검색하신 업소의 정보가 삭제되었습니다.\")\n",
    "                ecode = \"요청하신 페이지를 찾을 수 없습니다.\"\n",
    "                df_error_save(store, store_name, ecode)\n",
    "                pass\n",
    "            \n",
    "            if len(count_list) == 0:\n",
    "                print('저장된 블로그 정보가 없습니다.')\n",
    "                blog_tab = '/hairshop/' + str(store_id) + '/review/ugc'\n",
    "                df_no_result(store_id, store_name, blog_tab)\n",
    "            \n",
    "    except sce.NoSuchElementException:\n",
    "        print('블로그 리뷰가 없습니다!')\n",
    "        print('다음 업소의 크롤링을 진행합니다.')\n",
    "        df_no_result(store, store_name, blog_tab)\n",
    "        \n",
    "    except sce.ElementNotInteractableException:\n",
    "        print('해당 엘리먼트를 찾던 중 에러가 발생했습니다.')\n",
    "        \n",
    "    except sce.WebDriverException:\n",
    "        print('웹 드라이버 에러 발생')\n",
    "        print('유니코드 변환 에러')\n",
    "        df_error_save(store, store_name, blog_tab)\n",
    "    \n",
    "    print('★', store_name + '의 블로그 리뷰 썸네일 크롤링 성공!')\n",
    "    driver.close()\n",
    "    driver.quit()\n",
    "    \n",
    "    return df_blog_review"
   ]
  },
  {
   "cell_type": "code",
   "execution_count": 35,
   "metadata": {},
   "outputs": [],
   "source": [
    "# 크롬 웹 드라이버 헤드리스 설정 및 웹 보안 무시\n",
    "options = webdriver.ChromeOptions()\n",
    "\n",
    "prefs = {\n",
    "    'profile.default_content_setting_values': {\n",
    "          'cookies': 2, 'images': 2, 'plugins': 2\n",
    "        , 'popups': 2, 'geolocation': 2, 'notifications': 2\n",
    "        , 'auto_select_certificate': 2, 'fullscreen': 2, 'mouselock': 2\n",
    "        , 'mixed_script': 2, 'media_stream': 2, 'media_stream_mic': 2\n",
    "        , 'media_stream_camera': 2, 'protocol_handlers': 2, 'ppapi_broker': 2\n",
    "        , 'automatic_downloads': 2, 'midi_sysex': 2, 'push_messaging': 2\n",
    "        , 'ssl_cert_decisions': 2, 'metro_switch_to_desktop': 2, 'protected_media_identifier': 2\n",
    "        , 'app_banner': 2, 'site_engagement': 2, 'durable_storage': 2\n",
    "    }\n",
    "}\n",
    "\n",
    "options.add_experimental_option('prefs', prefs)\n",
    "options.add_argument('--disable-dev-shm-usage')\n",
    "options.add_argument('User-Agent=Mozilla/5.0 (Windows NT 10.0; Win64; x64) AppleWebKit/537.36 (KHTML, like Gecko) Chrome/80.0.3987.149 Safari/537.36')\n",
    "options.add_argument(\"Accept=text/html,application/xhtml+xml,application/xml;q=0.9,imgwebp,*/*;q=0.8\")\n",
    "options.add_argument(\"start-maximized\")\n",
    "options.add_argument('--no-sandbox')\n",
    "options.add_argument(\"disable-infobars\")\n",
    "options.add_argument(\"--disable-extensions\")\n",
    "options.add_argument('headless')\n",
    "options.add_argument(\"disable-gpu\")\n",
    "options.add_argument(\"--disable-web-security\")"
   ]
  },
  {
   "cell_type": "markdown",
   "metadata": {},
   "source": [
    "# 플레이스 블로그 리뷰 썸네일 스레딩\n",
    "#### 2020-05-14 (목) 이한울\n",
    "---\n",
    "- 주석 처리된 부분을 보시면 범위가 나와있습니다.\n",
    "- a와 end 값을 본인의 범위에 맞게 지정해주신 뒤 실행하시면 됩니다.\n",
    "- 간혹 지정된 범위까지 크롤링을 하였음에도 계속해서 실행되어 뒷 부분까지 크롤링하는 상황이 발생하니 유의해주시기 바랍니다.\n",
    "- df_place의 150개 업소 크롤링에 약 43분 소요 [※스레드 3개 기준※]\n",
    "- df_place의 개 업소 크롤링에 약 분 소요 [※스레드 5개 기준※] 0 ~ 365 16:05분 시작 17:35분 완료\n",
    "- 0 ~ 365 업소 크롤링 중 에러 발생 없음.\n",
    "- 업소별 블로그 리뷰 100건 * 스레드 5개 = 5개 업소 크롤링 소요시간: 약 75초 리뷰 수에 따라 가감될 수 있습니다.\n",
    "- 1인당 약 2시간 정도 소요될 것으로 예상됩니다."
   ]
  },
  {
   "cell_type": "markdown",
   "metadata": {},
   "source": [
    "# 아래 셀을 클릭한 뒤 Cell Run All Above 후 아래 셀에서 Ctrl + Enter!"
   ]
  },
  {
   "cell_type": "code",
   "execution_count": 13,
   "metadata": {
    "collapsed": true
   },
   "outputs": [
    {
     "data": {
      "application/vnd.jupyter.widget-view+json": {
       "model_id": "e419b2677e9844fc97080380402d9a3e",
       "version_major": 2,
       "version_minor": 0
      },
      "text/plain": [
       "HBox(children=(IntProgress(value=0, max=81), HTML(value='')))"
      ]
     },
     "metadata": {},
     "output_type": "display_data"
    },
    {
     "name": "stdout",
     "output_type": "stream",
     "text": [
      "363 ~ 367의 블로그 리뷰 크롤링을 시작합니다.\n",
      "\n",
      "1574340058 박호준헤어 일원점 크롤링을 진행합니다.\n",
      "\n",
      "박호준헤어 일원점의 명시적 총 블로그 리뷰 수: 33 \n",
      "\n",
      "▶▶ 박호준헤어 일원점 의 블로그 탭: /hairshop/1574340058/review/ugc \n",
      "\n",
      "1222327123 리안헤어 도봉한신점 크롤링을 진행합니다.\n",
      "\n",
      "리안헤어 도봉한신점의 명시적 총 블로그 리뷰 수: 18 \n",
      "\n",
      "▶▶ 리안헤어 도봉한신점 의 블로그 탭: /hairshop/1222327123/review/ugc \n",
      "\n",
      "263963767 헤어살롱나루 양재역점 크롤링을 진행합니다.\n",
      "\n",
      "헤어살롱나루 양재역점의 명시적 총 블로그 리뷰 수: 318 \n",
      "\n",
      "▶▶ 헤어살롱나루 양재역점 의 블로그 탭: /hairshop/263963767/review/ugc \n",
      "\n",
      "37236557 오다헤어 중앙대점 크롤링을 진행합니다.\n",
      "\n",
      "오다헤어 중앙대점의 명시적 총 블로그 리뷰 수: 61 \n",
      "\n",
      "▶▶ 오다헤어 중앙대점 의 블로그 탭: /hairshop/37236557/review/ugc \n",
      "\n",
      "해당 엘리먼트를 찾지 못했습니다.\n"
     ]
    },
    {
     "data": {
      "application/vnd.jupyter.widget-view+json": {
       "model_id": "a69e9fc0a8d2414f9f5359c548050776",
       "version_major": 2,
       "version_minor": 0
      },
      "text/plain": [
       "HBox(children=(IntProgress(value=0, max=33), HTML(value='')))"
      ]
     },
     "metadata": {},
     "output_type": "display_data"
    },
    {
     "name": "stderr",
     "output_type": "stream",
     "text": [
      "C:\\Users\\82106\\Anaconda3\\lib\\site-packages\\ipykernel_launcher.py:8: FutureWarning: `item` has been deprecated and will be removed in a future version\n",
      "  \n"
     ]
    },
    {
     "name": "stdout",
     "output_type": "stream",
     "text": [
      "\n",
      "★ 박호준헤어 일원점의 블로그 리뷰 썸네일 크롤링 성공!\n",
      "해당 엘리먼트를 찾지 못했습니다.\n",
      "1590537785 라리엔 가로수길점 크롤링을 진행합니다.\n",
      "\n",
      "라리엔 가로수길점의 명시적 총 블로그 리뷰 수: 1042 \n",
      "\n",
      "▶▶ 라리엔 가로수길점 의 블로그 탭: /hairshop/1590537785/review/ugc \n",
      "\n"
     ]
    },
    {
     "data": {
      "application/vnd.jupyter.widget-view+json": {
       "model_id": "e1fd986abbf34c6c8e9a9110033ee4a3",
       "version_major": 2,
       "version_minor": 0
      },
      "text/plain": [
       "HBox(children=(IntProgress(value=0, max=18), HTML(value='')))"
      ]
     },
     "metadata": {},
     "output_type": "display_data"
    },
    {
     "name": "stdout",
     "output_type": "stream",
     "text": [
      "\n",
      "★ 리안헤어 도봉한신점의 블로그 리뷰 썸네일 크롤링 성공!\n",
      "해당 엘리먼트를 찾지 못했습니다.\n"
     ]
    },
    {
     "data": {
      "application/vnd.jupyter.widget-view+json": {
       "model_id": "e1262920c4224a888d06fe6536999fce",
       "version_major": 2,
       "version_minor": 0
      },
      "text/plain": [
       "HBox(children=(IntProgress(value=0), HTML(value='')))"
      ]
     },
     "metadata": {},
     "output_type": "display_data"
    },
    {
     "name": "stdout",
     "output_type": "stream",
     "text": [
      "\n",
      "★ 헤어살롱나루 양재역점의 블로그 리뷰 썸네일 크롤링 성공!\n",
      "해당 엘리먼트를 찾지 못했습니다.\n"
     ]
    },
    {
     "data": {
      "application/vnd.jupyter.widget-view+json": {
       "model_id": "f584682cfdd64aa7ba083200edc1535c",
       "version_major": 2,
       "version_minor": 0
      },
      "text/plain": [
       "HBox(children=(IntProgress(value=0), HTML(value='')))"
      ]
     },
     "metadata": {},
     "output_type": "display_data"
    },
    {
     "name": "stdout",
     "output_type": "stream",
     "text": [
      "\n",
      "★ 라리엔 가로수길점의 블로그 리뷰 썸네일 크롤링 성공!\n",
      "해당 엘리먼트를 찾지 못했습니다.\n"
     ]
    },
    {
     "data": {
      "application/vnd.jupyter.widget-view+json": {
       "model_id": "912538a6d5d84ed1a1153f36b90e2d83",
       "version_major": 2,
       "version_minor": 0
      },
      "text/plain": [
       "HBox(children=(IntProgress(value=0, max=60), HTML(value='')))"
      ]
     },
     "metadata": {},
     "output_type": "display_data"
    },
    {
     "name": "stdout",
     "output_type": "stream",
     "text": [
      "\n",
      "★ 오다헤어 중앙대점의 블로그 리뷰 썸네일 크롤링 성공!\n",
      "368 ~ 372의 블로그 리뷰 크롤링을 시작합니다.\n",
      "\n",
      "31476031 더 퍼스트헤어 고려대점 크롤링을 진행합니다.\n",
      "\n",
      "더 퍼스트헤어 고려대점의 명시적 총 블로그 리뷰 수: 343 \n",
      "\n",
      "▶▶ 더 퍼스트헤어 고려대점 의 블로그 탭: /hairshop/31476031/review/ugc \n",
      "\n",
      "34349373 준오헤어 동대문홈플러스점 크롤링을 진행합니다.\n",
      "\n",
      "준오헤어 동대문홈플러스점의 명시적 총 블로그 리뷰 수: 39 \n",
      "\n",
      "▶▶ 준오헤어 동대문홈플러스점 의 블로그 탭: /hairshop/34349373/review/ugc \n",
      "\n",
      "13376858 머시헤어 2호점 크롤링을 진행합니다.\n",
      "\n",
      "머시헤어 2호점의 명시적 총 블로그 리뷰 수: 50 \n",
      "\n",
      "▶▶ 머시헤어 2호점 의 블로그 탭: /hairshop/13376858/review/ugc \n",
      "\n",
      "18744162 준오헤어 이대3호점 크롤링을 진행합니다.\n",
      "\n",
      "준오헤어 이대3호점의 명시적 총 블로그 리뷰 수: 201 \n",
      "\n",
      "▶▶ 준오헤어 이대3호점 의 블로그 탭: /hairshop/18744162/review/ugc \n",
      "\n",
      "219678611 마음이통하다헤어살롱 크롤링을 진행합니다.\n",
      "\n",
      "마음이통하다헤어살롱의 명시적 총 블로그 리뷰 수: 377 \n",
      "\n",
      "▶▶ 마음이통하다헤어살롱 의 블로그 탭: /hairshop/219678611/review/ugc \n",
      "\n",
      "해당 엘리먼트를 찾지 못했습니다.\n",
      "해당 엘리먼트를 찾지 못했습니다.\n"
     ]
    },
    {
     "data": {
      "application/vnd.jupyter.widget-view+json": {
       "model_id": "f5f38e6063fb4d0f90637b1c34ca9477",
       "version_major": 2,
       "version_minor": 0
      },
      "text/plain": [
       "HBox(children=(IntProgress(value=0, max=33), HTML(value='')))"
      ]
     },
     "metadata": {},
     "output_type": "display_data"
    },
    {
     "name": "stdout",
     "output_type": "stream",
     "text": [
      "\n",
      "★ 준오헤어 동대문홈플러스점의 블로그 리뷰 썸네일 크롤링 성공!\n"
     ]
    },
    {
     "data": {
      "application/vnd.jupyter.widget-view+json": {
       "model_id": "bbc7623905424eff9eb525e1e56d81b3",
       "version_major": 2,
       "version_minor": 0
      },
      "text/plain": [
       "HBox(children=(IntProgress(value=0, max=50), HTML(value='')))"
      ]
     },
     "metadata": {},
     "output_type": "display_data"
    },
    {
     "name": "stdout",
     "output_type": "stream",
     "text": [
      "\n",
      "★ 머시헤어 2호점의 블로그 리뷰 썸네일 크롤링 성공!\n",
      "해당 엘리먼트를 찾지 못했습니다.\n",
      "해당 엘리먼트를 찾지 못했습니다.\n"
     ]
    },
    {
     "data": {
      "application/vnd.jupyter.widget-view+json": {
       "model_id": "4cfa652c7b5648e197fc86af7f32a19b",
       "version_major": 2,
       "version_minor": 0
      },
      "text/plain": [
       "HBox(children=(IntProgress(value=0), HTML(value='')))"
      ]
     },
     "metadata": {},
     "output_type": "display_data"
    },
    {
     "name": "stdout",
     "output_type": "stream",
     "text": [
      "\n",
      "★ 준오헤어 이대3호점의 블로그 리뷰 썸네일 크롤링 성공!\n"
     ]
    },
    {
     "data": {
      "application/vnd.jupyter.widget-view+json": {
       "model_id": "187ba79949c3416f9d65461712c50498",
       "version_major": 2,
       "version_minor": 0
      },
      "text/plain": [
       "HBox(children=(IntProgress(value=0, max=150), HTML(value='')))"
      ]
     },
     "metadata": {},
     "output_type": "display_data"
    },
    {
     "name": "stdout",
     "output_type": "stream",
     "text": [
      "\n",
      "★ 더 퍼스트헤어 고려대점의 블로그 리뷰 썸네일 크롤링 성공!\n",
      "해당 엘리먼트를 찾지 못했습니다.\n"
     ]
    },
    {
     "data": {
      "application/vnd.jupyter.widget-view+json": {
       "model_id": "2c0e2633978546e68fc5a2464664ed3c",
       "version_major": 2,
       "version_minor": 0
      },
      "text/plain": [
       "HBox(children=(IntProgress(value=0), HTML(value='')))"
      ]
     },
     "metadata": {},
     "output_type": "display_data"
    },
    {
     "name": "stdout",
     "output_type": "stream",
     "text": [
      "\n",
      "★ 마음이통하다헤어살롱의 블로그 리뷰 썸네일 크롤링 성공!\n",
      "373 ~ 377의 블로그 리뷰 크롤링을 시작합니다.\n",
      "\n",
      "18714950 살롱에이 중대점 크롤링을 진행합니다.\n",
      "\n",
      "살롱에이 중대점의 명시적 총 블로그 리뷰 수: 125 \n",
      "\n",
      "▶▶ 살롱에이 중대점 의 블로그 탭: /hairshop/18714950/review/ugc \n",
      "\n",
      "1258477274 로이드밤 구로점 크롤링을 진행합니다.\n",
      "\n",
      "로이드밤 구로점의 명시적 총 블로그 리뷰 수: 57 \n",
      "\n",
      "▶▶ 로이드밤 구로점 의 블로그 탭: /hairshop/1258477274/review/ugc \n",
      "\n",
      "66838411 리안헤어 신길역점 크롤링을 진행합니다.\n",
      "\n",
      "리안헤어 신길역점의 명시적 총 블로그 리뷰 수: 62 \n",
      "\n",
      "▶▶ 리안헤어 신길역점 의 블로그 탭: /hairshop/66838411/review/ugc \n",
      "\n",
      "33261907 코제트헤어컬러 성신여대점 크롤링을 진행합니다.\n",
      "\n",
      "코제트헤어컬러 성신여대점의 명시적 총 블로그 리뷰 수: 85 \n",
      "\n",
      "▶▶ 코제트헤어컬러 성신여대점 의 블로그 탭: /hairshop/33261907/review/ugc \n",
      "\n",
      "38508020 헤어아티스트M 대치점 크롤링을 진행합니다.\n",
      "\n",
      "헤어아티스트M 대치점의 명시적 총 블로그 리뷰 수: 210 \n",
      "\n",
      "▶▶ 헤어아티스트M 대치점 의 블로그 탭: /hairshop/38508020/review/ugc \n",
      "\n",
      "해당 엘리먼트를 찾지 못했습니다.\n"
     ]
    },
    {
     "data": {
      "application/vnd.jupyter.widget-view+json": {
       "model_id": "2bdbf320defb4060bd19f2b113057fa4",
       "version_major": 2,
       "version_minor": 0
      },
      "text/plain": [
       "HBox(children=(IntProgress(value=0, max=57), HTML(value='')))"
      ]
     },
     "metadata": {},
     "output_type": "display_data"
    },
    {
     "name": "stdout",
     "output_type": "stream",
     "text": [
      "\n",
      "★ 로이드밤 구로점의 블로그 리뷰 썸네일 크롤링 성공!\n",
      "해당 엘리먼트를 찾지 못했습니다.\n",
      "해당 엘리먼트를 찾지 못했습니다.\n",
      "해당 엘리먼트를 찾지 못했습니다.\n"
     ]
    },
    {
     "data": {
      "application/vnd.jupyter.widget-view+json": {
       "model_id": "168f77344fae4c1c88a6fd3a5dcd08e2",
       "version_major": 2,
       "version_minor": 0
      },
      "text/plain": [
       "HBox(children=(IntProgress(value=0, max=30), HTML(value='')))"
      ]
     },
     "metadata": {},
     "output_type": "display_data"
    },
    {
     "name": "stdout",
     "output_type": "stream",
     "text": [
      "\n",
      "★ 헤어아티스트M 대치점의 블로그 리뷰 썸네일 크롤링 성공!\n"
     ]
    },
    {
     "data": {
      "application/vnd.jupyter.widget-view+json": {
       "model_id": "2be7465c84804b30855b22a539829855",
       "version_major": 2,
       "version_minor": 0
      },
      "text/plain": [
       "HBox(children=(IntProgress(value=0), HTML(value='')))"
      ]
     },
     "metadata": {},
     "output_type": "display_data"
    },
    {
     "name": "stdout",
     "output_type": "stream",
     "text": [
      "\n",
      "★ 살롱에이 중대점의 블로그 리뷰 썸네일 크롤링 성공!\n"
     ]
    },
    {
     "data": {
      "application/vnd.jupyter.widget-view+json": {
       "model_id": "77261ae8b8894d8e9d8bdfeb6c89cf11",
       "version_major": 2,
       "version_minor": 0
      },
      "text/plain": [
       "HBox(children=(IntProgress(value=0, max=40), HTML(value='')))"
      ]
     },
     "metadata": {},
     "output_type": "display_data"
    },
    {
     "name": "stdout",
     "output_type": "stream",
     "text": [
      "\n",
      "★ 코제트헤어컬러 성신여대점의 블로그 리뷰 썸네일 크롤링 성공!\n",
      "해당 엘리먼트를 찾지 못했습니다.\n"
     ]
    },
    {
     "data": {
      "application/vnd.jupyter.widget-view+json": {
       "model_id": "536b18bdda8f4344a533edb8de8ade58",
       "version_major": 2,
       "version_minor": 0
      },
      "text/plain": [
       "HBox(children=(IntProgress(value=0, max=62), HTML(value='')))"
      ]
     },
     "metadata": {},
     "output_type": "display_data"
    },
    {
     "name": "stdout",
     "output_type": "stream",
     "text": [
      "\n",
      "★ 리안헤어 신길역점의 블로그 리뷰 썸네일 크롤링 성공!\n",
      "378 ~ 382의 블로그 리뷰 크롤링을 시작합니다.\n",
      "\n",
      "13372497 박준뷰티랩 장안점 크롤링을 진행합니다.\n",
      "\n",
      "박준뷰티랩 장안점의 명시적 총 블로그 리뷰 수: 192 \n",
      "\n",
      "▶▶ 박준뷰티랩 장안점 의 블로그 탭: /hairshop/13372497/review/ugc \n",
      "\n",
      "36420632 엘세븐헤어 신촌연대점 크롤링을 진행합니다.\n",
      "\n",
      "엘세븐헤어 신촌연대점의 명시적 총 블로그 리뷰 수: 109 \n",
      "\n",
      "▶▶ 엘세븐헤어 신촌연대점 의 블로그 탭: /hairshop/36420632/review/ugc \n",
      "\n",
      "21029110 살롱루즈 가로수길점 크롤링을 진행합니다.\n",
      "\n",
      "살롱루즈 가로수길점의 명시적 총 블로그 리뷰 수: 2178 \n",
      "\n",
      "▶▶ 살롱루즈 가로수길점 의 블로그 탭: /hairshop/21029110/review/ugc \n",
      "\n",
      "1853807979 하움 크롤링을 진행합니다.\n",
      "\n",
      "하움의 명시적 총 블로그 리뷰 수: 278 \n",
      "\n",
      "▶▶ 하움 의 블로그 탭: /hairshop/1853807979/review/ugc \n",
      "\n",
      "1725443048 세븐에비뉴 강남1호점 크롤링을 진행합니다.\n",
      "\n",
      "세븐에비뉴 강남1호점의 명시적 총 블로그 리뷰 수: 160 \n",
      "\n",
      "▶▶ 세븐에비뉴 강남1호점 의 블로그 탭: /hairshop/1725443048/review/ugc \n",
      "\n",
      "해당 엘리먼트를 찾지 못했습니다.\n"
     ]
    },
    {
     "data": {
      "application/vnd.jupyter.widget-view+json": {
       "model_id": "d47db9af85784e91832e89293c0caa82",
       "version_major": 2,
       "version_minor": 0
      },
      "text/plain": [
       "HBox(children=(IntProgress(value=0), HTML(value='')))"
      ]
     },
     "metadata": {},
     "output_type": "display_data"
    },
    {
     "name": "stdout",
     "output_type": "stream",
     "text": [
      "\n",
      "★ 엘세븐헤어 신촌연대점의 블로그 리뷰 썸네일 크롤링 성공!\n",
      "해당 엘리먼트를 찾지 못했습니다.\n"
     ]
    },
    {
     "data": {
      "application/vnd.jupyter.widget-view+json": {
       "model_id": "7795806db49c4b5f969e48b79c2bb0bd",
       "version_major": 2,
       "version_minor": 0
      },
      "text/plain": [
       "HBox(children=(IntProgress(value=0, max=124), HTML(value='')))"
      ]
     },
     "metadata": {},
     "output_type": "display_data"
    },
    {
     "name": "stdout",
     "output_type": "stream",
     "text": [
      "\n",
      "★ 박준뷰티랩 장안점의 블로그 리뷰 썸네일 크롤링 성공!\n",
      "해당 엘리먼트를 찾지 못했습니다.\n",
      "해당 엘리먼트를 찾지 못했습니다.\n"
     ]
    },
    {
     "data": {
      "application/vnd.jupyter.widget-view+json": {
       "model_id": "0a2d6c37f4d94f27a44109c724860674",
       "version_major": 2,
       "version_minor": 0
      },
      "text/plain": [
       "HBox(children=(IntProgress(value=0), HTML(value='')))"
      ]
     },
     "metadata": {},
     "output_type": "display_data"
    },
    {
     "name": "stdout",
     "output_type": "stream",
     "text": [
      "\n",
      "★ 하움의 블로그 리뷰 썸네일 크롤링 성공!\n"
     ]
    },
    {
     "data": {
      "application/vnd.jupyter.widget-view+json": {
       "model_id": "bd05bb8b29af42f68b070370ba5e60e3",
       "version_major": 2,
       "version_minor": 0
      },
      "text/plain": [
       "HBox(children=(IntProgress(value=0), HTML(value='')))"
      ]
     },
     "metadata": {},
     "output_type": "display_data"
    },
    {
     "name": "stdout",
     "output_type": "stream",
     "text": [
      "\n",
      "★ 세븐에비뉴 강남1호점의 블로그 리뷰 썸네일 크롤링 성공!\n",
      "해당 엘리먼트를 찾지 못했습니다.\n"
     ]
    },
    {
     "data": {
      "application/vnd.jupyter.widget-view+json": {
       "model_id": "bfd6b775bb0e49b4b88a613ac081400f",
       "version_major": 2,
       "version_minor": 0
      },
      "text/plain": [
       "HBox(children=(IntProgress(value=0, max=178), HTML(value='')))"
      ]
     },
     "metadata": {},
     "output_type": "display_data"
    },
    {
     "name": "stdout",
     "output_type": "stream",
     "text": [
      "\n",
      "★ 살롱루즈 가로수길점의 블로그 리뷰 썸네일 크롤링 성공!\n",
      "383 ~ 387의 블로그 리뷰 크롤링을 시작합니다.\n",
      "\n",
      "1579776147 메종드아이디헤어 서울숲점 크롤링을 진행합니다.\n",
      "\n",
      "메종드아이디헤어 서울숲점의 명시적 총 블로그 리뷰 수: 115 \n",
      "\n",
      "▶▶ 메종드아이디헤어 서울숲점 의 블로그 탭: /hairshop/1579776147/review/ugc \n",
      "\n",
      "35689427 제오헤어 방배점 크롤링을 진행합니다.\n",
      "\n",
      "제오헤어 방배점의 명시적 총 블로그 리뷰 수: 79 \n",
      "\n",
      "▶▶ 제오헤어 방배점 의 블로그 탭: /hairshop/35689427/review/ugc \n",
      "\n",
      "1944592669 헤어아티스트M 마포구청역점 크롤링을 진행합니다.\n",
      "\n",
      "헤어아티스트M 마포구청역점의 명시적 총 블로그 리뷰 수: 29 \n",
      "\n",
      "▶▶ 헤어아티스트M 마포구청역점 의 블로그 탭: /hairshop/1944592669/review/ugc \n",
      "\n",
      "1257940967 리안헤어 굽은다리역점 크롤링을 진행합니다.\n",
      "\n",
      "리안헤어 굽은다리역점의 명시적 총 블로그 리뷰 수: 116 \n",
      "\n",
      "▶▶ 리안헤어 굽은다리역점 의 블로그 탭: /hairshop/1257940967/review/ugc \n",
      "\n",
      "36883352 살롱 드 옥스 크롤링을 진행합니다.\n",
      "\n",
      "살롱 드 옥스의 명시적 총 블로그 리뷰 수: 322 \n",
      "\n",
      "▶▶ 살롱 드 옥스 의 블로그 탭: /hairshop/36883352/review/ugc \n",
      "\n",
      "해당 엘리먼트를 찾지 못했습니다.\n",
      "해당 엘리먼트를 찾지 못했습니다.\n"
     ]
    },
    {
     "data": {
      "application/vnd.jupyter.widget-view+json": {
       "model_id": "3a8976ffc540425da075d4b466b74664",
       "version_major": 2,
       "version_minor": 0
      },
      "text/plain": [
       "HBox(children=(IntProgress(value=0, max=29), HTML(value='')))"
      ]
     },
     "metadata": {},
     "output_type": "display_data"
    },
    {
     "name": "stdout",
     "output_type": "stream",
     "text": [
      "\n",
      "★ 헤어아티스트M 마포구청역점의 블로그 리뷰 썸네일 크롤링 성공!\n"
     ]
    },
    {
     "data": {
      "application/vnd.jupyter.widget-view+json": {
       "model_id": "d800ad661d5a4b69bd3f3c06c8eac25a",
       "version_major": 2,
       "version_minor": 0
      },
      "text/plain": [
       "HBox(children=(IntProgress(value=0, max=79), HTML(value='')))"
      ]
     },
     "metadata": {},
     "output_type": "display_data"
    },
    {
     "name": "stdout",
     "output_type": "stream",
     "text": [
      "\n",
      "★ 제오헤어 방배점의 블로그 리뷰 썸네일 크롤링 성공!\n",
      "해당 엘리먼트를 찾지 못했습니다.\n"
     ]
    },
    {
     "data": {
      "application/vnd.jupyter.widget-view+json": {
       "model_id": "ea7e849696424df5822162ec488891d4",
       "version_major": 2,
       "version_minor": 0
      },
      "text/plain": [
       "HBox(children=(IntProgress(value=0), HTML(value='')))"
      ]
     },
     "metadata": {},
     "output_type": "display_data"
    },
    {
     "name": "stdout",
     "output_type": "stream",
     "text": [
      "\n",
      "★ 메종드아이디헤어 서울숲점의 블로그 리뷰 썸네일 크롤링 성공!\n",
      "해당 엘리먼트를 찾지 못했습니다.\n"
     ]
    },
    {
     "data": {
      "application/vnd.jupyter.widget-view+json": {
       "model_id": "609198fe516349ec867fff53a3ab0f15",
       "version_major": 2,
       "version_minor": 0
      },
      "text/plain": [
       "HBox(children=(IntProgress(value=0, max=101), HTML(value='')))"
      ]
     },
     "metadata": {},
     "output_type": "display_data"
    },
    {
     "name": "stdout",
     "output_type": "stream",
     "text": [
      "\n",
      "★ 리안헤어 굽은다리역점의 블로그 리뷰 썸네일 크롤링 성공!\n",
      "해당 엘리먼트를 찾지 못했습니다.\n"
     ]
    },
    {
     "data": {
      "application/vnd.jupyter.widget-view+json": {
       "model_id": "e3c55386651e493aa996d88d600000d5",
       "version_major": 2,
       "version_minor": 0
      },
      "text/plain": [
       "HBox(children=(IntProgress(value=0, max=150), HTML(value='')))"
      ]
     },
     "metadata": {},
     "output_type": "display_data"
    },
    {
     "name": "stdout",
     "output_type": "stream",
     "text": [
      "\n",
      "★ 살롱 드 옥스의 블로그 리뷰 썸네일 크롤링 성공!\n",
      "388 ~ 392의 블로그 리뷰 크롤링을 시작합니다.\n",
      "\n",
      "13391459 칸토헤어 크롤링을 진행합니다.\n",
      "\n",
      "칸토헤어의 명시적 총 블로그 리뷰 수: 234 \n",
      "\n",
      "▶▶ 칸토헤어 의 블로그 탭: /hairshop/13391459/review/ugc \n",
      "\n",
      "37566546 설렘 미용실 크롤링을 진행합니다.\n",
      "\n",
      "설렘 미용실의 명시적 총 블로그 리뷰 수: 1717 \n",
      "\n",
      "▶▶ 설렘 미용실 의 블로그 탭: /hairshop/37566546/review/ugc \n",
      "\n",
      "1679738120 준오헤어 내방역점 크롤링을 진행합니다.\n",
      "\n",
      "준오헤어 내방역점의 명시적 총 블로그 리뷰 수: 234 \n",
      "\n",
      "▶▶ 준오헤어 내방역점 의 블로그 탭: /hairshop/1679738120/review/ugc \n",
      "\n",
      "38304870 더살롱 크롤링을 진행합니다.\n",
      "\n",
      "더살롱의 명시적 총 블로그 리뷰 수: 164 \n",
      "\n",
      "▶▶ 더살롱 의 블로그 탭: /hairshop/38304870/review/ugc \n",
      "\n",
      "1217069041 리소헤어 이수점 크롤링을 진행합니다.\n",
      "\n",
      "리소헤어 이수점의 명시적 총 블로그 리뷰 수: 117 \n",
      "\n",
      "▶▶ 리소헤어 이수점 의 블로그 탭: /hairshop/1217069041/review/ugc \n",
      "\n",
      "해당 엘리먼트를 찾지 못했습니다.\n",
      "해당 엘리먼트를 찾지 못했습니다.\n"
     ]
    },
    {
     "data": {
      "application/vnd.jupyter.widget-view+json": {
       "model_id": "e7eab9375f6c400c9374c347fda7d33d",
       "version_major": 2,
       "version_minor": 0
      },
      "text/plain": [
       "HBox(children=(IntProgress(value=0), HTML(value='')))"
      ]
     },
     "metadata": {},
     "output_type": "display_data"
    },
    {
     "name": "stdout",
     "output_type": "stream",
     "text": [
      "\n",
      "★ 칸토헤어의 블로그 리뷰 썸네일 크롤링 성공!\n"
     ]
    },
    {
     "data": {
      "application/vnd.jupyter.widget-view+json": {
       "model_id": "ff9927beaf974afaa0879cccf86b75a5",
       "version_major": 2,
       "version_minor": 0
      },
      "text/plain": [
       "HBox(children=(IntProgress(value=0), HTML(value='')))"
      ]
     },
     "metadata": {},
     "output_type": "display_data"
    },
    {
     "name": "stdout",
     "output_type": "stream",
     "text": [
      "\n",
      "★ 준오헤어 내방역점의 블로그 리뷰 썸네일 크롤링 성공!\n",
      "해당 엘리먼트를 찾지 못했습니다.\n"
     ]
    },
    {
     "data": {
      "application/vnd.jupyter.widget-view+json": {
       "model_id": "9775c31d65b94335a623578976000407",
       "version_major": 2,
       "version_minor": 0
      },
      "text/plain": [
       "HBox(children=(IntProgress(value=0, max=114), HTML(value='')))"
      ]
     },
     "metadata": {},
     "output_type": "display_data"
    },
    {
     "name": "stdout",
     "output_type": "stream",
     "text": [
      "해당 엘리먼트를 찾지 못했습니다.\n",
      "\n",
      "★ 설렘 미용실의 블로그 리뷰 썸네일 크롤링 성공!\n"
     ]
    },
    {
     "data": {
      "application/vnd.jupyter.widget-view+json": {
       "model_id": "0a982399d0d846538bda4b3523099349",
       "version_major": 2,
       "version_minor": 0
      },
      "text/plain": [
       "HBox(children=(IntProgress(value=0), HTML(value='')))"
      ]
     },
     "metadata": {},
     "output_type": "display_data"
    },
    {
     "name": "stdout",
     "output_type": "stream",
     "text": [
      "\n",
      "★ 더살롱의 블로그 리뷰 썸네일 크롤링 성공!\n",
      "해당 엘리먼트를 찾지 못했습니다.\n"
     ]
    },
    {
     "data": {
      "application/vnd.jupyter.widget-view+json": {
       "model_id": "cc254d4f1ec441c5a7d12d36983c4bab",
       "version_major": 2,
       "version_minor": 0
      },
      "text/plain": [
       "HBox(children=(IntProgress(value=0), HTML(value='')))"
      ]
     },
     "metadata": {},
     "output_type": "display_data"
    },
    {
     "name": "stdout",
     "output_type": "stream",
     "text": [
      "\n",
      "★ 리소헤어 이수점의 블로그 리뷰 썸네일 크롤링 성공!\n",
      "393 ~ 397의 블로그 리뷰 크롤링을 시작합니다.\n",
      "\n",
      "1709750229 제오헤어 신용산역점 크롤링을 진행합니다.\n",
      "\n",
      "제오헤어 신용산역점의 명시적 총 블로그 리뷰 수: 179 \n",
      "\n",
      "▶▶ 제오헤어 신용산역점 의 블로그 탭: /hairshop/1709750229/review/ugc \n",
      "\n",
      "249295828 헤어바이반룬하우트 망원역점 크롤링을 진행합니다.\n",
      "\n",
      "헤어바이반룬하우트 망원역점의 명시적 총 블로그 리뷰 수: 98 \n",
      "\n",
      "▶▶ 헤어바이반룬하우트 망원역점 의 블로그 탭: /hairshop/249295828/review/ugc \n",
      "\n",
      "649134941 바른살롱 크롤링을 진행합니다.\n",
      "\n",
      "바른살롱의 명시적 총 블로그 리뷰 수: 569 \n",
      "\n",
      "▶▶ 바른살롱 의 블로그 탭: /hairshop/649134941/review/ugc \n",
      "\n",
      "833387128 누벨바그헤어살롱 신도림점 크롤링을 진행합니다.\n",
      "\n",
      "누벨바그헤어살롱 신도림점의 명시적 총 블로그 리뷰 수: 83 \n",
      "\n",
      "▶▶ 누벨바그헤어살롱 신도림점 의 블로그 탭: /hairshop/833387128/review/ugc \n",
      "\n",
      "37532329 제다헤어 외대점 크롤링을 진행합니다.\n",
      "\n",
      "제다헤어 외대점의 명시적 총 블로그 리뷰 수: 47 \n",
      "\n",
      "▶▶ 제다헤어 외대점 의 블로그 탭: /hairshop/37532329/review/ugc \n",
      "\n",
      "해당 엘리먼트를 찾지 못했습니다.\n",
      "해당 엘리먼트를 찾지 못했습니다.\n"
     ]
    },
    {
     "data": {
      "application/vnd.jupyter.widget-view+json": {
       "model_id": "637be7aefcb1466685cb57e0857f53db",
       "version_major": 2,
       "version_minor": 0
      },
      "text/plain": [
       "HBox(children=(IntProgress(value=0, max=120), HTML(value='')))"
      ]
     },
     "metadata": {},
     "output_type": "display_data"
    },
    {
     "name": "stdout",
     "output_type": "stream",
     "text": [
      "해당 엘리먼트를 찾지 못했습니다.\n",
      "해당 엘리먼트를 찾지 못했습니다.\n",
      "\n",
      "★ 제오헤어 신용산역점의 블로그 리뷰 썸네일 크롤링 성공!\n"
     ]
    },
    {
     "data": {
      "application/vnd.jupyter.widget-view+json": {
       "model_id": "addb0ae1b85542d183083519e69601e5",
       "version_major": 2,
       "version_minor": 0
      },
      "text/plain": [
       "HBox(children=(IntProgress(value=0, max=83), HTML(value='')))"
      ]
     },
     "metadata": {},
     "output_type": "display_data"
    },
    {
     "name": "stdout",
     "output_type": "stream",
     "text": [
      "\n",
      "★ 누벨바그헤어살롱 신도림점의 블로그 리뷰 썸네일 크롤링 성공!\n"
     ]
    },
    {
     "data": {
      "application/vnd.jupyter.widget-view+json": {
       "model_id": "d089090ee3bd4e4b9c93047f7778dda4",
       "version_major": 2,
       "version_minor": 0
      },
      "text/plain": [
       "HBox(children=(IntProgress(value=0, max=47), HTML(value='')))"
      ]
     },
     "metadata": {},
     "output_type": "display_data"
    },
    {
     "data": {
      "application/vnd.jupyter.widget-view+json": {
       "model_id": "5bdfc63766914b3fa064f772ab715aa9",
       "version_major": 2,
       "version_minor": 0
      },
      "text/plain": [
       "HBox(children=(IntProgress(value=0, max=97), HTML(value='')))"
      ]
     },
     "metadata": {},
     "output_type": "display_data"
    },
    {
     "name": "stdout",
     "output_type": "stream",
     "text": [
      "\n",
      "★ 제다헤어 외대점의 블로그 리뷰 썸네일 크롤링 성공!\n",
      "\n",
      "★ 헤어바이반룬하우트 망원역점의 블로그 리뷰 썸네일 크롤링 성공!\n",
      "해당 엘리먼트를 찾지 못했습니다.\n"
     ]
    },
    {
     "data": {
      "application/vnd.jupyter.widget-view+json": {
       "model_id": "a97e67a4083c4af4876714ed00fad54e",
       "version_major": 2,
       "version_minor": 0
      },
      "text/plain": [
       "HBox(children=(IntProgress(value=0, max=148), HTML(value='')))"
      ]
     },
     "metadata": {},
     "output_type": "display_data"
    },
    {
     "name": "stdout",
     "output_type": "stream",
     "text": [
      "\n",
      "★ 바른살롱의 블로그 리뷰 썸네일 크롤링 성공!\n",
      "398 ~ 402의 블로그 리뷰 크롤링을 시작합니다.\n",
      "\n",
      "38701480 장루이다비드 에스뷰테라 옥수점 크롤링을 진행합니다.\n",
      "\n",
      "장루이다비드 에스뷰테라 옥수점의 명시적 총 블로그 리뷰 수: 92 \n",
      "\n",
      "▶▶ 장루이다비드 에스뷰테라 옥수점 의 블로그 탭: /hairshop/38701480/review/ugc \n",
      "\n",
      "21116373 에끌레르헤어 크롤링을 진행합니다.\n",
      "\n",
      "에끌레르헤어의 명시적 총 블로그 리뷰 수: 299 \n",
      "\n",
      "▶▶ 에끌레르헤어 의 블로그 탭: /hairshop/21116373/review/ugc \n",
      "\n",
      "36792874 박승철헤어스투디오 왕십리역점 크롤링을 진행합니다.\n",
      "\n",
      "박승철헤어스투디오 왕십리역점의 명시적 총 블로그 리뷰 수: 271 \n",
      "\n",
      "▶▶ 박승철헤어스투디오 왕십리역점 의 블로그 탭: /hairshop/36792874/review/ugc \n",
      "\n",
      "13268650 벨라아띠 잠실미용실 크롤링을 진행합니다.\n",
      "\n",
      "벨라아띠 잠실미용실의 명시적 총 블로그 리뷰 수: 225 \n",
      "\n",
      "▶▶ 벨라아띠 잠실미용실 의 블로그 탭: /hairshop/13268650/review/ugc \n",
      "\n",
      "36898101 박승철헤어스투디오 염창역점 크롤링을 진행합니다.\n",
      "\n",
      "박승철헤어스투디오 염창역점의 명시적 총 블로그 리뷰 수: 52 \n",
      "\n",
      "▶▶ 박승철헤어스투디오 염창역점 의 블로그 탭: /hairshop/36898101/review/ugc \n",
      "\n",
      "해당 엘리먼트를 찾지 못했습니다.\n"
     ]
    },
    {
     "data": {
      "application/vnd.jupyter.widget-view+json": {
       "model_id": "0327a80275214a9f90431b02ffd57d68",
       "version_major": 2,
       "version_minor": 0
      },
      "text/plain": [
       "HBox(children=(IntProgress(value=0, max=85), HTML(value='')))"
      ]
     },
     "metadata": {},
     "output_type": "display_data"
    },
    {
     "name": "stdout",
     "output_type": "stream",
     "text": [
      "\n",
      "★ 장루이다비드 에스뷰테라 옥수점의 블로그 리뷰 썸네일 크롤링 성공!\n",
      "해당 엘리먼트를 찾지 못했습니다.\n",
      "해당 엘리먼트를 찾지 못했습니다.\n",
      "해당 엘리먼트를 찾지 못했습니다.\n",
      "해당 엘리먼트를 찾지 못했습니다.\n"
     ]
    },
    {
     "data": {
      "application/vnd.jupyter.widget-view+json": {
       "model_id": "b3f0bffe68274fad9cf1a2c8b276ee3b",
       "version_major": 2,
       "version_minor": 0
      },
      "text/plain": [
       "HBox(children=(IntProgress(value=0, max=52), HTML(value='')))"
      ]
     },
     "metadata": {},
     "output_type": "display_data"
    },
    {
     "data": {
      "application/vnd.jupyter.widget-view+json": {
       "model_id": "d7d099d3ed4a46cfb24a0264e30511c4",
       "version_major": 2,
       "version_minor": 0
      },
      "text/plain": [
       "HBox(children=(IntProgress(value=0, max=105), HTML(value='')))"
      ]
     },
     "metadata": {},
     "output_type": "display_data"
    },
    {
     "name": "stdout",
     "output_type": "stream",
     "text": [
      "\n",
      "★ 박승철헤어스투디오 염창역점의 블로그 리뷰 썸네일 크롤링 성공!\n",
      "\n",
      "★ 에끌레르헤어의 블로그 리뷰 썸네일 크롤링 성공!\n"
     ]
    },
    {
     "data": {
      "application/vnd.jupyter.widget-view+json": {
       "model_id": "d5cd50737b594a94a2585be17929b80f",
       "version_major": 2,
       "version_minor": 0
      },
      "text/plain": [
       "HBox(children=(IntProgress(value=0, max=101), HTML(value='')))"
      ]
     },
     "metadata": {},
     "output_type": "display_data"
    },
    {
     "data": {
      "application/vnd.jupyter.widget-view+json": {
       "model_id": "d75bcd7877724944b3a61d2559ead772",
       "version_major": 2,
       "version_minor": 0
      },
      "text/plain": [
       "HBox(children=(IntProgress(value=0, max=101), HTML(value='')))"
      ]
     },
     "metadata": {},
     "output_type": "display_data"
    },
    {
     "name": "stdout",
     "output_type": "stream",
     "text": [
      "\n",
      "★ 박승철헤어스투디오 왕십리역점의 블로그 리뷰 썸네일 크롤링 성공!\n",
      "\n",
      "★ 벨라아띠 잠실미용실의 블로그 리뷰 썸네일 크롤링 성공!\n",
      "403 ~ 407의 블로그 리뷰 크롤링을 시작합니다.\n",
      "\n",
      "36016150 살롱드노바 크롤링을 진행합니다.\n",
      "\n",
      "살롱드노바의 명시적 총 블로그 리뷰 수: 241 \n",
      "\n",
      "▶▶ 살롱드노바 의 블로그 탭: /hairshop/36016150/review/ugc \n",
      "\n",
      "1143880589 휴이엠헤어 상봉역점 크롤링을 진행합니다.\n",
      "\n",
      "휴이엠헤어 상봉역점의 명시적 총 블로그 리뷰 수: 59 \n",
      "\n",
      "▶▶ 휴이엠헤어 상봉역점 의 블로그 탭: /hairshop/1143880589/review/ugc \n",
      "\n",
      "13075445 엔비헤어살롱 크롤링을 진행합니다.\n",
      "\n",
      "엔비헤어살롱의 명시적 총 블로그 리뷰 수: 1407 \n",
      "\n",
      "▶▶ 엔비헤어살롱 의 블로그 탭: /hairshop/13075445/review/ugc \n",
      "\n",
      "1026458598 제인헤어 크롤링을 진행합니다.\n",
      "\n",
      "제인헤어의 명시적 총 블로그 리뷰 수: 370 \n",
      "\n",
      "▶▶ 제인헤어 의 블로그 탭: /hairshop/1026458598/review/ugc \n",
      "\n",
      "1781825651 살롱드조각 헤어스튜디오 크롤링을 진행합니다.\n",
      "\n",
      "살롱드조각 헤어스튜디오의 명시적 총 블로그 리뷰 수: 384 \n",
      "\n",
      "▶▶ 살롱드조각 헤어스튜디오 의 블로그 탭: /hairshop/1781825651/review/ugc \n",
      "\n",
      "해당 엘리먼트를 찾지 못했습니다.\n"
     ]
    },
    {
     "data": {
      "application/vnd.jupyter.widget-view+json": {
       "model_id": "a0f4fea572c54222a23fd2497e993953",
       "version_major": 2,
       "version_minor": 0
      },
      "text/plain": [
       "HBox(children=(IntProgress(value=0, max=60), HTML(value='')))"
      ]
     },
     "metadata": {},
     "output_type": "display_data"
    },
    {
     "name": "stdout",
     "output_type": "stream",
     "text": [
      "\n",
      "★ 휴이엠헤어 상봉역점의 블로그 리뷰 썸네일 크롤링 성공!\n",
      "해당 엘리먼트를 찾지 못했습니다.\n"
     ]
    },
    {
     "data": {
      "application/vnd.jupyter.widget-view+json": {
       "model_id": "c62b15720ab94c83bd22adfacb1f05ec",
       "version_major": 2,
       "version_minor": 0
      },
      "text/plain": [
       "HBox(children=(IntProgress(value=0, max=101), HTML(value='')))"
      ]
     },
     "metadata": {},
     "output_type": "display_data"
    },
    {
     "name": "stdout",
     "output_type": "stream",
     "text": [
      "\n",
      "★ 살롱드노바의 블로그 리뷰 썸네일 크롤링 성공!\n",
      "해당 엘리먼트를 찾지 못했습니다.\n"
     ]
    },
    {
     "data": {
      "application/vnd.jupyter.widget-view+json": {
       "model_id": "6e63c2e45c3f4acea0d2914868031620",
       "version_major": 2,
       "version_minor": 0
      },
      "text/plain": [
       "HBox(children=(IntProgress(value=0), HTML(value='')))"
      ]
     },
     "metadata": {},
     "output_type": "display_data"
    },
    {
     "name": "stdout",
     "output_type": "stream",
     "text": [
      "\n",
      "★ 제인헤어의 블로그 리뷰 썸네일 크롤링 성공!\n",
      "해당 엘리먼트를 찾지 못했습니다.\n",
      "해당 엘리먼트를 찾지 못했습니다.\n"
     ]
    },
    {
     "data": {
      "application/vnd.jupyter.widget-view+json": {
       "model_id": "37cfa6b0be074f21a3608554c78b487b",
       "version_major": 2,
       "version_minor": 0
      },
      "text/plain": [
       "HBox(children=(IntProgress(value=0, max=103), HTML(value='')))"
      ]
     },
     "metadata": {},
     "output_type": "display_data"
    },
    {
     "name": "stdout",
     "output_type": "stream",
     "text": [
      "\n",
      "★ 살롱드조각 헤어스튜디오의 블로그 리뷰 썸네일 크롤링 성공!\n"
     ]
    },
    {
     "data": {
      "application/vnd.jupyter.widget-view+json": {
       "model_id": "e4f74e02034248679b2e36c01a8c57b8",
       "version_major": 2,
       "version_minor": 0
      },
      "text/plain": [
       "HBox(children=(IntProgress(value=0, max=150), HTML(value='')))"
      ]
     },
     "metadata": {},
     "output_type": "display_data"
    },
    {
     "name": "stdout",
     "output_type": "stream",
     "text": [
      "\n",
      "★ 엔비헤어살롱의 블로그 리뷰 썸네일 크롤링 성공!\n",
      "408 ~ 412의 블로그 리뷰 크롤링을 시작합니다.\n",
      "\n",
      "1708710038 감각을더하다 크롤링을 진행합니다.\n",
      "\n",
      "감각을더하다의 명시적 총 블로그 리뷰 수: 21 \n",
      "\n",
      "▶▶ 감각을더하다 의 블로그 탭: /hairshop/1708710038/review/ugc \n",
      "\n",
      "36246648 The감동 수유점 크롤링을 진행합니다.\n",
      "\n",
      "The감동 수유점의 명시적 총 블로그 리뷰 수: 120 \n",
      "\n",
      "▶▶ The감동 수유점 의 블로그 탭: /hairshop/36246648/review/ugc \n",
      "\n",
      "896340668 메종드아이디헤어 반포자이점 크롤링을 진행합니다.\n",
      "\n",
      "메종드아이디헤어 반포자이점의 명시적 총 블로그 리뷰 수: 156 \n",
      "\n",
      "▶▶ 메종드아이디헤어 반포자이점 의 블로그 탭: /hairshop/896340668/review/ugc \n",
      "\n",
      "해당 엘리먼트를 찾지 못했습니다.\n",
      "37165580 반에스 크롤링을 진행합니다.\n",
      "\n",
      "반에스의 명시적 총 블로그 리뷰 수: 542 \n",
      "\n",
      "▶▶ 반에스 의 블로그 탭: /hairshop/37165580/review/ugc \n",
      "\n"
     ]
    },
    {
     "data": {
      "application/vnd.jupyter.widget-view+json": {
       "model_id": "27a2f6e7d1884691a1ce13e20dac778f",
       "version_major": 2,
       "version_minor": 0
      },
      "text/plain": [
       "HBox(children=(IntProgress(value=0, max=21), HTML(value='')))"
      ]
     },
     "metadata": {},
     "output_type": "display_data"
    },
    {
     "name": "stdout",
     "output_type": "stream",
     "text": [
      "\n",
      "★ 감각을더하다의 블로그 리뷰 썸네일 크롤링 성공!\n",
      "해당 엘리먼트를 찾지 못했습니다.\n",
      "해당 엘리먼트를 찾지 못했습니다.\n"
     ]
    },
    {
     "data": {
      "application/vnd.jupyter.widget-view+json": {
       "model_id": "798ebb5ddcf442828bb2da86f56b53a2",
       "version_major": 2,
       "version_minor": 0
      },
      "text/plain": [
       "HBox(children=(IntProgress(value=0), HTML(value='')))"
      ]
     },
     "metadata": {},
     "output_type": "display_data"
    },
    {
     "name": "stdout",
     "output_type": "stream",
     "text": [
      "\n",
      "★ 메종드아이디헤어 반포자이점의 블로그 리뷰 썸네일 크롤링 성공!\n"
     ]
    },
    {
     "data": {
      "application/vnd.jupyter.widget-view+json": {
       "model_id": "8ba10377d574444ea0bdffe619e80e72",
       "version_major": 2,
       "version_minor": 0
      },
      "text/plain": [
       "HBox(children=(IntProgress(value=0), HTML(value='')))"
      ]
     },
     "metadata": {},
     "output_type": "display_data"
    },
    {
     "name": "stdout",
     "output_type": "stream",
     "text": [
      "\n",
      "★ The감동 수유점의 블로그 리뷰 썸네일 크롤링 성공!\n",
      "38654778 베아르시 광화문점 크롤링을 진행합니다.\n",
      "\n",
      "베아르시 광화문점의 명시적 총 블로그 리뷰 수: 544 \n",
      "\n",
      "▶▶ 베아르시 광화문점 의 블로그 탭: /hairshop/38654778/review/ugc \n",
      "\n",
      "해당 엘리먼트를 찾지 못했습니다.\n"
     ]
    },
    {
     "data": {
      "application/vnd.jupyter.widget-view+json": {
       "model_id": "cb15aa27fa304cfcb9db98688a05a97c",
       "version_major": 2,
       "version_minor": 0
      },
      "text/plain": [
       "HBox(children=(IntProgress(value=0, max=102), HTML(value='')))"
      ]
     },
     "metadata": {},
     "output_type": "display_data"
    },
    {
     "name": "stdout",
     "output_type": "stream",
     "text": [
      "\n",
      "★ 반에스의 블로그 리뷰 썸네일 크롤링 성공!\n",
      "해당 엘리먼트를 찾지 못했습니다.\n"
     ]
    },
    {
     "data": {
      "application/vnd.jupyter.widget-view+json": {
       "model_id": "6a62a0792c3a43c38bde7ff350945c8d",
       "version_major": 2,
       "version_minor": 0
      },
      "text/plain": [
       "HBox(children=(IntProgress(value=0), HTML(value='')))"
      ]
     },
     "metadata": {},
     "output_type": "display_data"
    },
    {
     "name": "stdout",
     "output_type": "stream",
     "text": [
      "\n",
      "★ 베아르시 광화문점의 블로그 리뷰 썸네일 크롤링 성공!\n",
      "413 ~ 417의 블로그 리뷰 크롤링을 시작합니다.\n",
      "\n",
      "35111987 37450128이철헤어커커 발산역점  살롱드마샬 명동점 크롤링을 진행합니다.\n",
      "크롤링을 진행합니다.\n",
      "\n",
      "\n",
      "살롱드마샬 명동점의 명시적 총 블로그 리뷰 수:이철헤어커커 발산역점의 명시적 총 블로그 리뷰 수:  28475  \n",
      "\n",
      "\n",
      "▶▶\n",
      " 이철헤어커커 발산역점▶▶  의 블로그 탭:살롱드마샬 명동점  /hairshop/35111987/review/ugc의 블로그 탭:  \n",
      "/hairshop/37450128/review/ugc\n",
      " \n",
      "\n",
      "37891176 어반그라운드헤어 이태원점 크롤링을 진행합니다.\n",
      "\n",
      "어반그라운드헤어 이태원점의 명시적 총 블로그 리뷰 수: 138 \n",
      "\n",
      "▶▶ 어반그라운드헤어 이태원점 의 블로그 탭: /hairshop/37891176/review/ugc \n",
      "\n",
      "827159285 제오헤어 마곡나루역점 크롤링을 진행합니다.\n",
      "\n",
      "제오헤어 마곡나루역점의 명시적 총 블로그 리뷰 수: 164 \n",
      "\n",
      "▶▶ 제오헤어 마곡나루역점 의 블로그 탭: /hairshop/827159285/review/ugc \n",
      "\n",
      "38531460 지노헤어 숭실대2호점 크롤링을 진행합니다.\n",
      "\n",
      "지노헤어 숭실대2호점의 명시적 총 블로그 리뷰 수: 36 \n",
      "\n",
      "▶▶ 지노헤어 숭실대2호점 의 블로그 탭: /hairshop/38531460/review/ugc \n",
      "\n",
      "해당 엘리먼트를 찾지 못했습니다.\n"
     ]
    },
    {
     "data": {
      "application/vnd.jupyter.widget-view+json": {
       "model_id": "7c4ad51e5baa46b585afa81d53ecfe0a",
       "version_major": 2,
       "version_minor": 0
      },
      "text/plain": [
       "HBox(children=(IntProgress(value=0, max=73), HTML(value='')))"
      ]
     },
     "metadata": {},
     "output_type": "display_data"
    },
    {
     "name": "stdout",
     "output_type": "stream",
     "text": [
      "\n",
      "★ 이철헤어커커 발산역점의 블로그 리뷰 썸네일 크롤링 성공!\n",
      "해당 엘리먼트를 찾지 못했습니다.\n",
      "해당 엘리먼트를 찾지 못했습니다.\n"
     ]
    },
    {
     "data": {
      "application/vnd.jupyter.widget-view+json": {
       "model_id": "730318c1ec0e485fa38d5af998b8757d",
       "version_major": 2,
       "version_minor": 0
      },
      "text/plain": [
       "HBox(children=(IntProgress(value=0, max=102), HTML(value='')))"
      ]
     },
     "metadata": {},
     "output_type": "display_data"
    },
    {
     "name": "stdout",
     "output_type": "stream",
     "text": [
      "해당 엘리먼트를 찾지 못했습니다.\n",
      "\n",
      "★ 살롱드마샬 명동점의 블로그 리뷰 썸네일 크롤링 성공!\n"
     ]
    },
    {
     "data": {
      "application/vnd.jupyter.widget-view+json": {
       "model_id": "57a0ceea7cd84b0ba417b4fd728f1de2",
       "version_major": 2,
       "version_minor": 0
      },
      "text/plain": [
       "HBox(children=(IntProgress(value=0, max=103), HTML(value='')))"
      ]
     },
     "metadata": {},
     "output_type": "display_data"
    },
    {
     "name": "stdout",
     "output_type": "stream",
     "text": [
      "\n",
      "★ 어반그라운드헤어 이태원점의 블로그 리뷰 썸네일 크롤링 성공!\n"
     ]
    },
    {
     "data": {
      "application/vnd.jupyter.widget-view+json": {
       "model_id": "2fe29d8558474613a51f15c954a5285e",
       "version_major": 2,
       "version_minor": 0
      },
      "text/plain": [
       "HBox(children=(IntProgress(value=0, max=36), HTML(value='')))"
      ]
     },
     "metadata": {},
     "output_type": "display_data"
    },
    {
     "name": "stdout",
     "output_type": "stream",
     "text": [
      "\n",
      "★ 지노헤어 숭실대2호점의 블로그 리뷰 썸네일 크롤링 성공!\n",
      "해당 엘리먼트를 찾지 못했습니다.\n"
     ]
    },
    {
     "data": {
      "application/vnd.jupyter.widget-view+json": {
       "model_id": "f1128f8acf144ec4bec6aada0d9bb172",
       "version_major": 2,
       "version_minor": 0
      },
      "text/plain": [
       "HBox(children=(IntProgress(value=0), HTML(value='')))"
      ]
     },
     "metadata": {},
     "output_type": "display_data"
    },
    {
     "name": "stdout",
     "output_type": "stream",
     "text": [
      "\n",
      "★ 제오헤어 마곡나루역점의 블로그 리뷰 썸네일 크롤링 성공!\n",
      "418 ~ 422의 블로그 리뷰 크롤링을 시작합니다.\n",
      "\n",
      "1335417444 어반그라운드헤어 화곡역점 크롤링을 진행합니다.\n",
      "\n",
      "어반그라운드헤어 화곡역점의 명시적 총 블로그 리뷰 수: 30 \n",
      "\n",
      "▶▶ 어반그라운드헤어 화곡역점 의 블로그 탭: /hairshop/1335417444/review/ugc \n",
      "\n",
      "1274215500 살롱드22 크롤링을 진행합니다.\n",
      "\n",
      "살롱드22의 명시적 총 블로그 리뷰 수: 344 \n",
      "\n",
      "▶▶ 살롱드22 의 블로그 탭: /hairshop/1274215500/review/ugc 38287149 \n",
      "\n",
      "이가자헤어비스 위례점 크롤링을 진행합니다.\n",
      "\n",
      "이가자헤어비스 위례점의 명시적 총 블로그 리뷰 수: 162 \n",
      "\n",
      "▶▶ 이가자헤어비스 위례점 의 블로그 탭: /hairshop/38287149/review/ugc \n",
      "\n",
      "11829338 류영헤어투비 크롤링을 진행합니다.\n",
      "\n",
      "류영헤어투비의 명시적 총 블로그 리뷰 수: 112 \n",
      "\n",
      "▶▶ 류영헤어투비 의 블로그 탭: /hairshop/11829338/review/ugc \n",
      "\n",
      "1302439523 박공헤어 화양세종하우스 크롤링을 진행합니다.\n",
      "\n",
      "박공헤어 화양세종하우스의 명시적 총 블로그 리뷰 수: 186 \n",
      "\n",
      "▶▶ 박공헤어 화양세종하우스 의 블로그 탭: /hairshop/1302439523/review/ugc \n",
      "\n",
      "해당 엘리먼트를 찾지 못했습니다.\n"
     ]
    },
    {
     "data": {
      "application/vnd.jupyter.widget-view+json": {
       "model_id": "135ec15690ad44fe8a1a2bc5bfbcc8d7",
       "version_major": 2,
       "version_minor": 0
      },
      "text/plain": [
       "HBox(children=(IntProgress(value=0, max=29), HTML(value='')))"
      ]
     },
     "metadata": {},
     "output_type": "display_data"
    },
    {
     "name": "stdout",
     "output_type": "stream",
     "text": [
      "\n",
      "★ 어반그라운드헤어 화곡역점의 블로그 리뷰 썸네일 크롤링 성공!\n",
      "해당 엘리먼트를 찾지 못했습니다.\n",
      "해당 엘리먼트를 찾지 못했습니다.\n"
     ]
    },
    {
     "data": {
      "application/vnd.jupyter.widget-view+json": {
       "model_id": "a86c855690c346adb80bd4d1788f1068",
       "version_major": 2,
       "version_minor": 0
      },
      "text/plain": [
       "HBox(children=(IntProgress(value=0), HTML(value='')))"
      ]
     },
     "metadata": {},
     "output_type": "display_data"
    },
    {
     "data": {
      "application/vnd.jupyter.widget-view+json": {
       "model_id": "0e310427e030458dad75c9fcb1ddf1c1",
       "version_major": 2,
       "version_minor": 0
      },
      "text/plain": [
       "HBox(children=(IntProgress(value=0), HTML(value='')))"
      ]
     },
     "metadata": {},
     "output_type": "display_data"
    },
    {
     "name": "stdout",
     "output_type": "stream",
     "text": [
      "\n",
      "★\n",
      " ★살롱드22의 블로그 리뷰 썸네일 크롤링 성공! \n",
      "이가자헤어비스 위례점의 블로그 리뷰 썸네일 크롤링 성공!\n",
      "해당 엘리먼트를 찾지 못했습니다.해당 엘리먼트를 찾지 못했습니다.\n",
      "\n"
     ]
    },
    {
     "data": {
      "application/vnd.jupyter.widget-view+json": {
       "model_id": "d6d2f0519f364dad97b8a0acc5b59f15",
       "version_major": 2,
       "version_minor": 0
      },
      "text/plain": [
       "HBox(children=(IntProgress(value=0), HTML(value='')))"
      ]
     },
     "metadata": {},
     "output_type": "display_data"
    },
    {
     "data": {
      "application/vnd.jupyter.widget-view+json": {
       "model_id": "f45db55ebd7346549219f9e9f3d89f20",
       "version_major": 2,
       "version_minor": 0
      },
      "text/plain": [
       "HBox(children=(IntProgress(value=0), HTML(value='')))"
      ]
     },
     "metadata": {},
     "output_type": "display_data"
    },
    {
     "name": "stdout",
     "output_type": "stream",
     "text": [
      "\n",
      "★ 박공헤어 화양세종하우스의 블로그 리뷰 썸네일 크롤링 성공!\n",
      "\n",
      "★ 류영헤어투비의 블로그 리뷰 썸네일 크롤링 성공!\n",
      "423 ~ 427의 블로그 리뷰 크롤링을 시작합니다.\n",
      "\n",
      "1633734825 미용실by지아 크롤링을 진행합니다.\n",
      "\n",
      "미용실by지아의 명시적 총 블로그 리뷰 수: 69 \n",
      "\n",
      "▶▶ 미용실by지아 의 블로그 탭: /hairshop/1633734825/review/ugc \n",
      "\n",
      "1630742846 라라헤어 크롤링을 진행합니다.\n",
      "\n",
      "라라헤어의 명시적 총 블로그 리뷰 수: 28 \n",
      "\n",
      "▶▶ 라라헤어 의 블로그 탭: /hairshop/1630742846/review/ugc \n",
      "\n",
      "1118247162 보그헤어 공릉역점 크롤링을 진행합니다.\n",
      "\n",
      "보그헤어 공릉역점의 명시적 총 블로그 리뷰 수: 82 \n",
      "\n",
      "▶▶ 보그헤어 공릉역점 의 블로그 탭: /hairshop/1118247162/review/ugc \n",
      "\n",
      "37774914 티지헤어 오테르길음뉴타운점 크롤링을 진행합니다.\n",
      "\n",
      "티지헤어 오테르길음뉴타운점의 명시적 총 블로그 리뷰 수: 23 \n",
      "\n",
      "▶▶ 티지헤어 오테르길음뉴타운점 의 블로그 탭: /hairshop/37774914/review/ugc \n",
      "\n",
      "35413542 마타헤어 크롤링을 진행합니다.\n",
      "\n",
      "마타헤어의 명시적 총 블로그 리뷰 수: 414 \n",
      "\n",
      "▶▶ 마타헤어 의 블로그 탭: /hairshop/35413542/review/ugc \n",
      "\n",
      "해당 엘리먼트를 찾지 못했습니다.\n"
     ]
    },
    {
     "data": {
      "application/vnd.jupyter.widget-view+json": {
       "model_id": "e53f0488b58b49dc91ba70e4bfc523f0",
       "version_major": 2,
       "version_minor": 0
      },
      "text/plain": [
       "HBox(children=(IntProgress(value=0, max=28), HTML(value='')))"
      ]
     },
     "metadata": {},
     "output_type": "display_data"
    },
    {
     "name": "stdout",
     "output_type": "stream",
     "text": [
      "\n",
      "★ 라라헤어의 블로그 리뷰 썸네일 크롤링 성공!\n",
      "해당 엘리먼트를 찾지 못했습니다.\n",
      "해당 엘리먼트를 찾지 못했습니다.\n"
     ]
    },
    {
     "data": {
      "application/vnd.jupyter.widget-view+json": {
       "model_id": "c1daeb1942bc461b83c1a6926c9f1efa",
       "version_major": 2,
       "version_minor": 0
      },
      "text/plain": [
       "HBox(children=(IntProgress(value=0, max=69), HTML(value='')))"
      ]
     },
     "metadata": {},
     "output_type": "display_data"
    },
    {
     "data": {
      "application/vnd.jupyter.widget-view+json": {
       "model_id": "dffb35e72c8e4369bd4763863d859831",
       "version_major": 2,
       "version_minor": 0
      },
      "text/plain": [
       "HBox(children=(IntProgress(value=0, max=23), HTML(value='')))"
      ]
     },
     "metadata": {},
     "output_type": "display_data"
    },
    {
     "name": "stdout",
     "output_type": "stream",
     "text": [
      "\n",
      "★ 미용실by지아의 블로그 리뷰 썸네일 크롤링 성공!\n",
      "\n",
      "★ 티지헤어 오테르길음뉴타운점의 블로그 리뷰 썸네일 크롤링 성공!\n",
      "해당 엘리먼트를 찾지 못했습니다.\n"
     ]
    },
    {
     "data": {
      "application/vnd.jupyter.widget-view+json": {
       "model_id": "5fbe5e34e6604176886f0f9fa0354f2e",
       "version_major": 2,
       "version_minor": 0
      },
      "text/plain": [
       "HBox(children=(IntProgress(value=0, max=82), HTML(value='')))"
      ]
     },
     "metadata": {},
     "output_type": "display_data"
    },
    {
     "name": "stdout",
     "output_type": "stream",
     "text": [
      "\n",
      "★ 보그헤어 공릉역점의 블로그 리뷰 썸네일 크롤링 성공!\n",
      "해당 엘리먼트를 찾지 못했습니다.\n"
     ]
    },
    {
     "data": {
      "application/vnd.jupyter.widget-view+json": {
       "model_id": "05f4d2be45c84c378d4f237914685eba",
       "version_major": 2,
       "version_minor": 0
      },
      "text/plain": [
       "HBox(children=(IntProgress(value=0, max=102), HTML(value='')))"
      ]
     },
     "metadata": {},
     "output_type": "display_data"
    },
    {
     "name": "stdout",
     "output_type": "stream",
     "text": [
      "\n",
      "★ 마타헤어의 블로그 리뷰 썸네일 크롤링 성공!\n",
      "428 ~ 432의 블로그 리뷰 크롤링을 시작합니다.\n",
      "\n",
      "37174940 제오헤어 서울대입구역점 크롤링을 진행합니다.\n",
      "\n",
      "제오헤어 서울대입구역점의 명시적 총 블로그 리뷰 수: 255 \n",
      "\n",
      "▶▶ 제오헤어 서울대입구역점 의 블로그 탭: /hairshop/37174940/review/ugc \n",
      "\n",
      "38404559 헤어아티스트M 공덕점 크롤링을 진행합니다.\n",
      "\n",
      "헤어아티스트M 공덕점의 명시적 총 블로그 리뷰 수: 118 \n",
      "\n",
      "▶▶ 헤어아티스트M 공덕점 의 블로그 탭: /hairshop/38404559/review/ugc \n",
      "\n",
      "37811854 NOWHAIRLAB 크롤링을 진행합니다.\n",
      "\n",
      "NOWHAIRLAB의 명시적 총 블로그 리뷰 수: 134 \n",
      "\n",
      "▶▶ NOWHAIRLAB 의 블로그 탭: /hairshop/37811854/review/ugc \n",
      "\n",
      "35092298 준오헤어 한티역점 크롤링을 진행합니다.\n",
      "\n",
      "준오헤어 한티역점의 명시적 총 블로그 리뷰 수: 185 \n",
      "\n",
      "▶▶ 준오헤어 한티역점 의 블로그 탭: /hairshop/35092298/review/ugc \n",
      "\n",
      "해당 엘리먼트를 찾지 못했습니다.\n",
      "1489614655 아름다움그리다 크롤링을 진행합니다.\n",
      "\n",
      "아름다움그리다의 명시적 총 블로그 리뷰 수: 162 \n",
      "\n",
      "▶▶ 아름다움그리다 의 블로그 탭: /hairshop/1489614655/review/ugc \n",
      "\n"
     ]
    },
    {
     "data": {
      "application/vnd.jupyter.widget-view+json": {
       "model_id": "503c91a3bfc14420af307016b846cbf1",
       "version_major": 2,
       "version_minor": 0
      },
      "text/plain": [
       "HBox(children=(IntProgress(value=0, max=101), HTML(value='')))"
      ]
     },
     "metadata": {},
     "output_type": "display_data"
    },
    {
     "name": "stdout",
     "output_type": "stream",
     "text": [
      "\n",
      "★ 제오헤어 서울대입구역점의 블로그 리뷰 썸네일 크롤링 성공!\n",
      "해당 엘리먼트를 찾지 못했습니다.\n",
      "해당 엘리먼트를 찾지 못했습니다.\n"
     ]
    },
    {
     "data": {
      "application/vnd.jupyter.widget-view+json": {
       "model_id": "c4bb57d8ab154f8a87446baad589d83d",
       "version_major": 2,
       "version_minor": 0
      },
      "text/plain": [
       "HBox(children=(IntProgress(value=0), HTML(value='')))"
      ]
     },
     "metadata": {},
     "output_type": "display_data"
    },
    {
     "name": "stdout",
     "output_type": "stream",
     "text": [
      "\n",
      "★ 헤어아티스트M 공덕점의 블로그 리뷰 썸네일 크롤링 성공!\n"
     ]
    },
    {
     "data": {
      "application/vnd.jupyter.widget-view+json": {
       "model_id": "3a49dea3f9fc453dbae5ffc1df2b38b7",
       "version_major": 2,
       "version_minor": 0
      },
      "text/plain": [
       "HBox(children=(IntProgress(value=0), HTML(value='')))"
      ]
     },
     "metadata": {},
     "output_type": "display_data"
    },
    {
     "name": "stdout",
     "output_type": "stream",
     "text": [
      "\n",
      "★ NOWHAIRLAB의 블로그 리뷰 썸네일 크롤링 성공!\n",
      "해당 엘리먼트를 찾지 못했습니다.\n"
     ]
    },
    {
     "data": {
      "application/vnd.jupyter.widget-view+json": {
       "model_id": "1bb4208855714cb4a1d6dbc525cb4270",
       "version_major": 2,
       "version_minor": 0
      },
      "text/plain": [
       "HBox(children=(IntProgress(value=0), HTML(value='')))"
      ]
     },
     "metadata": {},
     "output_type": "display_data"
    },
    {
     "name": "stdout",
     "output_type": "stream",
     "text": [
      "\n",
      "★ 준오헤어 한티역점의 블로그 리뷰 썸네일 크롤링 성공!\n",
      "해당 엘리먼트를 찾지 못했습니다.\n"
     ]
    },
    {
     "data": {
      "application/vnd.jupyter.widget-view+json": {
       "model_id": "c3971b031409452ea6a22340a094ec02",
       "version_major": 2,
       "version_minor": 0
      },
      "text/plain": [
       "HBox(children=(IntProgress(value=0), HTML(value='')))"
      ]
     },
     "metadata": {},
     "output_type": "display_data"
    },
    {
     "name": "stdout",
     "output_type": "stream",
     "text": [
      "\n",
      "★ 아름다움그리다의 블로그 리뷰 썸네일 크롤링 성공!\n",
      "433 ~ 437의 블로그 리뷰 크롤링을 시작합니다.\n",
      "\n",
      "1774300466 뜨뜨 헤어살롱 크롤링을 진행합니다.\n",
      "\n",
      "뜨뜨 헤어살롱의 명시적 총 블로그 리뷰 수: 54 \n",
      "\n",
      "▶▶ 뜨뜨 헤어살롱 의 블로그 탭: /hairshop/1774300466/review/ugc \n",
      "\n",
      "390732261 살롱드프롬 염창역점 크롤링을 진행합니다.\n",
      "\n",
      "살롱드프롬 염창역점의 명시적 총 블로그 리뷰 수: 13 \n",
      "\n",
      "▶▶ 살롱드프롬 염창역점 의 블로그 탭: /hairshop/390732261/review/ugc \n",
      "\n",
      "1080986806 하루헤어 등촌점 크롤링을 진행합니다.\n",
      "\n",
      "하루헤어 등촌점의 명시적 총 블로그 리뷰 수: 37 \n",
      "\n",
      "▶▶ 하루헤어 등촌점 의 블로그 탭: /hairshop/1080986806/review/ugc \n",
      "\n",
      "해당 엘리먼트를 찾지 못했습니다.\n",
      "21054630 준오헤어 연신내점 크롤링을 진행합니다.\n",
      "\n",
      "준오헤어 연신내점의 명시적 총 블로그 리뷰 수: 92 \n",
      "\n",
      "▶▶ 준오헤어 연신내점 의 블로그 탭: /hairshop/21054630/review/ugc \n",
      "\n"
     ]
    },
    {
     "data": {
      "application/vnd.jupyter.widget-view+json": {
       "model_id": "2b52c1ab9da44fe88bc04df132433180",
       "version_major": 2,
       "version_minor": 0
      },
      "text/plain": [
       "HBox(children=(IntProgress(value=0, max=13), HTML(value='')))"
      ]
     },
     "metadata": {},
     "output_type": "display_data"
    },
    {
     "name": "stdout",
     "output_type": "stream",
     "text": [
      "\n",
      "★ 살롱드프롬 염창역점의 블로그 리뷰 썸네일 크롤링 성공!\n",
      "해당 엘리먼트를 찾지 못했습니다.\n"
     ]
    },
    {
     "data": {
      "application/vnd.jupyter.widget-view+json": {
       "model_id": "837945a773f04afd8bd4fd25e0488291",
       "version_major": 2,
       "version_minor": 0
      },
      "text/plain": [
       "HBox(children=(IntProgress(value=0, max=37), HTML(value='')))"
      ]
     },
     "metadata": {},
     "output_type": "display_data"
    },
    {
     "name": "stdout",
     "output_type": "stream",
     "text": [
      "\n",
      "★ 하루헤어 등촌점의 블로그 리뷰 썸네일 크롤링 성공!\n",
      "해당 엘리먼트를 찾지 못했습니다.\n",
      "777921841 보그헤어 신촌역점 크롤링을 진행합니다.\n",
      "\n",
      "보그헤어 신촌역점의 명시적 총 블로그 리뷰 수: 246 \n",
      "\n",
      "▶▶ 보그헤어 신촌역점 의 블로그 탭: /hairshop/777921841/review/ugc \n",
      "\n"
     ]
    },
    {
     "data": {
      "application/vnd.jupyter.widget-view+json": {
       "model_id": "4c4bf380cb6f472fa08404ba80e13e54",
       "version_major": 2,
       "version_minor": 0
      },
      "text/plain": [
       "HBox(children=(IntProgress(value=0, max=54), HTML(value='')))"
      ]
     },
     "metadata": {},
     "output_type": "display_data"
    },
    {
     "name": "stdout",
     "output_type": "stream",
     "text": [
      "\n",
      "★ 뜨뜨 헤어살롱의 블로그 리뷰 썸네일 크롤링 성공!\n",
      "해당 엘리먼트를 찾지 못했습니다.\n"
     ]
    },
    {
     "data": {
      "application/vnd.jupyter.widget-view+json": {
       "model_id": "54a56aee7f5c487ea4e42459e2040e0e",
       "version_major": 2,
       "version_minor": 0
      },
      "text/plain": [
       "HBox(children=(IntProgress(value=0, max=92), HTML(value='')))"
      ]
     },
     "metadata": {},
     "output_type": "display_data"
    },
    {
     "name": "stdout",
     "output_type": "stream",
     "text": [
      "\n",
      "★ 준오헤어 연신내점의 블로그 리뷰 썸네일 크롤링 성공!\n",
      "해당 엘리먼트를 찾지 못했습니다.\n"
     ]
    },
    {
     "data": {
      "application/vnd.jupyter.widget-view+json": {
       "model_id": "9c26919f7d934a3c84fbcdc34813d8c5",
       "version_major": 2,
       "version_minor": 0
      },
      "text/plain": [
       "HBox(children=(IntProgress(value=0), HTML(value='')))"
      ]
     },
     "metadata": {},
     "output_type": "display_data"
    },
    {
     "name": "stdout",
     "output_type": "stream",
     "text": [
      "\n",
      "★ 보그헤어 신촌역점의 블로그 리뷰 썸네일 크롤링 성공!\n",
      "438 ~ 442의 블로그 리뷰 크롤링을 시작합니다.\n",
      "\n",
      "35014004 제오헤어 마포점 크롤링을 진행합니다.\n",
      "\n",
      "제오헤어 마포점의 명시적 총 블로그 리뷰 수: 128 \n",
      "\n",
      "▶▶ 제오헤어 마포점 의 블로그 탭: /hairshop/35014004/review/ugc \n",
      "\n",
      "1324215398 라트리헤어 스파힐 마곡나루베르점 크롤링을 진행합니다.\n",
      "\n",
      "라트리헤어 스파힐 마곡나루베르점의 명시적 총 블로그 리뷰 수: 240 \n",
      "\n",
      "▶▶ 라트리헤어 스파힐 마곡나루베르점 의 블로그 탭: /hairshop/1324215398/review/ugc \n",
      "\n",
      "34240295 헤어인카페 왕십리점 크롤링을 진행합니다.\n",
      "\n",
      "헤어인카페 왕십리점의 명시적 총 블로그 리뷰 수: 206 \n",
      "\n",
      "▶▶ 헤어인카페 왕십리점 의 블로그 탭: /hairshop/34240295/review/ugc \n",
      "\n",
      "13580504 아베다안스헤어 크롤링을 진행합니다.\n",
      "\n",
      "아베다안스헤어의 명시적 총 블로그 리뷰 수: 375 \n",
      "\n",
      "▶▶ 아베다안스헤어 의 블로그 탭: /hairshop/13580504/review/ugc \n",
      "\n",
      "1836392918 브로시스 크롤링을 진행합니다.\n",
      "\n",
      "브로시스의 명시적 총 블로그 리뷰 수: 376 \n",
      "\n",
      "▶▶ 브로시스 의 블로그 탭: /hairshop/1836392918/review/ugc \n",
      "\n",
      "해당 엘리먼트를 찾지 못했습니다.\n"
     ]
    },
    {
     "data": {
      "application/vnd.jupyter.widget-view+json": {
       "model_id": "9d55bf4ce80640b1ac9fa94e5a804b73",
       "version_major": 2,
       "version_minor": 0
      },
      "text/plain": [
       "HBox(children=(IntProgress(value=0), HTML(value='')))"
      ]
     },
     "metadata": {},
     "output_type": "display_data"
    },
    {
     "name": "stdout",
     "output_type": "stream",
     "text": [
      "\n",
      "★ 제오헤어 마포점의 블로그 리뷰 썸네일 크롤링 성공!\n",
      "해당 엘리먼트를 찾지 못했습니다.\n"
     ]
    },
    {
     "data": {
      "application/vnd.jupyter.widget-view+json": {
       "model_id": "1bceb525e326490a95ff0bf31d9e7ba8",
       "version_major": 2,
       "version_minor": 0
      },
      "text/plain": [
       "HBox(children=(IntProgress(value=0, max=101), HTML(value='')))"
      ]
     },
     "metadata": {},
     "output_type": "display_data"
    },
    {
     "name": "stdout",
     "output_type": "stream",
     "text": [
      "해당 엘리먼트를 찾지 못했습니다.\n",
      "\n",
      "★ 헤어인카페 왕십리점의 블로그 리뷰 썸네일 크롤링 성공!\n"
     ]
    },
    {
     "data": {
      "application/vnd.jupyter.widget-view+json": {
       "model_id": "850ab37569e94337badc0746bf19b26a",
       "version_major": 2,
       "version_minor": 0
      },
      "text/plain": [
       "HBox(children=(IntProgress(value=0, max=126), HTML(value='')))"
      ]
     },
     "metadata": {},
     "output_type": "display_data"
    },
    {
     "name": "stdout",
     "output_type": "stream",
     "text": [
      "\n",
      "★ 라트리헤어 스파힐 마곡나루베르점의 블로그 리뷰 썸네일 크롤링 성공!\n",
      "해당 엘리먼트를 찾지 못했습니다.\n",
      "해당 엘리먼트를 찾지 못했습니다."
     ]
    },
    {
     "data": {
      "application/vnd.jupyter.widget-view+json": {
       "model_id": "3c0916565cdc46d285144423d40ee313",
       "version_major": 2,
       "version_minor": 0
      },
      "text/plain": [
       "HBox(children=(IntProgress(value=0, max=107), HTML(value='')))"
      ]
     },
     "metadata": {},
     "output_type": "display_data"
    },
    {
     "name": "stdout",
     "output_type": "stream",
     "text": [
      "\n",
      "\n",
      "★ 아베다안스헤어의 블로그 리뷰 썸네일 크롤링 성공!\n"
     ]
    },
    {
     "data": {
      "application/vnd.jupyter.widget-view+json": {
       "model_id": "381bde3cbf484e97965eea45f7dd19f1",
       "version_major": 2,
       "version_minor": 0
      },
      "text/plain": [
       "HBox(children=(IntProgress(value=0, max=112), HTML(value='')))"
      ]
     },
     "metadata": {},
     "output_type": "display_data"
    },
    {
     "name": "stdout",
     "output_type": "stream",
     "text": [
      "\n",
      "★ 브로시스의 블로그 리뷰 썸네일 크롤링 성공!\n",
      "443 ~ 447의 블로그 리뷰 크롤링을 시작합니다.\n",
      "\n",
      "1311155727 리뷰띠헤어 크롤링을 진행합니다.\n",
      "\n",
      "리뷰띠헤어의 명시적 총 블로그 리뷰 수: 175 \n",
      "\n",
      "▶▶ 리뷰띠헤어 의 블로그 탭: /hairshop/1311155727/review/ugc \n",
      "\n",
      "31887065 헤어아티스트M 상도점 크롤링을 진행합니다.\n",
      "\n",
      "헤어아티스트M 상도점의 명시적 총 블로그 리뷰 수: 60 \n",
      "\n",
      "▶▶ 헤어아티스트M 상도점 의 블로그 탭: /hairshop/31887065/review/ugc \n",
      "\n",
      "34356248 마끼에 미아롯데백화점점 크롤링을 진행합니다.\n",
      "\n",
      "마끼에 미아롯데백화점점의 명시적 총 블로그 리뷰 수: 444 \n",
      "\n",
      "▶▶ 마끼에 미아롯데백화점점 의 블로그 탭: /hairshop/34356248/review/ugc \n",
      "\n",
      "32537821 헤어톡톡 크롤링을 진행합니다.\n",
      "\n",
      "헤어톡톡의 명시적 총 블로그 리뷰 수: 438 \n",
      "\n",
      "▶▶ 헤어톡톡 의 블로그 탭: /hairshop/32537821/review/ugc \n",
      "\n",
      "38667533 리안헤어 대흥점 크롤링을 진행합니다.\n",
      "\n",
      "리안헤어 대흥점의 명시적 총 블로그 리뷰 수: 114 \n",
      "\n",
      "▶▶ 리안헤어 대흥점 의 블로그 탭: /hairshop/38667533/review/ugc \n",
      "\n",
      "해당 엘리먼트를 찾지 못했습니다.\n"
     ]
    },
    {
     "data": {
      "application/vnd.jupyter.widget-view+json": {
       "model_id": "ac941c21c92644d084bb35f6f2f2a65c",
       "version_major": 2,
       "version_minor": 0
      },
      "text/plain": [
       "HBox(children=(IntProgress(value=0, max=60), HTML(value='')))"
      ]
     },
     "metadata": {},
     "output_type": "display_data"
    },
    {
     "name": "stdout",
     "output_type": "stream",
     "text": [
      "\n",
      "★ 헤어아티스트M 상도점의 블로그 리뷰 썸네일 크롤링 성공!\n",
      "해당 엘리먼트를 찾지 못했습니다.\n"
     ]
    },
    {
     "data": {
      "application/vnd.jupyter.widget-view+json": {
       "model_id": "df2c62891510415a8b0afe0de22a784c",
       "version_major": 2,
       "version_minor": 0
      },
      "text/plain": [
       "HBox(children=(IntProgress(value=0), HTML(value='')))"
      ]
     },
     "metadata": {},
     "output_type": "display_data"
    },
    {
     "name": "stdout",
     "output_type": "stream",
     "text": [
      "해당 엘리먼트를 찾지 못했습니다.\n",
      "\n",
      "★ 리뷰띠헤어의 블로그 리뷰 썸네일 크롤링 성공!\n"
     ]
    },
    {
     "data": {
      "application/vnd.jupyter.widget-view+json": {
       "model_id": "212cd4b76e604231ae4561cb39e36f85",
       "version_major": 2,
       "version_minor": 0
      },
      "text/plain": [
       "HBox(children=(IntProgress(value=0), HTML(value='')))"
      ]
     },
     "metadata": {},
     "output_type": "display_data"
    },
    {
     "name": "stdout",
     "output_type": "stream",
     "text": [
      "\n",
      "★ 마끼에 미아롯데백화점점의 블로그 리뷰 썸네일 크롤링 성공!\n",
      "해당 엘리먼트를 찾지 못했습니다.\n",
      "해당 엘리먼트를 찾지 못했습니다.\n"
     ]
    },
    {
     "data": {
      "application/vnd.jupyter.widget-view+json": {
       "model_id": "9a4f473b0e36401eaf7d4f4a1b6d0245",
       "version_major": 2,
       "version_minor": 0
      },
      "text/plain": [
       "HBox(children=(IntProgress(value=0), HTML(value='')))"
      ]
     },
     "metadata": {},
     "output_type": "display_data"
    },
    {
     "name": "stdout",
     "output_type": "stream",
     "text": [
      "\n",
      "★ 리안헤어 대흥점의 블로그 리뷰 썸네일 크롤링 성공!\n"
     ]
    },
    {
     "data": {
      "application/vnd.jupyter.widget-view+json": {
       "model_id": "81e8d16e6e764c8d8fc95cc62a88d9bf",
       "version_major": 2,
       "version_minor": 0
      },
      "text/plain": [
       "HBox(children=(IntProgress(value=0, max=104), HTML(value='')))"
      ]
     },
     "metadata": {},
     "output_type": "display_data"
    },
    {
     "name": "stdout",
     "output_type": "stream",
     "text": [
      "\n",
      "★ 헤어톡톡의 블로그 리뷰 썸네일 크롤링 성공!\n",
      "448 ~ 452의 블로그 리뷰 크롤링을 시작합니다.\n",
      "\n",
      "32302000 이철헤어커커 낙성대점 크롤링을 진행합니다.\n",
      "\n",
      "이철헤어커커 낙성대점의 명시적 총 블로그 리뷰 수: 267 \n",
      "\n",
      "▶▶ 이철헤어커커 낙성대점 의 블로그 탭: /hairshop/32302000/review/ugc \n",
      "\n",
      "1160576488 헤어더뷰 성신여대점 크롤링을 진행합니다.\n",
      "\n",
      "헤어더뷰 성신여대점의 명시적 총 블로그 리뷰 수: 366 \n",
      "\n",
      "▶▶ 헤어더뷰 성신여대점 의 블로그 탭: /hairshop/1160576488/review/ugc \n",
      "\n",
      "1792694677 헤어카리스 가양점 크롤링을 진행합니다.\n",
      "\n",
      "헤어카리스 가양점의 명시적 총 블로그 리뷰 수: 57 \n",
      "\n",
      "▶▶ 헤어카리스 가양점 의 블로그 탭: /hairshop/1792694677/review/ugc \n",
      "\n",
      "37559416 맨케이션 크롤링을 진행합니다.\n",
      "\n",
      "맨케이션의 명시적 총 블로그 리뷰 수: 408 \n",
      "\n",
      "▶▶ 맨케이션 의 블로그 탭: /hairshop/37559416/review/ugc \n",
      "\n",
      "13332574 준오헤어 신내홈플러스점 크롤링을 진행합니다.\n",
      "\n",
      "준오헤어 신내홈플러스점의 명시적 총 블로그 리뷰 수: 22 \n",
      "\n",
      "▶▶ 준오헤어 신내홈플러스점 의 블로그 탭: /hairshop/13332574/review/ugc \n",
      "\n",
      "해당 엘리먼트를 찾지 못했습니다.\n",
      "해당 엘리먼트를 찾지 못했습니다.\n",
      "해당 엘리먼트를 찾지 못했습니다.\n"
     ]
    },
    {
     "data": {
      "application/vnd.jupyter.widget-view+json": {
       "model_id": "28accf091c754b40a5349bf31ee8c2df",
       "version_major": 2,
       "version_minor": 0
      },
      "text/plain": [
       "HBox(children=(IntProgress(value=0), HTML(value='')))"
      ]
     },
     "metadata": {},
     "output_type": "display_data"
    },
    {
     "name": "stdout",
     "output_type": "stream",
     "text": [
      "\n",
      "★ 헤어더뷰 성신여대점의 블로그 리뷰 썸네일 크롤링 성공!\n",
      "해당 엘리먼트를 찾지 못했습니다.\n"
     ]
    },
    {
     "data": {
      "application/vnd.jupyter.widget-view+json": {
       "model_id": "63b3a28796ee49db9f39090dba321be5",
       "version_major": 2,
       "version_minor": 0
      },
      "text/plain": [
       "HBox(children=(IntProgress(value=0, max=57), HTML(value='')))"
      ]
     },
     "metadata": {},
     "output_type": "display_data"
    },
    {
     "data": {
      "application/vnd.jupyter.widget-view+json": {
       "model_id": "6746fb7fb12142698d760ef74da999cb",
       "version_major": 2,
       "version_minor": 0
      },
      "text/plain": [
       "HBox(children=(IntProgress(value=0, max=102), HTML(value='')))"
      ]
     },
     "metadata": {},
     "output_type": "display_data"
    },
    {
     "name": "stdout",
     "output_type": "stream",
     "text": [
      "\n",
      "★ 헤어카리스 가양점의 블로그 리뷰 썸네일 크롤링 성공!\n",
      "\n",
      "★ 이철헤어커커 낙성대점의 블로그 리뷰 썸네일 크롤링 성공!\n"
     ]
    },
    {
     "data": {
      "application/vnd.jupyter.widget-view+json": {
       "model_id": "f0cdaed0801c4e7f93363bee10d1ae22",
       "version_major": 2,
       "version_minor": 0
      },
      "text/plain": [
       "HBox(children=(IntProgress(value=0, max=22), HTML(value='')))"
      ]
     },
     "metadata": {},
     "output_type": "display_data"
    },
    {
     "name": "stdout",
     "output_type": "stream",
     "text": [
      "\n",
      "★ 준오헤어 신내홈플러스점의 블로그 리뷰 썸네일 크롤링 성공!\n",
      "해당 엘리먼트를 찾지 못했습니다.\n"
     ]
    },
    {
     "data": {
      "application/vnd.jupyter.widget-view+json": {
       "model_id": "2bb2343d6346491a920009ba99f26e8e",
       "version_major": 2,
       "version_minor": 0
      },
      "text/plain": [
       "HBox(children=(IntProgress(value=0, max=150), HTML(value='')))"
      ]
     },
     "metadata": {},
     "output_type": "display_data"
    },
    {
     "name": "stdout",
     "output_type": "stream",
     "text": [
      "\n",
      "★ 맨케이션의 블로그 리뷰 썸네일 크롤링 성공!\n",
      "453 ~ 457의 블로그 리뷰 크롤링을 시작합니다.\n",
      "\n",
      "37932727 제오헤어 신도림역점 크롤링을 진행합니다.\n",
      "\n",
      "제오헤어 신도림역점의 명시적 총 블로그 리뷰 수: 17 \n",
      "\n",
      "▶▶ 제오헤어 신도림역점 의 블로그 탭: /hairshop/37932727/review/ugc \n",
      "\n",
      "36639698 리안헤어 하나로클럽신촌점 크롤링을 진행합니다.\n",
      "\n",
      "리안헤어 하나로클럽신촌점의 명시적 총 블로그 리뷰 수: 116 \n",
      "\n",
      "▶▶ 리안헤어 하나로클럽신촌점 의 블로그 탭: /hairshop/36639698/review/ugc \n",
      "\n",
      "38738214 장루이다비드 에스뷰테라 남산타운점 크롤링을 진행합니다.\n",
      "\n",
      "장루이다비드 에스뷰테라 남산타운점의 명시적 총 블로그 리뷰 수: 119 \n",
      "\n",
      "▶▶ 장루이다비드 에스뷰테라 남산타운점 의 블로그 탭: /hairshop/38738214/review/ugc \n",
      "\n",
      "해당 엘리먼트를 찾지 못했습니다.\n",
      "63788703 박준뷰티랩 우장산역점 크롤링을 진행합니다.\n",
      "\n",
      "박준뷰티랩 우장산역점의 명시적 총 블로그 리뷰 수: 54 \n",
      "\n",
      "▶▶ 박준뷰티랩 우장산역점 의 블로그 탭: /hairshop/63788703/review/ugc \n",
      "\n"
     ]
    },
    {
     "data": {
      "application/vnd.jupyter.widget-view+json": {
       "model_id": "9adf5d5a0c10438b90d2dc035e6b869e",
       "version_major": 2,
       "version_minor": 0
      },
      "text/plain": [
       "HBox(children=(IntProgress(value=0, max=17), HTML(value='')))"
      ]
     },
     "metadata": {},
     "output_type": "display_data"
    },
    {
     "name": "stdout",
     "output_type": "stream",
     "text": [
      "\n",
      "★ 제오헤어 신도림역점의 블로그 리뷰 썸네일 크롤링 성공!\n",
      "33595496 리안헤어 신대방삼거리역점 크롤링을 진행합니다.\n",
      "\n",
      "리안헤어 신대방삼거리역점의 명시적 총 블로그 리뷰 수: 638 \n",
      "\n",
      "▶▶ 리안헤어 신대방삼거리역점 의 블로그 탭: /hairshop/33595496/review/ugc \n",
      "\n",
      "해당 엘리먼트를 찾지 못했습니다.\n",
      "해당 엘리먼트를 찾지 못했습니다.\n",
      "해당 엘리먼트를 찾지 못했습니다.\n"
     ]
    },
    {
     "data": {
      "application/vnd.jupyter.widget-view+json": {
       "model_id": "9595d157559d49b8b5622f1778afcac8",
       "version_major": 2,
       "version_minor": 0
      },
      "text/plain": [
       "HBox(children=(IntProgress(value=0, max=51), HTML(value='')))"
      ]
     },
     "metadata": {},
     "output_type": "display_data"
    },
    {
     "data": {
      "application/vnd.jupyter.widget-view+json": {
       "model_id": "5d81995075a34af282fded39fbd171d8",
       "version_major": 2,
       "version_minor": 0
      },
      "text/plain": [
       "HBox(children=(IntProgress(value=0, max=101), HTML(value='')))"
      ]
     },
     "metadata": {},
     "output_type": "display_data"
    },
    {
     "name": "stdout",
     "output_type": "stream",
     "text": [
      "\n",
      "★ 박준뷰티랩 우장산역점의 블로그 리뷰 썸네일 크롤링 성공!"
     ]
    },
    {
     "data": {
      "application/vnd.jupyter.widget-view+json": {
       "model_id": "d820bd8c12d34f948859b9fb1ef23f11",
       "version_major": 2,
       "version_minor": 0
      },
      "text/plain": [
       "HBox(children=(IntProgress(value=0, max=102), HTML(value='')))"
      ]
     },
     "metadata": {},
     "output_type": "display_data"
    },
    {
     "name": "stdout",
     "output_type": "stream",
     "text": [
      "\n",
      "\n",
      "★ 리안헤어 하나로클럽신촌점의 블로그 리뷰 썸네일 크롤링 성공!\n",
      "\n",
      "★ 장루이다비드 에스뷰테라 남산타운점의 블로그 리뷰 썸네일 크롤링 성공!\n",
      "해당 엘리먼트를 찾지 못했습니다.\n"
     ]
    },
    {
     "data": {
      "application/vnd.jupyter.widget-view+json": {
       "model_id": "47d8df3dd2b34cb59e8fc7b0fa0d7567",
       "version_major": 2,
       "version_minor": 0
      },
      "text/plain": [
       "HBox(children=(IntProgress(value=0, max=103), HTML(value='')))"
      ]
     },
     "metadata": {},
     "output_type": "display_data"
    },
    {
     "name": "stdout",
     "output_type": "stream",
     "text": [
      "\n",
      "★ 리안헤어 신대방삼거리역점의 블로그 리뷰 썸네일 크롤링 성공!\n",
      "458 ~ 462의 블로그 리뷰 크롤링을 시작합니다.\n",
      "\n",
      "1552658056 신승원컷앤컷 홍대점 크롤링을 진행합니다.\n",
      "\n",
      "신승원컷앤컷 홍대점의 명시적 총 블로그 리뷰 수: 213 \n",
      "\n",
      "▶▶ 신승원컷앤컷 홍대점 의 블로그 탭: /hairshop/1552658056/review/ugc \n",
      "\n",
      "1057888782 박승철헤어스투디오 가산벚꽃로점 크롤링을 진행합니다.\n",
      "\n",
      "박승철헤어스투디오 가산벚꽃로점의 명시적 총 블로그 리뷰 수: 66 \n",
      "\n",
      "▶▶ 박승철헤어스투디오 가산벚꽃로점 의 블로그 탭: /hairshop/1057888782/review/ugc \n",
      "\n",
      "1716761144 이안헤어 크롤링을 진행합니다.\n",
      "\n",
      "이안헤어의 명시적 총 블로그 리뷰 수: 323 \n",
      "\n",
      "▶▶ 이안헤어 의 블로그 탭: /hairshop/1716761144/review/ugc \n",
      "\n",
      "1427376047 머리생각 크롤링을 진행합니다.\n",
      "\n",
      "머리생각의 명시적 총 블로그 리뷰 수: 237 \n",
      "\n",
      "▶▶ 머리생각 의 블로그 탭: /hairshop/1427376047/review/ugc \n",
      "\n",
      "해당 엘리먼트를 찾지 못했습니다.\n"
     ]
    },
    {
     "data": {
      "application/vnd.jupyter.widget-view+json": {
       "model_id": "80af22b896c74fefb7ccf89ab14fafcb",
       "version_major": 2,
       "version_minor": 0
      },
      "text/plain": [
       "HBox(children=(IntProgress(value=0), HTML(value='')))"
      ]
     },
     "metadata": {},
     "output_type": "display_data"
    },
    {
     "name": "stdout",
     "output_type": "stream",
     "text": [
      "해당 엘리먼트를 찾지 못했습니다.\n",
      "\n",
      "★ 신승원컷앤컷 홍대점의 블로그 리뷰 썸네일 크롤링 성공!\n",
      "36667743 영등포미용실 W셀렉션 크롤링을 진행합니다.\n",
      "\n",
      "영등포미용실 W셀렉션의 명시적 총 블로그 리뷰 수: 327 \n",
      "\n",
      "▶▶ 영등포미용실 W셀렉션 의 블로그 탭: /hairshop/36667743/review/ugc \n",
      "\n"
     ]
    },
    {
     "data": {
      "application/vnd.jupyter.widget-view+json": {
       "model_id": "fa6ff4839a5f494b98f366f4e0ff7ab7",
       "version_major": 2,
       "version_minor": 0
      },
      "text/plain": [
       "HBox(children=(IntProgress(value=0, max=66), HTML(value='')))"
      ]
     },
     "metadata": {},
     "output_type": "display_data"
    },
    {
     "name": "stdout",
     "output_type": "stream",
     "text": [
      "\n",
      "★ 박승철헤어스투디오 가산벚꽃로점의 블로그 리뷰 썸네일 크롤링 성공!\n",
      "해당 엘리먼트를 찾지 못했습니다.\n"
     ]
    },
    {
     "data": {
      "application/vnd.jupyter.widget-view+json": {
       "model_id": "240bba85f60f492d8441a8b8da29db30",
       "version_major": 2,
       "version_minor": 0
      },
      "text/plain": [
       "HBox(children=(IntProgress(value=0, max=101), HTML(value='')))"
      ]
     },
     "metadata": {},
     "output_type": "display_data"
    },
    {
     "name": "stdout",
     "output_type": "stream",
     "text": [
      "\n",
      "★ 이안헤어의 블로그 리뷰 썸네일 크롤링 성공!\n",
      "해당 엘리먼트를 찾지 못했습니다.\n"
     ]
    },
    {
     "data": {
      "application/vnd.jupyter.widget-view+json": {
       "model_id": "2345093d381143d295106d11cb0eae22",
       "version_major": 2,
       "version_minor": 0
      },
      "text/plain": [
       "HBox(children=(IntProgress(value=0), HTML(value='')))"
      ]
     },
     "metadata": {},
     "output_type": "display_data"
    },
    {
     "name": "stdout",
     "output_type": "stream",
     "text": [
      "\n",
      "★ 머리생각의 블로그 리뷰 썸네일 크롤링 성공!\n",
      "해당 엘리먼트를 찾지 못했습니다.\n"
     ]
    },
    {
     "data": {
      "application/vnd.jupyter.widget-view+json": {
       "model_id": "4cdecc49505b4efdb7a4cee9d26848f4",
       "version_major": 2,
       "version_minor": 0
      },
      "text/plain": [
       "HBox(children=(IntProgress(value=0, max=101), HTML(value='')))"
      ]
     },
     "metadata": {},
     "output_type": "display_data"
    },
    {
     "name": "stdout",
     "output_type": "stream",
     "text": [
      "\n",
      "★ 영등포미용실 W셀렉션의 블로그 리뷰 썸네일 크롤링 성공!\n",
      "463 ~ 467의 블로그 리뷰 크롤링을 시작합니다.\n",
      "\n",
      "37420666 이철헤어커커 이노시티상봉점 크롤링을 진행합니다.\n",
      "\n",
      "이철헤어커커 이노시티상봉점의 명시적 총 블로그 리뷰 수: 208 \n",
      "\n",
      "▶▶ 이철헤어커커 이노시티상봉점 의 블로그 탭: /hairshop/37420666/review/ugc \n",
      "\n",
      "1267976857 리안헤어 미아역점 크롤링을 진행합니다.\n",
      "\n",
      "리안헤어 미아역점의 명시적 총 블로그 리뷰 수: 97 \n",
      "\n",
      "▶▶ 리안헤어 미아역점 의 블로그 탭: /hairshop/1267976857/review/ugc \n",
      "\n",
      "37547151 루이헤어코프 방이점 크롤링을 진행합니다.\n",
      "\n",
      "루이헤어코프 방이점의 명시적 총 블로그 리뷰 수: 241 \n",
      "\n",
      "▶▶ 루이헤어코프 방이점 의 블로그 탭: /hairshop/37547151/review/ugc \n",
      "\n",
      "31144138 헤어아티스트M 중앙대점 크롤링을 진행합니다.\n",
      "\n",
      "헤어아티스트M 중앙대점의 명시적 총 블로그 리뷰 수: 38 \n",
      "\n",
      "▶▶ 헤어아티스트M 중앙대점 의 블로그 탭: /hairshop/31144138/review/ugc \n",
      "\n",
      "37486385 헤어앤손뇨 크롤링을 진행합니다.\n",
      "\n",
      "헤어앤손뇨의 명시적 총 블로그 리뷰 수: 184 \n",
      "\n",
      "▶▶ 헤어앤손뇨 의 블로그 탭: /hairshop/37486385/review/ugc \n",
      "\n",
      "해당 엘리먼트를 찾지 못했습니다.\n"
     ]
    },
    {
     "data": {
      "application/vnd.jupyter.widget-view+json": {
       "model_id": "329136f0fc6f486ea6d5badad4b2cccb",
       "version_major": 2,
       "version_minor": 0
      },
      "text/plain": [
       "HBox(children=(IntProgress(value=0, max=38), HTML(value='')))"
      ]
     },
     "metadata": {},
     "output_type": "display_data"
    },
    {
     "name": "stdout",
     "output_type": "stream",
     "text": [
      "\n",
      "★해당 엘리먼트를 찾지 못했습니다. \n",
      "헤어아티스트M 중앙대점의 블로그 리뷰 썸네일 크롤링 성공!\n",
      "해당 엘리먼트를 찾지 못했습니다.\n",
      "해당 엘리먼트를 찾지 못했습니다.\n"
     ]
    },
    {
     "data": {
      "application/vnd.jupyter.widget-view+json": {
       "model_id": "4da76690d4c64f80b9b1c36b2af9e987",
       "version_major": 2,
       "version_minor": 0
      },
      "text/plain": [
       "HBox(children=(IntProgress(value=0), HTML(value='')))"
      ]
     },
     "metadata": {},
     "output_type": "display_data"
    },
    {
     "data": {
      "application/vnd.jupyter.widget-view+json": {
       "model_id": "c3d0d77282004f90aa99a487386c4969",
       "version_major": 2,
       "version_minor": 0
      },
      "text/plain": [
       "HBox(children=(IntProgress(value=0, max=97), HTML(value='')))"
      ]
     },
     "metadata": {},
     "output_type": "display_data"
    },
    {
     "name": "stdout",
     "output_type": "stream",
     "text": [
      "\n",
      "★ 이철헤어커커 이노시티상봉점의 블로그 리뷰 썸네일 크롤링 성공!\n"
     ]
    },
    {
     "data": {
      "application/vnd.jupyter.widget-view+json": {
       "model_id": "b4eee1a343f34f26b482971f850e6abd",
       "version_major": 2,
       "version_minor": 0
      },
      "text/plain": [
       "HBox(children=(IntProgress(value=0), HTML(value='')))"
      ]
     },
     "metadata": {},
     "output_type": "display_data"
    },
    {
     "name": "stdout",
     "output_type": "stream",
     "text": [
      "\n",
      "★ 리안헤어 미아역점의 블로그 리뷰 썸네일 크롤링 성공!\n",
      "\n",
      "★ 루이헤어코프 방이점의 블로그 리뷰 썸네일 크롤링 성공!\n",
      "해당 엘리먼트를 찾지 못했습니다.\n"
     ]
    },
    {
     "data": {
      "application/vnd.jupyter.widget-view+json": {
       "model_id": "3f2748920c484d609e4e2a50864c652c",
       "version_major": 2,
       "version_minor": 0
      },
      "text/plain": [
       "HBox(children=(IntProgress(value=0), HTML(value='')))"
      ]
     },
     "metadata": {},
     "output_type": "display_data"
    },
    {
     "name": "stdout",
     "output_type": "stream",
     "text": [
      "\n",
      "★ 헤어앤손뇨의 블로그 리뷰 썸네일 크롤링 성공!\n",
      "468 ~ 472의 블로그 리뷰 크롤링을 시작합니다.\n",
      "\n",
      "36233391 제오헤어 구로디지털태평양점 크롤링을 진행합니다.\n",
      "\n",
      "제오헤어 구로디지털태평양점의 명시적 총 블로그 리뷰 수: 125 \n",
      "\n",
      "▶▶ 제오헤어 구로디지털태평양점 의 블로그 탭: /hairshop/36233391/review/ugc \n",
      "\n",
      "1721295875 리소헤어 대학로점 크롤링을 진행합니다.\n",
      "\n",
      "리소헤어 대학로점의 명시적 총 블로그 리뷰 수: 112 \n",
      "\n",
      "▶▶ 리소헤어 대학로점 의 블로그 탭: /hairshop/1721295875/review/ugc \n",
      "\n",
      "1847227067 끌레뷰헤어 신림점 크롤링을 진행합니다.\n",
      "\n",
      "끌레뷰헤어 신림점의 명시적 총 블로그 리뷰 수: 101 \n",
      "\n",
      "▶▶ 끌레뷰헤어 신림점 의 블로그 탭: /hairshop/1847227067/review/ugc \n",
      "\n",
      "13154188 준오헤어 신림역1호점 크롤링을 진행합니다.\n",
      "\n",
      "준오헤어 신림역1호점의 명시적 총 블로그 리뷰 수: 108 \n",
      "\n",
      "▶▶ 준오헤어 신림역1호점 의 블로그 탭: /hairshop/13154188/review/ugc \n",
      "\n",
      "1589712190 블루밍헤어 크롤링을 진행합니다.\n",
      "\n",
      "블루밍헤어의 명시적 총 블로그 리뷰 수: 128 \n",
      "\n",
      "▶▶ 블루밍헤어 의 블로그 탭: /hairshop/1589712190/review/ugc \n",
      "\n",
      "해당 엘리먼트를 찾지 못했습니다.\n",
      "해당 엘리먼트를 찾지 못했습니다.\n"
     ]
    },
    {
     "data": {
      "application/vnd.jupyter.widget-view+json": {
       "model_id": "f3534ac2f7e744e4bd1a91b4fbe192a7",
       "version_major": 2,
       "version_minor": 0
      },
      "text/plain": [
       "HBox(children=(IntProgress(value=0), HTML(value='')))"
      ]
     },
     "metadata": {},
     "output_type": "display_data"
    },
    {
     "name": "stdout",
     "output_type": "stream",
     "text": [
      "\n",
      "★ 리소헤어 대학로점의 블로그 리뷰 썸네일 크롤링 성공!\n"
     ]
    },
    {
     "data": {
      "application/vnd.jupyter.widget-view+json": {
       "model_id": "6e688bbf5cf7471cb02269a9e8ffee58",
       "version_major": 2,
       "version_minor": 0
      },
      "text/plain": [
       "HBox(children=(IntProgress(value=0, max=106), HTML(value='')))"
      ]
     },
     "metadata": {},
     "output_type": "display_data"
    },
    {
     "name": "stdout",
     "output_type": "stream",
     "text": [
      "\n",
      "★ 제오헤어 구로디지털태평양점의 블로그 리뷰 썸네일 크롤링 성공!\n",
      "해당 엘리먼트를 찾지 못했습니다.\n"
     ]
    },
    {
     "data": {
      "application/vnd.jupyter.widget-view+json": {
       "model_id": "6e004fc3a0f44bbea193260b20ba649e",
       "version_major": 2,
       "version_minor": 0
      },
      "text/plain": [
       "HBox(children=(IntProgress(value=0), HTML(value='')))"
      ]
     },
     "metadata": {},
     "output_type": "display_data"
    },
    {
     "name": "stdout",
     "output_type": "stream",
     "text": [
      "해당 엘리먼트를 찾지 못했습니다.\n",
      "\n",
      "★ 끌레뷰헤어 신림점의 블로그 리뷰 썸네일 크롤링 성공!\n"
     ]
    },
    {
     "data": {
      "application/vnd.jupyter.widget-view+json": {
       "model_id": "c7f6ebe047c140afb29e0b5514e94f8e",
       "version_major": 2,
       "version_minor": 0
      },
      "text/plain": [
       "HBox(children=(IntProgress(value=0, max=102), HTML(value='')))"
      ]
     },
     "metadata": {},
     "output_type": "display_data"
    },
    {
     "name": "stdout",
     "output_type": "stream",
     "text": [
      "\n",
      "★ 준오헤어 신림역1호점의 블로그 리뷰 썸네일 크롤링 성공!\n",
      "해당 엘리먼트를 찾지 못했습니다.\n"
     ]
    },
    {
     "data": {
      "application/vnd.jupyter.widget-view+json": {
       "model_id": "a31b6642e2e74d968311d44fac742a60",
       "version_major": 2,
       "version_minor": 0
      },
      "text/plain": [
       "HBox(children=(IntProgress(value=0, max=105), HTML(value='')))"
      ]
     },
     "metadata": {},
     "output_type": "display_data"
    },
    {
     "name": "stdout",
     "output_type": "stream",
     "text": [
      "\n",
      "★ 블루밍헤어의 블로그 리뷰 썸네일 크롤링 성공!\n",
      "473 ~ 477의 블로그 리뷰 크롤링을 시작합니다.\n",
      "\n",
      "33688459 이가자헤어비스 상봉홈플러스점 크롤링을 진행합니다.\n",
      "\n",
      "이가자헤어비스 상봉홈플러스점의 명시적 총 블로그 리뷰 수: 14 \n",
      "\n",
      "▶▶ 이가자헤어비스 상봉홈플러스점 의 블로그 탭: /hairshop/33688459/review/ugc \n",
      "\n",
      "블로그 리뷰가 없습니다.\n",
      "저장된 블로그 정보가 없습니다.\n",
      "★ 박승철헤어스투디오 가산역2호점의 블로그 리뷰 썸네일 크롤링 성공!\n",
      "31394131 가위스토커 1호점 크롤링을 진행합니다.\n",
      "\n",
      "가위스토커 1호점의 명시적 총 블로그 리뷰 수: 45 \n",
      "\n",
      "▶▶ 가위스토커 1호점 의 블로그 탭: /hairshop/31394131/review/ugc \n",
      "\n",
      "해당 엘리먼트를 찾지 못했습니다.\n",
      "35346829 아톰헤어 성신여대본점 크롤링을 진행합니다.\n",
      "\n",
      "아톰헤어 성신여대본점의 명시적 총 블로그 리뷰 수: 178 \n",
      "\n",
      "▶▶ 아톰헤어 성신여대본점 의 블로그 탭: /hairshop/35346829/review/ugc \n",
      "\n",
      "1243603571 다온헤어 크롤링을 진행합니다.\n",
      "\n",
      "다온헤어의 명시적 총 블로그 리뷰 수: 220 \n",
      "\n",
      "▶▶ 다온헤어 의 블로그 탭: /hairshop/1243603571/review/ugc \n",
      "\n"
     ]
    },
    {
     "data": {
      "application/vnd.jupyter.widget-view+json": {
       "model_id": "aad6e1841f3446ed87690821c685598f",
       "version_major": 2,
       "version_minor": 0
      },
      "text/plain": [
       "HBox(children=(IntProgress(value=0, max=14), HTML(value='')))"
      ]
     },
     "metadata": {},
     "output_type": "display_data"
    },
    {
     "name": "stdout",
     "output_type": "stream",
     "text": [
      "\n",
      "★ 이가자헤어비스 상봉홈플러스점의 블로그 리뷰 썸네일 크롤링 성공!\n",
      "해당 엘리먼트를 찾지 못했습니다.\n"
     ]
    },
    {
     "data": {
      "application/vnd.jupyter.widget-view+json": {
       "model_id": "d02401beb771403e829e691d0c4d86a1",
       "version_major": 2,
       "version_minor": 0
      },
      "text/plain": [
       "HBox(children=(IntProgress(value=0, max=43), HTML(value='')))"
      ]
     },
     "metadata": {},
     "output_type": "display_data"
    },
    {
     "name": "stdout",
     "output_type": "stream",
     "text": [
      "\n",
      "★ 가위스토커 1호점의 블로그 리뷰 썸네일 크롤링 성공!\n",
      "해당 엘리먼트를 찾지 못했습니다.\n",
      "해당 엘리먼트를 찾지 못했습니다.\n"
     ]
    },
    {
     "data": {
      "application/vnd.jupyter.widget-view+json": {
       "model_id": "669d1ca5533c40c5b11106085ff5a82c",
       "version_major": 2,
       "version_minor": 0
      },
      "text/plain": [
       "HBox(children=(IntProgress(value=0), HTML(value='')))"
      ]
     },
     "metadata": {},
     "output_type": "display_data"
    },
    {
     "name": "stdout",
     "output_type": "stream",
     "text": [
      "\n"
     ]
    },
    {
     "data": {
      "application/vnd.jupyter.widget-view+json": {
       "model_id": "aa7d615620634b6b84d99c7f0a4b2b6f",
       "version_major": 2,
       "version_minor": 0
      },
      "text/plain": [
       "HBox(children=(IntProgress(value=0), HTML(value='')))"
      ]
     },
     "metadata": {},
     "output_type": "display_data"
    },
    {
     "name": "stdout",
     "output_type": "stream",
     "text": [
      "★ 아톰헤어 성신여대본점의 블로그 리뷰 썸네일 크롤링 성공!\n",
      "\n",
      "★ 다온헤어의 블로그 리뷰 썸네일 크롤링 성공!\n",
      "478 ~ 482의 블로그 리뷰 크롤링을 시작합니다.\n",
      "\n",
      "35637556 리안헤어 송파역점 크롤링을 진행합니다.\n",
      "\n",
      "리안헤어 송파역점의 명시적 총 블로그 리뷰 수: 72 \n",
      "\n",
      "▶▶ 리안헤어 송파역점 의 블로그 탭: /hairshop/35637556/review/ugc \n",
      "\n",
      "32581885 제오헤어 등촌점 크롤링을 진행합니다.\n",
      "\n",
      "제오헤어 등촌점의 명시적 총 블로그 리뷰 수: 128 \n",
      "\n",
      "▶▶ 제오헤어 등촌점 의 블로그 탭: /hairshop/32581885/review/ugc \n",
      "\n",
      "38448390 켄맨즈헤어 크롤링을 진행합니다.\n",
      "\n",
      "켄맨즈헤어의 명시적 총 블로그 리뷰 수: 893 \n",
      "\n",
      "▶▶ 켄맨즈헤어 의 블로그 탭: /hairshop/38448390/review/ugc \n",
      "\n",
      "35708383 오랑헤어 압구정본점 크롤링을 진행합니다.\n",
      "\n",
      "오랑헤어 압구정본점의 명시적 총 블로그 리뷰 수: 626 \n",
      "\n",
      "▶▶ 오랑헤어 압구정본점 의 블로그 탭: /hairshop/35708383/review/ugc \n",
      "\n",
      "1540740349 박준뷰티랩 명동점 크롤링을 진행합니다.\n",
      "\n",
      "박준뷰티랩 명동점의 명시적 총 블로그 리뷰 수: 132 \n",
      "\n",
      "▶▶ 박준뷰티랩 명동점 의 블로그 탭: /hairshop/1540740349/review/ugc \n",
      "\n",
      "해당 엘리먼트를 찾지 못했습니다.\n"
     ]
    },
    {
     "data": {
      "application/vnd.jupyter.widget-view+json": {
       "model_id": "a6949e5fa7114ff7a5cb7392e2c7f469",
       "version_major": 2,
       "version_minor": 0
      },
      "text/plain": [
       "HBox(children=(IntProgress(value=0, max=72), HTML(value='')))"
      ]
     },
     "metadata": {},
     "output_type": "display_data"
    },
    {
     "name": "stdout",
     "output_type": "stream",
     "text": [
      "\n",
      "★ 리안헤어 송파역점의 블로그 리뷰 썸네일 크롤링 성공!\n",
      "해당 엘리먼트를 찾지 못했습니다.\n"
     ]
    },
    {
     "data": {
      "application/vnd.jupyter.widget-view+json": {
       "model_id": "ad979b35b8e5428a92fd621717ae71ce",
       "version_major": 2,
       "version_minor": 0
      },
      "text/plain": [
       "HBox(children=(IntProgress(value=0), HTML(value='')))"
      ]
     },
     "metadata": {},
     "output_type": "display_data"
    },
    {
     "name": "stdout",
     "output_type": "stream",
     "text": [
      "\n",
      "★ 제오헤어 등촌점의 블로그 리뷰 썸네일 크롤링 성공!\n",
      "해당 엘리먼트를 찾지 못했습니다.\n"
     ]
    },
    {
     "data": {
      "application/vnd.jupyter.widget-view+json": {
       "model_id": "d63e1b1ca527418e8fcdd3374216d1a9",
       "version_major": 2,
       "version_minor": 0
      },
      "text/plain": [
       "HBox(children=(IntProgress(value=0), HTML(value='')))"
      ]
     },
     "metadata": {},
     "output_type": "display_data"
    },
    {
     "name": "stdout",
     "output_type": "stream",
     "text": [
      "\n",
      "★ 켄맨즈헤어의 블로그 리뷰 썸네일 크롤링 성공!\n",
      "해당 엘리먼트를 찾지 못했습니다.\n",
      "해당 엘리먼트를 찾지 못했습니다.\n"
     ]
    },
    {
     "data": {
      "application/vnd.jupyter.widget-view+json": {
       "model_id": "1b6ce40c1c8e4492b79dd9a8b898f5a4",
       "version_major": 2,
       "version_minor": 0
      },
      "text/plain": [
       "HBox(children=(IntProgress(value=0, max=101), HTML(value='')))"
      ]
     },
     "metadata": {},
     "output_type": "display_data"
    },
    {
     "name": "stdout",
     "output_type": "stream",
     "text": [
      "\n",
      "★ 박준뷰티랩 명동점의 블로그 리뷰 썸네일 크롤링 성공!\n"
     ]
    },
    {
     "data": {
      "application/vnd.jupyter.widget-view+json": {
       "model_id": "f4c0126849c5477eb918b8cf8b430f28",
       "version_major": 2,
       "version_minor": 0
      },
      "text/plain": [
       "HBox(children=(IntProgress(value=0, max=150), HTML(value='')))"
      ]
     },
     "metadata": {},
     "output_type": "display_data"
    },
    {
     "name": "stdout",
     "output_type": "stream",
     "text": [
      "\n",
      "★ 오랑헤어 압구정본점의 블로그 리뷰 썸네일 크롤링 성공!\n",
      "483 ~ 487의 블로그 리뷰 크롤링을 시작합니다.\n",
      "\n",
      "36772322 리안헤어 이수이마트점 크롤링을 진행합니다.\n",
      "\n",
      "리안헤어 이수이마트점의 명시적 총 블로그 리뷰 수: 11 \n",
      "\n",
      "▶▶ 리안헤어 이수이마트점 의 블로그 탭: /hairshop/36772322/review/ugc \n",
      "\n",
      "1234677764 박승철헤어스투디오 개포동역점 크롤링을 진행합니다.\n",
      "\n",
      "박승철헤어스투디오 개포동역점의 명시적 총 블로그 리뷰 수: 233 \n",
      "\n",
      "▶▶ 박승철헤어스투디오 개포동역점 의 블로그 탭: /hairshop/1234677764/review/ugc \n",
      "\n",
      "37346275 이지헤어 연남점 크롤링을 진행합니다.\n",
      "\n",
      "이지헤어 연남점의 명시적 총 블로그 리뷰 수: 756 \n",
      "\n",
      "▶▶ 이지헤어 연남점 의 블로그 탭: /hairshop/37346275/review/ugc \n",
      "\n",
      "해당 엘리먼트를 찾지 못했습니다.\n",
      "34635838 이철헤어커커 여의도역점 크롤링을 진행합니다.\n",
      "\n",
      "이철헤어커커 여의도역점의 명시적 총 블로그 리뷰 수: 141 \n",
      "\n",
      "▶▶ 이철헤어커커 여의도역점 의 블로그 탭: /hairshop/34635838/review/ugc \n",
      "\n",
      "37886017 까리노헤어 크롤링을 진행합니다.\n",
      "\n",
      "까리노헤어의 명시적 총 블로그 리뷰 수: 42 \n",
      "\n",
      "▶▶ 까리노헤어 의 블로그 탭: /hairshop/37886017/review/ugc \n",
      "\n"
     ]
    },
    {
     "data": {
      "application/vnd.jupyter.widget-view+json": {
       "model_id": "190ac4ba00284e4dbade7aba9e3fe4d7",
       "version_major": 2,
       "version_minor": 0
      },
      "text/plain": [
       "HBox(children=(IntProgress(value=0, max=11), HTML(value='')))"
      ]
     },
     "metadata": {},
     "output_type": "display_data"
    },
    {
     "name": "stdout",
     "output_type": "stream",
     "text": [
      "\n",
      "★ 리안헤어 이수이마트점의 블로그 리뷰 썸네일 크롤링 성공!\n",
      "해당 엘리먼트를 찾지 못했습니다.해당 엘리먼트를 찾지 못했습니다.해당 엘리먼트를 찾지 못했습니다.\n",
      "\n",
      "\n"
     ]
    },
    {
     "data": {
      "application/vnd.jupyter.widget-view+json": {
       "model_id": "72737a04a0ad41d9aa81035f4f7b32cc",
       "version_major": 2,
       "version_minor": 0
      },
      "text/plain": [
       "HBox(children=(IntProgress(value=0, max=32), HTML(value='')))"
      ]
     },
     "metadata": {},
     "output_type": "display_data"
    },
    {
     "data": {
      "application/vnd.jupyter.widget-view+json": {
       "model_id": "2c3984c7b9ca474c818f83ff1574f37c",
       "version_major": 2,
       "version_minor": 0
      },
      "text/plain": [
       "HBox(children=(IntProgress(value=0, max=90), HTML(value='')))"
      ]
     },
     "metadata": {},
     "output_type": "display_data"
    },
    {
     "data": {
      "application/vnd.jupyter.widget-view+json": {
       "model_id": "15d5cbf86b3e4847bfcc93bdb12c31fa",
       "version_major": 2,
       "version_minor": 0
      },
      "text/plain": [
       "HBox(children=(IntProgress(value=0, max=90), HTML(value='')))"
      ]
     },
     "metadata": {},
     "output_type": "display_data"
    },
    {
     "name": "stdout",
     "output_type": "stream",
     "text": [
      "\n",
      "★ 까리노헤어의 블로그 리뷰 썸네일 크롤링 성공!\n",
      "\n",
      "★ 박승철헤어스투디오 개포동역점의 블로그 리뷰 썸네일 크롤링 성공!\n",
      "\n",
      "★ 이지헤어 연남점의 블로그 리뷰 썸네일 크롤링 성공!\n",
      "해당 엘리먼트를 찾지 못했습니다.\n"
     ]
    },
    {
     "data": {
      "application/vnd.jupyter.widget-view+json": {
       "model_id": "99c4eb74e9a849b784655a9e3183ac92",
       "version_major": 2,
       "version_minor": 0
      },
      "text/plain": [
       "HBox(children=(IntProgress(value=0, max=90), HTML(value='')))"
      ]
     },
     "metadata": {},
     "output_type": "display_data"
    },
    {
     "name": "stdout",
     "output_type": "stream",
     "text": [
      "\n",
      "★ 이철헤어커커 여의도역점의 블로그 리뷰 썸네일 크롤링 성공!\n",
      "488 ~ 492의 블로그 리뷰 크롤링을 시작합니다.\n",
      "\n",
      "32359012 프리티살롱 청담점 크롤링을 진행합니다.\n",
      "\n",
      "프리티살롱 청담점의 명시적 총 블로그 리뷰 수: 174 \n",
      "\n",
      "▶▶ 프리티살롱 청담점 의 블로그 탭: /hairshop/32359012/review/ugc \n",
      "\n",
      "1039364681 파란헤어 약수점 크롤링을 진행합니다.\n",
      "\n",
      "파란헤어 약수점의 명시적 총 블로그 리뷰 수: 189 \n",
      "\n",
      "▶▶ 파란헤어 약수점 의 블로그 탭: /hairshop/1039364681/review/ugc \n",
      "\n",
      "20721082 이철헤어커커 현대백화점 디큐브시티 크롤링을 진행합니다.\n",
      "\n",
      "이철헤어커커 현대백화점 디큐브시티의 명시적 총 블로그 리뷰 수: 9 \n",
      "\n",
      "▶▶ 이철헤어커커 현대백화점 디큐브시티 의 블로그 탭: /hairshop/20721082/review/ugc \n",
      "\n",
      "1822958774 32비긴 크롤링을 진행합니다.\n",
      "\n",
      "32비긴의 명시적 총 블로그 리뷰 수: 312 \n",
      "\n",
      "▶▶ 32비긴 의 블로그 탭: /hairshop/1822958774/review/ugc \n",
      "\n",
      "블로그 리뷰가 없습니다!\n",
      "다음 업소의 크롤링을 진행합니다.\n",
      "★ 32비긴의 블로그 리뷰 썸네일 크롤링 성공!\n",
      "★ 아이벨르팜므 발산역점의 블로그 리뷰 썸네일 크롤링 성공!\n"
     ]
    },
    {
     "ename": "KeyboardInterrupt",
     "evalue": "",
     "output_type": "error",
     "traceback": [
      "\u001b[1;31m---------------------------------------------------------------------------\u001b[0m",
      "\u001b[1;31mKeyboardInterrupt\u001b[0m                         Traceback (most recent call last)",
      "\u001b[1;32m<ipython-input-13-31e51116d274>\u001b[0m in \u001b[0;36m<module>\u001b[1;34m\u001b[0m\n\u001b[0;32m     50\u001b[0m         tp.starmap(\n\u001b[0;32m     51\u001b[0m             \u001b[0mm_place_save\u001b[0m\u001b[1;33m\u001b[0m\u001b[1;33m\u001b[0m\u001b[0m\n\u001b[1;32m---> 52\u001b[1;33m             \u001b[1;33m,\u001b[0m \u001b[1;33m[\u001b[0m\u001b[1;33m(\u001b[0m\u001b[0mq\u001b[0m\u001b[1;33m.\u001b[0m\u001b[0mget\u001b[0m\u001b[1;33m(\u001b[0m\u001b[1;33m)\u001b[0m\u001b[1;33m,\u001b[0m \u001b[0mdf_place\u001b[0m\u001b[1;33m[\u001b[0m\u001b[1;34m'store_id_only_num'\u001b[0m\u001b[1;33m]\u001b[0m\u001b[1;33m[\u001b[0m\u001b[0mii\u001b[0m\u001b[1;33m]\u001b[0m\u001b[1;33m)\u001b[0m \u001b[1;32mfor\u001b[0m \u001b[0mii\u001b[0m \u001b[1;32min\u001b[0m \u001b[0mrange\u001b[0m\u001b[1;33m(\u001b[0m\u001b[0mstart_no\u001b[0m\u001b[1;33m,\u001b[0m \u001b[0mend\u001b[0m\u001b[1;33m)\u001b[0m\u001b[1;33m]\u001b[0m\u001b[1;33m\u001b[0m\u001b[1;33m\u001b[0m\u001b[0m\n\u001b[0m\u001b[0;32m     53\u001b[0m         )\n\u001b[0;32m     54\u001b[0m \u001b[1;33m\u001b[0m\u001b[0m\n",
      "\u001b[1;32m~\\Anaconda3\\lib\\multiprocessing\\pool.py\u001b[0m in \u001b[0;36mstarmap\u001b[1;34m(self, func, iterable, chunksize)\u001b[0m\n\u001b[0;32m    274\u001b[0m         \u001b[0;31m`\u001b[0m\u001b[0mfunc\u001b[0m\u001b[0;31m`\u001b[0m \u001b[1;32mand\u001b[0m \u001b[1;33m(\u001b[0m\u001b[0ma\u001b[0m\u001b[1;33m,\u001b[0m \u001b[0mb\u001b[0m\u001b[1;33m)\u001b[0m \u001b[0mbecomes\u001b[0m \u001b[0mfunc\u001b[0m\u001b[1;33m(\u001b[0m\u001b[0ma\u001b[0m\u001b[1;33m,\u001b[0m \u001b[0mb\u001b[0m\u001b[1;33m)\u001b[0m\u001b[1;33m.\u001b[0m\u001b[1;33m\u001b[0m\u001b[1;33m\u001b[0m\u001b[0m\n\u001b[0;32m    275\u001b[0m         '''\n\u001b[1;32m--> 276\u001b[1;33m         \u001b[1;32mreturn\u001b[0m \u001b[0mself\u001b[0m\u001b[1;33m.\u001b[0m\u001b[0m_map_async\u001b[0m\u001b[1;33m(\u001b[0m\u001b[0mfunc\u001b[0m\u001b[1;33m,\u001b[0m \u001b[0miterable\u001b[0m\u001b[1;33m,\u001b[0m \u001b[0mstarmapstar\u001b[0m\u001b[1;33m,\u001b[0m \u001b[0mchunksize\u001b[0m\u001b[1;33m)\u001b[0m\u001b[1;33m.\u001b[0m\u001b[0mget\u001b[0m\u001b[1;33m(\u001b[0m\u001b[1;33m)\u001b[0m\u001b[1;33m\u001b[0m\u001b[1;33m\u001b[0m\u001b[0m\n\u001b[0m\u001b[0;32m    277\u001b[0m \u001b[1;33m\u001b[0m\u001b[0m\n\u001b[0;32m    278\u001b[0m     def starmap_async(self, func, iterable, chunksize=None, callback=None,\n",
      "\u001b[1;32m~\\Anaconda3\\lib\\multiprocessing\\pool.py\u001b[0m in \u001b[0;36mget\u001b[1;34m(self, timeout)\u001b[0m\n\u001b[0;32m    649\u001b[0m \u001b[1;33m\u001b[0m\u001b[0m\n\u001b[0;32m    650\u001b[0m     \u001b[1;32mdef\u001b[0m \u001b[0mget\u001b[0m\u001b[1;33m(\u001b[0m\u001b[0mself\u001b[0m\u001b[1;33m,\u001b[0m \u001b[0mtimeout\u001b[0m\u001b[1;33m=\u001b[0m\u001b[1;32mNone\u001b[0m\u001b[1;33m)\u001b[0m\u001b[1;33m:\u001b[0m\u001b[1;33m\u001b[0m\u001b[1;33m\u001b[0m\u001b[0m\n\u001b[1;32m--> 651\u001b[1;33m         \u001b[0mself\u001b[0m\u001b[1;33m.\u001b[0m\u001b[0mwait\u001b[0m\u001b[1;33m(\u001b[0m\u001b[0mtimeout\u001b[0m\u001b[1;33m)\u001b[0m\u001b[1;33m\u001b[0m\u001b[1;33m\u001b[0m\u001b[0m\n\u001b[0m\u001b[0;32m    652\u001b[0m         \u001b[1;32mif\u001b[0m \u001b[1;32mnot\u001b[0m \u001b[0mself\u001b[0m\u001b[1;33m.\u001b[0m\u001b[0mready\u001b[0m\u001b[1;33m(\u001b[0m\u001b[1;33m)\u001b[0m\u001b[1;33m:\u001b[0m\u001b[1;33m\u001b[0m\u001b[1;33m\u001b[0m\u001b[0m\n\u001b[0;32m    653\u001b[0m             \u001b[1;32mraise\u001b[0m \u001b[0mTimeoutError\u001b[0m\u001b[1;33m\u001b[0m\u001b[1;33m\u001b[0m\u001b[0m\n",
      "\u001b[1;32m~\\Anaconda3\\lib\\multiprocessing\\pool.py\u001b[0m in \u001b[0;36mwait\u001b[1;34m(self, timeout)\u001b[0m\n\u001b[0;32m    646\u001b[0m \u001b[1;33m\u001b[0m\u001b[0m\n\u001b[0;32m    647\u001b[0m     \u001b[1;32mdef\u001b[0m \u001b[0mwait\u001b[0m\u001b[1;33m(\u001b[0m\u001b[0mself\u001b[0m\u001b[1;33m,\u001b[0m \u001b[0mtimeout\u001b[0m\u001b[1;33m=\u001b[0m\u001b[1;32mNone\u001b[0m\u001b[1;33m)\u001b[0m\u001b[1;33m:\u001b[0m\u001b[1;33m\u001b[0m\u001b[1;33m\u001b[0m\u001b[0m\n\u001b[1;32m--> 648\u001b[1;33m         \u001b[0mself\u001b[0m\u001b[1;33m.\u001b[0m\u001b[0m_event\u001b[0m\u001b[1;33m.\u001b[0m\u001b[0mwait\u001b[0m\u001b[1;33m(\u001b[0m\u001b[0mtimeout\u001b[0m\u001b[1;33m)\u001b[0m\u001b[1;33m\u001b[0m\u001b[1;33m\u001b[0m\u001b[0m\n\u001b[0m\u001b[0;32m    649\u001b[0m \u001b[1;33m\u001b[0m\u001b[0m\n\u001b[0;32m    650\u001b[0m     \u001b[1;32mdef\u001b[0m \u001b[0mget\u001b[0m\u001b[1;33m(\u001b[0m\u001b[0mself\u001b[0m\u001b[1;33m,\u001b[0m \u001b[0mtimeout\u001b[0m\u001b[1;33m=\u001b[0m\u001b[1;32mNone\u001b[0m\u001b[1;33m)\u001b[0m\u001b[1;33m:\u001b[0m\u001b[1;33m\u001b[0m\u001b[1;33m\u001b[0m\u001b[0m\n",
      "\u001b[1;32m~\\Anaconda3\\lib\\threading.py\u001b[0m in \u001b[0;36mwait\u001b[1;34m(self, timeout)\u001b[0m\n\u001b[0;32m    550\u001b[0m             \u001b[0msignaled\u001b[0m \u001b[1;33m=\u001b[0m \u001b[0mself\u001b[0m\u001b[1;33m.\u001b[0m\u001b[0m_flag\u001b[0m\u001b[1;33m\u001b[0m\u001b[1;33m\u001b[0m\u001b[0m\n\u001b[0;32m    551\u001b[0m             \u001b[1;32mif\u001b[0m \u001b[1;32mnot\u001b[0m \u001b[0msignaled\u001b[0m\u001b[1;33m:\u001b[0m\u001b[1;33m\u001b[0m\u001b[1;33m\u001b[0m\u001b[0m\n\u001b[1;32m--> 552\u001b[1;33m                 \u001b[0msignaled\u001b[0m \u001b[1;33m=\u001b[0m \u001b[0mself\u001b[0m\u001b[1;33m.\u001b[0m\u001b[0m_cond\u001b[0m\u001b[1;33m.\u001b[0m\u001b[0mwait\u001b[0m\u001b[1;33m(\u001b[0m\u001b[0mtimeout\u001b[0m\u001b[1;33m)\u001b[0m\u001b[1;33m\u001b[0m\u001b[1;33m\u001b[0m\u001b[0m\n\u001b[0m\u001b[0;32m    553\u001b[0m             \u001b[1;32mreturn\u001b[0m \u001b[0msignaled\u001b[0m\u001b[1;33m\u001b[0m\u001b[1;33m\u001b[0m\u001b[0m\n\u001b[0;32m    554\u001b[0m \u001b[1;33m\u001b[0m\u001b[0m\n",
      "\u001b[1;32m~\\Anaconda3\\lib\\threading.py\u001b[0m in \u001b[0;36mwait\u001b[1;34m(self, timeout)\u001b[0m\n\u001b[0;32m    294\u001b[0m         \u001b[1;32mtry\u001b[0m\u001b[1;33m:\u001b[0m    \u001b[1;31m# restore state no matter what (e.g., KeyboardInterrupt)\u001b[0m\u001b[1;33m\u001b[0m\u001b[1;33m\u001b[0m\u001b[0m\n\u001b[0;32m    295\u001b[0m             \u001b[1;32mif\u001b[0m \u001b[0mtimeout\u001b[0m \u001b[1;32mis\u001b[0m \u001b[1;32mNone\u001b[0m\u001b[1;33m:\u001b[0m\u001b[1;33m\u001b[0m\u001b[1;33m\u001b[0m\u001b[0m\n\u001b[1;32m--> 296\u001b[1;33m                 \u001b[0mwaiter\u001b[0m\u001b[1;33m.\u001b[0m\u001b[0macquire\u001b[0m\u001b[1;33m(\u001b[0m\u001b[1;33m)\u001b[0m\u001b[1;33m\u001b[0m\u001b[1;33m\u001b[0m\u001b[0m\n\u001b[0m\u001b[0;32m    297\u001b[0m                 \u001b[0mgotit\u001b[0m \u001b[1;33m=\u001b[0m \u001b[1;32mTrue\u001b[0m\u001b[1;33m\u001b[0m\u001b[1;33m\u001b[0m\u001b[0m\n\u001b[0;32m    298\u001b[0m             \u001b[1;32melse\u001b[0m\u001b[1;33m:\u001b[0m\u001b[1;33m\u001b[0m\u001b[1;33m\u001b[0m\u001b[0m\n",
      "\u001b[1;31mKeyboardInterrupt\u001b[0m: "
     ]
    }
   ],
   "source": [
    "# 플레이스 블로그 크롤링 함수의 스레딩 적용\n",
    "\n",
    "# =========================================================================\n",
    "# 총 15743페이지 블로그 리뷰, 약 15만건 이상 블로그 본문 존재\n",
    "# 1인당 대략 3100페이지의 블로그 리뷰 크롤링\n",
    "\n",
    "# =========================================================================\n",
    "# A: start = 0, end = 363 → a: 0      이한울 완료 0 ~ 363 \n",
    "# df_place['blog'][:321].sum() = 3533\n",
    "# 2020-05-14 이한울 0 ~ 363 다시 진행중 -> 17시 35분 완료\n",
    "\n",
    "# A: start = 363, end = 768 → a: 363    2020-05-14 이한울 시작\n",
    "# df_place['blog'][365:764].sum() = 3326\n",
    "\n",
    "# B: start = 768, end = 1120 → a: 768\n",
    "\n",
    "# C: start = 1120, end = 1540 → a: 1120\n",
    "\n",
    "# D: start = 1540, end = 1885 → a: 1540\n",
    "\n",
    "# E: start = 1885, end = 2727 → a: 1885\n",
    "\n",
    "# =========================================================================\n",
    "# start_no: 본인의 크롤링 시작 index\n",
    "# csv파일 저장(넘버링)을 위해 본인의 시작 index를 a에 저장\n",
    "a = 0\n",
    "# 이한울 original index 366\n",
    "start_no = 486\n",
    "\n",
    "# end: 5개씩 스레딩하므로 start_no + 5\n",
    "end = (start_no + 5)\n",
    "\n",
    "# end_no: 본인의 크롤링 종료 index. \n",
    "end_no = 768\n",
    "\n",
    "# =========================================================================\n",
    "\n",
    "# 2020-05-11 (월) 14:46 크롤링 시작\n",
    "\n",
    "# E를 선택하신 분은 for문의 범위를 따로 잡으셔야 합니다. max_t로 나눴을 때 나머지 없이 딱 맞게 설정해주세요.\n",
    "max_t = 5\n",
    "\n",
    "for i in tqdm_notebook(range(int(len(df_place[start_no : end_no]) / max_t))):\n",
    "    \n",
    "    q = Queue(maxsize=5)\n",
    "    for _ in range(q.maxsize):\n",
    "        driver = Chrome('./chromedriver.exe', options=options)\n",
    "        q.put(driver)\n",
    "        \n",
    "    print(str(start_no) + ' ~ ' + str((end) - 1) + '의 블로그 리뷰 크롤링을 시작합니다.\\n')        \n",
    "    with ThreadPool(5) as tp:\n",
    "        # 스레드에 입력할 매개변수가 2개 이상일 경우 starmap을 사용한다.\n",
    "        tp.starmap(\n",
    "            m_place_save\n",
    "            , [(q.get(), df_place['store_id_only_num'][ii]) for ii in range(start_no, end)]\n",
    "        )\n",
    "        \n",
    "    start_no += 5\n",
    "    end += 5\n",
    "    \n",
    "    time.sleep(1)\n",
    "    if start_no > end_no:\n",
    "        break\n",
    "        \n",
    "# 크롤링 후 CSV 파일로 저장하기        \n",
    "df_blog_review.to_csv('./2020-05-14_place_blog-thumb (%i-%i).csv' %(a, end_no))\n",
    "df_blog_empty.to_csv('./2020-05-14_place_blog-empty (%i-%i).csv' %(a, end_no))\n",
    "df_blog_error.to_csv('./2020-05-14_place_blog-error (%i-%i).csv' %(a, end_no))"
   ]
  }
 ],
 "metadata": {
  "kernelspec": {
   "display_name": "Python 3",
   "language": "python",
   "name": "python3"
  },
  "language_info": {
   "codemirror_mode": {
    "name": "ipython",
    "version": 3
   },
   "file_extension": ".py",
   "mimetype": "text/x-python",
   "name": "python",
   "nbconvert_exporter": "python",
   "pygments_lexer": "ipython3",
   "version": "3.7.4"
  }
 },
 "nbformat": 4,
 "nbformat_minor": 2
}
